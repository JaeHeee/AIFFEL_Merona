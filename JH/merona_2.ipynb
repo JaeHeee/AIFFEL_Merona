{
 "cells": [
  {
   "cell_type": "markdown",
   "metadata": {
    "_uuid": "f03379ee467570732ebb2b3d20062fea0584d57d"
   },
   "source": [
    "# AIFFEL Kaggle 1"
   ]
  },
  {
   "cell_type": "markdown",
   "metadata": {},
   "source": [
    "---"
   ]
  },
  {
   "cell_type": "markdown",
   "metadata": {},
   "source": [
    "## Import"
   ]
  },
  {
   "cell_type": "code",
   "execution_count": 2,
   "metadata": {
    "_cell_guid": "b1076dfc-b9ad-4769-8c92-a6c4dae69d19",
    "_uuid": "8f2839f25d086af736a60e9eeb907d3b93b6e0e5"
   },
   "outputs": [
    {
     "data": {
      "text/plain": [
       "sys.version_info(major=3, minor=7, micro=6, releaselevel='final', serial=0)"
      ]
     },
     "execution_count": 2,
     "metadata": {},
     "output_type": "execute_result"
    }
   ],
   "source": [
    "import numpy as np\n",
    "import pandas as pd\n",
    "pd.set_option('display.max_rows', 500)\n",
    "pd.set_option('display.max_columns', 100)\n",
    "\n",
    "from itertools import product\n",
    "from sklearn.preprocessing import LabelEncoder\n",
    "from sklearn.metrics import mean_squared_error\n",
    "\n",
    "import seaborn as sns\n",
    "import matplotlib.pyplot as plt\n",
    "%matplotlib inline\n",
    "\n",
    "from xgboost import XGBRegressor\n",
    "from xgboost import plot_importance\n",
    "\n",
    "def plot_features(booster, figsize):    \n",
    "    fig, ax = plt.subplots(1,1,figsize=figsize)\n",
    "    return plot_importance(booster=booster, ax=ax)\n",
    "\n",
    "import time\n",
    "import sys\n",
    "import gc\n",
    "import pickle\n",
    "\n",
    "sys.version_info"
   ]
  },
  {
   "cell_type": "code",
   "execution_count": 2,
   "metadata": {
    "_uuid": "f0a1c729d4fb3d6609f9dfb163ebe92fa9dc654c"
   },
   "outputs": [],
   "source": [
    "items = pd.read_csv('../data/items.csv')\n",
    "shops = pd.read_csv('../data/shops.csv')\n",
    "cats = pd.read_csv('../data/item_categories.csv')\n",
    "train = pd.read_csv('../data/sales_train.csv')\n",
    "test  = pd.read_csv('../data/test.csv')"
   ]
  },
  {
   "cell_type": "markdown",
   "metadata": {},
   "source": [
    "## EDA"
   ]
  },
  {
   "cell_type": "markdown",
   "metadata": {
    "_uuid": "ed7a190645750a818e29a6291ba2553a91764c7c"
   },
   "source": [
    "### Outliers"
   ]
  },
  {
   "cell_type": "code",
   "execution_count": 3,
   "metadata": {
    "_uuid": "5a864412fafc3129a3e9bd5bb1f18a7cf0c62935"
   },
   "outputs": [
    {
     "data": {
      "text/plain": [
       "<matplotlib.axes._subplots.AxesSubplot at 0x7fec79f700d0>"
      ]
     },
     "execution_count": 3,
     "metadata": {},
     "output_type": "execute_result"
    },
    {
     "data": {
      "image/png": "[encoded data removed]",
      "text/plain": [
       "<Figure size 720x288 with 1 Axes>"
      ]
     },
     "metadata": {
      "needs_background": "light"
     },
     "output_type": "display_data"
    },
    {
     "data": {
      "image/png": "[encoded data removed]",
      "text/plain": [
       "<Figure size 720x288 with 1 Axes>"
      ]
     },
     "metadata": {
      "needs_background": "light"
     },
     "output_type": "display_data"
    }
   ],
   "source": [
    "plt.figure(figsize=(10,4))\n",
    "plt.xlim(-100, 3000)\n",
    "sns.boxplot(x=train.item_cnt_day)\n",
    "\n",
    "plt.figure(figsize=(10,4))\n",
    "plt.xlim(train.item_price.min(), train.item_price.max()*1.1)\n",
    "sns.boxplot(x=train.item_price)"
   ]
  },
  {
   "cell_type": "code",
   "execution_count": 4,
   "metadata": {
    "_uuid": "7e621535d112603c60aeb2c2f83dbbf96d36b732"
   },
   "outputs": [],
   "source": [
    "train = train[train.item_price<300000]\n",
    "train = train[train.item_cnt_day<1000]"
   ]
  },
  {
   "cell_type": "code",
   "execution_count": 5,
   "metadata": {},
   "outputs": [
    {
     "data": {
      "text/plain": [
       "<matplotlib.axes._subplots.AxesSubplot at 0x7fec79eae990>"
      ]
     },
     "execution_count": 5,
     "metadata": {},
     "output_type": "execute_result"
    },
    {
     "data": {
      "image/png": "[encoded data removed]",
      "text/plain": [
       "<Figure size 720x288 with 1 Axes>"
      ]
     },
     "metadata": {
      "needs_background": "light"
     },
     "output_type": "display_data"
    }
   ],
   "source": [
    "# 아이템 가격이 0 보다 작은 것들 존재\n",
    "plt.figure(figsize=(10,4))\n",
    "plt.xlim(train.item_price.min(), 0)\n",
    "sns.boxplot(x=train.item_price)"
   ]
  },
  {
   "cell_type": "code",
   "execution_count": 6,
   "metadata": {
    "_uuid": "0fc6b90b22fe232f4240ac8f965cc52b3db5526a"
   },
   "outputs": [],
   "source": [
    "# 아이템 가격 0보다 작은것들 중간값을 바꿔준다.\n",
    "train = train[train.item_price>0].reset_index(drop=True)\n",
    "train.loc[train.item_cnt_day < 1, \"item_cnt_day\"] = 0"
   ]
  },
  {
   "cell_type": "code",
   "execution_count": 7,
   "metadata": {
    "_uuid": "00fe91e9c482ea413abd774ff903fe3d152785dd"
   },
   "outputs": [],
   "source": [
    "# 가게 아이디와 가게 이름이 맞지않는 데이터 처리\n",
    "# Якутск Орджоникидзе, 56\n",
    "train.loc[train.shop_id == 0, 'shop_id'] = 57\n",
    "test.loc[test.shop_id == 0, 'shop_id'] = 57\n",
    "# Якутск ТЦ \"Центральный\"\n",
    "train.loc[train.shop_id == 1, 'shop_id'] = 58\n",
    "test.loc[test.shop_id == 1, 'shop_id'] = 58\n",
    "# Жуковский ул. Чкалова 39м²\n",
    "train.loc[train.shop_id == 10, 'shop_id'] = 11\n",
    "test.loc[test.shop_id == 10, 'shop_id'] = 11"
   ]
  },
  {
   "cell_type": "markdown",
   "metadata": {},
   "source": [
    "## Data Preprocessing"
   ]
  },
  {
   "cell_type": "markdown",
   "metadata": {
    "_uuid": "a30f0521464e1fa20444e66d24bbdcb76b93f6de"
   },
   "source": [
    "### Shops/Cats/Items preprocessing"
   ]
  },
  {
   "cell_type": "code",
   "execution_count": 8,
   "metadata": {},
   "outputs": [
    {
     "data": {
      "text/html": [
       "<div>\n",
       "<style scoped>\n",
       "    .dataframe tbody tr th:only-of-type {\n",
       "        vertical-align: middle;\n",
       "    }\n",
       "\n",
       "    .dataframe tbody tr th {\n",
       "        vertical-align: top;\n",
       "    }\n",
       "\n",
       "    .dataframe thead th {\n",
       "        text-align: right;\n",
       "    }\n",
       "</style>\n",
       "<table border=\"1\" class=\"dataframe\">\n",
       "  <thead>\n",
       "    <tr style=\"text-align: right;\">\n",
       "      <th></th>\n",
       "      <th>shop_name</th>\n",
       "      <th>shop_id</th>\n",
       "    </tr>\n",
       "  </thead>\n",
       "  <tbody>\n",
       "    <tr>\n",
       "      <th>0</th>\n",
       "      <td>!Якутск Орджоникидзе, 56 фран</td>\n",
       "      <td>0</td>\n",
       "    </tr>\n",
       "    <tr>\n",
       "      <th>1</th>\n",
       "      <td>!Якутск ТЦ \"Центральный\" фран</td>\n",
       "      <td>1</td>\n",
       "    </tr>\n",
       "    <tr>\n",
       "      <th>2</th>\n",
       "      <td>Адыгея ТЦ \"Мега\"</td>\n",
       "      <td>2</td>\n",
       "    </tr>\n",
       "    <tr>\n",
       "      <th>3</th>\n",
       "      <td>Балашиха ТРК \"Октябрь-Киномир\"</td>\n",
       "      <td>3</td>\n",
       "    </tr>\n",
       "    <tr>\n",
       "      <th>4</th>\n",
       "      <td>Волжский ТЦ \"Волга Молл\"</td>\n",
       "      <td>4</td>\n",
       "    </tr>\n",
       "  </tbody>\n",
       "</table>\n",
       "</div>"
      ],
      "text/plain": [
       "                        shop_name  shop_id\n",
       "0   !Якутск Орджоникидзе, 56 фран        0\n",
       "1   !Якутск ТЦ \"Центральный\" фран        1\n",
       "2                Адыгея ТЦ \"Мега\"        2\n",
       "3  Балашиха ТРК \"Октябрь-Киномир\"        3\n",
       "4        Волжский ТЦ \"Волга Молл\"        4"
      ]
     },
     "execution_count": 8,
     "metadata": {},
     "output_type": "execute_result"
    }
   ],
   "source": [
    "# 가게이름에서 첫번째 단어는 도시이름\n",
    "shops.head()"
   ]
  },
  {
   "cell_type": "code",
   "execution_count": 9,
   "metadata": {
    "_uuid": "12fae4c8d0c8f3e817307d1e0ffc6831e9a8d696"
   },
   "outputs": [],
   "source": [
    "# 가게이름 통일시켜주기\n",
    "shops.loc[shops.shop_name == 'Сергиев Посад ТЦ \"7Я\"', 'shop_name'] = 'СергиевПосад ТЦ \"7Я\"'\n",
    "# 도시이름 뽑아내기\n",
    "shops['city'] = shops['shop_name'].str.split(' ').map(lambda x: x[0])\n",
    "shops[\"category\"] = shops.shop_name.str.split(\" \").map( lambda x: x[1] )\n",
    "shops.loc[shops.city == \"!Якутск\", \"city\"] = \"Якутск\"\n",
    "# # city를 encoding 해서 새로운 feature 만들기\n",
    "# shops['city_code'] = LabelEncoder().fit_transform(shops['city'])\n",
    "# shops = shops[['shop_id','city_code']]\n",
    "\n"
   ]
  },
  {
   "cell_type": "code",
   "execution_count": 10,
   "metadata": {},
   "outputs": [],
   "source": [
    "category = []\n",
    "for cat in shops.category.unique():\n",
    "    if len(shops[shops.category == cat]) >= 5:\n",
    "        category.append(cat)\n",
    "shops.category = shops.category.apply( lambda x: x if (x in category) else \"other\" )"
   ]
  },
  {
   "cell_type": "code",
   "execution_count": 11,
   "metadata": {},
   "outputs": [],
   "source": [
    "from sklearn.preprocessing import LabelEncoder\n",
    "shops[\"shop_category\"] = LabelEncoder().fit_transform( shops.category )\n",
    "shops[\"shop_city\"] = LabelEncoder().fit_transform( shops.city )\n",
    "shops = shops[[\"shop_id\", \"shop_category\", \"shop_city\"]]"
   ]
  },
  {
   "cell_type": "code",
   "execution_count": 12,
   "metadata": {},
   "outputs": [],
   "source": [
    "cats[\"type_code\"] = cats.item_category_name.apply( lambda x: x.split(\" \")[0] ).astype(str)\n",
    "cats.loc[ (cats.type_code == \"Игровые\")| (cats.type_code == \"Аксессуары\"), \"category\" ] = \"Игры\""
   ]
  },
  {
   "cell_type": "code",
   "execution_count": 13,
   "metadata": {},
   "outputs": [],
   "source": [
    "category = []\n",
    "for cat in cats.type_code.unique():\n",
    "    if len(cats[cats.type_code == cat]) >= 5: \n",
    "        category.append( cat )\n",
    "cats.type_code = cats.type_code.apply(lambda x: x if (x in category) else \"etc\")\n"
   ]
  },
  {
   "cell_type": "code",
   "execution_count": 14,
   "metadata": {},
   "outputs": [],
   "source": [
    "cats.type_code = LabelEncoder().fit_transform(cats.type_code)\n",
    "cats[\"split\"] = cats.item_category_name.apply(lambda x: x.split(\"-\"))\n",
    "cats[\"subtype\"] = cats.split.apply(lambda x: x[1].strip() if len(x) > 1 else x[0].strip())\n",
    "cats[\"subtype_code\"] = LabelEncoder().fit_transform( cats[\"subtype\"] )\n",
    "cats = cats[[\"item_category_id\", \"subtype_code\", \"type_code\"]]"
   ]
  },
  {
   "cell_type": "code",
   "execution_count": 15,
   "metadata": {},
   "outputs": [
    {
     "data": {
      "text/html": [
       "<div>\n",
       "<style scoped>\n",
       "    .dataframe tbody tr th:only-of-type {\n",
       "        vertical-align: middle;\n",
       "    }\n",
       "\n",
       "    .dataframe tbody tr th {\n",
       "        vertical-align: top;\n",
       "    }\n",
       "\n",
       "    .dataframe thead th {\n",
       "        text-align: right;\n",
       "    }\n",
       "</style>\n",
       "<table border=\"1\" class=\"dataframe\">\n",
       "  <thead>\n",
       "    <tr style=\"text-align: right;\">\n",
       "      <th></th>\n",
       "      <th>item_category_id</th>\n",
       "      <th>subtype_code</th>\n",
       "      <th>type_code</th>\n",
       "    </tr>\n",
       "  </thead>\n",
       "  <tbody>\n",
       "    <tr>\n",
       "      <th>0</th>\n",
       "      <td>0</td>\n",
       "      <td>29</td>\n",
       "      <td>0</td>\n",
       "    </tr>\n",
       "    <tr>\n",
       "      <th>1</th>\n",
       "      <td>1</td>\n",
       "      <td>9</td>\n",
       "      <td>1</td>\n",
       "    </tr>\n",
       "    <tr>\n",
       "      <th>2</th>\n",
       "      <td>2</td>\n",
       "      <td>10</td>\n",
       "      <td>1</td>\n",
       "    </tr>\n",
       "    <tr>\n",
       "      <th>3</th>\n",
       "      <td>3</td>\n",
       "      <td>11</td>\n",
       "      <td>1</td>\n",
       "    </tr>\n",
       "    <tr>\n",
       "      <th>4</th>\n",
       "      <td>4</td>\n",
       "      <td>13</td>\n",
       "      <td>1</td>\n",
       "    </tr>\n",
       "  </tbody>\n",
       "</table>\n",
       "</div>"
      ],
      "text/plain": [
       "   item_category_id  subtype_code  type_code\n",
       "0                 0            29          0\n",
       "1                 1             9          1\n",
       "2                 2            10          1\n",
       "3                 3            11          1\n",
       "4                 4            13          1"
      ]
     },
     "execution_count": 15,
     "metadata": {},
     "output_type": "execute_result"
    }
   ],
   "source": [
    "# 메인 카테고리, 서브 카테고리로 구성되어있다.\n",
    "cats.head()"
   ]
  },
  {
   "cell_type": "code",
   "execution_count": 16,
   "metadata": {},
   "outputs": [],
   "source": [
    "# cats['split'] = cats['item_category_name'].str.split('-')\n",
    "# cats['type'] = cats['split'].map(lambda x: x[0].strip())\n",
    "# cats['type_code'] = LabelEncoder().fit_transform(cats['type'])\n",
    "# # if subtype is nan then type\n",
    "# cats['subtype'] = cats['split'].map(lambda x: x[1].strip() if len(x) > 1 else x[0].strip())\n",
    "# cats['subtype_code'] = LabelEncoder().fit_transform(cats['subtype'])\n",
    "# cats = cats[['item_category_id','type_code', 'subtype_code']]\n",
    "\n",
    "# # 아이템 이름 삭제\n",
    "# items.drop(['item_name'], axis=1, inplace=True)"
   ]
  },
  {
   "cell_type": "markdown",
   "metadata": {},
   "source": [
    "### Item"
   ]
  },
  {
   "cell_type": "code",
   "execution_count": 17,
   "metadata": {},
   "outputs": [],
   "source": [
    "import re\n",
    "def name_correction(x):\n",
    "    x = x.lower() # all letters lower case\n",
    "    x = x.partition('[')[0] # partition by square brackets\n",
    "    x = x.partition('(')[0] # partition by curly brackets\n",
    "    x = re.sub('[^A-Za-z0-9А-Яа-я]+', ' ', x) # remove special characters\n",
    "    x = x.replace('  ', ' ') # replace double spaces with single spaces\n",
    "    x = x.strip() # remove leading and trailing white space\n",
    "    return x"
   ]
  },
  {
   "cell_type": "code",
   "execution_count": 18,
   "metadata": {},
   "outputs": [
    {
     "name": "stderr",
     "output_type": "stream",
     "text": [
      "/home/aiffel0046/anaconda3/envs/aiffel/lib/python3.7/site-packages/ipykernel_launcher.py:2: FutureWarning: Columnar iteration over characters will be deprecated in future releases.\n",
      "  \n",
      "/home/aiffel0046/anaconda3/envs/aiffel/lib/python3.7/site-packages/ipykernel_launcher.py:3: FutureWarning: Columnar iteration over characters will be deprecated in future releases.\n",
      "  This is separate from the ipykernel package so we can avoid doing imports until\n"
     ]
    }
   ],
   "source": [
    "# split item names by first bracket\n",
    "items[\"name1\"], items[\"name2\"] = items.item_name.str.split(\"[\", 1).str\n",
    "items[\"name1\"], items[\"name3\"] = items.item_name.str.split(\"(\", 1).str\n",
    "\n",
    "# replace special characters and turn to lower case\n",
    "items[\"name2\"] = items.name2.str.replace('[^A-Za-z0-9А-Яа-я]+', \" \").str.lower()\n",
    "items[\"name3\"] = items.name3.str.replace('[^A-Za-z0-9А-Яа-я]+', \" \").str.lower()\n",
    "\n",
    "# fill nulls with '0'\n",
    "items = items.fillna('0')\n",
    "\n",
    "items[\"item_name\"] = items[\"item_name\"].apply(lambda x: name_correction(x))\n",
    "\n",
    "# return all characters except the last if name 2 is not \"0\" - the closing bracket\n",
    "items.name2 = items.name2.apply( lambda x: x[:-1] if x !=\"0\" else \"0\")"
   ]
  },
  {
   "cell_type": "code",
   "execution_count": 19,
   "metadata": {},
   "outputs": [],
   "source": [
    "items[\"type\"] = items.name2.apply(lambda x: x[0:8] if x.split(\" \")[0] == \"xbox\" else x.split(\" \")[0] )\n",
    "items.loc[(items.type == \"x360\") | (items.type == \"xbox360\") | (items.type == \"xbox 360\") ,\"type\"] = \"xbox 360\"\n",
    "items.loc[ items.type == \"\", \"type\"] = \"mac\"\n",
    "items.type = items.type.apply( lambda x: x.replace(\" \", \"\") )\n",
    "items.loc[ (items.type == 'pc' )| (items.type == 'pс') | (items.type == \"pc\"), \"type\" ] = \"pc\"\n",
    "items.loc[ items.type == 'рs3' , \"type\"] = \"ps3\""
   ]
  },
  {
   "cell_type": "code",
   "execution_count": 20,
   "metadata": {},
   "outputs": [],
   "source": [
    "group_sum = items.groupby([\"type\"]).agg({\"item_id\": \"count\"})\n",
    "group_sum = group_sum.reset_index()\n",
    "drop_cols = []\n",
    "for cat in group_sum.type.unique():\n",
    "    if group_sum.loc[(group_sum.type == cat), \"item_id\"].values[0] <40:\n",
    "        drop_cols.append(cat)\n",
    "items.name2 = items.name2.apply( lambda x: \"other\" if (x in drop_cols) else x )\n",
    "items = items.drop([\"type\"], axis = 1)"
   ]
  },
  {
   "cell_type": "code",
   "execution_count": 21,
   "metadata": {},
   "outputs": [
    {
     "data": {
      "text/html": [
       "<div>\n",
       "<style scoped>\n",
       "    .dataframe tbody tr th:only-of-type {\n",
       "        vertical-align: middle;\n",
       "    }\n",
       "\n",
       "    .dataframe tbody tr th {\n",
       "        vertical-align: top;\n",
       "    }\n",
       "\n",
       "    .dataframe thead th {\n",
       "        text-align: right;\n",
       "    }\n",
       "</style>\n",
       "<table border=\"1\" class=\"dataframe\">\n",
       "  <thead>\n",
       "    <tr style=\"text-align: right;\">\n",
       "      <th></th>\n",
       "      <th>item_id</th>\n",
       "      <th>item_category_id</th>\n",
       "      <th>name2</th>\n",
       "      <th>name3</th>\n",
       "    </tr>\n",
       "  </thead>\n",
       "  <tbody>\n",
       "    <tr>\n",
       "      <th>0</th>\n",
       "      <td>0</td>\n",
       "      <td>40</td>\n",
       "      <td>4</td>\n",
       "      <td>1331</td>\n",
       "    </tr>\n",
       "    <tr>\n",
       "      <th>1</th>\n",
       "      <td>1</td>\n",
       "      <td>76</td>\n",
       "      <td>64</td>\n",
       "      <td>42</td>\n",
       "    </tr>\n",
       "    <tr>\n",
       "      <th>2</th>\n",
       "      <td>2</td>\n",
       "      <td>40</td>\n",
       "      <td>4</td>\n",
       "      <td>1011</td>\n",
       "    </tr>\n",
       "    <tr>\n",
       "      <th>3</th>\n",
       "      <td>3</td>\n",
       "      <td>40</td>\n",
       "      <td>4</td>\n",
       "      <td>1010</td>\n",
       "    </tr>\n",
       "    <tr>\n",
       "      <th>4</th>\n",
       "      <td>4</td>\n",
       "      <td>40</td>\n",
       "      <td>4</td>\n",
       "      <td>1572</td>\n",
       "    </tr>\n",
       "  </tbody>\n",
       "</table>\n",
       "</div>"
      ],
      "text/plain": [
       "   item_id  item_category_id  name2  name3\n",
       "0        0                40      4   1331\n",
       "1        1                76     64     42\n",
       "2        2                40      4   1011\n",
       "3        3                40      4   1010\n",
       "4        4                40      4   1572"
      ]
     },
     "execution_count": 21,
     "metadata": {},
     "output_type": "execute_result"
    }
   ],
   "source": [
    "items.name2 = LabelEncoder().fit_transform(items.name2)\n",
    "items.name3 = LabelEncoder().fit_transform(items.name3)\n",
    "\n",
    "items.drop([\"item_name\", \"name1\"],axis = 1, inplace= True)\n",
    "items.head()\n"
   ]
  },
  {
   "cell_type": "code",
   "execution_count": 22,
   "metadata": {},
   "outputs": [],
   "source": [
    "# from itertools import product\n",
    "# import time\n",
    "# ts = time.time()\n",
    "# matrix = []\n",
    "# cols  = [\"date_block_num\", \"shop_id\", \"item_id\"]\n",
    "# for i in range(34):\n",
    "#     sales = train[train.date_block_num == i]\n",
    "#     matrix.append( np.array(list( product( [i], sales.shop_id.unique(), sales.item_id.unique() ) ), dtype = np.int16) )\n",
    "\n",
    "# matrix = pd.DataFrame( np.vstack(matrix), columns = cols )\n",
    "# matrix[\"date_block_num\"] = matrix[\"date_block_num\"].astype(np.int8)\n",
    "# matrix[\"shop_id\"] = matrix[\"shop_id\"].astype(np.int8)\n",
    "# matrix[\"item_id\"] = matrix[\"item_id\"].astype(np.int16)\n",
    "# matrix.sort_values( cols, inplace = True )\n",
    "# time.time()- ts"
   ]
  },
  {
   "cell_type": "markdown",
   "metadata": {
    "_uuid": "62c5f83fa222595da99294f465ab28e80ce415e9"
   },
   "source": [
    "### Monthly sales"
   ]
  },
  {
   "cell_type": "code",
   "execution_count": 23,
   "metadata": {},
   "outputs": [
    {
     "data": {
      "text/html": [
       "<div>\n",
       "<style scoped>\n",
       "    .dataframe tbody tr th:only-of-type {\n",
       "        vertical-align: middle;\n",
       "    }\n",
       "\n",
       "    .dataframe tbody tr th {\n",
       "        vertical-align: top;\n",
       "    }\n",
       "\n",
       "    .dataframe thead th {\n",
       "        text-align: right;\n",
       "    }\n",
       "</style>\n",
       "<table border=\"1\" class=\"dataframe\">\n",
       "  <thead>\n",
       "    <tr style=\"text-align: right;\">\n",
       "      <th></th>\n",
       "      <th>ID</th>\n",
       "      <th>shop_id</th>\n",
       "      <th>item_id</th>\n",
       "    </tr>\n",
       "  </thead>\n",
       "  <tbody>\n",
       "    <tr>\n",
       "      <th>0</th>\n",
       "      <td>0</td>\n",
       "      <td>5</td>\n",
       "      <td>5037</td>\n",
       "    </tr>\n",
       "    <tr>\n",
       "      <th>1</th>\n",
       "      <td>1</td>\n",
       "      <td>5</td>\n",
       "      <td>5320</td>\n",
       "    </tr>\n",
       "    <tr>\n",
       "      <th>2</th>\n",
       "      <td>2</td>\n",
       "      <td>5</td>\n",
       "      <td>5233</td>\n",
       "    </tr>\n",
       "    <tr>\n",
       "      <th>3</th>\n",
       "      <td>3</td>\n",
       "      <td>5</td>\n",
       "      <td>5232</td>\n",
       "    </tr>\n",
       "    <tr>\n",
       "      <th>4</th>\n",
       "      <td>4</td>\n",
       "      <td>5</td>\n",
       "      <td>5268</td>\n",
       "    </tr>\n",
       "  </tbody>\n",
       "</table>\n",
       "</div>"
      ],
      "text/plain": [
       "   ID  shop_id  item_id\n",
       "0   0        5     5037\n",
       "1   1        5     5320\n",
       "2   2        5     5233\n",
       "3   3        5     5232\n",
       "4   4        5     5268"
      ]
     },
     "execution_count": 23,
     "metadata": {},
     "output_type": "execute_result"
    }
   ],
   "source": [
    "# 예측해야하는 달(34)의 가게+아이템\n",
    "test.head()"
   ]
  },
  {
   "cell_type": "code",
   "execution_count": 24,
   "metadata": {
    "_uuid": "fb69350aef2c28cdb619e2532de1e24ab3c43899"
   },
   "outputs": [
    {
     "data": {
      "text/plain": [
       "(363, 5100, 214200)"
      ]
     },
     "execution_count": 24,
     "metadata": {},
     "output_type": "execute_result"
    }
   ],
   "source": [
    "# train에는 없고 test에만 있는 아이템 확인\n",
    "len(list(set(test.item_id) - set(test.item_id).intersection(set(train.item_id)))), len(list(set(test.item_id))), len(test)"
   ]
  },
  {
   "cell_type": "code",
   "execution_count": 25,
   "metadata": {
    "_uuid": "7626c7455ea71b65894c6c866519df15080fa2ac"
   },
   "outputs": [
    {
     "data": {
      "text/plain": [
       "6.345926284790039"
      ]
     },
     "execution_count": 25,
     "metadata": {},
     "output_type": "execute_result"
    }
   ],
   "source": [
    "# (월, 가게, 아이템) 데이터프레임을 모든 경우를 조합해서 만든다.\n",
    "ts = time.time()\n",
    "matrix = []\n",
    "cols = ['date_block_num','shop_id','item_id']\n",
    "for i in range(34):\n",
    "    sales = train[train.date_block_num==i]\n",
    "    matrix.append(np.array(list(product([i], sales.shop_id.unique(), sales.item_id.unique())), dtype='int16'))\n",
    "    \n",
    "matrix = pd.DataFrame(np.vstack(matrix), columns=cols)\n",
    "matrix['date_block_num'] = matrix['date_block_num'].astype(np.int8)\n",
    "matrix['shop_id'] = matrix['shop_id'].astype(np.int8)\n",
    "matrix['item_id'] = matrix['item_id'].astype(np.int16)\n",
    "matrix.sort_values(cols,inplace=True)\n",
    "time.time() - ts"
   ]
  },
  {
   "cell_type": "code",
   "execution_count": 26,
   "metadata": {},
   "outputs": [
    {
     "data": {
      "text/html": [
       "<div>\n",
       "<style scoped>\n",
       "    .dataframe tbody tr th:only-of-type {\n",
       "        vertical-align: middle;\n",
       "    }\n",
       "\n",
       "    .dataframe tbody tr th {\n",
       "        vertical-align: top;\n",
       "    }\n",
       "\n",
       "    .dataframe thead th {\n",
       "        text-align: right;\n",
       "    }\n",
       "</style>\n",
       "<table border=\"1\" class=\"dataframe\">\n",
       "  <thead>\n",
       "    <tr style=\"text-align: right;\">\n",
       "      <th></th>\n",
       "      <th>date_block_num</th>\n",
       "      <th>shop_id</th>\n",
       "      <th>item_id</th>\n",
       "    </tr>\n",
       "  </thead>\n",
       "  <tbody>\n",
       "    <tr>\n",
       "      <th>114910</th>\n",
       "      <td>0</td>\n",
       "      <td>2</td>\n",
       "      <td>19</td>\n",
       "    </tr>\n",
       "    <tr>\n",
       "      <th>117150</th>\n",
       "      <td>0</td>\n",
       "      <td>2</td>\n",
       "      <td>27</td>\n",
       "    </tr>\n",
       "    <tr>\n",
       "      <th>120623</th>\n",
       "      <td>0</td>\n",
       "      <td>2</td>\n",
       "      <td>28</td>\n",
       "    </tr>\n",
       "    <tr>\n",
       "      <th>118316</th>\n",
       "      <td>0</td>\n",
       "      <td>2</td>\n",
       "      <td>29</td>\n",
       "    </tr>\n",
       "    <tr>\n",
       "      <th>114602</th>\n",
       "      <td>0</td>\n",
       "      <td>2</td>\n",
       "      <td>32</td>\n",
       "    </tr>\n",
       "  </tbody>\n",
       "</table>\n",
       "</div>"
      ],
      "text/plain": [
       "        date_block_num  shop_id  item_id\n",
       "114910               0        2       19\n",
       "117150               0        2       27\n",
       "120623               0        2       28\n",
       "118316               0        2       29\n",
       "114602               0        2       32"
      ]
     },
     "execution_count": 26,
     "metadata": {},
     "output_type": "execute_result"
    }
   ],
   "source": [
    "matrix.head()"
   ]
  },
  {
   "cell_type": "code",
   "execution_count": 27,
   "metadata": {
    "_uuid": "9fef5477060be7d2e6c85dcb79d8e18e6253f7dd"
   },
   "outputs": [],
   "source": [
    "train['revenue'] = train['item_price'] *  train['item_cnt_day']"
   ]
  },
  {
   "cell_type": "code",
   "execution_count": 28,
   "metadata": {
    "_uuid": "7dd27181918fc7df89676e24d72130d183929d2d"
   },
   "outputs": [
    {
     "data": {
      "text/plain": [
       "2.531782865524292"
      ]
     },
     "execution_count": 28,
     "metadata": {},
     "output_type": "execute_result"
    }
   ],
   "source": [
    "# 월별 판매량 0~20, 결측치는 0\n",
    "ts = time.time()\n",
    "group = train.groupby(['date_block_num','shop_id','item_id']).agg({'item_cnt_day': ['sum']})\n",
    "group.columns = ['item_cnt_month']\n",
    "group.reset_index(inplace=True)\n",
    "\n",
    "matrix = pd.merge(matrix, group, on=cols, how='left')\n",
    "matrix['item_cnt_month'] = (matrix['item_cnt_month']\n",
    "                                .fillna(0)\n",
    "                                .astype(np.float16))\n",
    "time.time() - ts"
   ]
  },
  {
   "cell_type": "code",
   "execution_count": 29,
   "metadata": {},
   "outputs": [
    {
     "data": {
      "text/html": [
       "<div>\n",
       "<style scoped>\n",
       "    .dataframe tbody tr th:only-of-type {\n",
       "        vertical-align: middle;\n",
       "    }\n",
       "\n",
       "    .dataframe tbody tr th {\n",
       "        vertical-align: top;\n",
       "    }\n",
       "\n",
       "    .dataframe thead th {\n",
       "        text-align: right;\n",
       "    }\n",
       "</style>\n",
       "<table border=\"1\" class=\"dataframe\">\n",
       "  <thead>\n",
       "    <tr style=\"text-align: right;\">\n",
       "      <th></th>\n",
       "      <th>date_block_num</th>\n",
       "      <th>shop_id</th>\n",
       "      <th>item_id</th>\n",
       "      <th>item_cnt_month</th>\n",
       "    </tr>\n",
       "  </thead>\n",
       "  <tbody>\n",
       "    <tr>\n",
       "      <th>0</th>\n",
       "      <td>0</td>\n",
       "      <td>2</td>\n",
       "      <td>19</td>\n",
       "      <td>0.0</td>\n",
       "    </tr>\n",
       "    <tr>\n",
       "      <th>1</th>\n",
       "      <td>0</td>\n",
       "      <td>2</td>\n",
       "      <td>27</td>\n",
       "      <td>1.0</td>\n",
       "    </tr>\n",
       "    <tr>\n",
       "      <th>2</th>\n",
       "      <td>0</td>\n",
       "      <td>2</td>\n",
       "      <td>28</td>\n",
       "      <td>0.0</td>\n",
       "    </tr>\n",
       "    <tr>\n",
       "      <th>3</th>\n",
       "      <td>0</td>\n",
       "      <td>2</td>\n",
       "      <td>29</td>\n",
       "      <td>0.0</td>\n",
       "    </tr>\n",
       "    <tr>\n",
       "      <th>4</th>\n",
       "      <td>0</td>\n",
       "      <td>2</td>\n",
       "      <td>32</td>\n",
       "      <td>0.0</td>\n",
       "    </tr>\n",
       "  </tbody>\n",
       "</table>\n",
       "</div>"
      ],
      "text/plain": [
       "   date_block_num  shop_id  item_id  item_cnt_month\n",
       "0               0        2       19             0.0\n",
       "1               0        2       27             1.0\n",
       "2               0        2       28             0.0\n",
       "3               0        2       29             0.0\n",
       "4               0        2       32             0.0"
      ]
     },
     "execution_count": 29,
     "metadata": {},
     "output_type": "execute_result"
    }
   ],
   "source": [
    "matrix.head()"
   ]
  },
  {
   "cell_type": "markdown",
   "metadata": {
    "_uuid": "315bc6107a93f3926a64fd09ea9244e9281ee41f"
   },
   "source": [
    "### Test set"
   ]
  },
  {
   "cell_type": "code",
   "execution_count": 30,
   "metadata": {
    "_uuid": "29d02bdb4fa768577607bf735b918ca81da85d41"
   },
   "outputs": [],
   "source": [
    "# test에도 똑같이 적용시켜준다.\n",
    "test['date_block_num'] = 34\n",
    "test['date_block_num'] = test['date_block_num'].astype(np.int8)\n",
    "test['shop_id'] = test['shop_id'].astype(np.int8)\n",
    "test['item_id'] = test['item_id'].astype(np.int16)"
   ]
  },
  {
   "cell_type": "code",
   "execution_count": 31,
   "metadata": {},
   "outputs": [
    {
     "data": {
      "text/html": [
       "<div>\n",
       "<style scoped>\n",
       "    .dataframe tbody tr th:only-of-type {\n",
       "        vertical-align: middle;\n",
       "    }\n",
       "\n",
       "    .dataframe tbody tr th {\n",
       "        vertical-align: top;\n",
       "    }\n",
       "\n",
       "    .dataframe thead th {\n",
       "        text-align: right;\n",
       "    }\n",
       "</style>\n",
       "<table border=\"1\" class=\"dataframe\">\n",
       "  <thead>\n",
       "    <tr style=\"text-align: right;\">\n",
       "      <th></th>\n",
       "      <th>ID</th>\n",
       "      <th>shop_id</th>\n",
       "      <th>item_id</th>\n",
       "      <th>date_block_num</th>\n",
       "    </tr>\n",
       "  </thead>\n",
       "  <tbody>\n",
       "    <tr>\n",
       "      <th>0</th>\n",
       "      <td>0</td>\n",
       "      <td>5</td>\n",
       "      <td>5037</td>\n",
       "      <td>34</td>\n",
       "    </tr>\n",
       "    <tr>\n",
       "      <th>1</th>\n",
       "      <td>1</td>\n",
       "      <td>5</td>\n",
       "      <td>5320</td>\n",
       "      <td>34</td>\n",
       "    </tr>\n",
       "    <tr>\n",
       "      <th>2</th>\n",
       "      <td>2</td>\n",
       "      <td>5</td>\n",
       "      <td>5233</td>\n",
       "      <td>34</td>\n",
       "    </tr>\n",
       "    <tr>\n",
       "      <th>3</th>\n",
       "      <td>3</td>\n",
       "      <td>5</td>\n",
       "      <td>5232</td>\n",
       "      <td>34</td>\n",
       "    </tr>\n",
       "    <tr>\n",
       "      <th>4</th>\n",
       "      <td>4</td>\n",
       "      <td>5</td>\n",
       "      <td>5268</td>\n",
       "      <td>34</td>\n",
       "    </tr>\n",
       "  </tbody>\n",
       "</table>\n",
       "</div>"
      ],
      "text/plain": [
       "   ID  shop_id  item_id  date_block_num\n",
       "0   0        5     5037              34\n",
       "1   1        5     5320              34\n",
       "2   2        5     5233              34\n",
       "3   3        5     5232              34\n",
       "4   4        5     5268              34"
      ]
     },
     "execution_count": 31,
     "metadata": {},
     "output_type": "execute_result"
    }
   ],
   "source": [
    "test.head()"
   ]
  },
  {
   "cell_type": "code",
   "execution_count": 32,
   "metadata": {
    "_uuid": "177fbbab94c8057d67d61357d29581248468a74d"
   },
   "outputs": [
    {
     "data": {
      "text/plain": [
       "0.036423444747924805"
      ]
     },
     "execution_count": 32,
     "metadata": {},
     "output_type": "execute_result"
    }
   ],
   "source": [
    "# matrix = train + test\n",
    "ts = time.time()\n",
    "# matrix = pd.concat([matrix, test], ignore_index=True, sort=False, keys=cols)\n",
    "matrix = pd.concat([matrix, test.drop([\"ID\"],axis = 1)], ignore_index=True, sort=False, keys=cols)\n",
    "matrix.fillna(0, inplace=True) # 34 month\n",
    "time.time() - ts"
   ]
  },
  {
   "cell_type": "code",
   "execution_count": 33,
   "metadata": {},
   "outputs": [
    {
     "data": {
      "text/html": [
       "<div>\n",
       "<style scoped>\n",
       "    .dataframe tbody tr th:only-of-type {\n",
       "        vertical-align: middle;\n",
       "    }\n",
       "\n",
       "    .dataframe tbody tr th {\n",
       "        vertical-align: top;\n",
       "    }\n",
       "\n",
       "    .dataframe thead th {\n",
       "        text-align: right;\n",
       "    }\n",
       "</style>\n",
       "<table border=\"1\" class=\"dataframe\">\n",
       "  <thead>\n",
       "    <tr style=\"text-align: right;\">\n",
       "      <th></th>\n",
       "      <th>date_block_num</th>\n",
       "      <th>shop_id</th>\n",
       "      <th>item_id</th>\n",
       "      <th>item_cnt_month</th>\n",
       "    </tr>\n",
       "  </thead>\n",
       "  <tbody>\n",
       "    <tr>\n",
       "      <th>0</th>\n",
       "      <td>0</td>\n",
       "      <td>2</td>\n",
       "      <td>19</td>\n",
       "      <td>0.0</td>\n",
       "    </tr>\n",
       "    <tr>\n",
       "      <th>1</th>\n",
       "      <td>0</td>\n",
       "      <td>2</td>\n",
       "      <td>27</td>\n",
       "      <td>1.0</td>\n",
       "    </tr>\n",
       "    <tr>\n",
       "      <th>2</th>\n",
       "      <td>0</td>\n",
       "      <td>2</td>\n",
       "      <td>28</td>\n",
       "      <td>0.0</td>\n",
       "    </tr>\n",
       "    <tr>\n",
       "      <th>3</th>\n",
       "      <td>0</td>\n",
       "      <td>2</td>\n",
       "      <td>29</td>\n",
       "      <td>0.0</td>\n",
       "    </tr>\n",
       "    <tr>\n",
       "      <th>4</th>\n",
       "      <td>0</td>\n",
       "      <td>2</td>\n",
       "      <td>32</td>\n",
       "      <td>0.0</td>\n",
       "    </tr>\n",
       "  </tbody>\n",
       "</table>\n",
       "</div>"
      ],
      "text/plain": [
       "   date_block_num  shop_id  item_id  item_cnt_month\n",
       "0               0        2       19             0.0\n",
       "1               0        2       27             1.0\n",
       "2               0        2       28             0.0\n",
       "3               0        2       29             0.0\n",
       "4               0        2       32             0.0"
      ]
     },
     "execution_count": 33,
     "metadata": {},
     "output_type": "execute_result"
    }
   ],
   "source": [
    "matrix.head()"
   ]
  },
  {
   "cell_type": "code",
   "execution_count": 34,
   "metadata": {},
   "outputs": [
    {
     "data": {
      "text/html": [
       "<div>\n",
       "<style scoped>\n",
       "    .dataframe tbody tr th:only-of-type {\n",
       "        vertical-align: middle;\n",
       "    }\n",
       "\n",
       "    .dataframe tbody tr th {\n",
       "        vertical-align: top;\n",
       "    }\n",
       "\n",
       "    .dataframe thead th {\n",
       "        text-align: right;\n",
       "    }\n",
       "</style>\n",
       "<table border=\"1\" class=\"dataframe\">\n",
       "  <thead>\n",
       "    <tr style=\"text-align: right;\">\n",
       "      <th></th>\n",
       "      <th>date_block_num</th>\n",
       "      <th>shop_id</th>\n",
       "      <th>item_id</th>\n",
       "      <th>item_cnt_month</th>\n",
       "    </tr>\n",
       "  </thead>\n",
       "  <tbody>\n",
       "    <tr>\n",
       "      <th>11127999</th>\n",
       "      <td>34</td>\n",
       "      <td>45</td>\n",
       "      <td>18454</td>\n",
       "      <td>0.0</td>\n",
       "    </tr>\n",
       "    <tr>\n",
       "      <th>11128000</th>\n",
       "      <td>34</td>\n",
       "      <td>45</td>\n",
       "      <td>16188</td>\n",
       "      <td>0.0</td>\n",
       "    </tr>\n",
       "    <tr>\n",
       "      <th>11128001</th>\n",
       "      <td>34</td>\n",
       "      <td>45</td>\n",
       "      <td>15757</td>\n",
       "      <td>0.0</td>\n",
       "    </tr>\n",
       "    <tr>\n",
       "      <th>11128002</th>\n",
       "      <td>34</td>\n",
       "      <td>45</td>\n",
       "      <td>19648</td>\n",
       "      <td>0.0</td>\n",
       "    </tr>\n",
       "    <tr>\n",
       "      <th>11128003</th>\n",
       "      <td>34</td>\n",
       "      <td>45</td>\n",
       "      <td>969</td>\n",
       "      <td>0.0</td>\n",
       "    </tr>\n",
       "  </tbody>\n",
       "</table>\n",
       "</div>"
      ],
      "text/plain": [
       "          date_block_num  shop_id  item_id  item_cnt_month\n",
       "11127999              34       45    18454             0.0\n",
       "11128000              34       45    16188             0.0\n",
       "11128001              34       45    15757             0.0\n",
       "11128002              34       45    19648             0.0\n",
       "11128003              34       45      969             0.0"
      ]
     },
     "execution_count": 34,
     "metadata": {},
     "output_type": "execute_result"
    }
   ],
   "source": [
    "matrix.tail()"
   ]
  },
  {
   "cell_type": "markdown",
   "metadata": {
    "_uuid": "233e394a6cebf36ef002dc76fef8d430026a52b3"
   },
   "source": [
    "### Shops/Items/Cats features"
   ]
  },
  {
   "cell_type": "code",
   "execution_count": 35,
   "metadata": {
    "_uuid": "7dfd5df3e2bcaee4c312f3979736f52c40f2560f"
   },
   "outputs": [
    {
     "data": {
      "text/plain": [
       "2.2654869556427"
      ]
     },
     "execution_count": 35,
     "metadata": {},
     "output_type": "execute_result"
    }
   ],
   "source": [
    "# # 이전에 만들었던 feature들을 matrix에 넣어준다. (item_category_id, city_code, type_code, subtype_code)\n",
    "# ts = time.time()\n",
    "# matrix = pd.merge(matrix, shops, on=['shop_id'], how='left')\n",
    "# matrix = pd.merge(matrix, items, on=['item_id'], how='left')\n",
    "# matrix = pd.merge(matrix, cats, on=['item_category_id'], how='left')\n",
    "# matrix['city_code'] = matrix['city_code'].astype(np.int8)\n",
    "# matrix['item_category_id'] = matrix['item_category_id'].astype(np.int8)\n",
    "# matrix['type_code'] = matrix['type_code'].astype(np.int8)\n",
    "# matrix['subtype_code'] = matrix['subtype_code'].astype(np.int8)\n",
    "# time.time() - ts\n",
    "ts = time.time()\n",
    "matrix = pd.merge( matrix, shops, on = [\"shop_id\"], how = \"left\" )\n",
    "matrix = pd.merge(matrix, items, on = [\"item_id\"], how = \"left\")\n",
    "matrix = pd.merge( matrix, cats, on = [\"item_category_id\"], how = \"left\" )\n",
    "matrix[\"shop_city\"] = matrix[\"shop_city\"].astype(np.int8)\n",
    "matrix[\"shop_category\"] = matrix[\"shop_category\"].astype(np.int8)\n",
    "matrix[\"item_category_id\"] = matrix[\"item_category_id\"].astype(np.int8)\n",
    "matrix[\"subtype_code\"] = matrix[\"subtype_code\"].astype(np.int8)\n",
    "matrix[\"name2\"] = matrix[\"name2\"].astype(np.int8)\n",
    "matrix[\"name3\"] = matrix[\"name3\"].astype(np.int16)\n",
    "matrix[\"type_code\"] = matrix[\"type_code\"].astype(np.int8)\n",
    "time.time() - ts"
   ]
  },
  {
   "cell_type": "markdown",
   "metadata": {
    "_uuid": "8358b291fdc8e0e7d1b5700974803b3f104715f7"
   },
   "source": [
    "### Traget lags"
   ]
  },
  {
   "cell_type": "code",
   "execution_count": 36,
   "metadata": {
    "_uuid": "9cd7bcc7643ce4545475e8e6f80d09a979aac42d"
   },
   "outputs": [],
   "source": [
    "# lag : 이전 달들의 판매량\n",
    "# def lag_feature(df, lags, col):\n",
    "#     tmp = df[['date_block_num','shop_id','item_id',col]]\n",
    "#     for i in lags:\n",
    "#         shifted = tmp.copy()\n",
    "#         shifted.columns = ['date_block_num','shop_id','item_id', col+'_lag_'+str(i)]\n",
    "#         shifted['date_block_num'] += i\n",
    "#         df = pd.merge(df, shifted, on=['date_block_num','shop_id','item_id'], how='left')\n",
    "#     return df\n",
    "def lag_feature( df,lags, cols ):\n",
    "    for col in cols:\n",
    "        print(col)\n",
    "        tmp = df[[\"date_block_num\", \"shop_id\",\"item_id\",col ]]\n",
    "        for i in lags:\n",
    "            shifted = tmp.copy()\n",
    "            shifted.columns = [\"date_block_num\", \"shop_id\", \"item_id\", col + \"_lag_\"+str(i)]\n",
    "            shifted.date_block_num = shifted.date_block_num + i\n",
    "            df = pd.merge(df, shifted, on=['date_block_num','shop_id','item_id'], how='left')\n",
    "    return df"
   ]
  },
  {
   "cell_type": "code",
   "execution_count": 37,
   "metadata": {
    "_uuid": "78bf7ece93ebc4629ad0e48cd6a9927788d8706d"
   },
   "outputs": [
    {
     "name": "stdout",
     "output_type": "stream",
     "text": [
      "item_cnt_month\n"
     ]
    },
    {
     "data": {
      "text/plain": [
       "9.62947702407837"
      ]
     },
     "execution_count": 37,
     "metadata": {},
     "output_type": "execute_result"
    }
   ],
   "source": [
    "ts = time.time()\n",
    "# matrix = lag_feature(matrix, [1,2,3,6,12], 'item_cnt_month')\n",
    "matrix = lag_feature( matrix, [1,2,3], [\"item_cnt_month\"] )\n",
    "time.time() - ts"
   ]
  },
  {
   "cell_type": "code",
   "execution_count": 26,
   "metadata": {},
   "outputs": [
    {
     "data": {
      "text/html": [
       "<div>\n",
       "<style scoped>\n",
       "    .dataframe tbody tr th:only-of-type {\n",
       "        vertical-align: middle;\n",
       "    }\n",
       "\n",
       "    .dataframe tbody tr th {\n",
       "        vertical-align: top;\n",
       "    }\n",
       "\n",
       "    .dataframe thead th {\n",
       "        text-align: right;\n",
       "    }\n",
       "</style>\n",
       "<table border=\"1\" class=\"dataframe\">\n",
       "  <thead>\n",
       "    <tr style=\"text-align: right;\">\n",
       "      <th></th>\n",
       "      <th>date_block_num</th>\n",
       "      <th>shop_id</th>\n",
       "      <th>item_id</th>\n",
       "      <th>item_cnt_month</th>\n",
       "      <th>city_code</th>\n",
       "      <th>item_category_id</th>\n",
       "      <th>type_code</th>\n",
       "      <th>subtype_code</th>\n",
       "      <th>item_cnt_month_lag_1</th>\n",
       "      <th>item_cnt_month_lag_2</th>\n",
       "      <th>item_cnt_month_lag_3</th>\n",
       "      <th>item_cnt_month_lag_6</th>\n",
       "      <th>item_cnt_month_lag_12</th>\n",
       "    </tr>\n",
       "  </thead>\n",
       "  <tbody>\n",
       "    <tr>\n",
       "      <th>0</th>\n",
       "      <td>0</td>\n",
       "      <td>2</td>\n",
       "      <td>19</td>\n",
       "      <td>0.0</td>\n",
       "      <td>0</td>\n",
       "      <td>40</td>\n",
       "      <td>11</td>\n",
       "      <td>4</td>\n",
       "      <td>NaN</td>\n",
       "      <td>NaN</td>\n",
       "      <td>NaN</td>\n",
       "      <td>NaN</td>\n",
       "      <td>NaN</td>\n",
       "    </tr>\n",
       "    <tr>\n",
       "      <th>1</th>\n",
       "      <td>0</td>\n",
       "      <td>2</td>\n",
       "      <td>27</td>\n",
       "      <td>1.0</td>\n",
       "      <td>0</td>\n",
       "      <td>19</td>\n",
       "      <td>5</td>\n",
       "      <td>10</td>\n",
       "      <td>NaN</td>\n",
       "      <td>NaN</td>\n",
       "      <td>NaN</td>\n",
       "      <td>NaN</td>\n",
       "      <td>NaN</td>\n",
       "    </tr>\n",
       "    <tr>\n",
       "      <th>2</th>\n",
       "      <td>0</td>\n",
       "      <td>2</td>\n",
       "      <td>28</td>\n",
       "      <td>0.0</td>\n",
       "      <td>0</td>\n",
       "      <td>30</td>\n",
       "      <td>8</td>\n",
       "      <td>55</td>\n",
       "      <td>NaN</td>\n",
       "      <td>NaN</td>\n",
       "      <td>NaN</td>\n",
       "      <td>NaN</td>\n",
       "      <td>NaN</td>\n",
       "    </tr>\n",
       "    <tr>\n",
       "      <th>3</th>\n",
       "      <td>0</td>\n",
       "      <td>2</td>\n",
       "      <td>29</td>\n",
       "      <td>0.0</td>\n",
       "      <td>0</td>\n",
       "      <td>23</td>\n",
       "      <td>5</td>\n",
       "      <td>16</td>\n",
       "      <td>NaN</td>\n",
       "      <td>NaN</td>\n",
       "      <td>NaN</td>\n",
       "      <td>NaN</td>\n",
       "      <td>NaN</td>\n",
       "    </tr>\n",
       "    <tr>\n",
       "      <th>4</th>\n",
       "      <td>0</td>\n",
       "      <td>2</td>\n",
       "      <td>32</td>\n",
       "      <td>0.0</td>\n",
       "      <td>0</td>\n",
       "      <td>40</td>\n",
       "      <td>11</td>\n",
       "      <td>4</td>\n",
       "      <td>NaN</td>\n",
       "      <td>NaN</td>\n",
       "      <td>NaN</td>\n",
       "      <td>NaN</td>\n",
       "      <td>NaN</td>\n",
       "    </tr>\n",
       "  </tbody>\n",
       "</table>\n",
       "</div>"
      ],
      "text/plain": [
       "   date_block_num  shop_id  item_id  item_cnt_month  city_code  \\\n",
       "0               0        2       19             0.0          0   \n",
       "1               0        2       27             1.0          0   \n",
       "2               0        2       28             0.0          0   \n",
       "3               0        2       29             0.0          0   \n",
       "4               0        2       32             0.0          0   \n",
       "\n",
       "   item_category_id  type_code  subtype_code  item_cnt_month_lag_1  \\\n",
       "0                40         11             4                   NaN   \n",
       "1                19          5            10                   NaN   \n",
       "2                30          8            55                   NaN   \n",
       "3                23          5            16                   NaN   \n",
       "4                40         11             4                   NaN   \n",
       "\n",
       "   item_cnt_month_lag_2  item_cnt_month_lag_3  item_cnt_month_lag_6  \\\n",
       "0                   NaN                   NaN                   NaN   \n",
       "1                   NaN                   NaN                   NaN   \n",
       "2                   NaN                   NaN                   NaN   \n",
       "3                   NaN                   NaN                   NaN   \n",
       "4                   NaN                   NaN                   NaN   \n",
       "\n",
       "   item_cnt_month_lag_12  \n",
       "0                    NaN  \n",
       "1                    NaN  \n",
       "2                    NaN  \n",
       "3                    NaN  \n",
       "4                    NaN  "
      ]
     },
     "execution_count": 26,
     "metadata": {},
     "output_type": "execute_result"
    }
   ],
   "source": [
    "matrix.head()"
   ]
  },
  {
   "cell_type": "markdown",
   "metadata": {
    "_uuid": "c67bf4dbcef884ffe9d19c65d37bc4de1f287ef6"
   },
   "source": [
    "### Mean encoded features"
   ]
  },
  {
   "cell_type": "code",
   "execution_count": 41,
   "metadata": {
    "_uuid": "763aca242154ea10fa0a62fffadb4ef90e9532d6"
   },
   "outputs": [
    {
     "name": "stdout",
     "output_type": "stream",
     "text": [
      "date_avg_item_cnt\n"
     ]
    },
    {
     "data": {
      "text/plain": [
       "6.042592763900757"
      ]
     },
     "execution_count": 41,
     "metadata": {},
     "output_type": "execute_result"
    }
   ],
   "source": [
    "# 월별 팔린 평균 아이템 갯수, lag\n",
    "# ts = time.time()\n",
    "# group = matrix.groupby(['date_block_num']).agg({'item_cnt_month': ['mean']})\n",
    "# group.columns = [ 'date_avg_item_cnt' ]\n",
    "# group.reset_index(inplace=True)\n",
    "\n",
    "# matrix = pd.merge(matrix, group, on=['date_block_num'], how='left')\n",
    "# matrix['date_avg_item_cnt'] = matrix['date_avg_item_cnt'].astype(np.float16)\n",
    "# matrix = lag_feature(matrix, [1], 'date_avg_item_cnt')\n",
    "# matrix.drop(['date_avg_item_cnt'], axis=1, inplace=True)\n",
    "# time.time() - ts\n",
    "ts = time.time()\n",
    "group = matrix.groupby( [\"date_block_num\"] ).agg({\"item_cnt_month\" : [\"mean\"]})\n",
    "group.columns = [\"date_avg_item_cnt\"]\n",
    "group.reset_index(inplace = True)\n",
    "\n",
    "matrix = pd.merge(matrix, group, on = [\"date_block_num\"], how = \"left\")\n",
    "matrix[\"date_avg_item_cnt\"] = matrix[\"date_avg_item_cnt\"].astype(np.float16)\n",
    "matrix = lag_feature( matrix, [1], [\"date_avg_item_cnt\"] )\n",
    "matrix.drop( [\"date_avg_item_cnt\"], axis = 1, inplace = True )\n",
    "time.time() - ts"
   ]
  },
  {
   "cell_type": "code",
   "execution_count": 44,
   "metadata": {
    "_uuid": "fc9166c4e678ebb99d03566f1751b7d4b5c690d2"
   },
   "outputs": [
    {
     "name": "stdout",
     "output_type": "stream",
     "text": [
      "date_item_avg_item_cnt\n"
     ]
    },
    {
     "data": {
      "text/plain": [
       "13.68004059791565"
      ]
     },
     "execution_count": 44,
     "metadata": {},
     "output_type": "execute_result"
    }
   ],
   "source": [
    "# # 월별의 아이템별 팔린 평균 갯수, lag\n",
    "# ts = time.time()\n",
    "# group = matrix.groupby(['date_block_num', 'item_id']).agg({'item_cnt_month': ['mean']})\n",
    "# group.columns = [ 'date_item_avg_item_cnt' ]\n",
    "# group.reset_index(inplace=True)\n",
    "\n",
    "# matrix = pd.merge(matrix, group, on=['date_block_num','item_id'], how='left')\n",
    "# matrix['date_item_avg_item_cnt'] = matrix['date_item_avg_item_cnt'].astype(np.float16)\n",
    "# matrix = lag_feature(matrix, [1,2,3], ['date_item_avg_item_cnt'])\n",
    "# matrix.drop(['date_item_avg_item_cnt'], axis=1, inplace=True)\n",
    "# time.time() - ts\n",
    "ts = time.time()\n",
    "group = matrix.groupby(['date_block_num', 'item_id']).agg({'item_cnt_month': ['mean']})\n",
    "group.columns = [ 'date_item_avg_item_cnt' ]\n",
    "group.reset_index(inplace=True)\n",
    "\n",
    "matrix = pd.merge(matrix, group, on=['date_block_num','item_id'], how='left')\n",
    "matrix.date_item_avg_item_cnt = matrix['date_item_avg_item_cnt'].astype(np.float16)\n",
    "matrix = lag_feature(matrix, [1,2,3], ['date_item_avg_item_cnt'])\n",
    "matrix.drop(['date_item_avg_item_cnt'], axis=1, inplace=True)\n",
    "time.time() - ts"
   ]
  },
  {
   "cell_type": "code",
   "execution_count": 47,
   "metadata": {
    "_uuid": "73f2552c403c5f67bbf07f28d69efcc015d00f32"
   },
   "outputs": [
    {
     "name": "stderr",
     "output_type": "stream",
     "text": [
      "/home/aiffel0046/anaconda3/envs/aiffel/lib/python3.7/site-packages/ipykernel_launcher.py:18: UserWarning: Pandas doesn't allow columns to be created via a new attribute name - see https://pandas.pydata.org/pandas-docs/stable/indexing.html#attribute-access\n"
     ]
    },
    {
     "name": "stdout",
     "output_type": "stream",
     "text": [
      "date_shop_avg_item_cnt\n"
     ]
    },
    {
     "data": {
      "text/plain": [
       "13.957337379455566"
      ]
     },
     "execution_count": 47,
     "metadata": {},
     "output_type": "execute_result"
    }
   ],
   "source": [
    "# # 월별의 가게에서 팔린 평균 아이템 갯수, lag\n",
    "# ts = time.time()\n",
    "# group = matrix.groupby(['date_block_num', 'shop_id']).agg({'item_cnt_month': ['mean']})\n",
    "# group.columns = [ 'date_shop_avg_item_cnt' ]\n",
    "# group.reset_index(inplace=True)\n",
    "\n",
    "# matrix = pd.merge(matrix, group, on=['date_block_num','shop_id'], how='left')\n",
    "# matrix.date_shop_avg_item_cnt = matrix['date_shop_avg_item_cnt'].astype(np.float16)\n",
    "# matrix = lag_feature(matrix, [1,2,3], 'date_shop_avg_item_cnt')\n",
    "# matrix.drop(['date_shop_avg_item_cnt'], axis=1, inplace=True)\n",
    "# time.time() - ts\n",
    "ts = time.time()\n",
    "group = matrix.groupby( [\"date_block_num\",\"shop_id\"] ).agg({\"item_cnt_month\" : [\"mean\"]})\n",
    "group.columns = [\"date_shop_avg_item_cnt\"]\n",
    "group.reset_index(inplace = True)\n",
    "\n",
    "matrix = pd.merge(matrix, group, on = [\"date_block_num\",\"shop_id\"], how = \"left\")\n",
    "matrix.date_avg_item_cnt = matrix[\"date_shop_avg_item_cnt\"].astype(np.float16)\n",
    "matrix = lag_feature( matrix, [1,2,3], [\"date_shop_avg_item_cnt\"] )\n",
    "matrix.drop( [\"date_shop_avg_item_cnt\"], axis = 1, inplace = True )\n",
    "time.time() - ts"
   ]
  },
  {
   "cell_type": "code",
   "execution_count": 48,
   "metadata": {
    "_uuid": "c3948a9b206bc480b31385c29a713aa49747de19"
   },
   "outputs": [
    {
     "name": "stderr",
     "output_type": "stream",
     "text": [
      "/home/aiffel0046/anaconda3/envs/aiffel/lib/python3.7/site-packages/ipykernel_launcher.py:18: UserWarning: Pandas doesn't allow columns to be created via a new attribute name - see https://pandas.pydata.org/pandas-docs/stable/indexing.html#attribute-access\n"
     ]
    },
    {
     "name": "stdout",
     "output_type": "stream",
     "text": [
      "date_shop_item_avg_item_cnt\n"
     ]
    },
    {
     "data": {
      "text/plain": [
       "19.61537265777588"
      ]
     },
     "execution_count": 48,
     "metadata": {},
     "output_type": "execute_result"
    }
   ],
   "source": [
    "# # 웗별의 카테고리 별 팔린 아이템 평균 갯수, lag\n",
    "# ts = time.time()\n",
    "# group = matrix.groupby(['date_block_num', 'item_category_id']).agg({'item_cnt_month': ['mean']})\n",
    "# group.columns = [ 'date_cat_avg_item_cnt' ]\n",
    "# group.reset_index(inplace=True)\n",
    "\n",
    "# matrix = pd.merge(matrix, group, on=['date_block_num','item_category_id'], how='left')\n",
    "# matrix['date_cat_avg_item_cnt'] = matrix['date_cat_avg_item_cnt'].astype(np.float16)\n",
    "# matrix = lag_feature(matrix, [1], 'date_cat_avg_item_cnt')\n",
    "# matrix.drop(['date_cat_avg_item_cnt'], axis=1, inplace=True)\n",
    "# time.time() - ts\n",
    "ts = time.time()\n",
    "group = matrix.groupby( [\"date_block_num\",\"shop_id\",\"item_id\"] ).agg({\"item_cnt_month\" : [\"mean\"]})\n",
    "group.columns = [\"date_shop_item_avg_item_cnt\"]\n",
    "group.reset_index(inplace = True)\n",
    "\n",
    "matrix = pd.merge(matrix, group, on = [\"date_block_num\",\"shop_id\",\"item_id\"], how = \"left\")\n",
    "matrix.date_avg_item_cnt = matrix[\"date_shop_item_avg_item_cnt\"].astype(np.float16)\n",
    "matrix = lag_feature( matrix, [1,2,3], [\"date_shop_item_avg_item_cnt\"] )\n",
    "matrix.drop( [\"date_shop_item_avg_item_cnt\"], axis = 1, inplace = True )\n",
    "time.time() - ts"
   ]
  },
  {
   "cell_type": "code",
   "execution_count": 49,
   "metadata": {
    "_uuid": "bf98335755692f0d7666eeac2db1961692f09a16"
   },
   "outputs": [
    {
     "name": "stdout",
     "output_type": "stream",
     "text": [
      "date_shop_subtype_avg_item_cnt\n"
     ]
    },
    {
     "data": {
      "text/plain": [
       "7.633474588394165"
      ]
     },
     "execution_count": 49,
     "metadata": {},
     "output_type": "execute_result"
    }
   ],
   "source": [
    "# # 월별, 각 상점에서 카테고리 별 팔린 아이템 평균 갯수, lag\n",
    "# ts = time.time()\n",
    "# group = matrix.groupby(['date_block_num', 'shop_id', 'item_category_id']).agg({'item_cnt_month': ['mean']})\n",
    "# group.columns = ['date_shop_cat_avg_item_cnt']\n",
    "# group.reset_index(inplace=True)\n",
    "\n",
    "# matrix = pd.merge(matrix, group, on=['date_block_num', 'shop_id', 'item_category_id'], how='left')\n",
    "# matrix['date_shop_cat_avg_item_cnt'] = matrix['date_shop_cat_avg_item_cnt'].astype(np.float16)\n",
    "# matrix = lag_feature(matrix, [1], 'date_shop_cat_avg_item_cnt')\n",
    "# matrix.drop(['date_shop_cat_avg_item_cnt'], axis=1, inplace=True)\n",
    "# time.time() - ts\n",
    "ts = time.time()\n",
    "group = matrix.groupby(['date_block_num', 'shop_id', 'subtype_code']).agg({'item_cnt_month': ['mean']})\n",
    "group.columns = ['date_shop_subtype_avg_item_cnt']\n",
    "group.reset_index(inplace=True)\n",
    "\n",
    "matrix = pd.merge(matrix, group, on=['date_block_num', 'shop_id', 'subtype_code'], how='left')\n",
    "matrix.date_shop_subtype_avg_item_cnt = matrix['date_shop_subtype_avg_item_cnt'].astype(np.float16)\n",
    "matrix = lag_feature(matrix, [1], ['date_shop_subtype_avg_item_cnt'])\n",
    "matrix.drop(['date_shop_subtype_avg_item_cnt'], axis=1, inplace=True)\n",
    "time.time() - ts"
   ]
  },
  {
   "cell_type": "code",
   "execution_count": 50,
   "metadata": {
    "_uuid": "3959603ea684eb3cbfd17d557399caa6e9da88e4"
   },
   "outputs": [
    {
     "name": "stdout",
     "output_type": "stream",
     "text": [
      "date_city_avg_item_cnt\n"
     ]
    },
    {
     "data": {
      "text/plain": [
       "7.87344765663147"
      ]
     },
     "execution_count": 50,
     "metadata": {},
     "output_type": "execute_result"
    }
   ],
   "source": [
    "# # 월별 , 가게별 메인카테고리별 팔린 아이템 평균 갯수, lag\n",
    "# ts = time.time()\n",
    "# group = matrix.groupby(['date_block_num', 'shop_id', 'type_code']).agg({'item_cnt_month': ['mean']})\n",
    "# group.columns = ['date_shop_type_avg_item_cnt']\n",
    "# group.reset_index(inplace=True)\n",
    "\n",
    "# matrix = pd.merge(matrix, group, on=['date_block_num', 'shop_id', 'type_code'], how='left')\n",
    "# matrix['date_shop_type_avg_item_cnt'] = matrix['date_shop_type_avg_item_cnt'].astype(np.float16)\n",
    "# matrix = lag_feature(matrix, [1], 'date_shop_type_avg_item_cnt')\n",
    "# matrix.drop(['date_shop_type_avg_item_cnt'], axis=1, inplace=True)\n",
    "# time.time() - ts\n",
    "ts = time.time()\n",
    "group = matrix.groupby(['date_block_num', 'shop_city']).agg({'item_cnt_month': ['mean']})\n",
    "group.columns = ['date_city_avg_item_cnt']\n",
    "group.reset_index(inplace=True)\n",
    "\n",
    "matrix = pd.merge(matrix, group, on=['date_block_num', \"shop_city\"], how='left')\n",
    "matrix.date_city_avg_item_cnt = matrix['date_city_avg_item_cnt'].astype(np.float16)\n",
    "matrix = lag_feature(matrix, [1], ['date_city_avg_item_cnt'])\n",
    "matrix.drop(['date_city_avg_item_cnt'], axis=1, inplace=True)\n",
    "time.time() - ts"
   ]
  },
  {
   "cell_type": "code",
   "execution_count": 51,
   "metadata": {
    "_uuid": "39f66d2e30f691237aa5d41ff9fc3a0eb7e9a788"
   },
   "outputs": [
    {
     "name": "stdout",
     "output_type": "stream",
     "text": [
      "date_item_city_avg_item_cnt\n"
     ]
    },
    {
     "data": {
      "text/plain": [
       "12.255043268203735"
      ]
     },
     "execution_count": 51,
     "metadata": {},
     "output_type": "execute_result"
    }
   ],
   "source": [
    "# # # 월별 , 가게별 서브카테고리별 팔린 아이템 평균 갯수, lag\n",
    "# ts = time.time()\n",
    "# group = matrix.groupby(['date_block_num', 'shop_id', 'subtype_code']).agg({'item_cnt_month': ['mean']})\n",
    "# group.columns = ['date_shop_subtype_avg_item_cnt']\n",
    "# group.reset_index(inplace=True)\n",
    "\n",
    "# matrix = pd.merge(matrix, group, on=['date_block_num', 'shop_id', 'subtype_code'], how='left')\n",
    "# matrix['date_shop_subtype_avg_item_cnt'] = matrix['date_shop_subtype_avg_item_cnt'].astype(np.float16)\n",
    "# matrix = lag_feature(matrix, [1], 'date_shop_subtype_avg_item_cnt')\n",
    "# matrix.drop(['date_shop_subtype_avg_item_cnt'], axis=1, inplace=True)\n",
    "# time.time() - ts\n",
    "ts = time.time()\n",
    "group = matrix.groupby(['date_block_num', 'item_id', 'shop_city']).agg({'item_cnt_month': ['mean']})\n",
    "group.columns = [ 'date_item_city_avg_item_cnt' ]\n",
    "group.reset_index(inplace=True)\n",
    "\n",
    "matrix = pd.merge(matrix, group, on=['date_block_num', 'item_id', 'shop_city'], how='left')\n",
    "matrix.date_item_city_avg_item_cnt = matrix['date_item_city_avg_item_cnt'].astype(np.float16)\n",
    "matrix = lag_feature(matrix, [1], ['date_item_city_avg_item_cnt'])\n",
    "matrix.drop(['date_item_city_avg_item_cnt'], axis=1, inplace=True)\n",
    "time.time() - ts"
   ]
  },
  {
   "cell_type": "code",
   "execution_count": 34,
   "metadata": {
    "_uuid": "87d57d01beb0830138dabae79b4022d4c6a9cc12"
   },
   "outputs": [
    {
     "data": {
      "text/plain": [
       "7.759851455688477"
      ]
     },
     "execution_count": 34,
     "metadata": {},
     "output_type": "execute_result"
    }
   ],
   "source": [
    "# # 월별 도시별 팔린 아이템 평균 갯수, lag\n",
    "# ts = time.time()\n",
    "# group = matrix.groupby(['date_block_num', 'city_code']).agg({'item_cnt_month': ['mean']})\n",
    "# group.columns = [ 'date_city_avg_item_cnt' ]\n",
    "# group.reset_index(inplace=True)\n",
    "\n",
    "# matrix = pd.merge(matrix, group, on=['date_block_num', 'city_code'], how='left')\n",
    "# matrix['date_city_avg_item_cnt'] = matrix['date_city_avg_item_cnt'].astype(np.float16)\n",
    "# matrix = lag_feature(matrix, [1], 'date_city_avg_item_cnt')\n",
    "# matrix.drop(['date_city_avg_item_cnt'], axis=1, inplace=True)\n",
    "# time.time() - ts"
   ]
  },
  {
   "cell_type": "code",
   "execution_count": 35,
   "metadata": {
    "_uuid": "db1f0170ec4a6fd9894bc53b36f3166d4b26abcf"
   },
   "outputs": [
    {
     "data": {
      "text/plain": [
       "12.511372804641724"
      ]
     },
     "execution_count": 35,
     "metadata": {},
     "output_type": "execute_result"
    }
   ],
   "source": [
    "# # 월별 아이템, 도시 단위 평균 아이템 팔린 갯수, lag\n",
    "# ts = time.time()\n",
    "# group = matrix.groupby(['date_block_num', 'item_id', 'city_code']).agg({'item_cnt_month': ['mean']})\n",
    "# group.columns = [ 'date_item_city_avg_item_cnt' ]\n",
    "# group.reset_index(inplace=True)\n",
    "\n",
    "# matrix = pd.merge(matrix, group, on=['date_block_num', 'item_id', 'city_code'], how='left')\n",
    "# matrix['date_item_city_avg_item_cnt'] = matrix['date_item_city_avg_item_cnt'].astype(np.float16)\n",
    "# matrix = lag_feature(matrix, [1], 'date_item_city_avg_item_cnt')\n",
    "# matrix.drop(['date_item_city_avg_item_cnt'], axis=1, inplace=True)\n",
    "# time.time() - ts"
   ]
  },
  {
   "cell_type": "code",
   "execution_count": 36,
   "metadata": {
    "_uuid": "3cd5232ad63357dacebe9d223cc93dd669132bb7"
   },
   "outputs": [
    {
     "data": {
      "text/plain": [
       "8.264768362045288"
      ]
     },
     "execution_count": 36,
     "metadata": {},
     "output_type": "execute_result"
    }
   ],
   "source": [
    "# # 월별 메인카테고리별 팔린 아이템 평균 갯수, lag\n",
    "# ts = time.time()\n",
    "# group = matrix.groupby(['date_block_num', 'type_code']).agg({'item_cnt_month': ['mean']})\n",
    "# group.columns = [ 'date_type_avg_item_cnt' ]\n",
    "# group.reset_index(inplace=True)\n",
    "\n",
    "# matrix = pd.merge(matrix, group, on=['date_block_num', 'type_code'], how='left')\n",
    "# matrix['date_type_avg_item_cnt'] = matrix['date_type_avg_item_cnt'].astype(np.float16)\n",
    "# matrix = lag_feature(matrix, [1], 'date_type_avg_item_cnt')\n",
    "# matrix.drop(['date_type_avg_item_cnt'], axis=1, inplace=True)\n",
    "# time.time() - ts"
   ]
  },
  {
   "cell_type": "code",
   "execution_count": 37,
   "metadata": {
    "_uuid": "00394f3694ae9c7093176eadac7abeaa79ff5467"
   },
   "outputs": [
    {
     "data": {
      "text/plain": [
       "8.303122758865356"
      ]
     },
     "execution_count": 37,
     "metadata": {},
     "output_type": "execute_result"
    }
   ],
   "source": [
    "# # 월별 서브카테고리별 팔린 아이템 평균 갯수, lag\n",
    "# ts = time.time()\n",
    "# group = matrix.groupby(['date_block_num', 'subtype_code']).agg({'item_cnt_month': ['mean']})\n",
    "# group.columns = [ 'date_subtype_avg_item_cnt' ]\n",
    "# group.reset_index(inplace=True)\n",
    "\n",
    "# matrix = pd.merge(matrix, group, on=['date_block_num', 'subtype_code'], how='left')\n",
    "# matrix['date_subtype_avg_item_cnt'] = matrix['date_subtype_avg_item_cnt'].astype(np.float16)\n",
    "# matrix = lag_feature(matrix, [1], 'date_subtype_avg_item_cnt')\n",
    "# matrix.drop(['date_subtype_avg_item_cnt'], axis=1, inplace=True)\n",
    "# time.time() - ts"
   ]
  },
  {
   "cell_type": "markdown",
   "metadata": {
    "_uuid": "6bcea31d93ab035ca3fa1ed7c0afddbf602c414a"
   },
   "source": [
    "### Trend features"
   ]
  },
  {
   "cell_type": "code",
   "execution_count": 52,
   "metadata": {
    "_uuid": "0da2ded8502e273137991fd2bebbadaf19c19622"
   },
   "outputs": [
    {
     "name": "stdout",
     "output_type": "stream",
     "text": [
      "date_item_avg_item_price\n"
     ]
    },
    {
     "data": {
      "text/plain": [
       "216.91762948036194"
      ]
     },
     "execution_count": 52,
     "metadata": {},
     "output_type": "execute_result"
    }
   ],
   "source": [
    "# # 현재 달 기준, 지난 달의 특정 feature의 값이 전체 평균보다 높은지 낮은지 판단\n",
    "# # 지난달의 값이 없을 경우 최대 6개월 전까지 확인\n",
    "\n",
    "# ts = time.time()\n",
    "# # 전 기간동안 각 아이템 평균가격\n",
    "# group = train.groupby(['item_id']).agg({'item_price': ['mean']})\n",
    "# group.columns = ['item_avg_item_price']\n",
    "# group.reset_index(inplace=True)\n",
    "\n",
    "# matrix = pd.merge(matrix, group, on=['item_id'], how='left')\n",
    "# matrix['item_avg_item_price'] = matrix['item_avg_item_price'].astype(np.float16)\n",
    "\n",
    "# # 월별 아이템 평균가격\n",
    "# group = train.groupby(['date_block_num','item_id']).agg({'item_price': ['mean']})\n",
    "# group.columns = ['date_item_avg_item_price']\n",
    "# group.reset_index(inplace=True)\n",
    "\n",
    "# matrix = pd.merge(matrix, group, on=['date_block_num','item_id'], how='left')\n",
    "# matrix['date_item_avg_item_price'] = matrix['date_item_avg_item_price'].astype(np.float16)\n",
    "\n",
    "# # 월별 각 1~6개월 전 평균 가격\n",
    "# lags = [1,2,3,4,5,6]\n",
    "# matrix = lag_feature(matrix, lags, 'date_item_avg_item_price')\n",
    "\n",
    "# # 월별 (1~6)평균가격과 전체 기간 평균 각격 차이\n",
    "# for i in lags:\n",
    "#     matrix['delta_price_lag_'+str(i)] = \\\n",
    "#         (matrix['date_item_avg_item_price_lag_'+str(i)] - matrix['item_avg_item_price']) / matrix['item_avg_item_price']\n",
    "\n",
    "# # 현재 달 기준 최근의 트렌드 찾는다.\n",
    "# # 1달전 없을 경우, 최대 6달전 까지 찾는다.\n",
    "# def select_trend(row):\n",
    "#     for i in lags:\n",
    "#         if row['delta_price_lag_'+str(i)]:\n",
    "#             return row['delta_price_lag_'+str(i)]\n",
    "#     return 0\n",
    "    \n",
    "# matrix['delta_price_lag'] = matrix.apply(select_trend, axis=1)\n",
    "# matrix['delta_price_lag'] = matrix['delta_price_lag'].astype(np.float16)\n",
    "# matrix['delta_price_lag'].fillna(0, inplace=True)\n",
    "\n",
    "\n",
    "# # price trend를 찾은 후에는, 이전 lag들 drop\n",
    "# fetures_to_drop = ['item_avg_item_price', 'date_item_avg_item_price']\n",
    "# for i in lags:\n",
    "#     fetures_to_drop += ['date_item_avg_item_price_lag_'+str(i)]\n",
    "#     fetures_to_drop += ['delta_price_lag_'+str(i)]\n",
    "\n",
    "# matrix.drop(fetures_to_drop, axis=1, inplace=True)\n",
    "\n",
    "# time.time() - ts\n",
    "ts = time.time()\n",
    "group = train.groupby( [\"item_id\"] ).agg({\"item_price\": [\"mean\"]})\n",
    "group.columns = [\"item_avg_item_price\"]\n",
    "group.reset_index(inplace = True)\n",
    "\n",
    "matrix = matrix.merge( group, on = [\"item_id\"], how = \"left\" )\n",
    "matrix[\"item_avg_item_price\"] = matrix.item_avg_item_price.astype(np.float16)\n",
    "\n",
    "\n",
    "group = train.groupby( [\"date_block_num\",\"item_id\"] ).agg( {\"item_price\": [\"mean\"]} )\n",
    "group.columns = [\"date_item_avg_item_price\"]\n",
    "group.reset_index(inplace = True)\n",
    "\n",
    "matrix = matrix.merge(group, on = [\"date_block_num\",\"item_id\"], how = \"left\")\n",
    "matrix[\"date_item_avg_item_price\"] = matrix.date_item_avg_item_price.astype(np.float16)\n",
    "lags = [1, 2, 3]\n",
    "matrix = lag_feature( matrix, lags, [\"date_item_avg_item_price\"] )\n",
    "for i in lags:\n",
    "    matrix[\"delta_price_lag_\" + str(i) ] = (matrix[\"date_item_avg_item_price_lag_\" + str(i)]- matrix[\"item_avg_item_price\"] )/ matrix[\"item_avg_item_price\"]\n",
    "\n",
    "def select_trends(row) :\n",
    "    for i in lags:\n",
    "        if row[\"delta_price_lag_\" + str(i)]:\n",
    "            return row[\"delta_price_lag_\" + str(i)]\n",
    "    return 0\n",
    "\n",
    "matrix[\"delta_price_lag\"] = matrix.apply(select_trends, axis = 1)\n",
    "matrix[\"delta_price_lag\"] = matrix.delta_price_lag.astype( np.float16 )\n",
    "matrix[\"delta_price_lag\"].fillna( 0 ,inplace = True)\n",
    "\n",
    "features_to_drop = [\"item_avg_item_price\", \"date_item_avg_item_price\"]\n",
    "for i in lags:\n",
    "    features_to_drop.append(\"date_item_avg_item_price_lag_\" + str(i) )\n",
    "    features_to_drop.append(\"delta_price_lag_\" + str(i) )\n",
    "matrix.drop(features_to_drop, axis = 1, inplace = True)\n",
    "time.time() - ts"
   ]
  },
  {
   "cell_type": "code",
   "execution_count": 53,
   "metadata": {
    "_uuid": "e633be47f1a22b41487866ce67fb874bd296339e"
   },
   "outputs": [
    {
     "name": "stdout",
     "output_type": "stream",
     "text": [
      "delta_revenue\n"
     ]
    },
    {
     "data": {
      "text/plain": [
       "8.663777828216553"
      ]
     },
     "execution_count": 53,
     "metadata": {},
     "output_type": "execute_result"
    }
   ],
   "source": [
    "# # 가격 트렌드 처럼 총 수입 트렌드도 찾느다.\n",
    "# ts = time.time()\n",
    "# # 월별 각 가게 총 매출\n",
    "# group = train.groupby(['date_block_num','shop_id']).agg({'revenue': ['sum']})\n",
    "# group.columns = ['date_shop_revenue']\n",
    "# group.reset_index(inplace=True)\n",
    "\n",
    "# matrix = pd.merge(matrix, group, on=['date_block_num','shop_id'], how='left')\n",
    "# matrix['date_shop_revenue'] = matrix['date_shop_revenue'].astype(np.float32)\n",
    "\n",
    "# # 전체 기간 각 가게 매출 평균\n",
    "# group = group.groupby(['shop_id']).agg({'date_shop_revenue': ['mean']})\n",
    "# group.columns = ['shop_avg_revenue']\n",
    "# group.reset_index(inplace=True)\n",
    "\n",
    "# matrix = pd.merge(matrix, group, on=['shop_id'], how='left')\n",
    "# matrix['shop_avg_revenue'] = matrix['shop_avg_revenue'].astype(np.float32)\n",
    "\n",
    "# # 각 가게 월평균 매출 - 전체기간 평균 매출\n",
    "# matrix['delta_revenue'] = (matrix['date_shop_revenue'] - matrix['shop_avg_revenue']) / matrix['shop_avg_revenue']\n",
    "# matrix['delta_revenue'] = matrix['delta_revenue'].astype(np.float16)\n",
    "\n",
    "# # 한달전 총 매출\n",
    "# matrix = lag_feature(matrix, [1], 'delta_revenue')\n",
    "\n",
    "# # 총매출 트랜드 찾은 후에 feature drop\n",
    "# matrix.drop(['date_shop_revenue','shop_avg_revenue','delta_revenue'], axis=1, inplace=True)\n",
    "# time.time() - ts\n",
    "ts = time.time()\n",
    "group = train.groupby( [\"date_block_num\",\"shop_id\"] ).agg({\"revenue\": [\"sum\"] })\n",
    "group.columns = [\"date_shop_revenue\"]\n",
    "group.reset_index(inplace = True)\n",
    "\n",
    "matrix = matrix.merge( group , on = [\"date_block_num\", \"shop_id\"], how = \"left\" )\n",
    "matrix['date_shop_revenue'] = matrix['date_shop_revenue'].astype(np.float32)\n",
    "\n",
    "group = group.groupby([\"shop_id\"]).agg({ \"date_block_num\":[\"mean\"] })\n",
    "group.columns = [\"shop_avg_revenue\"]\n",
    "group.reset_index(inplace = True )\n",
    "\n",
    "matrix = matrix.merge( group, on = [\"shop_id\"], how = \"left\" )\n",
    "matrix[\"shop_avg_revenue\"] = matrix.shop_avg_revenue.astype(np.float32)\n",
    "matrix[\"delta_revenue\"] = (matrix['date_shop_revenue'] - matrix['shop_avg_revenue']) / matrix['shop_avg_revenue']\n",
    "matrix[\"delta_revenue\"] = matrix[\"delta_revenue\"]. astype(np.float32)\n",
    "\n",
    "matrix = lag_feature(matrix, [1], [\"delta_revenue\"])\n",
    "matrix[\"delta_revenue_lag_1\"] = matrix[\"delta_revenue_lag_1\"].astype(np.float32)\n",
    "matrix.drop( [\"date_shop_revenue\", \"shop_avg_revenue\", \"delta_revenue\"] ,axis = 1, inplace = True)\n",
    "time.time() - ts"
   ]
  },
  {
   "cell_type": "markdown",
   "metadata": {
    "_uuid": "47e06af411b7d26cd93dad3d6735e48e5fbdee50"
   },
   "source": [
    "### Special features"
   ]
  },
  {
   "cell_type": "code",
   "execution_count": 41,
   "metadata": {
    "_uuid": "bb521e1f33d4124a3b90b47447bdb29150770b6e"
   },
   "outputs": [],
   "source": [
    "# matrix['month'] = matrix['date_block_num'] % 12"
   ]
  },
  {
   "cell_type": "code",
   "execution_count": 54,
   "metadata": {
    "_uuid": "e23f0201056b73368e3b70d4c36c6bb9e4a55291"
   },
   "outputs": [],
   "source": [
    "# days = pd.Series([31,28,31,30,31,30,31,31,30,31,30,31])\n",
    "# matrix['days'] = matrix['month'].map(days).astype(np.int8)\n",
    "matrix[\"month\"] = matrix[\"date_block_num\"] % 12\n",
    "days = pd.Series([31,28,31,30,31,30,31,31,30,31,30,31])\n",
    "matrix[\"days\"] = matrix[\"month\"].map(days).astype(np.int8)\n"
   ]
  },
  {
   "cell_type": "code",
   "execution_count": 55,
   "metadata": {
    "_uuid": "3458a7056c963167760921417d1f863f074f2b39"
   },
   "outputs": [
    {
     "data": {
      "text/plain": [
       "1.0464370250701904"
      ]
     },
     "execution_count": 55,
     "metadata": {},
     "output_type": "execute_result"
    }
   ],
   "source": [
    "# ts = time.time()\n",
    "# cache = {}\n",
    "# matrix['item_shop_last_sale'] = -1\n",
    "# matrix['item_shop_last_sale'] = matrix['item_shop_last_sale'].astype(np.int8)\n",
    "# # 가게 별로 해당 아이템이 몇 개월전에 마지막으로 팔렸는지\n",
    "# for idx, row in matrix.iterrows():    \n",
    "#     key = str(row.item_id)+' '+str(row.shop_id)\n",
    "#     if key not in cache:\n",
    "#         if row.item_cnt_month!=0:\n",
    "#             cache[key] = row.date_block_num\n",
    "#     else:\n",
    "#         last_date_block_num = cache[key]\n",
    "#         matrix.at[idx, 'item_shop_last_sale'] = row.date_block_num - last_date_block_num\n",
    "#         cache[key] = row.date_block_num         \n",
    "# time.time() - ts\n",
    "ts = time.time()\n",
    "matrix[\"item_shop_first_sale\"] = matrix[\"date_block_num\"] - matrix.groupby([\"item_id\",\"shop_id\"])[\"date_block_num\"].transform('min')\n",
    "matrix[\"item_first_sale\"] = matrix[\"date_block_num\"] - matrix.groupby([\"item_id\"])[\"date_block_num\"].transform('min')\n",
    "time.time() - ts"
   ]
  },
  {
   "cell_type": "code",
   "execution_count": 44,
   "metadata": {
    "_uuid": "28b29fae3906d870b4dc3064a7f359b6d3abf623"
   },
   "outputs": [
    {
     "data": {
      "text/plain": [
       "732.3828496932983"
      ]
     },
     "execution_count": 44,
     "metadata": {},
     "output_type": "execute_result"
    }
   ],
   "source": [
    "# ts = time.time()\n",
    "# cache = {}\n",
    "# matrix['item_last_sale'] = -1\n",
    "# matrix['item_last_sale'] = matrix['item_last_sale'].astype(np.int8)\n",
    "# # 해당 아이템이 몇개월 전에 마지막으로 팔렸는지\n",
    "# for idx, row in matrix.iterrows():    \n",
    "#     key = row.item_id\n",
    "#     if key not in cache:\n",
    "#         if row.item_cnt_month!=0:\n",
    "#             cache[key] = row.date_block_num\n",
    "#     else:\n",
    "#         last_date_block_num = cache[key]\n",
    "#         if row.date_block_num>last_date_block_num:\n",
    "#             matrix.at[idx, 'item_last_sale'] = row.date_block_num - last_date_block_num\n",
    "#             cache[key] = row.date_block_num         \n",
    "# time.time() - ts"
   ]
  },
  {
   "cell_type": "code",
   "execution_count": 56,
   "metadata": {
    "_uuid": "ad0869709bbada35726d5ca41dd913d817249f8e"
   },
   "outputs": [
    {
     "data": {
      "text/plain": [
       "0.6339623928070068"
      ]
     },
     "execution_count": 56,
     "metadata": {},
     "output_type": "execute_result"
    }
   ],
   "source": [
    "# # 가게별 아이템 최초 판매 이후 개월\n",
    "# # 아이템별 최초 판매 이후 개월\n",
    "# ts = time.time()\n",
    "# matrix['item_shop_first_sale'] = matrix['date_block_num'] - matrix.groupby(['item_id','shop_id'])['date_block_num'].transform('min')\n",
    "# matrix['item_first_sale'] = matrix['date_block_num'] - matrix.groupby('item_id')['date_block_num'].transform('min')\n",
    "# time.time() - ts\n",
    "ts = time.time()\n",
    "matrix = matrix[matrix[\"date_block_num\"] > 3]\n",
    "time.time() - ts"
   ]
  },
  {
   "cell_type": "markdown",
   "metadata": {
    "_uuid": "966cb34ccfe849fbb3707d93270691cb8eef7a89"
   },
   "source": [
    "### Final preparations"
   ]
  },
  {
   "cell_type": "code",
   "execution_count": 46,
   "metadata": {
    "_uuid": "04df1bc4240f409a5d4521c6f70c2ced44f7c3d4"
   },
   "outputs": [
    {
     "data": {
      "text/plain": [
       "0.5074481964111328"
      ]
     },
     "execution_count": 46,
     "metadata": {},
     "output_type": "execute_result"
    }
   ],
   "source": [
    "# feature들중 12개월 전 데이터를 포함하는 값들이 있다.\n",
    "# 데이터의 시작부터 12개월 이후의 데이터부터 사용해야한다.\n",
    "ts = time.time()\n",
    "matrix = matrix[matrix.date_block_num > 11]\n",
    "time.time() - ts"
   ]
  },
  {
   "cell_type": "code",
   "execution_count": 47,
   "metadata": {
    "_uuid": "8e5d8cb5cea9be28af4a0486cc1bf797e5b5c7ee"
   },
   "outputs": [
    {
     "name": "stderr",
     "output_type": "stream",
     "text": [
      "/home/aiffel0046/anaconda3/envs/aiffel/lib/python3.7/site-packages/pandas/core/generic.py:6245: SettingWithCopyWarning: \n",
      "A value is trying to be set on a copy of a slice from a DataFrame\n",
      "\n",
      "See the caveats in the documentation: https://pandas.pydata.org/pandas-docs/stable/user_guide/indexing.html#returning-a-view-versus-a-copy\n",
      "  self._update_inplace(new_data)\n"
     ]
    },
    {
     "data": {
      "text/plain": [
       "1.2482705116271973"
      ]
     },
     "execution_count": 47,
     "metadata": {},
     "output_type": "execute_result"
    }
   ],
   "source": [
    "# lag관련 feature에서 비어있는 값들을 0으로 채운다.\n",
    "ts = time.time()\n",
    "def fill_na(df):\n",
    "    for col in df.columns:\n",
    "        if ('_lag_' in col) & (df[col].isnull().any()):\n",
    "            if ('item_cnt' in col):\n",
    "                df[col].fillna(0, inplace=True)         \n",
    "    return df\n",
    "\n",
    "matrix = fill_na(matrix)\n",
    "time.time() - ts"
   ]
  },
  {
   "cell_type": "code",
   "execution_count": 48,
   "metadata": {
    "_uuid": "00bf3fffc1b143d0555d03b9d79b5fd00d9d0dc9"
   },
   "outputs": [
    {
     "data": {
      "text/plain": [
       "Index(['date_block_num', 'shop_id', 'item_id', 'item_cnt_month', 'city_code',\n",
       "       'item_category_id', 'type_code', 'subtype_code', 'item_cnt_month_lag_1',\n",
       "       'item_cnt_month_lag_2', 'item_cnt_month_lag_3', 'item_cnt_month_lag_6',\n",
       "       'item_cnt_month_lag_12', 'date_avg_item_cnt_lag_1',\n",
       "       'date_item_avg_item_cnt_lag_1', 'date_item_avg_item_cnt_lag_2',\n",
       "       'date_item_avg_item_cnt_lag_3', 'date_item_avg_item_cnt_lag_6',\n",
       "       'date_item_avg_item_cnt_lag_12', 'date_shop_avg_item_cnt_lag_1',\n",
       "       'date_shop_avg_item_cnt_lag_2', 'date_shop_avg_item_cnt_lag_3',\n",
       "       'date_shop_avg_item_cnt_lag_6', 'date_shop_avg_item_cnt_lag_12',\n",
       "       'date_cat_avg_item_cnt_lag_1', 'date_shop_cat_avg_item_cnt_lag_1',\n",
       "       'date_shop_type_avg_item_cnt_lag_1',\n",
       "       'date_shop_subtype_avg_item_cnt_lag_1', 'date_city_avg_item_cnt_lag_1',\n",
       "       'date_item_city_avg_item_cnt_lag_1', 'date_type_avg_item_cnt_lag_1',\n",
       "       'date_subtype_avg_item_cnt_lag_1', 'delta_price_lag',\n",
       "       'delta_revenue_lag_1', 'month', 'days', 'item_shop_last_sale',\n",
       "       'item_last_sale', 'item_shop_first_sale', 'item_first_sale'],\n",
       "      dtype='object')"
      ]
     },
     "execution_count": 48,
     "metadata": {},
     "output_type": "execute_result"
    }
   ],
   "source": [
    "matrix.columns"
   ]
  },
  {
   "cell_type": "code",
   "execution_count": 49,
   "metadata": {
    "_uuid": "5f4e4c5c552daf8d4da6999ae4b63f13459b2887"
   },
   "outputs": [
    {
     "name": "stdout",
     "output_type": "stream",
     "text": [
      "<class 'pandas.core.frame.DataFrame'>\n",
      "Int64Index: 6639294 entries, 4488710 to 11128003\n",
      "Data columns (total 40 columns):\n",
      " #   Column                                Dtype  \n",
      "---  ------                                -----  \n",
      " 0   date_block_num                        int8   \n",
      " 1   shop_id                               int8   \n",
      " 2   item_id                               int16  \n",
      " 3   item_cnt_month                        float16\n",
      " 4   city_code                             int8   \n",
      " 5   item_category_id                      int8   \n",
      " 6   type_code                             int8   \n",
      " 7   subtype_code                          int8   \n",
      " 8   item_cnt_month_lag_1                  float16\n",
      " 9   item_cnt_month_lag_2                  float16\n",
      " 10  item_cnt_month_lag_3                  float16\n",
      " 11  item_cnt_month_lag_6                  float16\n",
      " 12  item_cnt_month_lag_12                 float16\n",
      " 13  date_avg_item_cnt_lag_1               float16\n",
      " 14  date_item_avg_item_cnt_lag_1          float16\n",
      " 15  date_item_avg_item_cnt_lag_2          float16\n",
      " 16  date_item_avg_item_cnt_lag_3          float16\n",
      " 17  date_item_avg_item_cnt_lag_6          float16\n",
      " 18  date_item_avg_item_cnt_lag_12         float16\n",
      " 19  date_shop_avg_item_cnt_lag_1          float16\n",
      " 20  date_shop_avg_item_cnt_lag_2          float16\n",
      " 21  date_shop_avg_item_cnt_lag_3          float16\n",
      " 22  date_shop_avg_item_cnt_lag_6          float16\n",
      " 23  date_shop_avg_item_cnt_lag_12         float16\n",
      " 24  date_cat_avg_item_cnt_lag_1           float16\n",
      " 25  date_shop_cat_avg_item_cnt_lag_1      float16\n",
      " 26  date_shop_type_avg_item_cnt_lag_1     float16\n",
      " 27  date_shop_subtype_avg_item_cnt_lag_1  float16\n",
      " 28  date_city_avg_item_cnt_lag_1          float16\n",
      " 29  date_item_city_avg_item_cnt_lag_1     float16\n",
      " 30  date_type_avg_item_cnt_lag_1          float16\n",
      " 31  date_subtype_avg_item_cnt_lag_1       float16\n",
      " 32  delta_price_lag                       float16\n",
      " 33  delta_revenue_lag_1                   float16\n",
      " 34  month                                 int8   \n",
      " 35  days                                  int8   \n",
      " 36  item_shop_last_sale                   int8   \n",
      " 37  item_last_sale                        int8   \n",
      " 38  item_shop_first_sale                  int8   \n",
      " 39  item_first_sale                       int8   \n",
      "dtypes: float16(27), int16(1), int8(12)\n",
      "memory usage: 481.2 MB\n"
     ]
    }
   ],
   "source": [
    "matrix.info()"
   ]
  },
  {
   "cell_type": "code",
   "execution_count": 57,
   "metadata": {
    "_uuid": "5d9988f8da8876f74092fbf827ceb6c61dd09d5e"
   },
   "outputs": [
    {
     "data": {
      "text/plain": [
       "12451"
      ]
     },
     "execution_count": 57,
     "metadata": {},
     "output_type": "execute_result"
    }
   ],
   "source": [
    "# # matrix pickle파일로 저장\n",
    "# matrix.to_pickle('data.pkl')\n",
    "# del matrix\n",
    "# del cache\n",
    "# del group\n",
    "# del items\n",
    "# del shops\n",
    "# del cats\n",
    "# del train\n",
    "# gc.collect();\n",
    "matrix.to_pickle('new_data.pkl')\n",
    "data = matrix.copy()\n",
    "del matrix\n",
    "gc.collect()"
   ]
  },
  {
   "cell_type": "markdown",
   "metadata": {
    "_uuid": "b69932efb440af8f6435f3cd802fbcd15682af71",
    "collapsed": true
   },
   "source": [
    "## Train"
   ]
  },
  {
   "cell_type": "code",
   "execution_count": 3,
   "metadata": {
    "_uuid": "a54364495b1818e9f069efa0c53500bf9e21d5f9"
   },
   "outputs": [
    {
     "data": {
      "text/plain": [
       "(214200, 39)"
      ]
     },
     "execution_count": 3,
     "metadata": {},
     "output_type": "execute_result"
    }
   ],
   "source": [
    "data = pd.read_pickle('new_data.pkl')\n",
    "data[data[\"date_block_num\"]==34].shape"
   ]
  },
  {
   "cell_type": "code",
   "execution_count": 4,
   "metadata": {
    "_uuid": "bfc928a916bb8b285b2fe90fb1a311cf2fbbf2e3"
   },
   "outputs": [],
   "source": [
    "# data = data[[\n",
    "#     'date_block_num',\n",
    "#     'shop_id',\n",
    "#     'item_id',\n",
    "#     'item_cnt_month',\n",
    "#     'city_code',\n",
    "#     'item_category_id',\n",
    "#     'type_code',\n",
    "#     'subtype_code',\n",
    "#     'item_cnt_month_lag_1',\n",
    "#     'item_cnt_month_lag_2',\n",
    "#     'item_cnt_month_lag_3',\n",
    "#     'item_cnt_month_lag_6',\n",
    "#     'item_cnt_month_lag_12',\n",
    "#     'date_avg_item_cnt_lag_1',\n",
    "#     'date_item_avg_item_cnt_lag_1',\n",
    "#     'date_item_avg_item_cnt_lag_2',\n",
    "#     'date_item_avg_item_cnt_lag_3',\n",
    "#     'date_item_avg_item_cnt_lag_6',\n",
    "#     'date_item_avg_item_cnt_lag_12',\n",
    "#     'date_shop_avg_item_cnt_lag_1',\n",
    "#     'date_shop_avg_item_cnt_lag_2',\n",
    "#     'date_shop_avg_item_cnt_lag_3',\n",
    "#     'date_shop_avg_item_cnt_lag_6',\n",
    "#     'date_shop_avg_item_cnt_lag_12',\n",
    "#     'date_cat_avg_item_cnt_lag_1',\n",
    "#     'date_shop_cat_avg_item_cnt_lag_1',\n",
    "#     'date_shop_type_avg_item_cnt_lag_1',\n",
    "#     'date_shop_subtype_avg_item_cnt_lag_1',\n",
    "#     'date_city_avg_item_cnt_lag_1',\n",
    "#     'date_item_city_avg_item_cnt_lag_1',\n",
    "#     'date_type_avg_item_cnt_lag_1',\n",
    "#     'date_subtype_avg_item_cnt_lag_1',\n",
    "#     'delta_price_lag',\n",
    "#     'month',\n",
    "#     'days',\n",
    "#     'item_shop_last_sale',\n",
    "#     'item_last_sale',\n",
    "#     'item_shop_first_sale',\n",
    "#     'item_first_sale',\n",
    "# ]]"
   ]
  },
  {
   "cell_type": "code",
   "execution_count": 5,
   "metadata": {
    "_uuid": "9af76d7b80064573a453e5e10c35b76fc31c47a4"
   },
   "outputs": [],
   "source": [
    "# 0~32개월 : Train\n",
    "# 33 개월 :  Validation\n",
    "# 34 개월 :  Test\n",
    "# X_train = data[data.date_block_num < 33].drop(['item_cnt_month'], axis=1)\n",
    "# Y_train = data[data.date_block_num < 33]['item_cnt_month']\n",
    "# X_valid = data[data.date_block_num == 33].drop(['item_cnt_month'], axis=1)\n",
    "# Y_valid = data[data.date_block_num == 33]['item_cnt_month']\n",
    "# X_test = data[data.date_block_num == 34].drop(['item_cnt_month'], axis=1)\n",
    "X_train = data[data.date_block_num < 33].drop(['item_cnt_month'], axis=1)\n",
    "Y_train = data[data.date_block_num < 33]['item_cnt_month']\n",
    "X_valid = data[data.date_block_num == 33].drop(['item_cnt_month'], axis=1)\n",
    "Y_valid = data[data.date_block_num == 33]['item_cnt_month']\n",
    "X_test = data[data.date_block_num == 34].drop(['item_cnt_month'], axis=1)"
   ]
  },
  {
   "cell_type": "code",
   "execution_count": 6,
   "metadata": {},
   "outputs": [],
   "source": [
    "Y_train = Y_train.clip(0, 20)\n",
    "Y_valid = Y_valid.clip(0, 20)"
   ]
  },
  {
   "cell_type": "code",
   "execution_count": 7,
   "metadata": {
    "_uuid": "6ea5437e8949db6d3e54e68b7b0c18cd0befe38c"
   },
   "outputs": [],
   "source": [
    "del data\n",
    "gc.collect();"
   ]
  },
  {
   "cell_type": "markdown",
   "metadata": {},
   "source": [
    "### XGB"
   ]
  },
  {
   "cell_type": "code",
   "execution_count": 8,
   "metadata": {},
   "outputs": [
    {
     "name": "stdout",
     "output_type": "stream",
     "text": [
      "[17:52:37] WARNING: /home/conda/feedstock_root/build_artifacts/xgboost_1593723605503/work/src/gbm/gbtree.cc:139: Tree method is automatically selected to be 'approx' for faster speed. To use old behavior (exact greedy algorithm on single machine), set tree_method to 'exact'.\n",
      "[0]\tvalidation_0-rmse:1.00660\tvalidation_1-rmse:0.99041\n",
      "Multiple eval metrics have been passed: 'validation_1-rmse' will be used for early stopping.\n",
      "\n",
      "Will train until validation_1-rmse hasn't improved in 10 rounds.\n",
      "[1]\tvalidation_0-rmse:0.86978\tvalidation_1-rmse:0.88829\n",
      "[2]\tvalidation_0-rmse:0.79221\tvalidation_1-rmse:0.82978\n",
      "[3]\tvalidation_0-rmse:0.74477\tvalidation_1-rmse:0.79784\n",
      "[4]\tvalidation_0-rmse:0.71579\tvalidation_1-rmse:0.77589\n",
      "[5]\tvalidation_0-rmse:0.69695\tvalidation_1-rmse:0.76058\n",
      "[6]\tvalidation_0-rmse:0.68503\tvalidation_1-rmse:0.75348\n",
      "[7]\tvalidation_0-rmse:0.67748\tvalidation_1-rmse:0.74926\n",
      "[8]\tvalidation_0-rmse:0.67092\tvalidation_1-rmse:0.74741\n",
      "[9]\tvalidation_0-rmse:0.66607\tvalidation_1-rmse:0.74547\n",
      "[10]\tvalidation_0-rmse:0.66235\tvalidation_1-rmse:0.74353\n",
      "[11]\tvalidation_0-rmse:0.65930\tvalidation_1-rmse:0.74328\n",
      "[12]\tvalidation_0-rmse:0.65393\tvalidation_1-rmse:0.74048\n",
      "[13]\tvalidation_0-rmse:0.65051\tvalidation_1-rmse:0.73912\n",
      "[14]\tvalidation_0-rmse:0.64557\tvalidation_1-rmse:0.73815\n",
      "[15]\tvalidation_0-rmse:0.64344\tvalidation_1-rmse:0.73796\n",
      "[16]\tvalidation_0-rmse:0.64151\tvalidation_1-rmse:0.73807\n",
      "[17]\tvalidation_0-rmse:0.63992\tvalidation_1-rmse:0.73926\n",
      "[18]\tvalidation_0-rmse:0.63822\tvalidation_1-rmse:0.73925\n",
      "[19]\tvalidation_0-rmse:0.63661\tvalidation_1-rmse:0.73878\n",
      "[20]\tvalidation_0-rmse:0.63513\tvalidation_1-rmse:0.73893\n",
      "[21]\tvalidation_0-rmse:0.63333\tvalidation_1-rmse:0.73891\n",
      "[22]\tvalidation_0-rmse:0.63207\tvalidation_1-rmse:0.73907\n",
      "[23]\tvalidation_0-rmse:0.62849\tvalidation_1-rmse:0.73508\n",
      "[24]\tvalidation_0-rmse:0.62630\tvalidation_1-rmse:0.73567\n",
      "[25]\tvalidation_0-rmse:0.62522\tvalidation_1-rmse:0.73582\n",
      "[26]\tvalidation_0-rmse:0.62337\tvalidation_1-rmse:0.73494\n",
      "[27]\tvalidation_0-rmse:0.62142\tvalidation_1-rmse:0.73484\n",
      "[28]\tvalidation_0-rmse:0.62033\tvalidation_1-rmse:0.73476\n",
      "[29]\tvalidation_0-rmse:0.61965\tvalidation_1-rmse:0.73407\n",
      "[30]\tvalidation_0-rmse:0.61884\tvalidation_1-rmse:0.73397\n",
      "[31]\tvalidation_0-rmse:0.61803\tvalidation_1-rmse:0.73396\n",
      "[32]\tvalidation_0-rmse:0.61690\tvalidation_1-rmse:0.73258\n",
      "[33]\tvalidation_0-rmse:0.61539\tvalidation_1-rmse:0.73225\n",
      "[34]\tvalidation_0-rmse:0.61216\tvalidation_1-rmse:0.73212\n",
      "[35]\tvalidation_0-rmse:0.61092\tvalidation_1-rmse:0.73229\n",
      "[36]\tvalidation_0-rmse:0.60980\tvalidation_1-rmse:0.73232\n",
      "[37]\tvalidation_0-rmse:0.60758\tvalidation_1-rmse:0.73284\n",
      "[38]\tvalidation_0-rmse:0.60647\tvalidation_1-rmse:0.73345\n",
      "[39]\tvalidation_0-rmse:0.60526\tvalidation_1-rmse:0.73322\n",
      "[40]\tvalidation_0-rmse:0.60455\tvalidation_1-rmse:0.73308\n",
      "[41]\tvalidation_0-rmse:0.60340\tvalidation_1-rmse:0.73325\n",
      "[42]\tvalidation_0-rmse:0.60286\tvalidation_1-rmse:0.73359\n",
      "[43]\tvalidation_0-rmse:0.60201\tvalidation_1-rmse:0.73382\n",
      "[44]\tvalidation_0-rmse:0.59989\tvalidation_1-rmse:0.73494\n",
      "Stopping. Best iteration:\n",
      "[34]\tvalidation_0-rmse:0.61216\tvalidation_1-rmse:0.73212\n",
      "\n"
     ]
    },
    {
     "data": {
      "text/plain": [
       "399.1963219642639"
      ]
     },
     "execution_count": 8,
     "metadata": {},
     "output_type": "execute_result"
    }
   ],
   "source": [
    "ts = time.time()\n",
    "\n",
    "model = XGBRegressor(\n",
    "    max_depth=10,\n",
    "    n_estimators=1000,\n",
    "    min_child_weight=0.5, \n",
    "    colsample_bytree=0.8, \n",
    "    subsample=0.8, \n",
    "    eta=0.3,\n",
    "#     tree_method='gpu_hist',\n",
    "    seed=42)\n",
    "\n",
    "model.fit(\n",
    "    X_train, \n",
    "    Y_train, \n",
    "    eval_metric=\"rmse\", \n",
    "    eval_set=[(X_train, Y_train), (X_valid, Y_valid)], \n",
    "    verbose=True, \n",
    "    early_stopping_rounds = 10)\n",
    "\n",
    "time.time() - ts"
   ]
  },
  {
   "cell_type": "code",
   "execution_count": 44,
   "metadata": {
    "_uuid": "acef75c36501f808d45f81fc69f9708fc3283bc3"
   },
   "outputs": [
    {
     "name": "stdout",
     "output_type": "stream",
     "text": [
      "[12:29:46] WARNING: /home/conda/feedstock_root/build_artifacts/xgboost_1593723605503/work/src/gbm/gbtree.cc:139: Tree method is automatically selected to be 'approx' for faster speed. To use old behavior (exact greedy algorithm on single machine), set tree_method to 'exact'.\n",
      "[0]\tvalidation_0-rmse:1.05887\tvalidation_1-rmse:1.04584\n",
      "Multiple eval metrics have been passed: 'validation_1-rmse' will be used for early stopping.\n",
      "\n",
      "Will train until validation_1-rmse hasn't improved in 10 rounds.\n",
      "[1]\tvalidation_0-rmse:0.96673\tvalidation_1-rmse:0.98035\n",
      "[2]\tvalidation_0-rmse:0.91804\tvalidation_1-rmse:0.95026\n",
      "[3]\tvalidation_0-rmse:0.88819\tvalidation_1-rmse:0.93097\n",
      "[4]\tvalidation_0-rmse:0.86947\tvalidation_1-rmse:0.92270\n",
      "[5]\tvalidation_0-rmse:0.85494\tvalidation_1-rmse:0.91630\n",
      "[6]\tvalidation_0-rmse:0.84642\tvalidation_1-rmse:0.91208\n",
      "[7]\tvalidation_0-rmse:0.83924\tvalidation_1-rmse:0.91288\n",
      "[8]\tvalidation_0-rmse:0.83503\tvalidation_1-rmse:0.91297\n",
      "[9]\tvalidation_0-rmse:0.83162\tvalidation_1-rmse:0.91237\n",
      "[10]\tvalidation_0-rmse:0.82780\tvalidation_1-rmse:0.91448\n",
      "[11]\tvalidation_0-rmse:0.82451\tvalidation_1-rmse:0.91372\n",
      "[12]\tvalidation_0-rmse:0.82237\tvalidation_1-rmse:0.91349\n",
      "[13]\tvalidation_0-rmse:0.82112\tvalidation_1-rmse:0.91388\n",
      "[14]\tvalidation_0-rmse:0.81984\tvalidation_1-rmse:0.91323\n",
      "[15]\tvalidation_0-rmse:0.81767\tvalidation_1-rmse:0.91332\n",
      "[16]\tvalidation_0-rmse:0.81614\tvalidation_1-rmse:0.91271\n",
      "Stopping. Best iteration:\n",
      "[6]\tvalidation_0-rmse:0.84642\tvalidation_1-rmse:0.91208\n",
      "\n"
     ]
    },
    {
     "data": {
      "text/plain": [
       "84.60636806488037"
      ]
     },
     "execution_count": 44,
     "metadata": {},
     "output_type": "execute_result"
    }
   ],
   "source": [
    "# model = XGBRegressor(\n",
    "#     max_depth=8,\n",
    "#     n_estimators=1000,\n",
    "#     min_child_weight=300, \n",
    "#     colsample_bytree=0.8, \n",
    "#     subsample=0.8, \n",
    "#     eta=0.3,    \n",
    "#     seed=42)"
   ]
  },
  {
   "cell_type": "code",
   "execution_count": null,
   "metadata": {},
   "outputs": [],
   "source": [
    "# model.fit(\n",
    "#     X_train, \n",
    "#     Y_train, \n",
    "#     eval_metric=\"rmse\", \n",
    "#     eval_set=[(X_train, Y_train), (X_valid, Y_valid)], \n",
    "#     verbose=True, \n",
    "#     early_stopping_rounds = 10)\n"
   ]
  },
  {
   "cell_type": "markdown",
   "metadata": {},
   "source": [
    "## Predict"
   ]
  },
  {
   "cell_type": "code",
   "execution_count": 9,
   "metadata": {},
   "outputs": [],
   "source": [
    "# Y_pred = model.predict(X_valid).clip(0, 20)\n",
    "# Y_test = model.predict(X_test).clip(0, 20)\n",
    "Y_pred = model.predict(X_valid).clip(0, 20)\n",
    "Y_test = model.predict(X_test).clip(0, 20)\n",
    "\n"
   ]
  },
  {
   "cell_type": "code",
   "execution_count": 10,
   "metadata": {},
   "outputs": [
    {
     "name": "stdout",
     "output_type": "stream",
     "text": [
      "validation rmse: 0.73152316\n"
     ]
    }
   ],
   "source": [
    "print('validation rmse:',np.sqrt(mean_squared_error(Y_valid, Y_pred)))"
   ]
  },
  {
   "cell_type": "markdown",
   "metadata": {},
   "source": [
    "## Submission"
   ]
  },
  {
   "cell_type": "code",
   "execution_count": 11,
   "metadata": {
    "_uuid": "8ff5a80a22d046c5ca1cb27e938c757b607551d2"
   },
   "outputs": [
    {
     "ename": "NameError",
     "evalue": "name 'test' is not defined",
     "output_type": "error",
     "traceback": [
      "\u001b[0;31m---------------------------------------------------------------------------\u001b[0m",
      "\u001b[0;31mNameError\u001b[0m                                 Traceback (most recent call last)",
      "\u001b[0;32m<ipython-input-11-001ea2c34738>\u001b[0m in \u001b[0;36m<module>\u001b[0;34m\u001b[0m\n\u001b[1;32m      1\u001b[0m submission = pd.DataFrame({\n\u001b[0;32m----> 2\u001b[0;31m     \u001b[0;34m\"ID\"\u001b[0m\u001b[0;34m:\u001b[0m \u001b[0mtest\u001b[0m\u001b[0;34m.\u001b[0m\u001b[0mindex\u001b[0m\u001b[0;34m,\u001b[0m\u001b[0;34m\u001b[0m\u001b[0;34m\u001b[0m\u001b[0m\n\u001b[0m\u001b[1;32m      3\u001b[0m     \u001b[0;34m\"item_cnt_month\"\u001b[0m\u001b[0;34m:\u001b[0m \u001b[0mY_test\u001b[0m\u001b[0;34m\u001b[0m\u001b[0;34m\u001b[0m\u001b[0m\n\u001b[1;32m      4\u001b[0m })\n\u001b[1;32m      5\u001b[0m \u001b[0msubmission\u001b[0m\u001b[0;34m.\u001b[0m\u001b[0mto_csv\u001b[0m\u001b[0;34m(\u001b[0m\u001b[0;34m'submission/xgb3_submission.csv'\u001b[0m\u001b[0;34m,\u001b[0m \u001b[0mindex\u001b[0m\u001b[0;34m=\u001b[0m\u001b[0;32mFalse\u001b[0m\u001b[0;34m)\u001b[0m\u001b[0;34m\u001b[0m\u001b[0;34m\u001b[0m\u001b[0m\n",
      "\u001b[0;31mNameError\u001b[0m: name 'test' is not defined"
     ]
    }
   ],
   "source": [
    "submission = pd.DataFrame({\n",
    "    \"ID\": test.index, \n",
    "    \"item_cnt_month\": Y_test\n",
    "})\n",
    "submission.to_csv('submission/xgb3_submission.csv', index=False)\n",
    "\n",
    "# save predictions for an ensemble\n",
    "pickle.dump(Y_pred, open('model/xgb3_train.pickle', 'wb'))\n",
    "pickle.dump(Y_test, open('model/xgb3_test.pickle', 'wb'))"
   ]
  },
  {
   "cell_type": "code",
   "execution_count": 66,
   "metadata": {
    "_uuid": "c8adc7c93323eb77baeceb2e8db17390b5c4deb3"
   },
   "outputs": [
    {
     "data": {
      "text/plain": [
       "<matplotlib.axes._subplots.AxesSubplot at 0x7fec79255c90>"
      ]
     },
     "execution_count": 66,
     "metadata": {},
     "output_type": "execute_result"
    },
    {
     "data": {
      "image/png": "[encoded data removed]",
      "text/plain": [
       "<Figure size 720x1008 with 1 Axes>"
      ]
     },
     "metadata": {
      "needs_background": "light"
     },
     "output_type": "display_data"
    }
   ],
   "source": [
    "plot_features(model, (10,14))"
   ]
  },
  {
   "cell_type": "code",
   "execution_count": null,
   "metadata": {},
   "outputs": [],
   "source": []
  }
 ],
 "metadata": {
  "kernelspec": {
   "display_name": "Python 3",
   "language": "python",
   "name": "python3"
  },
  "language_info": {
   "codemirror_mode": {
    "name": "ipython",
    "version": 3
   },
   "file_extension": ".py",
   "mimetype": "text/x-python",
   "name": "python",
   "nbconvert_exporter": "python",
   "pygments_lexer": "ipython3",
   "version": "3.7.6"
  },
  "toc": {
   "base_numbering": 1,
   "nav_menu": {},
   "number_sections": true,
   "sideBar": true,
   "skip_h1_title": true,
   "title_cell": "Table of Contents",
   "title_sidebar": "Contents",
   "toc_cell": false,
   "toc_position": {
    "height": "calc(100% - 180px)",
    "left": "10px",
    "top": "150px",
    "width": "384px"
   },
   "toc_section_display": true,
   "toc_window_display": true
  }
 },
 "nbformat": 4,
 "nbformat_minor": 1
}
