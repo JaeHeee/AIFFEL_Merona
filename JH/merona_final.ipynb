{
 "cells": [
  {
   "cell_type": "markdown",
   "metadata": {},
   "source": [
    "\n",
    "# AIFFEL_Kaggle_Predict Future Sales"
   ]
  },
  {
   "cell_type": "markdown",
   "metadata": {},
   "source": [
    "---"
   ]
  },
  {
   "cell_type": "markdown",
   "metadata": {},
   "source": [
    "## Import"
   ]
  },
  {
   "cell_type": "code",
   "execution_count": 269,
   "metadata": {},
   "outputs": [],
   "source": [
    "import os\n",
    "import gc\n",
    "import numpy as np \n",
    "import pandas as pd \n",
    "import matplotlib.pyplot as plt\n",
    "import seaborn as sns\n",
    "sns.set(style=\"darkgrid\")\n",
    "import re\n",
    "from itertools import product\n",
    "import time\n",
    "import pickle\n",
    "\n",
    "from sklearn.preprocessing import LabelEncoder\n",
    "from sklearn.metrics import mean_squared_error\n",
    "\n",
    "from xgboost import XGBRegressor\n",
    "from sklearn.ensemble import RandomForestRegressor\n",
    "from sklearn.linear_model import LinearRegression, Lasso\n",
    "from tensorflow.keras import Sequential\n",
    "from tensorflow.keras.layers import Dense\n",
    "import tensorflow\n",
    "from tensorflow.keras.optimizers import Adam\n",
    "\n",
    "import lightgbm as lgb\n",
    "\n"
   ]
  },
  {
   "cell_type": "markdown",
   "metadata": {},
   "source": [
    "## Load Data"
   ]
  },
  {
   "cell_type": "code",
   "execution_count": 2,
   "metadata": {},
   "outputs": [],
   "source": [
    "items=pd.read_csv(\"../data/items.csv\")\n",
    "shops=pd.read_csv(\"../data/shops.csv\")\n",
    "cats=pd.read_csv(\"../data/item_categories.csv\")\n",
    "train=pd.read_csv(\"../data/sales_train.csv\")\n",
    "test=pd.read_csv(\"../data/test.csv\")"
   ]
  },
  {
   "cell_type": "markdown",
   "metadata": {},
   "source": [
    "## Data cleaning"
   ]
  },
  {
   "cell_type": "markdown",
   "metadata": {},
   "source": [
    "### outliers"
   ]
  },
  {
   "cell_type": "code",
   "execution_count": 3,
   "metadata": {},
   "outputs": [
    {
     "data": {
      "text/plain": [
       "<matplotlib.axes._subplots.AxesSubplot at 0x7f645968d3d0>"
      ]
     },
     "execution_count": 3,
     "metadata": {},
     "output_type": "execute_result"
    },
    {
     "data": {
      "image/png": "[encoded data removed]",
      "text/plain": [
       "<Figure size 720x288 with 1 Axes>"
      ]
     },
     "metadata": {},
     "output_type": "display_data"
    },
    {
     "data": {
      "image/png": "[encoded data removed]",
      "text/plain": [
       "<Figure size 720x288 with 1 Axes>"
      ]
     },
     "metadata": {},
     "output_type": "display_data"
    }
   ],
   "source": [
    "plt.figure(figsize=(10,4))\n",
    "plt.xlim(-100, 3000)\n",
    "flierprops = dict(marker='o', markerfacecolor='purple', markersize=6,\n",
    "                  linestyle='none', markeredgecolor='black')\n",
    "sns.boxplot(x=train.item_cnt_day, flierprops=flierprops)\n",
    "\n",
    "plt.figure(figsize=(10,4))\n",
    "plt.xlim(train.item_price.min(), train.item_price.max()*1.1)\n",
    "sns.boxplot(x=train.item_price, flierprops=flierprops)"
   ]
  },
  {
   "cell_type": "code",
   "execution_count": 4,
   "metadata": {},
   "outputs": [],
   "source": [
    "train = train[(train.item_price < 300000 )& (train.item_cnt_day < 1000)]"
   ]
  },
  {
   "cell_type": "code",
   "execution_count": 5,
   "metadata": {},
   "outputs": [],
   "source": [
    "# item_price, item_cnt_day이 0 보다 작은 것들 처리해줍니다.\n",
    "train = train[train.item_price > 0].reset_index(drop = True)\n",
    "train.loc[train.item_cnt_day < 1, \"item_cnt_day\"] = 0"
   ]
  },
  {
   "cell_type": "markdown",
   "metadata": {},
   "source": [
    "### Shop Data"
   ]
  },
  {
   "cell_type": "code",
   "execution_count": 6,
   "metadata": {},
   "outputs": [],
   "source": [
    "# shop_id 와 shop_name 이 맞지 않는 데이터 처리\n",
    "# Якутск Орджоникидзе, 56\n",
    "train.loc[train.shop_id == 0, 'shop_id'] = 57\n",
    "test.loc[test.shop_id == 0, 'shop_id'] = 57\n",
    "# Якутск ТЦ \"Центральный\"\n",
    "train.loc[train.shop_id == 1, 'shop_id'] = 58\n",
    "test.loc[test.shop_id == 1, 'shop_id'] = 58\n",
    "# Жуковский ул. Чкалова 39м²\n",
    "train.loc[train.shop_id == 10, 'shop_id'] = 11\n",
    "test.loc[test.shop_id == 10, 'shop_id'] = 11"
   ]
  },
  {
   "cell_type": "code",
   "execution_count": 7,
   "metadata": {},
   "outputs": [],
   "source": [
    "# shop_name 통일시켜주기\n",
    "shops.loc[ shops.shop_name == 'Сергиев Посад ТЦ \"7Я\"',\"shop_name\" ] = 'СергиевПосад ТЦ \"7Я\"'\n",
    "# city 뽑아내기\n",
    "shops[\"city\"] = shops.shop_name.str.split(\" \").map( lambda x: x[0] )\n",
    "# category 뽑아내기\n",
    "shops[\"category\"] = shops.shop_name.str.split(\" \").map( lambda x: x[1] )\n",
    "shops.loc[shops.city == \"!Якутск\", \"city\"] = \"Якутск\""
   ]
  },
  {
   "cell_type": "code",
   "execution_count": 8,
   "metadata": {},
   "outputs": [],
   "source": [
    "# 특정한 shop category가 5개이상 이상있으면 other로 묶어준다.\n",
    "category = []\n",
    "for cat in shops.category.unique():\n",
    "    if len(shops[shops.category == cat]) >= 5:\n",
    "        category.append(cat)\n",
    "shops.category = shops.category.apply( lambda x: x if (x in category) else \"other\" )"
   ]
  },
  {
   "cell_type": "code",
   "execution_count": 9,
   "metadata": {},
   "outputs": [],
   "source": [
    "# encoding해주기\n",
    "shops[\"shop_category\"] = LabelEncoder().fit_transform( shops.category )\n",
    "shops[\"shop_city\"] = LabelEncoder().fit_transform( shops.city )\n",
    "shops = shops[[\"shop_id\", \"shop_category\", \"shop_city\"]]"
   ]
  },
  {
   "cell_type": "markdown",
   "metadata": {},
   "source": [
    "### Item Category Data"
   ]
  },
  {
   "cell_type": "code",
   "execution_count": 10,
   "metadata": {},
   "outputs": [],
   "source": [
    "# 카테고리 type_code 분리해내기\n",
    "cats[\"type_code\"] = cats.item_category_name.apply( lambda x: x.split(\" \")[0] ).astype(str)\n",
    "cats.loc[ (cats.type_code == \"Игровые\")| (cats.type_code == \"Аксессуары\"), \"category\" ] = \"Игры\""
   ]
  },
  {
   "cell_type": "code",
   "execution_count": 11,
   "metadata": {},
   "outputs": [],
   "source": [
    "# 특정한 카테고리 type_code가 5개이상 이상있으면 etc로 묶어준다.\n",
    "category = []\n",
    "for cat in cats.type_code.unique():\n",
    "    if len(cats[cats.type_code == cat]) >= 5: \n",
    "        category.append( cat )\n",
    "cats.type_code = cats.type_code.apply(lambda x: x if (x in category) else \"etc\")"
   ]
  },
  {
   "cell_type": "code",
   "execution_count": 12,
   "metadata": {},
   "outputs": [],
   "source": [
    "# subtype 분리해내기\n",
    "cats.type_code = LabelEncoder().fit_transform(cats.type_code)\n",
    "cats[\"split\"] = cats.item_category_name.apply(lambda x: x.split(\"-\"))\n",
    "cats[\"subtype\"] = cats.split.apply(lambda x: x[1].strip() if len(x) > 1 else x[0].strip())\n",
    "cats[\"subtype_code\"] = LabelEncoder().fit_transform( cats[\"subtype\"] )\n",
    "cats = cats[[\"item_category_id\", \"subtype_code\", \"type_code\"]]"
   ]
  },
  {
   "cell_type": "markdown",
   "metadata": {},
   "source": [
    "### Item Data"
   ]
  },
  {
   "cell_type": "code",
   "execution_count": 13,
   "metadata": {},
   "outputs": [],
   "source": [
    "def name_correction(x):\n",
    "    x = x.lower() # 소문자로 만들기\n",
    "    x = x.partition('[')[0] # [ 기준 분리\n",
    "    x = x.partition('(')[0] # ( 기준 분리\n",
    "    x = re.sub('[^A-Za-z0-9А-Яа-я]+', ' ', x) # 특수문자 제거\n",
    "    x = x.replace('  ', ' ') # 두칸짜리 공백 한칸으로\n",
    "    x = x.strip() # 공백 제거\n",
    "    return x"
   ]
  },
  {
   "cell_type": "code",
   "execution_count": 14,
   "metadata": {},
   "outputs": [
    {
     "name": "stderr",
     "output_type": "stream",
     "text": [
      "/home/aiffel0046/anaconda3/envs/aiffel/lib/python3.7/site-packages/ipykernel_launcher.py:2: FutureWarning: Columnar iteration over characters will be deprecated in future releases.\n",
      "  \n",
      "/home/aiffel0046/anaconda3/envs/aiffel/lib/python3.7/site-packages/ipykernel_launcher.py:3: FutureWarning: Columnar iteration over characters will be deprecated in future releases.\n",
      "  This is separate from the ipykernel package so we can avoid doing imports until\n"
     ]
    }
   ],
   "source": [
    "# [,( 기준으로 분리\n",
    "items[\"name1\"], items[\"name2\"] = items.item_name.str.split(\"[\", 1).str\n",
    "items[\"name1\"], items[\"name3\"] = items.item_name.str.split(\"(\", 1).str\n",
    "\n",
    "# 특수문자 공백으로 만들고 소문자로\n",
    "items[\"name2\"] = items.name2.str.replace('[^A-Za-z0-9А-Яа-я]+', \" \").str.lower()\n",
    "items[\"name3\"] = items.name3.str.replace('[^A-Za-z0-9А-Яа-я]+', \" \").str.lower()\n",
    "\n",
    "# Nan 값 0으로\n",
    "items = items.fillna('0')\n",
    "\n",
    "# name_correction 함수 적용\n",
    "items[\"item_name\"] = items[\"item_name\"].apply(lambda x: name_correction(x))\n",
    "\n",
    "# 0이 아닌 경우 뒤에오는 ], ) 제거\n",
    "items.name2 = items.name2.apply( lambda x: x[:-1] if x !=\"0\" else \"0\")"
   ]
  },
  {
   "cell_type": "code",
   "execution_count": 16,
   "metadata": {},
   "outputs": [],
   "source": [
    "items[\"type\"] = items.name2.apply(lambda x: x[0:8] if x.split(\" \")[0] == \"xbox\" else x.split(\" \")[0] )\n",
    "items.loc[(items.type == \"x360\") | (items.type == \"xbox360\") | (items.type == \"xbox 360\") ,\"type\"] = \"xbox 360\"\n",
    "items.loc[ items.type == \"\", \"type\"] = \"mac\"\n",
    "items.type = items.type.apply( lambda x: x.replace(\" \", \"\") )\n",
    "items.loc[ (items.type == 'pc' )| (items.type == 'pс') | (items.type == \"pc\"), \"type\" ] = \"pc\"\n",
    "items.loc[ items.type == 'рs3' , \"type\"] = \"ps3\""
   ]
  },
  {
   "cell_type": "code",
   "execution_count": 17,
   "metadata": {},
   "outputs": [],
   "source": [
    "group_sum = items.groupby([\"type\"]).agg({\"item_id\": \"count\"})\n",
    "group_sum = group_sum.reset_index()\n",
    "drop_cols = []\n",
    "for cat in group_sum.type.unique():\n",
    "    if group_sum.loc[(group_sum.type == cat), \"item_id\"].values[0] <40:\n",
    "        drop_cols.append(cat)\n",
    "items.name2 = items.name2.apply( lambda x: \"other\" if (x in drop_cols) else x )\n",
    "items = items.drop([\"type\"], axis = 1)"
   ]
  },
  {
   "cell_type": "code",
   "execution_count": 18,
   "metadata": {},
   "outputs": [
    {
     "data": {
      "text/html": [
       "<div>\n",
       "<style scoped>\n",
       "    .dataframe tbody tr th:only-of-type {\n",
       "        vertical-align: middle;\n",
       "    }\n",
       "\n",
       "    .dataframe tbody tr th {\n",
       "        vertical-align: top;\n",
       "    }\n",
       "\n",
       "    .dataframe thead th {\n",
       "        text-align: right;\n",
       "    }\n",
       "</style>\n",
       "<table border=\"1\" class=\"dataframe\">\n",
       "  <thead>\n",
       "    <tr style=\"text-align: right;\">\n",
       "      <th></th>\n",
       "      <th>item_id</th>\n",
       "      <th>item_category_id</th>\n",
       "      <th>name2</th>\n",
       "      <th>name3</th>\n",
       "    </tr>\n",
       "  </thead>\n",
       "  <tbody>\n",
       "    <tr>\n",
       "      <th>0</th>\n",
       "      <td>0</td>\n",
       "      <td>40</td>\n",
       "      <td>4</td>\n",
       "      <td>1331</td>\n",
       "    </tr>\n",
       "    <tr>\n",
       "      <th>1</th>\n",
       "      <td>1</td>\n",
       "      <td>76</td>\n",
       "      <td>64</td>\n",
       "      <td>42</td>\n",
       "    </tr>\n",
       "    <tr>\n",
       "      <th>2</th>\n",
       "      <td>2</td>\n",
       "      <td>40</td>\n",
       "      <td>4</td>\n",
       "      <td>1011</td>\n",
       "    </tr>\n",
       "    <tr>\n",
       "      <th>3</th>\n",
       "      <td>3</td>\n",
       "      <td>40</td>\n",
       "      <td>4</td>\n",
       "      <td>1010</td>\n",
       "    </tr>\n",
       "    <tr>\n",
       "      <th>4</th>\n",
       "      <td>4</td>\n",
       "      <td>40</td>\n",
       "      <td>4</td>\n",
       "      <td>1572</td>\n",
       "    </tr>\n",
       "  </tbody>\n",
       "</table>\n",
       "</div>"
      ],
      "text/plain": [
       "   item_id  item_category_id  name2  name3\n",
       "0        0                40      4   1331\n",
       "1        1                76     64     42\n",
       "2        2                40      4   1011\n",
       "3        3                40      4   1010\n",
       "4        4                40      4   1572"
      ]
     },
     "execution_count": 18,
     "metadata": {},
     "output_type": "execute_result"
    }
   ],
   "source": [
    "items.name2 = LabelEncoder().fit_transform(items.name2)\n",
    "items.name3 = LabelEncoder().fit_transform(items.name3)\n",
    "\n",
    "items.drop([\"item_name\", \"name1\"],axis = 1, inplace= True)\n",
    "items.head()"
   ]
  },
  {
   "cell_type": "markdown",
   "metadata": {},
   "source": [
    "## Data Preprocessing"
   ]
  },
  {
   "cell_type": "code",
   "execution_count": 19,
   "metadata": {},
   "outputs": [
    {
     "data": {
      "text/plain": [
       "6.832607269287109"
      ]
     },
     "execution_count": 19,
     "metadata": {},
     "output_type": "execute_result"
    }
   ],
   "source": [
    "# (월, 가게, 아이템) 데이터프레임을 모든 경우를 조합해서 만든다.\n",
    "matrix = []\n",
    "cols  = [\"date_block_num\", \"shop_id\", \"item_id\"]\n",
    "for i in range(34):\n",
    "    sales = train[train.date_block_num == i]\n",
    "    matrix.append( np.array(list( product( [i], sales.shop_id.unique(), sales.item_id.unique() ) ), dtype = np.int16) )\n",
    "\n",
    "matrix = pd.DataFrame( np.vstack(matrix), columns = cols )\n",
    "matrix[\"date_block_num\"] = matrix[\"date_block_num\"].astype(np.int8)\n",
    "matrix[\"shop_id\"] = matrix[\"shop_id\"].astype(np.int8)\n",
    "matrix[\"item_id\"] = matrix[\"item_id\"].astype(np.int16)\n",
    "matrix.sort_values( cols, inplace = True )"
   ]
  },
  {
   "cell_type": "code",
   "execution_count": 21,
   "metadata": {},
   "outputs": [
    {
     "data": {
      "text/plain": [
       "2.5161781311035156"
      ]
     },
     "execution_count": 21,
     "metadata": {},
     "output_type": "execute_result"
    }
   ],
   "source": [
    "# 월별 판매량\n",
    "group = train.groupby( [\"date_block_num\", \"shop_id\", \"item_id\"] ).agg( {\"item_cnt_day\": [\"sum\"]} )\n",
    "group.columns = [\"item_cnt_month\"]\n",
    "group.reset_index( inplace = True)\n",
    "matrix = pd.merge( matrix, group, on = cols, how = \"left\" )\n",
    "matrix[\"item_cnt_month\"] = matrix[\"item_cnt_month\"].fillna(0).astype(np.float16)"
   ]
  },
  {
   "cell_type": "code",
   "execution_count": 27,
   "metadata": {},
   "outputs": [],
   "source": [
    "# test 에 date_block_num 추가 (34 = 예측해야하는 달)\n",
    "test[\"date_block_num\"] = 34\n",
    "test[\"date_block_num\"] = test[\"date_block_num\"].astype(np.int8)\n",
    "test[\"shop_id\"] = test.shop_id.astype(np.int8)\n",
    "test[\"item_id\"] = test.item_id.astype(np.int16)"
   ]
  },
  {
   "cell_type": "code",
   "execution_count": 29,
   "metadata": {},
   "outputs": [
    {
     "data": {
      "text/plain": [
       "0.03655719757080078"
      ]
     },
     "execution_count": 29,
     "metadata": {},
     "output_type": "execute_result"
    }
   ],
   "source": [
    "# matrix += test\n",
    "matrix = pd.concat([matrix, test.drop([\"ID\"],axis = 1)], ignore_index=True, sort=False, keys=cols)\n",
    "matrix.fillna( 0, inplace = True )"
   ]
  },
  {
   "cell_type": "code",
   "execution_count": 30,
   "metadata": {
    "_cell_guid": "79c7e3d0-c299-4dcb-8224-4455121ee9b0",
    "_uuid": "d629ff2d2480ee46fbb7e2d37f6b5fab8052498a"
   },
   "outputs": [
    {
     "data": {
      "text/plain": [
       "2.227229118347168"
      ]
     },
     "execution_count": 30,
     "metadata": {},
     "output_type": "execute_result"
    }
   ],
   "source": [
    "# matrix에 shops, items, cats 추가\n",
    "matrix = pd.merge( matrix, shops, on = [\"shop_id\"], how = \"left\" )\n",
    "matrix = pd.merge(matrix, items, on = [\"item_id\"], how = \"left\")\n",
    "matrix = pd.merge( matrix, cats, on = [\"item_category_id\"], how = \"left\" )\n",
    "matrix[\"shop_city\"] = matrix[\"shop_city\"].astype(np.int8)\n",
    "matrix[\"shop_category\"] = matrix[\"shop_category\"].astype(np.int8)\n",
    "matrix[\"item_category_id\"] = matrix[\"item_category_id\"].astype(np.int8)\n",
    "matrix[\"subtype_code\"] = matrix[\"subtype_code\"].astype(np.int8)\n",
    "matrix[\"name2\"] = matrix[\"name2\"].astype(np.int8)\n",
    "matrix[\"name3\"] = matrix[\"name3\"].astype(np.int16)\n",
    "matrix[\"type_code\"] = matrix[\"type_code\"].astype(np.int8)"
   ]
  },
  {
   "cell_type": "code",
   "execution_count": 31,
   "metadata": {},
   "outputs": [],
   "source": [
    "# lag : 이전 달들의 판매량\n",
    "def lag_feature( df,lags, cols ):\n",
    "    for col in cols:\n",
    "        tmp = df[[\"date_block_num\", \"shop_id\",\"item_id\",col ]]\n",
    "        for i in lags:\n",
    "            shifted = tmp.copy()\n",
    "            shifted.columns = [\"date_block_num\", \"shop_id\", \"item_id\", col + \"_lag_\"+str(i)]\n",
    "            shifted.date_block_num = shifted.date_block_num + i\n",
    "            df = pd.merge(df, shifted, on=['date_block_num','shop_id','item_id'], how='left')\n",
    "    return df"
   ]
  },
  {
   "cell_type": "code",
   "execution_count": 32,
   "metadata": {},
   "outputs": [
    {
     "data": {
      "text/plain": [
       "10.090244770050049"
      ]
     },
     "execution_count": 32,
     "metadata": {},
     "output_type": "execute_result"
    }
   ],
   "source": [
    "matrix = lag_feature( matrix, [1,2,3], [\"item_cnt_month\"] )"
   ]
  },
  {
   "cell_type": "code",
   "execution_count": 34,
   "metadata": {},
   "outputs": [
    {
     "data": {
      "text/plain": [
       "5.368463039398193"
      ]
     },
     "execution_count": 34,
     "metadata": {},
     "output_type": "execute_result"
    }
   ],
   "source": [
    "# 월별 팔린 평균 아이템 갯수, lag\n",
    "group = matrix.groupby( [\"date_block_num\"] ).agg({\"item_cnt_month\" : [\"mean\"]})\n",
    "group.columns = [\"date_avg_item_cnt\"]\n",
    "group.reset_index(inplace = True)\n",
    "\n",
    "matrix = pd.merge(matrix, group, on = [\"date_block_num\"], how = \"left\")\n",
    "matrix.date_avg_item_cnt = matrix[\"date_avg_item_cnt\"].astype(np.float16)\n",
    "matrix = lag_feature( matrix, [1], [\"date_avg_item_cnt\"] )\n",
    "matrix.drop( [\"date_avg_item_cnt\"], axis = 1, inplace = True )"
   ]
  },
  {
   "cell_type": "code",
   "execution_count": 35,
   "metadata": {},
   "outputs": [
    {
     "data": {
      "text/plain": [
       "13.005964279174805"
      ]
     },
     "execution_count": 35,
     "metadata": {},
     "output_type": "execute_result"
    }
   ],
   "source": [
    "# 월별의 아이템별 팔린 평균 갯수, lag\n",
    "group = matrix.groupby(['date_block_num', 'item_id']).agg({'item_cnt_month': ['mean']})\n",
    "group.columns = [ 'date_item_avg_item_cnt' ]\n",
    "group.reset_index(inplace=True)\n",
    "\n",
    "matrix = pd.merge(matrix, group, on=['date_block_num','item_id'], how='left')\n",
    "matrix.date_item_avg_item_cnt = matrix['date_item_avg_item_cnt'].astype(np.float16)\n",
    "matrix = lag_feature(matrix, [1,2,3], ['date_item_avg_item_cnt'])\n",
    "matrix.drop(['date_item_avg_item_cnt'], axis=1, inplace=True)"
   ]
  },
  {
   "cell_type": "code",
   "execution_count": 36,
   "metadata": {},
   "outputs": [
    {
     "name": "stderr",
     "output_type": "stream",
     "text": [
      "/home/aiffel0046/anaconda3/envs/aiffel/lib/python3.7/site-packages/ipykernel_launcher.py:8: UserWarning: Pandas doesn't allow columns to be created via a new attribute name - see https://pandas.pydata.org/pandas-docs/stable/indexing.html#attribute-access\n",
      "  \n"
     ]
    },
    {
     "data": {
      "text/plain": [
       "12.918829202651978"
      ]
     },
     "execution_count": 36,
     "metadata": {},
     "output_type": "execute_result"
    }
   ],
   "source": [
    "# 월별의 가게에서 팔린 평균 아이템 갯수, lag\n",
    "group = matrix.groupby( [\"date_block_num\",\"shop_id\"] ).agg({\"item_cnt_month\" : [\"mean\"]})\n",
    "group.columns = [\"date_shop_avg_item_cnt\"]\n",
    "group.reset_index(inplace = True)\n",
    "\n",
    "matrix = pd.merge(matrix, group, on = [\"date_block_num\",\"shop_id\"], how = \"left\")\n",
    "matrix.date_avg_item_cnt = matrix[\"date_shop_avg_item_cnt\"].astype(np.float16)\n",
    "matrix = lag_feature( matrix, [1,2,3], [\"date_shop_avg_item_cnt\"] )\n",
    "matrix.drop( [\"date_shop_avg_item_cnt\"], axis = 1, inplace = True )"
   ]
  },
  {
   "cell_type": "code",
   "execution_count": 37,
   "metadata": {},
   "outputs": [
    {
     "name": "stderr",
     "output_type": "stream",
     "text": [
      "/home/aiffel0046/anaconda3/envs/aiffel/lib/python3.7/site-packages/ipykernel_launcher.py:7: UserWarning: Pandas doesn't allow columns to be created via a new attribute name - see https://pandas.pydata.org/pandas-docs/stable/indexing.html#attribute-access\n",
      "  import sys\n"
     ]
    }
   ],
   "source": [
    "# 월별의 가게별 아이템 별 팔린 평균 아이템 갯수, lag\n",
    "group = matrix.groupby( [\"date_block_num\",\"shop_id\",\"item_id\"] ).agg({\"item_cnt_month\" : [\"mean\"]})\n",
    "group.columns = [\"date_shop_item_avg_item_cnt\"]\n",
    "group.reset_index(inplace = True)\n",
    "\n",
    "matrix = pd.merge(matrix, group, on = [\"date_block_num\",\"shop_id\",\"item_id\"], how = \"left\")\n",
    "matrix.date_avg_item_cnt = matrix[\"date_shop_item_avg_item_cnt\"].astype(np.float16)\n",
    "matrix = lag_feature( matrix, [1,2,3], [\"date_shop_item_avg_item_cnt\"] )\n",
    "matrix.drop( [\"date_shop_item_avg_item_cnt\"], axis = 1, inplace = True )"
   ]
  },
  {
   "cell_type": "code",
   "execution_count": 38,
   "metadata": {},
   "outputs": [],
   "source": [
    "# 월별 , 가게별 서브카테고리별 팔린 아이템 평균 갯수, lag\n",
    "group = matrix.groupby(['date_block_num', 'shop_id', 'subtype_code']).agg({'item_cnt_month': ['mean']})\n",
    "group.columns = ['date_shop_subtype_avg_item_cnt']\n",
    "group.reset_index(inplace=True)\n",
    "\n",
    "matrix = pd.merge(matrix, group, on=['date_block_num', 'shop_id', 'subtype_code'], how='left')\n",
    "matrix.date_shop_subtype_avg_item_cnt = matrix['date_shop_subtype_avg_item_cnt'].astype(np.float16)\n",
    "matrix = lag_feature(matrix, [1], ['date_shop_subtype_avg_item_cnt'])\n",
    "matrix.drop(['date_shop_subtype_avg_item_cnt'], axis=1, inplace=True)"
   ]
  },
  {
   "cell_type": "code",
   "execution_count": 39,
   "metadata": {},
   "outputs": [],
   "source": [
    "# 월별 도시별 팔린 아이템 평균 갯수, lag\n",
    "group = matrix.groupby(['date_block_num', 'shop_city']).agg({'item_cnt_month': ['mean']})\n",
    "group.columns = ['date_city_avg_item_cnt']\n",
    "group.reset_index(inplace=True)\n",
    "\n",
    "matrix = pd.merge(matrix, group, on=['date_block_num', \"shop_city\"], how='left')\n",
    "matrix.date_city_avg_item_cnt = matrix['date_city_avg_item_cnt'].astype(np.float16)\n",
    "matrix = lag_feature(matrix, [1], ['date_city_avg_item_cnt'])\n",
    "matrix.drop(['date_city_avg_item_cnt'], axis=1, inplace=True)"
   ]
  },
  {
   "cell_type": "code",
   "execution_count": 40,
   "metadata": {},
   "outputs": [],
   "source": [
    "# 월별 아이템, 도시 단위 평균 아이템 팔린 갯수, lag\n",
    "group = matrix.groupby(['date_block_num', 'item_id', 'shop_city']).agg({'item_cnt_month': ['mean']})\n",
    "group.columns = [ 'date_item_city_avg_item_cnt' ]\n",
    "group.reset_index(inplace=True)\n",
    "\n",
    "matrix = pd.merge(matrix, group, on=['date_block_num', 'item_id', 'shop_city'], how='left')\n",
    "matrix.date_item_city_avg_item_cnt = matrix['date_item_city_avg_item_cnt'].astype(np.float16)\n",
    "matrix = lag_feature(matrix, [1], ['date_item_city_avg_item_cnt'])\n",
    "matrix.drop(['date_item_city_avg_item_cnt'], axis=1, inplace=True)"
   ]
  },
  {
   "cell_type": "code",
   "execution_count": 41,
   "metadata": {},
   "outputs": [],
   "source": [
    "# 현재 달 기준, 지난 달의 특정 feature의 값이 전체 평균보다 높은지 낮은지 판단\n",
    "# 지난달의 값이 없을 경우 최대 6개월 전까지 확인\n",
    "\n",
    "# 전 기간동안 각 아이템 평균가격\n",
    "group = train.groupby( [\"item_id\"] ).agg({\"item_price\": [\"mean\"]})\n",
    "group.columns = [\"item_avg_item_price\"]\n",
    "group.reset_index(inplace = True)\n",
    "\n",
    "matrix = matrix.merge( group, on = [\"item_id\"], how = \"left\" )\n",
    "matrix[\"item_avg_item_price\"] = matrix.item_avg_item_price.astype(np.float16)\n",
    "\n",
    "# 월별 아이템 평균가격\n",
    "group = train.groupby( [\"date_block_num\",\"item_id\"] ).agg( {\"item_price\": [\"mean\"]} )\n",
    "group.columns = [\"date_item_avg_item_price\"]\n",
    "group.reset_index(inplace = True)\n",
    "\n",
    "matrix = matrix.merge(group, on = [\"date_block_num\",\"item_id\"], how = \"left\")\n",
    "matrix[\"date_item_avg_item_price\"] = matrix.date_item_avg_item_price.astype(np.float16)\n",
    "\n",
    "# 월별 각 1~3개월 전 평균 가격\n",
    "lags = [1, 2, 3]\n",
    "matrix = lag_feature( matrix, lags, [\"date_item_avg_item_price\"] )\n",
    "for i in lags:\n",
    "    matrix[\"delta_price_lag_\" + str(i) ] = (matrix[\"date_item_avg_item_price_lag_\" + str(i)]- matrix[\"item_avg_item_price\"] )/ matrix[\"item_avg_item_price\"]\n",
    "# 현재 달 기준 최근의 트렌드 찾는다.\n",
    "# 1달전 없을 경우, 최대 3달전 까지 찾는다.\n",
    "def select_trends(row) :\n",
    "    for i in lags:\n",
    "        if row[\"delta_price_lag_\" + str(i)]:\n",
    "            return row[\"delta_price_lag_\" + str(i)]\n",
    "    return 0\n",
    "\n",
    "matrix[\"delta_price_lag\"] = matrix.apply(select_trends, axis = 1)\n",
    "matrix[\"delta_price_lag\"] = matrix.delta_price_lag.astype( np.float16 )\n",
    "matrix[\"delta_price_lag\"].fillna( 0 ,inplace = True)\n",
    "\n",
    "# price trend를 찾은 후에는, 이전 lag들 drop\n",
    "features_to_drop = [\"item_avg_item_price\", \"date_item_avg_item_price\"]\n",
    "for i in lags:\n",
    "    features_to_drop.append(\"date_item_avg_item_price_lag_\" + str(i) )\n",
    "    features_to_drop.append(\"delta_price_lag_\" + str(i) )\n",
    "matrix.drop(features_to_drop, axis = 1, inplace = True)"
   ]
  },
  {
   "cell_type": "code",
   "execution_count": 42,
   "metadata": {},
   "outputs": [],
   "source": [
    "# revenue 추가\n",
    "train[\"revenue\"] = train[\"item_cnt_day\"] * train[\"item_price\"]"
   ]
  },
  {
   "cell_type": "markdown",
   "metadata": {},
   "source": [
    "* Add total shop revenue per month to matix df. \n",
    "* Add lag values of revenue per month.\n",
    "* Add delta revenue values - how current month revenue relates to global average."
   ]
  },
  {
   "cell_type": "code",
   "execution_count": 43,
   "metadata": {},
   "outputs": [],
   "source": [
    "# 가격 트렌드 처럼 총 수입 트렌드도 찾는다.\n",
    "# 월별 각 가게 총 매출\n",
    "group = train.groupby( [\"date_block_num\",\"shop_id\"] ).agg({\"revenue\": [\"sum\"] })\n",
    "group.columns = [\"date_shop_revenue\"]\n",
    "group.reset_index(inplace = True)\n",
    "\n",
    "matrix = matrix.merge( group , on = [\"date_block_num\", \"shop_id\"], how = \"left\" )\n",
    "matrix['date_shop_revenue'] = matrix['date_shop_revenue'].astype(np.float32)\n",
    "\n",
    "# 전체 기간 각 가게 매출 평균\n",
    "group = group.groupby([\"shop_id\"]).agg({ \"date_block_num\":[\"mean\"] })\n",
    "group.columns = [\"shop_avg_revenue\"]\n",
    "group.reset_index(inplace = True )\n",
    "\n",
    "matrix = matrix.merge( group, on = [\"shop_id\"], how = \"left\" )\n",
    "matrix[\"shop_avg_revenue\"] = matrix.shop_avg_revenue.astype(np.float32)\n",
    "\n",
    "# 각 가게 월평균 매출 - 전체기간 평균 매출\n",
    "matrix[\"delta_revenue\"] = (matrix['date_shop_revenue'] - matrix['shop_avg_revenue']) / matrix['shop_avg_revenue']\n",
    "matrix[\"delta_revenue\"] = matrix[\"delta_revenue\"]. astype(np.float32)\n",
    "\n",
    "# 한달전 총 매출\n",
    "matrix = lag_feature(matrix, [1], [\"delta_revenue\"])\n",
    "\n",
    "# 총매출 트랜드 찾은 후에 feature drop\n",
    "matrix[\"delta_revenue_lag_1\"] = matrix[\"delta_revenue_lag_1\"].astype(np.float32)\n",
    "matrix.drop( [\"date_shop_revenue\", \"shop_avg_revenue\", \"delta_revenue\"] ,axis = 1, inplace = True)"
   ]
  },
  {
   "cell_type": "code",
   "execution_count": 44,
   "metadata": {},
   "outputs": [],
   "source": [
    "# month, days 추가\n",
    "matrix[\"month\"] = matrix[\"date_block_num\"] % 12\n",
    "days = pd.Series([31,28,31,30,31,30,31,31,30,31,30,31])\n",
    "matrix[\"days\"] = matrix[\"month\"].map(days).astype(np.int8)"
   ]
  },
  {
   "cell_type": "code",
   "execution_count": 45,
   "metadata": {},
   "outputs": [],
   "source": [
    "# 가게별 아이템 최초 판매 이후 개월\n",
    "matrix[\"item_shop_first_sale\"] = matrix[\"date_block_num\"] - matrix.groupby([\"item_id\",\"shop_id\"])[\"date_block_num\"].transform('min')\n",
    "\n",
    "# 아이템별 최초 판매 이후 개월\n",
    "matrix[\"item_first_sale\"] = matrix[\"date_block_num\"] - matrix.groupby([\"item_id\"])[\"date_block_num\"].transform('min')"
   ]
  },
  {
   "cell_type": "code",
   "execution_count": 46,
   "metadata": {},
   "outputs": [],
   "source": [
    "# lag 값을 계산할 수 없는 3갠월 이전의 것들은 제거\n",
    "matrix = matrix[matrix[\"date_block_num\"] > 3]"
   ]
  },
  {
   "cell_type": "code",
   "execution_count": 48,
   "metadata": {},
   "outputs": [],
   "source": [
    "def fill_na(df):\n",
    "    for col in df.columns:\n",
    "        if ('_lag_' in col) & (df[col].isnull().any()):\n",
    "            if ('item_cnt' in col):\n",
    "                df[col].fillna(0, inplace=True)\n",
    "            elif ('revenue' in col):\n",
    "                df[col].fillna(0, inplace=True)\n",
    "    return df"
   ]
  },
  {
   "cell_type": "code",
   "execution_count": 49,
   "metadata": {},
   "outputs": [],
   "source": [
    "# Nan 값 0으로\n",
    "matrix = fill_na(matrix)"
   ]
  },
  {
   "cell_type": "code",
   "execution_count": 50,
   "metadata": {},
   "outputs": [
    {
     "data": {
      "text/html": [
       "<div>\n",
       "<style scoped>\n",
       "    .dataframe tbody tr th:only-of-type {\n",
       "        vertical-align: middle;\n",
       "    }\n",
       "\n",
       "    .dataframe tbody tr th {\n",
       "        vertical-align: top;\n",
       "    }\n",
       "\n",
       "    .dataframe thead th {\n",
       "        text-align: right;\n",
       "    }\n",
       "</style>\n",
       "<table border=\"1\" class=\"dataframe\">\n",
       "  <thead>\n",
       "    <tr style=\"text-align: right;\">\n",
       "      <th></th>\n",
       "      <th>1497465</th>\n",
       "      <th>1497466</th>\n",
       "      <th>1497467</th>\n",
       "      <th>1497468</th>\n",
       "      <th>1497469</th>\n",
       "    </tr>\n",
       "  </thead>\n",
       "  <tbody>\n",
       "    <tr>\n",
       "      <th>date_block_num</th>\n",
       "      <td>4.000000</td>\n",
       "      <td>4.000000</td>\n",
       "      <td>4.0</td>\n",
       "      <td>4.000000</td>\n",
       "      <td>4.000000</td>\n",
       "    </tr>\n",
       "    <tr>\n",
       "      <th>shop_id</th>\n",
       "      <td>2.000000</td>\n",
       "      <td>2.000000</td>\n",
       "      <td>2.0</td>\n",
       "      <td>2.000000</td>\n",
       "      <td>2.000000</td>\n",
       "    </tr>\n",
       "    <tr>\n",
       "      <th>item_id</th>\n",
       "      <td>27.000000</td>\n",
       "      <td>28.000000</td>\n",
       "      <td>29.0</td>\n",
       "      <td>30.000000</td>\n",
       "      <td>31.000000</td>\n",
       "    </tr>\n",
       "    <tr>\n",
       "      <th>item_cnt_month</th>\n",
       "      <td>0.000000</td>\n",
       "      <td>0.000000</td>\n",
       "      <td>0.0</td>\n",
       "      <td>0.000000</td>\n",
       "      <td>0.000000</td>\n",
       "    </tr>\n",
       "    <tr>\n",
       "      <th>shop_category</th>\n",
       "      <td>4.000000</td>\n",
       "      <td>4.000000</td>\n",
       "      <td>4.0</td>\n",
       "      <td>4.000000</td>\n",
       "      <td>4.000000</td>\n",
       "    </tr>\n",
       "    <tr>\n",
       "      <th>shop_city</th>\n",
       "      <td>0.000000</td>\n",
       "      <td>0.000000</td>\n",
       "      <td>0.0</td>\n",
       "      <td>0.000000</td>\n",
       "      <td>0.000000</td>\n",
       "    </tr>\n",
       "    <tr>\n",
       "      <th>item_category_id</th>\n",
       "      <td>19.000000</td>\n",
       "      <td>30.000000</td>\n",
       "      <td>23.0</td>\n",
       "      <td>40.000000</td>\n",
       "      <td>37.000000</td>\n",
       "    </tr>\n",
       "    <tr>\n",
       "      <th>name2</th>\n",
       "      <td>76.000000</td>\n",
       "      <td>107.000000</td>\n",
       "      <td>123.0</td>\n",
       "      <td>4.000000</td>\n",
       "      <td>4.000000</td>\n",
       "    </tr>\n",
       "    <tr>\n",
       "      <th>name3</th>\n",
       "      <td>42.000000</td>\n",
       "      <td>42.000000</td>\n",
       "      <td>42.0</td>\n",
       "      <td>42.000000</td>\n",
       "      <td>562.000000</td>\n",
       "    </tr>\n",
       "    <tr>\n",
       "      <th>subtype_code</th>\n",
       "      <td>10.000000</td>\n",
       "      <td>55.000000</td>\n",
       "      <td>16.0</td>\n",
       "      <td>4.000000</td>\n",
       "      <td>1.000000</td>\n",
       "    </tr>\n",
       "    <tr>\n",
       "      <th>type_code</th>\n",
       "      <td>3.000000</td>\n",
       "      <td>3.000000</td>\n",
       "      <td>3.0</td>\n",
       "      <td>5.000000</td>\n",
       "      <td>5.000000</td>\n",
       "    </tr>\n",
       "    <tr>\n",
       "      <th>item_cnt_month_lag_1</th>\n",
       "      <td>0.000000</td>\n",
       "      <td>0.000000</td>\n",
       "      <td>0.0</td>\n",
       "      <td>0.000000</td>\n",
       "      <td>1.000000</td>\n",
       "    </tr>\n",
       "    <tr>\n",
       "      <th>item_cnt_month_lag_2</th>\n",
       "      <td>0.000000</td>\n",
       "      <td>0.000000</td>\n",
       "      <td>0.0</td>\n",
       "      <td>1.000000</td>\n",
       "      <td>1.000000</td>\n",
       "    </tr>\n",
       "    <tr>\n",
       "      <th>item_cnt_month_lag_3</th>\n",
       "      <td>0.000000</td>\n",
       "      <td>0.000000</td>\n",
       "      <td>0.0</td>\n",
       "      <td>0.000000</td>\n",
       "      <td>4.000000</td>\n",
       "    </tr>\n",
       "    <tr>\n",
       "      <th>date_avg_item_cnt_lag_1</th>\n",
       "      <td>0.286865</td>\n",
       "      <td>0.286865</td>\n",
       "      <td>0.0</td>\n",
       "      <td>0.286865</td>\n",
       "      <td>0.286865</td>\n",
       "    </tr>\n",
       "    <tr>\n",
       "      <th>date_item_avg_item_cnt_lag_1</th>\n",
       "      <td>0.021744</td>\n",
       "      <td>0.130493</td>\n",
       "      <td>0.0</td>\n",
       "      <td>2.826172</td>\n",
       "      <td>1.260742</td>\n",
       "    </tr>\n",
       "    <tr>\n",
       "      <th>date_item_avg_item_cnt_lag_2</th>\n",
       "      <td>0.086975</td>\n",
       "      <td>0.152222</td>\n",
       "      <td>0.0</td>\n",
       "      <td>11.046875</td>\n",
       "      <td>4.781250</td>\n",
       "    </tr>\n",
       "    <tr>\n",
       "      <th>date_item_avg_item_cnt_lag_3</th>\n",
       "      <td>0.065247</td>\n",
       "      <td>0.173950</td>\n",
       "      <td>0.0</td>\n",
       "      <td>18.734375</td>\n",
       "      <td>13.648438</td>\n",
       "    </tr>\n",
       "    <tr>\n",
       "      <th>date_shop_avg_item_cnt_lag_1</th>\n",
       "      <td>0.071838</td>\n",
       "      <td>0.071838</td>\n",
       "      <td>0.0</td>\n",
       "      <td>0.071838</td>\n",
       "      <td>0.071838</td>\n",
       "    </tr>\n",
       "    <tr>\n",
       "      <th>date_shop_avg_item_cnt_lag_2</th>\n",
       "      <td>0.091064</td>\n",
       "      <td>0.091064</td>\n",
       "      <td>0.0</td>\n",
       "      <td>0.091064</td>\n",
       "      <td>0.091064</td>\n",
       "    </tr>\n",
       "    <tr>\n",
       "      <th>date_shop_avg_item_cnt_lag_3</th>\n",
       "      <td>0.059875</td>\n",
       "      <td>0.059875</td>\n",
       "      <td>0.0</td>\n",
       "      <td>0.059875</td>\n",
       "      <td>0.059875</td>\n",
       "    </tr>\n",
       "    <tr>\n",
       "      <th>date_shop_item_avg_item_cnt_lag_1</th>\n",
       "      <td>0.000000</td>\n",
       "      <td>0.000000</td>\n",
       "      <td>0.0</td>\n",
       "      <td>0.000000</td>\n",
       "      <td>1.000000</td>\n",
       "    </tr>\n",
       "    <tr>\n",
       "      <th>date_shop_item_avg_item_cnt_lag_2</th>\n",
       "      <td>0.000000</td>\n",
       "      <td>0.000000</td>\n",
       "      <td>0.0</td>\n",
       "      <td>1.000000</td>\n",
       "      <td>1.000000</td>\n",
       "    </tr>\n",
       "    <tr>\n",
       "      <th>date_shop_item_avg_item_cnt_lag_3</th>\n",
       "      <td>0.000000</td>\n",
       "      <td>0.000000</td>\n",
       "      <td>0.0</td>\n",
       "      <td>0.000000</td>\n",
       "      <td>4.000000</td>\n",
       "    </tr>\n",
       "    <tr>\n",
       "      <th>date_shop_subtype_avg_item_cnt_lag_1</th>\n",
       "      <td>0.449463</td>\n",
       "      <td>0.387207</td>\n",
       "      <td>0.0</td>\n",
       "      <td>0.018585</td>\n",
       "      <td>0.035919</td>\n",
       "    </tr>\n",
       "    <tr>\n",
       "      <th>date_city_avg_item_cnt_lag_1</th>\n",
       "      <td>0.071838</td>\n",
       "      <td>0.071838</td>\n",
       "      <td>0.0</td>\n",
       "      <td>0.071838</td>\n",
       "      <td>0.071838</td>\n",
       "    </tr>\n",
       "    <tr>\n",
       "      <th>date_item_city_avg_item_cnt_lag_1</th>\n",
       "      <td>0.000000</td>\n",
       "      <td>0.000000</td>\n",
       "      <td>0.0</td>\n",
       "      <td>0.000000</td>\n",
       "      <td>1.000000</td>\n",
       "    </tr>\n",
       "    <tr>\n",
       "      <th>delta_price_lag</th>\n",
       "      <td>0.367676</td>\n",
       "      <td>0.256348</td>\n",
       "      <td>0.0</td>\n",
       "      <td>0.212402</td>\n",
       "      <td>0.191040</td>\n",
       "    </tr>\n",
       "    <tr>\n",
       "      <th>delta_revenue_lag_1</th>\n",
       "      <td>37326.816406</td>\n",
       "      <td>37326.816406</td>\n",
       "      <td>0.0</td>\n",
       "      <td>37326.816406</td>\n",
       "      <td>37326.816406</td>\n",
       "    </tr>\n",
       "    <tr>\n",
       "      <th>month</th>\n",
       "      <td>4.000000</td>\n",
       "      <td>4.000000</td>\n",
       "      <td>4.0</td>\n",
       "      <td>4.000000</td>\n",
       "      <td>4.000000</td>\n",
       "    </tr>\n",
       "    <tr>\n",
       "      <th>days</th>\n",
       "      <td>31.000000</td>\n",
       "      <td>31.000000</td>\n",
       "      <td>31.0</td>\n",
       "      <td>31.000000</td>\n",
       "      <td>31.000000</td>\n",
       "    </tr>\n",
       "    <tr>\n",
       "      <th>item_shop_first_sale</th>\n",
       "      <td>4.000000</td>\n",
       "      <td>4.000000</td>\n",
       "      <td>4.0</td>\n",
       "      <td>3.000000</td>\n",
       "      <td>3.000000</td>\n",
       "    </tr>\n",
       "    <tr>\n",
       "      <th>item_first_sale</th>\n",
       "      <td>4.000000</td>\n",
       "      <td>4.000000</td>\n",
       "      <td>4.0</td>\n",
       "      <td>3.000000</td>\n",
       "      <td>3.000000</td>\n",
       "    </tr>\n",
       "  </tbody>\n",
       "</table>\n",
       "</div>"
      ],
      "text/plain": [
       "                                           1497465       1497466  1497467  \\\n",
       "date_block_num                            4.000000      4.000000      4.0   \n",
       "shop_id                                   2.000000      2.000000      2.0   \n",
       "item_id                                  27.000000     28.000000     29.0   \n",
       "item_cnt_month                            0.000000      0.000000      0.0   \n",
       "shop_category                             4.000000      4.000000      4.0   \n",
       "shop_city                                 0.000000      0.000000      0.0   \n",
       "item_category_id                         19.000000     30.000000     23.0   \n",
       "name2                                    76.000000    107.000000    123.0   \n",
       "name3                                    42.000000     42.000000     42.0   \n",
       "subtype_code                             10.000000     55.000000     16.0   \n",
       "type_code                                 3.000000      3.000000      3.0   \n",
       "item_cnt_month_lag_1                      0.000000      0.000000      0.0   \n",
       "item_cnt_month_lag_2                      0.000000      0.000000      0.0   \n",
       "item_cnt_month_lag_3                      0.000000      0.000000      0.0   \n",
       "date_avg_item_cnt_lag_1                   0.286865      0.286865      0.0   \n",
       "date_item_avg_item_cnt_lag_1              0.021744      0.130493      0.0   \n",
       "date_item_avg_item_cnt_lag_2              0.086975      0.152222      0.0   \n",
       "date_item_avg_item_cnt_lag_3              0.065247      0.173950      0.0   \n",
       "date_shop_avg_item_cnt_lag_1              0.071838      0.071838      0.0   \n",
       "date_shop_avg_item_cnt_lag_2              0.091064      0.091064      0.0   \n",
       "date_shop_avg_item_cnt_lag_3              0.059875      0.059875      0.0   \n",
       "date_shop_item_avg_item_cnt_lag_1         0.000000      0.000000      0.0   \n",
       "date_shop_item_avg_item_cnt_lag_2         0.000000      0.000000      0.0   \n",
       "date_shop_item_avg_item_cnt_lag_3         0.000000      0.000000      0.0   \n",
       "date_shop_subtype_avg_item_cnt_lag_1      0.449463      0.387207      0.0   \n",
       "date_city_avg_item_cnt_lag_1              0.071838      0.071838      0.0   \n",
       "date_item_city_avg_item_cnt_lag_1         0.000000      0.000000      0.0   \n",
       "delta_price_lag                           0.367676      0.256348      0.0   \n",
       "delta_revenue_lag_1                   37326.816406  37326.816406      0.0   \n",
       "month                                     4.000000      4.000000      4.0   \n",
       "days                                     31.000000     31.000000     31.0   \n",
       "item_shop_first_sale                      4.000000      4.000000      4.0   \n",
       "item_first_sale                           4.000000      4.000000      4.0   \n",
       "\n",
       "                                           1497468       1497469  \n",
       "date_block_num                            4.000000      4.000000  \n",
       "shop_id                                   2.000000      2.000000  \n",
       "item_id                                  30.000000     31.000000  \n",
       "item_cnt_month                            0.000000      0.000000  \n",
       "shop_category                             4.000000      4.000000  \n",
       "shop_city                                 0.000000      0.000000  \n",
       "item_category_id                         40.000000     37.000000  \n",
       "name2                                     4.000000      4.000000  \n",
       "name3                                    42.000000    562.000000  \n",
       "subtype_code                              4.000000      1.000000  \n",
       "type_code                                 5.000000      5.000000  \n",
       "item_cnt_month_lag_1                      0.000000      1.000000  \n",
       "item_cnt_month_lag_2                      1.000000      1.000000  \n",
       "item_cnt_month_lag_3                      0.000000      4.000000  \n",
       "date_avg_item_cnt_lag_1                   0.286865      0.286865  \n",
       "date_item_avg_item_cnt_lag_1              2.826172      1.260742  \n",
       "date_item_avg_item_cnt_lag_2             11.046875      4.781250  \n",
       "date_item_avg_item_cnt_lag_3             18.734375     13.648438  \n",
       "date_shop_avg_item_cnt_lag_1              0.071838      0.071838  \n",
       "date_shop_avg_item_cnt_lag_2              0.091064      0.091064  \n",
       "date_shop_avg_item_cnt_lag_3              0.059875      0.059875  \n",
       "date_shop_item_avg_item_cnt_lag_1         0.000000      1.000000  \n",
       "date_shop_item_avg_item_cnt_lag_2         1.000000      1.000000  \n",
       "date_shop_item_avg_item_cnt_lag_3         0.000000      4.000000  \n",
       "date_shop_subtype_avg_item_cnt_lag_1      0.018585      0.035919  \n",
       "date_city_avg_item_cnt_lag_1              0.071838      0.071838  \n",
       "date_item_city_avg_item_cnt_lag_1         0.000000      1.000000  \n",
       "delta_price_lag                           0.212402      0.191040  \n",
       "delta_revenue_lag_1                   37326.816406  37326.816406  \n",
       "month                                     4.000000      4.000000  \n",
       "days                                     31.000000     31.000000  \n",
       "item_shop_first_sale                      3.000000      3.000000  \n",
       "item_first_sale                           3.000000      3.000000  "
      ]
     },
     "execution_count": 50,
     "metadata": {},
     "output_type": "execute_result"
    }
   ],
   "source": [
    "matrix.head().T"
   ]
  },
  {
   "cell_type": "markdown",
   "metadata": {},
   "source": [
    "## Train"
   ]
  },
  {
   "cell_type": "code",
   "execution_count": 51,
   "metadata": {},
   "outputs": [],
   "source": [
    "# 데이터 저장\n",
    "matrix.to_pickle('merona_final.pkl')"
   ]
  },
  {
   "cell_type": "code",
   "execution_count": 52,
   "metadata": {},
   "outputs": [
    {
     "data": {
      "text/plain": [
       "10066"
      ]
     },
     "execution_count": 52,
     "metadata": {},
     "output_type": "execute_result"
    }
   ],
   "source": [
    "data = matrix.copy()\n",
    "del matrix\n",
    "gc.collect()"
   ]
  },
  {
   "cell_type": "code",
   "execution_count": 3,
   "metadata": {},
   "outputs": [],
   "source": [
    "data = pd.read_pickle('merona_final.pkl')"
   ]
  },
  {
   "cell_type": "code",
   "execution_count": 4,
   "metadata": {},
   "outputs": [
    {
     "data": {
      "text/plain": [
       "(214200, 33)"
      ]
     },
     "execution_count": 4,
     "metadata": {},
     "output_type": "execute_result"
    }
   ],
   "source": [
    "data[data[\"date_block_num\"]==34].shape"
   ]
  },
  {
   "cell_type": "code",
   "execution_count": 5,
   "metadata": {},
   "outputs": [],
   "source": [
    "# 0~32개월 : Train\n",
    "# 33 개월 :  Validation\n",
    "# 34 개월 :  Test\n",
    "X_train = data[data.date_block_num < 33].drop(['item_cnt_month'], axis=1)\n",
    "Y_train = data[data.date_block_num < 33]['item_cnt_month']\n",
    "X_valid = data[data.date_block_num == 33].drop(['item_cnt_month'], axis=1)\n",
    "Y_valid = data[data.date_block_num == 33]['item_cnt_month']\n",
    "X_test = data[data.date_block_num == 34].drop(['item_cnt_month'], axis=1)"
   ]
  },
  {
   "cell_type": "code",
   "execution_count": 6,
   "metadata": {},
   "outputs": [],
   "source": [
    "Y_train = Y_train.clip(0, 20)\n",
    "Y_valid = Y_valid.clip(0, 20)"
   ]
  },
  {
   "cell_type": "code",
   "execution_count": 7,
   "metadata": {},
   "outputs": [],
   "source": [
    "del data\n",
    "gc.collect();"
   ]
  },
  {
   "cell_type": "markdown",
   "metadata": {},
   "source": [
    "### XGB"
   ]
  },
  {
   "cell_type": "code",
   "execution_count": 8,
   "metadata": {},
   "outputs": [
    {
     "name": "stdout",
     "output_type": "stream",
     "text": [
      "[11:14:09] WARNING: /home/conda/feedstock_root/build_artifacts/xgboost_1593723605503/work/src/gbm/gbtree.cc:139: Tree method is automatically selected to be 'approx' for faster speed. To use old behavior (exact greedy algorithm on single machine), set tree_method to 'exact'.\n",
      "[0]\tvalidation_0-rmse:1.17837\tvalidation_1-rmse:1.11962\n",
      "Multiple eval metrics have been passed: 'validation_1-rmse' will be used for early stopping.\n",
      "\n",
      "Will train until validation_1-rmse hasn't improved in 20 rounds.\n",
      "[1]\tvalidation_0-rmse:1.12711\tvalidation_1-rmse:1.07985\n",
      "[2]\tvalidation_0-rmse:1.08286\tvalidation_1-rmse:1.05012\n",
      "[3]\tvalidation_0-rmse:1.04689\tvalidation_1-rmse:1.02256\n",
      "[4]\tvalidation_0-rmse:1.01504\tvalidation_1-rmse:1.00064\n",
      "[5]\tvalidation_0-rmse:0.98669\tvalidation_1-rmse:0.98242\n",
      "[6]\tvalidation_0-rmse:0.96292\tvalidation_1-rmse:0.96912\n",
      "[7]\tvalidation_0-rmse:0.94429\tvalidation_1-rmse:0.95893\n",
      "[8]\tvalidation_0-rmse:0.92605\tvalidation_1-rmse:0.94786\n",
      "[9]\tvalidation_0-rmse:0.91143\tvalidation_1-rmse:0.93980\n",
      "[10]\tvalidation_0-rmse:0.89906\tvalidation_1-rmse:0.93250\n",
      "[11]\tvalidation_0-rmse:0.88918\tvalidation_1-rmse:0.92718\n",
      "[12]\tvalidation_0-rmse:0.87826\tvalidation_1-rmse:0.92221\n",
      "[13]\tvalidation_0-rmse:0.86927\tvalidation_1-rmse:0.91853\n",
      "[14]\tvalidation_0-rmse:0.86153\tvalidation_1-rmse:0.91398\n",
      "[15]\tvalidation_0-rmse:0.85486\tvalidation_1-rmse:0.91109\n",
      "[16]\tvalidation_0-rmse:0.84893\tvalidation_1-rmse:0.90882\n",
      "[17]\tvalidation_0-rmse:0.84309\tvalidation_1-rmse:0.90701\n",
      "[18]\tvalidation_0-rmse:0.83757\tvalidation_1-rmse:0.90465\n",
      "[19]\tvalidation_0-rmse:0.83338\tvalidation_1-rmse:0.90378\n",
      "[20]\tvalidation_0-rmse:0.82941\tvalidation_1-rmse:0.90302\n",
      "[21]\tvalidation_0-rmse:0.82610\tvalidation_1-rmse:0.90158\n",
      "[22]\tvalidation_0-rmse:0.82241\tvalidation_1-rmse:0.90133\n",
      "[23]\tvalidation_0-rmse:0.81953\tvalidation_1-rmse:0.90004\n",
      "[24]\tvalidation_0-rmse:0.81683\tvalidation_1-rmse:0.89932\n",
      "[25]\tvalidation_0-rmse:0.81377\tvalidation_1-rmse:0.89944\n",
      "[26]\tvalidation_0-rmse:0.81101\tvalidation_1-rmse:0.89984\n",
      "[27]\tvalidation_0-rmse:0.80866\tvalidation_1-rmse:0.89870\n",
      "[28]\tvalidation_0-rmse:0.80638\tvalidation_1-rmse:0.89770\n",
      "[29]\tvalidation_0-rmse:0.80452\tvalidation_1-rmse:0.89803\n",
      "[30]\tvalidation_0-rmse:0.80258\tvalidation_1-rmse:0.89903\n",
      "[31]\tvalidation_0-rmse:0.80004\tvalidation_1-rmse:0.89979\n",
      "[32]\tvalidation_0-rmse:0.79851\tvalidation_1-rmse:0.89960\n",
      "[33]\tvalidation_0-rmse:0.79708\tvalidation_1-rmse:0.89955\n",
      "[34]\tvalidation_0-rmse:0.79577\tvalidation_1-rmse:0.89962\n",
      "[35]\tvalidation_0-rmse:0.79471\tvalidation_1-rmse:0.89914\n",
      "[36]\tvalidation_0-rmse:0.79326\tvalidation_1-rmse:0.89860\n",
      "[37]\tvalidation_0-rmse:0.79175\tvalidation_1-rmse:0.89904\n",
      "[38]\tvalidation_0-rmse:0.79014\tvalidation_1-rmse:0.89931\n",
      "[39]\tvalidation_0-rmse:0.78890\tvalidation_1-rmse:0.89925\n",
      "[40]\tvalidation_0-rmse:0.78792\tvalidation_1-rmse:0.89897\n",
      "[41]\tvalidation_0-rmse:0.78656\tvalidation_1-rmse:0.89886\n",
      "[42]\tvalidation_0-rmse:0.78534\tvalidation_1-rmse:0.89836\n",
      "[43]\tvalidation_0-rmse:0.78440\tvalidation_1-rmse:0.89741\n",
      "[44]\tvalidation_0-rmse:0.78320\tvalidation_1-rmse:0.89680\n",
      "[45]\tvalidation_0-rmse:0.78216\tvalidation_1-rmse:0.89654\n",
      "[46]\tvalidation_0-rmse:0.78088\tvalidation_1-rmse:0.89455\n",
      "[47]\tvalidation_0-rmse:0.78022\tvalidation_1-rmse:0.89467\n",
      "[48]\tvalidation_0-rmse:0.77940\tvalidation_1-rmse:0.89461\n",
      "[49]\tvalidation_0-rmse:0.77815\tvalidation_1-rmse:0.89462\n",
      "[50]\tvalidation_0-rmse:0.77671\tvalidation_1-rmse:0.89473\n",
      "[51]\tvalidation_0-rmse:0.77578\tvalidation_1-rmse:0.89435\n",
      "[52]\tvalidation_0-rmse:0.77512\tvalidation_1-rmse:0.89430\n",
      "[53]\tvalidation_0-rmse:0.77441\tvalidation_1-rmse:0.89404\n",
      "[54]\tvalidation_0-rmse:0.77341\tvalidation_1-rmse:0.89390\n",
      "[55]\tvalidation_0-rmse:0.77279\tvalidation_1-rmse:0.89448\n",
      "[56]\tvalidation_0-rmse:0.77199\tvalidation_1-rmse:0.89427\n",
      "[57]\tvalidation_0-rmse:0.77137\tvalidation_1-rmse:0.89397\n",
      "[58]\tvalidation_0-rmse:0.77068\tvalidation_1-rmse:0.89394\n",
      "[59]\tvalidation_0-rmse:0.76993\tvalidation_1-rmse:0.89412\n",
      "[60]\tvalidation_0-rmse:0.76909\tvalidation_1-rmse:0.89688\n",
      "[61]\tvalidation_0-rmse:0.76780\tvalidation_1-rmse:0.89638\n",
      "[62]\tvalidation_0-rmse:0.76722\tvalidation_1-rmse:0.89628\n",
      "[63]\tvalidation_0-rmse:0.76627\tvalidation_1-rmse:0.89648\n",
      "[64]\tvalidation_0-rmse:0.76548\tvalidation_1-rmse:0.89654\n",
      "[65]\tvalidation_0-rmse:0.76472\tvalidation_1-rmse:0.89617\n",
      "[66]\tvalidation_0-rmse:0.76410\tvalidation_1-rmse:0.89594\n",
      "[67]\tvalidation_0-rmse:0.76359\tvalidation_1-rmse:0.89584\n",
      "[68]\tvalidation_0-rmse:0.76310\tvalidation_1-rmse:0.89593\n",
      "[69]\tvalidation_0-rmse:0.76250\tvalidation_1-rmse:0.89599\n",
      "[70]\tvalidation_0-rmse:0.76177\tvalidation_1-rmse:0.89608\n",
      "[71]\tvalidation_0-rmse:0.76131\tvalidation_1-rmse:0.89601\n",
      "[72]\tvalidation_0-rmse:0.76046\tvalidation_1-rmse:0.89633\n",
      "[73]\tvalidation_0-rmse:0.76002\tvalidation_1-rmse:0.89708\n",
      "[74]\tvalidation_0-rmse:0.75948\tvalidation_1-rmse:0.89842\n",
      "Stopping. Best iteration:\n",
      "[54]\tvalidation_0-rmse:0.77341\tvalidation_1-rmse:0.89390\n",
      "\n"
     ]
    },
    {
     "data": {
      "text/plain": [
       "XGBRegressor(base_score=0.5, booster='gbtree', colsample_bylevel=1,\n",
       "             colsample_bynode=1, colsample_bytree=0.8, eta=0.1, gamma=0,\n",
       "             gpu_id=-1, importance_type='gain', interaction_constraints='',\n",
       "             learning_rate=0.100000001, max_delta_step=0, max_depth=10,\n",
       "             min_child_weight=0.5, missing=nan, monotone_constraints='()',\n",
       "             n_estimators=1000, n_jobs=0, num_parallel_tree=1, random_state=42,\n",
       "             reg_alpha=0, reg_lambda=1, scale_pos_weight=1, seed=42,\n",
       "             subsample=0.8, tree_method='approx', validate_parameters=1,\n",
       "             verbosity=None)"
      ]
     },
     "execution_count": 8,
     "metadata": {},
     "output_type": "execute_result"
    }
   ],
   "source": [
    "model = XGBRegressor(\n",
    "    max_depth=10,\n",
    "    n_estimators=1000,\n",
    "    min_child_weight=0.5, \n",
    "    colsample_bytree=0.8, \n",
    "    subsample=0.8, \n",
    "    eta=0.1,\n",
    "    seed=42)\n",
    "\n",
    "model.fit(\n",
    "    X_train, \n",
    "    Y_train, \n",
    "    eval_metric=\"rmse\", \n",
    "    eval_set=[(X_train, Y_train), (X_valid, Y_valid)], \n",
    "    verbose=True, \n",
    "    early_stopping_rounds = 20)"
   ]
  },
  {
   "cell_type": "code",
   "execution_count": 9,
   "metadata": {},
   "outputs": [],
   "source": [
    "Y_pred = model.predict(X_valid).clip(0, 20)\n",
    "Y_test = model.predict(X_test).clip(0, 20)"
   ]
  },
  {
   "cell_type": "code",
   "execution_count": 10,
   "metadata": {},
   "outputs": [
    {
     "name": "stdout",
     "output_type": "stream",
     "text": [
      "validation rmse: 0.8938829\n"
     ]
    }
   ],
   "source": [
    "print('validation rmse:',np.sqrt(mean_squared_error(Y_valid, Y_pred)))"
   ]
  },
  {
   "cell_type": "markdown",
   "metadata": {},
   "source": [
    "### RandomForest"
   ]
  },
  {
   "cell_type": "code",
   "execution_count": 11,
   "metadata": {},
   "outputs": [
    {
     "data": {
      "text/plain": [
       "RandomForestRegressor(max_depth=7, n_estimators=50, n_jobs=-1, random_state=0)"
      ]
     },
     "execution_count": 11,
     "metadata": {},
     "output_type": "execute_result"
    }
   ],
   "source": [
    "rf = RandomForestRegressor(n_estimators=50, max_depth=7, random_state=0, n_jobs=-1)\n",
    "rf.fit(X_train, Y_train)"
   ]
  },
  {
   "cell_type": "code",
   "execution_count": 12,
   "metadata": {},
   "outputs": [],
   "source": [
    "rf_pred = rf.predict(X_valid).clip(0,20)\n",
    "rf_test = rf.predict(X_test).clip(0, 20)"
   ]
  },
  {
   "cell_type": "code",
   "execution_count": 13,
   "metadata": {},
   "outputs": [
    {
     "name": "stdout",
     "output_type": "stream",
     "text": [
      "validation rmse: 0.9411875100713926\n"
     ]
    }
   ],
   "source": [
    "print('validation rmse:',np.sqrt(mean_squared_error(Y_valid, rf_pred)))"
   ]
  },
  {
   "cell_type": "markdown",
   "metadata": {},
   "source": [
    "### LGBM"
   ]
  },
  {
   "cell_type": "code",
   "execution_count": 14,
   "metadata": {},
   "outputs": [],
   "source": [
    "light = lgb.LGBMRegressor(learning_rate=0.1,\n",
    "                         objective='regression',\n",
    "                         metric='rmse',\n",
    "                         num_leaves=2000,\n",
    "                         verbose=1,\n",
    "                         random_state=42,\n",
    "                         bagging_fraction=0.7,\n",
    "                         feature_fraction=0.5,\n",
    "                         n_estimators=3000)"
   ]
  },
  {
   "cell_type": "code",
   "execution_count": 15,
   "metadata": {},
   "outputs": [
    {
     "name": "stdout",
     "output_type": "stream",
     "text": [
      "[1]\ttraining's rmse: 1.15173\tvalid_1's rmse: 1.0925\n",
      "Training until validation scores don't improve for 20 rounds\n",
      "[2]\ttraining's rmse: 1.09611\tvalid_1's rmse: 1.06001\n",
      "[3]\ttraining's rmse: 1.05227\tvalid_1's rmse: 1.03039\n",
      "[4]\ttraining's rmse: 1.01379\tvalid_1's rmse: 1.0038\n",
      "[5]\ttraining's rmse: 0.980782\tvalid_1's rmse: 0.98018\n",
      "[6]\ttraining's rmse: 0.946898\tvalid_1's rmse: 0.968777\n",
      "[7]\ttraining's rmse: 0.919708\tvalid_1's rmse: 0.957028\n",
      "[8]\ttraining's rmse: 0.897294\tvalid_1's rmse: 0.947056\n",
      "[9]\ttraining's rmse: 0.878423\tvalid_1's rmse: 0.937232\n",
      "[10]\ttraining's rmse: 0.858683\tvalid_1's rmse: 0.931227\n",
      "[11]\ttraining's rmse: 0.842282\tvalid_1's rmse: 0.92429\n",
      "[12]\ttraining's rmse: 0.828488\tvalid_1's rmse: 0.918481\n",
      "[13]\ttraining's rmse: 0.817022\tvalid_1's rmse: 0.917109\n",
      "[14]\ttraining's rmse: 0.806909\tvalid_1's rmse: 0.916407\n",
      "[15]\ttraining's rmse: 0.797922\tvalid_1's rmse: 0.912158\n",
      "[16]\ttraining's rmse: 0.786549\tvalid_1's rmse: 0.912092\n",
      "[17]\ttraining's rmse: 0.779178\tvalid_1's rmse: 0.910579\n",
      "[18]\ttraining's rmse: 0.773181\tvalid_1's rmse: 0.908085\n",
      "[19]\ttraining's rmse: 0.766391\tvalid_1's rmse: 0.906154\n",
      "[20]\ttraining's rmse: 0.761538\tvalid_1's rmse: 0.905064\n",
      "[21]\ttraining's rmse: 0.756304\tvalid_1's rmse: 0.904135\n",
      "[22]\ttraining's rmse: 0.748825\tvalid_1's rmse: 0.906379\n",
      "[23]\ttraining's rmse: 0.744323\tvalid_1's rmse: 0.905635\n",
      "[24]\ttraining's rmse: 0.739404\tvalid_1's rmse: 0.904763\n",
      "[25]\ttraining's rmse: 0.73217\tvalid_1's rmse: 0.906454\n",
      "[26]\ttraining's rmse: 0.727443\tvalid_1's rmse: 0.907033\n",
      "[27]\ttraining's rmse: 0.724241\tvalid_1's rmse: 0.906848\n",
      "[28]\ttraining's rmse: 0.721458\tvalid_1's rmse: 0.906331\n",
      "[29]\ttraining's rmse: 0.719016\tvalid_1's rmse: 0.905014\n",
      "[30]\ttraining's rmse: 0.716191\tvalid_1's rmse: 0.904547\n",
      "[31]\ttraining's rmse: 0.712216\tvalid_1's rmse: 0.904165\n",
      "[32]\ttraining's rmse: 0.709947\tvalid_1's rmse: 0.904202\n",
      "[33]\ttraining's rmse: 0.704629\tvalid_1's rmse: 0.90404\n",
      "[34]\ttraining's rmse: 0.701845\tvalid_1's rmse: 0.903933\n",
      "[35]\ttraining's rmse: 0.697948\tvalid_1's rmse: 0.90486\n",
      "[36]\ttraining's rmse: 0.695583\tvalid_1's rmse: 0.904854\n",
      "[37]\ttraining's rmse: 0.692851\tvalid_1's rmse: 0.904442\n",
      "[38]\ttraining's rmse: 0.690159\tvalid_1's rmse: 0.904153\n",
      "[39]\ttraining's rmse: 0.687588\tvalid_1's rmse: 0.904604\n",
      "[40]\ttraining's rmse: 0.684482\tvalid_1's rmse: 0.907466\n",
      "[41]\ttraining's rmse: 0.682304\tvalid_1's rmse: 0.907426\n",
      "[42]\ttraining's rmse: 0.680013\tvalid_1's rmse: 0.907397\n",
      "[43]\ttraining's rmse: 0.678635\tvalid_1's rmse: 0.907633\n",
      "[44]\ttraining's rmse: 0.677116\tvalid_1's rmse: 0.907584\n",
      "[45]\ttraining's rmse: 0.675513\tvalid_1's rmse: 0.907361\n",
      "[46]\ttraining's rmse: 0.673858\tvalid_1's rmse: 0.907374\n",
      "[47]\ttraining's rmse: 0.672523\tvalid_1's rmse: 0.907072\n",
      "[48]\ttraining's rmse: 0.670118\tvalid_1's rmse: 0.909071\n",
      "[49]\ttraining's rmse: 0.668868\tvalid_1's rmse: 0.909176\n",
      "[50]\ttraining's rmse: 0.666468\tvalid_1's rmse: 0.910102\n",
      "[51]\ttraining's rmse: 0.665256\tvalid_1's rmse: 0.909891\n",
      "[52]\ttraining's rmse: 0.664156\tvalid_1's rmse: 0.909809\n",
      "[53]\ttraining's rmse: 0.662466\tvalid_1's rmse: 0.909392\n",
      "[54]\ttraining's rmse: 0.661211\tvalid_1's rmse: 0.909835\n",
      "Early stopping, best iteration is:\n",
      "[34]\ttraining's rmse: 0.701845\tvalid_1's rmse: 0.903933\n"
     ]
    },
    {
     "data": {
      "text/plain": [
       "LGBMRegressor(bagging_fraction=0.7, feature_fraction=0.5, metric='rmse',\n",
       "              n_estimators=3000, num_leaves=2000, objective='regression',\n",
       "              random_state=42, verbose=1)"
      ]
     },
     "execution_count": 15,
     "metadata": {},
     "output_type": "execute_result"
    }
   ],
   "source": [
    "light.fit(\n",
    "    X_train, \n",
    "    Y_train, \n",
    "    eval_metric=\"rmse\", \n",
    "    eval_set=[(X_train, Y_train), (X_valid, Y_valid)], \n",
    "    verbose=True, \n",
    "    early_stopping_rounds = 20)"
   ]
  },
  {
   "cell_type": "code",
   "execution_count": 16,
   "metadata": {},
   "outputs": [],
   "source": [
    "light_pred = light.predict(X_valid).clip(0, 20)\n",
    "light_test = light.predict(X_test).clip(0, 20)"
   ]
  },
  {
   "cell_type": "code",
   "execution_count": 17,
   "metadata": {},
   "outputs": [
    {
     "name": "stdout",
     "output_type": "stream",
     "text": [
      "validation rmse: 0.9039015050501613\n"
     ]
    }
   ],
   "source": [
    "print('validation rmse:',np.sqrt(mean_squared_error(Y_valid, light_pred)))"
   ]
  },
  {
   "cell_type": "markdown",
   "metadata": {},
   "source": [
    "### Lasso"
   ]
  },
  {
   "cell_type": "code",
   "execution_count": 18,
   "metadata": {},
   "outputs": [],
   "source": [
    "lso = Lasso(alpha=0.003)"
   ]
  },
  {
   "cell_type": "code",
   "execution_count": 19,
   "metadata": {},
   "outputs": [
    {
     "name": "stderr",
     "output_type": "stream",
     "text": [
      "/home/aiffel0046/anaconda3/envs/aiffel/lib/python3.7/site-packages/sklearn/linear_model/_coordinate_descent.py:531: ConvergenceWarning: Objective did not converge. You might want to increase the number of iterations. Duality gap: 2177940.75, tolerance: 1358.58642578125\n",
      "  positive)\n"
     ]
    },
    {
     "data": {
      "text/plain": [
       "Lasso(alpha=0.003)"
      ]
     },
     "execution_count": 19,
     "metadata": {},
     "output_type": "execute_result"
    }
   ],
   "source": [
    "lso.fit(X_train,Y_train)"
   ]
  },
  {
   "cell_type": "code",
   "execution_count": 20,
   "metadata": {},
   "outputs": [],
   "source": [
    "lasso_pred = lso.predict(X_valid).clip(0, 20)\n",
    "lasso_test = lso.predict(X_test).clip(0, 20)"
   ]
  },
  {
   "cell_type": "code",
   "execution_count": 21,
   "metadata": {},
   "outputs": [
    {
     "name": "stdout",
     "output_type": "stream",
     "text": [
      "validation rmse: 1.0323138\n"
     ]
    }
   ],
   "source": [
    "print('validation rmse:',np.sqrt(mean_squared_error(Y_valid, lasso_pred)))"
   ]
  },
  {
   "cell_type": "markdown",
   "metadata": {},
   "source": [
    "### XGB + RF + LGBM + Lasso"
   ]
  },
  {
   "cell_type": "code",
   "execution_count": 38,
   "metadata": {},
   "outputs": [],
   "source": [
    "Y_preds = pd.DataFrame(Y_pred, columns=['xgbm'])\n",
    "rf_preds = pd.DataFrame(rf_pred, columns=['random_forest'])\n",
    "light_preds = pd.DataFrame(light_pred, columns=['lgbm'])\n",
    "lasso_preds = pd.DataFrame(lasso_pred, columns=['lasso'])"
   ]
  },
  {
   "cell_type": "code",
   "execution_count": 39,
   "metadata": {},
   "outputs": [],
   "source": [
    "Y_tests = pd.DataFrame(Y_test, columns=['xgbm'])\n",
    "rf_tests = pd.DataFrame(rf_test, columns=['random_forest'])\n",
    "light_tests = pd.DataFrame(light_test, columns=['lgbm'])\n",
    "lasso_tests = pd.DataFrame(lasso_test, columns=['lasso'])"
   ]
  },
  {
   "cell_type": "code",
   "execution_count": 40,
   "metadata": {},
   "outputs": [],
   "source": [
    "Y_preds.to_pickle('merona_final_xgb_pred.pkl')\n",
    "rf_preds.to_pickle('merona_final_rf_pred.pkl')\n",
    "light_preds.to_pickle('merona_final_light_pred.pkl')\n",
    "lasso_preds.to_pickle('merona_final_lasso_pred.pkl')"
   ]
  },
  {
   "cell_type": "code",
   "execution_count": 41,
   "metadata": {},
   "outputs": [],
   "source": [
    "Y_tests.to_pickle('merona_final_xgb_test.pkl')\n",
    "rf_tests.to_pickle('merona_final_rf_test.pkl')\n",
    "light_tests.to_pickle('merona_final_light_test.pkl')\n",
    "lasso_tests.to_pickle('merona_final_lasso_test.pkl')"
   ]
  },
  {
   "cell_type": "code",
   "execution_count": 29,
   "metadata": {},
   "outputs": [
    {
     "data": {
      "text/html": [
       "<div>\n",
       "<style scoped>\n",
       "    .dataframe tbody tr th:only-of-type {\n",
       "        vertical-align: middle;\n",
       "    }\n",
       "\n",
       "    .dataframe tbody tr th {\n",
       "        vertical-align: top;\n",
       "    }\n",
       "\n",
       "    .dataframe thead th {\n",
       "        text-align: right;\n",
       "    }\n",
       "</style>\n",
       "<table border=\"1\" class=\"dataframe\">\n",
       "  <thead>\n",
       "    <tr style=\"text-align: right;\">\n",
       "      <th></th>\n",
       "      <th>xgbm</th>\n",
       "      <th>random_forest</th>\n",
       "      <th>lgbm</th>\n",
       "      <th>lasso</th>\n",
       "      <th>label</th>\n",
       "    </tr>\n",
       "  </thead>\n",
       "  <tbody>\n",
       "    <tr>\n",
       "      <th>0</th>\n",
       "      <td>0.016044</td>\n",
       "      <td>0.032357</td>\n",
       "      <td>0.026478</td>\n",
       "      <td>0.064202</td>\n",
       "      <td>0.0</td>\n",
       "    </tr>\n",
       "    <tr>\n",
       "      <th>1</th>\n",
       "      <td>0.076978</td>\n",
       "      <td>0.210863</td>\n",
       "      <td>0.122977</td>\n",
       "      <td>0.018155</td>\n",
       "      <td>1.0</td>\n",
       "    </tr>\n",
       "    <tr>\n",
       "      <th>2</th>\n",
       "      <td>0.207642</td>\n",
       "      <td>0.089321</td>\n",
       "      <td>0.210888</td>\n",
       "      <td>0.145476</td>\n",
       "      <td>0.0</td>\n",
       "    </tr>\n",
       "    <tr>\n",
       "      <th>3</th>\n",
       "      <td>0.273158</td>\n",
       "      <td>0.243354</td>\n",
       "      <td>0.296206</td>\n",
       "      <td>0.190494</td>\n",
       "      <td>0.0</td>\n",
       "    </tr>\n",
       "    <tr>\n",
       "      <th>4</th>\n",
       "      <td>0.017241</td>\n",
       "      <td>0.032357</td>\n",
       "      <td>0.023437</td>\n",
       "      <td>0.000000</td>\n",
       "      <td>0.0</td>\n",
       "    </tr>\n",
       "  </tbody>\n",
       "</table>\n",
       "</div>"
      ],
      "text/plain": [
       "       xgbm  random_forest      lgbm     lasso  label\n",
       "0  0.016044       0.032357  0.026478  0.064202    0.0\n",
       "1  0.076978       0.210863  0.122977  0.018155    1.0\n",
       "2  0.207642       0.089321  0.210888  0.145476    0.0\n",
       "3  0.273158       0.243354  0.296206  0.190494    0.0\n",
       "4  0.017241       0.032357  0.023437  0.000000    0.0"
      ]
     },
     "execution_count": 29,
     "metadata": {},
     "output_type": "execute_result"
    }
   ],
   "source": [
    "first = pd.DataFrame(Y_pred, columns=['xgbm'])\n",
    "first['random_forest'] = rf_pred\n",
    "first['lgbm'] = light_pred\n",
    "first['lasso'] = lasso_pred\n",
    "first['label'] = Y_valid.values\n",
    "first.head()"
   ]
  },
  {
   "cell_type": "code",
   "execution_count": 30,
   "metadata": {},
   "outputs": [
    {
     "data": {
      "text/html": [
       "<div>\n",
       "<style scoped>\n",
       "    .dataframe tbody tr th:only-of-type {\n",
       "        vertical-align: middle;\n",
       "    }\n",
       "\n",
       "    .dataframe tbody tr th {\n",
       "        vertical-align: top;\n",
       "    }\n",
       "\n",
       "    .dataframe thead th {\n",
       "        text-align: right;\n",
       "    }\n",
       "</style>\n",
       "<table border=\"1\" class=\"dataframe\">\n",
       "  <thead>\n",
       "    <tr style=\"text-align: right;\">\n",
       "      <th></th>\n",
       "      <th>xgbm</th>\n",
       "      <th>random_forest</th>\n",
       "      <th>lgbm</th>\n",
       "      <th>lasso</th>\n",
       "    </tr>\n",
       "  </thead>\n",
       "  <tbody>\n",
       "    <tr>\n",
       "      <th>0</th>\n",
       "      <td>0.321365</td>\n",
       "      <td>0.308961</td>\n",
       "      <td>0.519310</td>\n",
       "      <td>0.630460</td>\n",
       "    </tr>\n",
       "    <tr>\n",
       "      <th>1</th>\n",
       "      <td>0.360762</td>\n",
       "      <td>0.991942</td>\n",
       "      <td>1.126783</td>\n",
       "      <td>0.351951</td>\n",
       "    </tr>\n",
       "    <tr>\n",
       "      <th>2</th>\n",
       "      <td>0.983320</td>\n",
       "      <td>0.702257</td>\n",
       "      <td>0.809332</td>\n",
       "      <td>0.869099</td>\n",
       "    </tr>\n",
       "    <tr>\n",
       "      <th>3</th>\n",
       "      <td>0.489166</td>\n",
       "      <td>0.646894</td>\n",
       "      <td>0.409849</td>\n",
       "      <td>0.686034</td>\n",
       "    </tr>\n",
       "    <tr>\n",
       "      <th>4</th>\n",
       "      <td>3.778995</td>\n",
       "      <td>2.554509</td>\n",
       "      <td>3.167235</td>\n",
       "      <td>0.622310</td>\n",
       "    </tr>\n",
       "  </tbody>\n",
       "</table>\n",
       "</div>"
      ],
      "text/plain": [
       "       xgbm  random_forest      lgbm     lasso\n",
       "0  0.321365       0.308961  0.519310  0.630460\n",
       "1  0.360762       0.991942  1.126783  0.351951\n",
       "2  0.983320       0.702257  0.809332  0.869099\n",
       "3  0.489166       0.646894  0.409849  0.686034\n",
       "4  3.778995       2.554509  3.167235  0.622310"
      ]
     },
     "execution_count": 30,
     "metadata": {},
     "output_type": "execute_result"
    }
   ],
   "source": [
    "first_test = pd.DataFrame(Y_test, columns=['xgbm'])\n",
    "first_test['random_forest'] = rf_test\n",
    "first_test['lgbm'] = light_test\n",
    "first_test['lasso'] = lasso_test\n",
    "first_test.head()"
   ]
  },
  {
   "cell_type": "code",
   "execution_count": 31,
   "metadata": {},
   "outputs": [],
   "source": [
    "final_model = LinearRegression(n_jobs=-1)"
   ]
  },
  {
   "cell_type": "code",
   "execution_count": 32,
   "metadata": {},
   "outputs": [
    {
     "data": {
      "text/plain": [
       "LinearRegression(n_jobs=-1)"
      ]
     },
     "execution_count": 32,
     "metadata": {},
     "output_type": "execute_result"
    }
   ],
   "source": [
    "first.drop('label', axis=1, inplace=True)\n",
    "final_model.fit(first, Y_valid)"
   ]
  },
  {
   "cell_type": "code",
   "execution_count": 33,
   "metadata": {},
   "outputs": [],
   "source": [
    "ensemble_pred = final_model.predict(first).clip(0, 20)"
   ]
  },
  {
   "cell_type": "code",
   "execution_count": 34,
   "metadata": {},
   "outputs": [
    {
     "name": "stdout",
     "output_type": "stream",
     "text": [
      "ensemble_pred rmse: 0.8887673144571938\n"
     ]
    }
   ],
   "source": [
    "print('ensemble_pred rmse:', np.sqrt(mean_squared_error(ensemble_pred, Y_valid)))"
   ]
  },
  {
   "cell_type": "code",
   "execution_count": 36,
   "metadata": {},
   "outputs": [],
   "source": [
    "final_predictions = final_model.predict(first_test).clip(0, 20)"
   ]
  },
  {
   "cell_type": "markdown",
   "metadata": {},
   "source": [
    "## Submission"
   ]
  },
  {
   "cell_type": "code",
   "execution_count": 37,
   "metadata": {},
   "outputs": [],
   "source": [
    "prediction_df = pd.DataFrame({\n",
    "    \"ID\": test.index, \n",
    "    \"item_cnt_month\": final_predictions\n",
    "})\n",
    "\n",
    "prediction_df.to_csv('submission/merona_finalll_submission.csv', index=False)"
   ]
  },
  {
   "cell_type": "markdown",
   "metadata": {},
   "source": [
    "## Train all"
   ]
  },
  {
   "cell_type": "code",
   "execution_count": 403,
   "metadata": {},
   "outputs": [],
   "source": [
    "a = pd.read_pickle('../data/jy/lgbm_pred_earlystopping20 .pickle')\n",
    "b = pd.read_pickle('../data/jy/xgb_pred_earlystopping20.pickle')\n",
    "a_test = pd.read_pickle('../data/jy/lgbm_test_earlystopping20.pickle')\n",
    "b_test = pd.read_pickle('../data/jy/xgb_test_earlystopping20.pickle')"
   ]
  },
  {
   "cell_type": "code",
   "execution_count": 404,
   "metadata": {},
   "outputs": [],
   "source": [
    "c = pd.read_pickle('../data/jh/merona_final_lasso_pred.pkl')\n",
    "d = pd.read_pickle('../data/jh/merona_final_light_pred.pkl')\n",
    "e = pd.read_pickle('../data/jh/merona_final_rf_pred.pkl')\n",
    "f = pd.read_pickle('../data/jh/merona_final_xgb_pred.pkl')\n",
    "\n",
    "c_test = pd.read_pickle('../data/jh/merona_final_lasso_test.pkl')\n",
    "d_test = pd.read_pickle('../data/jh/merona_final_light_test.pkl')\n",
    "e_test = pd.read_pickle('../data/jh/merona_final_rf_test.pkl')\n",
    "f_test = pd.read_pickle('../data/jh/merona_final_xgb_test.pkl')"
   ]
  },
  {
   "cell_type": "code",
   "execution_count": 405,
   "metadata": {},
   "outputs": [],
   "source": [
    "g = pd.read_pickle('../data/sm/xgb_pred_0.901834.pickle')\n",
    "\n",
    "g_test = pd.read_pickle('../data/sm/xgb_test_0.901834.pickle')"
   ]
  },
  {
   "cell_type": "code",
   "execution_count": 406,
   "metadata": {},
   "outputs": [],
   "source": [
    "h = pd.read_pickle('../data/km/cat_pred_earlystopping20.pickle')\n",
    "l = pd.read_pickle('../data/km/xgb_train.pickle')\n",
    "\n",
    "h_test = pd.read_pickle('../data/km/cat_test_earlystopping20.pickle')\n",
    "l_test = pd.read_pickle('../data/km/xgb_test.pickle')"
   ]
  },
  {
   "cell_type": "code",
   "execution_count": 407,
   "metadata": {},
   "outputs": [],
   "source": [
    "i = pd.read_pickle('../data/jw/enet_train.pickle')\n",
    "j = pd.read_pickle('../data/jw/gb_train.pickle')\n",
    "k = pd.read_pickle('../data/jw/ridge_train.pickle')\n",
    "m = pd.read_pickle('../data/jw/cnn_train.pickle')\n",
    "\n",
    "i_test = pd.read_pickle('../data/jw/enet_test.pickle')\n",
    "j_test = pd.read_pickle('../data/jw/gb_test.pickle')\n",
    "k_test = pd.read_pickle('../data/jw/ridge_test.pickle')\n",
    "m_test = pd.read_pickle('../data/jw/cnn_test.pickle')"
   ]
  },
  {
   "cell_type": "code",
   "execution_count": 408,
   "metadata": {},
   "outputs": [
    {
     "name": "stdout",
     "output_type": "stream",
     "text": [
      "ensemble_pred rmse: 0.90106463\n"
     ]
    }
   ],
   "source": [
    "print('ensemble_pred rmse:', np.sqrt(mean_squared_error(l, Y_valid)))"
   ]
  },
  {
   "cell_type": "code",
   "execution_count": 409,
   "metadata": {},
   "outputs": [],
   "source": [
    "merona_final = pd.DataFrame(a, columns=['lgbma'])\n",
    "merona_final['xgbb'] = b\n",
    "merona_final['lassoc'] = c\n",
    "merona_final['lightd'] = d\n",
    "merona_final['random_foreste'] = e\n",
    "merona_final['xgbf'] = f\n",
    "merona_final['xgbg'] = g\n",
    "merona_final['enet'] = i\n",
    "merona_final['gb'] = j\n",
    "merona_final['ridge'] = k\n",
    "merona_final['cath'] = h\n",
    "merona_final['xgbl'] = l\n",
    "merona_final['cnnm'] = m\n",
    "\n",
    "\n",
    "\n",
    "\n",
    "merona_final['label'] = Y_valid.values"
   ]
  },
  {
   "cell_type": "code",
   "execution_count": 410,
   "metadata": {},
   "outputs": [
    {
     "data": {
      "text/html": [
       "<div>\n",
       "<style scoped>\n",
       "    .dataframe tbody tr th:only-of-type {\n",
       "        vertical-align: middle;\n",
       "    }\n",
       "\n",
       "    .dataframe tbody tr th {\n",
       "        vertical-align: top;\n",
       "    }\n",
       "\n",
       "    .dataframe thead th {\n",
       "        text-align: right;\n",
       "    }\n",
       "</style>\n",
       "<table border=\"1\" class=\"dataframe\">\n",
       "  <thead>\n",
       "    <tr style=\"text-align: right;\">\n",
       "      <th></th>\n",
       "      <th>lgbma</th>\n",
       "      <th>xgbb</th>\n",
       "      <th>lassoc</th>\n",
       "      <th>lightd</th>\n",
       "      <th>random_foreste</th>\n",
       "      <th>xgbf</th>\n",
       "      <th>xgbg</th>\n",
       "      <th>enet</th>\n",
       "      <th>gb</th>\n",
       "      <th>ridge</th>\n",
       "      <th>cath</th>\n",
       "      <th>xgbl</th>\n",
       "      <th>cnnm</th>\n",
       "      <th>label</th>\n",
       "    </tr>\n",
       "  </thead>\n",
       "  <tbody>\n",
       "    <tr>\n",
       "      <th>0</th>\n",
       "      <td>0.007008</td>\n",
       "      <td>0.057410</td>\n",
       "      <td>0.064202</td>\n",
       "      <td>0.026478</td>\n",
       "      <td>0.032357</td>\n",
       "      <td>0.016044</td>\n",
       "      <td>0.077088</td>\n",
       "      <td>-0.051175</td>\n",
       "      <td>0.036746</td>\n",
       "      <td>-0.139739</td>\n",
       "      <td>0.044362</td>\n",
       "      <td>0.036364</td>\n",
       "      <td>0.064270</td>\n",
       "      <td>0.0</td>\n",
       "    </tr>\n",
       "    <tr>\n",
       "      <th>1</th>\n",
       "      <td>0.068977</td>\n",
       "      <td>0.134304</td>\n",
       "      <td>0.018155</td>\n",
       "      <td>0.122977</td>\n",
       "      <td>0.210863</td>\n",
       "      <td>0.076978</td>\n",
       "      <td>0.150140</td>\n",
       "      <td>-0.096576</td>\n",
       "      <td>0.036746</td>\n",
       "      <td>-0.205290</td>\n",
       "      <td>0.067487</td>\n",
       "      <td>0.134667</td>\n",
       "      <td>0.053287</td>\n",
       "      <td>1.0</td>\n",
       "    </tr>\n",
       "    <tr>\n",
       "      <th>2</th>\n",
       "      <td>0.172749</td>\n",
       "      <td>0.239080</td>\n",
       "      <td>0.145476</td>\n",
       "      <td>0.210888</td>\n",
       "      <td>0.089321</td>\n",
       "      <td>0.207642</td>\n",
       "      <td>0.229257</td>\n",
       "      <td>0.156611</td>\n",
       "      <td>0.222806</td>\n",
       "      <td>0.089633</td>\n",
       "      <td>0.157758</td>\n",
       "      <td>0.222893</td>\n",
       "      <td>0.164733</td>\n",
       "      <td>0.0</td>\n",
       "    </tr>\n",
       "    <tr>\n",
       "      <th>3</th>\n",
       "      <td>0.269338</td>\n",
       "      <td>0.278302</td>\n",
       "      <td>0.190494</td>\n",
       "      <td>0.296206</td>\n",
       "      <td>0.243354</td>\n",
       "      <td>0.273158</td>\n",
       "      <td>0.280044</td>\n",
       "      <td>0.461344</td>\n",
       "      <td>0.036746</td>\n",
       "      <td>0.384009</td>\n",
       "      <td>0.288753</td>\n",
       "      <td>0.291044</td>\n",
       "      <td>0.158865</td>\n",
       "      <td>0.0</td>\n",
       "    </tr>\n",
       "    <tr>\n",
       "      <th>4</th>\n",
       "      <td>0.021194</td>\n",
       "      <td>0.057225</td>\n",
       "      <td>0.000000</td>\n",
       "      <td>0.023437</td>\n",
       "      <td>0.032357</td>\n",
       "      <td>0.017241</td>\n",
       "      <td>0.055767</td>\n",
       "      <td>0.005222</td>\n",
       "      <td>0.036746</td>\n",
       "      <td>0.039249</td>\n",
       "      <td>0.043296</td>\n",
       "      <td>0.043435</td>\n",
       "      <td>0.095849</td>\n",
       "      <td>0.0</td>\n",
       "    </tr>\n",
       "  </tbody>\n",
       "</table>\n",
       "</div>"
      ],
      "text/plain": [
       "      lgbma      xgbb    lassoc    lightd  random_foreste      xgbf      xgbg  \\\n",
       "0  0.007008  0.057410  0.064202  0.026478        0.032357  0.016044  0.077088   \n",
       "1  0.068977  0.134304  0.018155  0.122977        0.210863  0.076978  0.150140   \n",
       "2  0.172749  0.239080  0.145476  0.210888        0.089321  0.207642  0.229257   \n",
       "3  0.269338  0.278302  0.190494  0.296206        0.243354  0.273158  0.280044   \n",
       "4  0.021194  0.057225  0.000000  0.023437        0.032357  0.017241  0.055767   \n",
       "\n",
       "       enet        gb     ridge      cath      xgbl      cnnm  label  \n",
       "0 -0.051175  0.036746 -0.139739  0.044362  0.036364  0.064270    0.0  \n",
       "1 -0.096576  0.036746 -0.205290  0.067487  0.134667  0.053287    1.0  \n",
       "2  0.156611  0.222806  0.089633  0.157758  0.222893  0.164733    0.0  \n",
       "3  0.461344  0.036746  0.384009  0.288753  0.291044  0.158865    0.0  \n",
       "4  0.005222  0.036746  0.039249  0.043296  0.043435  0.095849    0.0  "
      ]
     },
     "execution_count": 410,
     "metadata": {},
     "output_type": "execute_result"
    }
   ],
   "source": [
    "merona_final.head()"
   ]
  },
  {
   "cell_type": "code",
   "execution_count": 411,
   "metadata": {},
   "outputs": [],
   "source": [
    "merona_final_test = pd.DataFrame(a_test, columns=['lgbma'])\n",
    "merona_final_test['xgbb'] = b_test\n",
    "merona_final_test['lassoc'] = c_test\n",
    "merona_final_test['lightd'] = d_test\n",
    "merona_final_test['random_foreste'] = e_test\n",
    "merona_final_test['xgbf'] = f_test\n",
    "merona_final_test['xgbg'] = g_test\n",
    "merona_final_test['enet'] = i_test\n",
    "merona_final_test['gb'] = j_test\n",
    "merona_final_test['ridge'] = k_test\n",
    "merona_final_test['cath'] = h_test\n",
    "merona_final_test['xgbl'] = l_test\n",
    "merona_final_test['cnnm'] = m_test\n"
   ]
  },
  {
   "cell_type": "code",
   "execution_count": 412,
   "metadata": {},
   "outputs": [
    {
     "data": {
      "text/html": [
       "<div>\n",
       "<style scoped>\n",
       "    .dataframe tbody tr th:only-of-type {\n",
       "        vertical-align: middle;\n",
       "    }\n",
       "\n",
       "    .dataframe tbody tr th {\n",
       "        vertical-align: top;\n",
       "    }\n",
       "\n",
       "    .dataframe thead th {\n",
       "        text-align: right;\n",
       "    }\n",
       "</style>\n",
       "<table border=\"1\" class=\"dataframe\">\n",
       "  <thead>\n",
       "    <tr style=\"text-align: right;\">\n",
       "      <th></th>\n",
       "      <th>lgbma</th>\n",
       "      <th>xgbb</th>\n",
       "      <th>lassoc</th>\n",
       "      <th>lightd</th>\n",
       "      <th>random_foreste</th>\n",
       "      <th>xgbf</th>\n",
       "      <th>xgbg</th>\n",
       "      <th>enet</th>\n",
       "      <th>gb</th>\n",
       "      <th>ridge</th>\n",
       "      <th>cath</th>\n",
       "      <th>xgbl</th>\n",
       "      <th>cnnm</th>\n",
       "    </tr>\n",
       "  </thead>\n",
       "  <tbody>\n",
       "    <tr>\n",
       "      <th>0</th>\n",
       "      <td>0.502092</td>\n",
       "      <td>0.618743</td>\n",
       "      <td>0.630460</td>\n",
       "      <td>0.519310</td>\n",
       "      <td>0.308961</td>\n",
       "      <td>0.321365</td>\n",
       "      <td>0.531180</td>\n",
       "      <td>0.523784</td>\n",
       "      <td>0.587816</td>\n",
       "      <td>0.477109</td>\n",
       "      <td>0.535232</td>\n",
       "      <td>0.805964</td>\n",
       "      <td>0.500905</td>\n",
       "    </tr>\n",
       "    <tr>\n",
       "      <th>1</th>\n",
       "      <td>0.518915</td>\n",
       "      <td>0.351434</td>\n",
       "      <td>0.351951</td>\n",
       "      <td>1.126783</td>\n",
       "      <td>0.991942</td>\n",
       "      <td>0.360762</td>\n",
       "      <td>0.449609</td>\n",
       "      <td>0.268891</td>\n",
       "      <td>0.626516</td>\n",
       "      <td>0.372890</td>\n",
       "      <td>0.453614</td>\n",
       "      <td>0.388562</td>\n",
       "      <td>0.979102</td>\n",
       "    </tr>\n",
       "    <tr>\n",
       "      <th>2</th>\n",
       "      <td>0.828657</td>\n",
       "      <td>1.054130</td>\n",
       "      <td>0.869099</td>\n",
       "      <td>0.809332</td>\n",
       "      <td>0.702257</td>\n",
       "      <td>0.983320</td>\n",
       "      <td>1.046538</td>\n",
       "      <td>1.180124</td>\n",
       "      <td>0.898983</td>\n",
       "      <td>1.145069</td>\n",
       "      <td>0.790038</td>\n",
       "      <td>1.159053</td>\n",
       "      <td>0.950385</td>\n",
       "    </tr>\n",
       "    <tr>\n",
       "      <th>3</th>\n",
       "      <td>0.591258</td>\n",
       "      <td>0.423872</td>\n",
       "      <td>0.686034</td>\n",
       "      <td>0.409849</td>\n",
       "      <td>0.646894</td>\n",
       "      <td>0.489166</td>\n",
       "      <td>0.489466</td>\n",
       "      <td>0.351571</td>\n",
       "      <td>0.712924</td>\n",
       "      <td>0.299848</td>\n",
       "      <td>0.373310</td>\n",
       "      <td>0.577076</td>\n",
       "      <td>0.344505</td>\n",
       "    </tr>\n",
       "    <tr>\n",
       "      <th>4</th>\n",
       "      <td>3.784111</td>\n",
       "      <td>4.200912</td>\n",
       "      <td>0.622310</td>\n",
       "      <td>3.167235</td>\n",
       "      <td>2.554509</td>\n",
       "      <td>3.778995</td>\n",
       "      <td>2.906148</td>\n",
       "      <td>0.279816</td>\n",
       "      <td>2.208564</td>\n",
       "      <td>0.394879</td>\n",
       "      <td>1.683883</td>\n",
       "      <td>4.457869</td>\n",
       "      <td>1.788661</td>\n",
       "    </tr>\n",
       "  </tbody>\n",
       "</table>\n",
       "</div>"
      ],
      "text/plain": [
       "      lgbma      xgbb    lassoc    lightd  random_foreste      xgbf      xgbg  \\\n",
       "0  0.502092  0.618743  0.630460  0.519310        0.308961  0.321365  0.531180   \n",
       "1  0.518915  0.351434  0.351951  1.126783        0.991942  0.360762  0.449609   \n",
       "2  0.828657  1.054130  0.869099  0.809332        0.702257  0.983320  1.046538   \n",
       "3  0.591258  0.423872  0.686034  0.409849        0.646894  0.489166  0.489466   \n",
       "4  3.784111  4.200912  0.622310  3.167235        2.554509  3.778995  2.906148   \n",
       "\n",
       "       enet        gb     ridge      cath      xgbl      cnnm  \n",
       "0  0.523784  0.587816  0.477109  0.535232  0.805964  0.500905  \n",
       "1  0.268891  0.626516  0.372890  0.453614  0.388562  0.979102  \n",
       "2  1.180124  0.898983  1.145069  0.790038  1.159053  0.950385  \n",
       "3  0.351571  0.712924  0.299848  0.373310  0.577076  0.344505  \n",
       "4  0.279816  2.208564  0.394879  1.683883  4.457869  1.788661  "
      ]
     },
     "execution_count": 412,
     "metadata": {},
     "output_type": "execute_result"
    }
   ],
   "source": [
    "merona_final_test.head()"
   ]
  },
  {
   "cell_type": "markdown",
   "metadata": {},
   "source": [
    "### final is linear"
   ]
  },
  {
   "cell_type": "code",
   "execution_count": 413,
   "metadata": {},
   "outputs": [],
   "source": [
    "final_modelsss = LinearRegression(n_jobs=-1)"
   ]
  },
  {
   "cell_type": "code",
   "execution_count": 414,
   "metadata": {},
   "outputs": [
    {
     "data": {
      "text/plain": [
       "LinearRegression(n_jobs=-1)"
      ]
     },
     "execution_count": 414,
     "metadata": {},
     "output_type": "execute_result"
    }
   ],
   "source": [
    "merona_final.drop('label', axis=1, inplace=True)\n",
    "final_modelsss.fit(merona_final, Y_valid)"
   ]
  },
  {
   "cell_type": "code",
   "execution_count": 415,
   "metadata": {},
   "outputs": [],
   "source": [
    "ensemble_predsssd = final_modelsss.predict(merona_final).clip(0, 20)"
   ]
  },
  {
   "cell_type": "code",
   "execution_count": 416,
   "metadata": {},
   "outputs": [
    {
     "name": "stdout",
     "output_type": "stream",
     "text": [
      "ensemble_pred rmse: 0.8811864355620055\n"
     ]
    }
   ],
   "source": [
    "print('ensemble_pred rmse:', np.sqrt(mean_squared_error(ensemble_predsssd, Y_valid)))"
   ]
  },
  {
   "cell_type": "code",
   "execution_count": 417,
   "metadata": {},
   "outputs": [],
   "source": [
    "final_predictionssss = final_modelsss.predict(merona_final_test)"
   ]
  },
  {
   "cell_type": "code",
   "execution_count": 418,
   "metadata": {},
   "outputs": [
    {
     "data": {
      "text/plain": [
       "(214200,)"
      ]
     },
     "execution_count": 418,
     "metadata": {},
     "output_type": "execute_result"
    }
   ],
   "source": [
    "final_predictionssss.shape"
   ]
  },
  {
   "cell_type": "code",
   "execution_count": 419,
   "metadata": {},
   "outputs": [],
   "source": [
    "final_predictionssss = final_modelsss.predict(merona_final_test).clip(0, 20)"
   ]
  },
  {
   "cell_type": "markdown",
   "metadata": {},
   "source": [
    "### Real Submission "
   ]
  },
  {
   "cell_type": "code",
   "execution_count": 420,
   "metadata": {},
   "outputs": [],
   "source": [
    "prediction_df = pd.DataFrame({\n",
    "    \"ID\": test.index, \n",
    "    \"item_cnt_month\": final_predictionssss\n",
    "})\n",
    "\n",
    "prediction_df.to_csv('submission/merona_tes03t_submission.csv', index=False)"
   ]
  },
  {
   "cell_type": "markdown",
   "metadata": {},
   "source": [
    "### final is deep"
   ]
  },
  {
   "cell_type": "code",
   "execution_count": 421,
   "metadata": {},
   "outputs": [],
   "source": [
    "final_deep_x = merona_final.values\n",
    "final_deep_x_test = merona_final_test.values"
   ]
  },
  {
   "cell_type": "code",
   "execution_count": 422,
   "metadata": {},
   "outputs": [
    {
     "data": {
      "text/plain": [
       "(238172, 13)"
      ]
     },
     "execution_count": 422,
     "metadata": {},
     "output_type": "execute_result"
    }
   ],
   "source": [
    "final_deep_x.shape"
   ]
  },
  {
   "cell_type": "code",
   "execution_count": 423,
   "metadata": {},
   "outputs": [
    {
     "data": {
      "text/plain": [
       "(214200, 13)"
      ]
     },
     "execution_count": 423,
     "metadata": {},
     "output_type": "execute_result"
    }
   ],
   "source": [
    "final_deep_x_test.shape"
   ]
  },
  {
   "cell_type": "code",
   "execution_count": 398,
   "metadata": {},
   "outputs": [],
   "source": [
    "# merona_final.drop('label', axis=1, inplace=True)"
   ]
  },
  {
   "cell_type": "code",
   "execution_count": 424,
   "metadata": {},
   "outputs": [],
   "source": [
    "final_deep = Sequential()\n",
    "final_deep.add(Dense(64, input_dim = 13, activation='relu'))\n",
    "final_deep.add(Dense(64, activation='relu'))\n",
    "final_deep.add(Dense(1))"
   ]
  },
  {
   "cell_type": "code",
   "execution_count": 425,
   "metadata": {},
   "outputs": [],
   "source": [
    "final_deep.compile(loss=tensorflow.keras.losses.mse,\n",
    "                   optimizer=Adam(lr=0.007, beta_1=0.9, beta_2=0.999, epsilon=1e-8, decay=0.9),\n",
    "                  metrics=[tensorflow.keras.metrics.RootMeanSquaredError()])"
   ]
  },
  {
   "cell_type": "code",
   "execution_count": 426,
   "metadata": {},
   "outputs": [
    {
     "name": "stdout",
     "output_type": "stream",
     "text": [
      "Model: \"sequential_7\"\n",
      "_________________________________________________________________\n",
      "Layer (type)                 Output Shape              Param #   \n",
      "=================================================================\n",
      "dense_21 (Dense)             (None, 64)                896       \n",
      "_________________________________________________________________\n",
      "dense_22 (Dense)             (None, 64)                4160      \n",
      "_________________________________________________________________\n",
      "dense_23 (Dense)             (None, 1)                 65        \n",
      "=================================================================\n",
      "Total params: 5,121\n",
      "Trainable params: 5,121\n",
      "Non-trainable params: 0\n",
      "_________________________________________________________________\n"
     ]
    }
   ],
   "source": [
    "final_deep.summary()"
   ]
  },
  {
   "cell_type": "code",
   "execution_count": 427,
   "metadata": {
    "scrolled": true
   },
   "outputs": [
    {
     "name": "stdout",
     "output_type": "stream",
     "text": [
      "Epoch 1/30\n",
      "7443/7443 [==============================] - 8s 1ms/step - loss: 0.8004 - root_mean_squared_error: 0.8947\n",
      "Epoch 2/30\n",
      "7443/7443 [==============================] - 9s 1ms/step - loss: 0.7972 - root_mean_squared_error: 0.8928\n",
      "Epoch 3/30\n",
      "7443/7443 [==============================] - 9s 1ms/step - loss: 0.7965 - root_mean_squared_error: 0.8925\n",
      "Epoch 4/30\n",
      "7443/7443 [==============================] - 8s 1ms/step - loss: 0.7960 - root_mean_squared_error: 0.8922\n",
      "Epoch 5/30\n",
      "7443/7443 [==============================] - 8s 1ms/step - loss: 0.7957 - root_mean_squared_error: 0.8920\n",
      "Epoch 6/30\n",
      "7443/7443 [==============================] - 8s 1ms/step - loss: 0.7955 - root_mean_squared_error: 0.8919\n",
      "Epoch 7/30\n",
      "7443/7443 [==============================] - 8s 1ms/step - loss: 0.7953 - root_mean_squared_error: 0.8918\n",
      "Epoch 8/30\n",
      "7443/7443 [==============================] - 8s 1ms/step - loss: 0.7952 - root_mean_squared_error: 0.8917\n",
      "Epoch 9/30\n",
      "7443/7443 [==============================] - 8s 1ms/step - loss: 0.7950 - root_mean_squared_error: 0.8916\n",
      "Epoch 10/30\n",
      "7443/7443 [==============================] - 8s 1ms/step - loss: 0.7949 - root_mean_squared_error: 0.8916\n",
      "Epoch 11/30\n",
      "7443/7443 [==============================] - 8s 1ms/step - loss: 0.7948 - root_mean_squared_error: 0.8915\n",
      "Epoch 12/30\n",
      "7443/7443 [==============================] - 8s 1ms/step - loss: 0.7947 - root_mean_squared_error: 0.8915\n",
      "Epoch 13/30\n",
      "7443/7443 [==============================] - 8s 1ms/step - loss: 0.7946 - root_mean_squared_error: 0.8914\n",
      "Epoch 14/30\n",
      "7443/7443 [==============================] - 8s 1ms/step - loss: 0.7945 - root_mean_squared_error: 0.8914\n",
      "Epoch 15/30\n",
      "7443/7443 [==============================] - 8s 1ms/step - loss: 0.7944 - root_mean_squared_error: 0.8913\n",
      "Epoch 16/30\n",
      "7443/7443 [==============================] - 8s 1ms/step - loss: 0.7944 - root_mean_squared_error: 0.8913\n",
      "Epoch 17/30\n",
      "7443/7443 [==============================] - 8s 1ms/step - loss: 0.7943 - root_mean_squared_error: 0.8912\n",
      "Epoch 18/30\n",
      "7443/7443 [==============================] - 8s 1ms/step - loss: 0.7942 - root_mean_squared_error: 0.8912\n",
      "Epoch 19/30\n",
      "7443/7443 [==============================] - 8s 1ms/step - loss: 0.7942 - root_mean_squared_error: 0.8912\n",
      "Epoch 20/30\n",
      "7443/7443 [==============================] - 8s 1ms/step - loss: 0.7941 - root_mean_squared_error: 0.8911\n",
      "Epoch 21/30\n",
      "7443/7443 [==============================] - 8s 1ms/step - loss: 0.7941 - root_mean_squared_error: 0.8911\n",
      "Epoch 22/30\n",
      "7443/7443 [==============================] - 8s 1ms/step - loss: 0.7940 - root_mean_squared_error: 0.8911\n",
      "Epoch 23/30\n",
      "7443/7443 [==============================] - 8s 1ms/step - loss: 0.7940 - root_mean_squared_error: 0.8911\n",
      "Epoch 24/30\n",
      "7443/7443 [==============================] - 8s 1ms/step - loss: 0.7939 - root_mean_squared_error: 0.8910\n",
      "Epoch 25/30\n",
      "7443/7443 [==============================] - 9s 1ms/step - loss: 0.7939 - root_mean_squared_error: 0.8910\n",
      "Epoch 26/30\n",
      "7443/7443 [==============================] - 9s 1ms/step - loss: 0.7939 - root_mean_squared_error: 0.8910\n",
      "Epoch 27/30\n",
      "7443/7443 [==============================] - 8s 1ms/step - loss: 0.7938 - root_mean_squared_error: 0.8910\n",
      "Epoch 28/30\n",
      "7443/7443 [==============================] - 8s 1ms/step - loss: 0.7938 - root_mean_squared_error: 0.8910\n",
      "Epoch 29/30\n",
      "7443/7443 [==============================] - 8s 1ms/step - loss: 0.7938 - root_mean_squared_error: 0.8909\n",
      "Epoch 30/30\n",
      "7443/7443 [==============================] - 8s 1ms/step - loss: 0.7937 - root_mean_squared_error: 0.8909\n"
     ]
    },
    {
     "data": {
      "text/plain": [
       "<tensorflow.python.keras.callbacks.History at 0x7f8ea417aa90>"
      ]
     },
     "execution_count": 427,
     "metadata": {},
     "output_type": "execute_result"
    }
   ],
   "source": [
    "final_deep.fit(final_deep_x, Y_valid, epochs=30, batch_size=32)"
   ]
  },
  {
   "cell_type": "code",
   "execution_count": 428,
   "metadata": {},
   "outputs": [],
   "source": [
    "deep_pred = final_deep.predict(final_deep_x)"
   ]
  },
  {
   "cell_type": "code",
   "execution_count": 429,
   "metadata": {},
   "outputs": [
    {
     "name": "stdout",
     "output_type": "stream",
     "text": [
      "ensemble_pred rmse: 0.890904\n"
     ]
    }
   ],
   "source": [
    "print('ensemble_pred rmse:', np.sqrt(mean_squared_error(deep_pred, Y_valid)))"
   ]
  },
  {
   "cell_type": "code",
   "execution_count": 430,
   "metadata": {},
   "outputs": [],
   "source": [
    "deep_predictionssss = final_deep.predict(final_deep_x_test).clip(0, 20)"
   ]
  },
  {
   "cell_type": "code",
   "execution_count": 431,
   "metadata": {},
   "outputs": [],
   "source": [
    "deep_predictionssss = deep_predictionssss.squeeze()"
   ]
  },
  {
   "cell_type": "code",
   "execution_count": 432,
   "metadata": {},
   "outputs": [
    {
     "data": {
      "text/plain": [
       "array([0.5393479 , 0.43467802, 0.99005055, ..., 0.06512672, 0.02245909,\n",
       "       0.045017  ], dtype=float32)"
      ]
     },
     "execution_count": 432,
     "metadata": {},
     "output_type": "execute_result"
    }
   ],
   "source": [
    "deep_predictionssss"
   ]
  },
  {
   "cell_type": "code",
   "execution_count": 433,
   "metadata": {},
   "outputs": [],
   "source": [
    "prediction_df = pd.DataFrame({\n",
    "    \"ID\": test.index, \n",
    "    \"item_cnt_month\": deep_predictionssss\n",
    "})\n",
    "\n",
    "prediction_df.to_csv('submission/merona_finaldep2_submission.csv', index=False)"
   ]
  },
  {
   "cell_type": "code",
   "execution_count": null,
   "metadata": {},
   "outputs": [],
   "source": []
  }
 ],
 "metadata": {
  "kernelspec": {
   "display_name": "Python 3",
   "language": "python",
   "name": "python3"
  },
  "language_info": {
   "codemirror_mode": {
    "name": "ipython",
    "version": 3
   },
   "file_extension": ".py",
   "mimetype": "text/x-python",
   "name": "python",
   "nbconvert_exporter": "python",
   "pygments_lexer": "ipython3",
   "version": "3.7.6"
  },
  "toc": {
   "base_numbering": 1,
   "nav_menu": {},
   "number_sections": true,
   "sideBar": true,
   "skip_h1_title": true,
   "title_cell": "Table of Contents",
   "title_sidebar": "Contents",
   "toc_cell": false,
   "toc_position": {
    "height": "calc(100% - 180px)",
    "left": "10px",
    "top": "150px",
    "width": "384px"
   },
   "toc_section_display": true,
   "toc_window_display": true
  }
 },
 "nbformat": 4,
 "nbformat_minor": 4
}
