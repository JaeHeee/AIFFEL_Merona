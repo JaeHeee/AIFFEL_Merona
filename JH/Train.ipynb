{
 "cells": [
  {
   "cell_type": "code",
   "execution_count": 13,
   "metadata": {},
   "outputs": [
    {
     "data": {
      "text/plain": [
       "sys.version_info(major=3, minor=7, micro=6, releaselevel='final', serial=0)"
      ]
     },
     "execution_count": 13,
     "metadata": {},
     "output_type": "execute_result"
    }
   ],
   "source": [
    "import numpy as np\n",
    "import pandas as pd\n",
    "pd.set_option('display.max_rows', 500)\n",
    "pd.set_option('display.max_columns', 100)\n",
    "\n",
    "from itertools import product\n",
    "from sklearn.preprocessing import LabelEncoder\n",
    "from sklearn.metrics import mean_squared_error\n",
    "\n",
    "import seaborn as sns\n",
    "import matplotlib.pyplot as plt\n",
    "%matplotlib inline\n",
    "\n",
    "from xgboost import XGBRegressor\n",
    "from sklearn.ensemble import RandomForestRegressor\n",
    "from sklearn.neighbors import KNeighborsRegressor\n",
    "from sklearn.linear_model import LinearRegression\n",
    "from xgboost import plot_importance\n",
    "\n",
    "def plot_features(booster, figsize):    \n",
    "    fig, ax = plt.subplots(1,1,figsize=figsize)\n",
    "    return plot_importance(booster=booster, ax=ax)\n",
    "\n",
    "import time\n",
    "import sys\n",
    "import gc\n",
    "import pickle\n",
    "\n",
    "sys.version_info"
   ]
  },
  {
   "cell_type": "markdown",
   "metadata": {},
   "source": [
    "## Train"
   ]
  },
  {
   "cell_type": "code",
   "execution_count": 39,
   "metadata": {},
   "outputs": [],
   "source": [
    "test  = pd.read_csv('../data/test.csv').set_index('ID')"
   ]
  },
  {
   "cell_type": "code",
   "execution_count": 40,
   "metadata": {},
   "outputs": [],
   "source": [
    "data = pd.read_pickle('data.pkl')\n"
   ]
  },
  {
   "cell_type": "code",
   "execution_count": 41,
   "metadata": {},
   "outputs": [],
   "source": [
    "data = data[[\n",
    "    'date_block_num',\n",
    "    'shop_id',\n",
    "    'item_id',\n",
    "    'item_cnt_month',\n",
    "    'city_code',\n",
    "    'item_category_id',\n",
    "    'type_code',\n",
    "    'subtype_code',\n",
    "    'item_cnt_month_lag_1',\n",
    "    'item_cnt_month_lag_2',\n",
    "    'item_cnt_month_lag_3',\n",
    "    'item_cnt_month_lag_6',\n",
    "    'item_cnt_month_lag_12',\n",
    "    'date_avg_item_cnt_lag_1',\n",
    "    'date_item_avg_item_cnt_lag_1',\n",
    "    'date_item_avg_item_cnt_lag_2',\n",
    "    'date_item_avg_item_cnt_lag_3',\n",
    "#     'date_item_avg_item_cnt_lag_6',\n",
    "#     'date_item_avg_item_cnt_lag_12',\n",
    "    'date_shop_avg_item_cnt_lag_1',\n",
    "    'date_shop_avg_item_cnt_lag_2',\n",
    "    'date_shop_avg_item_cnt_lag_3',\n",
    "    'date_shop_avg_item_cnt_lag_6',\n",
    "#     'date_shop_avg_item_cnt_lag_12',\n",
    "    'date_cat_avg_item_cnt_lag_1',\n",
    "    'date_shop_cat_avg_item_cnt_lag_1',\n",
    "    'date_shop_type_avg_item_cnt_lag_1',\n",
    "    'date_shop_subtype_avg_item_cnt_lag_1',\n",
    "    'date_city_avg_item_cnt_lag_1',\n",
    "    'date_item_city_avg_item_cnt_lag_1',\n",
    "    'date_type_avg_item_cnt_lag_1',\n",
    "    'date_subtype_avg_item_cnt_lag_1',\n",
    "    'delta_price_lag',\n",
    "    'month',\n",
    "    'days',\n",
    "#     'item_shop_last_sale',\n",
    "    'item_last_sale',\n",
    "    'item_shop_first_sale',\n",
    "    'item_first_sale',\n",
    "]]"
   ]
  },
  {
   "cell_type": "code",
   "execution_count": 42,
   "metadata": {},
   "outputs": [],
   "source": [
    "# 0~32개월 : Train\n",
    "# 33 개월 :  Validation\n",
    "# 34 개월 :  Test\n",
    "X_train = data[data.date_block_num < 33].drop(['item_cnt_month'], axis=1)\n",
    "Y_train = data[data.date_block_num < 33]['item_cnt_month']\n",
    "X_valid = data[data.date_block_num == 33].drop(['item_cnt_month'], axis=1)\n",
    "Y_valid = data[data.date_block_num == 33]['item_cnt_month']\n",
    "X_test = data[data.date_block_num == 34].drop(['item_cnt_month'], axis=1)"
   ]
  },
  {
   "cell_type": "code",
   "execution_count": 43,
   "metadata": {},
   "outputs": [],
   "source": [
    "del data\n",
    "gc.collect();"
   ]
  },
  {
   "cell_type": "code",
   "execution_count": 44,
   "metadata": {},
   "outputs": [],
   "source": [
    "model = XGBRegressor(\n",
    "    max_depth=10,\n",
    "    n_estimators=1000,\n",
    "    min_child_weight=0.5, \n",
    "    colsample_bytree=0.8, \n",
    "    subsample=0.8, \n",
    "    eta=0.1,    \n",
    "    seed=42)"
   ]
  },
  {
   "cell_type": "code",
   "execution_count": 45,
   "metadata": {},
   "outputs": [
    {
     "name": "stdout",
     "output_type": "stream",
     "text": [
      "[16:54:11] WARNING: /home/conda/feedstock_root/build_artifacts/xgboost_1593723605503/work/src/gbm/gbtree.cc:139: Tree method is automatically selected to be 'approx' for faster speed. To use old behavior (exact greedy algorithm on single machine), set tree_method to 'exact'.\n",
      "[0]\tvalidation_0-rmse:1.15036\tvalidation_1-rmse:1.11622\n",
      "Multiple eval metrics have been passed: 'validation_1-rmse' will be used for early stopping.\n",
      "\n",
      "Will train until validation_1-rmse hasn't improved in 20 rounds.\n",
      "[1]\tvalidation_0-rmse:1.09668\tvalidation_1-rmse:1.07751\n",
      "[2]\tvalidation_0-rmse:1.05502\tvalidation_1-rmse:1.04697\n",
      "[3]\tvalidation_0-rmse:1.01866\tvalidation_1-rmse:1.02119\n",
      "[4]\tvalidation_0-rmse:0.98527\tvalidation_1-rmse:0.99846\n",
      "[5]\tvalidation_0-rmse:0.95772\tvalidation_1-rmse:0.98102\n",
      "[6]\tvalidation_0-rmse:0.93518\tvalidation_1-rmse:0.96711\n",
      "[7]\tvalidation_0-rmse:0.91553\tvalidation_1-rmse:0.95603\n",
      "[8]\tvalidation_0-rmse:0.89751\tvalidation_1-rmse:0.94589\n",
      "[9]\tvalidation_0-rmse:0.88116\tvalidation_1-rmse:0.93754\n",
      "[10]\tvalidation_0-rmse:0.86793\tvalidation_1-rmse:0.93106\n",
      "[11]\tvalidation_0-rmse:0.85576\tvalidation_1-rmse:0.92418\n",
      "[12]\tvalidation_0-rmse:0.84659\tvalidation_1-rmse:0.92064\n",
      "[13]\tvalidation_0-rmse:0.83762\tvalidation_1-rmse:0.91608\n",
      "[14]\tvalidation_0-rmse:0.82967\tvalidation_1-rmse:0.91458\n",
      "[15]\tvalidation_0-rmse:0.82294\tvalidation_1-rmse:0.91211\n",
      "[16]\tvalidation_0-rmse:0.81729\tvalidation_1-rmse:0.91140\n",
      "[17]\tvalidation_0-rmse:0.81189\tvalidation_1-rmse:0.91051\n",
      "[18]\tvalidation_0-rmse:0.80668\tvalidation_1-rmse:0.90854\n",
      "[19]\tvalidation_0-rmse:0.80234\tvalidation_1-rmse:0.90800\n",
      "[20]\tvalidation_0-rmse:0.79868\tvalidation_1-rmse:0.90802\n",
      "[21]\tvalidation_0-rmse:0.79407\tvalidation_1-rmse:0.90800\n",
      "[22]\tvalidation_0-rmse:0.79058\tvalidation_1-rmse:0.90709\n",
      "[23]\tvalidation_0-rmse:0.78738\tvalidation_1-rmse:0.90706\n",
      "[24]\tvalidation_0-rmse:0.78403\tvalidation_1-rmse:0.90690\n",
      "[25]\tvalidation_0-rmse:0.78161\tvalidation_1-rmse:0.90605\n",
      "[26]\tvalidation_0-rmse:0.77929\tvalidation_1-rmse:0.90599\n",
      "[27]\tvalidation_0-rmse:0.77703\tvalidation_1-rmse:0.90597\n",
      "[28]\tvalidation_0-rmse:0.77450\tvalidation_1-rmse:0.90570\n",
      "[29]\tvalidation_0-rmse:0.77255\tvalidation_1-rmse:0.90580\n",
      "[30]\tvalidation_0-rmse:0.77060\tvalidation_1-rmse:0.90681\n",
      "[31]\tvalidation_0-rmse:0.76807\tvalidation_1-rmse:0.90706\n",
      "[32]\tvalidation_0-rmse:0.76633\tvalidation_1-rmse:0.90682\n",
      "[33]\tvalidation_0-rmse:0.76451\tvalidation_1-rmse:0.90646\n",
      "[34]\tvalidation_0-rmse:0.76281\tvalidation_1-rmse:0.90643\n",
      "[35]\tvalidation_0-rmse:0.76068\tvalidation_1-rmse:0.90639\n",
      "[36]\tvalidation_0-rmse:0.75938\tvalidation_1-rmse:0.90678\n",
      "[37]\tvalidation_0-rmse:0.75694\tvalidation_1-rmse:0.91140\n",
      "[38]\tvalidation_0-rmse:0.75550\tvalidation_1-rmse:0.91260\n",
      "[39]\tvalidation_0-rmse:0.75401\tvalidation_1-rmse:0.91336\n",
      "[40]\tvalidation_0-rmse:0.75298\tvalidation_1-rmse:0.91321\n",
      "[41]\tvalidation_0-rmse:0.75162\tvalidation_1-rmse:0.91290\n",
      "[42]\tvalidation_0-rmse:0.75068\tvalidation_1-rmse:0.91330\n",
      "[43]\tvalidation_0-rmse:0.74947\tvalidation_1-rmse:0.91391\n",
      "[44]\tvalidation_0-rmse:0.74834\tvalidation_1-rmse:0.91391\n",
      "[45]\tvalidation_0-rmse:0.74712\tvalidation_1-rmse:0.91443\n",
      "[46]\tvalidation_0-rmse:0.74646\tvalidation_1-rmse:0.91511\n",
      "[47]\tvalidation_0-rmse:0.74570\tvalidation_1-rmse:0.91544\n",
      "[48]\tvalidation_0-rmse:0.74517\tvalidation_1-rmse:0.91540\n",
      "Stopping. Best iteration:\n",
      "[28]\tvalidation_0-rmse:0.77450\tvalidation_1-rmse:0.90570\n",
      "\n"
     ]
    },
    {
     "data": {
      "text/plain": [
       "XGBRegressor(base_score=0.5, booster='gbtree', colsample_bylevel=1,\n",
       "             colsample_bynode=1, colsample_bytree=0.8, eta=0.1, gamma=0,\n",
       "             gpu_id=-1, importance_type='gain', interaction_constraints='',\n",
       "             learning_rate=0.100000001, max_delta_step=0, max_depth=10,\n",
       "             min_child_weight=0.5, missing=nan, monotone_constraints='()',\n",
       "             n_estimators=1000, n_jobs=0, num_parallel_tree=1, random_state=42,\n",
       "             reg_alpha=0, reg_lambda=1, scale_pos_weight=1, seed=42,\n",
       "             subsample=0.8, tree_method='approx', validate_parameters=1,\n",
       "             verbosity=None)"
      ]
     },
     "execution_count": 45,
     "metadata": {},
     "output_type": "execute_result"
    }
   ],
   "source": [
    "model.fit(\n",
    "    X_train, \n",
    "    Y_train, \n",
    "    eval_metric=\"rmse\", \n",
    "    eval_set=[(X_train, Y_train), (X_valid, Y_valid)], \n",
    "    verbose=True, \n",
    "    early_stopping_rounds = 20)\n"
   ]
  },
  {
   "cell_type": "code",
   "execution_count": 14,
   "metadata": {},
   "outputs": [
    {
     "data": {
      "text/plain": [
       "RandomForestRegressor(max_depth=7, n_estimators=50, n_jobs=-1, random_state=0)"
      ]
     },
     "execution_count": 14,
     "metadata": {},
     "output_type": "execute_result"
    }
   ],
   "source": [
    "rf = RandomForestRegressor(n_estimators=50, max_depth=7, random_state=0, n_jobs=-1)\n",
    "rf.fit(X_train, Y_train)"
   ]
  },
  {
   "cell_type": "code",
   "execution_count": 15,
   "metadata": {},
   "outputs": [],
   "source": [
    "rf_pred = rf.predict(X_valid).clip(0,20)"
   ]
  },
  {
   "cell_type": "code",
   "execution_count": 16,
   "metadata": {},
   "outputs": [
    {
     "name": "stdout",
     "output_type": "stream",
     "text": [
      "validation rmse: 0.940858768572555\n"
     ]
    }
   ],
   "source": [
    "print('validation rmse:',np.sqrt(mean_squared_error(Y_valid, rf_pred)))"
   ]
  },
  {
   "cell_type": "code",
   "execution_count": 19,
   "metadata": {},
   "outputs": [],
   "source": [
    "rf_test = rf.predict(X_test).clip(0, 20)"
   ]
  },
  {
   "cell_type": "code",
   "execution_count": 18,
   "metadata": {},
   "outputs": [
    {
     "data": {
      "text/plain": [
       "KNeighborsRegressor(leaf_size=13, n_jobs=-1, n_neighbors=9)"
      ]
     },
     "execution_count": 18,
     "metadata": {},
     "output_type": "execute_result"
    }
   ],
   "source": [
    "knn = KNeighborsRegressor(n_neighbors=9, leaf_size=13, n_jobs=-1)\n",
    "knn.fit(X_train, Y_train)"
   ]
  },
  {
   "cell_type": "code",
   "execution_count": 20,
   "metadata": {},
   "outputs": [],
   "source": [
    "knn_pred = knn.predict(X_valid).clip(0,20)\n",
    "knn_test = knn.predict(X_test).clip(0, 20)"
   ]
  },
  {
   "cell_type": "code",
   "execution_count": 21,
   "metadata": {},
   "outputs": [
    {
     "name": "stdout",
     "output_type": "stream",
     "text": [
      "validation rmse: 1.036\n"
     ]
    }
   ],
   "source": [
    "print('validation rmse:',np.sqrt(mean_squared_error(Y_valid, knn_pred)))"
   ]
  },
  {
   "cell_type": "code",
   "execution_count": 24,
   "metadata": {},
   "outputs": [
    {
     "data": {
      "text/plain": [
       "LinearRegression(n_jobs=-1)"
      ]
     },
     "execution_count": 24,
     "metadata": {},
     "output_type": "execute_result"
    }
   ],
   "source": [
    "linear = LinearRegression(n_jobs=-1)\n",
    "linear.fit(X_train, Y_train)"
   ]
  },
  {
   "cell_type": "code",
   "execution_count": 25,
   "metadata": {},
   "outputs": [],
   "source": [
    "linear_pred = linear.predict(X_valid).clip(0,20)\n",
    "linear_test = linear.predict(X_test).clip(0, 20)"
   ]
  },
  {
   "cell_type": "code",
   "execution_count": 26,
   "metadata": {},
   "outputs": [
    {
     "name": "stdout",
     "output_type": "stream",
     "text": [
      "validation rmse: 0.9628517\n"
     ]
    }
   ],
   "source": [
    "print('validation rmse:',np.sqrt(mean_squared_error(Y_valid, linear_pred)))"
   ]
  },
  {
   "cell_type": "markdown",
   "metadata": {},
   "source": [
    "## Predict"
   ]
  },
  {
   "cell_type": "code",
   "execution_count": 46,
   "metadata": {},
   "outputs": [],
   "source": [
    "Y_pred = model.predict(X_valid).clip(0, 20)\n",
    "Y_test = model.predict(X_test).clip(0, 20)"
   ]
  },
  {
   "cell_type": "code",
   "execution_count": 47,
   "metadata": {},
   "outputs": [
    {
     "name": "stdout",
     "output_type": "stream",
     "text": [
      "validation rmse: 0.90569586\n"
     ]
    }
   ],
   "source": [
    "print('validation rmse:',np.sqrt(mean_squared_error(Y_valid, Y_pred)))"
   ]
  },
  {
   "cell_type": "code",
   "execution_count": 27,
   "metadata": {},
   "outputs": [
    {
     "data": {
      "text/html": [
       "<div>\n",
       "<style scoped>\n",
       "    .dataframe tbody tr th:only-of-type {\n",
       "        vertical-align: middle;\n",
       "    }\n",
       "\n",
       "    .dataframe tbody tr th {\n",
       "        vertical-align: top;\n",
       "    }\n",
       "\n",
       "    .dataframe thead th {\n",
       "        text-align: right;\n",
       "    }\n",
       "</style>\n",
       "<table border=\"1\" class=\"dataframe\">\n",
       "  <thead>\n",
       "    <tr style=\"text-align: right;\">\n",
       "      <th></th>\n",
       "      <th>xgbm</th>\n",
       "      <th>random_forest</th>\n",
       "      <th>linear_regression</th>\n",
       "      <th>knn</th>\n",
       "      <th>label</th>\n",
       "    </tr>\n",
       "  </thead>\n",
       "  <tbody>\n",
       "    <tr>\n",
       "      <th>0</th>\n",
       "      <td>0.041903</td>\n",
       "      <td>0.075468</td>\n",
       "      <td>0.000000</td>\n",
       "      <td>0.222168</td>\n",
       "      <td>0.0</td>\n",
       "    </tr>\n",
       "    <tr>\n",
       "      <th>1</th>\n",
       "      <td>0.117601</td>\n",
       "      <td>0.221430</td>\n",
       "      <td>0.000000</td>\n",
       "      <td>0.111084</td>\n",
       "      <td>1.0</td>\n",
       "    </tr>\n",
       "    <tr>\n",
       "      <th>2</th>\n",
       "      <td>0.253358</td>\n",
       "      <td>0.070673</td>\n",
       "      <td>0.083597</td>\n",
       "      <td>0.333252</td>\n",
       "      <td>0.0</td>\n",
       "    </tr>\n",
       "    <tr>\n",
       "      <th>3</th>\n",
       "      <td>0.225505</td>\n",
       "      <td>0.221430</td>\n",
       "      <td>0.384206</td>\n",
       "      <td>0.111084</td>\n",
       "      <td>0.0</td>\n",
       "    </tr>\n",
       "    <tr>\n",
       "      <th>4</th>\n",
       "      <td>0.006981</td>\n",
       "      <td>0.022753</td>\n",
       "      <td>0.021832</td>\n",
       "      <td>0.000000</td>\n",
       "      <td>0.0</td>\n",
       "    </tr>\n",
       "    <tr>\n",
       "      <th>5</th>\n",
       "      <td>0.001057</td>\n",
       "      <td>0.022753</td>\n",
       "      <td>0.000000</td>\n",
       "      <td>0.000000</td>\n",
       "      <td>0.0</td>\n",
       "    </tr>\n",
       "    <tr>\n",
       "      <th>6</th>\n",
       "      <td>0.008484</td>\n",
       "      <td>0.022753</td>\n",
       "      <td>0.000000</td>\n",
       "      <td>0.000000</td>\n",
       "      <td>0.0</td>\n",
       "    </tr>\n",
       "    <tr>\n",
       "      <th>7</th>\n",
       "      <td>0.007735</td>\n",
       "      <td>0.022753</td>\n",
       "      <td>0.000000</td>\n",
       "      <td>0.000000</td>\n",
       "      <td>0.0</td>\n",
       "    </tr>\n",
       "    <tr>\n",
       "      <th>8</th>\n",
       "      <td>0.007735</td>\n",
       "      <td>0.022753</td>\n",
       "      <td>0.000000</td>\n",
       "      <td>0.000000</td>\n",
       "      <td>0.0</td>\n",
       "    </tr>\n",
       "    <tr>\n",
       "      <th>9</th>\n",
       "      <td>0.033169</td>\n",
       "      <td>0.075468</td>\n",
       "      <td>0.000000</td>\n",
       "      <td>0.000000</td>\n",
       "      <td>0.0</td>\n",
       "    </tr>\n",
       "    <tr>\n",
       "      <th>10</th>\n",
       "      <td>0.013107</td>\n",
       "      <td>0.022753</td>\n",
       "      <td>0.000000</td>\n",
       "      <td>0.000000</td>\n",
       "      <td>0.0</td>\n",
       "    </tr>\n",
       "    <tr>\n",
       "      <th>11</th>\n",
       "      <td>0.031475</td>\n",
       "      <td>0.075468</td>\n",
       "      <td>0.000000</td>\n",
       "      <td>0.000000</td>\n",
       "      <td>0.0</td>\n",
       "    </tr>\n",
       "    <tr>\n",
       "      <th>12</th>\n",
       "      <td>0.115952</td>\n",
       "      <td>0.221430</td>\n",
       "      <td>0.024951</td>\n",
       "      <td>0.333252</td>\n",
       "      <td>0.0</td>\n",
       "    </tr>\n",
       "    <tr>\n",
       "      <th>13</th>\n",
       "      <td>0.011313</td>\n",
       "      <td>0.022753</td>\n",
       "      <td>0.158461</td>\n",
       "      <td>0.111084</td>\n",
       "      <td>0.0</td>\n",
       "    </tr>\n",
       "    <tr>\n",
       "      <th>14</th>\n",
       "      <td>0.057317</td>\n",
       "      <td>0.073396</td>\n",
       "      <td>0.035043</td>\n",
       "      <td>0.000000</td>\n",
       "      <td>0.0</td>\n",
       "    </tr>\n",
       "    <tr>\n",
       "      <th>15</th>\n",
       "      <td>0.012161</td>\n",
       "      <td>0.022753</td>\n",
       "      <td>0.031955</td>\n",
       "      <td>0.000000</td>\n",
       "      <td>0.0</td>\n",
       "    </tr>\n",
       "    <tr>\n",
       "      <th>16</th>\n",
       "      <td>0.096576</td>\n",
       "      <td>0.070673</td>\n",
       "      <td>0.193119</td>\n",
       "      <td>0.111084</td>\n",
       "      <td>0.0</td>\n",
       "    </tr>\n",
       "    <tr>\n",
       "      <th>17</th>\n",
       "      <td>0.030720</td>\n",
       "      <td>0.075468</td>\n",
       "      <td>0.063696</td>\n",
       "      <td>0.000000</td>\n",
       "      <td>0.0</td>\n",
       "    </tr>\n",
       "    <tr>\n",
       "      <th>18</th>\n",
       "      <td>0.021442</td>\n",
       "      <td>0.022753</td>\n",
       "      <td>0.094168</td>\n",
       "      <td>0.000000</td>\n",
       "      <td>0.0</td>\n",
       "    </tr>\n",
       "    <tr>\n",
       "      <th>19</th>\n",
       "      <td>0.006981</td>\n",
       "      <td>0.022753</td>\n",
       "      <td>0.095653</td>\n",
       "      <td>0.000000</td>\n",
       "      <td>0.0</td>\n",
       "    </tr>\n",
       "  </tbody>\n",
       "</table>\n",
       "</div>"
      ],
      "text/plain": [
       "        xgbm  random_forest  linear_regression       knn  label\n",
       "0   0.041903       0.075468           0.000000  0.222168    0.0\n",
       "1   0.117601       0.221430           0.000000  0.111084    1.0\n",
       "2   0.253358       0.070673           0.083597  0.333252    0.0\n",
       "3   0.225505       0.221430           0.384206  0.111084    0.0\n",
       "4   0.006981       0.022753           0.021832  0.000000    0.0\n",
       "5   0.001057       0.022753           0.000000  0.000000    0.0\n",
       "6   0.008484       0.022753           0.000000  0.000000    0.0\n",
       "7   0.007735       0.022753           0.000000  0.000000    0.0\n",
       "8   0.007735       0.022753           0.000000  0.000000    0.0\n",
       "9   0.033169       0.075468           0.000000  0.000000    0.0\n",
       "10  0.013107       0.022753           0.000000  0.000000    0.0\n",
       "11  0.031475       0.075468           0.000000  0.000000    0.0\n",
       "12  0.115952       0.221430           0.024951  0.333252    0.0\n",
       "13  0.011313       0.022753           0.158461  0.111084    0.0\n",
       "14  0.057317       0.073396           0.035043  0.000000    0.0\n",
       "15  0.012161       0.022753           0.031955  0.000000    0.0\n",
       "16  0.096576       0.070673           0.193119  0.111084    0.0\n",
       "17  0.030720       0.075468           0.063696  0.000000    0.0\n",
       "18  0.021442       0.022753           0.094168  0.000000    0.0\n",
       "19  0.006981       0.022753           0.095653  0.000000    0.0"
      ]
     },
     "execution_count": 27,
     "metadata": {},
     "output_type": "execute_result"
    }
   ],
   "source": [
    "first_level = pd.DataFrame(Y_pred, columns=['xgbm'])\n",
    "first_level['random_forest'] = rf_pred\n",
    "first_level['linear_regression'] = linear_pred\n",
    "first_level['knn'] = knn_pred\n",
    "first_level['label'] = Y_valid.values\n",
    "first_level.head(20)"
   ]
  },
  {
   "cell_type": "code",
   "execution_count": 28,
   "metadata": {},
   "outputs": [
    {
     "data": {
      "text/html": [
       "<div>\n",
       "<style scoped>\n",
       "    .dataframe tbody tr th:only-of-type {\n",
       "        vertical-align: middle;\n",
       "    }\n",
       "\n",
       "    .dataframe tbody tr th {\n",
       "        vertical-align: top;\n",
       "    }\n",
       "\n",
       "    .dataframe thead th {\n",
       "        text-align: right;\n",
       "    }\n",
       "</style>\n",
       "<table border=\"1\" class=\"dataframe\">\n",
       "  <thead>\n",
       "    <tr style=\"text-align: right;\">\n",
       "      <th></th>\n",
       "      <th>xgbm</th>\n",
       "      <th>random_forest</th>\n",
       "      <th>linear_regression</th>\n",
       "      <th>knn</th>\n",
       "    </tr>\n",
       "  </thead>\n",
       "  <tbody>\n",
       "    <tr>\n",
       "      <th>0</th>\n",
       "      <td>0.729993</td>\n",
       "      <td>0.369144</td>\n",
       "      <td>0.466291</td>\n",
       "      <td>1.666992</td>\n",
       "    </tr>\n",
       "    <tr>\n",
       "      <th>1</th>\n",
       "      <td>0.595191</td>\n",
       "      <td>0.566893</td>\n",
       "      <td>0.373143</td>\n",
       "      <td>4.554688</td>\n",
       "    </tr>\n",
       "    <tr>\n",
       "      <th>2</th>\n",
       "      <td>1.266816</td>\n",
       "      <td>0.688148</td>\n",
       "      <td>1.137572</td>\n",
       "      <td>3.222656</td>\n",
       "    </tr>\n",
       "    <tr>\n",
       "      <th>3</th>\n",
       "      <td>0.542370</td>\n",
       "      <td>0.464499</td>\n",
       "      <td>0.298650</td>\n",
       "      <td>0.777832</td>\n",
       "    </tr>\n",
       "    <tr>\n",
       "      <th>4</th>\n",
       "      <td>3.817008</td>\n",
       "      <td>2.915311</td>\n",
       "      <td>0.390014</td>\n",
       "      <td>0.000000</td>\n",
       "    </tr>\n",
       "  </tbody>\n",
       "</table>\n",
       "</div>"
      ],
      "text/plain": [
       "       xgbm  random_forest  linear_regression       knn\n",
       "0  0.729993       0.369144           0.466291  1.666992\n",
       "1  0.595191       0.566893           0.373143  4.554688\n",
       "2  1.266816       0.688148           1.137572  3.222656\n",
       "3  0.542370       0.464499           0.298650  0.777832\n",
       "4  3.817008       2.915311           0.390014  0.000000"
      ]
     },
     "execution_count": 28,
     "metadata": {},
     "output_type": "execute_result"
    }
   ],
   "source": [
    "first_level_test = pd.DataFrame(Y_test, columns=['xgbm'])\n",
    "first_level_test['random_forest'] = rf_test\n",
    "first_level_test['linear_regression'] = linear_test\n",
    "first_level_test['knn'] = knn_test\n",
    "first_level_test.head()"
   ]
  },
  {
   "cell_type": "code",
   "execution_count": 29,
   "metadata": {},
   "outputs": [],
   "source": [
    "meta_model = LinearRegression(n_jobs=-1)"
   ]
  },
  {
   "cell_type": "code",
   "execution_count": 30,
   "metadata": {},
   "outputs": [
    {
     "data": {
      "text/plain": [
       "LinearRegression(n_jobs=-1)"
      ]
     },
     "execution_count": 30,
     "metadata": {},
     "output_type": "execute_result"
    }
   ],
   "source": [
    "first_level.drop('label', axis=1, inplace=True)\n",
    "meta_model.fit(first_level, Y_valid)"
   ]
  },
  {
   "cell_type": "code",
   "execution_count": 35,
   "metadata": {},
   "outputs": [],
   "source": [
    "ensemble_pred = meta_model.predict(first_level).clip(0, 20)\n",
    "final_predictions = meta_model.predict(first_level_test).clip(0, 20)"
   ]
  },
  {
   "cell_type": "code",
   "execution_count": 36,
   "metadata": {},
   "outputs": [
    {
     "name": "stdout",
     "output_type": "stream",
     "text": [
      "Train rmse: 0.9046096446222068\n"
     ]
    }
   ],
   "source": [
    "print('Train rmse:', np.sqrt(mean_squared_error(ensemble_pred, Y_valid)))"
   ]
  },
  {
   "cell_type": "code",
   "execution_count": 37,
   "metadata": {},
   "outputs": [],
   "source": [
    "prediction_df = pd.DataFrame({\n",
    "    \"ID\": test.index, \n",
    "    \"item_cnt_month\": final_predictions\n",
    "})\n",
    "prediction_df.to_csv('submission/edaenemble_submission.csv', index=False)"
   ]
  },
  {
   "cell_type": "code",
   "execution_count": null,
   "metadata": {},
   "outputs": [],
   "source": []
  },
  {
   "cell_type": "markdown",
   "metadata": {},
   "source": [
    "## Submission"
   ]
  },
  {
   "cell_type": "code",
   "execution_count": 11,
   "metadata": {
    "_uuid": "8ff5a80a22d046c5ca1cb27e938c757b607551d2"
   },
   "outputs": [],
   "source": [
    "submission = pd.DataFrame({\n",
    "    \"ID\": test.index, \n",
    "    \"item_cnt_month\": Y_test\n",
    "})\n",
    "submission.to_csv('submission/xgb_submission.csv', index=False)\n",
    "\n",
    "# save predictions for an ensemble\n",
    "pickle.dump(Y_pred, open('model/xgb_train.pickle', 'wb'))\n",
    "pickle.dump(Y_test, open('model/xgb_test.pickle', 'wb'))"
   ]
  },
  {
   "cell_type": "code",
   "execution_count": 12,
   "metadata": {
    "_uuid": "c8adc7c93323eb77baeceb2e8db17390b5c4deb3"
   },
   "outputs": [
    {
     "data": {
      "text/plain": [
       "<matplotlib.axes._subplots.AxesSubplot at 0x7f3648abab10>"
      ]
     },
     "execution_count": 12,
     "metadata": {},
     "output_type": "execute_result"
    },
    {
     "data": {
      "image/png": "[encoded data removed]",
      "text/plain": [
       "<Figure size 720x1008 with 1 Axes>"
      ]
     },
     "metadata": {
      "needs_background": "light"
     },
     "output_type": "display_data"
    }
   ],
   "source": [
    "plot_features(model, (10,14))"
   ]
  },
  {
   "cell_type": "code",
   "execution_count": null,
   "metadata": {},
   "outputs": [],
   "source": []
  }
 ],
 "metadata": {
  "kernelspec": {
   "display_name": "aiffel",
   "language": "python",
   "name": "aiffel"
  },
  "language_info": {
   "codemirror_mode": {
    "name": "ipython",
    "version": 3
   },
   "file_extension": ".py",
   "mimetype": "text/x-python",
   "name": "python",
   "nbconvert_exporter": "python",
   "pygments_lexer": "ipython3",
   "version": "3.7.6"
  },
  "toc": {
   "base_numbering": 1,
   "nav_menu": {},
   "number_sections": true,
   "sideBar": true,
   "skip_h1_title": true,
   "title_cell": "Table of Contents",
   "title_sidebar": "Contents",
   "toc_cell": false,
   "toc_position": {},
   "toc_section_display": true,
   "toc_window_display": false
  }
 },
 "nbformat": 4,
 "nbformat_minor": 4
}
