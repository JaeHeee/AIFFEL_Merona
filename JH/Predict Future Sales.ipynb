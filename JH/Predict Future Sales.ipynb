{
 "cells": [
  {
   "cell_type": "markdown",
   "metadata": {},
   "source": [
    "# Predict Future Sales"
   ]
  },
  {
   "cell_type": "markdown",
   "metadata": {},
   "source": [
    "---"
   ]
  },
  {
   "cell_type": "markdown",
   "metadata": {},
   "source": [
    "## Import"
   ]
  },
  {
   "cell_type": "code",
   "execution_count": 1,
   "metadata": {},
   "outputs": [],
   "source": [
    "# Basic packages\n",
    "import numpy as np # linear algebra\n",
    "import pandas as pd # data processing, CSV file I/O (e.g. pd.read_csv)\n",
    "import random as rd # generating random numbers\n",
    "import datetime # manipulating date formats\n",
    "# Viz\n",
    "import matplotlib.pyplot as plt # basic plotting\n",
    "import seaborn as sns # for prettier plots\n",
    "\n",
    "# settings\n",
    "import warnings\n",
    "warnings.filterwarnings(\"ignore\")"
   ]
  },
  {
   "cell_type": "markdown",
   "metadata": {},
   "source": [
    "## Load data"
   ]
  },
  {
   "cell_type": "code",
   "execution_count": 2,
   "metadata": {},
   "outputs": [],
   "source": [
    "# Import all of them \n",
    "sale_train=pd.read_csv(\"../data/sales_train.csv\")\n",
    "\n",
    "categories=pd.read_csv(\"../data/item_categories.csv\")\n",
    "items=pd.read_csv(\"../data/items.csv\")\n",
    "sub=pd.read_csv(\"../data/sample_submission.csv\")\n",
    "shops=pd.read_csv(\"../data/shops.csv\")\n",
    "test=pd.read_csv(\"../data/test.csv\")"
   ]
  },
  {
   "cell_type": "code",
   "execution_count": 3,
   "metadata": {},
   "outputs": [
    {
     "name": "stdout",
     "output_type": "stream",
     "text": [
      "----------Top-5- Record----------\n",
      "         date  date_block_num  shop_id  item_id  item_price  item_cnt_day\n",
      "0  02.01.2013               0       59    22154      999.00           1.0\n",
      "1  03.01.2013               0       25     2552      899.00           1.0\n",
      "2  05.01.2013               0       25     2552      899.00          -1.0\n",
      "3  06.01.2013               0       25     2554     1709.05           1.0\n",
      "4  15.01.2013               0       25     2555     1099.00           1.0\n",
      "-----------Information-----------\n",
      "<class 'pandas.core.frame.DataFrame'>\n",
      "RangeIndex: 2935849 entries, 0 to 2935848\n",
      "Data columns (total 6 columns):\n",
      " #   Column          Dtype  \n",
      "---  ------          -----  \n",
      " 0   date            object \n",
      " 1   date_block_num  int64  \n",
      " 2   shop_id         int64  \n",
      " 3   item_id         int64  \n",
      " 4   item_price      float64\n",
      " 5   item_cnt_day    float64\n",
      "dtypes: float64(2), int64(3), object(1)\n",
      "memory usage: 134.4+ MB\n",
      "None\n",
      "-----------Data Types-----------\n",
      "date               object\n",
      "date_block_num      int64\n",
      "shop_id             int64\n",
      "item_id             int64\n",
      "item_price        float64\n",
      "item_cnt_day      float64\n",
      "dtype: object\n",
      "----------Missing value-----------\n",
      "date              0\n",
      "date_block_num    0\n",
      "shop_id           0\n",
      "item_id           0\n",
      "item_price        0\n",
      "item_cnt_day      0\n",
      "dtype: int64\n",
      "----------Null value-----------\n",
      "date              0\n",
      "date_block_num    0\n",
      "shop_id           0\n",
      "item_id           0\n",
      "item_price        0\n",
      "item_cnt_day      0\n",
      "dtype: int64\n",
      "----------Shape of Data----------\n",
      "(2935849, 6)\n"
     ]
    }
   ],
   "source": [
    "print(\"----------Top-5- Record----------\")\n",
    "print(sale_train.head(5))\n",
    "print(\"-----------Information-----------\")\n",
    "print(sale_train.info())\n",
    "print(\"-----------Data Types-----------\")\n",
    "print(sale_train.dtypes)\n",
    "print(\"----------Missing value-----------\")\n",
    "print(sale_train.isnull().sum())\n",
    "print(\"----------Null value-----------\")\n",
    "print(sale_train.isna().sum())\n",
    "print(\"----------Shape of Data----------\")\n",
    "print(sale_train.shape)"
   ]
  },
  {
   "cell_type": "code",
   "execution_count": 4,
   "metadata": {},
   "outputs": [
    {
     "name": "stdout",
     "output_type": "stream",
     "text": [
      "<class 'pandas.core.frame.DataFrame'>\n",
      "RangeIndex: 2935849 entries, 0 to 2935848\n",
      "Data columns (total 6 columns):\n",
      " #   Column          Dtype  \n",
      "---  ------          -----  \n",
      " 0   date            object \n",
      " 1   date_block_num  int16  \n",
      " 2   shop_id         int16  \n",
      " 3   item_id         int16  \n",
      " 4   item_price      float32\n",
      " 5   item_cnt_day    float32\n",
      "dtypes: float32(2), int16(3), object(1)\n",
      "memory usage: 61.6+ MB\n",
      "None\n"
     ]
    }
   ],
   "source": [
    "def downcast_dtypes(df):\n",
    "    float_cols = [c for c in df if df[c].dtype == \"float64\"]\n",
    "    int_cols = [c for c in df if df[c].dtype in [\"int64\", \"int32\"]]\n",
    "    df[float_cols] = df[float_cols].astype(np.float32)\n",
    "    df[int_cols] = df[int_cols].astype(np.int16)\n",
    "    return df\n",
    "\n",
    "sale_train = downcast_dtypes(sale_train)\n",
    "print(sale_train.info())"
   ]
  },
  {
   "cell_type": "markdown",
   "metadata": {},
   "source": [
    "### Item_id"
   ]
  },
  {
   "cell_type": "code",
   "execution_count": 5,
   "metadata": {},
   "outputs": [],
   "source": [
    "sales_by_item_id = sale_train.pivot_table(index=['item_id'],values=['item_cnt_day'], \n",
    "                                        columns='date_block_num', aggfunc=np.sum, fill_value=0).reset_index()\n",
    "sales_by_item_id.columns = sales_by_item_id.columns.droplevel().map(str)\n",
    "sales_by_item_id = sales_by_item_id.reset_index(drop=True).rename_axis(None, axis=1)\n",
    "sales_by_item_id.columns.values[0] = 'item_id'"
   ]
  },
  {
   "cell_type": "code",
   "execution_count": 6,
   "metadata": {},
   "outputs": [
    {
     "data": {
      "text/plain": [
       "<matplotlib.axes._subplots.AxesSubplot at 0x7fd166513a10>"
      ]
     },
     "execution_count": 6,
     "metadata": {},
     "output_type": "execute_result"
    },
    {
     "data": {
      "image/png": "[encoded data removed]",
      "text/plain": [
       "<Figure size 432x288 with 1 Axes>"
      ]
     },
     "metadata": {
      "needs_background": "light"
     },
     "output_type": "display_data"
    }
   ],
   "source": [
    "sales_by_item_id.sum()[1:].plot(legend=True, label=\"Monthly sum\")"
   ]
  },
  {
   "cell_type": "code",
   "execution_count": 7,
   "metadata": {},
   "outputs": [
    {
     "data": {
      "text/plain": [
       "<matplotlib.axes._subplots.AxesSubplot at 0x7fd165cd9f50>"
      ]
     },
     "execution_count": 7,
     "metadata": {},
     "output_type": "execute_result"
    },
    {
     "data": {
      "image/png": "[encoded data removed]",
      "text/plain": [
       "<Figure size 432x288 with 1 Axes>"
      ]
     },
     "metadata": {
      "needs_background": "light"
     },
     "output_type": "display_data"
    }
   ],
   "source": [
    "sales_by_item_id.mean()[1:].plot(legend=True, label=\"Monthly mean\")"
   ]
  },
  {
   "cell_type": "code",
   "execution_count": 8,
   "metadata": {},
   "outputs": [
    {
     "name": "stdout",
     "output_type": "stream",
     "text": [
      "Outdated items: 12391\n"
     ]
    }
   ],
   "source": [
    "outdated_items = sales_by_item_id[sales_by_item_id.loc[:,'27':].sum(axis=1)==0]\n",
    "print('Outdated items:', len(outdated_items))"
   ]
  },
  {
   "cell_type": "code",
   "execution_count": 9,
   "metadata": {},
   "outputs": [
    {
     "name": "stdout",
     "output_type": "stream",
     "text": [
      "Outdated items in test set: 6888\n"
     ]
    }
   ],
   "source": [
    "print('Outdated items in test set:', len(test[test['item_id'].isin(outdated_items['item_id'])]))"
   ]
  },
  {
   "cell_type": "code",
   "execution_count": 10,
   "metadata": {},
   "outputs": [
    {
     "name": "stdout",
     "output_type": "stream",
     "text": [
      "Sale volume outliers: [ 8057 20949  9242 19437  3731 11373  9249  9248]\n",
      "Item price outliers: [11365  6066 13199]\n"
     ]
    },
    {
     "data": {
      "image/png": "[encoded data removed]",
      "text/plain": [
       "<Figure size 720x288 with 1 Axes>"
      ]
     },
     "metadata": {
      "needs_background": "light"
     },
     "output_type": "display_data"
    },
    {
     "data": {
      "image/png": "[encoded data removed]",
      "text/plain": [
       "<Figure size 720x288 with 1 Axes>"
      ]
     },
     "metadata": {
      "needs_background": "light"
     },
     "output_type": "display_data"
    }
   ],
   "source": [
    "plt.figure(figsize=(10,4))\n",
    "plt.xlim(-100, 3000)\n",
    "sns.boxplot(x=sale_train['item_cnt_day'])\n",
    "print('Sale volume outliers:',sale_train['item_id'][sale_train['item_cnt_day']>500].unique())\n",
    "\n",
    "plt.figure(figsize=(10,4))\n",
    "plt.xlim(sale_train['item_price'].min(), sale_train['item_price'].max())\n",
    "sns.boxplot(x=sale_train['item_price'])\n",
    "print('Item price outliers:',sale_train['item_id'][sale_train['item_price']>50000].unique())"
   ]
  },
  {
   "cell_type": "markdown",
   "metadata": {},
   "source": [
    "#### Possible item_id features:\n",
    "1. Lags\n",
    "2. Release date\n",
    "3. Last month sale\n",
    "4. Days on sale\n",
    "5. Neighbors (items with id 1000 and 1001 could be somehow similar - genre, type, release date)"
   ]
  },
  {
   "cell_type": "markdown",
   "metadata": {},
   "source": [
    "### shop_id"
   ]
  },
  {
   "cell_type": "code",
   "execution_count": 11,
   "metadata": {},
   "outputs": [
    {
     "name": "stdout",
     "output_type": "stream",
     "text": [
      "Not exists in month 6 [ 9 11 20 33 34 36 39 40 48 49]\n",
      "Not exists in month 7 [ 9 11 20 33 34 36 39 40 48 49]\n",
      "Not exists in month 8 [ 9 11 20 33 34 36 39 40 48 49]\n",
      "Not exists in month 9 [11 20 33 34 36 39 40 48 49]\n",
      "Not exists in month 10 [11 20 33 34 36 39 40 48 49]\n",
      "Not exists in month 11 [11 20 33 34 36 39 40 48]\n",
      "Not exists in month 12 [11 20 33 34 36 39 40 48]\n",
      "Not exists in month 13 [11 20 33 34 36 39 40 48]\n",
      "Not exists in month 14 [11 20 33 34 36 48]\n",
      "Not exists in month 15 [11 20 33 34 36]\n",
      "Not exists in month 16 [11 20 33 34 36]\n",
      "Not exists in month 17 [11 20 33 34 36]\n",
      "Not exists in month 18 [11 20 33 36]\n",
      "Not exists in month 19 [11 20 36]\n",
      "Not exists in month 20 [11 20 36]\n",
      "Not exists in month 21 [11 36]\n",
      "Not exists in month 22 [11 36]\n",
      "Not exists in month 23 [11 36]\n",
      "Not exists in month 24 [11 36]\n",
      "Not exists in month 25 [36]\n",
      "Not exists in month 26 [36]\n",
      "Not exists in month 27 [36]\n",
      "Not exists in month 28 [36]\n",
      "Not exists in month 29 [36]\n",
      "Not exists in month 30 [36]\n",
      "Not exists in month 31 [36]\n",
      "Not exists in month 32 [36]\n",
      "Not exists in month 33 []\n",
      "Shop is outdated for month 6 [ 0  1  8 23]\n",
      "Shop is outdated for month 7 [ 0  1  8 23 32]\n",
      "Shop is outdated for month 8 [ 0  1  8 23 32]\n",
      "Shop is outdated for month 9 [ 0  1  8 23 32]\n",
      "Shop is outdated for month 10 [ 0  1  8 23 32]\n",
      "Shop is outdated for month 11 [ 0  1  8 23 32]\n",
      "Shop is outdated for month 12 [ 0  1  8 23 32]\n",
      "Shop is outdated for month 13 [ 0  1  8 23 32]\n",
      "Shop is outdated for month 14 [ 0  1  8 23 32]\n",
      "Shop is outdated for month 15 [ 0  1  8 23 32]\n",
      "Shop is outdated for month 16 [ 0  1  8 23 32]\n",
      "Shop is outdated for month 17 [ 0  1  8 23 32]\n",
      "Shop is outdated for month 18 [ 0  1  8 23 32]\n",
      "Shop is outdated for month 19 [ 0  1  8 23 32]\n",
      "Shop is outdated for month 20 [ 0  1  8 13 23 32]\n",
      "Shop is outdated for month 21 [ 0  1  8 13 23 32]\n",
      "Shop is outdated for month 22 [ 0  1  8 13 23 32]\n",
      "Shop is outdated for month 23 [ 0  1  8 13 23 32]\n",
      "Shop is outdated for month 24 [ 0  1  8 13 23 32]\n",
      "Shop is outdated for month 25 [ 0  1  8 13 17 23 32 40 43]\n",
      "Shop is outdated for month 26 [ 0  1  8 11 13 17 23 30 32 40 43]\n",
      "Shop is outdated for month 27 [ 0  1  8 11 13 17 23 30 32 40 43]\n"
     ]
    }
   ],
   "source": [
    "sales_by_shop_id = sale_train.pivot_table(index=['shop_id'],values=['item_cnt_day'], \n",
    "                                        columns='date_block_num', aggfunc=np.sum, fill_value=0).reset_index()\n",
    "sales_by_shop_id.columns = sales_by_shop_id.columns.droplevel().map(str)\n",
    "sales_by_shop_id = sales_by_shop_id.reset_index(drop=True).rename_axis(None, axis=1)\n",
    "sales_by_shop_id.columns.values[0] = 'shop_id'\n",
    "\n",
    "for i in range(6,34):\n",
    "    print('Not exists in month',i,sales_by_shop_id['shop_id'][sales_by_shop_id.loc[:,'0':str(i)].sum(axis=1)==0].unique())\n",
    "\n",
    "for i in range(6,28):\n",
    "    print('Shop is outdated for month',i,sales_by_shop_id['shop_id'][sales_by_shop_id.loc[:,str(i):].sum(axis=1)==0].unique())"
   ]
  },
  {
   "cell_type": "code",
   "execution_count": 12,
   "metadata": {},
   "outputs": [
    {
     "name": "stdout",
     "output_type": "stream",
     "text": [
      "Recently opened shop items: 5100\n"
     ]
    }
   ],
   "source": [
    "print('Recently opened shop items:', len(test[test['shop_id']==36]))"
   ]
  },
  {
   "cell_type": "markdown",
   "metadata": {},
   "source": [
    "#### Possible shop_id features\n",
    "1. Lags (shop_id/shp_cnt_mth)\n",
    "2. Opening month (possible opening sales)\n",
    "3. Closed Month (possible stock elimination)"
   ]
  },
  {
   "cell_type": "markdown",
   "metadata": {},
   "source": [
    "### Price"
   ]
  },
  {
   "cell_type": "markdown",
   "metadata": {},
   "source": [
    "#### Possible Price features\n",
    "1. Price category (1 /10 /20$/ etc.) - obviously (or not obviously), items with smaller price have greater volumes\n",
    "2. Discount and Discount duration\n",
    "3. Price lag (shows discount)\n",
    "4. Price correction (rubl/usd pair)\n",
    "5. Shop Revenue"
   ]
  },
  {
   "cell_type": "markdown",
   "metadata": {},
   "source": [
    "### Dates"
   ]
  },
  {
   "cell_type": "markdown",
   "metadata": {},
   "source": [
    "#### Possible Date features:\n",
    "1. Weekends and holidays sales (to correct monthly sales)\n",
    "2. Number of days in the month (to correct monthly sales)\n",
    "3. Month number (for seasonal items)"
   ]
  },
  {
   "cell_type": "markdown",
   "metadata": {},
   "source": [
    "### Shop info"
   ]
  },
  {
   "cell_type": "code",
   "execution_count": 13,
   "metadata": {},
   "outputs": [
    {
     "data": {
      "text/html": [
       "<div>\n",
       "<style scoped>\n",
       "    .dataframe tbody tr th:only-of-type {\n",
       "        vertical-align: middle;\n",
       "    }\n",
       "\n",
       "    .dataframe tbody tr th {\n",
       "        vertical-align: top;\n",
       "    }\n",
       "\n",
       "    .dataframe thead th {\n",
       "        text-align: right;\n",
       "    }\n",
       "</style>\n",
       "<table border=\"1\" class=\"dataframe\">\n",
       "  <thead>\n",
       "    <tr style=\"text-align: right;\">\n",
       "      <th></th>\n",
       "      <th>shop_name</th>\n",
       "      <th>shop_id</th>\n",
       "    </tr>\n",
       "  </thead>\n",
       "  <tbody>\n",
       "    <tr>\n",
       "      <th>0</th>\n",
       "      <td>!Якутск Орджоникидзе, 56 фран</td>\n",
       "      <td>0</td>\n",
       "    </tr>\n",
       "    <tr>\n",
       "      <th>1</th>\n",
       "      <td>!Якутск ТЦ \"Центральный\" фран</td>\n",
       "      <td>1</td>\n",
       "    </tr>\n",
       "    <tr>\n",
       "      <th>2</th>\n",
       "      <td>Адыгея ТЦ \"Мега\"</td>\n",
       "      <td>2</td>\n",
       "    </tr>\n",
       "    <tr>\n",
       "      <th>3</th>\n",
       "      <td>Балашиха ТРК \"Октябрь-Киномир\"</td>\n",
       "      <td>3</td>\n",
       "    </tr>\n",
       "    <tr>\n",
       "      <th>4</th>\n",
       "      <td>Волжский ТЦ \"Волга Молл\"</td>\n",
       "      <td>4</td>\n",
       "    </tr>\n",
       "  </tbody>\n",
       "</table>\n",
       "</div>"
      ],
      "text/plain": [
       "                        shop_name  shop_id\n",
       "0   !Якутск Орджоникидзе, 56 фран        0\n",
       "1   !Якутск ТЦ \"Центральный\" фран        1\n",
       "2                Адыгея ТЦ \"Мега\"        2\n",
       "3  Балашиха ТРК \"Октябрь-Киномир\"        3\n",
       "4        Волжский ТЦ \"Волга Молл\"        4"
      ]
     },
     "execution_count": 13,
     "metadata": {},
     "output_type": "execute_result"
    }
   ],
   "source": [
    "shops.head()"
   ]
  },
  {
   "cell_type": "markdown",
   "metadata": {},
   "source": [
    "Shop City | Shop type | Shop name"
   ]
  },
  {
   "cell_type": "code",
   "execution_count": 14,
   "metadata": {},
   "outputs": [
    {
     "data": {
      "text/html": [
       "<div>\n",
       "<style scoped>\n",
       "    .dataframe tbody tr th:only-of-type {\n",
       "        vertical-align: middle;\n",
       "    }\n",
       "\n",
       "    .dataframe tbody tr th {\n",
       "        vertical-align: top;\n",
       "    }\n",
       "\n",
       "    .dataframe thead th {\n",
       "        text-align: right;\n",
       "    }\n",
       "</style>\n",
       "<table border=\"1\" class=\"dataframe\">\n",
       "  <thead>\n",
       "    <tr style=\"text-align: right;\">\n",
       "      <th></th>\n",
       "      <th>shop_name</th>\n",
       "      <th>shop_id</th>\n",
       "      <th>shop_city</th>\n",
       "      <th>shop_type</th>\n",
       "    </tr>\n",
       "  </thead>\n",
       "  <tbody>\n",
       "    <tr>\n",
       "      <th>0</th>\n",
       "      <td>якутск орджоникидзе  фран</td>\n",
       "      <td>0</td>\n",
       "      <td>якутск</td>\n",
       "      <td>NO_DATA</td>\n",
       "    </tr>\n",
       "    <tr>\n",
       "      <th>1</th>\n",
       "      <td>якутск тц центральный фран</td>\n",
       "      <td>1</td>\n",
       "      <td>якутск</td>\n",
       "      <td>тц</td>\n",
       "    </tr>\n",
       "    <tr>\n",
       "      <th>2</th>\n",
       "      <td>адыгея тц мега</td>\n",
       "      <td>2</td>\n",
       "      <td>адыгея</td>\n",
       "      <td>тц</td>\n",
       "    </tr>\n",
       "    <tr>\n",
       "      <th>3</th>\n",
       "      <td>балашиха трк октябрькиномир</td>\n",
       "      <td>3</td>\n",
       "      <td>балашиха</td>\n",
       "      <td>трк</td>\n",
       "    </tr>\n",
       "    <tr>\n",
       "      <th>4</th>\n",
       "      <td>волжский тц волга молл</td>\n",
       "      <td>4</td>\n",
       "      <td>волжский</td>\n",
       "      <td>тц</td>\n",
       "    </tr>\n",
       "  </tbody>\n",
       "</table>\n",
       "</div>"
      ],
      "text/plain": [
       "                     shop_name  shop_id shop_city shop_type\n",
       "0    якутск орджоникидзе  фран        0    якутск   NO_DATA\n",
       "1   якутск тц центральный фран        1    якутск        тц\n",
       "2               адыгея тц мега        2    адыгея        тц\n",
       "3  балашиха трк октябрькиномир        3  балашиха       трк\n",
       "4       волжский тц волга молл        4  волжский        тц"
      ]
     },
     "execution_count": 14,
     "metadata": {},
     "output_type": "execute_result"
    }
   ],
   "source": [
    "shops['shop_name'] = shops['shop_name'].apply(lambda x: x.lower()).str.replace('[^\\w\\s]', '').str.replace('\\d+','').str.strip()\n",
    "shops['shop_city'] = shops['shop_name'].str.partition(' ')[0]\n",
    "shops['shop_type'] = shops['shop_name'].apply(lambda x: 'мтрц' if 'мтрц' in x else 'трц' if 'трц' in x else 'трк' if 'трк' in x else 'тц' if 'тц' in x else 'тк' if 'тк' in x else 'NO_DATA')\n",
    "shops.head()"
   ]
  },
  {
   "cell_type": "markdown",
   "metadata": {},
   "source": [
    "#### Possible Shop features\n",
    "1. Shop City\n",
    "2. Shop Type"
   ]
  },
  {
   "cell_type": "markdown",
   "metadata": {},
   "source": [
    "### Item info"
   ]
  },
  {
   "cell_type": "code",
   "execution_count": 15,
   "metadata": {},
   "outputs": [
    {
     "data": {
      "text/html": [
       "<div>\n",
       "<style scoped>\n",
       "    .dataframe tbody tr th:only-of-type {\n",
       "        vertical-align: middle;\n",
       "    }\n",
       "\n",
       "    .dataframe tbody tr th {\n",
       "        vertical-align: top;\n",
       "    }\n",
       "\n",
       "    .dataframe thead th {\n",
       "        text-align: right;\n",
       "    }\n",
       "</style>\n",
       "<table border=\"1\" class=\"dataframe\">\n",
       "  <thead>\n",
       "    <tr style=\"text-align: right;\">\n",
       "      <th></th>\n",
       "      <th>item_name</th>\n",
       "      <th>item_id</th>\n",
       "      <th>item_category_id</th>\n",
       "    </tr>\n",
       "  </thead>\n",
       "  <tbody>\n",
       "    <tr>\n",
       "      <th>0</th>\n",
       "      <td>! ВО ВЛАСТИ НАВАЖДЕНИЯ (ПЛАСТ.)         D</td>\n",
       "      <td>0</td>\n",
       "      <td>40</td>\n",
       "    </tr>\n",
       "    <tr>\n",
       "      <th>1</th>\n",
       "      <td>!ABBYY FineReader 12 Professional Edition Full...</td>\n",
       "      <td>1</td>\n",
       "      <td>76</td>\n",
       "    </tr>\n",
       "    <tr>\n",
       "      <th>2</th>\n",
       "      <td>***В ЛУЧАХ СЛАВЫ   (UNV)                    D</td>\n",
       "      <td>2</td>\n",
       "      <td>40</td>\n",
       "    </tr>\n",
       "    <tr>\n",
       "      <th>3</th>\n",
       "      <td>***ГОЛУБАЯ ВОЛНА  (Univ)                      D</td>\n",
       "      <td>3</td>\n",
       "      <td>40</td>\n",
       "    </tr>\n",
       "    <tr>\n",
       "      <th>4</th>\n",
       "      <td>***КОРОБКА (СТЕКЛО)                       D</td>\n",
       "      <td>4</td>\n",
       "      <td>40</td>\n",
       "    </tr>\n",
       "  </tbody>\n",
       "</table>\n",
       "</div>"
      ],
      "text/plain": [
       "                                           item_name  item_id  \\\n",
       "0          ! ВО ВЛАСТИ НАВАЖДЕНИЯ (ПЛАСТ.)         D        0   \n",
       "1  !ABBYY FineReader 12 Professional Edition Full...        1   \n",
       "2      ***В ЛУЧАХ СЛАВЫ   (UNV)                    D        2   \n",
       "3    ***ГОЛУБАЯ ВОЛНА  (Univ)                      D        3   \n",
       "4        ***КОРОБКА (СТЕКЛО)                       D        4   \n",
       "\n",
       "   item_category_id  \n",
       "0                40  \n",
       "1                76  \n",
       "2                40  \n",
       "3                40  \n",
       "4                40  "
      ]
     },
     "execution_count": 15,
     "metadata": {},
     "output_type": "execute_result"
    }
   ],
   "source": [
    "items.head()"
   ]
  },
  {
   "cell_type": "code",
   "execution_count": 16,
   "metadata": {},
   "outputs": [
    {
     "name": "stdout",
     "output_type": "stream",
     "text": [
      "Most common aditional features:            feature  count\n",
      "130   документация    284\n",
      "131     английская    340\n",
      "132        русские    399\n",
      "133       субтитры    400\n",
      "134            360    465\n",
      "135          jewel    552\n",
      "136           xbox    589\n",
      "137            ps3    611\n",
      "138        русская   1428\n",
      "139       цифровая   1995\n",
      "140             pc   2585\n",
      "141         версия   3427\n",
      "1981           box    246\n",
      "1983            3d    409\n",
      "1985           dvd    503\n",
      "1986      digipack    541\n",
      "1988          фирм    757\n",
      "1991           mp3    854\n",
      "1992            cd    871\n",
      "1993        регион   1849\n",
      "1994            bd   2320\n"
     ]
    }
   ],
   "source": [
    "from collections import Counter\n",
    "from operator import itemgetter\n",
    "items['name_1'], items['name_2'] = items['item_name'].str.split('[', 1).str\n",
    "items['name_1'], items['name_3'] = items['item_name'].str.split('(', 1).str\n",
    "\n",
    "items['name_2'] = items['name_2'].str.replace('[^A-Za-z0-9А-Яа-я]+', ' ').str.lower()\n",
    "items['name_3'] = items['name_3'].str.replace('[^A-Za-z0-9А-Яа-я]+', ' ').str.lower()\n",
    "items = items.fillna('0')\n",
    "\n",
    "result_1 = Counter(' '.join(items['name_2'].values.tolist()).split(' ')).items()\n",
    "result_1 = sorted(result_1, key=itemgetter(1))\n",
    "result_1 = pd.DataFrame(result_1, columns=['feature', 'count'])\n",
    "result_1 = result_1[(result_1['feature'].str.len() > 1) & (result_1['count'] > 200)]\n",
    "\n",
    "result_2 = Counter(' '.join(items['name_3'].values.tolist()).split(\" \")).items()\n",
    "result_2 = sorted(result_2, key=itemgetter(1))\n",
    "result_2 = pd.DataFrame(result_2, columns=['feature', 'count'])\n",
    "result_2 = result_2[(result_2['feature'].str.len() > 1) & (result_2['count'] > 200)]\n",
    "\n",
    "result = pd.concat([result_1, result_2])\n",
    "result = result.drop_duplicates(subset=['feature'])\n",
    "\n",
    "print('Most common aditional features:', result)"
   ]
  },
  {
   "cell_type": "code",
   "execution_count": 17,
   "metadata": {},
   "outputs": [
    {
     "name": "stdout",
     "output_type": "stream",
     "text": [
      "Unique item names: 22170\n"
     ]
    }
   ],
   "source": [
    "print('Unique item names:', len(items['item_name'].unique()))"
   ]
  },
  {
   "cell_type": "code",
   "execution_count": 18,
   "metadata": {},
   "outputs": [
    {
     "data": {
      "text/html": [
       "<div>\n",
       "<style scoped>\n",
       "    .dataframe tbody tr th:only-of-type {\n",
       "        vertical-align: middle;\n",
       "    }\n",
       "\n",
       "    .dataframe tbody tr th {\n",
       "        vertical-align: top;\n",
       "    }\n",
       "\n",
       "    .dataframe thead th {\n",
       "        text-align: right;\n",
       "    }\n",
       "</style>\n",
       "<table border=\"1\" class=\"dataframe\">\n",
       "  <thead>\n",
       "    <tr style=\"text-align: right;\">\n",
       "      <th></th>\n",
       "      <th>item_name</th>\n",
       "      <th>item_id</th>\n",
       "      <th>item_category_id</th>\n",
       "      <th>name_1</th>\n",
       "      <th>name_2</th>\n",
       "      <th>name_3</th>\n",
       "    </tr>\n",
       "  </thead>\n",
       "  <tbody>\n",
       "    <tr>\n",
       "      <th>0</th>\n",
       "      <td>во власти наваждения</td>\n",
       "      <td>0</td>\n",
       "      <td>40</td>\n",
       "      <td>! ВО ВЛАСТИ НАВАЖДЕНИЯ</td>\n",
       "      <td>0</td>\n",
       "      <td>пласт d</td>\n",
       "    </tr>\n",
       "    <tr>\n",
       "      <th>1</th>\n",
       "      <td>abbyy finereader 12 professional edition full</td>\n",
       "      <td>1</td>\n",
       "      <td>76</td>\n",
       "      <td>!ABBYY FineReader 12 Professional Edition Full...</td>\n",
       "      <td>pc цифровая версия</td>\n",
       "      <td>0</td>\n",
       "    </tr>\n",
       "    <tr>\n",
       "      <th>2</th>\n",
       "      <td>в лучах славы</td>\n",
       "      <td>2</td>\n",
       "      <td>40</td>\n",
       "      <td>***В ЛУЧАХ СЛАВЫ</td>\n",
       "      <td>0</td>\n",
       "      <td>unv d</td>\n",
       "    </tr>\n",
       "    <tr>\n",
       "      <th>3</th>\n",
       "      <td>голубая волна</td>\n",
       "      <td>3</td>\n",
       "      <td>40</td>\n",
       "      <td>***ГОЛУБАЯ ВОЛНА</td>\n",
       "      <td>0</td>\n",
       "      <td>univ d</td>\n",
       "    </tr>\n",
       "    <tr>\n",
       "      <th>4</th>\n",
       "      <td>коробка</td>\n",
       "      <td>4</td>\n",
       "      <td>40</td>\n",
       "      <td>***КОРОБКА</td>\n",
       "      <td>0</td>\n",
       "      <td>стекло d</td>\n",
       "    </tr>\n",
       "  </tbody>\n",
       "</table>\n",
       "</div>"
      ],
      "text/plain": [
       "                                       item_name  item_id  item_category_id  \\\n",
       "0                           во власти наваждения        0                40   \n",
       "1  abbyy finereader 12 professional edition full        1                76   \n",
       "2                                  в лучах славы        2                40   \n",
       "3                                  голубая волна        3                40   \n",
       "4                                        коробка        4                40   \n",
       "\n",
       "                                              name_1               name_2  \\\n",
       "0                            ! ВО ВЛАСТИ НАВАЖДЕНИЯ                     0   \n",
       "1  !ABBYY FineReader 12 Professional Edition Full...  pc цифровая версия    \n",
       "2                                ***В ЛУЧАХ СЛАВЫ                       0   \n",
       "3                                 ***ГОЛУБАЯ ВОЛНА                      0   \n",
       "4                                        ***КОРОБКА                     0   \n",
       "\n",
       "     name_3  \n",
       "0   пласт d  \n",
       "1         0  \n",
       "2     unv d  \n",
       "3    univ d  \n",
       "4  стекло d  "
      ]
     },
     "execution_count": 18,
     "metadata": {},
     "output_type": "execute_result"
    }
   ],
   "source": [
    "import re\n",
    "def name_correction(x):\n",
    "    x = x.lower()\n",
    "    x = x.partition('[')[0]\n",
    "    x = x.partition('(')[0]\n",
    "    x = re.sub('[^A-Za-z0-9А-Яа-я]+', ' ', x)\n",
    "    x = x.replace('  ', ' ')\n",
    "    x = x.strip()\n",
    "    return x\n",
    "\n",
    "items['item_name'] = items['item_name'].apply(lambda x: name_correction(x))\n",
    "items.head()"
   ]
  },
  {
   "cell_type": "markdown",
   "metadata": {},
   "source": [
    "#### Possible Item features\n",
    "1. Item name\n",
    "2. Encoded aditional feature"
   ]
  },
  {
   "cell_type": "markdown",
   "metadata": {},
   "source": [
    "### Category info"
   ]
  },
  {
   "cell_type": "code",
   "execution_count": 19,
   "metadata": {},
   "outputs": [
    {
     "data": {
      "text/html": [
       "<div>\n",
       "<style scoped>\n",
       "    .dataframe tbody tr th:only-of-type {\n",
       "        vertical-align: middle;\n",
       "    }\n",
       "\n",
       "    .dataframe tbody tr th {\n",
       "        vertical-align: top;\n",
       "    }\n",
       "\n",
       "    .dataframe thead th {\n",
       "        text-align: right;\n",
       "    }\n",
       "</style>\n",
       "<table border=\"1\" class=\"dataframe\">\n",
       "  <thead>\n",
       "    <tr style=\"text-align: right;\">\n",
       "      <th></th>\n",
       "      <th>item_category_name</th>\n",
       "      <th>item_category_id</th>\n",
       "    </tr>\n",
       "  </thead>\n",
       "  <tbody>\n",
       "    <tr>\n",
       "      <th>0</th>\n",
       "      <td>PC - Гарнитуры/Наушники</td>\n",
       "      <td>0</td>\n",
       "    </tr>\n",
       "    <tr>\n",
       "      <th>1</th>\n",
       "      <td>Аксессуары - PS2</td>\n",
       "      <td>1</td>\n",
       "    </tr>\n",
       "    <tr>\n",
       "      <th>2</th>\n",
       "      <td>Аксессуары - PS3</td>\n",
       "      <td>2</td>\n",
       "    </tr>\n",
       "    <tr>\n",
       "      <th>3</th>\n",
       "      <td>Аксессуары - PS4</td>\n",
       "      <td>3</td>\n",
       "    </tr>\n",
       "    <tr>\n",
       "      <th>4</th>\n",
       "      <td>Аксессуары - PSP</td>\n",
       "      <td>4</td>\n",
       "    </tr>\n",
       "  </tbody>\n",
       "</table>\n",
       "</div>"
      ],
      "text/plain": [
       "        item_category_name  item_category_id\n",
       "0  PC - Гарнитуры/Наушники                 0\n",
       "1         Аксессуары - PS2                 1\n",
       "2         Аксессуары - PS3                 2\n",
       "3         Аксессуары - PS4                 3\n",
       "4         Аксессуары - PSP                 4"
      ]
     },
     "execution_count": 19,
     "metadata": {},
     "output_type": "execute_result"
    }
   ],
   "source": [
    "categories.head()"
   ]
  },
  {
   "cell_type": "markdown",
   "metadata": {},
   "source": [
    "Section / Main Category name / Main SubCategory name / Secondary SubCategory name  \n",
    "Аксессуары / PS2 / PS / 2"
   ]
  },
  {
   "cell_type": "markdown",
   "metadata": {},
   "source": [
    "#### Possible Category features\n",
    "1. Section\n",
    "2. Main Category name\n",
    "3. Main SubCategory name\n",
    "4. Secondary SubCategory name"
   ]
  },
  {
   "cell_type": "markdown",
   "metadata": {},
   "source": [
    "### Test Set"
   ]
  },
  {
   "cell_type": "markdown",
   "metadata": {},
   "source": [
    "The key of success is the analysis of Test test data.  \n",
    "\n",
    "We have three groups of items  \n",
    "  \n",
    "- Item/shop pairs that are in train\n",
    "- Items without any data\n",
    "- Items that are in train"
   ]
  },
  {
   "cell_type": "code",
   "execution_count": 20,
   "metadata": {},
   "outputs": [
    {
     "name": "stdout",
     "output_type": "stream",
     "text": [
      "1. Number of good pairs: 111404\n",
      "2. No Data Items: 15246\n",
      "3. Only Item_id Info: 87550\n"
     ]
    }
   ],
   "source": [
    "good_sales = test.merge(sale_train, on=['item_id','shop_id'], how='left').dropna()\n",
    "good_pairs = test[test['ID'].isin(good_sales['ID'])]\n",
    "no_data_items = test[~(test['item_id'].isin(sale_train['item_id']))]\n",
    "\n",
    "print('1. Number of good pairs:', len(good_pairs))\n",
    "print('2. No Data Items:', len(no_data_items))\n",
    "print('3. Only Item_id Info:', len(test)-len(no_data_items)-len(good_pairs))"
   ]
  },
  {
   "cell_type": "code",
   "execution_count": null,
   "metadata": {},
   "outputs": [],
   "source": []
  },
  {
   "cell_type": "code",
   "execution_count": null,
   "metadata": {},
   "outputs": [],
   "source": []
  }
 ],
 "metadata": {
  "kernelspec": {
   "display_name": "Python 3",
   "language": "python",
   "name": "python3"
  },
  "language_info": {
   "codemirror_mode": {
    "name": "ipython",
    "version": 3
   },
   "file_extension": ".py",
   "mimetype": "text/x-python",
   "name": "python",
   "nbconvert_exporter": "python",
   "pygments_lexer": "ipython3",
   "version": "3.7.6"
  },
  "toc": {
   "base_numbering": 1,
   "nav_menu": {},
   "number_sections": true,
   "sideBar": true,
   "skip_h1_title": true,
   "title_cell": "Table of Contents",
   "title_sidebar": "Contents",
   "toc_cell": false,
   "toc_position": {
    "height": "calc(100% - 180px)",
    "left": "10px",
    "top": "150px",
    "width": "384px"
   },
   "toc_section_display": true,
   "toc_window_display": true
  }
 },
 "nbformat": 4,
 "nbformat_minor": 4
}
