{
 "cells": [
  {
   "cell_type": "markdown",
   "metadata": {},
   "source": [
    "# 캐글 노트북 참조해보기\n",
    "[Feature engineering, xgboost](https://www.kaggle.com/dlarionov/feature-engineering-xgboost)"
   ]
  },
  {
   "cell_type": "markdown",
   "metadata": {},
   "source": [
    "# Features"
   ]
  },
  {
   "cell_type": "code",
   "execution_count": 149,
   "metadata": {
    "ExecuteTime": {
     "end_time": "2020-08-27T08:22:15.821599Z",
     "start_time": "2020-08-27T08:22:15.805381Z"
    }
   },
   "outputs": [
    {
     "data": {
      "text/plain": [
       "sys.version_info(major=3, minor=7, micro=7, releaselevel='final', serial=0)"
      ]
     },
     "execution_count": 149,
     "metadata": {},
     "output_type": "execute_result"
    }
   ],
   "source": [
    "import numpy as np\n",
    "import pandas as pd\n",
    "pd.set_option('display.max_rows', 500)\n",
    "pd.set_option('display.max_columns', 100)\n",
    "\n",
    "from itertools import product\n",
    "from sklearn.preprocessing import LabelEncoder\n",
    "\n",
    "import seaborn as sns\n",
    "import matplotlib.pyplot as plt\n",
    "%matplotlib inline\n",
    "\n",
    "from sklearn.model_selection import KFold, cross_val_score\n",
    "from sklearn.metrics import mean_squared_error\n",
    "from xgboost import XGBRegressor\n",
    "from lightgbm import LGBMRegressor\n",
    "from sklearn.ensemble import GradientBoostingRegressor, RandomForestRegressor\n",
    "from xgboost import plot_importance\n",
    "\n",
    "from sklearn.model_selection import GridSearchCV\n",
    "from sklearn.model_selection import RandomizedSearchCV\n",
    "\n",
    "def plot_features(booster, figsize):    \n",
    "    fig, ax = plt.subplots(1,1,figsize=figsize)\n",
    "    return plot_importance(booster=booster, ax=ax)\n",
    "\n",
    "import time\n",
    "import sys\n",
    "import gc\n",
    "import pickle\n",
    "sys.version_info"
   ]
  },
  {
   "cell_type": "code",
   "execution_count": 150,
   "metadata": {
    "ExecuteTime": {
     "end_time": "2020-08-27T08:22:18.835655Z",
     "start_time": "2020-08-27T08:22:18.103475Z"
    }
   },
   "outputs": [],
   "source": [
    "items = pd.read_csv('./data/items.csv')\n",
    "shops = pd.read_csv('./data/shops.csv')\n",
    "cats = pd.read_csv('./data/item_categories.csv')\n",
    "train = pd.read_csv('./data/sales_train.csv')\n",
    "# set index to ID to avoid droping it later\n",
    "test  = pd.read_csv('./data/test.csv').set_index('ID')"
   ]
  },
  {
   "cell_type": "code",
   "execution_count": 151,
   "metadata": {
    "ExecuteTime": {
     "end_time": "2020-08-27T08:22:19.957541Z",
     "start_time": "2020-08-27T08:22:19.953732Z"
    }
   },
   "outputs": [
    {
     "name": "stdout",
     "output_type": "stream",
     "text": [
      "        shop_id  item_id\n",
      "ID                      \n",
      "0             5     5037\n",
      "1             5     5320\n",
      "2             5     5233\n",
      "3             5     5232\n",
      "4             5     5268\n",
      "...         ...      ...\n",
      "214195       45    18454\n",
      "214196       45    16188\n",
      "214197       45    15757\n",
      "214198       45    19648\n",
      "214199       45      969\n",
      "\n",
      "[214200 rows x 2 columns]\n"
     ]
    }
   ],
   "source": [
    "print(test)"
   ]
  },
  {
   "cell_type": "code",
   "execution_count": 152,
   "metadata": {
    "ExecuteTime": {
     "end_time": "2020-08-27T08:22:22.711768Z",
     "start_time": "2020-08-27T08:22:22.707522Z"
    },
    "tags": []
   },
   "outputs": [
    {
     "name": "stdout",
     "output_type": "stream",
     "text": [
      "                                          shop_name  shop_id\n",
      "0                     !Якутск Орджоникидзе, 56 фран        0\n",
      "1                     !Якутск ТЦ \"Центральный\" фран        1\n",
      "2                                  Адыгея ТЦ \"Мега\"        2\n",
      "3                    Балашиха ТРК \"Октябрь-Киномир\"        3\n",
      "4                          Волжский ТЦ \"Волга Молл\"        4\n",
      "5                            Вологда ТРЦ \"Мармелад\"        5\n",
      "6                        Воронеж (Плехановская, 13)        6\n",
      "7                            Воронеж ТРЦ \"Максимир\"        7\n",
      "8                      Воронеж ТРЦ Сити-Парк \"Град\"        8\n",
      "9                                 Выездная Торговля        9\n",
      "10                       Жуковский ул. Чкалова 39м?       10\n",
      "11                       Жуковский ул. Чкалова 39м²       11\n",
      "12                              Интернет-магазин ЧС       12\n",
      "13                              Казань ТЦ \"Бехетле\"       13\n",
      "14                          Казань ТЦ \"ПаркХаус\" II       14\n",
      "15                             Калуга ТРЦ \"XXI век\"       15\n",
      "16                                 Коломна ТЦ \"Рио\"       16\n",
      "17                    Красноярск ТЦ \"Взлетка Плаза\"       17\n",
      "18                             Красноярск ТЦ \"Июнь\"       18\n",
      "19                            Курск ТЦ \"Пушкинский\"       19\n",
      "20                              Москва \"Распродажа\"       20\n",
      "21                           Москва МТРЦ \"Афи Молл\"       21\n",
      "22                               Москва Магазин С21       22\n",
      "23                 Москва ТК \"Буденовский\" (пав.А2)       23\n",
      "24                 Москва ТК \"Буденовский\" (пав.К7)       24\n",
      "25                              Москва ТРК \"Атриум\"       25\n",
      "26                      Москва ТЦ \"Ареал\" (Беляево)       26\n",
      "27                   Москва ТЦ \"МЕГА Белая Дача II\"       27\n",
      "28                  Москва ТЦ \"МЕГА Теплый Стан\" II       28\n",
      "29               Москва ТЦ \"Новый век\" (Новокосино)       29\n",
      "30                           Москва ТЦ \"Перловский\"       30\n",
      "31                          Москва ТЦ \"Семеновский\"       31\n",
      "32                       Москва ТЦ \"Серебряный Дом\"       32\n",
      "33                                Мытищи ТРК \"XL-3\"       33\n",
      "34                             Н.Новгород ТРЦ \"РИО\"       34\n",
      "35                      Н.Новгород ТРЦ \"Фантастика\"       35\n",
      "36            Новосибирск ТРЦ \"Галерея Новосибирск\"       36\n",
      "37                            Новосибирск ТЦ \"Мега\"       37\n",
      "38                                   Омск ТЦ \"Мега\"       38\n",
      "39            РостовНаДону ТРК \"Мегацентр Горизонт\"       39\n",
      "40  РостовНаДону ТРК \"Мегацентр Горизонт\" Островной       40\n",
      "41                           РостовНаДону ТЦ \"Мега\"       41\n",
      "42                           СПб ТК \"Невский Центр\"       42\n",
      "43                                  СПб ТК \"Сенная\"       43\n",
      "44                              Самара ТЦ \"Мелодия\"       44\n",
      "45                             Самара ТЦ \"ПаркХаус\"       45\n",
      "46                            Сергиев Посад ТЦ \"7Я\"       46\n",
      "47                           Сургут ТРЦ \"Сити Молл\"       47\n",
      "48                     Томск ТРЦ \"Изумрудный Город\"       48\n",
      "49                            Тюмень ТРЦ \"Кристалл\"       49\n",
      "50                               Тюмень ТЦ \"Гудвин\"       50\n",
      "51                        Тюмень ТЦ \"Зеленый Берег\"       51\n",
      "52                             Уфа ТК \"Центральный\"       52\n",
      "53                                 Уфа ТЦ \"Семья\" 2       53\n",
      "54                                  Химки ТЦ \"Мега\"       54\n",
      "55                         Цифровой склад 1С-Онлайн       55\n",
      "56                             Чехов ТРЦ \"Карнавал\"       56\n",
      "57                          Якутск Орджоникидзе, 56       57\n",
      "58                          Якутск ТЦ \"Центральный\"       58\n",
      "59                           Ярославль ТЦ \"Альтаир\"       59\n"
     ]
    }
   ],
   "source": [
    "print(shops)"
   ]
  },
  {
   "cell_type": "code",
   "execution_count": 4,
   "metadata": {
    "ExecuteTime": {
     "end_time": "2020-08-27T06:19:45.040789Z",
     "start_time": "2020-08-27T06:19:45.034823Z"
    },
    "tags": []
   },
   "outputs": [
    {
     "name": "stdout",
     "output_type": "stream",
     "text": [
      "                          item_category_name  item_category_id\n",
      "0                    PC - Гарнитуры/Наушники                 0\n",
      "1                           Аксессуары - PS2                 1\n",
      "2                           Аксессуары - PS3                 2\n",
      "3                           Аксессуары - PS4                 3\n",
      "4                           Аксессуары - PSP                 4\n",
      "5                        Аксессуары - PSVita                 5\n",
      "6                      Аксессуары - XBOX 360                 6\n",
      "7                      Аксессуары - XBOX ONE                 7\n",
      "8                             Билеты (Цифра)                 8\n",
      "9                            Доставка товара                 9\n",
      "10                     Игровые консоли - PS2                10\n",
      "11                     Игровые консоли - PS3                11\n",
      "12                     Игровые консоли - PS4                12\n",
      "13                     Игровые консоли - PSP                13\n",
      "14                  Игровые консоли - PSVita                14\n",
      "15                Игровые консоли - XBOX 360                15\n",
      "16                Игровые консоли - XBOX ONE                16\n",
      "17                  Игровые консоли - Прочие                17\n",
      "18                                Игры - PS2                18\n",
      "19                                Игры - PS3                19\n",
      "20                                Игры - PS4                20\n",
      "21                                Игры - PSP                21\n",
      "22                             Игры - PSVita                22\n",
      "23                           Игры - XBOX 360                23\n",
      "24                           Игры - XBOX ONE                24\n",
      "25                 Игры - Аксессуары для игр                25\n",
      "26                      Игры Android - Цифра                26\n",
      "27                          Игры MAC - Цифра                27\n",
      "28          Игры PC - Дополнительные издания                28\n",
      "29           Игры PC - Коллекционные издания                29\n",
      "30             Игры PC - Стандартные издания                30\n",
      "31                           Игры PC - Цифра                31\n",
      "32         Карты оплаты (Кино, Музыка, Игры)                32\n",
      "33                      Карты оплаты - Live!                33\n",
      "34              Карты оплаты - Live! (Цифра)                34\n",
      "35                        Карты оплаты - PSN                35\n",
      "36            Карты оплаты - Windows (Цифра)                36\n",
      "37                            Кино - Blu-Ray                37\n",
      "38                         Кино - Blu-Ray 3D                38\n",
      "39                         Кино - Blu-Ray 4K                39\n",
      "40                                Кино - DVD                40\n",
      "41                      Кино - Коллекционное                41\n",
      "42             Книги - Артбуки, энциклопедии                42\n",
      "43                        Книги - Аудиокниги                43\n",
      "44                Книги - Аудиокниги (Цифра)                44\n",
      "45                     Книги - Аудиокниги 1С                45\n",
      "46                 Книги - Бизнес литература                46\n",
      "47                    Книги - Комиксы, манга                47\n",
      "48           Книги - Компьютерная литература                48\n",
      "49         Книги - Методические материалы 1С                49\n",
      "50                          Книги - Открытки                50\n",
      "51         Книги - Познавательная литература                51\n",
      "52                      Книги - Путеводители                52\n",
      "53         Книги - Художественная литература                53\n",
      "54                             Книги - Цифра                54\n",
      "55       Музыка - CD локального производства                55\n",
      "56       Музыка - CD фирменного производства                56\n",
      "57                              Музыка - MP3                57\n",
      "58                            Музыка - Винил                58\n",
      "59                Музыка - Музыкальное видео                59\n",
      "60               Музыка - Подарочные издания                60\n",
      "61                      Подарки - Атрибутика                61\n",
      "62          Подарки - Гаджеты, роботы, спорт                62\n",
      "63                  Подарки - Мягкие игрушки                63\n",
      "64                 Подарки - Настольные игры                64\n",
      "65    Подарки - Настольные игры (компактные)                65\n",
      "66              Подарки - Открытки, наклейки                66\n",
      "67                        Подарки - Развитие                67\n",
      "68             Подарки - Сертификаты, услуги                68\n",
      "69                        Подарки - Сувениры                69\n",
      "70            Подарки - Сувениры (в навеску)                70\n",
      "71  Подарки - Сумки, Альбомы, Коврики д/мыши                71\n",
      "72                         Подарки - Фигурки                72\n",
      "73              Программы - 1С:Предприятие 8                73\n",
      "74                   Программы - MAC (Цифра)                74\n",
      "75              Программы - Для дома и офиса                75\n",
      "76      Программы - Для дома и офиса (Цифра)                76\n",
      "77                     Программы - Обучающие                77\n",
      "78             Программы - Обучающие (Цифра)                78\n",
      "79                                 Служебные                79\n",
      "80                        Служебные - Билеты                80\n",
      "81                   Чистые носители (шпиль)                81\n",
      "82                 Чистые носители (штучные)                82\n",
      "83                          Элементы питания                83\n"
     ]
    }
   ],
   "source": [
    "print(cats)"
   ]
  },
  {
   "cell_type": "markdown",
   "metadata": {},
   "source": [
    "## Outliers\n",
    "price > 100,000 and sales > 1001 인 아이템을 떨궈버리고 했다고 함.\n",
    "아래에 분포를 그려보니 이해가 됨."
   ]
  },
  {
   "cell_type": "code",
   "execution_count": 153,
   "metadata": {
    "ExecuteTime": {
     "end_time": "2020-08-27T08:22:26.739079Z",
     "start_time": "2020-08-27T08:22:25.749608Z"
    }
   },
   "outputs": [
    {
     "data": {
      "text/plain": [
       "<matplotlib.axes._subplots.AxesSubplot at 0x7f0f506cfc10>"
      ]
     },
     "execution_count": 153,
     "metadata": {},
     "output_type": "execute_result"
    },
    {
     "data": {
      "image/png": "[encoded data removed]",
      "text/plain": [
       "<Figure size 720x288 with 1 Axes>"
      ]
     },
     "metadata": {
      "needs_background": "light"
     },
     "output_type": "display_data"
    },
    {
     "data": {
      "image/png": "[encoded data removed]",
      "text/plain": [
       "<Figure size 720x288 with 1 Axes>"
      ]
     },
     "metadata": {
      "needs_background": "light"
     },
     "output_type": "display_data"
    }
   ],
   "source": [
    "plt.figure(figsize=(10,4))\n",
    "plt.xlim(-100, 3000)\n",
    "sns.boxplot(x=train.item_cnt_day)\n",
    "\n",
    "plt.figure(figsize=(10,4))\n",
    "plt.xlim(train.item_price.min(), train.item_price.max()*1.1)\n",
    "sns.boxplot(x=train.item_price)"
   ]
  },
  {
   "cell_type": "code",
   "execution_count": 154,
   "metadata": {
    "ExecuteTime": {
     "end_time": "2020-08-27T08:22:27.668348Z",
     "start_time": "2020-08-27T08:22:27.531095Z"
    }
   },
   "outputs": [],
   "source": [
    "# 떨궈내기\n",
    "ITEM_PRICE_LIM = 100000\n",
    "ITEM_CNT_LIM = 1001\n",
    "train = train[train.item_price<ITEM_PRICE_LIM]\n",
    "train = train[train.item_cnt_day<ITEM_CNT_LIM]"
   ]
  },
  {
   "cell_type": "markdown",
   "metadata": {},
   "source": [
    "가격이 0 미만인 아이템이 있어서 median으로 채웠다고함."
   ]
  },
  {
   "cell_type": "code",
   "execution_count": 155,
   "metadata": {
    "ExecuteTime": {
     "end_time": "2020-08-27T08:22:29.915460Z",
     "start_time": "2020-08-27T08:22:29.901616Z"
    }
   },
   "outputs": [
    {
     "data": {
      "text/html": [
       "<div>\n",
       "<style scoped>\n",
       "    .dataframe tbody tr th:only-of-type {\n",
       "        vertical-align: middle;\n",
       "    }\n",
       "\n",
       "    .dataframe tbody tr th {\n",
       "        vertical-align: top;\n",
       "    }\n",
       "\n",
       "    .dataframe thead th {\n",
       "        text-align: right;\n",
       "    }\n",
       "</style>\n",
       "<table border=\"1\" class=\"dataframe\">\n",
       "  <thead>\n",
       "    <tr style=\"text-align: right;\">\n",
       "      <th></th>\n",
       "      <th>date</th>\n",
       "      <th>date_block_num</th>\n",
       "      <th>shop_id</th>\n",
       "      <th>item_id</th>\n",
       "      <th>item_price</th>\n",
       "      <th>item_cnt_day</th>\n",
       "    </tr>\n",
       "  </thead>\n",
       "  <tbody>\n",
       "    <tr>\n",
       "      <th>484683</th>\n",
       "      <td>15.05.2013</td>\n",
       "      <td>4</td>\n",
       "      <td>32</td>\n",
       "      <td>2973</td>\n",
       "      <td>-1.0</td>\n",
       "      <td>1.0</td>\n",
       "    </tr>\n",
       "  </tbody>\n",
       "</table>\n",
       "</div>"
      ],
      "text/plain": [
       "              date  date_block_num  shop_id  item_id  item_price  item_cnt_day\n",
       "484683  15.05.2013               4       32     2973        -1.0           1.0"
      ]
     },
     "execution_count": 155,
     "metadata": {},
     "output_type": "execute_result"
    }
   ],
   "source": [
    "train.loc[train.item_price<0]"
   ]
  },
  {
   "cell_type": "code",
   "execution_count": 156,
   "metadata": {
    "ExecuteTime": {
     "end_time": "2020-08-27T08:22:31.380580Z",
     "start_time": "2020-08-27T08:22:31.331327Z"
    }
   },
   "outputs": [
    {
     "data": {
      "text/html": [
       "<div>\n",
       "<style scoped>\n",
       "    .dataframe tbody tr th:only-of-type {\n",
       "        vertical-align: middle;\n",
       "    }\n",
       "\n",
       "    .dataframe tbody tr th {\n",
       "        vertical-align: top;\n",
       "    }\n",
       "\n",
       "    .dataframe thead th {\n",
       "        text-align: right;\n",
       "    }\n",
       "</style>\n",
       "<table border=\"1\" class=\"dataframe\">\n",
       "  <thead>\n",
       "    <tr style=\"text-align: right;\">\n",
       "      <th></th>\n",
       "      <th>date</th>\n",
       "      <th>date_block_num</th>\n",
       "      <th>shop_id</th>\n",
       "      <th>item_id</th>\n",
       "      <th>item_price</th>\n",
       "      <th>item_cnt_day</th>\n",
       "    </tr>\n",
       "  </thead>\n",
       "  <tbody>\n",
       "  </tbody>\n",
       "</table>\n",
       "</div>"
      ],
      "text/plain": [
       "Empty DataFrame\n",
       "Columns: [date, date_block_num, shop_id, item_id, item_price, item_cnt_day]\n",
       "Index: []"
      ]
     },
     "execution_count": 156,
     "metadata": {},
     "output_type": "execute_result"
    }
   ],
   "source": [
    "median = train[(train.shop_id==32)&(train.item_id==2973)&(train.date_block_num==4)&(train.item_price>0)].item_price.median()\n",
    "train.loc[train.item_price<0, 'item_price'] = median\n",
    "train.loc[train.item_price<0]"
   ]
  },
  {
   "cell_type": "markdown",
   "metadata": {},
   "source": [
    "가게 이름 겹치는 경우 제거했다고 함. "
   ]
  },
  {
   "cell_type": "code",
   "execution_count": 157,
   "metadata": {
    "ExecuteTime": {
     "end_time": "2020-08-27T08:22:32.700984Z",
     "start_time": "2020-08-27T08:22:32.663329Z"
    }
   },
   "outputs": [],
   "source": [
    "# Якутск Орджоникидзе, 56 => shop_id 0, 57\n",
    "train.loc[train.shop_id == 0, 'shop_id'] = 57\n",
    "test.loc[test.shop_id == 0, 'shop_id'] = 57\n",
    "# Якутск ТЦ \"Центральный\" => shop_id 1,58\n",
    "train.loc[train.shop_id == 1, 'shop_id'] = 58\n",
    "test.loc[test.shop_id == 1, 'shop_id'] = 58\n",
    "# Жуковский ул. Чкалова 39м² => shop_id 10,11\n",
    "train.loc[train.shop_id == 10, 'shop_id'] = 11\n",
    "test.loc[test.shop_id == 10, 'shop_id'] = 11"
   ]
  },
  {
   "cell_type": "markdown",
   "metadata": {},
   "source": [
    "## Shops/Cats/Items preprocessing\n",
    "1. 각 가게 이름이 도시 이름으로 시작한다고 함\n",
    "2. 각 카테고리 이름 안에 type 과 sub_type이 있다고 함."
   ]
  },
  {
   "cell_type": "code",
   "execution_count": 158,
   "metadata": {
    "ExecuteTime": {
     "end_time": "2020-08-27T08:22:35.723754Z",
     "start_time": "2020-08-27T08:22:35.697096Z"
    }
   },
   "outputs": [],
   "source": [
    "shops.loc[shops.shop_name == 'Сергиев Посад ТЦ \"7Я\"', 'shop_name'] = 'СергиевПосад ТЦ \"7Я\"'\n",
    "shops['city'] = shops['shop_name'].str.split(' ').map(lambda x: x[0])\n",
    "shops.loc[shops.city == '!Якутск', 'city'] = 'Якутск'\n",
    "shops['city_code'] = LabelEncoder().fit_transform(shops['city'])\n",
    "shops = shops[['shop_id','city_code']]\n",
    "\n",
    "cats['split'] = cats['item_category_name'].str.split('-')\n",
    "# item_category_name 에서 type 꺼내서 따로\n",
    "cats['type'] = cats['split'].map(lambda x: x[0].strip())\n",
    "# 따로 꺼낸 type 을 type_code 컬럼에 인코딩한 값 넣기\n",
    "cats['type_code'] = LabelEncoder().fit_transform(cats['type'])\n",
    "# if subtype is nan then type\n",
    "cats['subtype'] = cats['split'].map(lambda x: x[1].strip() if len(x) > 1 else x[0].strip())\n",
    "cats['subtype_code'] = LabelEncoder().fit_transform(cats['subtype'])\n",
    "cats = cats[['item_category_id','type_code', 'subtype_code']]\n",
    "\n",
    "# item_id 사용하니까 name은 드랍\n",
    "items.drop(['item_name'], axis=1, inplace=True)"
   ]
  },
  {
   "cell_type": "markdown",
   "metadata": {},
   "source": [
    "### Monthly Sales\n",
    "Test set is a product of some shops and some items within 34 month. There are 5100 items * 42 shops = 214200 pairs. 363 items are new compared to the train. Hence, for the most of the items in the test set target value should be zero. In the other hand train set contains only pairs which were sold or returned in the past.   \n",
    "\n",
    "**The main idea is to calculate monthly sales and extend it with zero sales for each unique pair within the month. This way train data will be similar to test data.**"
   ]
  },
  {
   "cell_type": "code",
   "execution_count": 159,
   "metadata": {
    "ExecuteTime": {
     "end_time": "2020-08-27T08:22:38.146222Z",
     "start_time": "2020-08-27T08:22:37.876418Z"
    },
    "tags": []
   },
   "outputs": [
    {
     "name": "stdout",
     "output_type": "stream",
     "text": [
      "363\n",
      "5100\n",
      "214200\n"
     ]
    }
   ],
   "source": [
    "# 363 items are new compared to the train.\n",
    "print(len(list(set(test.item_id) - set(test.item_id).intersection(set(train.item_id)))))\n",
    "# 5100 items\n",
    "print(len(list(set(test.item_id))))\n",
    "# 214200 pairs.\n",
    "print(len(test))"
   ]
  },
  {
   "cell_type": "code",
   "execution_count": 160,
   "metadata": {
    "ExecuteTime": {
     "end_time": "2020-08-27T08:22:51.502087Z",
     "start_time": "2020-08-27T08:22:40.256719Z"
    },
    "tags": []
   },
   "outputs": [
    {
     "name": "stdout",
     "output_type": "stream",
     "text": [
      "[array([[    0,    59, 22154],\n",
      "       [    0,    59,  2552],\n",
      "       [    0,    59,  2554],\n",
      "       ...,\n",
      "       [    0,    45,   628],\n",
      "       [    0,    45,   631],\n",
      "       [    0,    45,   621]], dtype=int16), array([[    1,    50,  3880],\n",
      "       [    1,    50,  4128],\n",
      "       [    1,    50,  4124],\n",
      "       ...,\n",
      "       [    1,    28, 12885],\n",
      "       [    1,    28, 12791],\n",
      "       [    1,    28, 13433]], dtype=int16), array([[    2,     5, 20175],\n",
      "       [    2,     5, 20083],\n",
      "       [    2,     5,    31],\n",
      "       ...,\n",
      "       [    2,     4, 12388],\n",
      "       [    2,     4, 12340],\n",
      "       [    2,     4, 10649]], dtype=int16), array([[    3,    25,  8092],\n",
      "       [    3,    25,  7850],\n",
      "       [    3,    25,  8051],\n",
      "       ...,\n",
      "       [    3,    41, 14063],\n",
      "       [    3,    41, 20690],\n",
      "       [    3,    41, 19235]], dtype=int16), array([[    4,    59, 22114],\n",
      "       [    4,    59, 20239],\n",
      "       [    4,    59, 20238],\n",
      "       ...,\n",
      "       [    4,     6,  1924],\n",
      "       [    4,     6,  1972],\n",
      "       [    4,     6,  1908]], dtype=int16), array([[    5,    30, 11496],\n",
      "       [    5,    30, 11244],\n",
      "       [    5,    30, 11388],\n",
      "       ...,\n",
      "       [    5,    52, 10182],\n",
      "       [    5,    52,  8945],\n",
      "       [    5,    52,  8160]], dtype=int16), array([[    6,    28,    51],\n",
      "       [    6,    28,    59],\n",
      "       [    6,    28,    53],\n",
      "       ...,\n",
      "       [    6,    47, 16428],\n",
      "       [    6,    47, 17944],\n",
      "       [    6,    47, 20297]], dtype=int16), array([[    7,    57, 21856],\n",
      "       [    7,    57, 21876],\n",
      "       [    7,    57, 21825],\n",
      "       ...,\n",
      "       [    7,    12, 11369],\n",
      "       [    7,    12, 11916],\n",
      "       [    7,    12, 11668]], dtype=int16), array([[   8,   51,  947],\n",
      "       [   8,   51,  716],\n",
      "       [   8,   51,  687],\n",
      "       ...,\n",
      "       [   8,   55, 3361],\n",
      "       [   8,   55, 3664],\n",
      "       [   8,   55, 3715]], dtype=int16), array([[    9,    44,  3624],\n",
      "       [    9,    44,  3620],\n",
      "       [    9,    44,  3734],\n",
      "       ...,\n",
      "       [    9,    26,  8066],\n",
      "       [    9,    26, 11781],\n",
      "       [    9,    26, 11503]], dtype=int16), array([[   10,    43,  4420],\n",
      "       [   10,    43, 10033],\n",
      "       [   10,    43, 10051],\n",
      "       ...,\n",
      "       [   10,    47,  1747],\n",
      "       [   10,    47,  4116],\n",
      "       [   10,    47,  4736]], dtype=int16), array([[   11,    25, 17769],\n",
      "       [   11,    25, 18016],\n",
      "       [   11,    25, 17763],\n",
      "       ...,\n",
      "       [   11,    46,  8390],\n",
      "       [   11,    46,  9484],\n",
      "       [   11,    46,  8845]], dtype=int16), array([[   12,    54, 10297],\n",
      "       [   12,    54, 10296],\n",
      "       [   12,    54, 10298],\n",
      "       ...,\n",
      "       [   12,    24,  5555],\n",
      "       [   12,    24,  8081],\n",
      "       [   12,    24,  4651]], dtype=int16), array([[   13,    27, 15242],\n",
      "       [   13,    27, 15200],\n",
      "       [   13,    27, 15279],\n",
      "       ...,\n",
      "       [   13,    55, 12683],\n",
      "       [   13,    55, 13430],\n",
      "       [   13,    55, 12681]], dtype=int16), array([[   14,    50, 19751],\n",
      "       [   14,    50, 19602],\n",
      "       [   14,    50, 19603],\n",
      "       ...,\n",
      "       [   14,     7,  6721],\n",
      "       [   14,     7, 10732],\n",
      "       [   14,     7, 11163]], dtype=int16), array([[   15,    54, 18394],\n",
      "       [   15,    54, 18555],\n",
      "       [   15,    54, 18411],\n",
      "       ...,\n",
      "       [   15,    38, 18508],\n",
      "       [   15,    38, 18648],\n",
      "       [   15,    38, 18643]], dtype=int16), array([[   16,    57,  2269],\n",
      "       [   16,    57, 22126],\n",
      "       [   16,    57, 20949],\n",
      "       ...,\n",
      "       [   16,    45,  2331],\n",
      "       [   16,    45,  1763],\n",
      "       [   16,    45,  2068]], dtype=int16), array([[  17,   26, 9532],\n",
      "       [  17,   26, 9507],\n",
      "       [  17,   26, 9509],\n",
      "       ...,\n",
      "       [  17,   45, 1049],\n",
      "       [  17,   45, 1050],\n",
      "       [  17,   45,  993]], dtype=int16), array([[   18,    16,  5486],\n",
      "       [   18,    16, 22092],\n",
      "       [   18,    16,  2416],\n",
      "       ...,\n",
      "       [   18,    24,  1326],\n",
      "       [   18,    24,  1243],\n",
      "       [   18,    24,   479]], dtype=int16), array([[  19,   42, 6117],\n",
      "       [  19,   42, 6111],\n",
      "       [  19,   42, 6108],\n",
      "       ...,\n",
      "       [  19,   26, 2146],\n",
      "       [  19,   26, 2797],\n",
      "       [  19,   26, 2750]], dtype=int16), array([[   20,     5,  1039],\n",
      "       [   20,     5,  1015],\n",
      "       [   20,     5,  1329],\n",
      "       ...,\n",
      "       [   20,    56, 14716],\n",
      "       [   20,    56, 14515],\n",
      "       [   20,    56, 12944]], dtype=int16), array([[   21,    26,  6183],\n",
      "       [   21,    26, 11391],\n",
      "       [   21,    26, 11389],\n",
      "       ...,\n",
      "       [   21,    46, 14272],\n",
      "       [   21,    46, 13109],\n",
      "       [   21,    46,  5520]], dtype=int16), array([[   22,    37,  3460],\n",
      "       [   22,    37,  4615],\n",
      "       [   22,    37,  4870],\n",
      "       ...,\n",
      "       [   22,    42, 13694],\n",
      "       [   22,    42,  1624],\n",
      "       [   22,    42,   817]], dtype=int16), array([[   23,    42, 17279],\n",
      "       [   23,    42, 17315],\n",
      "       [   23,    42, 17302],\n",
      "       ...,\n",
      "       [   23,    22,  5397],\n",
      "       [   23,    22,  5455],\n",
      "       [   23,    22,  5033]], dtype=int16), array([[   24,    27, 20463],\n",
      "       [   24,    27, 20462],\n",
      "       [   24,    27, 20448],\n",
      "       ...,\n",
      "       [   24,     2,  6902],\n",
      "       [   24,     2,  6564],\n",
      "       [   24,     2,  1398]], dtype=int16), array([[   25,    46, 21443],\n",
      "       [   25,    46, 20949],\n",
      "       [   25,    46, 21455],\n",
      "       ...,\n",
      "       [   25,    26, 19064],\n",
      "       [   25,    26, 14671],\n",
      "       [   25,    26, 16564]], dtype=int16), array([[   26,     3, 10079],\n",
      "       [   26,     3, 20949],\n",
      "       [   26,     3, 21364],\n",
      "       ...,\n",
      "       [   26,    26, 12049],\n",
      "       [   26,    26, 14099],\n",
      "       [   26,    26, 12980]], dtype=int16), array([[   27,    27, 12020],\n",
      "       [   27,    27,  2734],\n",
      "       [   27,    27,  2470],\n",
      "       ...,\n",
      "       [   27,    14, 19790],\n",
      "       [   27,    14, 19751],\n",
      "       [   27,    14, 19072]], dtype=int16), array([[   28,    19, 15710],\n",
      "       [   28,    19, 15702],\n",
      "       [   28,    19, 15698],\n",
      "       ...,\n",
      "       [   28,    47,  4701],\n",
      "       [   28,    47,  5076],\n",
      "       [   28,    47,  4350]], dtype=int16), array([[   29,    35,  1971],\n",
      "       [   29,    35,  1881],\n",
      "       [   29,    35,  1914],\n",
      "       ...,\n",
      "       [   29,    56, 22072],\n",
      "       [   29,    56, 22045],\n",
      "       [   29,    56,    76]], dtype=int16), array([[   30,     5,  5911],\n",
      "       [   30,     5,  5821],\n",
      "       [   30,     5,  5634],\n",
      "       ...,\n",
      "       [   30,    28, 16327],\n",
      "       [   30,    28, 16443],\n",
      "       [   30,    28, 18274]], dtype=int16), array([[   31,    42,  4261],\n",
      "       [   31,    42, 12752],\n",
      "       [   31,    42, 13556],\n",
      "       ...,\n",
      "       [   31,    21, 13184],\n",
      "       [   31,    21, 13196],\n",
      "       [   31,    21, 12664]], dtype=int16), array([[   32,    42, 11170],\n",
      "       [   32,    42, 11215],\n",
      "       [   32,    42, 11232],\n",
      "       ...,\n",
      "       [   32,    27, 21352],\n",
      "       [   32,    27, 21284],\n",
      "       [   32,    27, 21105]], dtype=int16), array([[   33,    45, 13315],\n",
      "       [   33,    45, 13880],\n",
      "       [   33,    45, 13881],\n",
      "       ...,\n",
      "       [   33,    21,  7640],\n",
      "       [   33,    21,  7632],\n",
      "       [   33,    21,  7440]], dtype=int16)]\n",
      "=====================================\n",
      "          date_block_num  shop_id  item_id\n",
      "0                      0       59    22154\n",
      "1                      0       59     2552\n",
      "2                      0       59     2554\n",
      "3                      0       59     2555\n",
      "4                      0       59     2564\n",
      "...                  ...      ...      ...\n",
      "10913799              33       21     7635\n",
      "10913800              33       21     7638\n",
      "10913801              33       21     7640\n",
      "10913802              33       21     7632\n",
      "10913803              33       21     7440\n",
      "\n",
      "[10913804 rows x 3 columns]\n"
     ]
    },
    {
     "data": {
      "text/plain": [
       "11.23777461051941"
      ]
     },
     "execution_count": 160,
     "metadata": {},
     "output_type": "execute_result"
    }
   ],
   "source": [
    "ts = time.time()\n",
    "matrix = []\n",
    "cols = ['date_block_num','shop_id','item_id']\n",
    "NUM_MONTHS = 34\n",
    "for i in range(NUM_MONTHS):\n",
    "    sales = train[train.date_block_num==i]\n",
    "    matrix.append(np.array(list(product([i], sales.shop_id.unique(), sales.item_id.unique())), dtype='int16'))\n",
    "print(matrix)    \n",
    "# matrix 행으로 쌓은 dataframe 만들기\n",
    "matrix = pd.DataFrame(np.vstack(matrix), columns=cols)\n",
    "matrix['date_block_num'] = matrix['date_block_num'].astype(np.int8)\n",
    "matrix['shop_id'] = matrix['shop_id'].astype(np.int8)\n",
    "matrix['item_id'] = matrix['item_id'].astype(np.int16)\n",
    "print('=====================================')\n",
    "print(matrix)\n",
    "matrix.sort_values(cols,inplace=True)\n",
    "time.time() - ts"
   ]
  },
  {
   "cell_type": "markdown",
   "metadata": {},
   "source": [
    "Aggregate train set by shop/item pairs to calculate target aggreagates, then **clip(0,20) target value.** This way train target will be similar to the test predictions.   \n",
    "\n",
    "I use floats instead of ints for item_cnt_month to avoid downcasting it after concatination with the test set later.** If it would be int16, after concatination with NaN values it becomes int64, but foat16 becomes float16 even with NaNs.**"
   ]
  },
  {
   "cell_type": "code",
   "execution_count": 161,
   "metadata": {
    "ExecuteTime": {
     "end_time": "2020-08-27T08:22:53.173022Z",
     "start_time": "2020-08-27T08:22:53.163532Z"
    }
   },
   "outputs": [],
   "source": [
    "train['revenue'] = train['item_price'] *  train['item_cnt_day']"
   ]
  },
  {
   "cell_type": "code",
   "execution_count": 162,
   "metadata": {
    "ExecuteTime": {
     "end_time": "2020-08-27T08:22:57.431456Z",
     "start_time": "2020-08-27T08:22:54.415309Z"
    }
   },
   "outputs": [
    {
     "data": {
      "text/plain": [
       "3.0034029483795166"
      ]
     },
     "execution_count": 162,
     "metadata": {},
     "output_type": "execute_result"
    }
   ],
   "source": [
    "ts = time.time()\n",
    "group = train.groupby(['date_block_num','shop_id','item_id']).agg({'item_cnt_day': ['sum']})\n",
    "group.columns = ['item_cnt_month']\n",
    "group.reset_index(inplace=True)\n",
    "\n",
    "matrix = pd.merge(matrix, group, on=cols, how='left')\n",
    "matrix['item_cnt_month'] = (matrix['item_cnt_month']\n",
    "                                .fillna(0)\n",
    "                                .clip(0,20) # NB clip target here\n",
    "                                .astype(np.float16))\n",
    "time.time() - ts\n"
   ]
  },
  {
   "cell_type": "markdown",
   "metadata": {},
   "source": [
    "### Test set\n",
    "To use time tricks append test pairs to the matrix."
   ]
  },
  {
   "cell_type": "code",
   "execution_count": 163,
   "metadata": {
    "ExecuteTime": {
     "end_time": "2020-08-27T08:22:58.292279Z",
     "start_time": "2020-08-27T08:22:58.276656Z"
    }
   },
   "outputs": [
    {
     "data": {
      "text/html": [
       "<div>\n",
       "<style scoped>\n",
       "    .dataframe tbody tr th:only-of-type {\n",
       "        vertical-align: middle;\n",
       "    }\n",
       "\n",
       "    .dataframe tbody tr th {\n",
       "        vertical-align: top;\n",
       "    }\n",
       "\n",
       "    .dataframe thead th {\n",
       "        text-align: right;\n",
       "    }\n",
       "</style>\n",
       "<table border=\"1\" class=\"dataframe\">\n",
       "  <thead>\n",
       "    <tr style=\"text-align: right;\">\n",
       "      <th></th>\n",
       "      <th>shop_id</th>\n",
       "      <th>item_id</th>\n",
       "      <th>date_block_num</th>\n",
       "    </tr>\n",
       "    <tr>\n",
       "      <th>ID</th>\n",
       "      <th></th>\n",
       "      <th></th>\n",
       "      <th></th>\n",
       "    </tr>\n",
       "  </thead>\n",
       "  <tbody>\n",
       "    <tr>\n",
       "      <th>0</th>\n",
       "      <td>5</td>\n",
       "      <td>5037</td>\n",
       "      <td>34</td>\n",
       "    </tr>\n",
       "    <tr>\n",
       "      <th>1</th>\n",
       "      <td>5</td>\n",
       "      <td>5320</td>\n",
       "      <td>34</td>\n",
       "    </tr>\n",
       "    <tr>\n",
       "      <th>2</th>\n",
       "      <td>5</td>\n",
       "      <td>5233</td>\n",
       "      <td>34</td>\n",
       "    </tr>\n",
       "    <tr>\n",
       "      <th>3</th>\n",
       "      <td>5</td>\n",
       "      <td>5232</td>\n",
       "      <td>34</td>\n",
       "    </tr>\n",
       "    <tr>\n",
       "      <th>4</th>\n",
       "      <td>5</td>\n",
       "      <td>5268</td>\n",
       "      <td>34</td>\n",
       "    </tr>\n",
       "  </tbody>\n",
       "</table>\n",
       "</div>"
      ],
      "text/plain": [
       "    shop_id  item_id  date_block_num\n",
       "ID                                  \n",
       "0         5     5037              34\n",
       "1         5     5320              34\n",
       "2         5     5233              34\n",
       "3         5     5232              34\n",
       "4         5     5268              34"
      ]
     },
     "execution_count": 163,
     "metadata": {},
     "output_type": "execute_result"
    }
   ],
   "source": [
    "test['date_block_num'] = 34\n",
    "test['date_block_num'] = test['date_block_num'].astype(np.int8)\n",
    "test['shop_id'] = test['shop_id'].astype(np.int8)\n",
    "test['item_id'] = test['item_id'].astype(np.int16)\n",
    "test.head(5)"
   ]
  },
  {
   "cell_type": "code",
   "execution_count": 164,
   "metadata": {
    "ExecuteTime": {
     "end_time": "2020-08-27T08:23:00.083929Z",
     "start_time": "2020-08-27T08:23:00.045617Z"
    }
   },
   "outputs": [
    {
     "data": {
      "text/plain": [
       "0.035449981689453125"
      ]
     },
     "execution_count": 164,
     "metadata": {},
     "output_type": "execute_result"
    }
   ],
   "source": [
    "ts = time.time()\n",
    "matrix = pd.concat([matrix, test], ignore_index=True, sort=False, keys=cols)\n",
    "matrix.fillna(0, inplace=True) # 34 month\n",
    "time.time() - ts"
   ]
  },
  {
   "cell_type": "markdown",
   "metadata": {},
   "source": [
    "### Shops/Items/Cats features"
   ]
  },
  {
   "cell_type": "code",
   "execution_count": 165,
   "metadata": {
    "ExecuteTime": {
     "end_time": "2020-08-27T08:23:04.031399Z",
     "start_time": "2020-08-27T08:23:01.539036Z"
    }
   },
   "outputs": [
    {
     "data": {
      "text/plain": [
       "2.487400770187378"
      ]
     },
     "execution_count": 165,
     "metadata": {},
     "output_type": "execute_result"
    }
   ],
   "source": [
    "ts = time.time()\n",
    "matrix = pd.merge(matrix, shops, on=['shop_id'], how='left')\n",
    "matrix = pd.merge(matrix, items, on=['item_id'], how='left')\n",
    "matrix = pd.merge(matrix, cats, on=['item_category_id'], how='left')\n",
    "matrix['city_code'] = matrix['city_code'].astype(np.int8)\n",
    "matrix['item_category_id'] = matrix['item_category_id'].astype(np.int8)\n",
    "matrix['type_code'] = matrix['type_code'].astype(np.int8)\n",
    "matrix['subtype_code'] = matrix['subtype_code'].astype(np.int8)\n",
    "time.time() - ts"
   ]
  },
  {
   "cell_type": "markdown",
   "metadata": {},
   "source": [
    "### Target lags"
   ]
  },
  {
   "cell_type": "code",
   "execution_count": 166,
   "metadata": {
    "ExecuteTime": {
     "end_time": "2020-08-27T08:23:05.679342Z",
     "start_time": "2020-08-27T08:23:05.668624Z"
    }
   },
   "outputs": [],
   "source": [
    "def lag_feature(df, lags, col):\n",
    "    tmp = df[['date_block_num','shop_id','item_id',col]]\n",
    "    for i in lags:\n",
    "        shifted = tmp.copy()\n",
    "        shifted.columns = ['date_block_num','shop_id','item_id', col+'_lag_'+str(i)]\n",
    "        shifted['date_block_num'] += i\n",
    "        df = pd.merge(df, shifted, on=['date_block_num','shop_id','item_id'], how='left')\n",
    "    return df"
   ]
  },
  {
   "cell_type": "code",
   "execution_count": 167,
   "metadata": {
    "ExecuteTime": {
     "end_time": "2020-08-27T08:23:26.058549Z",
     "start_time": "2020-08-27T08:23:07.202232Z"
    }
   },
   "outputs": [
    {
     "data": {
      "text/plain": [
       "18.85355520248413"
      ]
     },
     "execution_count": 167,
     "metadata": {},
     "output_type": "execute_result"
    }
   ],
   "source": [
    "ts = time.time()\n",
    "matrix = lag_feature(matrix, [1,2,3,6,12], 'item_cnt_month')\n",
    "time.time() - ts"
   ]
  },
  {
   "cell_type": "markdown",
   "metadata": {},
   "source": [
    "### Mean encoded features"
   ]
  },
  {
   "cell_type": "code",
   "execution_count": 168,
   "metadata": {
    "ExecuteTime": {
     "end_time": "2020-08-27T08:24:06.921686Z",
     "start_time": "2020-08-27T08:24:01.038993Z"
    },
    "tags": []
   },
   "outputs": [
    {
     "name": "stdout",
     "output_type": "stream",
     "text": [
      "   date_block_num  shop_id  item_id  item_cnt_month  city_code  \\\n",
      "0               0        2       19             0.0          0   \n",
      "1               0        2       27             1.0          0   \n",
      "2               0        2       28             0.0          0   \n",
      "3               0        2       29             0.0          0   \n",
      "4               0        2       32             0.0          0   \n",
      "\n",
      "   item_category_id  type_code  subtype_code  item_cnt_month_lag_1  \\\n",
      "0                40         11             4                   NaN   \n",
      "1                19          5            10                   NaN   \n",
      "2                30          8            55                   NaN   \n",
      "3                23          5            16                   NaN   \n",
      "4                40         11             4                   NaN   \n",
      "\n",
      "   item_cnt_month_lag_2  item_cnt_month_lag_3  item_cnt_month_lag_6  \\\n",
      "0                   NaN                   NaN                   NaN   \n",
      "1                   NaN                   NaN                   NaN   \n",
      "2                   NaN                   NaN                   NaN   \n",
      "3                   NaN                   NaN                   NaN   \n",
      "4                   NaN                   NaN                   NaN   \n",
      "\n",
      "   item_cnt_month_lag_12  date_avg_item_cnt_lag_1  \n",
      "0                    NaN                      NaN  \n",
      "1                    NaN                      NaN  \n",
      "2                    NaN                      NaN  \n",
      "3                    NaN                      NaN  \n",
      "4                    NaN                      NaN  \n"
     ]
    },
    {
     "data": {
      "text/plain": [
       "59.71631383895874"
      ]
     },
     "execution_count": 168,
     "metadata": {},
     "output_type": "execute_result"
    }
   ],
   "source": [
    "# 해당 월에, 일반적으로 상품들이 팔린 평균 개수 (즉, 월 단위로 같음.) 과 레그.\n",
    "group = matrix.groupby(['date_block_num']).agg({'item_cnt_month': ['mean']})\n",
    "group.columns = [ 'date_avg_item_cnt' ]\n",
    "group.reset_index(inplace=True)\n",
    "\n",
    "matrix = pd.merge(matrix, group, on=['date_block_num'], how='left')\n",
    "matrix['date_avg_item_cnt'] = matrix['date_avg_item_cnt'].astype(np.float16)\n",
    "matrix = lag_feature(matrix, [1], 'date_avg_item_cnt')\n",
    "matrix.drop(['date_avg_item_cnt'], axis=1, inplace=True)\n",
    "print(matrix.head(5))\n",
    "time.time() - ts"
   ]
  },
  {
   "cell_type": "code",
   "execution_count": 21,
   "metadata": {
    "ExecuteTime": {
     "end_time": "2020-08-27T06:20:49.958681Z",
     "start_time": "2020-08-27T06:20:27.750017Z"
    },
    "tags": []
   },
   "outputs": [
    {
     "name": "stdout",
     "output_type": "stream",
     "text": [
      "   date_block_num  shop_id  item_id  item_cnt_month  city_code  \\\n",
      "0               0        2       19             0.0          0   \n",
      "1               0        2       27             1.0          0   \n",
      "2               0        2       28             0.0          0   \n",
      "3               0        2       29             0.0          0   \n",
      "4               0        2       32             0.0          0   \n",
      "\n",
      "   item_category_id  type_code  subtype_code  item_cnt_month_lag_1  \\\n",
      "0                40         11             4                   NaN   \n",
      "1                19          5            10                   NaN   \n",
      "2                30          8            55                   NaN   \n",
      "3                23          5            16                   NaN   \n",
      "4                40         11             4                   NaN   \n",
      "\n",
      "   item_cnt_month_lag_2  item_cnt_month_lag_3  item_cnt_month_lag_6  \\\n",
      "0                   NaN                   NaN                   NaN   \n",
      "1                   NaN                   NaN                   NaN   \n",
      "2                   NaN                   NaN                   NaN   \n",
      "3                   NaN                   NaN                   NaN   \n",
      "4                   NaN                   NaN                   NaN   \n",
      "\n",
      "   item_cnt_month_lag_12  date_avg_item_cnt_lag_1  \\\n",
      "0                    NaN                      NaN   \n",
      "1                    NaN                      NaN   \n",
      "2                    NaN                      NaN   \n",
      "3                    NaN                      NaN   \n",
      "4                    NaN                      NaN   \n",
      "\n",
      "   date_item_avg_item_cnt_lag_1  date_item_avg_item_cnt_lag_2  \\\n",
      "0                           NaN                           NaN   \n",
      "1                           NaN                           NaN   \n",
      "2                           NaN                           NaN   \n",
      "3                           NaN                           NaN   \n",
      "4                           NaN                           NaN   \n",
      "\n",
      "   date_item_avg_item_cnt_lag_3  date_item_avg_item_cnt_lag_6  \\\n",
      "0                           NaN                           NaN   \n",
      "1                           NaN                           NaN   \n",
      "2                           NaN                           NaN   \n",
      "3                           NaN                           NaN   \n",
      "4                           NaN                           NaN   \n",
      "\n",
      "   date_item_avg_item_cnt_lag_12  \n",
      "0                            NaN  \n",
      "1                            NaN  \n",
      "2                            NaN  \n",
      "3                            NaN  \n",
      "4                            NaN  \n"
     ]
    },
    {
     "data": {
      "text/plain": [
       "22.203993797302246"
      ]
     },
     "execution_count": 21,
     "metadata": {},
     "output_type": "execute_result"
    }
   ],
   "source": [
    "# 해당 월에, 각각의 상품 단위로, 팔린 상품 갯수의 평균 (즉, (월, 상품) 단위) 와 레그.\n",
    "ts = time.time()\n",
    "group = matrix.groupby(['date_block_num', 'item_id']).agg({'item_cnt_month': ['mean']})\n",
    "group.columns = [ 'date_item_avg_item_cnt' ]\n",
    "group.reset_index(inplace=True)\n",
    "\n",
    "matrix = pd.merge(matrix, group, on=['date_block_num','item_id'], how='left')\n",
    "matrix['date_item_avg_item_cnt'] = matrix['date_item_avg_item_cnt'].astype(np.float16)\n",
    "matrix = lag_feature(matrix, [1,2,3,6,12], 'date_item_avg_item_cnt')\n",
    "matrix.drop(['date_item_avg_item_cnt'], axis=1, inplace=True)\n",
    "print(matrix.head(5))\n",
    "time.time() - ts"
   ]
  },
  {
   "cell_type": "code",
   "execution_count": 22,
   "metadata": {
    "ExecuteTime": {
     "end_time": "2020-08-27T06:21:13.144111Z",
     "start_time": "2020-08-27T06:20:49.959587Z"
    },
    "tags": []
   },
   "outputs": [
    {
     "name": "stdout",
     "output_type": "stream",
     "text": [
      "   date_block_num  shop_id  item_id  item_cnt_month  city_code  \\\n",
      "0               0        2       19             0.0          0   \n",
      "1               0        2       27             1.0          0   \n",
      "2               0        2       28             0.0          0   \n",
      "3               0        2       29             0.0          0   \n",
      "4               0        2       32             0.0          0   \n",
      "\n",
      "   item_category_id  type_code  subtype_code  item_cnt_month_lag_1  \\\n",
      "0                40         11             4                   NaN   \n",
      "1                19          5            10                   NaN   \n",
      "2                30          8            55                   NaN   \n",
      "3                23          5            16                   NaN   \n",
      "4                40         11             4                   NaN   \n",
      "\n",
      "   item_cnt_month_lag_2  item_cnt_month_lag_3  item_cnt_month_lag_6  \\\n",
      "0                   NaN                   NaN                   NaN   \n",
      "1                   NaN                   NaN                   NaN   \n",
      "2                   NaN                   NaN                   NaN   \n",
      "3                   NaN                   NaN                   NaN   \n",
      "4                   NaN                   NaN                   NaN   \n",
      "\n",
      "   item_cnt_month_lag_12  date_avg_item_cnt_lag_1  \\\n",
      "0                    NaN                      NaN   \n",
      "1                    NaN                      NaN   \n",
      "2                    NaN                      NaN   \n",
      "3                    NaN                      NaN   \n",
      "4                    NaN                      NaN   \n",
      "\n",
      "   date_item_avg_item_cnt_lag_1  date_item_avg_item_cnt_lag_2  \\\n",
      "0                           NaN                           NaN   \n",
      "1                           NaN                           NaN   \n",
      "2                           NaN                           NaN   \n",
      "3                           NaN                           NaN   \n",
      "4                           NaN                           NaN   \n",
      "\n",
      "   date_item_avg_item_cnt_lag_3  date_item_avg_item_cnt_lag_6  \\\n",
      "0                           NaN                           NaN   \n",
      "1                           NaN                           NaN   \n",
      "2                           NaN                           NaN   \n",
      "3                           NaN                           NaN   \n",
      "4                           NaN                           NaN   \n",
      "\n",
      "   date_item_avg_item_cnt_lag_12  date_shop_avg_item_cnt_lag_1  \\\n",
      "0                            NaN                           NaN   \n",
      "1                            NaN                           NaN   \n",
      "2                            NaN                           NaN   \n",
      "3                            NaN                           NaN   \n",
      "4                            NaN                           NaN   \n",
      "\n",
      "   date_shop_avg_item_cnt_lag_2  date_shop_avg_item_cnt_lag_3  \\\n",
      "0                           NaN                           NaN   \n",
      "1                           NaN                           NaN   \n",
      "2                           NaN                           NaN   \n",
      "3                           NaN                           NaN   \n",
      "4                           NaN                           NaN   \n",
      "\n",
      "   date_shop_avg_item_cnt_lag_6  date_shop_avg_item_cnt_lag_12  \n",
      "0                           NaN                            NaN  \n",
      "1                           NaN                            NaN  \n",
      "2                           NaN                            NaN  \n",
      "3                           NaN                            NaN  \n",
      "4                           NaN                            NaN  \n"
     ]
    },
    {
     "data": {
      "text/plain": [
       "23.17971110343933"
      ]
     },
     "execution_count": 22,
     "metadata": {},
     "output_type": "execute_result"
    }
   ],
   "source": [
    "# 해당 월에, 각각의 상점 단위로, 팔린 상품 갯수의 평균과 레그. (월, 상점) 단위\n",
    "ts = time.time()\n",
    "group = matrix.groupby(['date_block_num', 'shop_id']).agg({'item_cnt_month': ['mean']})\n",
    "group.columns = [ 'date_shop_avg_item_cnt' ]\n",
    "group.reset_index(inplace=True)\n",
    "\n",
    "matrix = pd.merge(matrix, group, on=['date_block_num','shop_id'], how='left')\n",
    "matrix['date_shop_avg_item_cnt'] = matrix['date_shop_avg_item_cnt'].astype(np.float16)\n",
    "matrix = lag_feature(matrix, [1,2,3,6,12], 'date_shop_avg_item_cnt')\n",
    "matrix.drop(['date_shop_avg_item_cnt'], axis=1, inplace=True)\n",
    "print(matrix.head(5))\n",
    "time.time() - ts"
   ]
  },
  {
   "cell_type": "code",
   "execution_count": 23,
   "metadata": {
    "ExecuteTime": {
     "end_time": "2020-08-27T06:21:20.711525Z",
     "start_time": "2020-08-27T06:21:13.145145Z"
    },
    "tags": []
   },
   "outputs": [
    {
     "name": "stdout",
     "output_type": "stream",
     "text": [
      "   date_block_num  shop_id  item_id  item_cnt_month  city_code  \\\n",
      "0               0        2       19             0.0          0   \n",
      "1               0        2       27             1.0          0   \n",
      "2               0        2       28             0.0          0   \n",
      "3               0        2       29             0.0          0   \n",
      "4               0        2       32             0.0          0   \n",
      "\n",
      "   item_category_id  type_code  subtype_code  item_cnt_month_lag_1  \\\n",
      "0                40         11             4                   NaN   \n",
      "1                19          5            10                   NaN   \n",
      "2                30          8            55                   NaN   \n",
      "3                23          5            16                   NaN   \n",
      "4                40         11             4                   NaN   \n",
      "\n",
      "   item_cnt_month_lag_2  item_cnt_month_lag_3  item_cnt_month_lag_6  \\\n",
      "0                   NaN                   NaN                   NaN   \n",
      "1                   NaN                   NaN                   NaN   \n",
      "2                   NaN                   NaN                   NaN   \n",
      "3                   NaN                   NaN                   NaN   \n",
      "4                   NaN                   NaN                   NaN   \n",
      "\n",
      "   item_cnt_month_lag_12  date_avg_item_cnt_lag_1  \\\n",
      "0                    NaN                      NaN   \n",
      "1                    NaN                      NaN   \n",
      "2                    NaN                      NaN   \n",
      "3                    NaN                      NaN   \n",
      "4                    NaN                      NaN   \n",
      "\n",
      "   date_item_avg_item_cnt_lag_1  date_item_avg_item_cnt_lag_2  \\\n",
      "0                           NaN                           NaN   \n",
      "1                           NaN                           NaN   \n",
      "2                           NaN                           NaN   \n",
      "3                           NaN                           NaN   \n",
      "4                           NaN                           NaN   \n",
      "\n",
      "   date_item_avg_item_cnt_lag_3  date_item_avg_item_cnt_lag_6  \\\n",
      "0                           NaN                           NaN   \n",
      "1                           NaN                           NaN   \n",
      "2                           NaN                           NaN   \n",
      "3                           NaN                           NaN   \n",
      "4                           NaN                           NaN   \n",
      "\n",
      "   date_item_avg_item_cnt_lag_12  date_shop_avg_item_cnt_lag_1  \\\n",
      "0                            NaN                           NaN   \n",
      "1                            NaN                           NaN   \n",
      "2                            NaN                           NaN   \n",
      "3                            NaN                           NaN   \n",
      "4                            NaN                           NaN   \n",
      "\n",
      "   date_shop_avg_item_cnt_lag_2  date_shop_avg_item_cnt_lag_3  \\\n",
      "0                           NaN                           NaN   \n",
      "1                           NaN                           NaN   \n",
      "2                           NaN                           NaN   \n",
      "3                           NaN                           NaN   \n",
      "4                           NaN                           NaN   \n",
      "\n",
      "   date_shop_avg_item_cnt_lag_6  date_shop_avg_item_cnt_lag_12  \\\n",
      "0                           NaN                            NaN   \n",
      "1                           NaN                            NaN   \n",
      "2                           NaN                            NaN   \n",
      "3                           NaN                            NaN   \n",
      "4                           NaN                            NaN   \n",
      "\n",
      "   date_cat_avg_item_cnt_lag_1  \n",
      "0                          NaN  \n",
      "1                          NaN  \n",
      "2                          NaN  \n",
      "3                          NaN  \n",
      "4                          NaN  \n"
     ]
    },
    {
     "data": {
      "text/plain": [
       "7.561230897903442"
      ]
     },
     "execution_count": 23,
     "metadata": {},
     "output_type": "execute_result"
    }
   ],
   "source": [
    "# 해당 월에, 각각의 아이템 카테고리 단위로, 팔린 상품 갯수의 평균과 레그. (월, 아이템 카테고리) 단위\n",
    "ts = time.time()\n",
    "group = matrix.groupby(['date_block_num', 'item_category_id']).agg({'item_cnt_month': ['mean']})\n",
    "group.columns = [ 'date_cat_avg_item_cnt' ]\n",
    "group.reset_index(inplace=True)\n",
    "\n",
    "matrix = pd.merge(matrix, group, on=['date_block_num','item_category_id'], how='left')\n",
    "matrix['date_cat_avg_item_cnt'] = matrix['date_cat_avg_item_cnt'].astype(np.float16)\n",
    "matrix = lag_feature(matrix, [1], 'date_cat_avg_item_cnt')\n",
    "matrix.drop(['date_cat_avg_item_cnt'], axis=1, inplace=True)\n",
    "print(matrix.head(5))\n",
    "time.time() - ts"
   ]
  },
  {
   "cell_type": "code",
   "execution_count": 24,
   "metadata": {
    "ExecuteTime": {
     "end_time": "2020-08-27T06:21:28.731981Z",
     "start_time": "2020-08-27T06:21:20.712535Z"
    },
    "tags": []
   },
   "outputs": [
    {
     "name": "stdout",
     "output_type": "stream",
     "text": [
      "   date_block_num  shop_id  item_id  item_cnt_month  city_code  \\\n",
      "0               0        2       19             0.0          0   \n",
      "1               0        2       27             1.0          0   \n",
      "2               0        2       28             0.0          0   \n",
      "3               0        2       29             0.0          0   \n",
      "4               0        2       32             0.0          0   \n",
      "\n",
      "   item_category_id  type_code  subtype_code  item_cnt_month_lag_1  \\\n",
      "0                40         11             4                   NaN   \n",
      "1                19          5            10                   NaN   \n",
      "2                30          8            55                   NaN   \n",
      "3                23          5            16                   NaN   \n",
      "4                40         11             4                   NaN   \n",
      "\n",
      "   item_cnt_month_lag_2  item_cnt_month_lag_3  item_cnt_month_lag_6  \\\n",
      "0                   NaN                   NaN                   NaN   \n",
      "1                   NaN                   NaN                   NaN   \n",
      "2                   NaN                   NaN                   NaN   \n",
      "3                   NaN                   NaN                   NaN   \n",
      "4                   NaN                   NaN                   NaN   \n",
      "\n",
      "   item_cnt_month_lag_12  date_avg_item_cnt_lag_1  \\\n",
      "0                    NaN                      NaN   \n",
      "1                    NaN                      NaN   \n",
      "2                    NaN                      NaN   \n",
      "3                    NaN                      NaN   \n",
      "4                    NaN                      NaN   \n",
      "\n",
      "   date_item_avg_item_cnt_lag_1  date_item_avg_item_cnt_lag_2  \\\n",
      "0                           NaN                           NaN   \n",
      "1                           NaN                           NaN   \n",
      "2                           NaN                           NaN   \n",
      "3                           NaN                           NaN   \n",
      "4                           NaN                           NaN   \n",
      "\n",
      "   date_item_avg_item_cnt_lag_3  date_item_avg_item_cnt_lag_6  \\\n",
      "0                           NaN                           NaN   \n",
      "1                           NaN                           NaN   \n",
      "2                           NaN                           NaN   \n",
      "3                           NaN                           NaN   \n",
      "4                           NaN                           NaN   \n",
      "\n",
      "   date_item_avg_item_cnt_lag_12  date_shop_avg_item_cnt_lag_1  \\\n",
      "0                            NaN                           NaN   \n",
      "1                            NaN                           NaN   \n",
      "2                            NaN                           NaN   \n",
      "3                            NaN                           NaN   \n",
      "4                            NaN                           NaN   \n",
      "\n",
      "   date_shop_avg_item_cnt_lag_2  date_shop_avg_item_cnt_lag_3  \\\n",
      "0                           NaN                           NaN   \n",
      "1                           NaN                           NaN   \n",
      "2                           NaN                           NaN   \n",
      "3                           NaN                           NaN   \n",
      "4                           NaN                           NaN   \n",
      "\n",
      "   date_shop_avg_item_cnt_lag_6  date_shop_avg_item_cnt_lag_12  \\\n",
      "0                           NaN                            NaN   \n",
      "1                           NaN                            NaN   \n",
      "2                           NaN                            NaN   \n",
      "3                           NaN                            NaN   \n",
      "4                           NaN                            NaN   \n",
      "\n",
      "   date_cat_avg_item_cnt_lag_1  date_shop_cat_avg_item_cnt_lag_1  \n",
      "0                          NaN                               NaN  \n",
      "1                          NaN                               NaN  \n",
      "2                          NaN                               NaN  \n",
      "3                          NaN                               NaN  \n",
      "4                          NaN                               NaN  \n"
     ]
    },
    {
     "data": {
      "text/plain": [
       "8.014308452606201"
      ]
     },
     "execution_count": 24,
     "metadata": {},
     "output_type": "execute_result"
    }
   ],
   "source": [
    "# 해당 월에, 각각의 상점에서, 아이템 카테고리 단위로, 팔린 상품 갯수의 평균과 레그. (월, 상점, 아이템 카테고리) 단위\n",
    "ts = time.time()\n",
    "group = matrix.groupby(['date_block_num', 'shop_id', 'item_category_id']).agg({'item_cnt_month': ['mean']})\n",
    "group.columns = ['date_shop_cat_avg_item_cnt']\n",
    "group.reset_index(inplace=True)\n",
    "\n",
    "matrix = pd.merge(matrix, group, on=['date_block_num', 'shop_id', 'item_category_id'], how='left')\n",
    "matrix['date_shop_cat_avg_item_cnt'] = matrix['date_shop_cat_avg_item_cnt'].astype(np.float16)\n",
    "matrix = lag_feature(matrix, [1], 'date_shop_cat_avg_item_cnt')\n",
    "matrix.drop(['date_shop_cat_avg_item_cnt'], axis=1, inplace=True)\n",
    "print(matrix.head(5))\n",
    "time.time() - ts"
   ]
  },
  {
   "cell_type": "code",
   "execution_count": 25,
   "metadata": {
    "ExecuteTime": {
     "end_time": "2020-08-27T06:21:36.823557Z",
     "start_time": "2020-08-27T06:21:28.732819Z"
    },
    "tags": []
   },
   "outputs": [
    {
     "name": "stdout",
     "output_type": "stream",
     "text": [
      "   date_block_num  shop_id  item_id  item_cnt_month  city_code  \\\n",
      "0               0        2       19             0.0          0   \n",
      "1               0        2       27             1.0          0   \n",
      "2               0        2       28             0.0          0   \n",
      "3               0        2       29             0.0          0   \n",
      "4               0        2       32             0.0          0   \n",
      "\n",
      "   item_category_id  type_code  subtype_code  item_cnt_month_lag_1  \\\n",
      "0                40         11             4                   NaN   \n",
      "1                19          5            10                   NaN   \n",
      "2                30          8            55                   NaN   \n",
      "3                23          5            16                   NaN   \n",
      "4                40         11             4                   NaN   \n",
      "\n",
      "   item_cnt_month_lag_2  item_cnt_month_lag_3  item_cnt_month_lag_6  \\\n",
      "0                   NaN                   NaN                   NaN   \n",
      "1                   NaN                   NaN                   NaN   \n",
      "2                   NaN                   NaN                   NaN   \n",
      "3                   NaN                   NaN                   NaN   \n",
      "4                   NaN                   NaN                   NaN   \n",
      "\n",
      "   item_cnt_month_lag_12  date_avg_item_cnt_lag_1  \\\n",
      "0                    NaN                      NaN   \n",
      "1                    NaN                      NaN   \n",
      "2                    NaN                      NaN   \n",
      "3                    NaN                      NaN   \n",
      "4                    NaN                      NaN   \n",
      "\n",
      "   date_item_avg_item_cnt_lag_1  date_item_avg_item_cnt_lag_2  \\\n",
      "0                           NaN                           NaN   \n",
      "1                           NaN                           NaN   \n",
      "2                           NaN                           NaN   \n",
      "3                           NaN                           NaN   \n",
      "4                           NaN                           NaN   \n",
      "\n",
      "   date_item_avg_item_cnt_lag_3  date_item_avg_item_cnt_lag_6  \\\n",
      "0                           NaN                           NaN   \n",
      "1                           NaN                           NaN   \n",
      "2                           NaN                           NaN   \n",
      "3                           NaN                           NaN   \n",
      "4                           NaN                           NaN   \n",
      "\n",
      "   date_item_avg_item_cnt_lag_12  date_shop_avg_item_cnt_lag_1  \\\n",
      "0                            NaN                           NaN   \n",
      "1                            NaN                           NaN   \n",
      "2                            NaN                           NaN   \n",
      "3                            NaN                           NaN   \n",
      "4                            NaN                           NaN   \n",
      "\n",
      "   date_shop_avg_item_cnt_lag_2  date_shop_avg_item_cnt_lag_3  \\\n",
      "0                           NaN                           NaN   \n",
      "1                           NaN                           NaN   \n",
      "2                           NaN                           NaN   \n",
      "3                           NaN                           NaN   \n",
      "4                           NaN                           NaN   \n",
      "\n",
      "   date_shop_avg_item_cnt_lag_6  date_shop_avg_item_cnt_lag_12  \\\n",
      "0                           NaN                            NaN   \n",
      "1                           NaN                            NaN   \n",
      "2                           NaN                            NaN   \n",
      "3                           NaN                            NaN   \n",
      "4                           NaN                            NaN   \n",
      "\n",
      "   date_cat_avg_item_cnt_lag_1  date_shop_cat_avg_item_cnt_lag_1  \\\n",
      "0                          NaN                               NaN   \n",
      "1                          NaN                               NaN   \n",
      "2                          NaN                               NaN   \n",
      "3                          NaN                               NaN   \n",
      "4                          NaN                               NaN   \n",
      "\n",
      "   date_shop_type_avg_item_cnt_lag_1  \n",
      "0                                NaN  \n",
      "1                                NaN  \n",
      "2                                NaN  \n",
      "3                                NaN  \n",
      "4                                NaN  \n"
     ]
    },
    {
     "data": {
      "text/plain": [
       "8.086137533187866"
      ]
     },
     "execution_count": 25,
     "metadata": {},
     "output_type": "execute_result"
    }
   ],
   "source": [
    "# 해당 월에, 각각의 아이템 타입1 단위로, 팔린 상품 갯수의 평균과 레그. (월, 상점, 타입1) 단위\n",
    "ts = time.time()\n",
    "group = matrix.groupby(['date_block_num', 'shop_id', 'type_code']).agg({'item_cnt_month': ['mean']})\n",
    "group.columns = ['date_shop_type_avg_item_cnt']\n",
    "group.reset_index(inplace=True)\n",
    "\n",
    "matrix = pd.merge(matrix, group, on=['date_block_num', 'shop_id', 'type_code'], how='left')\n",
    "matrix['date_shop_type_avg_item_cnt'] = matrix['date_shop_type_avg_item_cnt'].astype(np.float16)\n",
    "matrix = lag_feature(matrix, [1], 'date_shop_type_avg_item_cnt')\n",
    "matrix.drop(['date_shop_type_avg_item_cnt'], axis=1, inplace=True)\n",
    "print(matrix.head(5))\n",
    "time.time() - ts"
   ]
  },
  {
   "cell_type": "code",
   "execution_count": 26,
   "metadata": {
    "ExecuteTime": {
     "end_time": "2020-08-27T06:21:45.096026Z",
     "start_time": "2020-08-27T06:21:36.824449Z"
    },
    "tags": []
   },
   "outputs": [
    {
     "name": "stdout",
     "output_type": "stream",
     "text": [
      "   date_block_num  shop_id  item_id  item_cnt_month  city_code  \\\n",
      "0               0        2       19             0.0          0   \n",
      "1               0        2       27             1.0          0   \n",
      "2               0        2       28             0.0          0   \n",
      "3               0        2       29             0.0          0   \n",
      "4               0        2       32             0.0          0   \n",
      "\n",
      "   item_category_id  type_code  subtype_code  item_cnt_month_lag_1  \\\n",
      "0                40         11             4                   NaN   \n",
      "1                19          5            10                   NaN   \n",
      "2                30          8            55                   NaN   \n",
      "3                23          5            16                   NaN   \n",
      "4                40         11             4                   NaN   \n",
      "\n",
      "   item_cnt_month_lag_2  item_cnt_month_lag_3  item_cnt_month_lag_6  \\\n",
      "0                   NaN                   NaN                   NaN   \n",
      "1                   NaN                   NaN                   NaN   \n",
      "2                   NaN                   NaN                   NaN   \n",
      "3                   NaN                   NaN                   NaN   \n",
      "4                   NaN                   NaN                   NaN   \n",
      "\n",
      "   item_cnt_month_lag_12  date_avg_item_cnt_lag_1  \\\n",
      "0                    NaN                      NaN   \n",
      "1                    NaN                      NaN   \n",
      "2                    NaN                      NaN   \n",
      "3                    NaN                      NaN   \n",
      "4                    NaN                      NaN   \n",
      "\n",
      "   date_item_avg_item_cnt_lag_1  date_item_avg_item_cnt_lag_2  \\\n",
      "0                           NaN                           NaN   \n",
      "1                           NaN                           NaN   \n",
      "2                           NaN                           NaN   \n",
      "3                           NaN                           NaN   \n",
      "4                           NaN                           NaN   \n",
      "\n",
      "   date_item_avg_item_cnt_lag_3  date_item_avg_item_cnt_lag_6  \\\n",
      "0                           NaN                           NaN   \n",
      "1                           NaN                           NaN   \n",
      "2                           NaN                           NaN   \n",
      "3                           NaN                           NaN   \n",
      "4                           NaN                           NaN   \n",
      "\n",
      "   date_item_avg_item_cnt_lag_12  date_shop_avg_item_cnt_lag_1  \\\n",
      "0                            NaN                           NaN   \n",
      "1                            NaN                           NaN   \n",
      "2                            NaN                           NaN   \n",
      "3                            NaN                           NaN   \n",
      "4                            NaN                           NaN   \n",
      "\n",
      "   date_shop_avg_item_cnt_lag_2  date_shop_avg_item_cnt_lag_3  \\\n",
      "0                           NaN                           NaN   \n",
      "1                           NaN                           NaN   \n",
      "2                           NaN                           NaN   \n",
      "3                           NaN                           NaN   \n",
      "4                           NaN                           NaN   \n",
      "\n",
      "   date_shop_avg_item_cnt_lag_6  date_shop_avg_item_cnt_lag_12  \\\n",
      "0                           NaN                            NaN   \n",
      "1                           NaN                            NaN   \n",
      "2                           NaN                            NaN   \n",
      "3                           NaN                            NaN   \n",
      "4                           NaN                            NaN   \n",
      "\n",
      "   date_cat_avg_item_cnt_lag_1  date_shop_cat_avg_item_cnt_lag_1  \\\n",
      "0                          NaN                               NaN   \n",
      "1                          NaN                               NaN   \n",
      "2                          NaN                               NaN   \n",
      "3                          NaN                               NaN   \n",
      "4                          NaN                               NaN   \n",
      "\n",
      "   date_shop_type_avg_item_cnt_lag_1  date_shop_subtype_avg_item_cnt_lag_1  \n",
      "0                                NaN                                   NaN  \n",
      "1                                NaN                                   NaN  \n",
      "2                                NaN                                   NaN  \n",
      "3                                NaN                                   NaN  \n",
      "4                                NaN                                   NaN  \n"
     ]
    },
    {
     "data": {
      "text/plain": [
       "8.266505718231201"
      ]
     },
     "execution_count": 26,
     "metadata": {},
     "output_type": "execute_result"
    }
   ],
   "source": [
    "ts = time.time()\n",
    "group = matrix.groupby(['date_block_num', 'shop_id', 'subtype_code']).agg({'item_cnt_month': ['mean']})\n",
    "group.columns = ['date_shop_subtype_avg_item_cnt']\n",
    "group.reset_index(inplace=True)\n",
    "\n",
    "matrix = pd.merge(matrix, group, on=['date_block_num', 'shop_id', 'subtype_code'], how='left')\n",
    "matrix['date_shop_subtype_avg_item_cnt'] = matrix['date_shop_subtype_avg_item_cnt'].astype(np.float16)\n",
    "matrix = lag_feature(matrix, [1], 'date_shop_subtype_avg_item_cnt')\n",
    "matrix.drop(['date_shop_subtype_avg_item_cnt'], axis=1, inplace=True)\n",
    "print(matrix.head(5))\n",
    "time.time() - ts"
   ]
  },
  {
   "cell_type": "code",
   "execution_count": 27,
   "metadata": {
    "ExecuteTime": {
     "end_time": "2020-08-27T06:21:53.383349Z",
     "start_time": "2020-08-27T06:21:45.096839Z"
    },
    "tags": []
   },
   "outputs": [
    {
     "name": "stdout",
     "output_type": "stream",
     "text": [
      "   date_block_num  shop_id  item_id  item_cnt_month  city_code  \\\n",
      "0               0        2       19             0.0          0   \n",
      "1               0        2       27             1.0          0   \n",
      "2               0        2       28             0.0          0   \n",
      "3               0        2       29             0.0          0   \n",
      "4               0        2       32             0.0          0   \n",
      "\n",
      "   item_category_id  type_code  subtype_code  item_cnt_month_lag_1  \\\n",
      "0                40         11             4                   NaN   \n",
      "1                19          5            10                   NaN   \n",
      "2                30          8            55                   NaN   \n",
      "3                23          5            16                   NaN   \n",
      "4                40         11             4                   NaN   \n",
      "\n",
      "   item_cnt_month_lag_2  item_cnt_month_lag_3  item_cnt_month_lag_6  \\\n",
      "0                   NaN                   NaN                   NaN   \n",
      "1                   NaN                   NaN                   NaN   \n",
      "2                   NaN                   NaN                   NaN   \n",
      "3                   NaN                   NaN                   NaN   \n",
      "4                   NaN                   NaN                   NaN   \n",
      "\n",
      "   item_cnt_month_lag_12  date_avg_item_cnt_lag_1  \\\n",
      "0                    NaN                      NaN   \n",
      "1                    NaN                      NaN   \n",
      "2                    NaN                      NaN   \n",
      "3                    NaN                      NaN   \n",
      "4                    NaN                      NaN   \n",
      "\n",
      "   date_item_avg_item_cnt_lag_1  date_item_avg_item_cnt_lag_2  \\\n",
      "0                           NaN                           NaN   \n",
      "1                           NaN                           NaN   \n",
      "2                           NaN                           NaN   \n",
      "3                           NaN                           NaN   \n",
      "4                           NaN                           NaN   \n",
      "\n",
      "   date_item_avg_item_cnt_lag_3  date_item_avg_item_cnt_lag_6  \\\n",
      "0                           NaN                           NaN   \n",
      "1                           NaN                           NaN   \n",
      "2                           NaN                           NaN   \n",
      "3                           NaN                           NaN   \n",
      "4                           NaN                           NaN   \n",
      "\n",
      "   date_item_avg_item_cnt_lag_12  date_shop_avg_item_cnt_lag_1  \\\n",
      "0                            NaN                           NaN   \n",
      "1                            NaN                           NaN   \n",
      "2                            NaN                           NaN   \n",
      "3                            NaN                           NaN   \n",
      "4                            NaN                           NaN   \n",
      "\n",
      "   date_shop_avg_item_cnt_lag_2  date_shop_avg_item_cnt_lag_3  \\\n",
      "0                           NaN                           NaN   \n",
      "1                           NaN                           NaN   \n",
      "2                           NaN                           NaN   \n",
      "3                           NaN                           NaN   \n",
      "4                           NaN                           NaN   \n",
      "\n",
      "   date_shop_avg_item_cnt_lag_6  date_shop_avg_item_cnt_lag_12  \\\n",
      "0                           NaN                            NaN   \n",
      "1                           NaN                            NaN   \n",
      "2                           NaN                            NaN   \n",
      "3                           NaN                            NaN   \n",
      "4                           NaN                            NaN   \n",
      "\n",
      "   date_cat_avg_item_cnt_lag_1  date_shop_cat_avg_item_cnt_lag_1  \\\n",
      "0                          NaN                               NaN   \n",
      "1                          NaN                               NaN   \n",
      "2                          NaN                               NaN   \n",
      "3                          NaN                               NaN   \n",
      "4                          NaN                               NaN   \n",
      "\n",
      "   date_shop_type_avg_item_cnt_lag_1  date_shop_subtype_avg_item_cnt_lag_1  \\\n",
      "0                                NaN                                   NaN   \n",
      "1                                NaN                                   NaN   \n",
      "2                                NaN                                   NaN   \n",
      "3                                NaN                                   NaN   \n",
      "4                                NaN                                   NaN   \n",
      "\n",
      "   date_city_avg_item_cnt_lag_1  \n",
      "0                           NaN  \n",
      "1                           NaN  \n",
      "2                           NaN  \n",
      "3                           NaN  \n",
      "4                           NaN  \n"
     ]
    },
    {
     "data": {
      "text/plain": [
       "8.281821727752686"
      ]
     },
     "execution_count": 27,
     "metadata": {},
     "output_type": "execute_result"
    }
   ],
   "source": [
    "ts = time.time()\n",
    "group = matrix.groupby(['date_block_num', 'city_code']).agg({'item_cnt_month': ['mean']})\n",
    "group.columns = [ 'date_city_avg_item_cnt' ]\n",
    "group.reset_index(inplace=True)\n",
    "\n",
    "matrix = pd.merge(matrix, group, on=['date_block_num', 'city_code'], how='left')\n",
    "matrix['date_city_avg_item_cnt'] = matrix['date_city_avg_item_cnt'].astype(np.float16)\n",
    "matrix = lag_feature(matrix, [1], 'date_city_avg_item_cnt')\n",
    "matrix.drop(['date_city_avg_item_cnt'], axis=1, inplace=True)\n",
    "print(matrix.head(5))\n",
    "time.time() - ts"
   ]
  },
  {
   "cell_type": "code",
   "execution_count": 28,
   "metadata": {
    "ExecuteTime": {
     "end_time": "2020-08-27T06:22:05.830647Z",
     "start_time": "2020-08-27T06:21:53.384902Z"
    },
    "tags": []
   },
   "outputs": [
    {
     "name": "stdout",
     "output_type": "stream",
     "text": [
      "   date_block_num  shop_id  item_id  item_cnt_month  city_code  \\\n",
      "0               0        2       19             0.0          0   \n",
      "1               0        2       27             1.0          0   \n",
      "2               0        2       28             0.0          0   \n",
      "3               0        2       29             0.0          0   \n",
      "4               0        2       32             0.0          0   \n",
      "\n",
      "   item_category_id  type_code  subtype_code  item_cnt_month_lag_1  \\\n",
      "0                40         11             4                   NaN   \n",
      "1                19          5            10                   NaN   \n",
      "2                30          8            55                   NaN   \n",
      "3                23          5            16                   NaN   \n",
      "4                40         11             4                   NaN   \n",
      "\n",
      "   item_cnt_month_lag_2  item_cnt_month_lag_3  item_cnt_month_lag_6  \\\n",
      "0                   NaN                   NaN                   NaN   \n",
      "1                   NaN                   NaN                   NaN   \n",
      "2                   NaN                   NaN                   NaN   \n",
      "3                   NaN                   NaN                   NaN   \n",
      "4                   NaN                   NaN                   NaN   \n",
      "\n",
      "   item_cnt_month_lag_12  date_avg_item_cnt_lag_1  \\\n",
      "0                    NaN                      NaN   \n",
      "1                    NaN                      NaN   \n",
      "2                    NaN                      NaN   \n",
      "3                    NaN                      NaN   \n",
      "4                    NaN                      NaN   \n",
      "\n",
      "   date_item_avg_item_cnt_lag_1  date_item_avg_item_cnt_lag_2  \\\n",
      "0                           NaN                           NaN   \n",
      "1                           NaN                           NaN   \n",
      "2                           NaN                           NaN   \n",
      "3                           NaN                           NaN   \n",
      "4                           NaN                           NaN   \n",
      "\n",
      "   date_item_avg_item_cnt_lag_3  date_item_avg_item_cnt_lag_6  \\\n",
      "0                           NaN                           NaN   \n",
      "1                           NaN                           NaN   \n",
      "2                           NaN                           NaN   \n",
      "3                           NaN                           NaN   \n",
      "4                           NaN                           NaN   \n",
      "\n",
      "   date_item_avg_item_cnt_lag_12  date_shop_avg_item_cnt_lag_1  \\\n",
      "0                            NaN                           NaN   \n",
      "1                            NaN                           NaN   \n",
      "2                            NaN                           NaN   \n",
      "3                            NaN                           NaN   \n",
      "4                            NaN                           NaN   \n",
      "\n",
      "   date_shop_avg_item_cnt_lag_2  date_shop_avg_item_cnt_lag_3  \\\n",
      "0                           NaN                           NaN   \n",
      "1                           NaN                           NaN   \n",
      "2                           NaN                           NaN   \n",
      "3                           NaN                           NaN   \n",
      "4                           NaN                           NaN   \n",
      "\n",
      "   date_shop_avg_item_cnt_lag_6  date_shop_avg_item_cnt_lag_12  \\\n",
      "0                           NaN                            NaN   \n",
      "1                           NaN                            NaN   \n",
      "2                           NaN                            NaN   \n",
      "3                           NaN                            NaN   \n",
      "4                           NaN                            NaN   \n",
      "\n",
      "   date_cat_avg_item_cnt_lag_1  date_shop_cat_avg_item_cnt_lag_1  \\\n",
      "0                          NaN                               NaN   \n",
      "1                          NaN                               NaN   \n",
      "2                          NaN                               NaN   \n",
      "3                          NaN                               NaN   \n",
      "4                          NaN                               NaN   \n",
      "\n",
      "   date_shop_type_avg_item_cnt_lag_1  date_shop_subtype_avg_item_cnt_lag_1  \\\n",
      "0                                NaN                                   NaN   \n",
      "1                                NaN                                   NaN   \n",
      "2                                NaN                                   NaN   \n",
      "3                                NaN                                   NaN   \n",
      "4                                NaN                                   NaN   \n",
      "\n",
      "   date_city_avg_item_cnt_lag_1  date_item_city_avg_item_cnt_lag_1  \n",
      "0                           NaN                                NaN  \n",
      "1                           NaN                                NaN  \n",
      "2                           NaN                                NaN  \n",
      "3                           NaN                                NaN  \n",
      "4                           NaN                                NaN  \n"
     ]
    },
    {
     "data": {
      "text/plain": [
       "12.43986439704895"
      ]
     },
     "execution_count": 28,
     "metadata": {},
     "output_type": "execute_result"
    }
   ],
   "source": [
    "ts = time.time()\n",
    "group = matrix.groupby(['date_block_num', 'item_id', 'city_code']).agg({'item_cnt_month': ['mean']})\n",
    "group.columns = [ 'date_item_city_avg_item_cnt' ]\n",
    "group.reset_index(inplace=True)\n",
    "\n",
    "matrix = pd.merge(matrix, group, on=['date_block_num', 'item_id', 'city_code'], how='left')\n",
    "matrix['date_item_city_avg_item_cnt'] = matrix['date_item_city_avg_item_cnt'].astype(np.float16)\n",
    "matrix = lag_feature(matrix, [1], 'date_item_city_avg_item_cnt')\n",
    "matrix.drop(['date_item_city_avg_item_cnt'], axis=1, inplace=True)\n",
    "print(matrix.head(5))\n",
    "time.time() - ts"
   ]
  },
  {
   "cell_type": "code",
   "execution_count": 29,
   "metadata": {
    "ExecuteTime": {
     "end_time": "2020-08-27T06:22:14.410673Z",
     "start_time": "2020-08-27T06:22:05.832011Z"
    },
    "tags": []
   },
   "outputs": [
    {
     "name": "stdout",
     "output_type": "stream",
     "text": [
      "   date_block_num  shop_id  item_id  item_cnt_month  city_code  \\\n",
      "0               0        2       19             0.0          0   \n",
      "1               0        2       27             1.0          0   \n",
      "2               0        2       28             0.0          0   \n",
      "3               0        2       29             0.0          0   \n",
      "4               0        2       32             0.0          0   \n",
      "\n",
      "   item_category_id  type_code  subtype_code  item_cnt_month_lag_1  \\\n",
      "0                40         11             4                   NaN   \n",
      "1                19          5            10                   NaN   \n",
      "2                30          8            55                   NaN   \n",
      "3                23          5            16                   NaN   \n",
      "4                40         11             4                   NaN   \n",
      "\n",
      "   item_cnt_month_lag_2  item_cnt_month_lag_3  item_cnt_month_lag_6  \\\n",
      "0                   NaN                   NaN                   NaN   \n",
      "1                   NaN                   NaN                   NaN   \n",
      "2                   NaN                   NaN                   NaN   \n",
      "3                   NaN                   NaN                   NaN   \n",
      "4                   NaN                   NaN                   NaN   \n",
      "\n",
      "   item_cnt_month_lag_12  date_avg_item_cnt_lag_1  \\\n",
      "0                    NaN                      NaN   \n",
      "1                    NaN                      NaN   \n",
      "2                    NaN                      NaN   \n",
      "3                    NaN                      NaN   \n",
      "4                    NaN                      NaN   \n",
      "\n",
      "   date_item_avg_item_cnt_lag_1  date_item_avg_item_cnt_lag_2  \\\n",
      "0                           NaN                           NaN   \n",
      "1                           NaN                           NaN   \n",
      "2                           NaN                           NaN   \n",
      "3                           NaN                           NaN   \n",
      "4                           NaN                           NaN   \n",
      "\n",
      "   date_item_avg_item_cnt_lag_3  date_item_avg_item_cnt_lag_6  \\\n",
      "0                           NaN                           NaN   \n",
      "1                           NaN                           NaN   \n",
      "2                           NaN                           NaN   \n",
      "3                           NaN                           NaN   \n",
      "4                           NaN                           NaN   \n",
      "\n",
      "   date_item_avg_item_cnt_lag_12  date_shop_avg_item_cnt_lag_1  \\\n",
      "0                            NaN                           NaN   \n",
      "1                            NaN                           NaN   \n",
      "2                            NaN                           NaN   \n",
      "3                            NaN                           NaN   \n",
      "4                            NaN                           NaN   \n",
      "\n",
      "   date_shop_avg_item_cnt_lag_2  date_shop_avg_item_cnt_lag_3  \\\n",
      "0                           NaN                           NaN   \n",
      "1                           NaN                           NaN   \n",
      "2                           NaN                           NaN   \n",
      "3                           NaN                           NaN   \n",
      "4                           NaN                           NaN   \n",
      "\n",
      "   date_shop_avg_item_cnt_lag_6  date_shop_avg_item_cnt_lag_12  \\\n",
      "0                           NaN                            NaN   \n",
      "1                           NaN                            NaN   \n",
      "2                           NaN                            NaN   \n",
      "3                           NaN                            NaN   \n",
      "4                           NaN                            NaN   \n",
      "\n",
      "   date_cat_avg_item_cnt_lag_1  date_shop_cat_avg_item_cnt_lag_1  \\\n",
      "0                          NaN                               NaN   \n",
      "1                          NaN                               NaN   \n",
      "2                          NaN                               NaN   \n",
      "3                          NaN                               NaN   \n",
      "4                          NaN                               NaN   \n",
      "\n",
      "   date_shop_type_avg_item_cnt_lag_1  date_shop_subtype_avg_item_cnt_lag_1  \\\n",
      "0                                NaN                                   NaN   \n",
      "1                                NaN                                   NaN   \n",
      "2                                NaN                                   NaN   \n",
      "3                                NaN                                   NaN   \n",
      "4                                NaN                                   NaN   \n",
      "\n",
      "   date_city_avg_item_cnt_lag_1  date_item_city_avg_item_cnt_lag_1  \\\n",
      "0                           NaN                                NaN   \n",
      "1                           NaN                                NaN   \n",
      "2                           NaN                                NaN   \n",
      "3                           NaN                                NaN   \n",
      "4                           NaN                                NaN   \n",
      "\n",
      "   date_type_avg_item_cnt_lag_1  \n",
      "0                           NaN  \n",
      "1                           NaN  \n",
      "2                           NaN  \n",
      "3                           NaN  \n",
      "4                           NaN  \n"
     ]
    },
    {
     "data": {
      "text/plain": [
       "8.573117733001709"
      ]
     },
     "execution_count": 29,
     "metadata": {},
     "output_type": "execute_result"
    }
   ],
   "source": [
    "ts = time.time()\n",
    "group = matrix.groupby(['date_block_num', 'type_code']).agg({'item_cnt_month': ['mean']})\n",
    "group.columns = [ 'date_type_avg_item_cnt' ]\n",
    "group.reset_index(inplace=True)\n",
    "\n",
    "matrix = pd.merge(matrix, group, on=['date_block_num', 'type_code'], how='left')\n",
    "matrix['date_type_avg_item_cnt'] = matrix['date_type_avg_item_cnt'].astype(np.float16)\n",
    "matrix = lag_feature(matrix, [1], 'date_type_avg_item_cnt')\n",
    "matrix.drop(['date_type_avg_item_cnt'], axis=1, inplace=True)\n",
    "print(matrix.head(5))\n",
    "time.time() - ts"
   ]
  },
  {
   "cell_type": "code",
   "execution_count": 30,
   "metadata": {
    "ExecuteTime": {
     "end_time": "2020-08-27T06:22:22.882980Z",
     "start_time": "2020-08-27T06:22:14.411555Z"
    },
    "tags": []
   },
   "outputs": [
    {
     "name": "stdout",
     "output_type": "stream",
     "text": [
      "   date_block_num  shop_id  item_id  item_cnt_month  city_code  \\\n",
      "0               0        2       19             0.0          0   \n",
      "1               0        2       27             1.0          0   \n",
      "2               0        2       28             0.0          0   \n",
      "3               0        2       29             0.0          0   \n",
      "4               0        2       32             0.0          0   \n",
      "\n",
      "   item_category_id  type_code  subtype_code  item_cnt_month_lag_1  \\\n",
      "0                40         11             4                   NaN   \n",
      "1                19          5            10                   NaN   \n",
      "2                30          8            55                   NaN   \n",
      "3                23          5            16                   NaN   \n",
      "4                40         11             4                   NaN   \n",
      "\n",
      "   item_cnt_month_lag_2  item_cnt_month_lag_3  item_cnt_month_lag_6  \\\n",
      "0                   NaN                   NaN                   NaN   \n",
      "1                   NaN                   NaN                   NaN   \n",
      "2                   NaN                   NaN                   NaN   \n",
      "3                   NaN                   NaN                   NaN   \n",
      "4                   NaN                   NaN                   NaN   \n",
      "\n",
      "   item_cnt_month_lag_12  date_avg_item_cnt_lag_1  \\\n",
      "0                    NaN                      NaN   \n",
      "1                    NaN                      NaN   \n",
      "2                    NaN                      NaN   \n",
      "3                    NaN                      NaN   \n",
      "4                    NaN                      NaN   \n",
      "\n",
      "   date_item_avg_item_cnt_lag_1  date_item_avg_item_cnt_lag_2  \\\n",
      "0                           NaN                           NaN   \n",
      "1                           NaN                           NaN   \n",
      "2                           NaN                           NaN   \n",
      "3                           NaN                           NaN   \n",
      "4                           NaN                           NaN   \n",
      "\n",
      "   date_item_avg_item_cnt_lag_3  date_item_avg_item_cnt_lag_6  \\\n",
      "0                           NaN                           NaN   \n",
      "1                           NaN                           NaN   \n",
      "2                           NaN                           NaN   \n",
      "3                           NaN                           NaN   \n",
      "4                           NaN                           NaN   \n",
      "\n",
      "   date_item_avg_item_cnt_lag_12  date_shop_avg_item_cnt_lag_1  \\\n",
      "0                            NaN                           NaN   \n",
      "1                            NaN                           NaN   \n",
      "2                            NaN                           NaN   \n",
      "3                            NaN                           NaN   \n",
      "4                            NaN                           NaN   \n",
      "\n",
      "   date_shop_avg_item_cnt_lag_2  date_shop_avg_item_cnt_lag_3  \\\n",
      "0                           NaN                           NaN   \n",
      "1                           NaN                           NaN   \n",
      "2                           NaN                           NaN   \n",
      "3                           NaN                           NaN   \n",
      "4                           NaN                           NaN   \n",
      "\n",
      "   date_shop_avg_item_cnt_lag_6  date_shop_avg_item_cnt_lag_12  \\\n",
      "0                           NaN                            NaN   \n",
      "1                           NaN                            NaN   \n",
      "2                           NaN                            NaN   \n",
      "3                           NaN                            NaN   \n",
      "4                           NaN                            NaN   \n",
      "\n",
      "   date_cat_avg_item_cnt_lag_1  date_shop_cat_avg_item_cnt_lag_1  \\\n",
      "0                          NaN                               NaN   \n",
      "1                          NaN                               NaN   \n",
      "2                          NaN                               NaN   \n",
      "3                          NaN                               NaN   \n",
      "4                          NaN                               NaN   \n",
      "\n",
      "   date_shop_type_avg_item_cnt_lag_1  date_shop_subtype_avg_item_cnt_lag_1  \\\n",
      "0                                NaN                                   NaN   \n",
      "1                                NaN                                   NaN   \n",
      "2                                NaN                                   NaN   \n",
      "3                                NaN                                   NaN   \n",
      "4                                NaN                                   NaN   \n",
      "\n",
      "   date_city_avg_item_cnt_lag_1  date_item_city_avg_item_cnt_lag_1  \\\n",
      "0                           NaN                                NaN   \n",
      "1                           NaN                                NaN   \n",
      "2                           NaN                                NaN   \n",
      "3                           NaN                                NaN   \n",
      "4                           NaN                                NaN   \n",
      "\n",
      "   date_type_avg_item_cnt_lag_1  date_subtype_avg_item_cnt_lag_1  \n",
      "0                           NaN                              NaN  \n",
      "1                           NaN                              NaN  \n",
      "2                           NaN                              NaN  \n",
      "3                           NaN                              NaN  \n",
      "4                           NaN                              NaN  \n"
     ]
    },
    {
     "data": {
      "text/plain": [
       "8.466843128204346"
      ]
     },
     "execution_count": 30,
     "metadata": {},
     "output_type": "execute_result"
    }
   ],
   "source": [
    "ts = time.time()\n",
    "group = matrix.groupby(['date_block_num', 'subtype_code']).agg({'item_cnt_month': ['mean']})\n",
    "group.columns = [ 'date_subtype_avg_item_cnt' ]\n",
    "group.reset_index(inplace=True)\n",
    "\n",
    "matrix = pd.merge(matrix, group, on=['date_block_num', 'subtype_code'], how='left')\n",
    "matrix['date_subtype_avg_item_cnt'] = matrix['date_subtype_avg_item_cnt'].astype(np.float16)\n",
    "matrix = lag_feature(matrix, [1], 'date_subtype_avg_item_cnt')\n",
    "matrix.drop(['date_subtype_avg_item_cnt'], axis=1, inplace=True)\n",
    "print(matrix.head(5))\n",
    "time.time() - ts"
   ]
  },
  {
   "cell_type": "markdown",
   "metadata": {},
   "source": [
    "### Trend features\n",
    "price trend for the last six months"
   ]
  },
  {
   "cell_type": "code",
   "execution_count": 31,
   "metadata": {
    "ExecuteTime": {
     "end_time": "2020-08-27T06:26:48.965038Z",
     "start_time": "2020-08-27T06:22:22.883831Z"
    }
   },
   "outputs": [
    {
     "name": "stdout",
     "output_type": "stream",
     "text": [
      "   date_block_num  shop_id  item_id  item_cnt_month  city_code  \\\n",
      "0               0        2       19             0.0          0   \n",
      "1               0        2       27             1.0          0   \n",
      "2               0        2       28             0.0          0   \n",
      "3               0        2       29             0.0          0   \n",
      "4               0        2       32             0.0          0   \n",
      "\n",
      "   item_category_id  type_code  subtype_code  item_cnt_month_lag_1  \\\n",
      "0                40         11             4                   NaN   \n",
      "1                19          5            10                   NaN   \n",
      "2                30          8            55                   NaN   \n",
      "3                23          5            16                   NaN   \n",
      "4                40         11             4                   NaN   \n",
      "\n",
      "   item_cnt_month_lag_2  item_cnt_month_lag_3  item_cnt_month_lag_6  \\\n",
      "0                   NaN                   NaN                   NaN   \n",
      "1                   NaN                   NaN                   NaN   \n",
      "2                   NaN                   NaN                   NaN   \n",
      "3                   NaN                   NaN                   NaN   \n",
      "4                   NaN                   NaN                   NaN   \n",
      "\n",
      "   item_cnt_month_lag_12  date_avg_item_cnt_lag_1  \\\n",
      "0                    NaN                      NaN   \n",
      "1                    NaN                      NaN   \n",
      "2                    NaN                      NaN   \n",
      "3                    NaN                      NaN   \n",
      "4                    NaN                      NaN   \n",
      "\n",
      "   date_item_avg_item_cnt_lag_1  date_item_avg_item_cnt_lag_2  \\\n",
      "0                           NaN                           NaN   \n",
      "1                           NaN                           NaN   \n",
      "2                           NaN                           NaN   \n",
      "3                           NaN                           NaN   \n",
      "4                           NaN                           NaN   \n",
      "\n",
      "   date_item_avg_item_cnt_lag_3  date_item_avg_item_cnt_lag_6  \\\n",
      "0                           NaN                           NaN   \n",
      "1                           NaN                           NaN   \n",
      "2                           NaN                           NaN   \n",
      "3                           NaN                           NaN   \n",
      "4                           NaN                           NaN   \n",
      "\n",
      "   date_item_avg_item_cnt_lag_12  date_shop_avg_item_cnt_lag_1  \\\n",
      "0                            NaN                           NaN   \n",
      "1                            NaN                           NaN   \n",
      "2                            NaN                           NaN   \n",
      "3                            NaN                           NaN   \n",
      "4                            NaN                           NaN   \n",
      "\n",
      "   date_shop_avg_item_cnt_lag_2  date_shop_avg_item_cnt_lag_3  \\\n",
      "0                           NaN                           NaN   \n",
      "1                           NaN                           NaN   \n",
      "2                           NaN                           NaN   \n",
      "3                           NaN                           NaN   \n",
      "4                           NaN                           NaN   \n",
      "\n",
      "   date_shop_avg_item_cnt_lag_6  date_shop_avg_item_cnt_lag_12  \\\n",
      "0                           NaN                            NaN   \n",
      "1                           NaN                            NaN   \n",
      "2                           NaN                            NaN   \n",
      "3                           NaN                            NaN   \n",
      "4                           NaN                            NaN   \n",
      "\n",
      "   date_cat_avg_item_cnt_lag_1  date_shop_cat_avg_item_cnt_lag_1  \\\n",
      "0                          NaN                               NaN   \n",
      "1                          NaN                               NaN   \n",
      "2                          NaN                               NaN   \n",
      "3                          NaN                               NaN   \n",
      "4                          NaN                               NaN   \n",
      "\n",
      "   date_shop_type_avg_item_cnt_lag_1  date_shop_subtype_avg_item_cnt_lag_1  \\\n",
      "0                                NaN                                   NaN   \n",
      "1                                NaN                                   NaN   \n",
      "2                                NaN                                   NaN   \n",
      "3                                NaN                                   NaN   \n",
      "4                                NaN                                   NaN   \n",
      "\n",
      "   date_city_avg_item_cnt_lag_1  date_item_city_avg_item_cnt_lag_1  \\\n",
      "0                           NaN                                NaN   \n",
      "1                           NaN                                NaN   \n",
      "2                           NaN                                NaN   \n",
      "3                           NaN                                NaN   \n",
      "4                           NaN                                NaN   \n",
      "\n",
      "   date_type_avg_item_cnt_lag_1  date_subtype_avg_item_cnt_lag_1  \\\n",
      "0                           NaN                              NaN   \n",
      "1                           NaN                              NaN   \n",
      "2                           NaN                              NaN   \n",
      "3                           NaN                              NaN   \n",
      "4                           NaN                              NaN   \n",
      "\n",
      "   delta_price_lag  \n",
      "0              0.0  \n",
      "1              0.0  \n",
      "2              0.0  \n",
      "3              0.0  \n",
      "4              0.0  \n"
     ]
    },
    {
     "data": {
      "text/plain": [
       "266.06709909439087"
      ]
     },
     "execution_count": 31,
     "metadata": {},
     "output_type": "execute_result"
    }
   ],
   "source": [
    "ts = time.time()\n",
    "group = train.groupby(['item_id']).agg({'item_price': ['mean']})\n",
    "group.columns = ['item_avg_item_price']\n",
    "group.reset_index(inplace=True)\n",
    "\n",
    "matrix = pd.merge(matrix, group, on=['item_id'], how='left')\n",
    "matrix['item_avg_item_price'] = matrix['item_avg_item_price'].astype(np.float16)\n",
    "\n",
    "group = train.groupby(['date_block_num','item_id']).agg({'item_price': ['mean']})\n",
    "group.columns = ['date_item_avg_item_price']\n",
    "group.reset_index(inplace=True)\n",
    "\n",
    "matrix = pd.merge(matrix, group, on=['date_block_num','item_id'], how='left')\n",
    "matrix['date_item_avg_item_price'] = matrix['date_item_avg_item_price'].astype(np.float16)\n",
    "\n",
    "lags = [1,2,3,4,5,6]\n",
    "matrix = lag_feature(matrix, lags, 'date_item_avg_item_price')\n",
    "for i in lags:\n",
    "    matrix['delta_price_lag_'+str(i)] = \\\n",
    "        (matrix['date_item_avg_item_price_lag_'+str(i)] - matrix['item_avg_item_price']) / matrix['item_avg_item_price']\n",
    "\n",
    "def select_trend(row):\n",
    "    for i in lags:\n",
    "        if row['delta_price_lag_'+str(i)]:\n",
    "            return row['delta_price_lag_'+str(i)]\n",
    "    return 0\n",
    "    \n",
    "matrix['delta_price_lag'] = matrix.apply(select_trend, axis=1)\n",
    "matrix['delta_price_lag'] = matrix['delta_price_lag'].astype(np.float16)\n",
    "matrix['delta_price_lag'].fillna(0, inplace=True)\n",
    "\n",
    "# https://stackoverflow.com/questions/31828240/first-non-null-value-per-row-from-a-list-of-pandas-columns/31828559\n",
    "# matrix['price_trend'] = matrix[['delta_price_lag_1','delta_price_lag_2','delta_price_lag_3']].bfill(axis=1).iloc[:, 0]\n",
    "# Invalid dtype for backfill_2d [float16]\n",
    "\n",
    "fetures_to_drop = ['item_avg_item_price', 'date_item_avg_item_price']\n",
    "for i in lags:\n",
    "    fetures_to_drop += ['date_item_avg_item_price_lag_'+str(i)]\n",
    "    fetures_to_drop += ['delta_price_lag_'+str(i)]\n",
    "\n",
    "matrix.drop(fetures_to_drop, axis=1, inplace=True)\n",
    "print(matrix.head(5))\n",
    "time.time() - ts"
   ]
  },
  {
   "cell_type": "markdown",
   "metadata": {},
   "source": [
    "Last month shop revenue trend"
   ]
  },
  {
   "cell_type": "code",
   "execution_count": 32,
   "metadata": {
    "ExecuteTime": {
     "end_time": "2020-08-27T06:26:58.723666Z",
     "start_time": "2020-08-27T06:26:48.966456Z"
    }
   },
   "outputs": [
    {
     "name": "stdout",
     "output_type": "stream",
     "text": [
      "   date_block_num  shop_id  item_id  item_cnt_month  city_code  \\\n",
      "0               0        2       19             0.0          0   \n",
      "1               0        2       27             1.0          0   \n",
      "2               0        2       28             0.0          0   \n",
      "3               0        2       29             0.0          0   \n",
      "4               0        2       32             0.0          0   \n",
      "\n",
      "   item_category_id  type_code  subtype_code  item_cnt_month_lag_1  \\\n",
      "0                40         11             4                   NaN   \n",
      "1                19          5            10                   NaN   \n",
      "2                30          8            55                   NaN   \n",
      "3                23          5            16                   NaN   \n",
      "4                40         11             4                   NaN   \n",
      "\n",
      "   item_cnt_month_lag_2  item_cnt_month_lag_3  item_cnt_month_lag_6  \\\n",
      "0                   NaN                   NaN                   NaN   \n",
      "1                   NaN                   NaN                   NaN   \n",
      "2                   NaN                   NaN                   NaN   \n",
      "3                   NaN                   NaN                   NaN   \n",
      "4                   NaN                   NaN                   NaN   \n",
      "\n",
      "   item_cnt_month_lag_12  date_avg_item_cnt_lag_1  \\\n",
      "0                    NaN                      NaN   \n",
      "1                    NaN                      NaN   \n",
      "2                    NaN                      NaN   \n",
      "3                    NaN                      NaN   \n",
      "4                    NaN                      NaN   \n",
      "\n",
      "   date_item_avg_item_cnt_lag_1  date_item_avg_item_cnt_lag_2  \\\n",
      "0                           NaN                           NaN   \n",
      "1                           NaN                           NaN   \n",
      "2                           NaN                           NaN   \n",
      "3                           NaN                           NaN   \n",
      "4                           NaN                           NaN   \n",
      "\n",
      "   date_item_avg_item_cnt_lag_3  date_item_avg_item_cnt_lag_6  \\\n",
      "0                           NaN                           NaN   \n",
      "1                           NaN                           NaN   \n",
      "2                           NaN                           NaN   \n",
      "3                           NaN                           NaN   \n",
      "4                           NaN                           NaN   \n",
      "\n",
      "   date_item_avg_item_cnt_lag_12  date_shop_avg_item_cnt_lag_1  \\\n",
      "0                            NaN                           NaN   \n",
      "1                            NaN                           NaN   \n",
      "2                            NaN                           NaN   \n",
      "3                            NaN                           NaN   \n",
      "4                            NaN                           NaN   \n",
      "\n",
      "   date_shop_avg_item_cnt_lag_2  date_shop_avg_item_cnt_lag_3  \\\n",
      "0                           NaN                           NaN   \n",
      "1                           NaN                           NaN   \n",
      "2                           NaN                           NaN   \n",
      "3                           NaN                           NaN   \n",
      "4                           NaN                           NaN   \n",
      "\n",
      "   date_shop_avg_item_cnt_lag_6  date_shop_avg_item_cnt_lag_12  \\\n",
      "0                           NaN                            NaN   \n",
      "1                           NaN                            NaN   \n",
      "2                           NaN                            NaN   \n",
      "3                           NaN                            NaN   \n",
      "4                           NaN                            NaN   \n",
      "\n",
      "   date_cat_avg_item_cnt_lag_1  date_shop_cat_avg_item_cnt_lag_1  \\\n",
      "0                          NaN                               NaN   \n",
      "1                          NaN                               NaN   \n",
      "2                          NaN                               NaN   \n",
      "3                          NaN                               NaN   \n",
      "4                          NaN                               NaN   \n",
      "\n",
      "   date_shop_type_avg_item_cnt_lag_1  date_shop_subtype_avg_item_cnt_lag_1  \\\n",
      "0                                NaN                                   NaN   \n",
      "1                                NaN                                   NaN   \n",
      "2                                NaN                                   NaN   \n",
      "3                                NaN                                   NaN   \n",
      "4                                NaN                                   NaN   \n",
      "\n",
      "   date_city_avg_item_cnt_lag_1  date_item_city_avg_item_cnt_lag_1  \\\n",
      "0                           NaN                                NaN   \n",
      "1                           NaN                                NaN   \n",
      "2                           NaN                                NaN   \n",
      "3                           NaN                                NaN   \n",
      "4                           NaN                                NaN   \n",
      "\n",
      "   date_type_avg_item_cnt_lag_1  date_subtype_avg_item_cnt_lag_1  \\\n",
      "0                           NaN                              NaN   \n",
      "1                           NaN                              NaN   \n",
      "2                           NaN                              NaN   \n",
      "3                           NaN                              NaN   \n",
      "4                           NaN                              NaN   \n",
      "\n",
      "   delta_price_lag  delta_revenue_lag_1  \n",
      "0              0.0                  NaN  \n",
      "1              0.0                  NaN  \n",
      "2              0.0                  NaN  \n",
      "3              0.0                  NaN  \n",
      "4              0.0                  NaN  \n"
     ]
    },
    {
     "data": {
      "text/plain": [
       "275.82720947265625"
      ]
     },
     "execution_count": 32,
     "metadata": {},
     "output_type": "execute_result"
    }
   ],
   "source": [
    "group = train.groupby(['date_block_num','shop_id']).agg({'revenue': ['sum']})\n",
    "group.columns = ['date_shop_revenue']\n",
    "group.reset_index(inplace=True)\n",
    "\n",
    "matrix = pd.merge(matrix, group, on=['date_block_num','shop_id'], how='left')\n",
    "matrix['date_shop_revenue'] = matrix['date_shop_revenue'].astype(np.float32)\n",
    "\n",
    "group = group.groupby(['shop_id']).agg({'date_shop_revenue': ['mean']})\n",
    "group.columns = ['shop_avg_revenue']\n",
    "group.reset_index(inplace=True)\n",
    "\n",
    "matrix = pd.merge(matrix, group, on=['shop_id'], how='left')\n",
    "matrix['shop_avg_revenue'] = matrix['shop_avg_revenue'].astype(np.float32)\n",
    "\n",
    "matrix['delta_revenue'] = (matrix['date_shop_revenue'] - matrix['shop_avg_revenue']) / matrix['shop_avg_revenue']\n",
    "matrix['delta_revenue'] = matrix['delta_revenue'].astype(np.float16)\n",
    "\n",
    "matrix = lag_feature(matrix, [1], 'delta_revenue')\n",
    "\n",
    "matrix.drop(['date_shop_revenue','shop_avg_revenue','delta_revenue'], axis=1, inplace=True)\n",
    "print(matrix.head(5))\n",
    "time.time() - ts"
   ]
  },
  {
   "cell_type": "markdown",
   "metadata": {},
   "source": [
    "### Special features\n",
    "Number of days in a month. There are no leap years."
   ]
  },
  {
   "cell_type": "code",
   "execution_count": 33,
   "metadata": {
    "ExecuteTime": {
     "end_time": "2020-08-27T06:26:58.756880Z",
     "start_time": "2020-08-27T06:26:58.724604Z"
    }
   },
   "outputs": [],
   "source": [
    "matrix['month'] = matrix['date_block_num'] % 12"
   ]
  },
  {
   "cell_type": "code",
   "execution_count": 34,
   "metadata": {
    "ExecuteTime": {
     "end_time": "2020-08-27T06:26:58.898831Z",
     "start_time": "2020-08-27T06:26:58.757977Z"
    }
   },
   "outputs": [],
   "source": [
    "days = pd.Series([31,28,31,30,31,30,31,31,30,31,30,31])\n",
    "matrix['days'] = matrix['month'].map(days).astype(np.int8)"
   ]
  },
  {
   "cell_type": "code",
   "execution_count": 35,
   "metadata": {
    "ExecuteTime": {
     "end_time": "2020-08-27T06:26:58.902300Z",
     "start_time": "2020-08-27T06:26:58.899722Z"
    }
   },
   "outputs": [
    {
     "data": {
      "text/plain": [
       "Index(['date_block_num', 'shop_id', 'item_id', 'item_cnt_month', 'city_code',\n",
       "       'item_category_id', 'type_code', 'subtype_code', 'item_cnt_month_lag_1',\n",
       "       'item_cnt_month_lag_2', 'item_cnt_month_lag_3', 'item_cnt_month_lag_6',\n",
       "       'item_cnt_month_lag_12', 'date_avg_item_cnt_lag_1',\n",
       "       'date_item_avg_item_cnt_lag_1', 'date_item_avg_item_cnt_lag_2',\n",
       "       'date_item_avg_item_cnt_lag_3', 'date_item_avg_item_cnt_lag_6',\n",
       "       'date_item_avg_item_cnt_lag_12', 'date_shop_avg_item_cnt_lag_1',\n",
       "       'date_shop_avg_item_cnt_lag_2', 'date_shop_avg_item_cnt_lag_3',\n",
       "       'date_shop_avg_item_cnt_lag_6', 'date_shop_avg_item_cnt_lag_12',\n",
       "       'date_cat_avg_item_cnt_lag_1', 'date_shop_cat_avg_item_cnt_lag_1',\n",
       "       'date_shop_type_avg_item_cnt_lag_1',\n",
       "       'date_shop_subtype_avg_item_cnt_lag_1', 'date_city_avg_item_cnt_lag_1',\n",
       "       'date_item_city_avg_item_cnt_lag_1', 'date_type_avg_item_cnt_lag_1',\n",
       "       'date_subtype_avg_item_cnt_lag_1', 'delta_price_lag',\n",
       "       'delta_revenue_lag_1', 'month', 'days'],\n",
       "      dtype='object')"
      ]
     },
     "execution_count": 35,
     "metadata": {},
     "output_type": "execute_result"
    }
   ],
   "source": [
    "matrix.columns"
   ]
  },
  {
   "cell_type": "markdown",
   "metadata": {},
   "source": [
    "Months since the last sale for each shop/item pair and for item only.\n",
    "\n",
    "Create HashTable with key equals to {shop_id,item_id} and value equals to date_block_num. Iterate data from the top. Foreach row if {row.shop_id,row.item_id} is not present in the table, then add it to the table and set its value to row.date_block_num. if HashTable contains key, then calculate the difference beteween cached value and row.date_block_num.\n",
    "\n",
    "\n",
    "item_shop_last_sale   \n",
    "=> 임시 hash table 생성 (cache)   \n",
    "=> \"<item_id> <shop_id>\" 모양으로 키를 만들고   \n",
    "=> 해당 키가 없고, item이 팔린 양이 0이 아니라면 새로 추가   \n",
    "=> key 가 있다면, 지난번에 물건이 팔린 날과 이번에 물건이 팔린 날의 차이 값을 집어넣는다.   \n",
    "=> 그리고 cache 에 이번에 팔린 날의 값을 집어넣는다.   \n",
    "\n",
    "item_last_sale   \n",
    "=> 위와 비슷한 방법으로, 이번에 팔린 날이 이미 기록된 팔린 날보다 후라면, 값을 교체해주는 방식"
   ]
  },
  {
   "cell_type": "code",
   "execution_count": 36,
   "metadata": {
    "ExecuteTime": {
     "end_time": "2020-08-27T06:26:58.906828Z",
     "start_time": "2020-08-27T06:26:58.903085Z"
    }
   },
   "outputs": [],
   "source": [
    "## 근데, 일단 이거 돌리면 커널 죽어서 패스\n",
    "# ts = time.time()\n",
    "# cache = {}\n",
    "# matrix['item_shop_last_sale'] = -1\n",
    "# matrix['item_shop_last_sale'] = matrix['item_shop_last_sale'].astype(np.int8)\n",
    "# for idx, row in matrix.iterrows():    \n",
    "#     key = str(row.item_id)+' '+str(row.shop_id)\n",
    "#     if key not in cache:\n",
    "#         if row.item_cnt_month!=0:\n",
    "#             cache[key] = row.date_block_num\n",
    "#     else:\n",
    "#         last_date_block_num = cache[key]\n",
    "#         matrix.at[idx, 'item_shop_last_sale'] = row.date_block_num - last_date_block_num\n",
    "#         cache[key] = row.date_block_num         \n",
    "# time.time() - ts"
   ]
  },
  {
   "cell_type": "code",
   "execution_count": 37,
   "metadata": {
    "ExecuteTime": {
     "end_time": "2020-08-27T06:26:58.911996Z",
     "start_time": "2020-08-27T06:26:58.907763Z"
    }
   },
   "outputs": [],
   "source": [
    "## 근데, 일단 이거 돌리면 커널 죽어서 패스\n",
    "# ts = time.time()\n",
    "# cache = {}\n",
    "# matrix['item_last_sale'] = -1\n",
    "# matrix['item_last_sale'] = matrix['item_last_sale'].astype(np.int8)\n",
    "# for idx, row in matrix.iterrows():    \n",
    "#     key = row.item_id\n",
    "#     if key not in cache:\n",
    "#         if row.item_cnt_month!=0:\n",
    "#             cache[key] = row.date_block_num\n",
    "#     else:\n",
    "#         last_date_block_num = cache[key]\n",
    "#         if row.date_block_num>last_date_block_num:\n",
    "#             matrix.at[idx, 'item_last_sale'] = row.date_block_num - last_date_block_num\n",
    "#             cache[key] = row.date_block_num         \n",
    "# time.time() - ts"
   ]
  },
  {
   "cell_type": "markdown",
   "metadata": {},
   "source": [
    "Months since the first sale for each shop/item pair and for item only."
   ]
  },
  {
   "cell_type": "code",
   "execution_count": 38,
   "metadata": {
    "ExecuteTime": {
     "end_time": "2020-08-27T06:27:00.229056Z",
     "start_time": "2020-08-27T06:26:58.913138Z"
    }
   },
   "outputs": [
    {
     "data": {
      "text/plain": [
       "1.3082993030548096"
      ]
     },
     "execution_count": 38,
     "metadata": {},
     "output_type": "execute_result"
    }
   ],
   "source": [
    "ts = time.time()\n",
    "matrix['item_shop_first_sale'] = matrix['date_block_num'] - matrix.groupby(['item_id','shop_id'])['date_block_num'].transform('min')\n",
    "matrix['item_first_sale'] = matrix['date_block_num'] - matrix.groupby('item_id')['date_block_num'].transform('min')\n",
    "time.time() - ts"
   ]
  },
  {
   "cell_type": "markdown",
   "metadata": {},
   "source": [
    "Because of the using 12 as lag value drop first 12 months.    \n",
    "Also drop all the columns with this month calculated values (other words which can not be calcucated for the test set)."
   ]
  },
  {
   "cell_type": "code",
   "execution_count": 39,
   "metadata": {
    "ExecuteTime": {
     "end_time": "2020-08-27T06:27:00.733670Z",
     "start_time": "2020-08-27T06:27:00.230200Z"
    }
   },
   "outputs": [
    {
     "data": {
      "text/plain": [
       "0.500983715057373"
      ]
     },
     "execution_count": 39,
     "metadata": {},
     "output_type": "execute_result"
    }
   ],
   "source": [
    "ts = time.time()\n",
    "matrix = matrix[matrix.date_block_num > 11]\n",
    "time.time() - ts"
   ]
  },
  {
   "cell_type": "markdown",
   "metadata": {},
   "source": [
    "Producing lags brings a lot of nulls."
   ]
  },
  {
   "cell_type": "code",
   "execution_count": 40,
   "metadata": {
    "ExecuteTime": {
     "end_time": "2020-08-27T06:27:01.937804Z",
     "start_time": "2020-08-27T06:27:00.734508Z"
    }
   },
   "outputs": [
    {
     "data": {
      "text/plain": [
       "1.1996984481811523"
      ]
     },
     "execution_count": 40,
     "metadata": {},
     "output_type": "execute_result"
    }
   ],
   "source": [
    "ts = time.time()\n",
    "def fill_na(df):\n",
    "    for col in df.columns:\n",
    "        if ('_lag_' in col) & (df[col].isnull().any()):\n",
    "            if ('item_cnt' in col):\n",
    "                df[col].fillna(0, inplace=True)         \n",
    "    return df\n",
    "\n",
    "matrix = fill_na(matrix)\n",
    "time.time() - ts"
   ]
  },
  {
   "cell_type": "code",
   "execution_count": 41,
   "metadata": {
    "ExecuteTime": {
     "end_time": "2020-08-27T06:27:01.941479Z",
     "start_time": "2020-08-27T06:27:01.938777Z"
    }
   },
   "outputs": [
    {
     "data": {
      "text/plain": [
       "Index(['date_block_num', 'shop_id', 'item_id', 'item_cnt_month', 'city_code',\n",
       "       'item_category_id', 'type_code', 'subtype_code', 'item_cnt_month_lag_1',\n",
       "       'item_cnt_month_lag_2', 'item_cnt_month_lag_3', 'item_cnt_month_lag_6',\n",
       "       'item_cnt_month_lag_12', 'date_avg_item_cnt_lag_1',\n",
       "       'date_item_avg_item_cnt_lag_1', 'date_item_avg_item_cnt_lag_2',\n",
       "       'date_item_avg_item_cnt_lag_3', 'date_item_avg_item_cnt_lag_6',\n",
       "       'date_item_avg_item_cnt_lag_12', 'date_shop_avg_item_cnt_lag_1',\n",
       "       'date_shop_avg_item_cnt_lag_2', 'date_shop_avg_item_cnt_lag_3',\n",
       "       'date_shop_avg_item_cnt_lag_6', 'date_shop_avg_item_cnt_lag_12',\n",
       "       'date_cat_avg_item_cnt_lag_1', 'date_shop_cat_avg_item_cnt_lag_1',\n",
       "       'date_shop_type_avg_item_cnt_lag_1',\n",
       "       'date_shop_subtype_avg_item_cnt_lag_1', 'date_city_avg_item_cnt_lag_1',\n",
       "       'date_item_city_avg_item_cnt_lag_1', 'date_type_avg_item_cnt_lag_1',\n",
       "       'date_subtype_avg_item_cnt_lag_1', 'delta_price_lag',\n",
       "       'delta_revenue_lag_1', 'month', 'days', 'item_shop_first_sale',\n",
       "       'item_first_sale'],\n",
       "      dtype='object')"
      ]
     },
     "execution_count": 41,
     "metadata": {},
     "output_type": "execute_result"
    }
   ],
   "source": [
    "matrix.columns"
   ]
  },
  {
   "cell_type": "code",
   "execution_count": 42,
   "metadata": {
    "ExecuteTime": {
     "end_time": "2020-08-27T06:27:01.954007Z",
     "start_time": "2020-08-27T06:27:01.942452Z"
    }
   },
   "outputs": [
    {
     "name": "stdout",
     "output_type": "stream",
     "text": [
      "<class 'pandas.core.frame.DataFrame'>\n",
      "Int64Index: 6639294 entries, 4488710 to 11128003\n",
      "Data columns (total 38 columns):\n",
      " #   Column                                Dtype  \n",
      "---  ------                                -----  \n",
      " 0   date_block_num                        int8   \n",
      " 1   shop_id                               int8   \n",
      " 2   item_id                               int16  \n",
      " 3   item_cnt_month                        float16\n",
      " 4   city_code                             int8   \n",
      " 5   item_category_id                      int8   \n",
      " 6   type_code                             int8   \n",
      " 7   subtype_code                          int8   \n",
      " 8   item_cnt_month_lag_1                  float16\n",
      " 9   item_cnt_month_lag_2                  float16\n",
      " 10  item_cnt_month_lag_3                  float16\n",
      " 11  item_cnt_month_lag_6                  float16\n",
      " 12  item_cnt_month_lag_12                 float16\n",
      " 13  date_avg_item_cnt_lag_1               float16\n",
      " 14  date_item_avg_item_cnt_lag_1          float16\n",
      " 15  date_item_avg_item_cnt_lag_2          float16\n",
      " 16  date_item_avg_item_cnt_lag_3          float16\n",
      " 17  date_item_avg_item_cnt_lag_6          float16\n",
      " 18  date_item_avg_item_cnt_lag_12         float16\n",
      " 19  date_shop_avg_item_cnt_lag_1          float16\n",
      " 20  date_shop_avg_item_cnt_lag_2          float16\n",
      " 21  date_shop_avg_item_cnt_lag_3          float16\n",
      " 22  date_shop_avg_item_cnt_lag_6          float16\n",
      " 23  date_shop_avg_item_cnt_lag_12         float16\n",
      " 24  date_cat_avg_item_cnt_lag_1           float16\n",
      " 25  date_shop_cat_avg_item_cnt_lag_1      float16\n",
      " 26  date_shop_type_avg_item_cnt_lag_1     float16\n",
      " 27  date_shop_subtype_avg_item_cnt_lag_1  float16\n",
      " 28  date_city_avg_item_cnt_lag_1          float16\n",
      " 29  date_item_city_avg_item_cnt_lag_1     float16\n",
      " 30  date_type_avg_item_cnt_lag_1          float16\n",
      " 31  date_subtype_avg_item_cnt_lag_1       float16\n",
      " 32  delta_price_lag                       float16\n",
      " 33  delta_revenue_lag_1                   float16\n",
      " 34  month                                 int8   \n",
      " 35  days                                  int8   \n",
      " 36  item_shop_first_sale                  int8   \n",
      " 37  item_first_sale                       int8   \n",
      "dtypes: float16(27), int16(1), int8(10)\n",
      "memory usage: 468.5 MB\n"
     ]
    }
   ],
   "source": [
    "matrix.info()"
   ]
  },
  {
   "cell_type": "code",
   "execution_count": 43,
   "metadata": {
    "ExecuteTime": {
     "end_time": "2020-08-27T06:27:03.046113Z",
     "start_time": "2020-08-27T06:27:01.955289Z"
    }
   },
   "outputs": [],
   "source": [
    "matrix.to_pickle('data_without_item_last_sale.pkl')\n",
    "del matrix\n",
    "# del cache\n",
    "del group\n",
    "del items\n",
    "del shops\n",
    "del cats\n",
    "del train\n",
    "# leave test for submission\n",
    "gc.collect();"
   ]
  },
  {
   "cell_type": "markdown",
   "metadata": {},
   "source": [
    "# xgboost"
   ]
  },
  {
   "cell_type": "code",
   "execution_count": 179,
   "metadata": {
    "ExecuteTime": {
     "end_time": "2020-08-27T08:36:23.842242Z",
     "start_time": "2020-08-27T08:36:22.292783Z"
    }
   },
   "outputs": [],
   "source": [
    "def read_data_pickle_and_split():\n",
    "    # data = pd.read_pickle('data.pkl')\n",
    "    data = pd.read_pickle('data_without_item_last_sale.pkl')\n",
    "    # 위에서 만든 feature 들\n",
    "    data = data[[\n",
    "        'date_block_num',\n",
    "        'shop_id',\n",
    "        'item_id',\n",
    "        'item_cnt_month',\n",
    "        'city_code',\n",
    "        'item_category_id',\n",
    "        'type_code',\n",
    "        'subtype_code',\n",
    "        'item_cnt_month_lag_1',\n",
    "        'item_cnt_month_lag_2',\n",
    "        'item_cnt_month_lag_3',\n",
    "        'item_cnt_month_lag_6',\n",
    "        'item_cnt_month_lag_12',\n",
    "        'date_avg_item_cnt_lag_1',\n",
    "        'date_item_avg_item_cnt_lag_1',\n",
    "        'date_item_avg_item_cnt_lag_2',\n",
    "        'date_item_avg_item_cnt_lag_3',\n",
    "        'date_item_avg_item_cnt_lag_6',\n",
    "        'date_item_avg_item_cnt_lag_12',\n",
    "        'date_shop_avg_item_cnt_lag_1',\n",
    "        'date_shop_avg_item_cnt_lag_2',\n",
    "        'date_shop_avg_item_cnt_lag_3',\n",
    "        'date_shop_avg_item_cnt_lag_6',\n",
    "        'date_shop_avg_item_cnt_lag_12',\n",
    "        'date_cat_avg_item_cnt_lag_1',\n",
    "        'date_shop_cat_avg_item_cnt_lag_1',\n",
    "        #'date_shop_type_avg_item_cnt_lag_1',\n",
    "        #'date_shop_subtype_avg_item_cnt_lag_1',\n",
    "        'date_city_avg_item_cnt_lag_1',\n",
    "        'date_item_city_avg_item_cnt_lag_1',\n",
    "        #'date_type_avg_item_cnt_lag_1',\n",
    "        #'date_subtype_avg_item_cnt_lag_1',\n",
    "        'delta_price_lag',\n",
    "        'month',\n",
    "        'days',\n",
    "    #     두 칼럼 생성 안함 (생성하는 함수 실행 시 커널 죽음)\n",
    "    #     'item_shop_last_sale',\n",
    "    #     'item_last_sale',\n",
    "        'item_shop_first_sale',\n",
    "        'item_first_sale',\n",
    "    ]]\n",
    "\n",
    "    # 13-32 훈련\n",
    "    # 33 validation\n",
    "    # 34 test\n",
    "    X_train = data[data.date_block_num < 33].drop(['item_cnt_month'], axis=1)\n",
    "    Y_train = data[data.date_block_num < 33]['item_cnt_month']\n",
    "    X_valid = data[data.date_block_num == 33].drop(['item_cnt_month'], axis=1)\n",
    "    Y_valid = data[data.date_block_num == 33]['item_cnt_month']\n",
    "    X_test = data[data.date_block_num == 34].drop(['item_cnt_month'], axis=1)\n",
    "    \n",
    "    del data\n",
    "    gc.collect();\n",
    "    \n",
    "    return X_train,Y_train,X_valid,Y_valid,X_test\n",
    "\n",
    "X_train,Y_train,X_valid,Y_valid,X_test = read_data_pickle_and_split()"
   ]
  },
  {
   "cell_type": "code",
   "execution_count": 175,
   "metadata": {
    "ExecuteTime": {
     "end_time": "2020-08-27T08:35:10.151088Z",
     "start_time": "2020-08-27T08:35:10.131399Z"
    }
   },
   "outputs": [
    {
     "data": {
      "text/html": [
       "<div>\n",
       "<style scoped>\n",
       "    .dataframe tbody tr th:only-of-type {\n",
       "        vertical-align: middle;\n",
       "    }\n",
       "\n",
       "    .dataframe tbody tr th {\n",
       "        vertical-align: top;\n",
       "    }\n",
       "\n",
       "    .dataframe thead th {\n",
       "        text-align: right;\n",
       "    }\n",
       "</style>\n",
       "<table border=\"1\" class=\"dataframe\">\n",
       "  <thead>\n",
       "    <tr style=\"text-align: right;\">\n",
       "      <th></th>\n",
       "      <th>date_block_num</th>\n",
       "      <th>shop_id</th>\n",
       "      <th>item_id</th>\n",
       "      <th>city_code</th>\n",
       "      <th>item_category_id</th>\n",
       "      <th>type_code</th>\n",
       "      <th>subtype_code</th>\n",
       "      <th>item_cnt_month_lag_1</th>\n",
       "      <th>item_cnt_month_lag_2</th>\n",
       "      <th>item_cnt_month_lag_3</th>\n",
       "      <th>item_cnt_month_lag_6</th>\n",
       "      <th>item_cnt_month_lag_12</th>\n",
       "      <th>date_avg_item_cnt_lag_1</th>\n",
       "      <th>date_item_avg_item_cnt_lag_1</th>\n",
       "      <th>date_item_avg_item_cnt_lag_2</th>\n",
       "      <th>date_item_avg_item_cnt_lag_3</th>\n",
       "      <th>date_item_avg_item_cnt_lag_6</th>\n",
       "      <th>date_item_avg_item_cnt_lag_12</th>\n",
       "      <th>date_shop_avg_item_cnt_lag_1</th>\n",
       "      <th>date_shop_avg_item_cnt_lag_2</th>\n",
       "      <th>date_shop_avg_item_cnt_lag_3</th>\n",
       "      <th>date_shop_avg_item_cnt_lag_6</th>\n",
       "      <th>date_shop_avg_item_cnt_lag_12</th>\n",
       "      <th>date_cat_avg_item_cnt_lag_1</th>\n",
       "      <th>date_shop_cat_avg_item_cnt_lag_1</th>\n",
       "      <th>date_city_avg_item_cnt_lag_1</th>\n",
       "      <th>date_item_city_avg_item_cnt_lag_1</th>\n",
       "      <th>delta_price_lag</th>\n",
       "      <th>month</th>\n",
       "      <th>days</th>\n",
       "      <th>item_shop_first_sale</th>\n",
       "      <th>item_first_sale</th>\n",
       "    </tr>\n",
       "  </thead>\n",
       "  <tbody>\n",
       "    <tr>\n",
       "      <th>10675627</th>\n",
       "      <td>32</td>\n",
       "      <td>59</td>\n",
       "      <td>22162</td>\n",
       "      <td>30</td>\n",
       "      <td>40</td>\n",
       "      <td>11</td>\n",
       "      <td>4</td>\n",
       "      <td>1.0</td>\n",
       "      <td>0.0</td>\n",
       "      <td>0.0</td>\n",
       "      <td>4.0</td>\n",
       "      <td>0.0</td>\n",
       "      <td>0.288086</td>\n",
       "      <td>0.333252</td>\n",
       "      <td>0.627930</td>\n",
       "      <td>0.511719</td>\n",
       "      <td>3.826172</td>\n",
       "      <td>0.000000</td>\n",
       "      <td>0.218506</td>\n",
       "      <td>0.184692</td>\n",
       "      <td>0.172119</td>\n",
       "      <td>0.186768</td>\n",
       "      <td>0.000000</td>\n",
       "      <td>0.242188</td>\n",
       "      <td>0.111633</td>\n",
       "      <td>0.218506</td>\n",
       "      <td>1.0</td>\n",
       "      <td>-0.085815</td>\n",
       "      <td>8</td>\n",
       "      <td>30</td>\n",
       "      <td>14</td>\n",
       "      <td>14</td>\n",
       "    </tr>\n",
       "    <tr>\n",
       "      <th>10675628</th>\n",
       "      <td>32</td>\n",
       "      <td>59</td>\n",
       "      <td>22163</td>\n",
       "      <td>30</td>\n",
       "      <td>40</td>\n",
       "      <td>11</td>\n",
       "      <td>4</td>\n",
       "      <td>0.0</td>\n",
       "      <td>0.0</td>\n",
       "      <td>0.0</td>\n",
       "      <td>0.0</td>\n",
       "      <td>0.0</td>\n",
       "      <td>0.288086</td>\n",
       "      <td>0.690430</td>\n",
       "      <td>0.000000</td>\n",
       "      <td>0.000000</td>\n",
       "      <td>0.000000</td>\n",
       "      <td>0.000000</td>\n",
       "      <td>0.218506</td>\n",
       "      <td>0.000000</td>\n",
       "      <td>0.000000</td>\n",
       "      <td>0.000000</td>\n",
       "      <td>0.000000</td>\n",
       "      <td>0.242188</td>\n",
       "      <td>0.111633</td>\n",
       "      <td>0.218506</td>\n",
       "      <td>0.0</td>\n",
       "      <td>-0.008354</td>\n",
       "      <td>8</td>\n",
       "      <td>30</td>\n",
       "      <td>1</td>\n",
       "      <td>1</td>\n",
       "    </tr>\n",
       "    <tr>\n",
       "      <th>10675629</th>\n",
       "      <td>32</td>\n",
       "      <td>59</td>\n",
       "      <td>22164</td>\n",
       "      <td>30</td>\n",
       "      <td>37</td>\n",
       "      <td>11</td>\n",
       "      <td>1</td>\n",
       "      <td>0.0</td>\n",
       "      <td>1.0</td>\n",
       "      <td>0.0</td>\n",
       "      <td>1.0</td>\n",
       "      <td>0.0</td>\n",
       "      <td>0.288086</td>\n",
       "      <td>0.476074</td>\n",
       "      <td>0.279053</td>\n",
       "      <td>0.162842</td>\n",
       "      <td>2.000000</td>\n",
       "      <td>0.000000</td>\n",
       "      <td>0.218506</td>\n",
       "      <td>0.184692</td>\n",
       "      <td>0.172119</td>\n",
       "      <td>0.186768</td>\n",
       "      <td>0.000000</td>\n",
       "      <td>0.192017</td>\n",
       "      <td>0.122009</td>\n",
       "      <td>0.218506</td>\n",
       "      <td>0.0</td>\n",
       "      <td>-0.114929</td>\n",
       "      <td>8</td>\n",
       "      <td>30</td>\n",
       "      <td>7</td>\n",
       "      <td>7</td>\n",
       "    </tr>\n",
       "    <tr>\n",
       "      <th>10675630</th>\n",
       "      <td>32</td>\n",
       "      <td>59</td>\n",
       "      <td>22166</td>\n",
       "      <td>30</td>\n",
       "      <td>54</td>\n",
       "      <td>12</td>\n",
       "      <td>61</td>\n",
       "      <td>0.0</td>\n",
       "      <td>0.0</td>\n",
       "      <td>0.0</td>\n",
       "      <td>0.0</td>\n",
       "      <td>0.0</td>\n",
       "      <td>0.288086</td>\n",
       "      <td>0.261963</td>\n",
       "      <td>0.186035</td>\n",
       "      <td>0.232544</td>\n",
       "      <td>0.260986</td>\n",
       "      <td>0.260010</td>\n",
       "      <td>0.218506</td>\n",
       "      <td>0.184692</td>\n",
       "      <td>0.172119</td>\n",
       "      <td>0.186768</td>\n",
       "      <td>0.175781</td>\n",
       "      <td>0.143433</td>\n",
       "      <td>0.000000</td>\n",
       "      <td>0.218506</td>\n",
       "      <td>0.0</td>\n",
       "      <td>0.000000</td>\n",
       "      <td>8</td>\n",
       "      <td>30</td>\n",
       "      <td>23</td>\n",
       "      <td>23</td>\n",
       "    </tr>\n",
       "    <tr>\n",
       "      <th>10675631</th>\n",
       "      <td>32</td>\n",
       "      <td>59</td>\n",
       "      <td>22167</td>\n",
       "      <td>30</td>\n",
       "      <td>49</td>\n",
       "      <td>12</td>\n",
       "      <td>39</td>\n",
       "      <td>0.0</td>\n",
       "      <td>0.0</td>\n",
       "      <td>0.0</td>\n",
       "      <td>0.0</td>\n",
       "      <td>0.0</td>\n",
       "      <td>0.288086</td>\n",
       "      <td>0.690430</td>\n",
       "      <td>0.790527</td>\n",
       "      <td>0.767578</td>\n",
       "      <td>0.869629</td>\n",
       "      <td>0.779785</td>\n",
       "      <td>0.218506</td>\n",
       "      <td>0.184692</td>\n",
       "      <td>0.172119</td>\n",
       "      <td>0.186768</td>\n",
       "      <td>0.175781</td>\n",
       "      <td>0.161865</td>\n",
       "      <td>0.047607</td>\n",
       "      <td>0.218506</td>\n",
       "      <td>0.0</td>\n",
       "      <td>0.004200</td>\n",
       "      <td>8</td>\n",
       "      <td>30</td>\n",
       "      <td>24</td>\n",
       "      <td>24</td>\n",
       "    </tr>\n",
       "  </tbody>\n",
       "</table>\n",
       "</div>"
      ],
      "text/plain": [
       "          date_block_num  shop_id  item_id  city_code  item_category_id  \\\n",
       "10675627              32       59    22162         30                40   \n",
       "10675628              32       59    22163         30                40   \n",
       "10675629              32       59    22164         30                37   \n",
       "10675630              32       59    22166         30                54   \n",
       "10675631              32       59    22167         30                49   \n",
       "\n",
       "          type_code  subtype_code  item_cnt_month_lag_1  item_cnt_month_lag_2  \\\n",
       "10675627         11             4                   1.0                   0.0   \n",
       "10675628         11             4                   0.0                   0.0   \n",
       "10675629         11             1                   0.0                   1.0   \n",
       "10675630         12            61                   0.0                   0.0   \n",
       "10675631         12            39                   0.0                   0.0   \n",
       "\n",
       "          item_cnt_month_lag_3  item_cnt_month_lag_6  item_cnt_month_lag_12  \\\n",
       "10675627                   0.0                   4.0                    0.0   \n",
       "10675628                   0.0                   0.0                    0.0   \n",
       "10675629                   0.0                   1.0                    0.0   \n",
       "10675630                   0.0                   0.0                    0.0   \n",
       "10675631                   0.0                   0.0                    0.0   \n",
       "\n",
       "          date_avg_item_cnt_lag_1  date_item_avg_item_cnt_lag_1  \\\n",
       "10675627                 0.288086                      0.333252   \n",
       "10675628                 0.288086                      0.690430   \n",
       "10675629                 0.288086                      0.476074   \n",
       "10675630                 0.288086                      0.261963   \n",
       "10675631                 0.288086                      0.690430   \n",
       "\n",
       "          date_item_avg_item_cnt_lag_2  date_item_avg_item_cnt_lag_3  \\\n",
       "10675627                      0.627930                      0.511719   \n",
       "10675628                      0.000000                      0.000000   \n",
       "10675629                      0.279053                      0.162842   \n",
       "10675630                      0.186035                      0.232544   \n",
       "10675631                      0.790527                      0.767578   \n",
       "\n",
       "          date_item_avg_item_cnt_lag_6  date_item_avg_item_cnt_lag_12  \\\n",
       "10675627                      3.826172                       0.000000   \n",
       "10675628                      0.000000                       0.000000   \n",
       "10675629                      2.000000                       0.000000   \n",
       "10675630                      0.260986                       0.260010   \n",
       "10675631                      0.869629                       0.779785   \n",
       "\n",
       "          date_shop_avg_item_cnt_lag_1  date_shop_avg_item_cnt_lag_2  \\\n",
       "10675627                      0.218506                      0.184692   \n",
       "10675628                      0.218506                      0.000000   \n",
       "10675629                      0.218506                      0.184692   \n",
       "10675630                      0.218506                      0.184692   \n",
       "10675631                      0.218506                      0.184692   \n",
       "\n",
       "          date_shop_avg_item_cnt_lag_3  date_shop_avg_item_cnt_lag_6  \\\n",
       "10675627                      0.172119                      0.186768   \n",
       "10675628                      0.000000                      0.000000   \n",
       "10675629                      0.172119                      0.186768   \n",
       "10675630                      0.172119                      0.186768   \n",
       "10675631                      0.172119                      0.186768   \n",
       "\n",
       "          date_shop_avg_item_cnt_lag_12  date_cat_avg_item_cnt_lag_1  \\\n",
       "10675627                       0.000000                     0.242188   \n",
       "10675628                       0.000000                     0.242188   \n",
       "10675629                       0.000000                     0.192017   \n",
       "10675630                       0.175781                     0.143433   \n",
       "10675631                       0.175781                     0.161865   \n",
       "\n",
       "          date_shop_cat_avg_item_cnt_lag_1  date_city_avg_item_cnt_lag_1  \\\n",
       "10675627                          0.111633                      0.218506   \n",
       "10675628                          0.111633                      0.218506   \n",
       "10675629                          0.122009                      0.218506   \n",
       "10675630                          0.000000                      0.218506   \n",
       "10675631                          0.047607                      0.218506   \n",
       "\n",
       "          date_item_city_avg_item_cnt_lag_1  delta_price_lag  month  days  \\\n",
       "10675627                                1.0        -0.085815      8    30   \n",
       "10675628                                0.0        -0.008354      8    30   \n",
       "10675629                                0.0        -0.114929      8    30   \n",
       "10675630                                0.0         0.000000      8    30   \n",
       "10675631                                0.0         0.004200      8    30   \n",
       "\n",
       "          item_shop_first_sale  item_first_sale  \n",
       "10675627                    14               14  \n",
       "10675628                     1                1  \n",
       "10675629                     7                7  \n",
       "10675630                    23               23  \n",
       "10675631                    24               24  "
      ]
     },
     "execution_count": 175,
     "metadata": {},
     "output_type": "execute_result"
    }
   ],
   "source": [
    "X_train.tail(5)"
   ]
  },
  {
   "cell_type": "code",
   "execution_count": 90,
   "metadata": {
    "ExecuteTime": {
     "end_time": "2020-08-27T07:10:44.198096Z",
     "start_time": "2020-08-27T07:08:41.835954Z"
    }
   },
   "outputs": [
    {
     "name": "stdout",
     "output_type": "stream",
     "text": [
      "[16:08:50] WARNING: /home/conda/feedstock_root/build_artifacts/xgboost_1593723605503/work/src/gbm/gbtree.cc:139: Tree method is automatically selected to be 'approx' for faster speed. To use old behavior (exact greedy algorithm on single machine), set tree_method to 'exact'.\n",
      "[0]\tvalidation_0-rmse:1.06235\tvalidation_1-rmse:1.04969\n",
      "Multiple eval metrics have been passed: 'validation_1-rmse' will be used for early stopping.\n",
      "\n",
      "Will train until validation_1-rmse hasn't improved in 10 rounds.\n",
      "[1]\tvalidation_0-rmse:0.98653\tvalidation_1-rmse:0.99133\n",
      "[2]\tvalidation_0-rmse:0.91987\tvalidation_1-rmse:0.94323\n",
      "[3]\tvalidation_0-rmse:0.88515\tvalidation_1-rmse:0.92212\n",
      "[4]\tvalidation_0-rmse:0.86425\tvalidation_1-rmse:0.91476\n",
      "[5]\tvalidation_0-rmse:0.85283\tvalidation_1-rmse:0.91048\n",
      "[6]\tvalidation_0-rmse:0.84522\tvalidation_1-rmse:0.90912\n",
      "[7]\tvalidation_0-rmse:0.83916\tvalidation_1-rmse:0.90795\n",
      "[8]\tvalidation_0-rmse:0.83579\tvalidation_1-rmse:0.90753\n",
      "[9]\tvalidation_0-rmse:0.83234\tvalidation_1-rmse:0.90804\n",
      "[10]\tvalidation_0-rmse:0.82872\tvalidation_1-rmse:0.90688\n",
      "[11]\tvalidation_0-rmse:0.82664\tvalidation_1-rmse:0.90897\n",
      "[12]\tvalidation_0-rmse:0.82448\tvalidation_1-rmse:0.90970\n",
      "[13]\tvalidation_0-rmse:0.82319\tvalidation_1-rmse:0.90929\n",
      "[14]\tvalidation_0-rmse:0.82235\tvalidation_1-rmse:0.90899\n",
      "[15]\tvalidation_0-rmse:0.82093\tvalidation_1-rmse:0.90920\n",
      "[16]\tvalidation_0-rmse:0.81978\tvalidation_1-rmse:0.90960\n",
      "[17]\tvalidation_0-rmse:0.81827\tvalidation_1-rmse:0.90937\n",
      "[18]\tvalidation_0-rmse:0.81686\tvalidation_1-rmse:0.90871\n",
      "[19]\tvalidation_0-rmse:0.81576\tvalidation_1-rmse:0.90877\n",
      "[20]\tvalidation_0-rmse:0.81481\tvalidation_1-rmse:0.90790\n",
      "Stopping. Best iteration:\n",
      "[10]\tvalidation_0-rmse:0.82872\tvalidation_1-rmse:0.90688\n",
      "\n"
     ]
    },
    {
     "data": {
      "text/plain": [
       "122.35453510284424"
      ]
     },
     "execution_count": 90,
     "metadata": {},
     "output_type": "execute_result"
    }
   ],
   "source": [
    "ts = time.time()\n",
    "\n",
    "model = XGBRegressor(\n",
    "    max_depth=8,\n",
    "    n_estimators=1000,\n",
    "    min_child_weight=300, \n",
    "    colsample_bytree=0.8, \n",
    "    subsample=0.8, \n",
    "    eta=0.3,    \n",
    "    seed=42\n",
    ")\n",
    "\n",
    "model.fit(\n",
    "    X_train, \n",
    "    Y_train, \n",
    "    eval_metric=\"rmse\", \n",
    "    eval_set=[(X_train, Y_train), (X_valid, Y_valid)], \n",
    "    verbose=True, \n",
    "    early_stopping_rounds = 10)\n",
    "\n",
    "time.time() - ts"
   ]
  },
  {
   "cell_type": "code",
   "execution_count": 91,
   "metadata": {
    "ExecuteTime": {
     "end_time": "2020-08-27T07:10:44.922678Z",
     "start_time": "2020-08-27T07:10:44.199377Z"
    }
   },
   "outputs": [],
   "source": [
    "Y_pred = model.predict(X_valid).clip(0, 20)\n",
    "Y_test = model.predict(X_test).clip(0, 20)\n",
    "\n",
    "submission = pd.DataFrame({\n",
    "    \"ID\": test.index, \n",
    "    \"item_cnt_month\": Y_test\n",
    "})\n",
    "submission.to_csv('xgb_without_item_last_sale_submission.csv', index=False)\n",
    "\n",
    "# save predictions for an ensemble\n",
    "pickle.dump(Y_pred, open('xgb_train_without_item_last_sale.pickle', 'wb'))\n",
    "pickle.dump(Y_test, open('xgb_test_without_item_last_sale.pickle', 'wb'))"
   ]
  },
  {
   "cell_type": "markdown",
   "metadata": {},
   "source": [
    "baseline 제출결과 : 0.92285 (public)"
   ]
  },
  {
   "cell_type": "code",
   "execution_count": 92,
   "metadata": {
    "ExecuteTime": {
     "end_time": "2020-08-27T07:10:45.273096Z",
     "start_time": "2020-08-27T07:10:44.924051Z"
    }
   },
   "outputs": [
    {
     "data": {
      "text/plain": [
       "<matplotlib.axes._subplots.AxesSubplot at 0x7f0f524fa0d0>"
      ]
     },
     "execution_count": 92,
     "metadata": {},
     "output_type": "execute_result"
    },
    {
     "data": {
      "image/png": "[encoded data removed]",
      "text/plain": [
       "<Figure size 720x1008 with 1 Axes>"
      ]
     },
     "metadata": {
      "needs_background": "light"
     },
     "output_type": "display_data"
    }
   ],
   "source": [
    "plot_features(model, (10,14))"
   ]
  },
  {
   "cell_type": "markdown",
   "metadata": {},
   "source": [
    "# 모델 튜닝"
   ]
  },
  {
   "cell_type": "code",
   "execution_count": 69,
   "metadata": {
    "ExecuteTime": {
     "end_time": "2020-08-27T06:45:43.811169Z",
     "start_time": "2020-08-27T06:45:43.809231Z"
    }
   },
   "outputs": [],
   "source": [
    "models = [GradientBoostingRegressor,XGBRegressor,RandomForestRegressor,LGBMRegressor]\n",
    "random_state = 2020"
   ]
  },
  {
   "cell_type": "code",
   "execution_count": 70,
   "metadata": {
    "ExecuteTime": {
     "end_time": "2020-08-27T06:45:44.259843Z",
     "start_time": "2020-08-27T06:45:44.257783Z"
    }
   },
   "outputs": [],
   "source": [
    "def rmse(y_test, y_pred):\n",
    "    return np.sqrt(mean_squared_error(y_test,y_pred))"
   ]
  },
  {
   "cell_type": "code",
   "execution_count": 78,
   "metadata": {
    "ExecuteTime": {
     "end_time": "2020-08-27T06:49:43.082737Z",
     "start_time": "2020-08-27T06:49:43.079522Z"
    }
   },
   "outputs": [],
   "source": [
    "def get_cv_score(models):\n",
    "    kfold = KFold(n_splits=5, random_state=random_state).get_n_splits(X_train.values)\n",
    "   \n",
    "    for model in models:\n",
    "        m = model(random_state=random_state)\n",
    "        model_name = m.__class__.__name__\n",
    "        print(\"Model {} CV score : {:.4f}\".format(model_name, np.mean(cross_val_score(m, X_train.values, Y_train)), \n",
    "                                                  kf=kfold))"
   ]
  },
  {
   "cell_type": "code",
   "execution_count": null,
   "metadata": {
    "ExecuteTime": {
     "end_time": "2020-08-27T07:03:58.768042Z",
     "start_time": "2020-08-27T06:55:48.914Z"
    }
   },
   "outputs": [],
   "source": [
    "# ts = time.time()\n",
    "# get_cv_score(models)\n",
    "# time.time()-ts"
   ]
  },
  {
   "cell_type": "code",
   "execution_count": 80,
   "metadata": {
    "ExecuteTime": {
     "end_time": "2020-08-27T07:04:16.357101Z",
     "start_time": "2020-08-27T07:04:16.355243Z"
    }
   },
   "outputs": [],
   "source": [
    "# def get_scores(models):\n",
    "#   df = {}\n",
    "#   for model in models:\n",
    "    \n",
    "#     m = model(random_state=random_state)\n",
    "#     # 모델 이름 획득\n",
    "#     model_name = m.__class__.__name__\n",
    "    \n",
    "#     # 모델 학습\n",
    "#     m.fit(X_train, Y_train)\n",
    "    \n",
    "#     # 예측\n",
    "#     y_pred = m.predict(X_test)\n",
    "\n",
    "#     # 예측 결과의 rmse값 저장\n",
    "#     df[model_name] = rmse(Y_test, y_pred)\n",
    "    \n",
    "#     # data frame에 저장\n",
    "#     score_df = pd.DataFrame(df, index=['RMSE']).T.sort_values('RMSE', ascending=False)\n",
    "    \n",
    "#   return score_df\n",
    "\n",
    "# get_scores(models)"
   ]
  },
  {
   "cell_type": "code",
   "execution_count": 81,
   "metadata": {
    "ExecuteTime": {
     "end_time": "2020-08-27T07:04:17.434811Z",
     "start_time": "2020-08-27T07:04:17.431025Z"
    }
   },
   "outputs": [],
   "source": [
    "def my_GridSearch(model, train, y, param_grid, verbose=2, n_jobs=10):\n",
    "  # 1. GridSearchCV 모델로 `model`을 초기화합니다.\n",
    "  grid_model = GridSearchCV(model, param_grid=param_grid, \\\n",
    "                          scoring='neg_mean_squared_error', \\\n",
    "                          cv=5,verbose=verbose, n_jobs=n_jobs)\n",
    "  # 2. 모델을 fitting 합니다.\n",
    "  grid_model.fit(train, y)\n",
    "  \n",
    "  # 3. params, score에 각 조합에 대한 결과를 저장합니다. \n",
    "  params = grid_model.cv_results_['params']\n",
    "  score = grid_model.cv_results_['mean_test_score']\n",
    "  \n",
    "  # 4. 데이터 프레임을 생성하고, RMSLE 값을 추가한 후 점수가 높은 순서로 정렬한 `results`를 반환합니다.\n",
    "  results = pd.DataFrame(params)\n",
    "  results['score'] = score\n",
    "  \n",
    "  results['RMSLE'] = np.sqrt(-1 * results['score'])\n",
    "  results.sort_values('RMSLE',inplace=True)\n",
    "\n",
    "  return results"
   ]
  },
  {
   "cell_type": "code",
   "execution_count": 82,
   "metadata": {
    "ExecuteTime": {
     "end_time": "2020-08-27T07:04:19.653254Z",
     "start_time": "2020-08-27T07:04:19.648788Z"
    }
   },
   "outputs": [],
   "source": [
    "random_state = 2020\n",
    "RMSLE_list = []\n",
    "\n",
    "def get_searched_model(model,params):\n",
    "    m = model(random_state=random_state)\n",
    "    model_name = m.__class__.__name__\n",
    "        \n",
    "    results = my_GridSearch(m, X_train, Y_train, params, verbose=2, n_jobs=10)\n",
    "   \n",
    "    learning_rate = 0.0 \n",
    "    \n",
    "    if model_name != 'RandomForestRegressor':\n",
    "        learning_rate = results.loc[results.index[0],:]['learning_rate']\n",
    "        \n",
    "    max_depth = results.loc[results.index[0],:]['max_depth']\n",
    "    n_estimators = results.loc[results.index[0],:]['n_estimators']\n",
    "    RMSLE = results.loc[results.index[0],:]['RMSLE']\n",
    "    \n",
    "    print(model_name,learning_rate, max_depth,n_estimators,RMSLE)\n",
    "    \n",
    "    RMSLE_list.append((model_name,RMSLE))"
   ]
  },
  {
   "cell_type": "markdown",
   "metadata": {},
   "source": [
    "## 그리드 서치 시도\n",
    "데이터가 너무 커서 안돌아감\n",
    "=> 포기하고 그냥 임의로 해보려고 함."
   ]
  },
  {
   "cell_type": "code",
   "execution_count": null,
   "metadata": {},
   "outputs": [],
   "source": [
    "# # models = [GradientBoostingRegressor,XGBRegressor,RandomForestRegressor,LGBMRegressor]\n",
    "# learning_rates = [0.0001,0.001,0.01,0.1]\n",
    "# max_depth = [8,10]\n",
    "# n_estimators = [500,1000,1500]\n",
    "\n",
    "# GBR_param_grid = {\n",
    "#     'n_estimators': n_estimators,\n",
    "#     'max_depth': max_depth,\n",
    "#     'learning_rate' : learning_rates\n",
    "# }\n",
    "# get_searched_model(models[0],GBR_param_grid)"
   ]
  },
  {
   "cell_type": "code",
   "execution_count": null,
   "metadata": {
    "ExecuteTime": {
     "end_time": "2020-08-27T07:03:58.772625Z",
     "start_time": "2020-08-27T06:57:23.973Z"
    }
   },
   "outputs": [],
   "source": [
    "# XGB_param_grid = {\n",
    "#     'max_depth' : [8],\n",
    "#     'n_estimators':[1000],\n",
    "#     'min_child_weight':[300], \n",
    "#     'colsample_bytree':[0.8], \n",
    "#     'subsample':[0.8], \n",
    "#     'eta':[0.3],\n",
    "#     'seed':[42],\n",
    "#     'learning_rates':learning_rates\n",
    "# }\n",
    "# get_searched_model(models[1],XGB_param_grid)"
   ]
  },
  {
   "cell_type": "code",
   "execution_count": null,
   "metadata": {
    "ExecuteTime": {
     "end_time": "2020-08-27T07:03:58.773103Z",
     "start_time": "2020-08-27T06:57:59.271Z"
    }
   },
   "outputs": [],
   "source": [
    "# RFR_param_grid = {\n",
    "#     'n_estimators': n_estimators,\n",
    "#     'max_depth': max_depth,\n",
    "# }\n",
    "# get_searched_model(models[2],RFR_param_grid)"
   ]
  },
  {
   "cell_type": "code",
   "execution_count": null,
   "metadata": {
    "ExecuteTime": {
     "end_time": "2020-08-27T07:03:58.773627Z",
     "start_time": "2020-08-27T06:58:30.930Z"
    }
   },
   "outputs": [],
   "source": [
    "# LGMB_param_grid = {\n",
    "#     'max_depth' : [8],\n",
    "#     'n_estimators':[1000],\n",
    "#     'min_child_weight':[300], \n",
    "#     'colsample_bytree':[0.8], \n",
    "#     'subsample':[0.8], \n",
    "#     'eta':[0.3],    \n",
    "#     'seed':[42],\n",
    "#     'learning_rates':learning_rates\n",
    "# }\n",
    "# get_searched_model(models[3],LGMB_param_grid)"
   ]
  },
  {
   "cell_type": "markdown",
   "metadata": {},
   "source": [
    "가장 낮게 나오는 모델로 다시 해보자.\n",
    "근데 너무 안돌아간다... 임의로 해보자"
   ]
  },
  {
   "cell_type": "code",
   "execution_count": 198,
   "metadata": {
    "ExecuteTime": {
     "end_time": "2020-08-27T08:48:48.879771Z",
     "start_time": "2020-08-27T08:48:48.866873Z"
    }
   },
   "outputs": [],
   "source": [
    "def predict_and_make_submission(model,messages):\n",
    "    Y_pred = model.predict(X_valid).clip(0, 20)\n",
    "    Y_test = model.predict(X_test).clip(0, 20)\n",
    "    model_name = model.__class__.__name__\n",
    "\n",
    "    submission = pd.DataFrame({\n",
    "        \"ID\": test.index, \n",
    "        \"item_cnt_month\": Y_test\n",
    "    })\n",
    "    submission.to_csv('{}_{}_without_item_last_sale_submission.csv'.format(model_name,messages), index=False)\n",
    "\n",
    "    # save predictions for an ensemble\n",
    "    pickle.dump(Y_pred, open('{}_{}_train_without_item_last_sale.pickle'.format(model_name,messages), 'wb'))\n",
    "    pickle.dump(Y_test, open('{}_{}_test_without_item_last_sale.pickle'.format(model_name,messages), 'wb'))\n",
    "    \n",
    "    #return Y_test"
   ]
  },
  {
   "cell_type": "code",
   "execution_count": 94,
   "metadata": {
    "ExecuteTime": {
     "end_time": "2020-08-27T07:54:08.696201Z",
     "start_time": "2020-08-27T07:24:54.721808Z"
    }
   },
   "outputs": [
    {
     "name": "stdout",
     "output_type": "stream",
     "text": [
      "[16:25:04] WARNING: /home/conda/feedstock_root/build_artifacts/xgboost_1593723605503/work/src/gbm/gbtree.cc:139: Tree method is automatically selected to be 'approx' for faster speed. To use old behavior (exact greedy algorithm on single machine), set tree_method to 'exact'.\n",
      "[0]\tvalidation_0-rmse:1.20243\tvalidation_1-rmse:1.15728\n",
      "Multiple eval metrics have been passed: 'validation_1-rmse' will be used for early stopping.\n",
      "\n",
      "Will train until validation_1-rmse hasn't improved in 10 rounds.\n",
      "[1]\tvalidation_0-rmse:1.19789\tvalidation_1-rmse:1.15336\n",
      "[2]\tvalidation_0-rmse:1.19291\tvalidation_1-rmse:1.14878\n",
      "[3]\tvalidation_0-rmse:1.18573\tvalidation_1-rmse:1.14476\n",
      "[4]\tvalidation_0-rmse:1.18050\tvalidation_1-rmse:1.14037\n",
      "[5]\tvalidation_0-rmse:1.17509\tvalidation_1-rmse:1.13618\n",
      "[6]\tvalidation_0-rmse:1.17043\tvalidation_1-rmse:1.13244\n",
      "[7]\tvalidation_0-rmse:1.16553\tvalidation_1-rmse:1.12849\n",
      "[8]\tvalidation_0-rmse:1.16181\tvalidation_1-rmse:1.12517\n",
      "[9]\tvalidation_0-rmse:1.15707\tvalidation_1-rmse:1.12107\n",
      "[10]\tvalidation_0-rmse:1.15178\tvalidation_1-rmse:1.11746\n",
      "[11]\tvalidation_0-rmse:1.14645\tvalidation_1-rmse:1.11357\n",
      "[12]\tvalidation_0-rmse:1.14179\tvalidation_1-rmse:1.10977\n",
      "[13]\tvalidation_0-rmse:1.13683\tvalidation_1-rmse:1.10604\n",
      "[14]\tvalidation_0-rmse:1.13234\tvalidation_1-rmse:1.10244\n",
      "[15]\tvalidation_0-rmse:1.12839\tvalidation_1-rmse:1.09908\n",
      "[16]\tvalidation_0-rmse:1.12457\tvalidation_1-rmse:1.09590\n",
      "[17]\tvalidation_0-rmse:1.12022\tvalidation_1-rmse:1.09255\n",
      "[18]\tvalidation_0-rmse:1.11617\tvalidation_1-rmse:1.08916\n",
      "[19]\tvalidation_0-rmse:1.11127\tvalidation_1-rmse:1.08584\n",
      "[20]\tvalidation_0-rmse:1.10663\tvalidation_1-rmse:1.08244\n",
      "[21]\tvalidation_0-rmse:1.10239\tvalidation_1-rmse:1.07917\n",
      "[22]\tvalidation_0-rmse:1.09799\tvalidation_1-rmse:1.07601\n",
      "[23]\tvalidation_0-rmse:1.09418\tvalidation_1-rmse:1.07289\n",
      "[24]\tvalidation_0-rmse:1.09049\tvalidation_1-rmse:1.06997\n",
      "[25]\tvalidation_0-rmse:1.08677\tvalidation_1-rmse:1.06695\n",
      "[26]\tvalidation_0-rmse:1.08312\tvalidation_1-rmse:1.06390\n",
      "[27]\tvalidation_0-rmse:1.07950\tvalidation_1-rmse:1.06112\n",
      "[28]\tvalidation_0-rmse:1.07591\tvalidation_1-rmse:1.05833\n",
      "[29]\tvalidation_0-rmse:1.07263\tvalidation_1-rmse:1.05556\n",
      "[30]\tvalidation_0-rmse:1.06813\tvalidation_1-rmse:1.05289\n",
      "[31]\tvalidation_0-rmse:1.06474\tvalidation_1-rmse:1.05034\n",
      "[32]\tvalidation_0-rmse:1.06148\tvalidation_1-rmse:1.04771\n",
      "[33]\tvalidation_0-rmse:1.05769\tvalidation_1-rmse:1.04525\n",
      "[34]\tvalidation_0-rmse:1.05437\tvalidation_1-rmse:1.04269\n",
      "[35]\tvalidation_0-rmse:1.05120\tvalidation_1-rmse:1.04035\n",
      "[36]\tvalidation_0-rmse:1.04807\tvalidation_1-rmse:1.03789\n",
      "[37]\tvalidation_0-rmse:1.04523\tvalidation_1-rmse:1.03564\n",
      "[38]\tvalidation_0-rmse:1.04221\tvalidation_1-rmse:1.03337\n",
      "[39]\tvalidation_0-rmse:1.03928\tvalidation_1-rmse:1.03094\n",
      "[40]\tvalidation_0-rmse:1.03573\tvalidation_1-rmse:1.02849\n",
      "[41]\tvalidation_0-rmse:1.03285\tvalidation_1-rmse:1.02620\n",
      "[42]\tvalidation_0-rmse:1.02988\tvalidation_1-rmse:1.02394\n",
      "[43]\tvalidation_0-rmse:1.02673\tvalidation_1-rmse:1.02172\n",
      "[44]\tvalidation_0-rmse:1.02309\tvalidation_1-rmse:1.01960\n",
      "[45]\tvalidation_0-rmse:1.02046\tvalidation_1-rmse:1.01771\n",
      "[46]\tvalidation_0-rmse:1.01784\tvalidation_1-rmse:1.01573\n",
      "[47]\tvalidation_0-rmse:1.01508\tvalidation_1-rmse:1.01387\n",
      "[48]\tvalidation_0-rmse:1.01191\tvalidation_1-rmse:1.01181\n",
      "[49]\tvalidation_0-rmse:1.00931\tvalidation_1-rmse:1.00991\n",
      "[50]\tvalidation_0-rmse:1.00669\tvalidation_1-rmse:1.00796\n",
      "[51]\tvalidation_0-rmse:1.00425\tvalidation_1-rmse:1.00618\n",
      "[52]\tvalidation_0-rmse:1.00168\tvalidation_1-rmse:1.00427\n",
      "[53]\tvalidation_0-rmse:0.99929\tvalidation_1-rmse:1.00244\n",
      "[54]\tvalidation_0-rmse:0.99686\tvalidation_1-rmse:1.00057\n",
      "[55]\tvalidation_0-rmse:0.99453\tvalidation_1-rmse:0.99883\n",
      "[56]\tvalidation_0-rmse:0.99230\tvalidation_1-rmse:0.99705\n",
      "[57]\tvalidation_0-rmse:0.98935\tvalidation_1-rmse:0.99529\n",
      "[58]\tvalidation_0-rmse:0.98701\tvalidation_1-rmse:0.99358\n",
      "[59]\tvalidation_0-rmse:0.98487\tvalidation_1-rmse:0.99203\n",
      "[60]\tvalidation_0-rmse:0.98298\tvalidation_1-rmse:0.99072\n",
      "[61]\tvalidation_0-rmse:0.98095\tvalidation_1-rmse:0.98920\n",
      "[62]\tvalidation_0-rmse:0.97805\tvalidation_1-rmse:0.98760\n",
      "[63]\tvalidation_0-rmse:0.97583\tvalidation_1-rmse:0.98617\n",
      "[64]\tvalidation_0-rmse:0.97378\tvalidation_1-rmse:0.98461\n",
      "[65]\tvalidation_0-rmse:0.97166\tvalidation_1-rmse:0.98309\n",
      "[66]\tvalidation_0-rmse:0.96963\tvalidation_1-rmse:0.98161\n",
      "[67]\tvalidation_0-rmse:0.96725\tvalidation_1-rmse:0.98030\n",
      "[68]\tvalidation_0-rmse:0.96499\tvalidation_1-rmse:0.97889\n",
      "[69]\tvalidation_0-rmse:0.96295\tvalidation_1-rmse:0.97752\n",
      "[70]\tvalidation_0-rmse:0.96110\tvalidation_1-rmse:0.97619\n",
      "[71]\tvalidation_0-rmse:0.95921\tvalidation_1-rmse:0.97489\n",
      "[72]\tvalidation_0-rmse:0.95746\tvalidation_1-rmse:0.97376\n",
      "[73]\tvalidation_0-rmse:0.95577\tvalidation_1-rmse:0.97250\n",
      "[74]\tvalidation_0-rmse:0.95400\tvalidation_1-rmse:0.97121\n",
      "[75]\tvalidation_0-rmse:0.95249\tvalidation_1-rmse:0.97015\n",
      "[76]\tvalidation_0-rmse:0.95080\tvalidation_1-rmse:0.96886\n",
      "[77]\tvalidation_0-rmse:0.94914\tvalidation_1-rmse:0.96774\n",
      "[78]\tvalidation_0-rmse:0.94749\tvalidation_1-rmse:0.96655\n",
      "[79]\tvalidation_0-rmse:0.94588\tvalidation_1-rmse:0.96542\n",
      "[80]\tvalidation_0-rmse:0.94439\tvalidation_1-rmse:0.96439\n",
      "[81]\tvalidation_0-rmse:0.94242\tvalidation_1-rmse:0.96328\n",
      "[82]\tvalidation_0-rmse:0.94081\tvalidation_1-rmse:0.96230\n",
      "[83]\tvalidation_0-rmse:0.93924\tvalidation_1-rmse:0.96131\n",
      "[84]\tvalidation_0-rmse:0.93777\tvalidation_1-rmse:0.96030\n",
      "[85]\tvalidation_0-rmse:0.93619\tvalidation_1-rmse:0.95922\n",
      "[86]\tvalidation_0-rmse:0.93479\tvalidation_1-rmse:0.95822\n",
      "[87]\tvalidation_0-rmse:0.93335\tvalidation_1-rmse:0.95727\n",
      "[88]\tvalidation_0-rmse:0.93197\tvalidation_1-rmse:0.95636\n",
      "[89]\tvalidation_0-rmse:0.93063\tvalidation_1-rmse:0.95545\n",
      "[90]\tvalidation_0-rmse:0.92875\tvalidation_1-rmse:0.95459\n",
      "[91]\tvalidation_0-rmse:0.92735\tvalidation_1-rmse:0.95373\n",
      "[92]\tvalidation_0-rmse:0.92603\tvalidation_1-rmse:0.95300\n",
      "[93]\tvalidation_0-rmse:0.92477\tvalidation_1-rmse:0.95220\n",
      "[94]\tvalidation_0-rmse:0.92355\tvalidation_1-rmse:0.95137\n",
      "[95]\tvalidation_0-rmse:0.92226\tvalidation_1-rmse:0.95055\n",
      "[96]\tvalidation_0-rmse:0.92106\tvalidation_1-rmse:0.94972\n",
      "[97]\tvalidation_0-rmse:0.91978\tvalidation_1-rmse:0.94893\n",
      "[98]\tvalidation_0-rmse:0.91854\tvalidation_1-rmse:0.94808\n",
      "[99]\tvalidation_0-rmse:0.91741\tvalidation_1-rmse:0.94734\n",
      "[100]\tvalidation_0-rmse:0.91570\tvalidation_1-rmse:0.94671\n",
      "[101]\tvalidation_0-rmse:0.91443\tvalidation_1-rmse:0.94604\n",
      "[102]\tvalidation_0-rmse:0.91320\tvalidation_1-rmse:0.94522\n",
      "[103]\tvalidation_0-rmse:0.91199\tvalidation_1-rmse:0.94444\n",
      "[104]\tvalidation_0-rmse:0.91081\tvalidation_1-rmse:0.94356\n",
      "[105]\tvalidation_0-rmse:0.90970\tvalidation_1-rmse:0.94289\n",
      "[106]\tvalidation_0-rmse:0.90855\tvalidation_1-rmse:0.94221\n",
      "[107]\tvalidation_0-rmse:0.90744\tvalidation_1-rmse:0.94148\n",
      "[108]\tvalidation_0-rmse:0.90643\tvalidation_1-rmse:0.94085\n",
      "[109]\tvalidation_0-rmse:0.90534\tvalidation_1-rmse:0.94021\n",
      "[110]\tvalidation_0-rmse:0.90430\tvalidation_1-rmse:0.93955\n",
      "[111]\tvalidation_0-rmse:0.90338\tvalidation_1-rmse:0.93904\n",
      "[112]\tvalidation_0-rmse:0.90242\tvalidation_1-rmse:0.93844\n",
      "[113]\tvalidation_0-rmse:0.90156\tvalidation_1-rmse:0.93793\n",
      "[114]\tvalidation_0-rmse:0.90061\tvalidation_1-rmse:0.93725\n",
      "[115]\tvalidation_0-rmse:0.89972\tvalidation_1-rmse:0.93670\n",
      "[116]\tvalidation_0-rmse:0.89881\tvalidation_1-rmse:0.93613\n",
      "[117]\tvalidation_0-rmse:0.89796\tvalidation_1-rmse:0.93568\n",
      "[118]\tvalidation_0-rmse:0.89706\tvalidation_1-rmse:0.93510\n",
      "[119]\tvalidation_0-rmse:0.89619\tvalidation_1-rmse:0.93456\n",
      "[120]\tvalidation_0-rmse:0.89527\tvalidation_1-rmse:0.93404\n",
      "[121]\tvalidation_0-rmse:0.89443\tvalidation_1-rmse:0.93348\n",
      "[122]\tvalidation_0-rmse:0.89358\tvalidation_1-rmse:0.93293\n",
      "[123]\tvalidation_0-rmse:0.89279\tvalidation_1-rmse:0.93246\n",
      "[124]\tvalidation_0-rmse:0.89198\tvalidation_1-rmse:0.93201\n",
      "[125]\tvalidation_0-rmse:0.89122\tvalidation_1-rmse:0.93154\n",
      "[126]\tvalidation_0-rmse:0.89045\tvalidation_1-rmse:0.93102\n",
      "[127]\tvalidation_0-rmse:0.88970\tvalidation_1-rmse:0.93056\n",
      "[128]\tvalidation_0-rmse:0.88858\tvalidation_1-rmse:0.93012\n",
      "[129]\tvalidation_0-rmse:0.88756\tvalidation_1-rmse:0.92975\n",
      "[130]\tvalidation_0-rmse:0.88678\tvalidation_1-rmse:0.92937\n",
      "[131]\tvalidation_0-rmse:0.88595\tvalidation_1-rmse:0.92893\n",
      "[132]\tvalidation_0-rmse:0.88521\tvalidation_1-rmse:0.92847\n",
      "[133]\tvalidation_0-rmse:0.88443\tvalidation_1-rmse:0.92804\n",
      "[134]\tvalidation_0-rmse:0.88369\tvalidation_1-rmse:0.92766\n",
      "[135]\tvalidation_0-rmse:0.88304\tvalidation_1-rmse:0.92731\n"
     ]
    },
    {
     "name": "stdout",
     "output_type": "stream",
     "text": [
      "[136]\tvalidation_0-rmse:0.88240\tvalidation_1-rmse:0.92692\n",
      "[137]\tvalidation_0-rmse:0.88172\tvalidation_1-rmse:0.92655\n",
      "[138]\tvalidation_0-rmse:0.88104\tvalidation_1-rmse:0.92623\n",
      "[139]\tvalidation_0-rmse:0.88037\tvalidation_1-rmse:0.92587\n",
      "[140]\tvalidation_0-rmse:0.87971\tvalidation_1-rmse:0.92551\n",
      "[141]\tvalidation_0-rmse:0.87899\tvalidation_1-rmse:0.92511\n",
      "[142]\tvalidation_0-rmse:0.87834\tvalidation_1-rmse:0.92478\n",
      "[143]\tvalidation_0-rmse:0.87773\tvalidation_1-rmse:0.92452\n",
      "[144]\tvalidation_0-rmse:0.87716\tvalidation_1-rmse:0.92423\n",
      "[145]\tvalidation_0-rmse:0.87654\tvalidation_1-rmse:0.92395\n",
      "[146]\tvalidation_0-rmse:0.87598\tvalidation_1-rmse:0.92370\n",
      "[147]\tvalidation_0-rmse:0.87535\tvalidation_1-rmse:0.92334\n",
      "[148]\tvalidation_0-rmse:0.87476\tvalidation_1-rmse:0.92303\n",
      "[149]\tvalidation_0-rmse:0.87422\tvalidation_1-rmse:0.92275\n",
      "[150]\tvalidation_0-rmse:0.87360\tvalidation_1-rmse:0.92241\n",
      "[151]\tvalidation_0-rmse:0.87288\tvalidation_1-rmse:0.92207\n",
      "[152]\tvalidation_0-rmse:0.87228\tvalidation_1-rmse:0.92175\n",
      "[153]\tvalidation_0-rmse:0.87167\tvalidation_1-rmse:0.92144\n",
      "[154]\tvalidation_0-rmse:0.87109\tvalidation_1-rmse:0.92114\n",
      "[155]\tvalidation_0-rmse:0.87053\tvalidation_1-rmse:0.92081\n",
      "[156]\tvalidation_0-rmse:0.86998\tvalidation_1-rmse:0.92052\n",
      "[157]\tvalidation_0-rmse:0.86950\tvalidation_1-rmse:0.92031\n",
      "[158]\tvalidation_0-rmse:0.86896\tvalidation_1-rmse:0.92010\n",
      "[159]\tvalidation_0-rmse:0.86842\tvalidation_1-rmse:0.91981\n",
      "[160]\tvalidation_0-rmse:0.86792\tvalidation_1-rmse:0.91959\n",
      "[161]\tvalidation_0-rmse:0.86744\tvalidation_1-rmse:0.91932\n",
      "[162]\tvalidation_0-rmse:0.86696\tvalidation_1-rmse:0.91912\n",
      "[163]\tvalidation_0-rmse:0.86652\tvalidation_1-rmse:0.91891\n",
      "[164]\tvalidation_0-rmse:0.86609\tvalidation_1-rmse:0.91874\n",
      "[165]\tvalidation_0-rmse:0.86566\tvalidation_1-rmse:0.91859\n",
      "[166]\tvalidation_0-rmse:0.86524\tvalidation_1-rmse:0.91842\n",
      "[167]\tvalidation_0-rmse:0.86471\tvalidation_1-rmse:0.91819\n",
      "[168]\tvalidation_0-rmse:0.86422\tvalidation_1-rmse:0.91795\n",
      "[169]\tvalidation_0-rmse:0.86372\tvalidation_1-rmse:0.91775\n",
      "[170]\tvalidation_0-rmse:0.86328\tvalidation_1-rmse:0.91753\n",
      "[171]\tvalidation_0-rmse:0.86287\tvalidation_1-rmse:0.91732\n",
      "[172]\tvalidation_0-rmse:0.86246\tvalidation_1-rmse:0.91712\n",
      "[173]\tvalidation_0-rmse:0.86198\tvalidation_1-rmse:0.91688\n",
      "[174]\tvalidation_0-rmse:0.86152\tvalidation_1-rmse:0.91668\n",
      "[175]\tvalidation_0-rmse:0.86112\tvalidation_1-rmse:0.91657\n",
      "[176]\tvalidation_0-rmse:0.86074\tvalidation_1-rmse:0.91637\n",
      "[177]\tvalidation_0-rmse:0.86033\tvalidation_1-rmse:0.91622\n",
      "[178]\tvalidation_0-rmse:0.85999\tvalidation_1-rmse:0.91611\n",
      "[179]\tvalidation_0-rmse:0.85959\tvalidation_1-rmse:0.91594\n",
      "[180]\tvalidation_0-rmse:0.85920\tvalidation_1-rmse:0.91575\n",
      "[181]\tvalidation_0-rmse:0.85882\tvalidation_1-rmse:0.91561\n",
      "[182]\tvalidation_0-rmse:0.85850\tvalidation_1-rmse:0.91548\n",
      "[183]\tvalidation_0-rmse:0.85816\tvalidation_1-rmse:0.91530\n",
      "[184]\tvalidation_0-rmse:0.85777\tvalidation_1-rmse:0.91512\n",
      "[185]\tvalidation_0-rmse:0.85744\tvalidation_1-rmse:0.91496\n",
      "[186]\tvalidation_0-rmse:0.85709\tvalidation_1-rmse:0.91480\n",
      "[187]\tvalidation_0-rmse:0.85674\tvalidation_1-rmse:0.91464\n",
      "[188]\tvalidation_0-rmse:0.85640\tvalidation_1-rmse:0.91449\n",
      "[189]\tvalidation_0-rmse:0.85605\tvalidation_1-rmse:0.91441\n",
      "[190]\tvalidation_0-rmse:0.85564\tvalidation_1-rmse:0.91427\n",
      "[191]\tvalidation_0-rmse:0.85516\tvalidation_1-rmse:0.91413\n",
      "[192]\tvalidation_0-rmse:0.85476\tvalidation_1-rmse:0.91398\n",
      "[193]\tvalidation_0-rmse:0.85429\tvalidation_1-rmse:0.91383\n",
      "[194]\tvalidation_0-rmse:0.85390\tvalidation_1-rmse:0.91368\n",
      "[195]\tvalidation_0-rmse:0.85345\tvalidation_1-rmse:0.91363\n",
      "[196]\tvalidation_0-rmse:0.85314\tvalidation_1-rmse:0.91353\n",
      "[197]\tvalidation_0-rmse:0.85282\tvalidation_1-rmse:0.91345\n",
      "[198]\tvalidation_0-rmse:0.85248\tvalidation_1-rmse:0.91334\n",
      "[199]\tvalidation_0-rmse:0.85213\tvalidation_1-rmse:0.91322\n",
      "[200]\tvalidation_0-rmse:0.85177\tvalidation_1-rmse:0.91311\n",
      "[201]\tvalidation_0-rmse:0.85144\tvalidation_1-rmse:0.91295\n",
      "[202]\tvalidation_0-rmse:0.85110\tvalidation_1-rmse:0.91280\n",
      "[203]\tvalidation_0-rmse:0.85079\tvalidation_1-rmse:0.91268\n",
      "[204]\tvalidation_0-rmse:0.85046\tvalidation_1-rmse:0.91249\n",
      "[205]\tvalidation_0-rmse:0.85016\tvalidation_1-rmse:0.91236\n",
      "[206]\tvalidation_0-rmse:0.84989\tvalidation_1-rmse:0.91229\n",
      "[207]\tvalidation_0-rmse:0.84957\tvalidation_1-rmse:0.91218\n",
      "[208]\tvalidation_0-rmse:0.84929\tvalidation_1-rmse:0.91208\n",
      "[209]\tvalidation_0-rmse:0.84899\tvalidation_1-rmse:0.91191\n",
      "[210]\tvalidation_0-rmse:0.84871\tvalidation_1-rmse:0.91173\n",
      "[211]\tvalidation_0-rmse:0.84846\tvalidation_1-rmse:0.91168\n",
      "[212]\tvalidation_0-rmse:0.84818\tvalidation_1-rmse:0.91162\n",
      "[213]\tvalidation_0-rmse:0.84789\tvalidation_1-rmse:0.91152\n",
      "[214]\tvalidation_0-rmse:0.84762\tvalidation_1-rmse:0.91144\n",
      "[215]\tvalidation_0-rmse:0.84735\tvalidation_1-rmse:0.91136\n",
      "[216]\tvalidation_0-rmse:0.84709\tvalidation_1-rmse:0.91127\n",
      "[217]\tvalidation_0-rmse:0.84679\tvalidation_1-rmse:0.91115\n",
      "[218]\tvalidation_0-rmse:0.84653\tvalidation_1-rmse:0.91104\n",
      "[219]\tvalidation_0-rmse:0.84631\tvalidation_1-rmse:0.91098\n",
      "[220]\tvalidation_0-rmse:0.84609\tvalidation_1-rmse:0.91091\n",
      "[221]\tvalidation_0-rmse:0.84583\tvalidation_1-rmse:0.91079\n",
      "[222]\tvalidation_0-rmse:0.84559\tvalidation_1-rmse:0.91073\n",
      "[223]\tvalidation_0-rmse:0.84535\tvalidation_1-rmse:0.91059\n",
      "[224]\tvalidation_0-rmse:0.84508\tvalidation_1-rmse:0.91047\n",
      "[225]\tvalidation_0-rmse:0.84484\tvalidation_1-rmse:0.91041\n",
      "[226]\tvalidation_0-rmse:0.84462\tvalidation_1-rmse:0.91041\n",
      "[227]\tvalidation_0-rmse:0.84440\tvalidation_1-rmse:0.91033\n",
      "[228]\tvalidation_0-rmse:0.84417\tvalidation_1-rmse:0.91029\n",
      "[229]\tvalidation_0-rmse:0.84393\tvalidation_1-rmse:0.91013\n",
      "[230]\tvalidation_0-rmse:0.84370\tvalidation_1-rmse:0.91007\n",
      "[231]\tvalidation_0-rmse:0.84347\tvalidation_1-rmse:0.91003\n",
      "[232]\tvalidation_0-rmse:0.84323\tvalidation_1-rmse:0.90996\n",
      "[233]\tvalidation_0-rmse:0.84298\tvalidation_1-rmse:0.90988\n",
      "[234]\tvalidation_0-rmse:0.84276\tvalidation_1-rmse:0.90987\n",
      "[235]\tvalidation_0-rmse:0.84255\tvalidation_1-rmse:0.90983\n",
      "[236]\tvalidation_0-rmse:0.84235\tvalidation_1-rmse:0.90980\n",
      "[237]\tvalidation_0-rmse:0.84211\tvalidation_1-rmse:0.90974\n",
      "[238]\tvalidation_0-rmse:0.84188\tvalidation_1-rmse:0.90965\n",
      "[239]\tvalidation_0-rmse:0.84167\tvalidation_1-rmse:0.90957\n",
      "[240]\tvalidation_0-rmse:0.84142\tvalidation_1-rmse:0.90950\n",
      "[241]\tvalidation_0-rmse:0.84120\tvalidation_1-rmse:0.90938\n",
      "[242]\tvalidation_0-rmse:0.84096\tvalidation_1-rmse:0.90934\n",
      "[243]\tvalidation_0-rmse:0.84076\tvalidation_1-rmse:0.90930\n",
      "[244]\tvalidation_0-rmse:0.84054\tvalidation_1-rmse:0.90917\n",
      "[245]\tvalidation_0-rmse:0.84032\tvalidation_1-rmse:0.90908\n",
      "[246]\tvalidation_0-rmse:0.84010\tvalidation_1-rmse:0.90904\n",
      "[247]\tvalidation_0-rmse:0.83988\tvalidation_1-rmse:0.90898\n",
      "[248]\tvalidation_0-rmse:0.83970\tvalidation_1-rmse:0.90890\n",
      "[249]\tvalidation_0-rmse:0.83950\tvalidation_1-rmse:0.90883\n",
      "[250]\tvalidation_0-rmse:0.83928\tvalidation_1-rmse:0.90876\n",
      "[251]\tvalidation_0-rmse:0.83910\tvalidation_1-rmse:0.90869\n",
      "[252]\tvalidation_0-rmse:0.83887\tvalidation_1-rmse:0.90863\n",
      "[253]\tvalidation_0-rmse:0.83868\tvalidation_1-rmse:0.90858\n",
      "[254]\tvalidation_0-rmse:0.83851\tvalidation_1-rmse:0.90859\n",
      "[255]\tvalidation_0-rmse:0.83823\tvalidation_1-rmse:0.90849\n",
      "[256]\tvalidation_0-rmse:0.83805\tvalidation_1-rmse:0.90839\n",
      "[257]\tvalidation_0-rmse:0.83786\tvalidation_1-rmse:0.90833\n",
      "[258]\tvalidation_0-rmse:0.83768\tvalidation_1-rmse:0.90821\n",
      "[259]\tvalidation_0-rmse:0.83756\tvalidation_1-rmse:0.90817\n",
      "[260]\tvalidation_0-rmse:0.83738\tvalidation_1-rmse:0.90815\n",
      "[261]\tvalidation_0-rmse:0.83718\tvalidation_1-rmse:0.90808\n",
      "[262]\tvalidation_0-rmse:0.83705\tvalidation_1-rmse:0.90807\n",
      "[263]\tvalidation_0-rmse:0.83687\tvalidation_1-rmse:0.90799\n",
      "[264]\tvalidation_0-rmse:0.83672\tvalidation_1-rmse:0.90795\n",
      "[265]\tvalidation_0-rmse:0.83656\tvalidation_1-rmse:0.90794\n",
      "[266]\tvalidation_0-rmse:0.83641\tvalidation_1-rmse:0.90793\n",
      "[267]\tvalidation_0-rmse:0.83620\tvalidation_1-rmse:0.90780\n",
      "[268]\tvalidation_0-rmse:0.83606\tvalidation_1-rmse:0.90780\n",
      "[269]\tvalidation_0-rmse:0.83591\tvalidation_1-rmse:0.90774\n",
      "[270]\tvalidation_0-rmse:0.83569\tvalidation_1-rmse:0.90776\n",
      "[271]\tvalidation_0-rmse:0.83548\tvalidation_1-rmse:0.90775\n",
      "[272]\tvalidation_0-rmse:0.83532\tvalidation_1-rmse:0.90772\n",
      "[273]\tvalidation_0-rmse:0.83519\tvalidation_1-rmse:0.90771\n",
      "[274]\tvalidation_0-rmse:0.83505\tvalidation_1-rmse:0.90767\n",
      "[275]\tvalidation_0-rmse:0.83485\tvalidation_1-rmse:0.90754\n",
      "[276]\tvalidation_0-rmse:0.83472\tvalidation_1-rmse:0.90753\n",
      "[277]\tvalidation_0-rmse:0.83456\tvalidation_1-rmse:0.90750\n"
     ]
    },
    {
     "name": "stdout",
     "output_type": "stream",
     "text": [
      "[278]\tvalidation_0-rmse:0.83439\tvalidation_1-rmse:0.90751\n",
      "[279]\tvalidation_0-rmse:0.83421\tvalidation_1-rmse:0.90749\n",
      "[280]\tvalidation_0-rmse:0.83409\tvalidation_1-rmse:0.90750\n",
      "[281]\tvalidation_0-rmse:0.83391\tvalidation_1-rmse:0.90744\n",
      "[282]\tvalidation_0-rmse:0.83377\tvalidation_1-rmse:0.90747\n",
      "[283]\tvalidation_0-rmse:0.83362\tvalidation_1-rmse:0.90743\n",
      "[284]\tvalidation_0-rmse:0.83344\tvalidation_1-rmse:0.90740\n",
      "[285]\tvalidation_0-rmse:0.83330\tvalidation_1-rmse:0.90741\n",
      "[286]\tvalidation_0-rmse:0.83312\tvalidation_1-rmse:0.90736\n",
      "[287]\tvalidation_0-rmse:0.83298\tvalidation_1-rmse:0.90734\n",
      "[288]\tvalidation_0-rmse:0.83281\tvalidation_1-rmse:0.90729\n",
      "[289]\tvalidation_0-rmse:0.83267\tvalidation_1-rmse:0.90722\n",
      "[290]\tvalidation_0-rmse:0.83251\tvalidation_1-rmse:0.90720\n",
      "[291]\tvalidation_0-rmse:0.83237\tvalidation_1-rmse:0.90720\n",
      "[292]\tvalidation_0-rmse:0.83220\tvalidation_1-rmse:0.90716\n",
      "[293]\tvalidation_0-rmse:0.83204\tvalidation_1-rmse:0.90711\n",
      "[294]\tvalidation_0-rmse:0.83187\tvalidation_1-rmse:0.90702\n",
      "[295]\tvalidation_0-rmse:0.83172\tvalidation_1-rmse:0.90697\n",
      "[296]\tvalidation_0-rmse:0.83161\tvalidation_1-rmse:0.90696\n",
      "[297]\tvalidation_0-rmse:0.83147\tvalidation_1-rmse:0.90695\n",
      "[298]\tvalidation_0-rmse:0.83136\tvalidation_1-rmse:0.90694\n",
      "[299]\tvalidation_0-rmse:0.83124\tvalidation_1-rmse:0.90691\n",
      "[300]\tvalidation_0-rmse:0.83110\tvalidation_1-rmse:0.90690\n",
      "[301]\tvalidation_0-rmse:0.83096\tvalidation_1-rmse:0.90692\n",
      "[302]\tvalidation_0-rmse:0.83079\tvalidation_1-rmse:0.90689\n",
      "[303]\tvalidation_0-rmse:0.83065\tvalidation_1-rmse:0.90690\n",
      "[304]\tvalidation_0-rmse:0.83053\tvalidation_1-rmse:0.90687\n",
      "[305]\tvalidation_0-rmse:0.83040\tvalidation_1-rmse:0.90686\n",
      "[306]\tvalidation_0-rmse:0.83023\tvalidation_1-rmse:0.90684\n",
      "[307]\tvalidation_0-rmse:0.83009\tvalidation_1-rmse:0.90685\n",
      "[308]\tvalidation_0-rmse:0.82997\tvalidation_1-rmse:0.90683\n",
      "[309]\tvalidation_0-rmse:0.82981\tvalidation_1-rmse:0.90676\n",
      "[310]\tvalidation_0-rmse:0.82970\tvalidation_1-rmse:0.90675\n",
      "[311]\tvalidation_0-rmse:0.82949\tvalidation_1-rmse:0.90674\n",
      "[312]\tvalidation_0-rmse:0.82937\tvalidation_1-rmse:0.90671\n",
      "[313]\tvalidation_0-rmse:0.82926\tvalidation_1-rmse:0.90671\n",
      "[314]\tvalidation_0-rmse:0.82913\tvalidation_1-rmse:0.90673\n",
      "[315]\tvalidation_0-rmse:0.82903\tvalidation_1-rmse:0.90675\n",
      "[316]\tvalidation_0-rmse:0.82888\tvalidation_1-rmse:0.90669\n",
      "[317]\tvalidation_0-rmse:0.82877\tvalidation_1-rmse:0.90670\n",
      "[318]\tvalidation_0-rmse:0.82868\tvalidation_1-rmse:0.90672\n",
      "[319]\tvalidation_0-rmse:0.82858\tvalidation_1-rmse:0.90681\n",
      "[320]\tvalidation_0-rmse:0.82845\tvalidation_1-rmse:0.90678\n",
      "[321]\tvalidation_0-rmse:0.82835\tvalidation_1-rmse:0.90680\n",
      "[322]\tvalidation_0-rmse:0.82822\tvalidation_1-rmse:0.90678\n",
      "[323]\tvalidation_0-rmse:0.82811\tvalidation_1-rmse:0.90683\n",
      "[324]\tvalidation_0-rmse:0.82803\tvalidation_1-rmse:0.90675\n",
      "[325]\tvalidation_0-rmse:0.82790\tvalidation_1-rmse:0.90676\n",
      "[326]\tvalidation_0-rmse:0.82781\tvalidation_1-rmse:0.90670\n",
      "Stopping. Best iteration:\n",
      "[316]\tvalidation_0-rmse:0.82888\tvalidation_1-rmse:0.90669\n",
      "\n"
     ]
    },
    {
     "data": {
      "text/plain": [
       "1753.9532492160797"
      ]
     },
     "execution_count": 94,
     "metadata": {},
     "output_type": "execute_result"
    }
   ],
   "source": [
    "ts = time.time()\n",
    "\n",
    "# XGB로 가정\n",
    "best_model = models[1]\n",
    "\n",
    "# learning_rate 0.01 조정해봄\n",
    "model = best_model(\n",
    "   # params\n",
    "    max_depth=8,\n",
    "    n_estimators=1000,\n",
    "    min_child_weight=300, \n",
    "    colsample_bytree=0.8, \n",
    "    subsample=0.8, \n",
    "    eta = 0.3,    \n",
    "    seed = 42,\n",
    "    learning_rate = 0.01\n",
    ")\n",
    "\n",
    "model.fit(\n",
    "        X_train, \n",
    "        Y_train, \n",
    "        eval_metric=\"rmse\", \n",
    "        eval_set=[(X_train, Y_train), (X_valid, Y_valid)], \n",
    "        verbose=True, \n",
    "        early_stopping_rounds = 10\n",
    "    )\n",
    "\n",
    "time.time() - ts"
   ]
  },
  {
   "cell_type": "markdown",
   "metadata": {},
   "source": [
    "별 차이 없음"
   ]
  },
  {
   "cell_type": "code",
   "execution_count": 104,
   "metadata": {
    "ExecuteTime": {
     "end_time": "2020-08-27T08:00:39.574426Z",
     "start_time": "2020-08-27T07:56:17.529901Z"
    }
   },
   "outputs": [
    {
     "name": "stdout",
     "output_type": "stream",
     "text": [
      "[16:56:26] WARNING: /home/conda/feedstock_root/build_artifacts/xgboost_1593723605503/work/src/gbm/gbtree.cc:139: Tree method is automatically selected to be 'approx' for faster speed. To use old behavior (exact greedy algorithm on single machine), set tree_method to 'exact'.\n",
      "[0]\tvalidation_0-rmse:1.15627\tvalidation_1-rmse:1.12055\n",
      "Multiple eval metrics have been passed: 'validation_1-rmse' will be used for early stopping.\n",
      "\n",
      "Will train until validation_1-rmse hasn't improved in 10 rounds.\n",
      "[1]\tvalidation_0-rmse:1.11541\tvalidation_1-rmse:1.08817\n",
      "[2]\tvalidation_0-rmse:1.07235\tvalidation_1-rmse:1.05457\n",
      "[3]\tvalidation_0-rmse:1.03808\tvalidation_1-rmse:1.02920\n",
      "[4]\tvalidation_0-rmse:1.00662\tvalidation_1-rmse:1.00658\n",
      "[5]\tvalidation_0-rmse:0.98089\tvalidation_1-rmse:0.98840\n",
      "[6]\tvalidation_0-rmse:0.95984\tvalidation_1-rmse:0.97451\n",
      "[7]\tvalidation_0-rmse:0.94181\tvalidation_1-rmse:0.96223\n",
      "[8]\tvalidation_0-rmse:0.92905\tvalidation_1-rmse:0.95273\n",
      "[9]\tvalidation_0-rmse:0.91445\tvalidation_1-rmse:0.94351\n",
      "[10]\tvalidation_0-rmse:0.90373\tvalidation_1-rmse:0.93658\n",
      "[11]\tvalidation_0-rmse:0.89433\tvalidation_1-rmse:0.93049\n",
      "[12]\tvalidation_0-rmse:0.88524\tvalidation_1-rmse:0.92543\n",
      "[13]\tvalidation_0-rmse:0.87797\tvalidation_1-rmse:0.92202\n",
      "[14]\tvalidation_0-rmse:0.87189\tvalidation_1-rmse:0.91877\n",
      "[15]\tvalidation_0-rmse:0.86727\tvalidation_1-rmse:0.91709\n",
      "[16]\tvalidation_0-rmse:0.86270\tvalidation_1-rmse:0.91581\n",
      "[17]\tvalidation_0-rmse:0.85850\tvalidation_1-rmse:0.91386\n",
      "[18]\tvalidation_0-rmse:0.85432\tvalidation_1-rmse:0.91250\n",
      "[19]\tvalidation_0-rmse:0.85113\tvalidation_1-rmse:0.91162\n",
      "[20]\tvalidation_0-rmse:0.84802\tvalidation_1-rmse:0.91075\n",
      "[21]\tvalidation_0-rmse:0.84552\tvalidation_1-rmse:0.91026\n",
      "[22]\tvalidation_0-rmse:0.84271\tvalidation_1-rmse:0.90893\n",
      "[23]\tvalidation_0-rmse:0.84093\tvalidation_1-rmse:0.90903\n",
      "[24]\tvalidation_0-rmse:0.83871\tvalidation_1-rmse:0.90848\n",
      "[25]\tvalidation_0-rmse:0.83704\tvalidation_1-rmse:0.90807\n",
      "[26]\tvalidation_0-rmse:0.83546\tvalidation_1-rmse:0.90766\n",
      "[27]\tvalidation_0-rmse:0.83384\tvalidation_1-rmse:0.90720\n",
      "[28]\tvalidation_0-rmse:0.83205\tvalidation_1-rmse:0.90760\n",
      "[29]\tvalidation_0-rmse:0.83087\tvalidation_1-rmse:0.90710\n",
      "[30]\tvalidation_0-rmse:0.82957\tvalidation_1-rmse:0.90728\n",
      "[31]\tvalidation_0-rmse:0.82833\tvalidation_1-rmse:0.90675\n",
      "[32]\tvalidation_0-rmse:0.82684\tvalidation_1-rmse:0.90689\n",
      "[33]\tvalidation_0-rmse:0.82604\tvalidation_1-rmse:0.90689\n",
      "[34]\tvalidation_0-rmse:0.82513\tvalidation_1-rmse:0.90658\n",
      "[35]\tvalidation_0-rmse:0.82442\tvalidation_1-rmse:0.90684\n",
      "[36]\tvalidation_0-rmse:0.82352\tvalidation_1-rmse:0.90694\n",
      "[37]\tvalidation_0-rmse:0.82284\tvalidation_1-rmse:0.90703\n",
      "[38]\tvalidation_0-rmse:0.82197\tvalidation_1-rmse:0.90701\n",
      "[39]\tvalidation_0-rmse:0.82121\tvalidation_1-rmse:0.90722\n",
      "[40]\tvalidation_0-rmse:0.82055\tvalidation_1-rmse:0.90691\n",
      "[41]\tvalidation_0-rmse:0.81980\tvalidation_1-rmse:0.90719\n",
      "[42]\tvalidation_0-rmse:0.81894\tvalidation_1-rmse:0.90765\n",
      "[43]\tvalidation_0-rmse:0.81800\tvalidation_1-rmse:0.90801\n",
      "[44]\tvalidation_0-rmse:0.81723\tvalidation_1-rmse:0.90859\n",
      "Stopping. Best iteration:\n",
      "[34]\tvalidation_0-rmse:0.82513\tvalidation_1-rmse:0.90658\n",
      "\n"
     ]
    },
    {
     "data": {
      "text/plain": [
       "262.0400640964508"
      ]
     },
     "execution_count": 104,
     "metadata": {},
     "output_type": "execute_result"
    }
   ],
   "source": [
    "ts = time.time()\n",
    "\n",
    "# XGB로 가정\n",
    "best_model = models[1]\n",
    "\n",
    "# n_estimators 2000 으로 조정해봄\n",
    "model = best_model(\n",
    "   # params\n",
    "    max_depth=8,\n",
    "    n_estimators=2000,\n",
    "    min_child_weight=300, \n",
    "    colsample_bytree=0.8, \n",
    "    subsample=0.8, \n",
    "    eta = 0.3,    \n",
    "    seed = 42,\n",
    "    learning_rate = 0.1\n",
    ")\n",
    "\n",
    "model.fit(\n",
    "        X_train, \n",
    "        Y_train, \n",
    "        eval_metric=\"rmse\", \n",
    "        eval_set=[(X_train, Y_train), (X_valid, Y_valid)], \n",
    "        verbose=True, \n",
    "        early_stopping_rounds = 10\n",
    "    )\n",
    "\n",
    "time.time() - ts"
   ]
  },
  {
   "cell_type": "markdown",
   "metadata": {},
   "source": [
    "별 차이 없음\n",
    "그냥 원래 하던대로 다시. 단, 이번엔 early_stopping을 높게"
   ]
  },
  {
   "cell_type": "code",
   "execution_count": 199,
   "metadata": {
    "ExecuteTime": {
     "end_time": "2020-08-27T08:56:21.386987Z",
     "start_time": "2020-08-27T08:50:21.529229Z"
    }
   },
   "outputs": [
    {
     "name": "stdout",
     "output_type": "stream",
     "text": [
      "[17:50:31] WARNING: /home/conda/feedstock_root/build_artifacts/xgboost_1593723605503/work/src/gbm/gbtree.cc:139: Tree method is automatically selected to be 'approx' for faster speed. To use old behavior (exact greedy algorithm on single machine), set tree_method to 'exact'.\n",
      "[0]\tvalidation_0-rmse:1.15627\tvalidation_1-rmse:1.12055\n",
      "Multiple eval metrics have been passed: 'validation_1-rmse' will be used for early stopping.\n",
      "\n",
      "Will train until validation_1-rmse hasn't improved in 30 rounds.\n",
      "[1]\tvalidation_0-rmse:1.11541\tvalidation_1-rmse:1.08817\n",
      "[2]\tvalidation_0-rmse:1.07235\tvalidation_1-rmse:1.05457\n",
      "[3]\tvalidation_0-rmse:1.03808\tvalidation_1-rmse:1.02920\n",
      "[4]\tvalidation_0-rmse:1.00662\tvalidation_1-rmse:1.00658\n",
      "[5]\tvalidation_0-rmse:0.98089\tvalidation_1-rmse:0.98840\n",
      "[6]\tvalidation_0-rmse:0.95984\tvalidation_1-rmse:0.97451\n",
      "[7]\tvalidation_0-rmse:0.94181\tvalidation_1-rmse:0.96223\n",
      "[8]\tvalidation_0-rmse:0.92905\tvalidation_1-rmse:0.95273\n",
      "[9]\tvalidation_0-rmse:0.91445\tvalidation_1-rmse:0.94351\n",
      "[10]\tvalidation_0-rmse:0.90373\tvalidation_1-rmse:0.93658\n",
      "[11]\tvalidation_0-rmse:0.89433\tvalidation_1-rmse:0.93049\n",
      "[12]\tvalidation_0-rmse:0.88524\tvalidation_1-rmse:0.92543\n",
      "[13]\tvalidation_0-rmse:0.87797\tvalidation_1-rmse:0.92202\n",
      "[14]\tvalidation_0-rmse:0.87189\tvalidation_1-rmse:0.91877\n",
      "[15]\tvalidation_0-rmse:0.86727\tvalidation_1-rmse:0.91709\n",
      "[16]\tvalidation_0-rmse:0.86270\tvalidation_1-rmse:0.91581\n",
      "[17]\tvalidation_0-rmse:0.85850\tvalidation_1-rmse:0.91386\n",
      "[18]\tvalidation_0-rmse:0.85432\tvalidation_1-rmse:0.91250\n",
      "[19]\tvalidation_0-rmse:0.85113\tvalidation_1-rmse:0.91162\n",
      "[20]\tvalidation_0-rmse:0.84802\tvalidation_1-rmse:0.91075\n",
      "[21]\tvalidation_0-rmse:0.84552\tvalidation_1-rmse:0.91026\n",
      "[22]\tvalidation_0-rmse:0.84271\tvalidation_1-rmse:0.90893\n",
      "[23]\tvalidation_0-rmse:0.84093\tvalidation_1-rmse:0.90903\n",
      "[24]\tvalidation_0-rmse:0.83871\tvalidation_1-rmse:0.90848\n",
      "[25]\tvalidation_0-rmse:0.83704\tvalidation_1-rmse:0.90807\n",
      "[26]\tvalidation_0-rmse:0.83546\tvalidation_1-rmse:0.90766\n",
      "[27]\tvalidation_0-rmse:0.83384\tvalidation_1-rmse:0.90720\n",
      "[28]\tvalidation_0-rmse:0.83205\tvalidation_1-rmse:0.90760\n",
      "[29]\tvalidation_0-rmse:0.83087\tvalidation_1-rmse:0.90710\n",
      "[30]\tvalidation_0-rmse:0.82957\tvalidation_1-rmse:0.90728\n",
      "[31]\tvalidation_0-rmse:0.82833\tvalidation_1-rmse:0.90675\n",
      "[32]\tvalidation_0-rmse:0.82684\tvalidation_1-rmse:0.90689\n",
      "[33]\tvalidation_0-rmse:0.82604\tvalidation_1-rmse:0.90689\n",
      "[34]\tvalidation_0-rmse:0.82513\tvalidation_1-rmse:0.90658\n",
      "[35]\tvalidation_0-rmse:0.82442\tvalidation_1-rmse:0.90684\n",
      "[36]\tvalidation_0-rmse:0.82352\tvalidation_1-rmse:0.90694\n",
      "[37]\tvalidation_0-rmse:0.82284\tvalidation_1-rmse:0.90703\n",
      "[38]\tvalidation_0-rmse:0.82197\tvalidation_1-rmse:0.90701\n",
      "[39]\tvalidation_0-rmse:0.82121\tvalidation_1-rmse:0.90722\n",
      "[40]\tvalidation_0-rmse:0.82055\tvalidation_1-rmse:0.90691\n",
      "[41]\tvalidation_0-rmse:0.81980\tvalidation_1-rmse:0.90719\n",
      "[42]\tvalidation_0-rmse:0.81894\tvalidation_1-rmse:0.90765\n",
      "[43]\tvalidation_0-rmse:0.81800\tvalidation_1-rmse:0.90801\n",
      "[44]\tvalidation_0-rmse:0.81723\tvalidation_1-rmse:0.90859\n",
      "[45]\tvalidation_0-rmse:0.81679\tvalidation_1-rmse:0.90883\n",
      "[46]\tvalidation_0-rmse:0.81572\tvalidation_1-rmse:0.90731\n",
      "[47]\tvalidation_0-rmse:0.81532\tvalidation_1-rmse:0.90744\n",
      "[48]\tvalidation_0-rmse:0.81491\tvalidation_1-rmse:0.90753\n",
      "[49]\tvalidation_0-rmse:0.81436\tvalidation_1-rmse:0.90738\n",
      "[50]\tvalidation_0-rmse:0.81399\tvalidation_1-rmse:0.90740\n",
      "[51]\tvalidation_0-rmse:0.81363\tvalidation_1-rmse:0.90787\n",
      "[52]\tvalidation_0-rmse:0.81324\tvalidation_1-rmse:0.90797\n",
      "[53]\tvalidation_0-rmse:0.81287\tvalidation_1-rmse:0.90889\n",
      "[54]\tvalidation_0-rmse:0.81246\tvalidation_1-rmse:0.90846\n",
      "[55]\tvalidation_0-rmse:0.81216\tvalidation_1-rmse:0.90841\n",
      "[56]\tvalidation_0-rmse:0.81184\tvalidation_1-rmse:0.90861\n",
      "[57]\tvalidation_0-rmse:0.81153\tvalidation_1-rmse:0.90857\n",
      "[58]\tvalidation_0-rmse:0.81057\tvalidation_1-rmse:0.90919\n",
      "[59]\tvalidation_0-rmse:0.81022\tvalidation_1-rmse:0.90942\n",
      "[60]\tvalidation_0-rmse:0.80989\tvalidation_1-rmse:0.90941\n",
      "[61]\tvalidation_0-rmse:0.80972\tvalidation_1-rmse:0.90946\n",
      "[62]\tvalidation_0-rmse:0.80936\tvalidation_1-rmse:0.90907\n",
      "[63]\tvalidation_0-rmse:0.80871\tvalidation_1-rmse:0.90881\n",
      "[64]\tvalidation_0-rmse:0.80848\tvalidation_1-rmse:0.90902\n",
      "Stopping. Best iteration:\n",
      "[34]\tvalidation_0-rmse:0.82513\tvalidation_1-rmse:0.90658\n",
      "\n"
     ]
    },
    {
     "data": {
      "text/plain": [
       "359.8530728816986"
      ]
     },
     "execution_count": 199,
     "metadata": {},
     "output_type": "execute_result"
    }
   ],
   "source": [
    "ts = time.time()\n",
    "\n",
    "# XGB로 가정\n",
    "best_model = models[1]\n",
    "\n",
    "model = best_model(\n",
    "   # params\n",
    "    max_depth=8,\n",
    "    n_estimators=1000,\n",
    "    min_child_weight=300, \n",
    "    colsample_bytree=0.8, \n",
    "    subsample=0.8, \n",
    "    eta = 0.3,    \n",
    "    seed = 42,\n",
    "    learning_rate = 0.1\n",
    ")\n",
    "\n",
    "model.fit(\n",
    "        X_train, \n",
    "        Y_train, \n",
    "        eval_metric=\"rmse\", \n",
    "        eval_set=[(X_train, Y_train), (X_valid, Y_valid)], \n",
    "        verbose=True, \n",
    "        early_stopping_rounds = 30\n",
    "    )\n",
    "\n",
    "time.time() - ts"
   ]
  },
  {
   "cell_type": "code",
   "execution_count": 200,
   "metadata": {
    "ExecuteTime": {
     "end_time": "2020-08-27T08:56:22.154260Z",
     "start_time": "2020-08-27T08:56:21.388042Z"
    }
   },
   "outputs": [],
   "source": [
    "predict_and_make_submission(model,'early_stopping30')"
   ]
  },
  {
   "cell_type": "code",
   "execution_count": 201,
   "metadata": {
    "ExecuteTime": {
     "end_time": "2020-08-27T08:57:23.397191Z",
     "start_time": "2020-08-27T08:56:22.155777Z"
    }
   },
   "outputs": [
    {
     "name": "stdout",
     "output_type": "stream",
     "text": [
      "[1]\ttraining's rmse: 1.14254\ttraining's l2: 1.3054\tvalid_1's rmse: 1.10191\tvalid_1's l2: 1.21421\n",
      "Training until validation scores don't improve for 30 rounds\n",
      "[2]\ttraining's rmse: 1.10262\ttraining's l2: 1.21578\tvalid_1's rmse: 1.07225\tvalid_1's l2: 1.14972\n",
      "[3]\ttraining's rmse: 1.06582\ttraining's l2: 1.13598\tvalid_1's rmse: 1.04559\tvalid_1's l2: 1.09326\n",
      "[4]\ttraining's rmse: 1.03463\ttraining's l2: 1.07046\tvalid_1's rmse: 1.02339\tvalid_1's l2: 1.04732\n",
      "[5]\ttraining's rmse: 1.0087\ttraining's l2: 1.01748\tvalid_1's rmse: 1.00503\tvalid_1's l2: 1.01008\n",
      "[6]\ttraining's rmse: 0.986444\ttraining's l2: 0.973071\tvalid_1's rmse: 0.990123\tvalid_1's l2: 0.980344\n",
      "[7]\ttraining's rmse: 0.967406\ttraining's l2: 0.935874\tvalid_1's rmse: 0.977803\tvalid_1's l2: 0.956098\n",
      "[8]\ttraining's rmse: 0.951754\ttraining's l2: 0.905835\tvalid_1's rmse: 0.968002\tvalid_1's l2: 0.937027\n",
      "[9]\ttraining's rmse: 0.938676\ttraining's l2: 0.881113\tvalid_1's rmse: 0.958867\tvalid_1's l2: 0.919426\n",
      "[10]\ttraining's rmse: 0.927097\ttraining's l2: 0.859509\tvalid_1's rmse: 0.952203\tvalid_1's l2: 0.90669\n",
      "[11]\ttraining's rmse: 0.917582\ttraining's l2: 0.841956\tvalid_1's rmse: 0.946693\tvalid_1's l2: 0.896227\n",
      "[12]\ttraining's rmse: 0.909165\ttraining's l2: 0.826582\tvalid_1's rmse: 0.941846\tvalid_1's l2: 0.887074\n",
      "[13]\ttraining's rmse: 0.902119\ttraining's l2: 0.813819\tvalid_1's rmse: 0.938189\tvalid_1's l2: 0.880199\n",
      "[14]\ttraining's rmse: 0.895688\ttraining's l2: 0.802258\tvalid_1's rmse: 0.934273\tvalid_1's l2: 0.872867\n",
      "[15]\ttraining's rmse: 0.890456\ttraining's l2: 0.792911\tvalid_1's rmse: 0.931845\tvalid_1's l2: 0.868336\n",
      "[16]\ttraining's rmse: 0.885899\ttraining's l2: 0.784817\tvalid_1's rmse: 0.929336\tvalid_1's l2: 0.863666\n",
      "[17]\ttraining's rmse: 0.881121\ttraining's l2: 0.776375\tvalid_1's rmse: 0.92725\tvalid_1's l2: 0.859792\n",
      "[18]\ttraining's rmse: 0.877567\ttraining's l2: 0.770124\tvalid_1's rmse: 0.925732\tvalid_1's l2: 0.85698\n",
      "[19]\ttraining's rmse: 0.874381\ttraining's l2: 0.764543\tvalid_1's rmse: 0.924254\tvalid_1's l2: 0.854245\n",
      "[20]\ttraining's rmse: 0.871388\ttraining's l2: 0.759317\tvalid_1's rmse: 0.923594\tvalid_1's l2: 0.853026\n",
      "[21]\ttraining's rmse: 0.86842\ttraining's l2: 0.754153\tvalid_1's rmse: 0.922144\tvalid_1's l2: 0.85035\n",
      "[22]\ttraining's rmse: 0.865985\ttraining's l2: 0.74993\tvalid_1's rmse: 0.921683\tvalid_1's l2: 0.8495\n",
      "[23]\ttraining's rmse: 0.863798\ttraining's l2: 0.746147\tvalid_1's rmse: 0.920977\tvalid_1's l2: 0.848198\n",
      "[24]\ttraining's rmse: 0.861799\ttraining's l2: 0.742698\tvalid_1's rmse: 0.92023\tvalid_1's l2: 0.846824\n",
      "[25]\ttraining's rmse: 0.859941\ttraining's l2: 0.739499\tvalid_1's rmse: 0.919708\tvalid_1's l2: 0.845862\n",
      "[26]\ttraining's rmse: 0.858314\ttraining's l2: 0.736702\tvalid_1's rmse: 0.919398\tvalid_1's l2: 0.845293\n",
      "[27]\ttraining's rmse: 0.857009\ttraining's l2: 0.734464\tvalid_1's rmse: 0.919041\tvalid_1's l2: 0.844637\n",
      "[28]\ttraining's rmse: 0.855554\ttraining's l2: 0.731972\tvalid_1's rmse: 0.918672\tvalid_1's l2: 0.843958\n",
      "[29]\ttraining's rmse: 0.854476\ttraining's l2: 0.730128\tvalid_1's rmse: 0.918205\tvalid_1's l2: 0.8431\n",
      "[30]\ttraining's rmse: 0.853058\ttraining's l2: 0.727708\tvalid_1's rmse: 0.917994\tvalid_1's l2: 0.842713\n",
      "[31]\ttraining's rmse: 0.852094\ttraining's l2: 0.726064\tvalid_1's rmse: 0.917419\tvalid_1's l2: 0.841658\n",
      "[32]\ttraining's rmse: 0.851154\ttraining's l2: 0.724463\tvalid_1's rmse: 0.917404\tvalid_1's l2: 0.84163\n",
      "[33]\ttraining's rmse: 0.850001\ttraining's l2: 0.722502\tvalid_1's rmse: 0.917061\tvalid_1's l2: 0.841001\n",
      "[34]\ttraining's rmse: 0.848949\ttraining's l2: 0.720714\tvalid_1's rmse: 0.916887\tvalid_1's l2: 0.840682\n",
      "[35]\ttraining's rmse: 0.84804\ttraining's l2: 0.719172\tvalid_1's rmse: 0.916593\tvalid_1's l2: 0.840143\n",
      "[36]\ttraining's rmse: 0.846916\ttraining's l2: 0.717267\tvalid_1's rmse: 0.916278\tvalid_1's l2: 0.839565\n",
      "[37]\ttraining's rmse: 0.846142\ttraining's l2: 0.715957\tvalid_1's rmse: 0.91618\tvalid_1's l2: 0.839386\n",
      "[38]\ttraining's rmse: 0.845538\ttraining's l2: 0.714934\tvalid_1's rmse: 0.916069\tvalid_1's l2: 0.839182\n",
      "[39]\ttraining's rmse: 0.844769\ttraining's l2: 0.713635\tvalid_1's rmse: 0.915724\tvalid_1's l2: 0.838551\n",
      "[40]\ttraining's rmse: 0.84399\ttraining's l2: 0.71232\tvalid_1's rmse: 0.916051\tvalid_1's l2: 0.83915\n",
      "[41]\ttraining's rmse: 0.843392\ttraining's l2: 0.71131\tvalid_1's rmse: 0.916062\tvalid_1's l2: 0.83917\n",
      "[42]\ttraining's rmse: 0.842608\ttraining's l2: 0.709988\tvalid_1's rmse: 0.915915\tvalid_1's l2: 0.8389\n",
      "[43]\ttraining's rmse: 0.84203\ttraining's l2: 0.709015\tvalid_1's rmse: 0.915825\tvalid_1's l2: 0.838736\n",
      "[44]\ttraining's rmse: 0.84128\ttraining's l2: 0.707753\tvalid_1's rmse: 0.915435\tvalid_1's l2: 0.838021\n",
      "[45]\ttraining's rmse: 0.840691\ttraining's l2: 0.706762\tvalid_1's rmse: 0.915174\tvalid_1's l2: 0.837543\n",
      "[46]\ttraining's rmse: 0.83998\ttraining's l2: 0.705567\tvalid_1's rmse: 0.915324\tvalid_1's l2: 0.837819\n",
      "[47]\ttraining's rmse: 0.839442\ttraining's l2: 0.704664\tvalid_1's rmse: 0.915871\tvalid_1's l2: 0.83882\n",
      "[48]\ttraining's rmse: 0.838774\ttraining's l2: 0.703542\tvalid_1's rmse: 0.915801\tvalid_1's l2: 0.838691\n",
      "[49]\ttraining's rmse: 0.838232\ttraining's l2: 0.702632\tvalid_1's rmse: 0.915631\tvalid_1's l2: 0.838381\n",
      "[50]\ttraining's rmse: 0.837649\ttraining's l2: 0.701656\tvalid_1's rmse: 0.916232\tvalid_1's l2: 0.839481\n",
      "[51]\ttraining's rmse: 0.837195\ttraining's l2: 0.700895\tvalid_1's rmse: 0.916015\tvalid_1's l2: 0.839083\n",
      "[52]\ttraining's rmse: 0.836697\ttraining's l2: 0.700063\tvalid_1's rmse: 0.916124\tvalid_1's l2: 0.839283\n",
      "[53]\ttraining's rmse: 0.83615\ttraining's l2: 0.699146\tvalid_1's rmse: 0.916285\tvalid_1's l2: 0.839579\n",
      "[54]\ttraining's rmse: 0.83573\ttraining's l2: 0.698445\tvalid_1's rmse: 0.915869\tvalid_1's l2: 0.838816\n",
      "[55]\ttraining's rmse: 0.834791\ttraining's l2: 0.696876\tvalid_1's rmse: 0.91613\tvalid_1's l2: 0.839295\n",
      "[56]\ttraining's rmse: 0.834411\ttraining's l2: 0.696242\tvalid_1's rmse: 0.9163\tvalid_1's l2: 0.839605\n",
      "[57]\ttraining's rmse: 0.833903\ttraining's l2: 0.695394\tvalid_1's rmse: 0.916142\tvalid_1's l2: 0.839316\n",
      "[58]\ttraining's rmse: 0.83354\ttraining's l2: 0.694789\tvalid_1's rmse: 0.916001\tvalid_1's l2: 0.839058\n",
      "[59]\ttraining's rmse: 0.832749\ttraining's l2: 0.69347\tvalid_1's rmse: 0.915937\tvalid_1's l2: 0.838941\n",
      "[60]\ttraining's rmse: 0.832366\ttraining's l2: 0.692834\tvalid_1's rmse: 0.916019\tvalid_1's l2: 0.839091\n",
      "[61]\ttraining's rmse: 0.831876\ttraining's l2: 0.692018\tvalid_1's rmse: 0.915814\tvalid_1's l2: 0.838716\n",
      "[62]\ttraining's rmse: 0.831507\ttraining's l2: 0.691403\tvalid_1's rmse: 0.916109\tvalid_1's l2: 0.839256\n",
      "[63]\ttraining's rmse: 0.831118\ttraining's l2: 0.690757\tvalid_1's rmse: 0.91594\tvalid_1's l2: 0.838947\n",
      "[64]\ttraining's rmse: 0.829898\ttraining's l2: 0.688731\tvalid_1's rmse: 0.914915\tvalid_1's l2: 0.83707\n",
      "[65]\ttraining's rmse: 0.829338\ttraining's l2: 0.687801\tvalid_1's rmse: 0.914785\tvalid_1's l2: 0.836831\n",
      "[66]\ttraining's rmse: 0.828918\ttraining's l2: 0.687106\tvalid_1's rmse: 0.914687\tvalid_1's l2: 0.836653\n",
      "[67]\ttraining's rmse: 0.828488\ttraining's l2: 0.686392\tvalid_1's rmse: 0.914964\tvalid_1's l2: 0.837159\n",
      "[68]\ttraining's rmse: 0.828088\ttraining's l2: 0.68573\tvalid_1's rmse: 0.914802\tvalid_1's l2: 0.836863\n",
      "[69]\ttraining's rmse: 0.82774\ttraining's l2: 0.685153\tvalid_1's rmse: 0.914953\tvalid_1's l2: 0.83714\n",
      "[70]\ttraining's rmse: 0.827474\ttraining's l2: 0.684713\tvalid_1's rmse: 0.914992\tvalid_1's l2: 0.837209\n",
      "[71]\ttraining's rmse: 0.827118\ttraining's l2: 0.684124\tvalid_1's rmse: 0.915587\tvalid_1's l2: 0.838299\n",
      "[72]\ttraining's rmse: 0.826814\ttraining's l2: 0.683622\tvalid_1's rmse: 0.915499\tvalid_1's l2: 0.838139\n",
      "[73]\ttraining's rmse: 0.8264\ttraining's l2: 0.682937\tvalid_1's rmse: 0.915733\tvalid_1's l2: 0.838567\n",
      "[74]\ttraining's rmse: 0.825964\ttraining's l2: 0.682216\tvalid_1's rmse: 0.916003\tvalid_1's l2: 0.839062\n",
      "[75]\ttraining's rmse: 0.82503\ttraining's l2: 0.680675\tvalid_1's rmse: 0.914784\tvalid_1's l2: 0.83683\n",
      "[76]\ttraining's rmse: 0.824705\ttraining's l2: 0.680138\tvalid_1's rmse: 0.914558\tvalid_1's l2: 0.836416\n",
      "[77]\ttraining's rmse: 0.824397\ttraining's l2: 0.67963\tvalid_1's rmse: 0.914771\tvalid_1's l2: 0.836805\n",
      "[78]\ttraining's rmse: 0.824132\ttraining's l2: 0.679193\tvalid_1's rmse: 0.915337\tvalid_1's l2: 0.837841\n",
      "[79]\ttraining's rmse: 0.823726\ttraining's l2: 0.678525\tvalid_1's rmse: 0.915193\tvalid_1's l2: 0.837578\n",
      "[80]\ttraining's rmse: 0.823458\ttraining's l2: 0.678083\tvalid_1's rmse: 0.915268\tvalid_1's l2: 0.837715\n"
     ]
    },
    {
     "name": "stdout",
     "output_type": "stream",
     "text": [
      "[81]\ttraining's rmse: 0.823063\ttraining's l2: 0.677432\tvalid_1's rmse: 0.915442\tvalid_1's l2: 0.838033\n",
      "[82]\ttraining's rmse: 0.822834\ttraining's l2: 0.677057\tvalid_1's rmse: 0.9154\tvalid_1's l2: 0.837957\n",
      "[83]\ttraining's rmse: 0.822122\ttraining's l2: 0.675885\tvalid_1's rmse: 0.914868\tvalid_1's l2: 0.836983\n",
      "[84]\ttraining's rmse: 0.821813\ttraining's l2: 0.675377\tvalid_1's rmse: 0.915104\tvalid_1's l2: 0.837416\n",
      "[85]\ttraining's rmse: 0.821579\ttraining's l2: 0.674992\tvalid_1's rmse: 0.914932\tvalid_1's l2: 0.837101\n",
      "[86]\ttraining's rmse: 0.821391\ttraining's l2: 0.674684\tvalid_1's rmse: 0.914915\tvalid_1's l2: 0.837069\n",
      "[87]\ttraining's rmse: 0.820614\ttraining's l2: 0.673407\tvalid_1's rmse: 0.914843\tvalid_1's l2: 0.836938\n",
      "[88]\ttraining's rmse: 0.820328\ttraining's l2: 0.672938\tvalid_1's rmse: 0.914652\tvalid_1's l2: 0.836588\n",
      "[89]\ttraining's rmse: 0.820086\ttraining's l2: 0.672542\tvalid_1's rmse: 0.915567\tvalid_1's l2: 0.838262\n",
      "[90]\ttraining's rmse: 0.81983\ttraining's l2: 0.672122\tvalid_1's rmse: 0.915422\tvalid_1's l2: 0.837997\n",
      "[91]\ttraining's rmse: 0.819212\ttraining's l2: 0.671109\tvalid_1's rmse: 0.914377\tvalid_1's l2: 0.836085\n",
      "[92]\ttraining's rmse: 0.818893\ttraining's l2: 0.670586\tvalid_1's rmse: 0.914239\tvalid_1's l2: 0.835832\n",
      "[93]\ttraining's rmse: 0.818685\ttraining's l2: 0.670245\tvalid_1's rmse: 0.915113\tvalid_1's l2: 0.837432\n",
      "[94]\ttraining's rmse: 0.818406\ttraining's l2: 0.669789\tvalid_1's rmse: 0.915205\tvalid_1's l2: 0.8376\n",
      "[95]\ttraining's rmse: 0.818128\ttraining's l2: 0.669333\tvalid_1's rmse: 0.91515\tvalid_1's l2: 0.8375\n",
      "[96]\ttraining's rmse: 0.81777\ttraining's l2: 0.668749\tvalid_1's rmse: 0.914828\tvalid_1's l2: 0.836911\n",
      "[97]\ttraining's rmse: 0.817572\ttraining's l2: 0.668423\tvalid_1's rmse: 0.914755\tvalid_1's l2: 0.836778\n",
      "[98]\ttraining's rmse: 0.81737\ttraining's l2: 0.668093\tvalid_1's rmse: 0.914619\tvalid_1's l2: 0.836528\n",
      "[99]\ttraining's rmse: 0.817121\ttraining's l2: 0.667686\tvalid_1's rmse: 0.91469\tvalid_1's l2: 0.836658\n",
      "[100]\ttraining's rmse: 0.816875\ttraining's l2: 0.667284\tvalid_1's rmse: 0.914835\tvalid_1's l2: 0.836923\n",
      "[101]\ttraining's rmse: 0.81669\ttraining's l2: 0.666982\tvalid_1's rmse: 0.914578\tvalid_1's l2: 0.836452\n",
      "[102]\ttraining's rmse: 0.81653\ttraining's l2: 0.666722\tvalid_1's rmse: 0.914365\tvalid_1's l2: 0.836064\n",
      "[103]\ttraining's rmse: 0.816346\ttraining's l2: 0.66642\tvalid_1's rmse: 0.914785\tvalid_1's l2: 0.836831\n",
      "[104]\ttraining's rmse: 0.816172\ttraining's l2: 0.666136\tvalid_1's rmse: 0.914652\tvalid_1's l2: 0.836588\n",
      "[105]\ttraining's rmse: 0.815874\ttraining's l2: 0.665651\tvalid_1's rmse: 0.914424\tvalid_1's l2: 0.836172\n",
      "[106]\ttraining's rmse: 0.815547\ttraining's l2: 0.665117\tvalid_1's rmse: 0.914436\tvalid_1's l2: 0.836193\n",
      "[107]\ttraining's rmse: 0.815292\ttraining's l2: 0.664701\tvalid_1's rmse: 0.914311\tvalid_1's l2: 0.835965\n",
      "[108]\ttraining's rmse: 0.81507\ttraining's l2: 0.664339\tvalid_1's rmse: 0.914283\tvalid_1's l2: 0.835913\n",
      "[109]\ttraining's rmse: 0.814914\ttraining's l2: 0.664085\tvalid_1's rmse: 0.914332\tvalid_1's l2: 0.836003\n",
      "[110]\ttraining's rmse: 0.814733\ttraining's l2: 0.66379\tvalid_1's rmse: 0.914225\tvalid_1's l2: 0.835808\n",
      "[111]\ttraining's rmse: 0.814502\ttraining's l2: 0.663413\tvalid_1's rmse: 0.914456\tvalid_1's l2: 0.83623\n",
      "[112]\ttraining's rmse: 0.814061\ttraining's l2: 0.662696\tvalid_1's rmse: 0.914028\tvalid_1's l2: 0.835447\n",
      "[113]\ttraining's rmse: 0.813845\ttraining's l2: 0.662344\tvalid_1's rmse: 0.914283\tvalid_1's l2: 0.835914\n",
      "[114]\ttraining's rmse: 0.813584\ttraining's l2: 0.661919\tvalid_1's rmse: 0.914198\tvalid_1's l2: 0.835758\n",
      "[115]\ttraining's rmse: 0.813427\ttraining's l2: 0.661663\tvalid_1's rmse: 0.914212\tvalid_1's l2: 0.835783\n",
      "[116]\ttraining's rmse: 0.813088\ttraining's l2: 0.661113\tvalid_1's rmse: 0.91393\tvalid_1's l2: 0.835268\n",
      "[117]\ttraining's rmse: 0.812871\ttraining's l2: 0.660759\tvalid_1's rmse: 0.913807\tvalid_1's l2: 0.835043\n",
      "[118]\ttraining's rmse: 0.812662\ttraining's l2: 0.660419\tvalid_1's rmse: 0.914083\tvalid_1's l2: 0.835548\n",
      "[119]\ttraining's rmse: 0.812496\ttraining's l2: 0.66015\tvalid_1's rmse: 0.914312\tvalid_1's l2: 0.835967\n",
      "[120]\ttraining's rmse: 0.812319\ttraining's l2: 0.659862\tvalid_1's rmse: 0.91417\tvalid_1's l2: 0.835706\n",
      "[121]\ttraining's rmse: 0.812158\ttraining's l2: 0.659601\tvalid_1's rmse: 0.914482\tvalid_1's l2: 0.836278\n",
      "[122]\ttraining's rmse: 0.811821\ttraining's l2: 0.659053\tvalid_1's rmse: 0.914481\tvalid_1's l2: 0.836275\n",
      "[123]\ttraining's rmse: 0.811652\ttraining's l2: 0.65878\tvalid_1's rmse: 0.914575\tvalid_1's l2: 0.836447\n",
      "[124]\ttraining's rmse: 0.811512\ttraining's l2: 0.658551\tvalid_1's rmse: 0.91505\tvalid_1's l2: 0.837316\n",
      "[125]\ttraining's rmse: 0.811356\ttraining's l2: 0.658298\tvalid_1's rmse: 0.914999\tvalid_1's l2: 0.837224\n",
      "[126]\ttraining's rmse: 0.811115\ttraining's l2: 0.657908\tvalid_1's rmse: 0.914657\tvalid_1's l2: 0.836597\n",
      "[127]\ttraining's rmse: 0.810996\ttraining's l2: 0.657715\tvalid_1's rmse: 0.915062\tvalid_1's l2: 0.837338\n",
      "[128]\ttraining's rmse: 0.810867\ttraining's l2: 0.657505\tvalid_1's rmse: 0.915128\tvalid_1's l2: 0.83746\n",
      "[129]\ttraining's rmse: 0.810584\ttraining's l2: 0.657046\tvalid_1's rmse: 0.915098\tvalid_1's l2: 0.837405\n",
      "[130]\ttraining's rmse: 0.81041\ttraining's l2: 0.656765\tvalid_1's rmse: 0.915227\tvalid_1's l2: 0.83764\n",
      "[131]\ttraining's rmse: 0.81027\ttraining's l2: 0.656538\tvalid_1's rmse: 0.915117\tvalid_1's l2: 0.83744\n",
      "[132]\ttraining's rmse: 0.810043\ttraining's l2: 0.65617\tvalid_1's rmse: 0.915043\tvalid_1's l2: 0.837304\n",
      "[133]\ttraining's rmse: 0.809893\ttraining's l2: 0.655926\tvalid_1's rmse: 0.915216\tvalid_1's l2: 0.83762\n",
      "[134]\ttraining's rmse: 0.809701\ttraining's l2: 0.655616\tvalid_1's rmse: 0.915312\tvalid_1's l2: 0.837797\n",
      "[135]\ttraining's rmse: 0.809441\ttraining's l2: 0.655195\tvalid_1's rmse: 0.915537\tvalid_1's l2: 0.838208\n",
      "[136]\ttraining's rmse: 0.809289\ttraining's l2: 0.654949\tvalid_1's rmse: 0.915349\tvalid_1's l2: 0.837863\n",
      "[137]\ttraining's rmse: 0.808755\ttraining's l2: 0.654085\tvalid_1's rmse: 0.915343\tvalid_1's l2: 0.837854\n",
      "[138]\ttraining's rmse: 0.808617\ttraining's l2: 0.653862\tvalid_1's rmse: 0.916154\tvalid_1's l2: 0.839337\n",
      "[139]\ttraining's rmse: 0.808431\ttraining's l2: 0.653561\tvalid_1's rmse: 0.915999\tvalid_1's l2: 0.839055\n",
      "[140]\ttraining's rmse: 0.807645\ttraining's l2: 0.652291\tvalid_1's rmse: 0.915078\tvalid_1's l2: 0.837368\n",
      "[141]\ttraining's rmse: 0.807489\ttraining's l2: 0.652038\tvalid_1's rmse: 0.915027\tvalid_1's l2: 0.837275\n",
      "[142]\ttraining's rmse: 0.807281\ttraining's l2: 0.651702\tvalid_1's rmse: 0.915323\tvalid_1's l2: 0.837817\n",
      "[143]\ttraining's rmse: 0.807129\ttraining's l2: 0.651457\tvalid_1's rmse: 0.915456\tvalid_1's l2: 0.83806\n",
      "[144]\ttraining's rmse: 0.806702\ttraining's l2: 0.650768\tvalid_1's rmse: 0.915133\tvalid_1's l2: 0.837468\n",
      "[145]\ttraining's rmse: 0.806511\ttraining's l2: 0.65046\tvalid_1's rmse: 0.914973\tvalid_1's l2: 0.837175\n",
      "[146]\ttraining's rmse: 0.805774\ttraining's l2: 0.649271\tvalid_1's rmse: 0.913512\tvalid_1's l2: 0.834505\n",
      "[147]\ttraining's rmse: 0.805588\ttraining's l2: 0.648972\tvalid_1's rmse: 0.913486\tvalid_1's l2: 0.834456\n",
      "[148]\ttraining's rmse: 0.805477\ttraining's l2: 0.648793\tvalid_1's rmse: 0.913493\tvalid_1's l2: 0.834469\n",
      "[149]\ttraining's rmse: 0.805356\ttraining's l2: 0.648599\tvalid_1's rmse: 0.91422\tvalid_1's l2: 0.835798\n",
      "[150]\ttraining's rmse: 0.805156\ttraining's l2: 0.648276\tvalid_1's rmse: 0.914741\tvalid_1's l2: 0.836751\n",
      "[151]\ttraining's rmse: 0.805039\ttraining's l2: 0.648089\tvalid_1's rmse: 0.914584\tvalid_1's l2: 0.836464\n",
      "[152]\ttraining's rmse: 0.804851\ttraining's l2: 0.647785\tvalid_1's rmse: 0.914611\tvalid_1's l2: 0.836512\n",
      "[153]\ttraining's rmse: 0.804626\ttraining's l2: 0.647424\tvalid_1's rmse: 0.914103\tvalid_1's l2: 0.835585\n",
      "[154]\ttraining's rmse: 0.804495\ttraining's l2: 0.647212\tvalid_1's rmse: 0.914159\tvalid_1's l2: 0.835687\n",
      "[155]\ttraining's rmse: 0.804135\ttraining's l2: 0.646634\tvalid_1's rmse: 0.914235\tvalid_1's l2: 0.835826\n",
      "[156]\ttraining's rmse: 0.804\ttraining's l2: 0.646415\tvalid_1's rmse: 0.914175\tvalid_1's l2: 0.835717\n",
      "[157]\ttraining's rmse: 0.803869\ttraining's l2: 0.646206\tvalid_1's rmse: 0.914024\tvalid_1's l2: 0.835439\n",
      "[158]\ttraining's rmse: 0.803729\ttraining's l2: 0.64598\tvalid_1's rmse: 0.913918\tvalid_1's l2: 0.835246\n",
      "[159]\ttraining's rmse: 0.803625\ttraining's l2: 0.645814\tvalid_1's rmse: 0.913808\tvalid_1's l2: 0.835046\n",
      "[160]\ttraining's rmse: 0.803421\ttraining's l2: 0.645485\tvalid_1's rmse: 0.913651\tvalid_1's l2: 0.834758\n",
      "[161]\ttraining's rmse: 0.803269\ttraining's l2: 0.645242\tvalid_1's rmse: 0.91371\tvalid_1's l2: 0.834867\n"
     ]
    },
    {
     "name": "stdout",
     "output_type": "stream",
     "text": [
      "[162]\ttraining's rmse: 0.803164\ttraining's l2: 0.645073\tvalid_1's rmse: 0.914173\tvalid_1's l2: 0.835712\n",
      "[163]\ttraining's rmse: 0.803076\ttraining's l2: 0.64493\tvalid_1's rmse: 0.914143\tvalid_1's l2: 0.835657\n",
      "[164]\ttraining's rmse: 0.802965\ttraining's l2: 0.644752\tvalid_1's rmse: 0.914186\tvalid_1's l2: 0.835736\n",
      "[165]\ttraining's rmse: 0.80283\ttraining's l2: 0.644536\tvalid_1's rmse: 0.914057\tvalid_1's l2: 0.835501\n",
      "[166]\ttraining's rmse: 0.802673\ttraining's l2: 0.644284\tvalid_1's rmse: 0.914096\tvalid_1's l2: 0.835572\n",
      "[167]\ttraining's rmse: 0.802565\ttraining's l2: 0.644111\tvalid_1's rmse: 0.914095\tvalid_1's l2: 0.83557\n",
      "[168]\ttraining's rmse: 0.802429\ttraining's l2: 0.643892\tvalid_1's rmse: 0.914049\tvalid_1's l2: 0.835485\n",
      "[169]\ttraining's rmse: 0.802258\ttraining's l2: 0.643618\tvalid_1's rmse: 0.913752\tvalid_1's l2: 0.834944\n",
      "[170]\ttraining's rmse: 0.801961\ttraining's l2: 0.643142\tvalid_1's rmse: 0.913561\tvalid_1's l2: 0.834594\n",
      "[171]\ttraining's rmse: 0.801839\ttraining's l2: 0.642946\tvalid_1's rmse: 0.913471\tvalid_1's l2: 0.834429\n",
      "[172]\ttraining's rmse: 0.801738\ttraining's l2: 0.642783\tvalid_1's rmse: 0.913338\tvalid_1's l2: 0.834186\n",
      "[173]\ttraining's rmse: 0.801327\ttraining's l2: 0.642125\tvalid_1's rmse: 0.913322\tvalid_1's l2: 0.834156\n",
      "[174]\ttraining's rmse: 0.801204\ttraining's l2: 0.641927\tvalid_1's rmse: 0.913512\tvalid_1's l2: 0.834505\n",
      "[175]\ttraining's rmse: 0.801095\ttraining's l2: 0.641753\tvalid_1's rmse: 0.913532\tvalid_1's l2: 0.83454\n",
      "[176]\ttraining's rmse: 0.800875\ttraining's l2: 0.641401\tvalid_1's rmse: 0.913271\tvalid_1's l2: 0.834064\n",
      "[177]\ttraining's rmse: 0.800623\ttraining's l2: 0.640998\tvalid_1's rmse: 0.913072\tvalid_1's l2: 0.8337\n",
      "[178]\ttraining's rmse: 0.800368\ttraining's l2: 0.640589\tvalid_1's rmse: 0.912829\tvalid_1's l2: 0.833257\n",
      "[179]\ttraining's rmse: 0.800219\ttraining's l2: 0.64035\tvalid_1's rmse: 0.913218\tvalid_1's l2: 0.833967\n",
      "[180]\ttraining's rmse: 0.800109\ttraining's l2: 0.640174\tvalid_1's rmse: 0.913309\tvalid_1's l2: 0.834134\n",
      "[181]\ttraining's rmse: 0.800028\ttraining's l2: 0.640045\tvalid_1's rmse: 0.913786\tvalid_1's l2: 0.835005\n",
      "[182]\ttraining's rmse: 0.799889\ttraining's l2: 0.639822\tvalid_1's rmse: 0.913842\tvalid_1's l2: 0.835108\n",
      "[183]\ttraining's rmse: 0.799728\ttraining's l2: 0.639565\tvalid_1's rmse: 0.913785\tvalid_1's l2: 0.835003\n",
      "[184]\ttraining's rmse: 0.799611\ttraining's l2: 0.639378\tvalid_1's rmse: 0.913835\tvalid_1's l2: 0.835094\n",
      "[185]\ttraining's rmse: 0.799496\ttraining's l2: 0.639194\tvalid_1's rmse: 0.913768\tvalid_1's l2: 0.834973\n",
      "[186]\ttraining's rmse: 0.79909\ttraining's l2: 0.638545\tvalid_1's rmse: 0.91388\tvalid_1's l2: 0.835177\n",
      "[187]\ttraining's rmse: 0.798855\ttraining's l2: 0.63817\tvalid_1's rmse: 0.913819\tvalid_1's l2: 0.835065\n",
      "[188]\ttraining's rmse: 0.798752\ttraining's l2: 0.638005\tvalid_1's rmse: 0.913727\tvalid_1's l2: 0.834896\n",
      "[189]\ttraining's rmse: 0.798682\ttraining's l2: 0.637893\tvalid_1's rmse: 0.913743\tvalid_1's l2: 0.834926\n",
      "[190]\ttraining's rmse: 0.798505\ttraining's l2: 0.63761\tvalid_1's rmse: 0.913662\tvalid_1's l2: 0.834779\n",
      "[191]\ttraining's rmse: 0.798366\ttraining's l2: 0.637389\tvalid_1's rmse: 0.913747\tvalid_1's l2: 0.834933\n",
      "[192]\ttraining's rmse: 0.798253\ttraining's l2: 0.637208\tvalid_1's rmse: 0.913766\tvalid_1's l2: 0.834968\n",
      "[193]\ttraining's rmse: 0.797909\ttraining's l2: 0.636659\tvalid_1's rmse: 0.913567\tvalid_1's l2: 0.834605\n",
      "[194]\ttraining's rmse: 0.797723\ttraining's l2: 0.636362\tvalid_1's rmse: 0.913444\tvalid_1's l2: 0.834379\n",
      "[195]\ttraining's rmse: 0.79763\ttraining's l2: 0.636213\tvalid_1's rmse: 0.913442\tvalid_1's l2: 0.834377\n",
      "[196]\ttraining's rmse: 0.797507\ttraining's l2: 0.636018\tvalid_1's rmse: 0.913129\tvalid_1's l2: 0.833804\n",
      "[197]\ttraining's rmse: 0.797307\ttraining's l2: 0.635699\tvalid_1's rmse: 0.913173\tvalid_1's l2: 0.833885\n",
      "[198]\ttraining's rmse: 0.797199\ttraining's l2: 0.635526\tvalid_1's rmse: 0.913178\tvalid_1's l2: 0.833894\n",
      "[199]\ttraining's rmse: 0.797036\ttraining's l2: 0.635267\tvalid_1's rmse: 0.913216\tvalid_1's l2: 0.833963\n",
      "[200]\ttraining's rmse: 0.796943\ttraining's l2: 0.635118\tvalid_1's rmse: 0.913063\tvalid_1's l2: 0.833685\n",
      "[201]\ttraining's rmse: 0.796796\ttraining's l2: 0.634884\tvalid_1's rmse: 0.913062\tvalid_1's l2: 0.833683\n",
      "[202]\ttraining's rmse: 0.796626\ttraining's l2: 0.634612\tvalid_1's rmse: 0.913054\tvalid_1's l2: 0.833667\n",
      "[203]\ttraining's rmse: 0.796519\ttraining's l2: 0.634443\tvalid_1's rmse: 0.91302\tvalid_1's l2: 0.833606\n",
      "[204]\ttraining's rmse: 0.796399\ttraining's l2: 0.634251\tvalid_1's rmse: 0.913139\tvalid_1's l2: 0.833823\n",
      "[205]\ttraining's rmse: 0.796262\ttraining's l2: 0.634034\tvalid_1's rmse: 0.913052\tvalid_1's l2: 0.833664\n",
      "[206]\ttraining's rmse: 0.796158\ttraining's l2: 0.633868\tvalid_1's rmse: 0.912895\tvalid_1's l2: 0.833377\n",
      "[207]\ttraining's rmse: 0.795819\ttraining's l2: 0.633329\tvalid_1's rmse: 0.912868\tvalid_1's l2: 0.833329\n",
      "[208]\ttraining's rmse: 0.795725\ttraining's l2: 0.633178\tvalid_1's rmse: 0.912794\tvalid_1's l2: 0.833194\n",
      "[209]\ttraining's rmse: 0.795624\ttraining's l2: 0.633017\tvalid_1's rmse: 0.912781\tvalid_1's l2: 0.83317\n",
      "[210]\ttraining's rmse: 0.79555\ttraining's l2: 0.6329\tvalid_1's rmse: 0.912665\tvalid_1's l2: 0.832957\n",
      "[211]\ttraining's rmse: 0.795474\ttraining's l2: 0.632779\tvalid_1's rmse: 0.912639\tvalid_1's l2: 0.83291\n",
      "[212]\ttraining's rmse: 0.795346\ttraining's l2: 0.632576\tvalid_1's rmse: 0.912627\tvalid_1's l2: 0.832887\n",
      "[213]\ttraining's rmse: 0.795071\ttraining's l2: 0.632137\tvalid_1's rmse: 0.912382\tvalid_1's l2: 0.83244\n",
      "[214]\ttraining's rmse: 0.794812\ttraining's l2: 0.631726\tvalid_1's rmse: 0.91229\tvalid_1's l2: 0.832273\n",
      "[215]\ttraining's rmse: 0.794443\ttraining's l2: 0.631139\tvalid_1's rmse: 0.912946\tvalid_1's l2: 0.83347\n",
      "[216]\ttraining's rmse: 0.794307\ttraining's l2: 0.630924\tvalid_1's rmse: 0.912912\tvalid_1's l2: 0.833409\n",
      "[217]\ttraining's rmse: 0.794131\ttraining's l2: 0.630643\tvalid_1's rmse: 0.912773\tvalid_1's l2: 0.833155\n",
      "[218]\ttraining's rmse: 0.79404\ttraining's l2: 0.630499\tvalid_1's rmse: 0.912641\tvalid_1's l2: 0.832913\n",
      "[219]\ttraining's rmse: 0.793857\ttraining's l2: 0.630208\tvalid_1's rmse: 0.912765\tvalid_1's l2: 0.833139\n",
      "[220]\ttraining's rmse: 0.793778\ttraining's l2: 0.630083\tvalid_1's rmse: 0.912716\tvalid_1's l2: 0.833051\n",
      "[221]\ttraining's rmse: 0.793618\ttraining's l2: 0.62983\tvalid_1's rmse: 0.912505\tvalid_1's l2: 0.832665\n",
      "[222]\ttraining's rmse: 0.793191\ttraining's l2: 0.629152\tvalid_1's rmse: 0.912416\tvalid_1's l2: 0.832503\n",
      "[223]\ttraining's rmse: 0.793054\ttraining's l2: 0.628935\tvalid_1's rmse: 0.912405\tvalid_1's l2: 0.832484\n",
      "[224]\ttraining's rmse: 0.792965\ttraining's l2: 0.628793\tvalid_1's rmse: 0.912399\tvalid_1's l2: 0.832473\n",
      "[225]\ttraining's rmse: 0.792836\ttraining's l2: 0.628589\tvalid_1's rmse: 0.913121\tvalid_1's l2: 0.83379\n",
      "[226]\ttraining's rmse: 0.79276\ttraining's l2: 0.628469\tvalid_1's rmse: 0.913017\tvalid_1's l2: 0.8336\n",
      "[227]\ttraining's rmse: 0.792644\ttraining's l2: 0.628284\tvalid_1's rmse: 0.913159\tvalid_1's l2: 0.833859\n",
      "[228]\ttraining's rmse: 0.792056\ttraining's l2: 0.627352\tvalid_1's rmse: 0.914158\tvalid_1's l2: 0.835685\n",
      "[229]\ttraining's rmse: 0.791968\ttraining's l2: 0.627213\tvalid_1's rmse: 0.914129\tvalid_1's l2: 0.835631\n",
      "[230]\ttraining's rmse: 0.791871\ttraining's l2: 0.627059\tvalid_1's rmse: 0.914079\tvalid_1's l2: 0.83554\n",
      "[231]\ttraining's rmse: 0.791778\ttraining's l2: 0.626913\tvalid_1's rmse: 0.913565\tvalid_1's l2: 0.834601\n",
      "[232]\ttraining's rmse: 0.791653\ttraining's l2: 0.626714\tvalid_1's rmse: 0.913627\tvalid_1's l2: 0.834715\n",
      "[233]\ttraining's rmse: 0.79145\ttraining's l2: 0.626393\tvalid_1's rmse: 0.913537\tvalid_1's l2: 0.83455\n",
      "[234]\ttraining's rmse: 0.791364\ttraining's l2: 0.626256\tvalid_1's rmse: 0.913519\tvalid_1's l2: 0.834517\n",
      "[235]\ttraining's rmse: 0.791259\ttraining's l2: 0.626091\tvalid_1's rmse: 0.913383\tvalid_1's l2: 0.834268\n",
      "[236]\ttraining's rmse: 0.791184\ttraining's l2: 0.625972\tvalid_1's rmse: 0.913396\tvalid_1's l2: 0.834292\n",
      "[237]\ttraining's rmse: 0.791014\ttraining's l2: 0.625703\tvalid_1's rmse: 0.913321\tvalid_1's l2: 0.834155\n",
      "[238]\ttraining's rmse: 0.79084\ttraining's l2: 0.625428\tvalid_1's rmse: 0.91337\tvalid_1's l2: 0.834245\n",
      "[239]\ttraining's rmse: 0.790748\ttraining's l2: 0.625282\tvalid_1's rmse: 0.913381\tvalid_1's l2: 0.834265\n",
      "[240]\ttraining's rmse: 0.790668\ttraining's l2: 0.625156\tvalid_1's rmse: 0.913361\tvalid_1's l2: 0.834228\n",
      "[241]\ttraining's rmse: 0.790567\ttraining's l2: 0.624996\tvalid_1's rmse: 0.913507\tvalid_1's l2: 0.834496\n",
      "[242]\ttraining's rmse: 0.789867\ttraining's l2: 0.62389\tvalid_1's rmse: 0.914518\tvalid_1's l2: 0.836344\n"
     ]
    },
    {
     "name": "stdout",
     "output_type": "stream",
     "text": [
      "[243]\ttraining's rmse: 0.789781\ttraining's l2: 0.623755\tvalid_1's rmse: 0.914513\tvalid_1's l2: 0.836334\n",
      "[244]\ttraining's rmse: 0.789709\ttraining's l2: 0.62364\tvalid_1's rmse: 0.914514\tvalid_1's l2: 0.836336\n",
      "Early stopping, best iteration is:\n",
      "[214]\ttraining's rmse: 0.794812\ttraining's l2: 0.631726\tvalid_1's rmse: 0.91229\tvalid_1's l2: 0.832273\n"
     ]
    },
    {
     "data": {
      "text/plain": [
       "61.2362904548645"
      ]
     },
     "execution_count": 201,
     "metadata": {},
     "output_type": "execute_result"
    }
   ],
   "source": [
    "ts = time.time()\n",
    "\n",
    "# LGMB으로 가정\n",
    "best_model = models[3]\n",
    "\n",
    "# LGBM 해보자\n",
    "model = best_model(\n",
    "   # params\n",
    "    max_depth=8,\n",
    "    n_estimators=1000,\n",
    "    min_child_weight=300, \n",
    "    colsample_bytree=0.8, \n",
    "    subsample=0.8,\n",
    "    eta = 0.3,\n",
    "    seed = 42,\n",
    "    learning_rate = 0.1\n",
    ")\n",
    "\n",
    "model.fit(\n",
    "        X_train, \n",
    "        Y_train, \n",
    "        eval_metric=\"rmse\", \n",
    "        eval_set=[(X_train, Y_train), (X_valid, Y_valid)], \n",
    "        verbose=True, \n",
    "        early_stopping_rounds = 30\n",
    "    )\n",
    "\n",
    "time.time() - ts"
   ]
  },
  {
   "cell_type": "code",
   "execution_count": 202,
   "metadata": {
    "ExecuteTime": {
     "end_time": "2020-08-27T08:57:24.418044Z",
     "start_time": "2020-08-27T08:57:23.401808Z"
    }
   },
   "outputs": [],
   "source": [
    "predict_and_make_submission(model,'early_stopping30')"
   ]
  },
  {
   "cell_type": "markdown",
   "metadata": {},
   "source": [
    "early stopping 10 일때,   \n",
    "제출 결과 : 0.92075 (public)\n",
    "\n",
    "early stopping 30 일때는 제출 안하고 ensemble 해서 제출"
   ]
  },
  {
   "cell_type": "markdown",
   "metadata": {},
   "source": [
    "# 앙상블시도"
   ]
  },
  {
   "cell_type": "markdown",
   "metadata": {},
   "source": [
    "## Average"
   ]
  },
  {
   "cell_type": "code",
   "execution_count": 180,
   "metadata": {
    "ExecuteTime": {
     "end_time": "2020-08-27T08:38:06.929947Z",
     "start_time": "2020-08-27T08:38:06.927806Z"
    }
   },
   "outputs": [],
   "source": [
    "def AveragingBlending(preds):     \n",
    "    \n",
    "    predictions = np.column_stack([\n",
    "       pred for pred in preds\n",
    "    ])\n",
    "    \n",
    "    return np.mean(predictions, axis=1)"
   ]
  },
  {
   "cell_type": "code",
   "execution_count": 205,
   "metadata": {
    "ExecuteTime": {
     "end_time": "2020-08-27T08:58:35.781686Z",
     "start_time": "2020-08-27T08:58:35.779321Z"
    }
   },
   "outputs": [],
   "source": [
    "def submission_for_ensemble(names,messages,Y_test):\n",
    "    submission = pd.DataFrame({\n",
    "        \"ID\": test.index, \n",
    "        \"item_cnt_month\": Y_test\n",
    "    })\n",
    "    submission.to_csv('ensemble_{0}_{1}_without_item_last_sale_submission.csv'.format(names,messages), index=False)"
   ]
  },
  {
   "cell_type": "code",
   "execution_count": 207,
   "metadata": {
    "ExecuteTime": {
     "end_time": "2020-08-27T08:59:03.322848Z",
     "start_time": "2020-08-27T08:59:02.940528Z"
    }
   },
   "outputs": [
    {
     "name": "stdout",
     "output_type": "stream",
     "text": [
      "[0.02559268 0.09056555 0.18106915 ... 0.20234955 0.02955666 0.08232767]\n",
      "[0.52475634 0.44900026 1.45687039 ... 0.05064126 0.02954725 0.05210531]\n"
     ]
    }
   ],
   "source": [
    "messages = 'early_stopping10'\n",
    "xgb_pred = pd.read_pickle('xgb_train_without_item_last_sale.pickle')\n",
    "xgb_test = pd.read_pickle('xgb_test_without_item_last_sale.pickle')\n",
    "lgbm_pred = pd.read_pickle('LGBMRegressor_train_without_item_last_sale.pickle')\n",
    "lgbm_test = pd.read_pickle('LGBMRegressor_test_without_item_last_sale.pickle')\n",
    "\n",
    "preds = [xgb_pred,lgbm_pred]\n",
    "tests = [xgb_test,lgbm_test]\n",
    "Y_pred = AveragingBlending(preds).clip(0, 20)\n",
    "Y_test = AveragingBlending(tests).clip(0, 20)\n",
    "print(Y_pred)\n",
    "print(Y_test)\n",
    "\n",
    "submission_for_ensemble('xgb,lgbm',messages,Y_test)"
   ]
  },
  {
   "cell_type": "markdown",
   "metadata": {},
   "source": [
    "### xgb,lgbm ensemble 제출결과\n",
    "0.91822 (public)"
   ]
  },
  {
   "cell_type": "markdown",
   "metadata": {},
   "source": [
    "## Average with early stopping 30 적용한 모델들"
   ]
  },
  {
   "cell_type": "code",
   "execution_count": 206,
   "metadata": {
    "ExecuteTime": {
     "end_time": "2020-08-27T08:58:40.011055Z",
     "start_time": "2020-08-27T08:58:39.637642Z"
    }
   },
   "outputs": [
    {
     "name": "stdout",
     "output_type": "stream",
     "text": [
      "[0.02114534 0.10255508 0.20431208 ... 0.18224813 0.01800352 0.09184029]\n",
      "[0.61422242 0.40440915 1.6638079  ... 0.04989801 0.02515631 0.04631558]\n"
     ]
    }
   ],
   "source": [
    "messages = 'early_stopping30'\n",
    "xgb_pred = pd.read_pickle('XGBRegressor_{}_train_without_item_last_sale.pickle'.format(messages))\n",
    "xgb_test = pd.read_pickle('XGBRegressor_{}_test_without_item_last_sale.pickle'.format(messages))\n",
    "lgbm_pred = pd.read_pickle('LGBMRegressor_{}_train_without_item_last_sale.pickle'.format(messages))\n",
    "lgbm_test = pd.read_pickle('LGBMRegressor_{}_test_without_item_last_sale.pickle'.format(messages))\n",
    "\n",
    "preds = [xgb_pred,lgbm_pred]\n",
    "tests = [xgb_test,lgbm_test]\n",
    "Y_pred = AveragingBlending(preds).clip(0, 20)\n",
    "Y_test = AveragingBlending(tests).clip(0, 20)\n",
    "print(Y_pred)\n",
    "print(Y_test)\n",
    "\n",
    "submission_for_ensemble('xgb,lgbm',messages,Y_test)"
   ]
  },
  {
   "cell_type": "markdown",
   "metadata": {},
   "source": [
    "### xgb,lgbm earlystopping30 ensemble 제출 결과\n",
    "0.91003 (public)"
   ]
  },
  {
   "cell_type": "code",
   "execution_count": null,
   "metadata": {},
   "outputs": [],
   "source": []
  }
 ],
 "metadata": {
  "kernelspec": {
   "display_name": "aiffel",
   "language": "python",
   "name": "aiffel"
  },
  "toc": {
   "base_numbering": 1,
   "nav_menu": {},
   "number_sections": true,
   "sideBar": true,
   "skip_h1_title": false,
   "title_cell": "Table of Contents",
   "title_sidebar": "Contents",
   "toc_cell": false,
   "toc_position": {},
   "toc_section_display": true,
   "toc_window_display": false
  }
 },
 "nbformat": 4,
 "nbformat_minor": 2
}
