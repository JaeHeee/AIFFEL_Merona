{
 "cells": [
  {
   "cell_type": "markdown",
   "metadata": {},
   "source": [
    "# 따라해보기 2번째\n",
    "[출처](https://www.kaggle.com/gordotron85/future-sales-xgboost-top-3)"
   ]
  },
  {
   "cell_type": "code",
   "execution_count": 24,
   "metadata": {
    "ExecuteTime": {
     "end_time": "2020-08-28T03:28:18.311394Z",
     "start_time": "2020-08-28T03:28:18.308248Z"
    }
   },
   "outputs": [],
   "source": [
    "import numpy as np \n",
    "import pandas as pd \n",
    "import matplotlib.pyplot as plt\n",
    "import seaborn as sns\n",
    "from itertools import product\n",
    "import time\n",
    "import gc\n",
    "import pickle\n",
    "# 버전 1.2로 업그레이드하면 gpu 사용 가능할듯?\n",
    "from xgboost import XGBRegressor\n",
    "from matplotlib.pylab import rcParams\n",
    "sns.set(style=\"darkgrid\")"
   ]
  },
  {
   "cell_type": "code",
   "execution_count": 22,
   "metadata": {
    "ExecuteTime": {
     "end_time": "2020-08-28T03:23:08.600101Z",
     "start_time": "2020-08-28T03:23:07.846147Z"
    }
   },
   "outputs": [],
   "source": [
    "items=pd.read_csv(\"data/items.csv\")\n",
    "shops=pd.read_csv(\"data/shops.csv\")\n",
    "cats=pd.read_csv(\"data/item_categories.csv\")\n",
    "train=pd.read_csv(\"data/sales_train.csv\")\n",
    "test=pd.read_csv(\"data/test.csv\")"
   ]
  },
  {
   "cell_type": "markdown",
   "metadata": {},
   "source": [
    "## Remove outliers"
   ]
  },
  {
   "cell_type": "code",
   "execution_count": 3,
   "metadata": {
    "ExecuteTime": {
     "end_time": "2020-08-28T02:36:39.700737Z",
     "start_time": "2020-08-28T02:36:38.583447Z"
    }
   },
   "outputs": [
    {
     "data": {
      "text/plain": [
       "<matplotlib.axes._subplots.AxesSubplot at 0x7efc957dccd0>"
      ]
     },
     "execution_count": 3,
     "metadata": {},
     "output_type": "execute_result"
    },
    {
     "data": {
      "image/png": "[encoded data removed]",
      "text/plain": [
       "<Figure size 720x288 with 1 Axes>"
      ]
     },
     "metadata": {},
     "output_type": "display_data"
    },
    {
     "data": {
      "image/png": "[encoded data removed]",
      "text/plain": [
       "<Figure size 720x288 with 1 Axes>"
      ]
     },
     "metadata": {},
     "output_type": "display_data"
    }
   ],
   "source": [
    "plt.figure(figsize=(10,4))\n",
    "plt.xlim(-100, 3000)\n",
    "flierprops = dict(marker='o', markerfacecolor='purple', markersize=6,\n",
    "                  linestyle='none', markeredgecolor='black')\n",
    "sns.boxplot(x=train.item_cnt_day, flierprops=flierprops)\n",
    "\n",
    "plt.figure(figsize=(10,4))\n",
    "plt.xlim(train.item_price.min(), train.item_price.max()*1.1)\n",
    "sns.boxplot(x=train.item_price, flierprops=flierprops)"
   ]
  },
  {
   "cell_type": "markdown",
   "metadata": {},
   "source": [
    "여기서는 300,000 미만 1000 미만으로 기준잡음"
   ]
  },
  {
   "cell_type": "code",
   "execution_count": 4,
   "metadata": {
    "ExecuteTime": {
     "end_time": "2020-08-28T02:36:39.816030Z",
     "start_time": "2020-08-28T02:36:39.702122Z"
    }
   },
   "outputs": [],
   "source": [
    "train = train[(train.item_price < 300000 )& (train.item_cnt_day < 1000)]"
   ]
  },
  {
   "cell_type": "markdown",
   "metadata": {},
   "source": [
    "0 미만 값을 지워버림"
   ]
  },
  {
   "cell_type": "code",
   "execution_count": 5,
   "metadata": {
    "ExecuteTime": {
     "end_time": "2020-08-28T02:36:39.946510Z",
     "start_time": "2020-08-28T02:36:39.816955Z"
    }
   },
   "outputs": [],
   "source": [
    "train = train[train.item_price > 0].reset_index(drop = True)\n",
    "train.loc[train.item_cnt_day < 1, \"item_cnt_day\"] = 0"
   ]
  },
  {
   "cell_type": "markdown",
   "metadata": {},
   "source": [
    "## cleaning shop data"
   ]
  },
  {
   "cell_type": "markdown",
   "metadata": {},
   "source": [
    "가게 이름 중복"
   ]
  },
  {
   "cell_type": "code",
   "execution_count": 6,
   "metadata": {
    "ExecuteTime": {
     "end_time": "2020-08-28T02:36:40.000544Z",
     "start_time": "2020-08-28T02:36:39.947623Z"
    }
   },
   "outputs": [],
   "source": [
    "# Якутск Орджоникидзе, 56\n",
    "train.loc[train.shop_id == 0, 'shop_id'] = 57\n",
    "test.loc[test.shop_id == 0, 'shop_id'] = 57\n",
    "# Якутск ТЦ \"Центральный\"\n",
    "train.loc[train.shop_id == 1, 'shop_id'] = 58\n",
    "test.loc[test.shop_id == 1, 'shop_id'] = 58\n",
    "# Жуковский ул. Чкалова 39м²\n",
    "train.loc[train.shop_id == 10, 'shop_id'] = 11\n",
    "test.loc[test.shop_id == 10, 'shop_id'] = 11"
   ]
  },
  {
   "cell_type": "markdown",
   "metadata": {},
   "source": [
    "가게 이름에 도시, 카테고리"
   ]
  },
  {
   "cell_type": "code",
   "execution_count": 7,
   "metadata": {
    "ExecuteTime": {
     "end_time": "2020-08-28T02:36:40.009207Z",
     "start_time": "2020-08-28T02:36:40.001519Z"
    }
   },
   "outputs": [],
   "source": [
    "shops.loc[ shops.shop_name == 'Сергиев Посад ТЦ \"7Я\"',\"shop_name\" ] = 'СергиевПосад ТЦ \"7Я\"'\n",
    "shops[\"city\"] = shops.shop_name.str.split(\" \").map( lambda x: x[0] )\n",
    "shops[\"category\"] = shops.shop_name.str.split(\" \").map( lambda x: x[1] )\n",
    "shops.loc[shops.city == \"!Якутск\", \"city\"] = \"Якутск\""
   ]
  },
  {
   "cell_type": "markdown",
   "metadata": {},
   "source": [
    "해당 카테고리에 가게 5개 이상 있어야 남기고 아니라면 기타로 편입"
   ]
  },
  {
   "cell_type": "code",
   "execution_count": 8,
   "metadata": {
    "ExecuteTime": {
     "end_time": "2020-08-28T02:36:40.019517Z",
     "start_time": "2020-08-28T02:36:40.010948Z"
    }
   },
   "outputs": [],
   "source": [
    "category = []\n",
    "for cat in shops.category.unique():\n",
    "    if len(shops[shops.category == cat]) >= 5:\n",
    "        category.append(cat)\n",
    "shops.category = shops.category.apply( lambda x: x if (x in category) else \"other\" )"
   ]
  },
  {
   "cell_type": "code",
   "execution_count": 9,
   "metadata": {
    "ExecuteTime": {
     "end_time": "2020-08-28T02:36:40.040177Z",
     "start_time": "2020-08-28T02:36:40.021071Z"
    }
   },
   "outputs": [],
   "source": [
    "from sklearn.preprocessing import LabelEncoder\n",
    "shops[\"shop_category\"] = LabelEncoder().fit_transform( shops.category )\n",
    "shops[\"shop_city\"] = LabelEncoder().fit_transform( shops.city )\n",
    "shops = shops[[\"shop_id\", \"shop_category\", \"shop_city\"]]"
   ]
  },
  {
   "cell_type": "markdown",
   "metadata": {},
   "source": [
    "## Cleaning Item Category Data"
   ]
  },
  {
   "cell_type": "code",
   "execution_count": 10,
   "metadata": {
    "ExecuteTime": {
     "end_time": "2020-08-28T02:36:40.049028Z",
     "start_time": "2020-08-28T02:36:40.041126Z"
    }
   },
   "outputs": [],
   "source": [
    "cats[\"type_code\"] = cats.item_category_name.apply( lambda x: x.split(\" \")[0] ).astype(str)\n",
    "cats.loc[ (cats.type_code == \"Игровые\")| (cats.type_code == \"Аксессуары\"), \"category\" ] = \"Игры\""
   ]
  },
  {
   "cell_type": "code",
   "execution_count": 11,
   "metadata": {
    "ExecuteTime": {
     "end_time": "2020-08-28T02:36:40.059244Z",
     "start_time": "2020-08-28T02:36:40.050086Z"
    }
   },
   "outputs": [],
   "source": [
    "category = []\n",
    "for cat in cats.type_code.unique():\n",
    "    if len(cats[cats.type_code == cat]) >= 5: \n",
    "        category.append( cat )\n",
    "cats.type_code = cats.type_code.apply(lambda x: x if (x in category) else \"etc\")"
   ]
  },
  {
   "cell_type": "code",
   "execution_count": 12,
   "metadata": {
    "ExecuteTime": {
     "end_time": "2020-08-28T02:36:40.067866Z",
     "start_time": "2020-08-28T02:36:40.060230Z"
    }
   },
   "outputs": [],
   "source": [
    "cats.type_code = LabelEncoder().fit_transform(cats.type_code)\n",
    "cats[\"split\"] = cats.item_category_name.apply(lambda x: x.split(\"-\"))\n",
    "cats[\"subtype\"] = cats.split.apply(lambda x: x[1].strip() if len(x) > 1 else x[0].strip())\n",
    "cats[\"subtype_code\"] = LabelEncoder().fit_transform( cats[\"subtype\"] )\n",
    "cats = cats[[\"item_category_id\", \"subtype_code\", \"type_code\"]]"
   ]
  },
  {
   "cell_type": "markdown",
   "metadata": {},
   "source": [
    "## Cleaning Item Data"
   ]
  },
  {
   "cell_type": "code",
   "execution_count": 13,
   "metadata": {
    "ExecuteTime": {
     "end_time": "2020-08-28T02:36:40.072037Z",
     "start_time": "2020-08-28T02:36:40.068997Z"
    }
   },
   "outputs": [],
   "source": [
    "import re\n",
    "def name_correction(x):\n",
    "    x = x.lower() # all letters lower case\n",
    "    x = x.partition('[')[0] # partition by square brackets\n",
    "    x = x.partition('(')[0] # partition by curly brackets\n",
    "    x = re.sub('[^A-Za-z0-9А-Яа-я]+', ' ', x) # remove special characters\n",
    "    x = x.replace('  ', ' ') # replace double spaces with single spaces\n",
    "    x = x.strip() # remove leading and trailing white space\n",
    "    return x"
   ]
  },
  {
   "cell_type": "markdown",
   "metadata": {},
   "source": [
    "clean item names"
   ]
  },
  {
   "cell_type": "code",
   "execution_count": 14,
   "metadata": {
    "ExecuteTime": {
     "end_time": "2020-08-28T02:36:40.295168Z",
     "start_time": "2020-08-28T02:36:40.073304Z"
    }
   },
   "outputs": [
    {
     "name": "stderr",
     "output_type": "stream",
     "text": [
      "/home/aiffel0042/anaconda3/envs/aiffel/lib/python3.7/site-packages/ipykernel_launcher.py:2: FutureWarning: Columnar iteration over characters will be deprecated in future releases.\n",
      "  \n",
      "/home/aiffel0042/anaconda3/envs/aiffel/lib/python3.7/site-packages/ipykernel_launcher.py:3: FutureWarning: Columnar iteration over characters will be deprecated in future releases.\n",
      "  This is separate from the ipykernel package so we can avoid doing imports until\n"
     ]
    }
   ],
   "source": [
    "# split item names by first bracket\n",
    "items[\"name1\"], items[\"name2\"] = items.item_name.str.split(\"[\", 1).str\n",
    "items[\"name1\"], items[\"name3\"] = items.item_name.str.split(\"(\", 1).str\n",
    "\n",
    "# replace special characters and turn to lower case\n",
    "items[\"name2\"] = items.name2.str.replace('[^A-Za-z0-9А-Яа-я]+', \" \").str.lower()\n",
    "items[\"name3\"] = items.name3.str.replace('[^A-Za-z0-9А-Яа-я]+', \" \").str.lower()\n",
    "\n",
    "# fill nulls with '0'\n",
    "items = items.fillna('0')\n",
    "\n",
    "items[\"item_name\"] = items[\"item_name\"].apply(lambda x: name_correction(x))\n",
    "\n",
    "# return all characters except the last if name 2 is not \"0\" - the closing bracket\n",
    "items.name2 = items.name2.apply( lambda x: x[:-1] if x !=\"0\" else \"0\")"
   ]
  },
  {
   "cell_type": "markdown",
   "metadata": {},
   "source": [
    "clean item type"
   ]
  },
  {
   "cell_type": "code",
   "execution_count": 15,
   "metadata": {
    "ExecuteTime": {
     "end_time": "2020-08-28T02:36:40.330590Z",
     "start_time": "2020-08-28T02:36:40.296060Z"
    }
   },
   "outputs": [],
   "source": [
    "items[\"type\"] = items.name2.apply(lambda x: x[0:8] if x.split(\" \")[0] == \"xbox\" else x.split(\" \")[0] )\n",
    "items.loc[(items.type == \"x360\") | (items.type == \"xbox360\") | (items.type == \"xbox 360\") ,\"type\"] = \"xbox 360\"\n",
    "items.loc[ items.type == \"\", \"type\"] = \"mac\"\n",
    "items.type = items.type.apply( lambda x: x.replace(\" \", \"\") )\n",
    "items.loc[ (items.type == 'pc' )| (items.type == 'pс') | (items.type == \"pc\"), \"type\" ] = \"pc\"\n",
    "items.loc[ items.type == 'рs3' , \"type\"] = \"ps3\""
   ]
  },
  {
   "cell_type": "code",
   "execution_count": 16,
   "metadata": {
    "ExecuteTime": {
     "end_time": "2020-08-28T02:36:40.356957Z",
     "start_time": "2020-08-28T02:36:40.331725Z"
    }
   },
   "outputs": [],
   "source": [
    "group_sum = items.groupby([\"type\"]).agg({\"item_id\": \"count\"})\n",
    "group_sum = group_sum.reset_index()\n",
    "drop_cols = []\n",
    "for cat in group_sum.type.unique():\n",
    "    if group_sum.loc[(group_sum.type == cat), \"item_id\"].values[0] <40:\n",
    "        drop_cols.append(cat)\n",
    "items.name2 = items.name2.apply( lambda x: \"other\" if (x in drop_cols) else x )\n",
    "items = items.drop([\"type\"], axis = 1)"
   ]
  },
  {
   "cell_type": "code",
   "execution_count": 17,
   "metadata": {
    "ExecuteTime": {
     "end_time": "2020-08-28T02:36:40.375505Z",
     "start_time": "2020-08-28T02:36:40.358038Z"
    }
   },
   "outputs": [
    {
     "data": {
      "text/html": [
       "<div>\n",
       "<style scoped>\n",
       "    .dataframe tbody tr th:only-of-type {\n",
       "        vertical-align: middle;\n",
       "    }\n",
       "\n",
       "    .dataframe tbody tr th {\n",
       "        vertical-align: top;\n",
       "    }\n",
       "\n",
       "    .dataframe thead th {\n",
       "        text-align: right;\n",
       "    }\n",
       "</style>\n",
       "<table border=\"1\" class=\"dataframe\">\n",
       "  <thead>\n",
       "    <tr style=\"text-align: right;\">\n",
       "      <th></th>\n",
       "      <th>item_id</th>\n",
       "      <th>item_category_id</th>\n",
       "      <th>name2</th>\n",
       "      <th>name3</th>\n",
       "    </tr>\n",
       "  </thead>\n",
       "  <tbody>\n",
       "    <tr>\n",
       "      <th>0</th>\n",
       "      <td>0</td>\n",
       "      <td>40</td>\n",
       "      <td>4</td>\n",
       "      <td>1331</td>\n",
       "    </tr>\n",
       "    <tr>\n",
       "      <th>1</th>\n",
       "      <td>1</td>\n",
       "      <td>76</td>\n",
       "      <td>64</td>\n",
       "      <td>42</td>\n",
       "    </tr>\n",
       "    <tr>\n",
       "      <th>2</th>\n",
       "      <td>2</td>\n",
       "      <td>40</td>\n",
       "      <td>4</td>\n",
       "      <td>1011</td>\n",
       "    </tr>\n",
       "    <tr>\n",
       "      <th>3</th>\n",
       "      <td>3</td>\n",
       "      <td>40</td>\n",
       "      <td>4</td>\n",
       "      <td>1010</td>\n",
       "    </tr>\n",
       "    <tr>\n",
       "      <th>4</th>\n",
       "      <td>4</td>\n",
       "      <td>40</td>\n",
       "      <td>4</td>\n",
       "      <td>1572</td>\n",
       "    </tr>\n",
       "  </tbody>\n",
       "</table>\n",
       "</div>"
      ],
      "text/plain": [
       "   item_id  item_category_id  name2  name3\n",
       "0        0                40      4   1331\n",
       "1        1                76     64     42\n",
       "2        2                40      4   1011\n",
       "3        3                40      4   1010\n",
       "4        4                40      4   1572"
      ]
     },
     "execution_count": 17,
     "metadata": {},
     "output_type": "execute_result"
    }
   ],
   "source": [
    "items.name2 = LabelEncoder().fit_transform(items.name2)\n",
    "items.name3 = LabelEncoder().fit_transform(items.name3)\n",
    "\n",
    "items.drop([\"item_name\", \"name1\"],axis = 1, inplace= True)\n",
    "items.head()"
   ]
  },
  {
   "cell_type": "markdown",
   "metadata": {},
   "source": [
    "### Preprocessing\n",
    "Create a matrix df with every combination of month, shop and item in order of increasing month. Item_cnt_day is summed into an item_cnt_month."
   ]
  },
  {
   "cell_type": "code",
   "execution_count": 18,
   "metadata": {
    "ExecuteTime": {
     "end_time": "2020-08-28T02:36:51.624070Z",
     "start_time": "2020-08-28T02:36:40.376759Z"
    }
   },
   "outputs": [
    {
     "data": {
      "text/plain": [
       "11.241028547286987"
      ]
     },
     "execution_count": 18,
     "metadata": {},
     "output_type": "execute_result"
    }
   ],
   "source": [
    "from itertools import product\n",
    "import time\n",
    "ts = time.time()\n",
    "matrix = []\n",
    "cols  = [\"date_block_num\", \"shop_id\", \"item_id\"]\n",
    "for i in range(34):\n",
    "    sales = train[train.date_block_num == i]\n",
    "    matrix.append( np.array(list( product( [i], sales.shop_id.unique(), sales.item_id.unique() ) ), dtype = np.int16) )\n",
    "\n",
    "matrix = pd.DataFrame( np.vstack(matrix), columns = cols )\n",
    "matrix[\"date_block_num\"] = matrix[\"date_block_num\"].astype(np.int8)\n",
    "matrix[\"shop_id\"] = matrix[\"shop_id\"].astype(np.int8)\n",
    "matrix[\"item_id\"] = matrix[\"item_id\"].astype(np.int16)\n",
    "matrix.sort_values( cols, inplace = True )\n",
    "time.time()- ts"
   ]
  },
  {
   "cell_type": "code",
   "execution_count": 19,
   "metadata": {
    "ExecuteTime": {
     "end_time": "2020-08-28T02:36:51.637814Z",
     "start_time": "2020-08-28T02:36:51.625219Z"
    }
   },
   "outputs": [],
   "source": [
    "# add revenue to train df\n",
    "train[\"revenue\"] = train[\"item_cnt_day\"] * train[\"item_price\"]"
   ]
  },
  {
   "cell_type": "code",
   "execution_count": 20,
   "metadata": {
    "ExecuteTime": {
     "end_time": "2020-08-28T02:36:54.342597Z",
     "start_time": "2020-08-28T02:36:51.638709Z"
    }
   },
   "outputs": [
    {
     "data": {
      "text/plain": [
       "2.7000348567962646"
      ]
     },
     "execution_count": 20,
     "metadata": {},
     "output_type": "execute_result"
    }
   ],
   "source": [
    "ts = time.time()\n",
    "group = train.groupby( [\"date_block_num\", \"shop_id\", \"item_id\"] ).agg( {\"item_cnt_day\": [\"sum\"]} )\n",
    "group.columns = [\"item_cnt_month\"]\n",
    "group.reset_index( inplace = True)\n",
    "matrix = pd.merge( matrix, group, on = cols, how = \"left\" )\n",
    "matrix[\"item_cnt_month\"] = matrix[\"item_cnt_month\"].fillna(0).astype(np.float16)\n",
    "time.time() - ts"
   ]
  },
  {
   "cell_type": "markdown",
   "metadata": {},
   "source": [
    "Create a test set for month 34."
   ]
  },
  {
   "cell_type": "code",
   "execution_count": 21,
   "metadata": {
    "ExecuteTime": {
     "end_time": "2020-08-28T02:36:54.348762Z",
     "start_time": "2020-08-28T02:36:54.343442Z"
    }
   },
   "outputs": [],
   "source": [
    "test[\"date_block_num\"] = 34\n",
    "test[\"date_block_num\"] = test[\"date_block_num\"].astype(np.int8)\n",
    "test[\"shop_id\"] = test.shop_id.astype(np.int8)\n",
    "test[\"item_id\"] = test.item_id.astype(np.int16)"
   ]
  },
  {
   "cell_type": "markdown",
   "metadata": {},
   "source": [
    "Concatenate train and test sets."
   ]
  },
  {
   "cell_type": "code",
   "execution_count": 22,
   "metadata": {
    "ExecuteTime": {
     "end_time": "2020-08-28T02:36:54.394768Z",
     "start_time": "2020-08-28T02:36:54.349666Z"
    }
   },
   "outputs": [
    {
     "data": {
      "text/plain": [
       "0.04097270965576172"
      ]
     },
     "execution_count": 22,
     "metadata": {},
     "output_type": "execute_result"
    }
   ],
   "source": [
    "ts = time.time()\n",
    "\n",
    "matrix = pd.concat([matrix, test.drop([\"ID\"],axis = 1)], ignore_index=True, sort=False, keys=cols)\n",
    "matrix.fillna( 0, inplace = True )\n",
    "time.time() - ts"
   ]
  },
  {
   "cell_type": "markdown",
   "metadata": {},
   "source": [
    "Add shop, items and categories data onto matrix df."
   ]
  },
  {
   "cell_type": "code",
   "execution_count": 23,
   "metadata": {
    "ExecuteTime": {
     "end_time": "2020-08-28T02:36:56.869843Z",
     "start_time": "2020-08-28T02:36:54.396935Z"
    }
   },
   "outputs": [
    {
     "data": {
      "text/plain": [
       "2.467362403869629"
      ]
     },
     "execution_count": 23,
     "metadata": {},
     "output_type": "execute_result"
    }
   ],
   "source": [
    "ts = time.time()\n",
    "matrix = pd.merge( matrix, shops, on = [\"shop_id\"], how = \"left\" )\n",
    "matrix = pd.merge(matrix, items, on = [\"item_id\"], how = \"left\")\n",
    "matrix = pd.merge( matrix, cats, on = [\"item_category_id\"], how = \"left\" )\n",
    "matrix[\"shop_city\"] = matrix[\"shop_city\"].astype(np.int8)\n",
    "matrix[\"shop_category\"] = matrix[\"shop_category\"].astype(np.int8)\n",
    "matrix[\"item_category_id\"] = matrix[\"item_category_id\"].astype(np.int8)\n",
    "matrix[\"subtype_code\"] = matrix[\"subtype_code\"].astype(np.int8)\n",
    "matrix[\"name2\"] = matrix[\"name2\"].astype(np.int8)\n",
    "matrix[\"name3\"] = matrix[\"name3\"].astype(np.int16)\n",
    "matrix[\"type_code\"] = matrix[\"type_code\"].astype(np.int8)\n",
    "time.time() - ts"
   ]
  },
  {
   "cell_type": "markdown",
   "metadata": {},
   "source": [
    "### Feature Engineering"
   ]
  },
  {
   "cell_type": "code",
   "execution_count": 24,
   "metadata": {
    "ExecuteTime": {
     "end_time": "2020-08-28T02:36:56.874472Z",
     "start_time": "2020-08-28T02:36:56.871154Z"
    }
   },
   "outputs": [],
   "source": [
    "# Add lag features to matrix df.\n",
    "# Define a lag feature function\n",
    "def lag_feature( df,lags, cols ):\n",
    "    for col in cols:\n",
    "        print(col)\n",
    "        tmp = df[[\"date_block_num\", \"shop_id\",\"item_id\",col ]]\n",
    "        for i in lags:\n",
    "            shifted = tmp.copy()\n",
    "            shifted.columns = [\"date_block_num\", \"shop_id\", \"item_id\", col + \"_lag_\"+str(i)]\n",
    "            shifted.date_block_num = shifted.date_block_num + i\n",
    "            df = pd.merge(df, shifted, on=['date_block_num','shop_id','item_id'], how='left')\n",
    "    return df"
   ]
  },
  {
   "cell_type": "markdown",
   "metadata": {},
   "source": [
    "Add item_cnt_month lag features"
   ]
  },
  {
   "cell_type": "code",
   "execution_count": 25,
   "metadata": {
    "ExecuteTime": {
     "end_time": "2020-08-28T02:37:08.450355Z",
     "start_time": "2020-08-28T02:36:56.875867Z"
    }
   },
   "outputs": [
    {
     "name": "stdout",
     "output_type": "stream",
     "text": [
      "item_cnt_month\n"
     ]
    },
    {
     "data": {
      "text/plain": [
       "11.548080921173096"
      ]
     },
     "execution_count": 25,
     "metadata": {},
     "output_type": "execute_result"
    }
   ],
   "source": [
    "ts = time.time()\n",
    "matrix = lag_feature( matrix, [1,2,3], [\"item_cnt_month\"] )\n",
    "time.time() - ts"
   ]
  },
  {
   "cell_type": "markdown",
   "metadata": {},
   "source": [
    "Add the previous month's average item_cnt."
   ]
  },
  {
   "cell_type": "code",
   "execution_count": 26,
   "metadata": {
    "ExecuteTime": {
     "end_time": "2020-08-28T02:37:14.506661Z",
     "start_time": "2020-08-28T02:37:08.451479Z"
    }
   },
   "outputs": [
    {
     "name": "stdout",
     "output_type": "stream",
     "text": [
      "date_avg_item_cnt\n"
     ]
    },
    {
     "data": {
      "text/plain": [
       "6.0499653816223145"
      ]
     },
     "execution_count": 26,
     "metadata": {},
     "output_type": "execute_result"
    }
   ],
   "source": [
    "ts = time.time()\n",
    "group = matrix.groupby( [\"date_block_num\"] ).agg({\"item_cnt_month\" : [\"mean\"]})\n",
    "group.columns = [\"date_avg_item_cnt\"]\n",
    "group.reset_index(inplace = True)\n",
    "\n",
    "matrix = pd.merge(matrix, group, on = [\"date_block_num\"], how = \"left\")\n",
    "matrix.date_avg_item_cnt = matrix[\"date_avg_item_cnt\"].astype(np.float16)\n",
    "matrix = lag_feature( matrix, [1], [\"date_avg_item_cnt\"] )\n",
    "matrix.drop( [\"date_avg_item_cnt\"], axis = 1, inplace = True )\n",
    "time.time() - ts"
   ]
  },
  {
   "cell_type": "markdown",
   "metadata": {},
   "source": [
    "Add lag values of item_cnt_month for month / item_id."
   ]
  },
  {
   "cell_type": "code",
   "execution_count": 27,
   "metadata": {
    "ExecuteTime": {
     "end_time": "2020-08-28T02:37:29.062873Z",
     "start_time": "2020-08-28T02:37:14.507672Z"
    }
   },
   "outputs": [
    {
     "name": "stdout",
     "output_type": "stream",
     "text": [
      "date_item_avg_item_cnt\n"
     ]
    },
    {
     "data": {
      "text/plain": [
       "14.55087161064148"
      ]
     },
     "execution_count": 27,
     "metadata": {},
     "output_type": "execute_result"
    }
   ],
   "source": [
    "ts = time.time()\n",
    "group = matrix.groupby(['date_block_num', 'item_id']).agg({'item_cnt_month': ['mean']})\n",
    "group.columns = [ 'date_item_avg_item_cnt' ]\n",
    "group.reset_index(inplace=True)\n",
    "\n",
    "matrix = pd.merge(matrix, group, on=['date_block_num','item_id'], how='left')\n",
    "matrix.date_item_avg_item_cnt = matrix['date_item_avg_item_cnt'].astype(np.float16)\n",
    "matrix = lag_feature(matrix, [1,2,3], ['date_item_avg_item_cnt'])\n",
    "matrix.drop(['date_item_avg_item_cnt'], axis=1, inplace=True)\n",
    "time.time() - ts"
   ]
  },
  {
   "cell_type": "markdown",
   "metadata": {},
   "source": [
    "Add lag values for item_cnt_month for every month / shop combination."
   ]
  },
  {
   "cell_type": "code",
   "execution_count": 28,
   "metadata": {
    "ExecuteTime": {
     "end_time": "2020-08-28T02:37:44.287421Z",
     "start_time": "2020-08-28T02:37:29.063886Z"
    }
   },
   "outputs": [
    {
     "name": "stderr",
     "output_type": "stream",
     "text": [
      "/home/aiffel0042/anaconda3/envs/aiffel/lib/python3.7/site-packages/ipykernel_launcher.py:7: UserWarning: Pandas doesn't allow columns to be created via a new attribute name - see https://pandas.pydata.org/pandas-docs/stable/indexing.html#attribute-access\n",
      "  import sys\n"
     ]
    },
    {
     "name": "stdout",
     "output_type": "stream",
     "text": [
      "date_shop_avg_item_cnt\n"
     ]
    },
    {
     "data": {
      "text/plain": [
       "15.218366861343384"
      ]
     },
     "execution_count": 28,
     "metadata": {},
     "output_type": "execute_result"
    }
   ],
   "source": [
    "ts = time.time()\n",
    "group = matrix.groupby( [\"date_block_num\",\"shop_id\"] ).agg({\"item_cnt_month\" : [\"mean\"]})\n",
    "group.columns = [\"date_shop_avg_item_cnt\"]\n",
    "group.reset_index(inplace = True)\n",
    "\n",
    "matrix = pd.merge(matrix, group, on = [\"date_block_num\",\"shop_id\"], how = \"left\")\n",
    "matrix.date_avg_item_cnt = matrix[\"date_shop_avg_item_cnt\"].astype(np.float16)\n",
    "matrix = lag_feature( matrix, [1,2,3], [\"date_shop_avg_item_cnt\"] )\n",
    "matrix.drop( [\"date_shop_avg_item_cnt\"], axis = 1, inplace = True )\n",
    "time.time() - ts"
   ]
  },
  {
   "cell_type": "markdown",
   "metadata": {},
   "source": [
    "Add lag values for item_cnt_month for month/shop/item."
   ]
  },
  {
   "cell_type": "code",
   "execution_count": 29,
   "metadata": {
    "ExecuteTime": {
     "end_time": "2020-08-28T02:38:04.334915Z",
     "start_time": "2020-08-28T02:37:44.288783Z"
    }
   },
   "outputs": [
    {
     "name": "stderr",
     "output_type": "stream",
     "text": [
      "/home/aiffel0042/anaconda3/envs/aiffel/lib/python3.7/site-packages/ipykernel_launcher.py:7: UserWarning: Pandas doesn't allow columns to be created via a new attribute name - see https://pandas.pydata.org/pandas-docs/stable/indexing.html#attribute-access\n",
      "  import sys\n"
     ]
    },
    {
     "name": "stdout",
     "output_type": "stream",
     "text": [
      "date_shop_item_avg_item_cnt\n"
     ]
    },
    {
     "data": {
      "text/plain": [
       "20.041032552719116"
      ]
     },
     "execution_count": 29,
     "metadata": {},
     "output_type": "execute_result"
    }
   ],
   "source": [
    "ts = time.time()\n",
    "group = matrix.groupby( [\"date_block_num\",\"shop_id\",\"item_id\"] ).agg({\"item_cnt_month\" : [\"mean\"]})\n",
    "group.columns = [\"date_shop_item_avg_item_cnt\"]\n",
    "group.reset_index(inplace = True)\n",
    "\n",
    "matrix = pd.merge(matrix, group, on = [\"date_block_num\",\"shop_id\",\"item_id\"], how = \"left\")\n",
    "matrix.date_avg_item_cnt = matrix[\"date_shop_item_avg_item_cnt\"].astype(np.float16)\n",
    "matrix = lag_feature( matrix, [1,2,3], [\"date_shop_item_avg_item_cnt\"] )\n",
    "matrix.drop( [\"date_shop_item_avg_item_cnt\"], axis = 1, inplace = True )\n",
    "time.time() - ts"
   ]
  },
  {
   "cell_type": "markdown",
   "metadata": {},
   "source": [
    "Add lag values for item_cnt_month for month/shop/item subtype."
   ]
  },
  {
   "cell_type": "code",
   "execution_count": 30,
   "metadata": {
    "ExecuteTime": {
     "end_time": "2020-08-28T02:38:12.073346Z",
     "start_time": "2020-08-28T02:38:04.335941Z"
    }
   },
   "outputs": [
    {
     "name": "stdout",
     "output_type": "stream",
     "text": [
      "date_shop_subtype_avg_item_cnt\n"
     ]
    },
    {
     "data": {
      "text/plain": [
       "7.732778549194336"
      ]
     },
     "execution_count": 30,
     "metadata": {},
     "output_type": "execute_result"
    }
   ],
   "source": [
    "ts = time.time()\n",
    "group = matrix.groupby(['date_block_num', 'shop_id', 'subtype_code']).agg({'item_cnt_month': ['mean']})\n",
    "group.columns = ['date_shop_subtype_avg_item_cnt']\n",
    "group.reset_index(inplace=True)\n",
    "\n",
    "matrix = pd.merge(matrix, group, on=['date_block_num', 'shop_id', 'subtype_code'], how='left')\n",
    "matrix.date_shop_subtype_avg_item_cnt = matrix['date_shop_subtype_avg_item_cnt'].astype(np.float16)\n",
    "matrix = lag_feature(matrix, [1], ['date_shop_subtype_avg_item_cnt'])\n",
    "matrix.drop(['date_shop_subtype_avg_item_cnt'], axis=1, inplace=True)\n",
    "time.time() - ts"
   ]
  },
  {
   "cell_type": "markdown",
   "metadata": {},
   "source": [
    "Add lag values for item_cnt_month for month/city."
   ]
  },
  {
   "cell_type": "code",
   "execution_count": 31,
   "metadata": {
    "ExecuteTime": {
     "end_time": "2020-08-28T02:38:19.555140Z",
     "start_time": "2020-08-28T02:38:12.074393Z"
    }
   },
   "outputs": [
    {
     "name": "stdout",
     "output_type": "stream",
     "text": [
      "date_city_avg_item_cnt\n"
     ]
    },
    {
     "data": {
      "text/plain": [
       "7.476494550704956"
      ]
     },
     "execution_count": 31,
     "metadata": {},
     "output_type": "execute_result"
    }
   ],
   "source": [
    "ts = time.time()\n",
    "group = matrix.groupby(['date_block_num', 'shop_city']).agg({'item_cnt_month': ['mean']})\n",
    "group.columns = ['date_city_avg_item_cnt']\n",
    "group.reset_index(inplace=True)\n",
    "\n",
    "matrix = pd.merge(matrix, group, on=['date_block_num', \"shop_city\"], how='left')\n",
    "matrix.date_city_avg_item_cnt = matrix['date_city_avg_item_cnt'].astype(np.float16)\n",
    "matrix = lag_feature(matrix, [1], ['date_city_avg_item_cnt'])\n",
    "matrix.drop(['date_city_avg_item_cnt'], axis=1, inplace=True)\n",
    "time.time() - ts"
   ]
  },
  {
   "cell_type": "markdown",
   "metadata": {},
   "source": [
    "Add lag values for item_cnt_month for month/city/item."
   ]
  },
  {
   "cell_type": "code",
   "execution_count": 32,
   "metadata": {
    "ExecuteTime": {
     "end_time": "2020-08-28T02:38:31.500847Z",
     "start_time": "2020-08-28T02:38:19.555969Z"
    }
   },
   "outputs": [
    {
     "name": "stdout",
     "output_type": "stream",
     "text": [
      "date_item_city_avg_item_cnt\n"
     ]
    },
    {
     "data": {
      "text/plain": [
       "11.939242124557495"
      ]
     },
     "execution_count": 32,
     "metadata": {},
     "output_type": "execute_result"
    }
   ],
   "source": [
    "ts = time.time()\n",
    "group = matrix.groupby(['date_block_num', 'item_id', 'shop_city']).agg({'item_cnt_month': ['mean']})\n",
    "group.columns = [ 'date_item_city_avg_item_cnt' ]\n",
    "group.reset_index(inplace=True)\n",
    "\n",
    "matrix = pd.merge(matrix, group, on=['date_block_num', 'item_id', 'shop_city'], how='left')\n",
    "matrix.date_item_city_avg_item_cnt = matrix['date_item_city_avg_item_cnt'].astype(np.float16)\n",
    "matrix = lag_feature(matrix, [1], ['date_item_city_avg_item_cnt'])\n",
    "matrix.drop(['date_item_city_avg_item_cnt'], axis=1, inplace=True)\n",
    "time.time() - ts"
   ]
  },
  {
   "cell_type": "markdown",
   "metadata": {},
   "source": [
    "- Add average item price on to matix df.\n",
    "- Add lag values of item price per month.\n",
    "- Add delta price values - how current month average pirce relates to global average."
   ]
  },
  {
   "cell_type": "code",
   "execution_count": 33,
   "metadata": {
    "ExecuteTime": {
     "end_time": "2020-08-28T02:42:31.301893Z",
     "start_time": "2020-08-28T02:38:31.501769Z"
    }
   },
   "outputs": [
    {
     "name": "stdout",
     "output_type": "stream",
     "text": [
      "date_item_avg_item_price\n"
     ]
    },
    {
     "data": {
      "text/plain": [
       "239.7897927761078"
      ]
     },
     "execution_count": 33,
     "metadata": {},
     "output_type": "execute_result"
    }
   ],
   "source": [
    "ts = time.time()\n",
    "group = train.groupby( [\"item_id\"] ).agg({\"item_price\": [\"mean\"]})\n",
    "group.columns = [\"item_avg_item_price\"]\n",
    "group.reset_index(inplace = True)\n",
    "\n",
    "matrix = matrix.merge( group, on = [\"item_id\"], how = \"left\" )\n",
    "matrix[\"item_avg_item_price\"] = matrix.item_avg_item_price.astype(np.float16)\n",
    "\n",
    "\n",
    "group = train.groupby( [\"date_block_num\",\"item_id\"] ).agg( {\"item_price\": [\"mean\"]} )\n",
    "group.columns = [\"date_item_avg_item_price\"]\n",
    "group.reset_index(inplace = True)\n",
    "\n",
    "matrix = matrix.merge(group, on = [\"date_block_num\",\"item_id\"], how = \"left\")\n",
    "matrix[\"date_item_avg_item_price\"] = matrix.date_item_avg_item_price.astype(np.float16)\n",
    "lags = [1, 2, 3]\n",
    "matrix = lag_feature( matrix, lags, [\"date_item_avg_item_price\"] )\n",
    "for i in lags:\n",
    "    matrix[\"delta_price_lag_\" + str(i) ] = (matrix[\"date_item_avg_item_price_lag_\" + str(i)]- matrix[\"item_avg_item_price\"] )/ matrix[\"item_avg_item_price\"]\n",
    "\n",
    "def select_trends(row) :\n",
    "    for i in lags:\n",
    "        if row[\"delta_price_lag_\" + str(i)]:\n",
    "            return row[\"delta_price_lag_\" + str(i)]\n",
    "    return 0\n",
    "\n",
    "matrix[\"delta_price_lag\"] = matrix.apply(select_trends, axis = 1)\n",
    "matrix[\"delta_price_lag\"] = matrix.delta_price_lag.astype( np.float16 )\n",
    "matrix[\"delta_price_lag\"].fillna( 0 ,inplace = True)\n",
    "\n",
    "features_to_drop = [\"item_avg_item_price\", \"date_item_avg_item_price\"]\n",
    "for i in lags:\n",
    "    features_to_drop.append(\"date_item_avg_item_price_lag_\" + str(i) )\n",
    "    features_to_drop.append(\"delta_price_lag_\" + str(i) )\n",
    "matrix.drop(features_to_drop, axis = 1, inplace = True)\n",
    "time.time() - ts"
   ]
  },
  {
   "cell_type": "markdown",
   "metadata": {},
   "source": [
    "- Add total shop revenue per month to matix df.\n",
    "- Add lag values of revenue per month.\n",
    "- Add delta revenue values - how current month revenue relates to global average."
   ]
  },
  {
   "cell_type": "code",
   "execution_count": 34,
   "metadata": {
    "ExecuteTime": {
     "end_time": "2020-08-28T02:42:39.634273Z",
     "start_time": "2020-08-28T02:42:31.302753Z"
    }
   },
   "outputs": [
    {
     "name": "stdout",
     "output_type": "stream",
     "text": [
      "delta_revenue\n"
     ]
    },
    {
     "data": {
      "text/plain": [
       "8.324764966964722"
      ]
     },
     "execution_count": 34,
     "metadata": {},
     "output_type": "execute_result"
    }
   ],
   "source": [
    "ts = time.time()\n",
    "group = train.groupby( [\"date_block_num\",\"shop_id\"] ).agg({\"revenue\": [\"sum\"] })\n",
    "group.columns = [\"date_shop_revenue\"]\n",
    "group.reset_index(inplace = True)\n",
    "\n",
    "matrix = matrix.merge( group , on = [\"date_block_num\", \"shop_id\"], how = \"left\" )\n",
    "matrix['date_shop_revenue'] = matrix['date_shop_revenue'].astype(np.float32)\n",
    "\n",
    "group = group.groupby([\"shop_id\"]).agg({ \"date_block_num\":[\"mean\"] })\n",
    "group.columns = [\"shop_avg_revenue\"]\n",
    "group.reset_index(inplace = True )\n",
    "\n",
    "matrix = matrix.merge( group, on = [\"shop_id\"], how = \"left\" )\n",
    "matrix[\"shop_avg_revenue\"] = matrix.shop_avg_revenue.astype(np.float32)\n",
    "matrix[\"delta_revenue\"] = (matrix['date_shop_revenue'] - matrix['shop_avg_revenue']) / matrix['shop_avg_revenue']\n",
    "matrix[\"delta_revenue\"] = matrix[\"delta_revenue\"]. astype(np.float32)\n",
    "\n",
    "matrix = lag_feature(matrix, [1], [\"delta_revenue\"])\n",
    "matrix[\"delta_revenue_lag_1\"] = matrix[\"delta_revenue_lag_1\"].astype(np.float32)\n",
    "matrix.drop( [\"date_shop_revenue\", \"shop_avg_revenue\", \"delta_revenue\"] ,axis = 1, inplace = True)\n",
    "time.time() - ts\n"
   ]
  },
  {
   "cell_type": "markdown",
   "metadata": {},
   "source": [
    "Add month and number of days in each month to matrix df."
   ]
  },
  {
   "cell_type": "code",
   "execution_count": 35,
   "metadata": {
    "ExecuteTime": {
     "end_time": "2020-08-28T02:42:39.785914Z",
     "start_time": "2020-08-28T02:42:39.635132Z"
    }
   },
   "outputs": [],
   "source": [
    "matrix[\"month\"] = matrix[\"date_block_num\"] % 12\n",
    "days = pd.Series([31,28,31,30,31,30,31,31,30,31,30,31])\n",
    "matrix[\"days\"] = matrix[\"month\"].map(days).astype(np.int8)"
   ]
  },
  {
   "cell_type": "markdown",
   "metadata": {},
   "source": [
    "Add the month of each shop and item first sale."
   ]
  },
  {
   "cell_type": "code",
   "execution_count": 36,
   "metadata": {
    "ExecuteTime": {
     "end_time": "2020-08-28T02:42:41.033706Z",
     "start_time": "2020-08-28T02:42:39.786766Z"
    }
   },
   "outputs": [
    {
     "data": {
      "text/plain": [
       "1.2436347007751465"
      ]
     },
     "execution_count": 36,
     "metadata": {},
     "output_type": "execute_result"
    }
   ],
   "source": [
    "ts = time.time()\n",
    "matrix[\"item_shop_first_sale\"] = matrix[\"date_block_num\"] - matrix.groupby([\"item_id\",\"shop_id\"])[\"date_block_num\"].transform('min')\n",
    "matrix[\"item_first_sale\"] = matrix[\"date_block_num\"] - matrix.groupby([\"item_id\"])[\"date_block_num\"].transform('min')\n",
    "time.time() - ts"
   ]
  },
  {
   "cell_type": "markdown",
   "metadata": {},
   "source": [
    "Delete first three months from matrix. They don't have lag values."
   ]
  },
  {
   "cell_type": "code",
   "execution_count": 37,
   "metadata": {
    "ExecuteTime": {
     "end_time": "2020-08-28T02:42:41.627369Z",
     "start_time": "2020-08-28T02:42:41.034862Z"
    }
   },
   "outputs": [
    {
     "data": {
      "text/plain": [
       "0.5895810127258301"
      ]
     },
     "execution_count": 37,
     "metadata": {},
     "output_type": "execute_result"
    }
   ],
   "source": [
    "ts = time.time()\n",
    "matrix = matrix[matrix[\"date_block_num\"] > 3]\n",
    "time.time() - ts"
   ]
  },
  {
   "cell_type": "code",
   "execution_count": 38,
   "metadata": {
    "ExecuteTime": {
     "end_time": "2020-08-28T02:42:41.638053Z",
     "start_time": "2020-08-28T02:42:41.628300Z"
    }
   },
   "outputs": [
    {
     "data": {
      "text/html": [
       "<div>\n",
       "<style scoped>\n",
       "    .dataframe tbody tr th:only-of-type {\n",
       "        vertical-align: middle;\n",
       "    }\n",
       "\n",
       "    .dataframe tbody tr th {\n",
       "        vertical-align: top;\n",
       "    }\n",
       "\n",
       "    .dataframe thead th {\n",
       "        text-align: right;\n",
       "    }\n",
       "</style>\n",
       "<table border=\"1\" class=\"dataframe\">\n",
       "  <thead>\n",
       "    <tr style=\"text-align: right;\">\n",
       "      <th></th>\n",
       "      <th>1497465</th>\n",
       "      <th>1497466</th>\n",
       "      <th>1497467</th>\n",
       "      <th>1497468</th>\n",
       "      <th>1497469</th>\n",
       "    </tr>\n",
       "  </thead>\n",
       "  <tbody>\n",
       "    <tr>\n",
       "      <th>date_block_num</th>\n",
       "      <td>4.000000</td>\n",
       "      <td>4.000000</td>\n",
       "      <td>4.0</td>\n",
       "      <td>4.000000</td>\n",
       "      <td>4.000000</td>\n",
       "    </tr>\n",
       "    <tr>\n",
       "      <th>shop_id</th>\n",
       "      <td>2.000000</td>\n",
       "      <td>2.000000</td>\n",
       "      <td>2.0</td>\n",
       "      <td>2.000000</td>\n",
       "      <td>2.000000</td>\n",
       "    </tr>\n",
       "    <tr>\n",
       "      <th>item_id</th>\n",
       "      <td>27.000000</td>\n",
       "      <td>28.000000</td>\n",
       "      <td>29.0</td>\n",
       "      <td>30.000000</td>\n",
       "      <td>31.000000</td>\n",
       "    </tr>\n",
       "    <tr>\n",
       "      <th>item_cnt_month</th>\n",
       "      <td>0.000000</td>\n",
       "      <td>0.000000</td>\n",
       "      <td>0.0</td>\n",
       "      <td>0.000000</td>\n",
       "      <td>0.000000</td>\n",
       "    </tr>\n",
       "    <tr>\n",
       "      <th>shop_category</th>\n",
       "      <td>4.000000</td>\n",
       "      <td>4.000000</td>\n",
       "      <td>4.0</td>\n",
       "      <td>4.000000</td>\n",
       "      <td>4.000000</td>\n",
       "    </tr>\n",
       "    <tr>\n",
       "      <th>shop_city</th>\n",
       "      <td>0.000000</td>\n",
       "      <td>0.000000</td>\n",
       "      <td>0.0</td>\n",
       "      <td>0.000000</td>\n",
       "      <td>0.000000</td>\n",
       "    </tr>\n",
       "    <tr>\n",
       "      <th>item_category_id</th>\n",
       "      <td>19.000000</td>\n",
       "      <td>30.000000</td>\n",
       "      <td>23.0</td>\n",
       "      <td>40.000000</td>\n",
       "      <td>37.000000</td>\n",
       "    </tr>\n",
       "    <tr>\n",
       "      <th>name2</th>\n",
       "      <td>76.000000</td>\n",
       "      <td>107.000000</td>\n",
       "      <td>123.0</td>\n",
       "      <td>4.000000</td>\n",
       "      <td>4.000000</td>\n",
       "    </tr>\n",
       "    <tr>\n",
       "      <th>name3</th>\n",
       "      <td>42.000000</td>\n",
       "      <td>42.000000</td>\n",
       "      <td>42.0</td>\n",
       "      <td>42.000000</td>\n",
       "      <td>562.000000</td>\n",
       "    </tr>\n",
       "    <tr>\n",
       "      <th>subtype_code</th>\n",
       "      <td>10.000000</td>\n",
       "      <td>55.000000</td>\n",
       "      <td>16.0</td>\n",
       "      <td>4.000000</td>\n",
       "      <td>1.000000</td>\n",
       "    </tr>\n",
       "    <tr>\n",
       "      <th>type_code</th>\n",
       "      <td>3.000000</td>\n",
       "      <td>3.000000</td>\n",
       "      <td>3.0</td>\n",
       "      <td>5.000000</td>\n",
       "      <td>5.000000</td>\n",
       "    </tr>\n",
       "    <tr>\n",
       "      <th>item_cnt_month_lag_1</th>\n",
       "      <td>0.000000</td>\n",
       "      <td>0.000000</td>\n",
       "      <td>NaN</td>\n",
       "      <td>0.000000</td>\n",
       "      <td>1.000000</td>\n",
       "    </tr>\n",
       "    <tr>\n",
       "      <th>item_cnt_month_lag_2</th>\n",
       "      <td>0.000000</td>\n",
       "      <td>0.000000</td>\n",
       "      <td>NaN</td>\n",
       "      <td>1.000000</td>\n",
       "      <td>1.000000</td>\n",
       "    </tr>\n",
       "    <tr>\n",
       "      <th>item_cnt_month_lag_3</th>\n",
       "      <td>0.000000</td>\n",
       "      <td>0.000000</td>\n",
       "      <td>NaN</td>\n",
       "      <td>0.000000</td>\n",
       "      <td>4.000000</td>\n",
       "    </tr>\n",
       "    <tr>\n",
       "      <th>date_avg_item_cnt_lag_1</th>\n",
       "      <td>0.286865</td>\n",
       "      <td>0.286865</td>\n",
       "      <td>NaN</td>\n",
       "      <td>0.286865</td>\n",
       "      <td>0.286865</td>\n",
       "    </tr>\n",
       "    <tr>\n",
       "      <th>date_item_avg_item_cnt_lag_1</th>\n",
       "      <td>0.021744</td>\n",
       "      <td>0.130493</td>\n",
       "      <td>NaN</td>\n",
       "      <td>2.826172</td>\n",
       "      <td>1.260742</td>\n",
       "    </tr>\n",
       "    <tr>\n",
       "      <th>date_item_avg_item_cnt_lag_2</th>\n",
       "      <td>0.086975</td>\n",
       "      <td>0.152222</td>\n",
       "      <td>NaN</td>\n",
       "      <td>11.046875</td>\n",
       "      <td>4.781250</td>\n",
       "    </tr>\n",
       "    <tr>\n",
       "      <th>date_item_avg_item_cnt_lag_3</th>\n",
       "      <td>0.065247</td>\n",
       "      <td>0.173950</td>\n",
       "      <td>NaN</td>\n",
       "      <td>18.734375</td>\n",
       "      <td>13.648438</td>\n",
       "    </tr>\n",
       "    <tr>\n",
       "      <th>date_shop_avg_item_cnt_lag_1</th>\n",
       "      <td>0.071838</td>\n",
       "      <td>0.071838</td>\n",
       "      <td>NaN</td>\n",
       "      <td>0.071838</td>\n",
       "      <td>0.071838</td>\n",
       "    </tr>\n",
       "    <tr>\n",
       "      <th>date_shop_avg_item_cnt_lag_2</th>\n",
       "      <td>0.091064</td>\n",
       "      <td>0.091064</td>\n",
       "      <td>NaN</td>\n",
       "      <td>0.091064</td>\n",
       "      <td>0.091064</td>\n",
       "    </tr>\n",
       "    <tr>\n",
       "      <th>date_shop_avg_item_cnt_lag_3</th>\n",
       "      <td>0.059875</td>\n",
       "      <td>0.059875</td>\n",
       "      <td>NaN</td>\n",
       "      <td>0.059875</td>\n",
       "      <td>0.059875</td>\n",
       "    </tr>\n",
       "    <tr>\n",
       "      <th>date_shop_item_avg_item_cnt_lag_1</th>\n",
       "      <td>0.000000</td>\n",
       "      <td>0.000000</td>\n",
       "      <td>NaN</td>\n",
       "      <td>0.000000</td>\n",
       "      <td>1.000000</td>\n",
       "    </tr>\n",
       "    <tr>\n",
       "      <th>date_shop_item_avg_item_cnt_lag_2</th>\n",
       "      <td>0.000000</td>\n",
       "      <td>0.000000</td>\n",
       "      <td>NaN</td>\n",
       "      <td>1.000000</td>\n",
       "      <td>1.000000</td>\n",
       "    </tr>\n",
       "    <tr>\n",
       "      <th>date_shop_item_avg_item_cnt_lag_3</th>\n",
       "      <td>0.000000</td>\n",
       "      <td>0.000000</td>\n",
       "      <td>NaN</td>\n",
       "      <td>0.000000</td>\n",
       "      <td>4.000000</td>\n",
       "    </tr>\n",
       "    <tr>\n",
       "      <th>date_shop_subtype_avg_item_cnt_lag_1</th>\n",
       "      <td>0.449463</td>\n",
       "      <td>0.387207</td>\n",
       "      <td>NaN</td>\n",
       "      <td>0.018585</td>\n",
       "      <td>0.035919</td>\n",
       "    </tr>\n",
       "    <tr>\n",
       "      <th>date_city_avg_item_cnt_lag_1</th>\n",
       "      <td>0.071838</td>\n",
       "      <td>0.071838</td>\n",
       "      <td>NaN</td>\n",
       "      <td>0.071838</td>\n",
       "      <td>0.071838</td>\n",
       "    </tr>\n",
       "    <tr>\n",
       "      <th>date_item_city_avg_item_cnt_lag_1</th>\n",
       "      <td>0.000000</td>\n",
       "      <td>0.000000</td>\n",
       "      <td>NaN</td>\n",
       "      <td>0.000000</td>\n",
       "      <td>1.000000</td>\n",
       "    </tr>\n",
       "    <tr>\n",
       "      <th>delta_price_lag</th>\n",
       "      <td>0.367676</td>\n",
       "      <td>0.256348</td>\n",
       "      <td>0.0</td>\n",
       "      <td>0.212402</td>\n",
       "      <td>0.191040</td>\n",
       "    </tr>\n",
       "    <tr>\n",
       "      <th>delta_revenue_lag_1</th>\n",
       "      <td>37326.816406</td>\n",
       "      <td>37326.816406</td>\n",
       "      <td>NaN</td>\n",
       "      <td>37326.816406</td>\n",
       "      <td>37326.816406</td>\n",
       "    </tr>\n",
       "    <tr>\n",
       "      <th>month</th>\n",
       "      <td>4.000000</td>\n",
       "      <td>4.000000</td>\n",
       "      <td>4.0</td>\n",
       "      <td>4.000000</td>\n",
       "      <td>4.000000</td>\n",
       "    </tr>\n",
       "    <tr>\n",
       "      <th>days</th>\n",
       "      <td>31.000000</td>\n",
       "      <td>31.000000</td>\n",
       "      <td>31.0</td>\n",
       "      <td>31.000000</td>\n",
       "      <td>31.000000</td>\n",
       "    </tr>\n",
       "    <tr>\n",
       "      <th>item_shop_first_sale</th>\n",
       "      <td>4.000000</td>\n",
       "      <td>4.000000</td>\n",
       "      <td>4.0</td>\n",
       "      <td>3.000000</td>\n",
       "      <td>3.000000</td>\n",
       "    </tr>\n",
       "    <tr>\n",
       "      <th>item_first_sale</th>\n",
       "      <td>4.000000</td>\n",
       "      <td>4.000000</td>\n",
       "      <td>4.0</td>\n",
       "      <td>3.000000</td>\n",
       "      <td>3.000000</td>\n",
       "    </tr>\n",
       "  </tbody>\n",
       "</table>\n",
       "</div>"
      ],
      "text/plain": [
       "                                           1497465       1497466  1497467  \\\n",
       "date_block_num                            4.000000      4.000000      4.0   \n",
       "shop_id                                   2.000000      2.000000      2.0   \n",
       "item_id                                  27.000000     28.000000     29.0   \n",
       "item_cnt_month                            0.000000      0.000000      0.0   \n",
       "shop_category                             4.000000      4.000000      4.0   \n",
       "shop_city                                 0.000000      0.000000      0.0   \n",
       "item_category_id                         19.000000     30.000000     23.0   \n",
       "name2                                    76.000000    107.000000    123.0   \n",
       "name3                                    42.000000     42.000000     42.0   \n",
       "subtype_code                             10.000000     55.000000     16.0   \n",
       "type_code                                 3.000000      3.000000      3.0   \n",
       "item_cnt_month_lag_1                      0.000000      0.000000      NaN   \n",
       "item_cnt_month_lag_2                      0.000000      0.000000      NaN   \n",
       "item_cnt_month_lag_3                      0.000000      0.000000      NaN   \n",
       "date_avg_item_cnt_lag_1                   0.286865      0.286865      NaN   \n",
       "date_item_avg_item_cnt_lag_1              0.021744      0.130493      NaN   \n",
       "date_item_avg_item_cnt_lag_2              0.086975      0.152222      NaN   \n",
       "date_item_avg_item_cnt_lag_3              0.065247      0.173950      NaN   \n",
       "date_shop_avg_item_cnt_lag_1              0.071838      0.071838      NaN   \n",
       "date_shop_avg_item_cnt_lag_2              0.091064      0.091064      NaN   \n",
       "date_shop_avg_item_cnt_lag_3              0.059875      0.059875      NaN   \n",
       "date_shop_item_avg_item_cnt_lag_1         0.000000      0.000000      NaN   \n",
       "date_shop_item_avg_item_cnt_lag_2         0.000000      0.000000      NaN   \n",
       "date_shop_item_avg_item_cnt_lag_3         0.000000      0.000000      NaN   \n",
       "date_shop_subtype_avg_item_cnt_lag_1      0.449463      0.387207      NaN   \n",
       "date_city_avg_item_cnt_lag_1              0.071838      0.071838      NaN   \n",
       "date_item_city_avg_item_cnt_lag_1         0.000000      0.000000      NaN   \n",
       "delta_price_lag                           0.367676      0.256348      0.0   \n",
       "delta_revenue_lag_1                   37326.816406  37326.816406      NaN   \n",
       "month                                     4.000000      4.000000      4.0   \n",
       "days                                     31.000000     31.000000     31.0   \n",
       "item_shop_first_sale                      4.000000      4.000000      4.0   \n",
       "item_first_sale                           4.000000      4.000000      4.0   \n",
       "\n",
       "                                           1497468       1497469  \n",
       "date_block_num                            4.000000      4.000000  \n",
       "shop_id                                   2.000000      2.000000  \n",
       "item_id                                  30.000000     31.000000  \n",
       "item_cnt_month                            0.000000      0.000000  \n",
       "shop_category                             4.000000      4.000000  \n",
       "shop_city                                 0.000000      0.000000  \n",
       "item_category_id                         40.000000     37.000000  \n",
       "name2                                     4.000000      4.000000  \n",
       "name3                                    42.000000    562.000000  \n",
       "subtype_code                              4.000000      1.000000  \n",
       "type_code                                 5.000000      5.000000  \n",
       "item_cnt_month_lag_1                      0.000000      1.000000  \n",
       "item_cnt_month_lag_2                      1.000000      1.000000  \n",
       "item_cnt_month_lag_3                      0.000000      4.000000  \n",
       "date_avg_item_cnt_lag_1                   0.286865      0.286865  \n",
       "date_item_avg_item_cnt_lag_1              2.826172      1.260742  \n",
       "date_item_avg_item_cnt_lag_2             11.046875      4.781250  \n",
       "date_item_avg_item_cnt_lag_3             18.734375     13.648438  \n",
       "date_shop_avg_item_cnt_lag_1              0.071838      0.071838  \n",
       "date_shop_avg_item_cnt_lag_2              0.091064      0.091064  \n",
       "date_shop_avg_item_cnt_lag_3              0.059875      0.059875  \n",
       "date_shop_item_avg_item_cnt_lag_1         0.000000      1.000000  \n",
       "date_shop_item_avg_item_cnt_lag_2         1.000000      1.000000  \n",
       "date_shop_item_avg_item_cnt_lag_3         0.000000      4.000000  \n",
       "date_shop_subtype_avg_item_cnt_lag_1      0.018585      0.035919  \n",
       "date_city_avg_item_cnt_lag_1              0.071838      0.071838  \n",
       "date_item_city_avg_item_cnt_lag_1         0.000000      1.000000  \n",
       "delta_price_lag                           0.212402      0.191040  \n",
       "delta_revenue_lag_1                   37326.816406  37326.816406  \n",
       "month                                     4.000000      4.000000  \n",
       "days                                     31.000000     31.000000  \n",
       "item_shop_first_sale                      3.000000      3.000000  \n",
       "item_first_sale                           3.000000      3.000000  "
      ]
     },
     "execution_count": 38,
     "metadata": {},
     "output_type": "execute_result"
    }
   ],
   "source": [
    "matrix.head().T"
   ]
  },
  {
   "cell_type": "code",
   "execution_count": 3,
   "metadata": {
    "ExecuteTime": {
     "end_time": "2020-08-28T03:02:34.581097Z",
     "start_time": "2020-08-28T03:02:34.579431Z"
    }
   },
   "outputs": [],
   "source": [
    "reg_2_dir = './practice_reg_2_results/'"
   ]
  },
  {
   "cell_type": "code",
   "execution_count": null,
   "metadata": {
    "ExecuteTime": {
     "start_time": "2020-08-28T02:59:41.677Z"
    }
   },
   "outputs": [],
   "source": [
    "matrix.to_pickle(reg_2_dir+'data.pkl')"
   ]
  },
  {
   "cell_type": "markdown",
   "metadata": {},
   "source": [
    "# Modeling"
   ]
  },
  {
   "cell_type": "code",
   "execution_count": 5,
   "metadata": {
    "ExecuteTime": {
     "end_time": "2020-08-28T03:02:51.568089Z",
     "start_time": "2020-08-28T03:02:51.565990Z"
    }
   },
   "outputs": [],
   "source": [
    "import gc\n",
    "import pickle\n",
    "from xgboost import XGBRegressor\n",
    "from matplotlib.pylab import rcParams\n",
    "rcParams['figure.figsize'] = 12, 4"
   ]
  },
  {
   "cell_type": "code",
   "execution_count": 42,
   "metadata": {
    "ExecuteTime": {
     "end_time": "2020-08-28T02:42:42.455255Z",
     "start_time": "2020-08-28T02:42:42.325404Z"
    }
   },
   "outputs": [
    {
     "data": {
      "text/plain": [
       "12"
      ]
     },
     "execution_count": 42,
     "metadata": {},
     "output_type": "execute_result"
    }
   ],
   "source": [
    "data = matrix.copy()\n",
    "del matrix\n",
    "gc.collect()"
   ]
  },
  {
   "cell_type": "code",
   "execution_count": 6,
   "metadata": {
    "ExecuteTime": {
     "end_time": "2020-08-28T03:02:54.228740Z",
     "start_time": "2020-08-28T03:02:53.775966Z"
    }
   },
   "outputs": [
    {
     "data": {
      "text/plain": [
       "(214200, 33)"
      ]
     },
     "execution_count": 6,
     "metadata": {},
     "output_type": "execute_result"
    }
   ],
   "source": [
    "data = pd.read_pickle(reg_2_dir+'data.pkl')\n",
    "data[data[\"date_block_num\"]==34].shape"
   ]
  },
  {
   "cell_type": "markdown",
   "metadata": {},
   "source": [
    "Use month 34 as validation for training."
   ]
  },
  {
   "cell_type": "code",
   "execution_count": 7,
   "metadata": {
    "ExecuteTime": {
     "end_time": "2020-08-28T03:02:56.463986Z",
     "start_time": "2020-08-28T03:02:55.169320Z"
    }
   },
   "outputs": [],
   "source": [
    "X_train = data[data.date_block_num < 33].drop(['item_cnt_month'], axis=1)\n",
    "Y_train = data[data.date_block_num < 33]['item_cnt_month']\n",
    "X_valid = data[data.date_block_num == 33].drop(['item_cnt_month'], axis=1)\n",
    "Y_valid = data[data.date_block_num == 33]['item_cnt_month']\n",
    "X_test = data[data.date_block_num == 34].drop(['item_cnt_month'], axis=1)"
   ]
  },
  {
   "cell_type": "code",
   "execution_count": 8,
   "metadata": {
    "ExecuteTime": {
     "end_time": "2020-08-28T03:02:56.620597Z",
     "start_time": "2020-08-28T03:02:56.464982Z"
    }
   },
   "outputs": [],
   "source": [
    "Y_train = Y_train.clip(0, 20)\n",
    "Y_valid = Y_valid.clip(0, 20)"
   ]
  },
  {
   "cell_type": "code",
   "execution_count": 9,
   "metadata": {
    "ExecuteTime": {
     "end_time": "2020-08-28T03:02:56.669916Z",
     "start_time": "2020-08-28T03:02:56.621960Z"
    }
   },
   "outputs": [],
   "source": [
    "del data\n",
    "gc.collect();"
   ]
  },
  {
   "cell_type": "code",
   "execution_count": 47,
   "metadata": {
    "ExecuteTime": {
     "end_time": "2020-08-28T02:49:57.456870Z",
     "start_time": "2020-08-28T02:42:43.929711Z"
    }
   },
   "outputs": [
    {
     "name": "stdout",
     "output_type": "stream",
     "text": [
      "[11:42:58] WARNING: /home/conda/feedstock_root/build_artifacts/xgboost_1593723605503/work/src/gbm/gbtree.cc:139: Tree method is automatically selected to be 'approx' for faster speed. To use old behavior (exact greedy algorithm on single machine), set tree_method to 'exact'.\n",
      "[0]\tvalidation_0-rmse:1.17824\tvalidation_1-rmse:1.12031\n",
      "Multiple eval metrics have been passed: 'validation_1-rmse' will be used for early stopping.\n",
      "\n",
      "Will train until validation_1-rmse hasn't improved in 20 rounds.\n",
      "[1]\tvalidation_0-rmse:1.12705\tvalidation_1-rmse:1.08058\n",
      "[2]\tvalidation_0-rmse:1.08285\tvalidation_1-rmse:1.05086\n",
      "[3]\tvalidation_0-rmse:1.04711\tvalidation_1-rmse:1.02283\n",
      "[4]\tvalidation_0-rmse:1.01522\tvalidation_1-rmse:1.00085\n",
      "[5]\tvalidation_0-rmse:0.98763\tvalidation_1-rmse:0.98171\n",
      "[6]\tvalidation_0-rmse:0.96327\tvalidation_1-rmse:0.96864\n",
      "[7]\tvalidation_0-rmse:0.94401\tvalidation_1-rmse:0.95857\n",
      "[8]\tvalidation_0-rmse:0.92500\tvalidation_1-rmse:0.94715\n",
      "[9]\tvalidation_0-rmse:0.91011\tvalidation_1-rmse:0.93922\n",
      "[10]\tvalidation_0-rmse:0.89783\tvalidation_1-rmse:0.93255\n",
      "[11]\tvalidation_0-rmse:0.88789\tvalidation_1-rmse:0.92766\n",
      "[12]\tvalidation_0-rmse:0.87759\tvalidation_1-rmse:0.92151\n",
      "[13]\tvalidation_0-rmse:0.86853\tvalidation_1-rmse:0.91824\n",
      "[14]\tvalidation_0-rmse:0.86120\tvalidation_1-rmse:0.91514\n",
      "[15]\tvalidation_0-rmse:0.85464\tvalidation_1-rmse:0.91209\n",
      "[16]\tvalidation_0-rmse:0.84814\tvalidation_1-rmse:0.91063\n",
      "[17]\tvalidation_0-rmse:0.84262\tvalidation_1-rmse:0.90907\n",
      "[18]\tvalidation_0-rmse:0.83730\tvalidation_1-rmse:0.90653\n",
      "[19]\tvalidation_0-rmse:0.83259\tvalidation_1-rmse:0.90593\n",
      "[20]\tvalidation_0-rmse:0.82848\tvalidation_1-rmse:0.90368\n",
      "[21]\tvalidation_0-rmse:0.82508\tvalidation_1-rmse:0.90253\n",
      "[22]\tvalidation_0-rmse:0.82137\tvalidation_1-rmse:0.90182\n",
      "[23]\tvalidation_0-rmse:0.81837\tvalidation_1-rmse:0.90030\n",
      "[24]\tvalidation_0-rmse:0.81542\tvalidation_1-rmse:0.89995\n",
      "[25]\tvalidation_0-rmse:0.81234\tvalidation_1-rmse:0.90130\n",
      "[26]\tvalidation_0-rmse:0.81005\tvalidation_1-rmse:0.90112\n",
      "[27]\tvalidation_0-rmse:0.80776\tvalidation_1-rmse:0.90041\n",
      "[28]\tvalidation_0-rmse:0.80520\tvalidation_1-rmse:0.90041\n",
      "[29]\tvalidation_0-rmse:0.80340\tvalidation_1-rmse:0.90062\n",
      "[30]\tvalidation_0-rmse:0.80120\tvalidation_1-rmse:0.90149\n",
      "[31]\tvalidation_0-rmse:0.79973\tvalidation_1-rmse:0.90193\n",
      "[32]\tvalidation_0-rmse:0.79791\tvalidation_1-rmse:0.90167\n",
      "[33]\tvalidation_0-rmse:0.79658\tvalidation_1-rmse:0.90175\n",
      "[34]\tvalidation_0-rmse:0.79528\tvalidation_1-rmse:0.90217\n",
      "[35]\tvalidation_0-rmse:0.79394\tvalidation_1-rmse:0.90195\n",
      "[36]\tvalidation_0-rmse:0.79249\tvalidation_1-rmse:0.90201\n",
      "[37]\tvalidation_0-rmse:0.79085\tvalidation_1-rmse:0.90290\n",
      "[38]\tvalidation_0-rmse:0.78944\tvalidation_1-rmse:0.90269\n",
      "[39]\tvalidation_0-rmse:0.78832\tvalidation_1-rmse:0.90278\n",
      "[40]\tvalidation_0-rmse:0.78702\tvalidation_1-rmse:0.90288\n",
      "[41]\tvalidation_0-rmse:0.78593\tvalidation_1-rmse:0.90289\n",
      "[42]\tvalidation_0-rmse:0.78474\tvalidation_1-rmse:0.90245\n",
      "[43]\tvalidation_0-rmse:0.78361\tvalidation_1-rmse:0.90197\n",
      "[44]\tvalidation_0-rmse:0.78239\tvalidation_1-rmse:0.90132\n",
      "Stopping. Best iteration:\n",
      "[24]\tvalidation_0-rmse:0.81542\tvalidation_1-rmse:0.89995\n",
      "\n"
     ]
    },
    {
     "data": {
      "text/plain": [
       "433.5217032432556"
      ]
     },
     "execution_count": 47,
     "metadata": {},
     "output_type": "execute_result"
    }
   ],
   "source": [
    "ts = time.time()\n",
    "\n",
    "model = XGBRegressor(\n",
    "    max_depth=10,\n",
    "    n_estimators=1000,\n",
    "    min_child_weight=0.5, \n",
    "    colsample_bytree=0.8, \n",
    "    subsample=0.8, \n",
    "    eta=0.1,\n",
    "#     tree_method='gpu_hist',\n",
    "    seed=42)\n",
    "\n",
    "model.fit(\n",
    "    X_train, \n",
    "    Y_train, \n",
    "    eval_metric=\"rmse\", \n",
    "    eval_set=[(X_train, Y_train), (X_valid, Y_valid)], \n",
    "    verbose=True, \n",
    "    early_stopping_rounds = 20)\n",
    "\n",
    "time.time() - ts"
   ]
  },
  {
   "cell_type": "code",
   "execution_count": 48,
   "metadata": {
    "ExecuteTime": {
     "end_time": "2020-08-28T02:49:58.228787Z",
     "start_time": "2020-08-28T02:49:57.459397Z"
    }
   },
   "outputs": [],
   "source": [
    "Y_pred = model.predict(X_valid).clip(0, 20)\n",
    "Y_test = model.predict(X_test).clip(0, 20)\n",
    "\n",
    "submission = pd.DataFrame({\n",
    "    \"ID\": test.index, \n",
    "    \"item_cnt_month\": Y_test\n",
    "})\n",
    "\n",
    "messages = 'earlystopping20'\n",
    "submission.to_csv(reg_2_dir+'XGBRegressor_{}_submission.csv'.format(messages), index=False)"
   ]
  },
  {
   "cell_type": "code",
   "execution_count": 49,
   "metadata": {
    "ExecuteTime": {
     "end_time": "2020-08-28T02:49:58.236792Z",
     "start_time": "2020-08-28T02:49:58.230100Z"
    }
   },
   "outputs": [],
   "source": [
    "messages = 'earlystopping20'\n",
    "pickle.dump(Y_pred, open(reg_2_dir+'xgb_pred_{}.pickle'.format(messages), 'wb'))\n",
    "pickle.dump(Y_test, open(reg_2_dir+'xgb_test_{}.pickle'.format(messages), 'wb'))"
   ]
  },
  {
   "cell_type": "code",
   "execution_count": 50,
   "metadata": {
    "ExecuteTime": {
     "end_time": "2020-08-28T02:49:58.811069Z",
     "start_time": "2020-08-28T02:49:58.238044Z"
    }
   },
   "outputs": [
    {
     "data": {
      "text/plain": [
       "<matplotlib.axes._subplots.AxesSubplot at 0x7efc951728d0>"
      ]
     },
     "execution_count": 50,
     "metadata": {},
     "output_type": "execute_result"
    },
    {
     "data": {
      "image/png": "[encoded data removed]",
      "text/plain": [
       "<Figure size 720x1008 with 1 Axes>"
      ]
     },
     "metadata": {},
     "output_type": "display_data"
    }
   ],
   "source": [
    "from xgboost import plot_importance\n",
    "\n",
    "def plot_features(booster, figsize):    \n",
    "    fig, ax = plt.subplots(1,1,figsize=figsize)\n",
    "    return plot_importance(booster=booster, ax=ax)\n",
    "\n",
    "plot_features(model, (10,14))"
   ]
  },
  {
   "cell_type": "markdown",
   "metadata": {},
   "source": [
    "## XGB 제출결과\n",
    "0.89677 (public)"
   ]
  },
  {
   "cell_type": "markdown",
   "metadata": {},
   "source": [
    "# 비교 및 시도\n",
    "'practice_reg' 에서 했던 것과 전처리 과정이 굉장히 비슷하지만, 결과가 다르게 나온다고 한다 (커널 작성자의 결과에 따르면)    \n",
    "\n",
    "## 그나마 차이점을 찾자면,    \n",
    "\n",
    "- 하이퍼 파라미터 차이\n",
    "    - max_depth 값이 8이 아닌 10\n",
    "    - min_child_weight 300 이 아닌 0.5\n",
    "    - eat 값 0.3 아닌 0.1\n",
    "- 전처리 차이\n",
    "    - Outlier 처리\n",
    "        - 마이너스 값 median 처리 아닌 제거\n",
    "        - 판매량 1001개 미만 아닌 1000개 미만 (1000개짜리를 제거함)\n",
    "    - ...\n",
    "    \n",
    "## 그래서\n",
    "이 데이터를 가지고 LGBM, XGM 앙상블을 해봐야겠다."
   ]
  },
  {
   "cell_type": "markdown",
   "metadata": {},
   "source": [
    "# Ensemble XGB, LGBM\n"
   ]
  },
  {
   "cell_type": "markdown",
   "metadata": {},
   "source": [
    "## 일단 LGBM"
   ]
  },
  {
   "cell_type": "code",
   "execution_count": 51,
   "metadata": {
    "ExecuteTime": {
     "end_time": "2020-08-28T02:50:51.981749Z",
     "start_time": "2020-08-28T02:49:58.812159Z"
    }
   },
   "outputs": [
    {
     "name": "stdout",
     "output_type": "stream",
     "text": [
      "[1]\ttraining's rmse: 1.16715\ttraining's l2: 1.36224\tvalid_1's rmse: 1.0983\tvalid_1's l2: 1.20626\n",
      "Training until validation scores don't improve for 20 rounds\n",
      "[2]\ttraining's rmse: 1.12501\ttraining's l2: 1.26564\tvalid_1's rmse: 1.06512\tvalid_1's l2: 1.13447\n",
      "[3]\ttraining's rmse: 1.0895\ttraining's l2: 1.18702\tvalid_1's rmse: 1.04034\tvalid_1's l2: 1.08231\n",
      "[4]\ttraining's rmse: 1.05941\ttraining's l2: 1.12235\tvalid_1's rmse: 1.01982\tvalid_1's l2: 1.04003\n",
      "[5]\ttraining's rmse: 1.03447\ttraining's l2: 1.07013\tvalid_1's rmse: 1.00309\tvalid_1's l2: 1.0062\n",
      "[6]\ttraining's rmse: 1.01252\ttraining's l2: 1.0252\tvalid_1's rmse: 0.987967\tvalid_1's l2: 0.976079\n",
      "[7]\ttraining's rmse: 0.993972\ttraining's l2: 0.98798\tvalid_1's rmse: 0.975363\tvalid_1's l2: 0.951334\n",
      "[8]\ttraining's rmse: 0.978658\ttraining's l2: 0.957772\tvalid_1's rmse: 0.965643\tvalid_1's l2: 0.932467\n",
      "[9]\ttraining's rmse: 0.964903\ttraining's l2: 0.931037\tvalid_1's rmse: 0.958896\tvalid_1's l2: 0.919481\n",
      "[10]\ttraining's rmse: 0.953405\ttraining's l2: 0.908981\tvalid_1's rmse: 0.951941\tvalid_1's l2: 0.906191\n",
      "[11]\ttraining's rmse: 0.943718\ttraining's l2: 0.890604\tvalid_1's rmse: 0.946384\tvalid_1's l2: 0.895643\n",
      "[12]\ttraining's rmse: 0.935319\ttraining's l2: 0.874822\tvalid_1's rmse: 0.942031\tvalid_1's l2: 0.887423\n",
      "[13]\ttraining's rmse: 0.927898\ttraining's l2: 0.860994\tvalid_1's rmse: 0.939535\tvalid_1's l2: 0.882726\n",
      "[14]\ttraining's rmse: 0.921724\ttraining's l2: 0.849575\tvalid_1's rmse: 0.937456\tvalid_1's l2: 0.878823\n",
      "[15]\ttraining's rmse: 0.916117\ttraining's l2: 0.839271\tvalid_1's rmse: 0.934593\tvalid_1's l2: 0.873463\n",
      "[16]\ttraining's rmse: 0.910994\ttraining's l2: 0.82991\tvalid_1's rmse: 0.931989\tvalid_1's l2: 0.868603\n",
      "[17]\ttraining's rmse: 0.906844\ttraining's l2: 0.822366\tvalid_1's rmse: 0.929667\tvalid_1's l2: 0.864281\n",
      "[18]\ttraining's rmse: 0.90317\ttraining's l2: 0.815717\tvalid_1's rmse: 0.928216\tvalid_1's l2: 0.861585\n",
      "[19]\ttraining's rmse: 0.899828\ttraining's l2: 0.80969\tvalid_1's rmse: 0.92575\tvalid_1's l2: 0.857012\n",
      "[20]\ttraining's rmse: 0.896899\ttraining's l2: 0.804428\tvalid_1's rmse: 0.92499\tvalid_1's l2: 0.855607\n",
      "[21]\ttraining's rmse: 0.894131\ttraining's l2: 0.79947\tvalid_1's rmse: 0.924055\tvalid_1's l2: 0.853877\n",
      "[22]\ttraining's rmse: 0.891798\ttraining's l2: 0.795304\tvalid_1's rmse: 0.923405\tvalid_1's l2: 0.852677\n",
      "[23]\ttraining's rmse: 0.889648\ttraining's l2: 0.791474\tvalid_1's rmse: 0.92293\tvalid_1's l2: 0.851799\n",
      "[24]\ttraining's rmse: 0.887817\ttraining's l2: 0.788219\tvalid_1's rmse: 0.921955\tvalid_1's l2: 0.850001\n",
      "[25]\ttraining's rmse: 0.88604\ttraining's l2: 0.785067\tvalid_1's rmse: 0.921453\tvalid_1's l2: 0.849075\n",
      "[26]\ttraining's rmse: 0.884411\ttraining's l2: 0.782182\tvalid_1's rmse: 0.921123\tvalid_1's l2: 0.848467\n",
      "[27]\ttraining's rmse: 0.882897\ttraining's l2: 0.779507\tvalid_1's rmse: 0.920613\tvalid_1's l2: 0.847528\n",
      "[28]\ttraining's rmse: 0.881526\ttraining's l2: 0.777087\tvalid_1's rmse: 0.920328\tvalid_1's l2: 0.847003\n",
      "[29]\ttraining's rmse: 0.880152\ttraining's l2: 0.774668\tvalid_1's rmse: 0.919672\tvalid_1's l2: 0.845796\n",
      "[30]\ttraining's rmse: 0.878866\ttraining's l2: 0.772405\tvalid_1's rmse: 0.919835\tvalid_1's l2: 0.846097\n",
      "[31]\ttraining's rmse: 0.877681\ttraining's l2: 0.770324\tvalid_1's rmse: 0.919572\tvalid_1's l2: 0.845613\n",
      "[32]\ttraining's rmse: 0.87658\ttraining's l2: 0.768393\tvalid_1's rmse: 0.919056\tvalid_1's l2: 0.844664\n",
      "[33]\ttraining's rmse: 0.87505\ttraining's l2: 0.765712\tvalid_1's rmse: 0.918025\tvalid_1's l2: 0.842769\n",
      "[34]\ttraining's rmse: 0.874174\ttraining's l2: 0.76418\tvalid_1's rmse: 0.91799\tvalid_1's l2: 0.842706\n",
      "[35]\ttraining's rmse: 0.873221\ttraining's l2: 0.762515\tvalid_1's rmse: 0.917875\tvalid_1's l2: 0.842494\n",
      "[36]\ttraining's rmse: 0.872215\ttraining's l2: 0.760758\tvalid_1's rmse: 0.917726\tvalid_1's l2: 0.842221\n",
      "[37]\ttraining's rmse: 0.871223\ttraining's l2: 0.759029\tvalid_1's rmse: 0.917534\tvalid_1's l2: 0.841868\n",
      "[38]\ttraining's rmse: 0.870495\ttraining's l2: 0.757762\tvalid_1's rmse: 0.91738\tvalid_1's l2: 0.841586\n",
      "[39]\ttraining's rmse: 0.869548\ttraining's l2: 0.756114\tvalid_1's rmse: 0.917242\tvalid_1's l2: 0.841333\n",
      "[40]\ttraining's rmse: 0.868633\ttraining's l2: 0.754523\tvalid_1's rmse: 0.916723\tvalid_1's l2: 0.84038\n",
      "[41]\ttraining's rmse: 0.867867\ttraining's l2: 0.753194\tvalid_1's rmse: 0.916487\tvalid_1's l2: 0.839949\n",
      "[42]\ttraining's rmse: 0.866655\ttraining's l2: 0.751092\tvalid_1's rmse: 0.91634\tvalid_1's l2: 0.839679\n",
      "[43]\ttraining's rmse: 0.866041\ttraining's l2: 0.750027\tvalid_1's rmse: 0.916042\tvalid_1's l2: 0.839133\n",
      "[44]\ttraining's rmse: 0.865265\ttraining's l2: 0.748683\tvalid_1's rmse: 0.915849\tvalid_1's l2: 0.838779\n",
      "[45]\ttraining's rmse: 0.864674\ttraining's l2: 0.747662\tvalid_1's rmse: 0.915477\tvalid_1's l2: 0.838098\n",
      "[46]\ttraining's rmse: 0.864205\ttraining's l2: 0.74685\tvalid_1's rmse: 0.915372\tvalid_1's l2: 0.837907\n",
      "[47]\ttraining's rmse: 0.863598\ttraining's l2: 0.745801\tvalid_1's rmse: 0.915467\tvalid_1's l2: 0.838079\n",
      "[48]\ttraining's rmse: 0.863015\ttraining's l2: 0.744795\tvalid_1's rmse: 0.91529\tvalid_1's l2: 0.837757\n",
      "[49]\ttraining's rmse: 0.862296\ttraining's l2: 0.743555\tvalid_1's rmse: 0.915016\tvalid_1's l2: 0.837254\n",
      "[50]\ttraining's rmse: 0.861803\ttraining's l2: 0.742704\tvalid_1's rmse: 0.914862\tvalid_1's l2: 0.836973\n",
      "[51]\ttraining's rmse: 0.861355\ttraining's l2: 0.741932\tvalid_1's rmse: 0.914703\tvalid_1's l2: 0.836682\n",
      "[52]\ttraining's rmse: 0.860361\ttraining's l2: 0.740221\tvalid_1's rmse: 0.913788\tvalid_1's l2: 0.835009\n",
      "[53]\ttraining's rmse: 0.859725\ttraining's l2: 0.739128\tvalid_1's rmse: 0.91352\tvalid_1's l2: 0.834518\n",
      "[54]\ttraining's rmse: 0.859192\ttraining's l2: 0.738211\tvalid_1's rmse: 0.913435\tvalid_1's l2: 0.834363\n",
      "[55]\ttraining's rmse: 0.858651\ttraining's l2: 0.737282\tvalid_1's rmse: 0.913399\tvalid_1's l2: 0.834297\n",
      "[56]\ttraining's rmse: 0.858073\ttraining's l2: 0.73629\tvalid_1's rmse: 0.913299\tvalid_1's l2: 0.834115\n",
      "[57]\ttraining's rmse: 0.857598\ttraining's l2: 0.735474\tvalid_1's rmse: 0.912998\tvalid_1's l2: 0.833565\n",
      "[58]\ttraining's rmse: 0.857107\ttraining's l2: 0.734632\tvalid_1's rmse: 0.912796\tvalid_1's l2: 0.833196\n",
      "[59]\ttraining's rmse: 0.856707\ttraining's l2: 0.733947\tvalid_1's rmse: 0.912644\tvalid_1's l2: 0.832919\n",
      "[60]\ttraining's rmse: 0.85623\ttraining's l2: 0.733129\tvalid_1's rmse: 0.912644\tvalid_1's l2: 0.83292\n",
      "[61]\ttraining's rmse: 0.855706\ttraining's l2: 0.732233\tvalid_1's rmse: 0.912646\tvalid_1's l2: 0.832923\n",
      "[62]\ttraining's rmse: 0.855446\ttraining's l2: 0.731787\tvalid_1's rmse: 0.912569\tvalid_1's l2: 0.832782\n",
      "[63]\ttraining's rmse: 0.855034\ttraining's l2: 0.731083\tvalid_1's rmse: 0.912567\tvalid_1's l2: 0.832779\n",
      "[64]\ttraining's rmse: 0.854135\ttraining's l2: 0.729547\tvalid_1's rmse: 0.911573\tvalid_1's l2: 0.830965\n",
      "[65]\ttraining's rmse: 0.853707\ttraining's l2: 0.728815\tvalid_1's rmse: 0.911534\tvalid_1's l2: 0.830893\n",
      "[66]\ttraining's rmse: 0.85343\ttraining's l2: 0.728344\tvalid_1's rmse: 0.911394\tvalid_1's l2: 0.830638\n",
      "[67]\ttraining's rmse: 0.852949\ttraining's l2: 0.727523\tvalid_1's rmse: 0.911054\tvalid_1's l2: 0.830019\n",
      "[68]\ttraining's rmse: 0.852593\ttraining's l2: 0.726915\tvalid_1's rmse: 0.910786\tvalid_1's l2: 0.829531\n",
      "[69]\ttraining's rmse: 0.851113\ttraining's l2: 0.724393\tvalid_1's rmse: 0.910792\tvalid_1's l2: 0.829542\n",
      "[70]\ttraining's rmse: 0.850478\ttraining's l2: 0.723313\tvalid_1's rmse: 0.910488\tvalid_1's l2: 0.828987\n",
      "[71]\ttraining's rmse: 0.85005\ttraining's l2: 0.722585\tvalid_1's rmse: 0.910372\tvalid_1's l2: 0.828777\n",
      "[72]\ttraining's rmse: 0.84984\ttraining's l2: 0.722228\tvalid_1's rmse: 0.910363\tvalid_1's l2: 0.828761\n",
      "[73]\ttraining's rmse: 0.849518\ttraining's l2: 0.721681\tvalid_1's rmse: 0.909941\tvalid_1's l2: 0.827993\n",
      "[74]\ttraining's rmse: 0.848831\ttraining's l2: 0.720515\tvalid_1's rmse: 0.909123\tvalid_1's l2: 0.826505\n",
      "[75]\ttraining's rmse: 0.848473\ttraining's l2: 0.719907\tvalid_1's rmse: 0.908898\tvalid_1's l2: 0.826096\n",
      "[76]\ttraining's rmse: 0.848194\ttraining's l2: 0.719432\tvalid_1's rmse: 0.908671\tvalid_1's l2: 0.825684\n",
      "[77]\ttraining's rmse: 0.847977\ttraining's l2: 0.719065\tvalid_1's rmse: 0.908607\tvalid_1's l2: 0.825566\n",
      "[78]\ttraining's rmse: 0.847706\ttraining's l2: 0.718605\tvalid_1's rmse: 0.908476\tvalid_1's l2: 0.825329\n",
      "[79]\ttraining's rmse: 0.846737\ttraining's l2: 0.716963\tvalid_1's rmse: 0.91058\tvalid_1's l2: 0.829155\n",
      "[80]\ttraining's rmse: 0.846383\ttraining's l2: 0.716364\tvalid_1's rmse: 0.910389\tvalid_1's l2: 0.828807\n"
     ]
    },
    {
     "name": "stdout",
     "output_type": "stream",
     "text": [
      "[81]\ttraining's rmse: 0.846107\ttraining's l2: 0.715897\tvalid_1's rmse: 0.910158\tvalid_1's l2: 0.828387\n",
      "[82]\ttraining's rmse: 0.845707\ttraining's l2: 0.71522\tvalid_1's rmse: 0.910036\tvalid_1's l2: 0.828165\n",
      "[83]\ttraining's rmse: 0.845371\ttraining's l2: 0.714652\tvalid_1's rmse: 0.909912\tvalid_1's l2: 0.827941\n",
      "[84]\ttraining's rmse: 0.845064\ttraining's l2: 0.714132\tvalid_1's rmse: 0.909905\tvalid_1's l2: 0.827927\n",
      "[85]\ttraining's rmse: 0.84479\ttraining's l2: 0.71367\tvalid_1's rmse: 0.909676\tvalid_1's l2: 0.827511\n",
      "[86]\ttraining's rmse: 0.844494\ttraining's l2: 0.71317\tvalid_1's rmse: 0.909634\tvalid_1's l2: 0.827434\n",
      "[87]\ttraining's rmse: 0.844261\ttraining's l2: 0.712777\tvalid_1's rmse: 0.909582\tvalid_1's l2: 0.827339\n",
      "[88]\ttraining's rmse: 0.844013\ttraining's l2: 0.712358\tvalid_1's rmse: 0.909425\tvalid_1's l2: 0.827054\n",
      "[89]\ttraining's rmse: 0.843066\ttraining's l2: 0.71076\tvalid_1's rmse: 0.908971\tvalid_1's l2: 0.826228\n",
      "[90]\ttraining's rmse: 0.842783\ttraining's l2: 0.710284\tvalid_1's rmse: 0.908954\tvalid_1's l2: 0.826198\n",
      "[91]\ttraining's rmse: 0.84248\ttraining's l2: 0.709773\tvalid_1's rmse: 0.908839\tvalid_1's l2: 0.825988\n",
      "[92]\ttraining's rmse: 0.842273\ttraining's l2: 0.709424\tvalid_1's rmse: 0.908766\tvalid_1's l2: 0.825855\n",
      "[93]\ttraining's rmse: 0.841695\ttraining's l2: 0.708451\tvalid_1's rmse: 0.908431\tvalid_1's l2: 0.825246\n",
      "[94]\ttraining's rmse: 0.841293\ttraining's l2: 0.707774\tvalid_1's rmse: 0.908395\tvalid_1's l2: 0.825181\n",
      "[95]\ttraining's rmse: 0.840929\ttraining's l2: 0.707161\tvalid_1's rmse: 0.908258\tvalid_1's l2: 0.824932\n",
      "[96]\ttraining's rmse: 0.840669\ttraining's l2: 0.706725\tvalid_1's rmse: 0.908142\tvalid_1's l2: 0.824721\n",
      "[97]\ttraining's rmse: 0.840367\ttraining's l2: 0.706218\tvalid_1's rmse: 0.907984\tvalid_1's l2: 0.824435\n",
      "[98]\ttraining's rmse: 0.840083\ttraining's l2: 0.705739\tvalid_1's rmse: 0.907981\tvalid_1's l2: 0.824429\n",
      "[99]\ttraining's rmse: 0.839861\ttraining's l2: 0.705367\tvalid_1's rmse: 0.907888\tvalid_1's l2: 0.82426\n",
      "[100]\ttraining's rmse: 0.839645\ttraining's l2: 0.705004\tvalid_1's rmse: 0.907854\tvalid_1's l2: 0.824199\n",
      "[101]\ttraining's rmse: 0.839353\ttraining's l2: 0.704514\tvalid_1's rmse: 0.90772\tvalid_1's l2: 0.823956\n",
      "[102]\ttraining's rmse: 0.839082\ttraining's l2: 0.704059\tvalid_1's rmse: 0.907486\tvalid_1's l2: 0.82353\n",
      "[103]\ttraining's rmse: 0.838852\ttraining's l2: 0.703673\tvalid_1's rmse: 0.907429\tvalid_1's l2: 0.823427\n",
      "[104]\ttraining's rmse: 0.838599\ttraining's l2: 0.703248\tvalid_1's rmse: 0.90734\tvalid_1's l2: 0.823266\n",
      "[105]\ttraining's rmse: 0.838299\ttraining's l2: 0.702745\tvalid_1's rmse: 0.907231\tvalid_1's l2: 0.823069\n",
      "[106]\ttraining's rmse: 0.838141\ttraining's l2: 0.702481\tvalid_1's rmse: 0.907087\tvalid_1's l2: 0.822807\n",
      "[107]\ttraining's rmse: 0.837877\ttraining's l2: 0.702039\tvalid_1's rmse: 0.906839\tvalid_1's l2: 0.822357\n",
      "[108]\ttraining's rmse: 0.837596\ttraining's l2: 0.701567\tvalid_1's rmse: 0.906886\tvalid_1's l2: 0.822442\n",
      "[109]\ttraining's rmse: 0.83721\ttraining's l2: 0.700921\tvalid_1's rmse: 0.906834\tvalid_1's l2: 0.822348\n",
      "[110]\ttraining's rmse: 0.836965\ttraining's l2: 0.70051\tvalid_1's rmse: 0.906601\tvalid_1's l2: 0.821925\n",
      "[111]\ttraining's rmse: 0.836705\ttraining's l2: 0.700075\tvalid_1's rmse: 0.906542\tvalid_1's l2: 0.821818\n",
      "[112]\ttraining's rmse: 0.836217\ttraining's l2: 0.699259\tvalid_1's rmse: 0.906202\tvalid_1's l2: 0.821202\n",
      "[113]\ttraining's rmse: 0.83604\ttraining's l2: 0.698963\tvalid_1's rmse: 0.906077\tvalid_1's l2: 0.820976\n",
      "[114]\ttraining's rmse: 0.835745\ttraining's l2: 0.698469\tvalid_1's rmse: 0.90608\tvalid_1's l2: 0.820981\n",
      "[115]\ttraining's rmse: 0.835401\ttraining's l2: 0.697895\tvalid_1's rmse: 0.906018\tvalid_1's l2: 0.820868\n",
      "[116]\ttraining's rmse: 0.835232\ttraining's l2: 0.697612\tvalid_1's rmse: 0.905933\tvalid_1's l2: 0.820714\n",
      "[117]\ttraining's rmse: 0.835005\ttraining's l2: 0.697233\tvalid_1's rmse: 0.905767\tvalid_1's l2: 0.820414\n",
      "[118]\ttraining's rmse: 0.83484\ttraining's l2: 0.696958\tvalid_1's rmse: 0.905709\tvalid_1's l2: 0.82031\n",
      "[119]\ttraining's rmse: 0.83455\ttraining's l2: 0.696473\tvalid_1's rmse: 0.905715\tvalid_1's l2: 0.820319\n",
      "[120]\ttraining's rmse: 0.83434\ttraining's l2: 0.696123\tvalid_1's rmse: 0.905701\tvalid_1's l2: 0.820295\n",
      "[121]\ttraining's rmse: 0.834058\ttraining's l2: 0.695652\tvalid_1's rmse: 0.905633\tvalid_1's l2: 0.82017\n",
      "[122]\ttraining's rmse: 0.833937\ttraining's l2: 0.695452\tvalid_1's rmse: 0.905527\tvalid_1's l2: 0.819979\n",
      "[123]\ttraining's rmse: 0.833567\ttraining's l2: 0.694834\tvalid_1's rmse: 0.905253\tvalid_1's l2: 0.819483\n",
      "[124]\ttraining's rmse: 0.833299\ttraining's l2: 0.694387\tvalid_1's rmse: 0.905117\tvalid_1's l2: 0.819238\n",
      "[125]\ttraining's rmse: 0.833003\ttraining's l2: 0.693894\tvalid_1's rmse: 0.905006\tvalid_1's l2: 0.819036\n",
      "[126]\ttraining's rmse: 0.832861\ttraining's l2: 0.693658\tvalid_1's rmse: 0.904895\tvalid_1's l2: 0.818834\n",
      "[127]\ttraining's rmse: 0.832701\ttraining's l2: 0.693391\tvalid_1's rmse: 0.904862\tvalid_1's l2: 0.818775\n",
      "[128]\ttraining's rmse: 0.832557\ttraining's l2: 0.69315\tvalid_1's rmse: 0.904867\tvalid_1's l2: 0.818785\n",
      "[129]\ttraining's rmse: 0.832358\ttraining's l2: 0.69282\tvalid_1's rmse: 0.904825\tvalid_1's l2: 0.818708\n",
      "[130]\ttraining's rmse: 0.832215\ttraining's l2: 0.692582\tvalid_1's rmse: 0.904757\tvalid_1's l2: 0.818585\n",
      "[131]\ttraining's rmse: 0.831971\ttraining's l2: 0.692176\tvalid_1's rmse: 0.904756\tvalid_1's l2: 0.818583\n",
      "[132]\ttraining's rmse: 0.831634\ttraining's l2: 0.691616\tvalid_1's rmse: 0.903963\tvalid_1's l2: 0.817149\n",
      "[133]\ttraining's rmse: 0.831516\ttraining's l2: 0.691419\tvalid_1's rmse: 0.903911\tvalid_1's l2: 0.817055\n",
      "[134]\ttraining's rmse: 0.831291\ttraining's l2: 0.691045\tvalid_1's rmse: 0.903884\tvalid_1's l2: 0.817006\n",
      "[135]\ttraining's rmse: 0.83111\ttraining's l2: 0.690744\tvalid_1's rmse: 0.9037\tvalid_1's l2: 0.816673\n",
      "[136]\ttraining's rmse: 0.830869\ttraining's l2: 0.690343\tvalid_1's rmse: 0.903666\tvalid_1's l2: 0.816612\n",
      "[137]\ttraining's rmse: 0.83066\ttraining's l2: 0.689997\tvalid_1's rmse: 0.903416\tvalid_1's l2: 0.81616\n",
      "[138]\ttraining's rmse: 0.830308\ttraining's l2: 0.689412\tvalid_1's rmse: 0.903485\tvalid_1's l2: 0.816285\n",
      "[139]\ttraining's rmse: 0.830143\ttraining's l2: 0.689138\tvalid_1's rmse: 0.903275\tvalid_1's l2: 0.815906\n",
      "[140]\ttraining's rmse: 0.829943\ttraining's l2: 0.688805\tvalid_1's rmse: 0.903258\tvalid_1's l2: 0.815875\n",
      "[141]\ttraining's rmse: 0.829812\ttraining's l2: 0.688588\tvalid_1's rmse: 0.903204\tvalid_1's l2: 0.815777\n",
      "[142]\ttraining's rmse: 0.829634\ttraining's l2: 0.688292\tvalid_1's rmse: 0.903557\tvalid_1's l2: 0.816414\n",
      "[143]\ttraining's rmse: 0.829266\ttraining's l2: 0.687682\tvalid_1's rmse: 0.903343\tvalid_1's l2: 0.816028\n",
      "[144]\ttraining's rmse: 0.829135\ttraining's l2: 0.687464\tvalid_1's rmse: 0.903267\tvalid_1's l2: 0.815891\n",
      "[145]\ttraining's rmse: 0.828854\ttraining's l2: 0.687\tvalid_1's rmse: 0.903253\tvalid_1's l2: 0.815865\n",
      "[146]\ttraining's rmse: 0.828484\ttraining's l2: 0.686385\tvalid_1's rmse: 0.903243\tvalid_1's l2: 0.815849\n",
      "[147]\ttraining's rmse: 0.828324\ttraining's l2: 0.68612\tvalid_1's rmse: 0.903276\tvalid_1's l2: 0.815908\n",
      "[148]\ttraining's rmse: 0.828176\ttraining's l2: 0.685876\tvalid_1's rmse: 0.903204\tvalid_1's l2: 0.815777\n",
      "[149]\ttraining's rmse: 0.827341\ttraining's l2: 0.684492\tvalid_1's rmse: 0.903356\tvalid_1's l2: 0.816053\n",
      "[150]\ttraining's rmse: 0.826783\ttraining's l2: 0.68357\tvalid_1's rmse: 0.901992\tvalid_1's l2: 0.813589\n",
      "[151]\ttraining's rmse: 0.826238\ttraining's l2: 0.682669\tvalid_1's rmse: 0.901949\tvalid_1's l2: 0.813512\n",
      "[152]\ttraining's rmse: 0.826095\ttraining's l2: 0.682433\tvalid_1's rmse: 0.90184\tvalid_1's l2: 0.813316\n",
      "[153]\ttraining's rmse: 0.825792\ttraining's l2: 0.681933\tvalid_1's rmse: 0.901718\tvalid_1's l2: 0.813095\n",
      "[154]\ttraining's rmse: 0.825655\ttraining's l2: 0.681706\tvalid_1's rmse: 0.901759\tvalid_1's l2: 0.813169\n",
      "[155]\ttraining's rmse: 0.825496\ttraining's l2: 0.681443\tvalid_1's rmse: 0.901657\tvalid_1's l2: 0.812986\n",
      "[156]\ttraining's rmse: 0.825388\ttraining's l2: 0.681265\tvalid_1's rmse: 0.901619\tvalid_1's l2: 0.812916\n",
      "[157]\ttraining's rmse: 0.825295\ttraining's l2: 0.681111\tvalid_1's rmse: 0.901586\tvalid_1's l2: 0.812858\n",
      "[158]\ttraining's rmse: 0.825186\ttraining's l2: 0.680932\tvalid_1's rmse: 0.901592\tvalid_1's l2: 0.812869\n",
      "[159]\ttraining's rmse: 0.825013\ttraining's l2: 0.680646\tvalid_1's rmse: 0.901389\tvalid_1's l2: 0.812502\n",
      "[160]\ttraining's rmse: 0.824813\ttraining's l2: 0.680317\tvalid_1's rmse: 0.901373\tvalid_1's l2: 0.812473\n"
     ]
    },
    {
     "name": "stdout",
     "output_type": "stream",
     "text": [
      "[161]\ttraining's rmse: 0.824674\ttraining's l2: 0.680088\tvalid_1's rmse: 0.901353\tvalid_1's l2: 0.812437\n",
      "[162]\ttraining's rmse: 0.824384\ttraining's l2: 0.67961\tvalid_1's rmse: 0.901228\tvalid_1's l2: 0.812212\n",
      "[163]\ttraining's rmse: 0.824256\ttraining's l2: 0.679398\tvalid_1's rmse: 0.901208\tvalid_1's l2: 0.812177\n",
      "[164]\ttraining's rmse: 0.823925\ttraining's l2: 0.678852\tvalid_1's rmse: 0.900968\tvalid_1's l2: 0.811743\n",
      "[165]\ttraining's rmse: 0.823772\ttraining's l2: 0.6786\tvalid_1's rmse: 0.900908\tvalid_1's l2: 0.811635\n",
      "[166]\ttraining's rmse: 0.823504\ttraining's l2: 0.678158\tvalid_1's rmse: 0.90072\tvalid_1's l2: 0.811296\n",
      "[167]\ttraining's rmse: 0.823367\ttraining's l2: 0.677933\tvalid_1's rmse: 0.900686\tvalid_1's l2: 0.811236\n",
      "[168]\ttraining's rmse: 0.822788\ttraining's l2: 0.67698\tvalid_1's rmse: 0.900684\tvalid_1's l2: 0.811231\n",
      "[169]\ttraining's rmse: 0.822682\ttraining's l2: 0.676806\tvalid_1's rmse: 0.900679\tvalid_1's l2: 0.811223\n",
      "[170]\ttraining's rmse: 0.82242\ttraining's l2: 0.676375\tvalid_1's rmse: 0.90042\tvalid_1's l2: 0.810756\n",
      "[171]\ttraining's rmse: 0.822259\ttraining's l2: 0.67611\tvalid_1's rmse: 0.900378\tvalid_1's l2: 0.81068\n",
      "[172]\ttraining's rmse: 0.822053\ttraining's l2: 0.675771\tvalid_1's rmse: 0.900699\tvalid_1's l2: 0.811258\n",
      "[173]\ttraining's rmse: 0.821877\ttraining's l2: 0.675481\tvalid_1's rmse: 0.900929\tvalid_1's l2: 0.811673\n",
      "[174]\ttraining's rmse: 0.821761\ttraining's l2: 0.675291\tvalid_1's rmse: 0.900941\tvalid_1's l2: 0.811695\n",
      "[175]\ttraining's rmse: 0.821343\ttraining's l2: 0.674604\tvalid_1's rmse: 0.900618\tvalid_1's l2: 0.811112\n",
      "[176]\ttraining's rmse: 0.820353\ttraining's l2: 0.672979\tvalid_1's rmse: 0.900554\tvalid_1's l2: 0.810998\n",
      "[177]\ttraining's rmse: 0.819996\ttraining's l2: 0.672394\tvalid_1's rmse: 0.900745\tvalid_1's l2: 0.811342\n",
      "[178]\ttraining's rmse: 0.819886\ttraining's l2: 0.672213\tvalid_1's rmse: 0.901071\tvalid_1's l2: 0.811929\n",
      "[179]\ttraining's rmse: 0.819756\ttraining's l2: 0.672\tvalid_1's rmse: 0.901079\tvalid_1's l2: 0.811942\n",
      "[180]\ttraining's rmse: 0.819658\ttraining's l2: 0.671839\tvalid_1's rmse: 0.901066\tvalid_1's l2: 0.811921\n",
      "[181]\ttraining's rmse: 0.819393\ttraining's l2: 0.671405\tvalid_1's rmse: 0.901004\tvalid_1's l2: 0.811807\n",
      "[182]\ttraining's rmse: 0.819259\ttraining's l2: 0.671185\tvalid_1's rmse: 0.900895\tvalid_1's l2: 0.811612\n",
      "[183]\ttraining's rmse: 0.819086\ttraining's l2: 0.670902\tvalid_1's rmse: 0.900891\tvalid_1's l2: 0.811605\n",
      "[184]\ttraining's rmse: 0.818644\ttraining's l2: 0.670179\tvalid_1's rmse: 0.900893\tvalid_1's l2: 0.811608\n",
      "[185]\ttraining's rmse: 0.818526\ttraining's l2: 0.669984\tvalid_1's rmse: 0.900871\tvalid_1's l2: 0.811568\n",
      "[186]\ttraining's rmse: 0.818321\ttraining's l2: 0.66965\tvalid_1's rmse: 0.900967\tvalid_1's l2: 0.811742\n",
      "[187]\ttraining's rmse: 0.818169\ttraining's l2: 0.6694\tvalid_1's rmse: 0.900794\tvalid_1's l2: 0.81143\n",
      "[188]\ttraining's rmse: 0.818053\ttraining's l2: 0.66921\tvalid_1's rmse: 0.900707\tvalid_1's l2: 0.811273\n",
      "[189]\ttraining's rmse: 0.817829\ttraining's l2: 0.668844\tvalid_1's rmse: 0.900602\tvalid_1's l2: 0.811084\n",
      "[190]\ttraining's rmse: 0.817683\ttraining's l2: 0.668605\tvalid_1's rmse: 0.900554\tvalid_1's l2: 0.810998\n",
      "[191]\ttraining's rmse: 0.817593\ttraining's l2: 0.668459\tvalid_1's rmse: 0.900451\tvalid_1's l2: 0.810813\n",
      "Early stopping, best iteration is:\n",
      "[171]\ttraining's rmse: 0.822259\ttraining's l2: 0.67611\tvalid_1's rmse: 0.900378\tvalid_1's l2: 0.81068\n"
     ]
    },
    {
     "data": {
      "text/plain": [
       "53.14027690887451"
      ]
     },
     "execution_count": 51,
     "metadata": {},
     "output_type": "execute_result"
    }
   ],
   "source": [
    "from lightgbm import LGBMRegressor\n",
    "ts = time.time()\n",
    "\n",
    "model = LGBMRegressor(\n",
    "    max_depth=10,\n",
    "    n_estimators=1000,\n",
    "    min_child_weight=0.5, \n",
    "    colsample_bytree=0.8, \n",
    "    subsample=0.8, \n",
    "    eta=0.1,\n",
    "#     tree_method='gpu_hist',\n",
    "    seed=42)\n",
    "\n",
    "model.fit(\n",
    "    X_train, \n",
    "    Y_train, \n",
    "    eval_metric=\"rmse\", \n",
    "    eval_set=[(X_train, Y_train), (X_valid, Y_valid)], \n",
    "    verbose=True, \n",
    "    early_stopping_rounds = 20)\n",
    "\n",
    "time.time() - ts"
   ]
  },
  {
   "cell_type": "code",
   "execution_count": 52,
   "metadata": {
    "ExecuteTime": {
     "end_time": "2020-08-28T02:50:53.033871Z",
     "start_time": "2020-08-28T02:50:51.984392Z"
    }
   },
   "outputs": [],
   "source": [
    "Y_pred = model.predict(X_valid).clip(0, 20)\n",
    "Y_test = model.predict(X_test).clip(0, 20)\n",
    "\n",
    "submission = pd.DataFrame({\n",
    "    \"ID\": test.index, \n",
    "    \"item_cnt_month\": Y_test\n",
    "})\n",
    "messages = 'earlystopping20'\n",
    "# reg_2_dir = './practice_reg_2_results/'\n",
    "submission.to_csv(reg_2_dir+'LGBMRegressor_{}_submission.csv'.format(messages), index=False)"
   ]
  },
  {
   "cell_type": "code",
   "execution_count": 53,
   "metadata": {
    "ExecuteTime": {
     "end_time": "2020-08-28T02:50:53.045996Z",
     "start_time": "2020-08-28T02:50:53.035148Z"
    }
   },
   "outputs": [],
   "source": [
    "pickle.dump(Y_pred, open(reg_2_dir+'lgbm_pred_{}.pickle'.format(messages), 'wb'))\n",
    "pickle.dump(Y_test, open(reg_2_dir+'lgbm_test_{}.pickle'.format(messages), 'wb'))"
   ]
  },
  {
   "cell_type": "markdown",
   "metadata": {},
   "source": [
    "## Ensemble"
   ]
  },
  {
   "cell_type": "code",
   "execution_count": 20,
   "metadata": {
    "ExecuteTime": {
     "end_time": "2020-08-28T03:22:51.214439Z",
     "start_time": "2020-08-28T03:22:51.212069Z"
    }
   },
   "outputs": [],
   "source": [
    "def submission_for_ensemble(names,messages,Y_test):\n",
    "    submission = pd.DataFrame({\n",
    "        \"ID\": test.index, \n",
    "        \"item_cnt_month\": Y_test\n",
    "    })\n",
    "    submission.to_csv(reg_2_dir+'ensemble_reg_2_{0}_{1}_submission.csv'.format(names,messages), index=False)"
   ]
  },
  {
   "cell_type": "markdown",
   "metadata": {},
   "source": [
    "### 평균"
   ]
  },
  {
   "cell_type": "code",
   "execution_count": 19,
   "metadata": {
    "ExecuteTime": {
     "end_time": "2020-08-28T03:22:49.771145Z",
     "start_time": "2020-08-28T03:22:49.768629Z"
    }
   },
   "outputs": [],
   "source": [
    "def AveragingBlending(preds):     \n",
    "    \n",
    "    predictions = np.column_stack([\n",
    "       pred for pred in preds\n",
    "    ])\n",
    "    \n",
    "    return np.mean(predictions, axis=1)"
   ]
  },
  {
   "cell_type": "code",
   "execution_count": 56,
   "metadata": {
    "ExecuteTime": {
     "end_time": "2020-08-28T02:50:53.483965Z",
     "start_time": "2020-08-28T02:50:53.066960Z"
    }
   },
   "outputs": [
    {
     "name": "stdout",
     "output_type": "stream",
     "text": [
      "[0.03220883 0.10164049 0.20591469 ... 0.18719302 0.02350964 0.11172622]\n",
      "[0.5604175  0.43517462 0.94139383 ... 0.05979854 0.04047892 0.05774042]\n"
     ]
    }
   ],
   "source": [
    "messages = 'earlystopping20'\n",
    "# reg_2_dir = './practice_reg_2_results/'\n",
    "xgb_pred = pd.read_pickle(reg_2_dir+'xgb_pred_{}.pickle'.format(messages))\n",
    "xgb_test = pd.read_pickle(reg_2_dir+'xgb_test_{}.pickle'.format(messages))\n",
    "lgbm_pred = pd.read_pickle(reg_2_dir+'lgbm_pred_{}.pickle'.format(messages))\n",
    "lgbm_test = pd.read_pickle(reg_2_dir+'lgbm_test_{}.pickle'.format(messages))\n",
    "\n",
    "preds = [xgb_pred,lgbm_pred]\n",
    "tests = [xgb_test,lgbm_test]\n",
    "Y_pred = AveragingBlending(preds).clip(0, 20)\n",
    "Y_test = AveragingBlending(tests).clip(0, 20)\n",
    "print(Y_pred)\n",
    "print(Y_test)\n",
    "messages = 'average_earlystopping20'\n",
    "submission_for_ensemble('xgb,lgbm',messages,Y_test)"
   ]
  },
  {
   "cell_type": "markdown",
   "metadata": {},
   "source": [
    "### xgb, lgbm 평균 ensemble 제출결과\n",
    "0.89305 (public)"
   ]
  },
  {
   "cell_type": "markdown",
   "metadata": {},
   "source": [
    "# 다른 모델 해보자"
   ]
  },
  {
   "cell_type": "code",
   "execution_count": 10,
   "metadata": {
    "ExecuteTime": {
     "end_time": "2020-08-28T03:03:03.935127Z",
     "start_time": "2020-08-28T03:03:03.926601Z"
    }
   },
   "outputs": [],
   "source": [
    "import catboost\n",
    "from catboost import Pool\n",
    "from catboost import CatBoostRegressor"
   ]
  },
  {
   "cell_type": "code",
   "execution_count": 11,
   "metadata": {
    "ExecuteTime": {
     "end_time": "2020-08-28T03:03:04.491214Z",
     "start_time": "2020-08-28T03:03:04.488513Z"
    }
   },
   "outputs": [
    {
     "data": {
      "text/plain": [
       "'0.11.1'"
      ]
     },
     "execution_count": 11,
     "metadata": {},
     "output_type": "execute_result"
    }
   ],
   "source": [
    "catboost.__version__"
   ]
  },
  {
   "cell_type": "code",
   "execution_count": 14,
   "metadata": {
    "ExecuteTime": {
     "end_time": "2020-08-28T03:10:13.664155Z",
     "start_time": "2020-08-28T03:05:02.544287Z"
    }
   },
   "outputs": [
    {
     "name": "stdout",
     "output_type": "stream",
     "text": [
      "0:\tlearn: 1.2474230\ttest: 1.1627836\tbest: 1.1627836 (0)\ttotal: 564ms\tremaining: 4m 41s\n",
      "1:\tlearn: 1.2429451\ttest: 1.1594822\tbest: 1.1594822 (1)\ttotal: 1.1s\tremaining: 4m 33s\n",
      "2:\tlearn: 1.2385407\ttest: 1.1562402\tbest: 1.1562402 (2)\ttotal: 1.69s\tremaining: 4m 40s\n",
      "3:\tlearn: 1.2341964\ttest: 1.1530627\tbest: 1.1530627 (3)\ttotal: 2.27s\tremaining: 4m 41s\n",
      "4:\tlearn: 1.2299324\ttest: 1.1499593\tbest: 1.1499593 (4)\ttotal: 2.83s\tremaining: 4m 39s\n",
      "5:\tlearn: 1.2257256\ttest: 1.1468963\tbest: 1.1468963 (5)\ttotal: 3.36s\tremaining: 4m 36s\n",
      "6:\tlearn: 1.2215882\ttest: 1.1439049\tbest: 1.1439049 (6)\ttotal: 3.88s\tremaining: 4m 33s\n",
      "7:\tlearn: 1.2175180\ttest: 1.1409513\tbest: 1.1409513 (7)\ttotal: 4.43s\tremaining: 4m 32s\n",
      "8:\tlearn: 1.2134975\ttest: 1.1380488\tbest: 1.1380488 (8)\ttotal: 4.99s\tremaining: 4m 32s\n",
      "9:\tlearn: 1.2095440\ttest: 1.1352002\tbest: 1.1352002 (9)\ttotal: 5.53s\tremaining: 4m 31s\n",
      "10:\tlearn: 1.2056575\ttest: 1.1323875\tbest: 1.1323875 (10)\ttotal: 6.06s\tremaining: 4m 29s\n",
      "11:\tlearn: 1.2018273\ttest: 1.1296850\tbest: 1.1296850 (11)\ttotal: 6.61s\tremaining: 4m 28s\n",
      "12:\tlearn: 1.1980318\ttest: 1.1270010\tbest: 1.1270010 (12)\ttotal: 7.14s\tremaining: 4m 27s\n",
      "13:\tlearn: 1.1943360\ttest: 1.1243712\tbest: 1.1243712 (13)\ttotal: 7.69s\tremaining: 4m 26s\n",
      "14:\tlearn: 1.1906846\ttest: 1.1217378\tbest: 1.1217378 (14)\ttotal: 8.24s\tremaining: 4m 26s\n",
      "15:\tlearn: 1.1870840\ttest: 1.1191985\tbest: 1.1191985 (15)\ttotal: 8.79s\tremaining: 4m 25s\n",
      "16:\tlearn: 1.1835352\ttest: 1.1167078\tbest: 1.1167078 (16)\ttotal: 9.36s\tremaining: 4m 25s\n",
      "17:\tlearn: 1.1799971\ttest: 1.1142652\tbest: 1.1142652 (17)\ttotal: 9.95s\tremaining: 4m 26s\n",
      "18:\tlearn: 1.1765190\ttest: 1.1118701\tbest: 1.1118701 (18)\ttotal: 10.5s\tremaining: 4m 25s\n",
      "19:\tlearn: 1.1731362\ttest: 1.1094980\tbest: 1.1094980 (19)\ttotal: 11s\tremaining: 4m 24s\n",
      "20:\tlearn: 1.1697734\ttest: 1.1071396\tbest: 1.1071396 (20)\ttotal: 11.6s\tremaining: 4m 24s\n",
      "21:\tlearn: 1.1664640\ttest: 1.1048430\tbest: 1.1048430 (21)\ttotal: 12.2s\tremaining: 4m 24s\n",
      "22:\tlearn: 1.1631711\ttest: 1.1025538\tbest: 1.1025538 (22)\ttotal: 12.7s\tremaining: 4m 23s\n",
      "23:\tlearn: 1.1599630\ttest: 1.1003397\tbest: 1.1003397 (23)\ttotal: 13.2s\tremaining: 4m 22s\n",
      "24:\tlearn: 1.1568327\ttest: 1.0981297\tbest: 1.0981297 (24)\ttotal: 13.8s\tremaining: 4m 21s\n",
      "25:\tlearn: 1.1537092\ttest: 1.0960118\tbest: 1.0960118 (25)\ttotal: 14.3s\tremaining: 4m 21s\n",
      "26:\tlearn: 1.1506342\ttest: 1.0939186\tbest: 1.0939186 (26)\ttotal: 14.9s\tremaining: 4m 20s\n",
      "27:\tlearn: 1.1476375\ttest: 1.0918630\tbest: 1.0918630 (27)\ttotal: 15.4s\tremaining: 4m 19s\n",
      "28:\tlearn: 1.1446961\ttest: 1.0898027\tbest: 1.0898027 (28)\ttotal: 15.9s\tremaining: 4m 18s\n",
      "29:\tlearn: 1.1417343\ttest: 1.0877769\tbest: 1.0877769 (29)\ttotal: 16.5s\tremaining: 4m 17s\n",
      "30:\tlearn: 1.1388246\ttest: 1.0858046\tbest: 1.0858046 (30)\ttotal: 17s\tremaining: 4m 17s\n",
      "31:\tlearn: 1.1359911\ttest: 1.0838531\tbest: 1.0838531 (31)\ttotal: 17.5s\tremaining: 4m 15s\n",
      "32:\tlearn: 1.1331698\ttest: 1.0819354\tbest: 1.0819354 (32)\ttotal: 18s\tremaining: 4m 15s\n",
      "33:\tlearn: 1.1304087\ttest: 1.0800517\tbest: 1.0800517 (33)\ttotal: 18.6s\tremaining: 4m 14s\n",
      "34:\tlearn: 1.1276750\ttest: 1.0782181\tbest: 1.0782181 (34)\ttotal: 19.1s\tremaining: 4m 14s\n",
      "35:\tlearn: 1.1250089\ttest: 1.0764199\tbest: 1.0764199 (35)\ttotal: 19.7s\tremaining: 4m 13s\n",
      "36:\tlearn: 1.1223594\ttest: 1.0746414\tbest: 1.0746414 (36)\ttotal: 20.3s\tremaining: 4m 13s\n",
      "37:\tlearn: 1.1197757\ttest: 1.0729127\tbest: 1.0729127 (37)\ttotal: 20.9s\tremaining: 4m 13s\n",
      "38:\tlearn: 1.1172215\ttest: 1.0711868\tbest: 1.0711868 (38)\ttotal: 21.4s\tremaining: 4m 12s\n",
      "39:\tlearn: 1.1146968\ttest: 1.0695042\tbest: 1.0695042 (39)\ttotal: 22s\tremaining: 4m 12s\n",
      "40:\tlearn: 1.1121986\ttest: 1.0677699\tbest: 1.0677699 (40)\ttotal: 22.5s\tremaining: 4m 12s\n",
      "41:\tlearn: 1.1097424\ttest: 1.0661132\tbest: 1.0661132 (41)\ttotal: 23.1s\tremaining: 4m 11s\n",
      "42:\tlearn: 1.1073321\ttest: 1.0644621\tbest: 1.0644621 (42)\ttotal: 23.6s\tremaining: 4m 11s\n",
      "43:\tlearn: 1.1049786\ttest: 1.0629232\tbest: 1.0629232 (43)\ttotal: 24.2s\tremaining: 4m 11s\n",
      "44:\tlearn: 1.1026453\ttest: 1.0613771\tbest: 1.0613771 (44)\ttotal: 24.8s\tremaining: 4m 10s\n",
      "45:\tlearn: 1.1003662\ttest: 1.0598422\tbest: 1.0598422 (45)\ttotal: 25.3s\tremaining: 4m 10s\n",
      "46:\tlearn: 1.0981073\ttest: 1.0583494\tbest: 1.0583494 (46)\ttotal: 26s\tremaining: 4m 10s\n",
      "47:\tlearn: 1.0958959\ttest: 1.0569026\tbest: 1.0569026 (47)\ttotal: 26.6s\tremaining: 4m 10s\n",
      "48:\tlearn: 1.0936962\ttest: 1.0553963\tbest: 1.0553963 (48)\ttotal: 27.1s\tremaining: 4m 9s\n",
      "49:\tlearn: 1.0915347\ttest: 1.0539359\tbest: 1.0539359 (49)\ttotal: 27.6s\tremaining: 4m 8s\n",
      "50:\tlearn: 1.0894136\ttest: 1.0526297\tbest: 1.0526297 (50)\ttotal: 28.2s\tremaining: 4m 8s\n",
      "51:\tlearn: 1.0873150\ttest: 1.0512103\tbest: 1.0512103 (51)\ttotal: 28.7s\tremaining: 4m 7s\n",
      "52:\tlearn: 1.0852052\ttest: 1.0497228\tbest: 1.0497228 (52)\ttotal: 29.3s\tremaining: 4m 7s\n",
      "53:\tlearn: 1.0831760\ttest: 1.0483437\tbest: 1.0483437 (53)\ttotal: 29.8s\tremaining: 4m 6s\n",
      "54:\tlearn: 1.0811882\ttest: 1.0470455\tbest: 1.0470455 (54)\ttotal: 30.3s\tremaining: 4m 5s\n",
      "55:\tlearn: 1.0792158\ttest: 1.0457104\tbest: 1.0457104 (55)\ttotal: 30.9s\tremaining: 4m 5s\n",
      "56:\tlearn: 1.0772775\ttest: 1.0444166\tbest: 1.0444166 (56)\ttotal: 31.4s\tremaining: 4m 4s\n",
      "57:\tlearn: 1.0753730\ttest: 1.0431443\tbest: 1.0431443 (57)\ttotal: 32s\tremaining: 4m 3s\n",
      "58:\tlearn: 1.0734977\ttest: 1.0419862\tbest: 1.0419862 (58)\ttotal: 32.6s\tremaining: 4m 3s\n",
      "59:\tlearn: 1.0716418\ttest: 1.0407472\tbest: 1.0407472 (59)\ttotal: 33.2s\tremaining: 4m 3s\n",
      "60:\tlearn: 1.0698049\ttest: 1.0395176\tbest: 1.0395176 (60)\ttotal: 33.7s\tremaining: 4m 2s\n",
      "61:\tlearn: 1.0680106\ttest: 1.0383264\tbest: 1.0383264 (61)\ttotal: 34.3s\tremaining: 4m 2s\n",
      "62:\tlearn: 1.0662394\ttest: 1.0372659\tbest: 1.0372659 (62)\ttotal: 34.8s\tremaining: 4m 1s\n",
      "63:\tlearn: 1.0645084\ttest: 1.0361642\tbest: 1.0361642 (63)\ttotal: 35.3s\tremaining: 4m\n",
      "64:\tlearn: 1.0627419\ttest: 1.0349530\tbest: 1.0349530 (64)\ttotal: 35.8s\tremaining: 3m 59s\n",
      "65:\tlearn: 1.0610153\ttest: 1.0337665\tbest: 1.0337665 (65)\ttotal: 36.4s\tremaining: 3m 59s\n",
      "66:\tlearn: 1.0593611\ttest: 1.0326586\tbest: 1.0326586 (66)\ttotal: 36.9s\tremaining: 3m 58s\n",
      "67:\tlearn: 1.0576840\ttest: 1.0314915\tbest: 1.0314915 (67)\ttotal: 37.5s\tremaining: 3m 58s\n",
      "68:\tlearn: 1.0560674\ttest: 1.0305426\tbest: 1.0305426 (68)\ttotal: 38.1s\tremaining: 3m 57s\n",
      "69:\tlearn: 1.0544675\ttest: 1.0294939\tbest: 1.0294939 (69)\ttotal: 38.7s\tremaining: 3m 57s\n",
      "70:\tlearn: 1.0529048\ttest: 1.0284363\tbest: 1.0284363 (70)\ttotal: 39.2s\tremaining: 3m 56s\n",
      "71:\tlearn: 1.0513381\ttest: 1.0274529\tbest: 1.0274529 (71)\ttotal: 39.7s\tremaining: 3m 55s\n",
      "72:\tlearn: 1.0497769\ttest: 1.0263831\tbest: 1.0263831 (72)\ttotal: 40.3s\tremaining: 3m 55s\n",
      "73:\tlearn: 1.0482782\ttest: 1.0254896\tbest: 1.0254896 (73)\ttotal: 40.8s\tremaining: 3m 54s\n",
      "74:\tlearn: 1.0467554\ttest: 1.0244813\tbest: 1.0244813 (74)\ttotal: 41.4s\tremaining: 3m 54s\n",
      "75:\tlearn: 1.0452846\ttest: 1.0235602\tbest: 1.0235602 (75)\ttotal: 41.9s\tremaining: 3m 54s\n",
      "76:\tlearn: 1.0438194\ttest: 1.0225453\tbest: 1.0225453 (76)\ttotal: 42.5s\tremaining: 3m 53s\n",
      "77:\tlearn: 1.0424092\ttest: 1.0216584\tbest: 1.0216584 (77)\ttotal: 43.2s\tremaining: 3m 53s\n",
      "78:\tlearn: 1.0409839\ttest: 1.0208019\tbest: 1.0208019 (78)\ttotal: 43.7s\tremaining: 3m 53s\n",
      "79:\tlearn: 1.0396253\ttest: 1.0199803\tbest: 1.0199803 (79)\ttotal: 44.4s\tremaining: 3m 53s\n",
      "80:\tlearn: 1.0382401\ttest: 1.0190745\tbest: 1.0190745 (80)\ttotal: 45s\tremaining: 3m 52s\n",
      "81:\tlearn: 1.0368777\ttest: 1.0182743\tbest: 1.0182743 (81)\ttotal: 45.6s\tremaining: 3m 52s\n",
      "82:\tlearn: 1.0355343\ttest: 1.0174006\tbest: 1.0174006 (82)\ttotal: 46.1s\tremaining: 3m 51s\n",
      "83:\tlearn: 1.0341717\ttest: 1.0164405\tbest: 1.0164405 (83)\ttotal: 46.7s\tremaining: 3m 51s\n",
      "84:\tlearn: 1.0328679\ttest: 1.0155874\tbest: 1.0155874 (84)\ttotal: 47.3s\tremaining: 3m 50s\n",
      "85:\tlearn: 1.0315915\ttest: 1.0147403\tbest: 1.0147403 (85)\ttotal: 47.8s\tremaining: 3m 50s\n",
      "86:\tlearn: 1.0303499\ttest: 1.0139724\tbest: 1.0139724 (86)\ttotal: 48.4s\tremaining: 3m 49s\n",
      "87:\tlearn: 1.0291104\ttest: 1.0131559\tbest: 1.0131559 (87)\ttotal: 49s\tremaining: 3m 49s\n",
      "88:\tlearn: 1.0278793\ttest: 1.0124563\tbest: 1.0124563 (88)\ttotal: 49.6s\tremaining: 3m 48s\n",
      "89:\tlearn: 1.0266885\ttest: 1.0117045\tbest: 1.0117045 (89)\ttotal: 50.2s\tremaining: 3m 48s\n",
      "90:\tlearn: 1.0255075\ttest: 1.0109369\tbest: 1.0109369 (90)\ttotal: 50.7s\tremaining: 3m 47s\n",
      "91:\tlearn: 1.0243542\ttest: 1.0103023\tbest: 1.0103023 (91)\ttotal: 51.3s\tremaining: 3m 47s\n",
      "92:\tlearn: 1.0231960\ttest: 1.0095816\tbest: 1.0095816 (92)\ttotal: 51.8s\tremaining: 3m 46s\n"
     ]
    },
    {
     "name": "stdout",
     "output_type": "stream",
     "text": [
      "93:\tlearn: 1.0220667\ttest: 1.0088454\tbest: 1.0088454 (93)\ttotal: 52.4s\tremaining: 3m 46s\n",
      "94:\tlearn: 1.0209650\ttest: 1.0081481\tbest: 1.0081481 (94)\ttotal: 53s\tremaining: 3m 45s\n",
      "95:\tlearn: 1.0198365\ttest: 1.0075103\tbest: 1.0075103 (95)\ttotal: 53.6s\tremaining: 3m 45s\n",
      "96:\tlearn: 1.0187377\ttest: 1.0068177\tbest: 1.0068177 (96)\ttotal: 54.1s\tremaining: 3m 44s\n",
      "97:\tlearn: 1.0176083\ttest: 1.0060168\tbest: 1.0060168 (97)\ttotal: 54.7s\tremaining: 3m 44s\n",
      "98:\tlearn: 1.0165326\ttest: 1.0054208\tbest: 1.0054208 (98)\ttotal: 55.4s\tremaining: 3m 44s\n",
      "99:\tlearn: 1.0154915\ttest: 1.0047733\tbest: 1.0047733 (99)\ttotal: 56s\tremaining: 3m 43s\n",
      "100:\tlearn: 1.0144804\ttest: 1.0041529\tbest: 1.0041529 (100)\ttotal: 56.6s\tremaining: 3m 43s\n",
      "101:\tlearn: 1.0134867\ttest: 1.0035584\tbest: 1.0035584 (101)\ttotal: 57.1s\tremaining: 3m 42s\n",
      "102:\tlearn: 1.0124745\ttest: 1.0029931\tbest: 1.0029931 (102)\ttotal: 57.6s\tremaining: 3m 42s\n",
      "103:\tlearn: 1.0114864\ttest: 1.0023723\tbest: 1.0023723 (103)\ttotal: 58.2s\tremaining: 3m 41s\n",
      "104:\tlearn: 1.0105111\ttest: 1.0017473\tbest: 1.0017473 (104)\ttotal: 58.7s\tremaining: 3m 40s\n",
      "105:\tlearn: 1.0095387\ttest: 1.0012057\tbest: 1.0012057 (105)\ttotal: 59.4s\tremaining: 3m 40s\n",
      "106:\tlearn: 1.0086120\ttest: 1.0006237\tbest: 1.0006237 (106)\ttotal: 59.9s\tremaining: 3m 40s\n",
      "107:\tlearn: 1.0076831\ttest: 1.0000467\tbest: 1.0000467 (107)\ttotal: 1m\tremaining: 3m 39s\n",
      "108:\tlearn: 1.0067787\ttest: 0.9995396\tbest: 0.9995396 (108)\ttotal: 1m 1s\tremaining: 3m 38s\n",
      "109:\tlearn: 1.0058665\ttest: 0.9990239\tbest: 0.9990239 (109)\ttotal: 1m 1s\tremaining: 3m 38s\n",
      "110:\tlearn: 1.0049685\ttest: 0.9984763\tbest: 0.9984763 (110)\ttotal: 1m 2s\tremaining: 3m 37s\n",
      "111:\tlearn: 1.0040879\ttest: 0.9979497\tbest: 0.9979497 (111)\ttotal: 1m 2s\tremaining: 3m 37s\n",
      "112:\tlearn: 1.0032371\ttest: 0.9974160\tbest: 0.9974160 (112)\ttotal: 1m 3s\tremaining: 3m 36s\n",
      "113:\tlearn: 1.0023634\ttest: 0.9968939\tbest: 0.9968939 (113)\ttotal: 1m 3s\tremaining: 3m 36s\n",
      "114:\tlearn: 1.0015281\ttest: 0.9963977\tbest: 0.9963977 (114)\ttotal: 1m 4s\tremaining: 3m 35s\n",
      "115:\tlearn: 1.0006979\ttest: 0.9958861\tbest: 0.9958861 (115)\ttotal: 1m 4s\tremaining: 3m 34s\n",
      "116:\tlearn: 0.9998690\ttest: 0.9953982\tbest: 0.9953982 (116)\ttotal: 1m 5s\tremaining: 3m 34s\n",
      "117:\tlearn: 0.9990636\ttest: 0.9949274\tbest: 0.9949274 (117)\ttotal: 1m 6s\tremaining: 3m 33s\n",
      "118:\tlearn: 0.9982585\ttest: 0.9944888\tbest: 0.9944888 (118)\ttotal: 1m 6s\tremaining: 3m 33s\n",
      "119:\tlearn: 0.9974846\ttest: 0.9940402\tbest: 0.9940402 (119)\ttotal: 1m 7s\tremaining: 3m 32s\n",
      "120:\tlearn: 0.9967238\ttest: 0.9935783\tbest: 0.9935783 (120)\ttotal: 1m 7s\tremaining: 3m 31s\n",
      "121:\tlearn: 0.9959501\ttest: 0.9931285\tbest: 0.9931285 (121)\ttotal: 1m 8s\tremaining: 3m 31s\n",
      "122:\tlearn: 0.9951990\ttest: 0.9926976\tbest: 0.9926976 (122)\ttotal: 1m 8s\tremaining: 3m 30s\n",
      "123:\tlearn: 0.9944525\ttest: 0.9922695\tbest: 0.9922695 (123)\ttotal: 1m 9s\tremaining: 3m 29s\n",
      "124:\tlearn: 0.9937291\ttest: 0.9918680\tbest: 0.9918680 (124)\ttotal: 1m 9s\tremaining: 3m 29s\n",
      "125:\tlearn: 0.9930080\ttest: 0.9914198\tbest: 0.9914198 (125)\ttotal: 1m 10s\tremaining: 3m 28s\n",
      "126:\tlearn: 0.9922807\ttest: 0.9910448\tbest: 0.9910448 (126)\ttotal: 1m 10s\tremaining: 3m 28s\n",
      "127:\tlearn: 0.9915770\ttest: 0.9905715\tbest: 0.9905715 (127)\ttotal: 1m 11s\tremaining: 3m 27s\n",
      "128:\tlearn: 0.9908976\ttest: 0.9901362\tbest: 0.9901362 (128)\ttotal: 1m 11s\tremaining: 3m 26s\n",
      "129:\tlearn: 0.9902261\ttest: 0.9897112\tbest: 0.9897112 (129)\ttotal: 1m 12s\tremaining: 3m 26s\n",
      "130:\tlearn: 0.9895594\ttest: 0.9893428\tbest: 0.9893428 (130)\ttotal: 1m 13s\tremaining: 3m 25s\n",
      "131:\tlearn: 0.9889071\ttest: 0.9889576\tbest: 0.9889576 (131)\ttotal: 1m 13s\tremaining: 3m 24s\n",
      "132:\tlearn: 0.9882584\ttest: 0.9886307\tbest: 0.9886307 (132)\ttotal: 1m 14s\tremaining: 3m 24s\n",
      "133:\tlearn: 0.9876211\ttest: 0.9882884\tbest: 0.9882884 (133)\ttotal: 1m 14s\tremaining: 3m 23s\n",
      "134:\tlearn: 0.9869920\ttest: 0.9880125\tbest: 0.9880125 (134)\ttotal: 1m 15s\tremaining: 3m 23s\n",
      "135:\tlearn: 0.9863728\ttest: 0.9877502\tbest: 0.9877502 (135)\ttotal: 1m 15s\tremaining: 3m 22s\n",
      "136:\tlearn: 0.9857320\ttest: 0.9874397\tbest: 0.9874397 (136)\ttotal: 1m 16s\tremaining: 3m 22s\n",
      "137:\tlearn: 0.9851323\ttest: 0.9871564\tbest: 0.9871564 (137)\ttotal: 1m 16s\tremaining: 3m 21s\n",
      "138:\tlearn: 0.9845335\ttest: 0.9868111\tbest: 0.9868111 (138)\ttotal: 1m 17s\tremaining: 3m 21s\n",
      "139:\tlearn: 0.9839500\ttest: 0.9864291\tbest: 0.9864291 (139)\ttotal: 1m 18s\tremaining: 3m 20s\n",
      "140:\tlearn: 0.9833399\ttest: 0.9860043\tbest: 0.9860043 (140)\ttotal: 1m 18s\tremaining: 3m 20s\n",
      "141:\tlearn: 0.9827712\ttest: 0.9856626\tbest: 0.9856626 (141)\ttotal: 1m 19s\tremaining: 3m 19s\n",
      "142:\tlearn: 0.9821777\ttest: 0.9853573\tbest: 0.9853573 (142)\ttotal: 1m 19s\tremaining: 3m 19s\n",
      "143:\tlearn: 0.9815095\ttest: 0.9848989\tbest: 0.9848989 (143)\ttotal: 1m 20s\tremaining: 3m 18s\n",
      "144:\tlearn: 0.9808783\ttest: 0.9844651\tbest: 0.9844651 (144)\ttotal: 1m 21s\tremaining: 3m 18s\n",
      "145:\tlearn: 0.9803352\ttest: 0.9841407\tbest: 0.9841407 (145)\ttotal: 1m 21s\tremaining: 3m 17s\n",
      "146:\tlearn: 0.9797719\ttest: 0.9837957\tbest: 0.9837957 (146)\ttotal: 1m 22s\tremaining: 3m 17s\n",
      "147:\tlearn: 0.9792432\ttest: 0.9835426\tbest: 0.9835426 (147)\ttotal: 1m 22s\tremaining: 3m 16s\n",
      "148:\tlearn: 0.9786974\ttest: 0.9832421\tbest: 0.9832421 (148)\ttotal: 1m 23s\tremaining: 3m 16s\n",
      "149:\tlearn: 0.9781564\ttest: 0.9829070\tbest: 0.9829070 (149)\ttotal: 1m 23s\tremaining: 3m 15s\n",
      "150:\tlearn: 0.9776473\ttest: 0.9826273\tbest: 0.9826273 (150)\ttotal: 1m 24s\tremaining: 3m 15s\n",
      "151:\tlearn: 0.9771184\ttest: 0.9823131\tbest: 0.9823131 (151)\ttotal: 1m 24s\tremaining: 3m 14s\n",
      "152:\tlearn: 0.9765976\ttest: 0.9819603\tbest: 0.9819603 (152)\ttotal: 1m 25s\tremaining: 3m 13s\n",
      "153:\tlearn: 0.9760865\ttest: 0.9816385\tbest: 0.9816385 (153)\ttotal: 1m 26s\tremaining: 3m 13s\n",
      "154:\tlearn: 0.9755921\ttest: 0.9813479\tbest: 0.9813479 (154)\ttotal: 1m 26s\tremaining: 3m 12s\n",
      "155:\tlearn: 0.9750347\ttest: 0.9809622\tbest: 0.9809622 (155)\ttotal: 1m 27s\tremaining: 3m 12s\n",
      "156:\tlearn: 0.9745380\ttest: 0.9807066\tbest: 0.9807066 (156)\ttotal: 1m 27s\tremaining: 3m 11s\n",
      "157:\tlearn: 0.9740652\ttest: 0.9804632\tbest: 0.9804632 (157)\ttotal: 1m 28s\tremaining: 3m 11s\n",
      "158:\tlearn: 0.9735785\ttest: 0.9801794\tbest: 0.9801794 (158)\ttotal: 1m 28s\tremaining: 3m 10s\n",
      "159:\tlearn: 0.9729368\ttest: 0.9797046\tbest: 0.9797046 (159)\ttotal: 1m 29s\tremaining: 3m 10s\n",
      "160:\tlearn: 0.9724829\ttest: 0.9795197\tbest: 0.9795197 (160)\ttotal: 1m 29s\tremaining: 3m 9s\n",
      "161:\tlearn: 0.9720041\ttest: 0.9792936\tbest: 0.9792936 (161)\ttotal: 1m 30s\tremaining: 3m 9s\n",
      "162:\tlearn: 0.9715397\ttest: 0.9790341\tbest: 0.9790341 (162)\ttotal: 1m 31s\tremaining: 3m 8s\n",
      "163:\tlearn: 0.9710818\ttest: 0.9787610\tbest: 0.9787610 (163)\ttotal: 1m 31s\tremaining: 3m 7s\n",
      "164:\tlearn: 0.9706483\ttest: 0.9785290\tbest: 0.9785290 (164)\ttotal: 1m 32s\tremaining: 3m 7s\n",
      "165:\tlearn: 0.9702025\ttest: 0.9782963\tbest: 0.9782963 (165)\ttotal: 1m 32s\tremaining: 3m 7s\n",
      "166:\tlearn: 0.9697545\ttest: 0.9780894\tbest: 0.9780894 (166)\ttotal: 1m 33s\tremaining: 3m 6s\n",
      "167:\tlearn: 0.9693116\ttest: 0.9778590\tbest: 0.9778590 (167)\ttotal: 1m 34s\tremaining: 3m 6s\n",
      "168:\tlearn: 0.9688830\ttest: 0.9776150\tbest: 0.9776150 (168)\ttotal: 1m 34s\tremaining: 3m 5s\n",
      "169:\tlearn: 0.9684050\ttest: 0.9772864\tbest: 0.9772864 (169)\ttotal: 1m 35s\tremaining: 3m 4s\n",
      "170:\tlearn: 0.9679877\ttest: 0.9770145\tbest: 0.9770145 (170)\ttotal: 1m 35s\tremaining: 3m 4s\n",
      "171:\tlearn: 0.9675673\ttest: 0.9768785\tbest: 0.9768785 (171)\ttotal: 1m 36s\tremaining: 3m 3s\n",
      "172:\tlearn: 0.9671541\ttest: 0.9767448\tbest: 0.9767448 (172)\ttotal: 1m 37s\tremaining: 3m 3s\n",
      "173:\tlearn: 0.9667447\ttest: 0.9765613\tbest: 0.9765613 (173)\ttotal: 1m 37s\tremaining: 3m 2s\n",
      "174:\tlearn: 0.9663482\ttest: 0.9763957\tbest: 0.9763957 (174)\ttotal: 1m 38s\tremaining: 3m 2s\n",
      "175:\tlearn: 0.9657866\ttest: 0.9759687\tbest: 0.9759687 (175)\ttotal: 1m 38s\tremaining: 3m 1s\n",
      "176:\tlearn: 0.9653973\ttest: 0.9757248\tbest: 0.9757248 (176)\ttotal: 1m 39s\tremaining: 3m 1s\n",
      "177:\tlearn: 0.9650076\ttest: 0.9755460\tbest: 0.9755460 (177)\ttotal: 1m 39s\tremaining: 3m\n",
      "178:\tlearn: 0.9646178\ttest: 0.9753684\tbest: 0.9753684 (178)\ttotal: 1m 40s\tremaining: 2m 59s\n",
      "179:\tlearn: 0.9642549\ttest: 0.9751861\tbest: 0.9751861 (179)\ttotal: 1m 40s\tremaining: 2m 59s\n",
      "180:\tlearn: 0.9638939\ttest: 0.9750373\tbest: 0.9750373 (180)\ttotal: 1m 41s\tremaining: 2m 58s\n",
      "181:\tlearn: 0.9635154\ttest: 0.9749209\tbest: 0.9749209 (181)\ttotal: 1m 41s\tremaining: 2m 58s\n",
      "182:\tlearn: 0.9631535\ttest: 0.9747280\tbest: 0.9747280 (182)\ttotal: 1m 42s\tremaining: 2m 57s\n"
     ]
    },
    {
     "name": "stdout",
     "output_type": "stream",
     "text": [
      "183:\tlearn: 0.9627898\ttest: 0.9744886\tbest: 0.9744886 (183)\ttotal: 1m 43s\tremaining: 2m 57s\n",
      "184:\tlearn: 0.9624281\ttest: 0.9742669\tbest: 0.9742669 (184)\ttotal: 1m 43s\tremaining: 2m 56s\n",
      "185:\tlearn: 0.9620765\ttest: 0.9740520\tbest: 0.9740520 (185)\ttotal: 1m 44s\tremaining: 2m 55s\n",
      "186:\tlearn: 0.9617255\ttest: 0.9739019\tbest: 0.9739019 (186)\ttotal: 1m 44s\tremaining: 2m 55s\n",
      "187:\tlearn: 0.9613883\ttest: 0.9737687\tbest: 0.9737687 (187)\ttotal: 1m 45s\tremaining: 2m 54s\n",
      "188:\tlearn: 0.9610550\ttest: 0.9735669\tbest: 0.9735669 (188)\ttotal: 1m 45s\tremaining: 2m 54s\n",
      "189:\tlearn: 0.9607114\ttest: 0.9734185\tbest: 0.9734185 (189)\ttotal: 1m 46s\tremaining: 2m 53s\n",
      "190:\tlearn: 0.9603831\ttest: 0.9732378\tbest: 0.9732378 (190)\ttotal: 1m 47s\tremaining: 2m 53s\n",
      "191:\tlearn: 0.9600499\ttest: 0.9730981\tbest: 0.9730981 (191)\ttotal: 1m 47s\tremaining: 2m 52s\n",
      "192:\tlearn: 0.9597236\ttest: 0.9730054\tbest: 0.9730054 (192)\ttotal: 1m 48s\tremaining: 2m 52s\n",
      "193:\tlearn: 0.9594031\ttest: 0.9728122\tbest: 0.9728122 (193)\ttotal: 1m 48s\tremaining: 2m 51s\n",
      "194:\tlearn: 0.9590857\ttest: 0.9726794\tbest: 0.9726794 (194)\ttotal: 1m 49s\tremaining: 2m 50s\n",
      "195:\tlearn: 0.9587829\ttest: 0.9725316\tbest: 0.9725316 (195)\ttotal: 1m 49s\tremaining: 2m 50s\n",
      "196:\tlearn: 0.9584724\ttest: 0.9724055\tbest: 0.9724055 (196)\ttotal: 1m 50s\tremaining: 2m 49s\n",
      "197:\tlearn: 0.9581747\ttest: 0.9722817\tbest: 0.9722817 (197)\ttotal: 1m 50s\tremaining: 2m 49s\n",
      "198:\tlearn: 0.9578791\ttest: 0.9721461\tbest: 0.9721461 (198)\ttotal: 1m 51s\tremaining: 2m 48s\n",
      "199:\tlearn: 0.9574126\ttest: 0.9718100\tbest: 0.9718100 (199)\ttotal: 1m 52s\tremaining: 2m 48s\n",
      "200:\tlearn: 0.9571189\ttest: 0.9716472\tbest: 0.9716472 (200)\ttotal: 1m 52s\tremaining: 2m 47s\n",
      "201:\tlearn: 0.9567982\ttest: 0.9714407\tbest: 0.9714407 (201)\ttotal: 1m 53s\tremaining: 2m 47s\n",
      "202:\tlearn: 0.9565055\ttest: 0.9713160\tbest: 0.9713160 (202)\ttotal: 1m 53s\tremaining: 2m 46s\n",
      "203:\tlearn: 0.9562153\ttest: 0.9712086\tbest: 0.9712086 (203)\ttotal: 1m 54s\tremaining: 2m 46s\n",
      "204:\tlearn: 0.9559349\ttest: 0.9710539\tbest: 0.9710539 (204)\ttotal: 1m 55s\tremaining: 2m 45s\n",
      "205:\tlearn: 0.9555524\ttest: 0.9707371\tbest: 0.9707371 (205)\ttotal: 1m 55s\tremaining: 2m 45s\n",
      "206:\tlearn: 0.9551110\ttest: 0.9704113\tbest: 0.9704113 (206)\ttotal: 1m 56s\tremaining: 2m 44s\n",
      "207:\tlearn: 0.9548284\ttest: 0.9702909\tbest: 0.9702909 (207)\ttotal: 1m 56s\tremaining: 2m 43s\n",
      "208:\tlearn: 0.9543976\ttest: 0.9699789\tbest: 0.9699789 (208)\ttotal: 1m 57s\tremaining: 2m 43s\n",
      "209:\tlearn: 0.9539694\ttest: 0.9696862\tbest: 0.9696862 (209)\ttotal: 1m 58s\tremaining: 2m 43s\n",
      "210:\tlearn: 0.9537088\ttest: 0.9695772\tbest: 0.9695772 (210)\ttotal: 1m 58s\tremaining: 2m 42s\n",
      "211:\tlearn: 0.9534435\ttest: 0.9695385\tbest: 0.9695385 (211)\ttotal: 1m 59s\tremaining: 2m 41s\n",
      "212:\tlearn: 0.9531842\ttest: 0.9693817\tbest: 0.9693817 (212)\ttotal: 1m 59s\tremaining: 2m 41s\n",
      "213:\tlearn: 0.9529235\ttest: 0.9693071\tbest: 0.9693071 (213)\ttotal: 2m\tremaining: 2m 40s\n",
      "214:\tlearn: 0.9526699\ttest: 0.9692633\tbest: 0.9692633 (214)\ttotal: 2m\tremaining: 2m 40s\n",
      "215:\tlearn: 0.9524081\ttest: 0.9691825\tbest: 0.9691825 (215)\ttotal: 2m 1s\tremaining: 2m 39s\n",
      "216:\tlearn: 0.9521581\ttest: 0.9690040\tbest: 0.9690040 (216)\ttotal: 2m 2s\tremaining: 2m 39s\n",
      "217:\tlearn: 0.9519050\ttest: 0.9689059\tbest: 0.9689059 (217)\ttotal: 2m 2s\tremaining: 2m 38s\n",
      "218:\tlearn: 0.9516609\ttest: 0.9688383\tbest: 0.9688383 (218)\ttotal: 2m 3s\tremaining: 2m 38s\n",
      "219:\tlearn: 0.9512608\ttest: 0.9685616\tbest: 0.9685616 (219)\ttotal: 2m 3s\tremaining: 2m 37s\n",
      "220:\tlearn: 0.9510247\ttest: 0.9684213\tbest: 0.9684213 (220)\ttotal: 2m 4s\tremaining: 2m 36s\n",
      "221:\tlearn: 0.9507830\ttest: 0.9683597\tbest: 0.9683597 (221)\ttotal: 2m 4s\tremaining: 2m 36s\n",
      "222:\tlearn: 0.9505598\ttest: 0.9682251\tbest: 0.9682251 (222)\ttotal: 2m 5s\tremaining: 2m 35s\n",
      "223:\tlearn: 0.9503321\ttest: 0.9680992\tbest: 0.9680992 (223)\ttotal: 2m 6s\tremaining: 2m 35s\n",
      "224:\tlearn: 0.9500918\ttest: 0.9680497\tbest: 0.9680497 (224)\ttotal: 2m 6s\tremaining: 2m 34s\n",
      "225:\tlearn: 0.9498640\ttest: 0.9679770\tbest: 0.9679770 (225)\ttotal: 2m 7s\tremaining: 2m 34s\n",
      "226:\tlearn: 0.9496369\ttest: 0.9678933\tbest: 0.9678933 (226)\ttotal: 2m 7s\tremaining: 2m 33s\n",
      "227:\tlearn: 0.9492548\ttest: 0.9675920\tbest: 0.9675920 (227)\ttotal: 2m 8s\tremaining: 2m 32s\n",
      "228:\tlearn: 0.9490390\ttest: 0.9674591\tbest: 0.9674591 (228)\ttotal: 2m 8s\tremaining: 2m 32s\n",
      "229:\tlearn: 0.9488300\ttest: 0.9673612\tbest: 0.9673612 (229)\ttotal: 2m 9s\tremaining: 2m 31s\n",
      "230:\tlearn: 0.9486016\ttest: 0.9672169\tbest: 0.9672169 (230)\ttotal: 2m 9s\tremaining: 2m 31s\n",
      "231:\tlearn: 0.9483550\ttest: 0.9670543\tbest: 0.9670543 (231)\ttotal: 2m 10s\tremaining: 2m 30s\n",
      "232:\tlearn: 0.9481480\ttest: 0.9669573\tbest: 0.9669573 (232)\ttotal: 2m 11s\tremaining: 2m 30s\n",
      "233:\tlearn: 0.9479365\ttest: 0.9669114\tbest: 0.9669114 (233)\ttotal: 2m 11s\tremaining: 2m 29s\n",
      "234:\tlearn: 0.9477255\ttest: 0.9668201\tbest: 0.9668201 (234)\ttotal: 2m 12s\tremaining: 2m 28s\n",
      "235:\tlearn: 0.9473705\ttest: 0.9665595\tbest: 0.9665595 (235)\ttotal: 2m 12s\tremaining: 2m 28s\n",
      "236:\tlearn: 0.9471629\ttest: 0.9665170\tbest: 0.9665170 (236)\ttotal: 2m 13s\tremaining: 2m 27s\n",
      "237:\tlearn: 0.9468117\ttest: 0.9662732\tbest: 0.9662732 (237)\ttotal: 2m 13s\tremaining: 2m 27s\n",
      "238:\tlearn: 0.9466034\ttest: 0.9662300\tbest: 0.9662300 (238)\ttotal: 2m 14s\tremaining: 2m 26s\n",
      "239:\tlearn: 0.9464114\ttest: 0.9661081\tbest: 0.9661081 (239)\ttotal: 2m 15s\tremaining: 2m 26s\n",
      "240:\tlearn: 0.9462069\ttest: 0.9660428\tbest: 0.9660428 (240)\ttotal: 2m 15s\tremaining: 2m 25s\n",
      "241:\tlearn: 0.9458821\ttest: 0.9657357\tbest: 0.9657357 (241)\ttotal: 2m 16s\tremaining: 2m 25s\n",
      "242:\tlearn: 0.9456889\ttest: 0.9656890\tbest: 0.9656890 (242)\ttotal: 2m 16s\tremaining: 2m 24s\n",
      "243:\tlearn: 0.9454957\ttest: 0.9656557\tbest: 0.9656557 (243)\ttotal: 2m 17s\tremaining: 2m 24s\n",
      "244:\tlearn: 0.9453068\ttest: 0.9655935\tbest: 0.9655935 (244)\ttotal: 2m 17s\tremaining: 2m 23s\n",
      "245:\tlearn: 0.9451161\ttest: 0.9655152\tbest: 0.9655152 (245)\ttotal: 2m 18s\tremaining: 2m 23s\n",
      "246:\tlearn: 0.9449227\ttest: 0.9654794\tbest: 0.9654794 (246)\ttotal: 2m 19s\tremaining: 2m 22s\n",
      "247:\tlearn: 0.9447477\ttest: 0.9653741\tbest: 0.9653741 (247)\ttotal: 2m 19s\tremaining: 2m 22s\n",
      "248:\tlearn: 0.9445452\ttest: 0.9652417\tbest: 0.9652417 (248)\ttotal: 2m 20s\tremaining: 2m 21s\n",
      "249:\tlearn: 0.9443055\ttest: 0.9650691\tbest: 0.9650691 (249)\ttotal: 2m 21s\tremaining: 2m 21s\n",
      "250:\tlearn: 0.9441151\ttest: 0.9650242\tbest: 0.9650242 (250)\ttotal: 2m 21s\tremaining: 2m 20s\n",
      "251:\tlearn: 0.9439446\ttest: 0.9649194\tbest: 0.9649194 (251)\ttotal: 2m 22s\tremaining: 2m 19s\n",
      "252:\tlearn: 0.9436370\ttest: 0.9646213\tbest: 0.9646213 (252)\ttotal: 2m 22s\tremaining: 2m 19s\n",
      "253:\tlearn: 0.9434660\ttest: 0.9645828\tbest: 0.9645828 (253)\ttotal: 2m 23s\tremaining: 2m 18s\n",
      "254:\tlearn: 0.9432899\ttest: 0.9645548\tbest: 0.9645548 (254)\ttotal: 2m 23s\tremaining: 2m 18s\n",
      "255:\tlearn: 0.9431085\ttest: 0.9645177\tbest: 0.9645177 (255)\ttotal: 2m 24s\tremaining: 2m 17s\n",
      "256:\tlearn: 0.9429210\ttest: 0.9643965\tbest: 0.9643965 (256)\ttotal: 2m 24s\tremaining: 2m 17s\n",
      "257:\tlearn: 0.9427521\ttest: 0.9643659\tbest: 0.9643659 (257)\ttotal: 2m 25s\tremaining: 2m 16s\n",
      "258:\tlearn: 0.9424614\ttest: 0.9641512\tbest: 0.9641512 (258)\ttotal: 2m 26s\tremaining: 2m 15s\n",
      "259:\tlearn: 0.9423003\ttest: 0.9641021\tbest: 0.9641021 (259)\ttotal: 2m 26s\tremaining: 2m 15s\n",
      "260:\tlearn: 0.9420151\ttest: 0.9638781\tbest: 0.9638781 (260)\ttotal: 2m 27s\tremaining: 2m 14s\n",
      "261:\tlearn: 0.9417519\ttest: 0.9637142\tbest: 0.9637142 (261)\ttotal: 2m 27s\tremaining: 2m 14s\n",
      "262:\tlearn: 0.9415933\ttest: 0.9636217\tbest: 0.9636217 (262)\ttotal: 2m 28s\tremaining: 2m 13s\n",
      "263:\tlearn: 0.9413304\ttest: 0.9634060\tbest: 0.9634060 (263)\ttotal: 2m 28s\tremaining: 2m 13s\n",
      "264:\tlearn: 0.9410765\ttest: 0.9632489\tbest: 0.9632489 (264)\ttotal: 2m 29s\tremaining: 2m 12s\n",
      "265:\tlearn: 0.9408011\ttest: 0.9630483\tbest: 0.9630483 (265)\ttotal: 2m 30s\tremaining: 2m 12s\n",
      "266:\tlearn: 0.9405375\ttest: 0.9628345\tbest: 0.9628345 (266)\ttotal: 2m 30s\tremaining: 2m 11s\n",
      "267:\tlearn: 0.9403849\ttest: 0.9627772\tbest: 0.9627772 (267)\ttotal: 2m 31s\tremaining: 2m 11s\n",
      "268:\tlearn: 0.9401307\ttest: 0.9625806\tbest: 0.9625806 (268)\ttotal: 2m 31s\tremaining: 2m 10s\n",
      "269:\tlearn: 0.9399788\ttest: 0.9625538\tbest: 0.9625538 (269)\ttotal: 2m 32s\tremaining: 2m 9s\n",
      "270:\tlearn: 0.9398291\ttest: 0.9625058\tbest: 0.9625058 (270)\ttotal: 2m 33s\tremaining: 2m 9s\n",
      "271:\tlearn: 0.9396769\ttest: 0.9624777\tbest: 0.9624777 (271)\ttotal: 2m 33s\tremaining: 2m 8s\n",
      "272:\tlearn: 0.9394372\ttest: 0.9623296\tbest: 0.9623296 (272)\ttotal: 2m 34s\tremaining: 2m 8s\n"
     ]
    },
    {
     "name": "stdout",
     "output_type": "stream",
     "text": [
      "273:\tlearn: 0.9391788\ttest: 0.9621598\tbest: 0.9621598 (273)\ttotal: 2m 35s\tremaining: 2m 7s\n",
      "274:\tlearn: 0.9390344\ttest: 0.9621122\tbest: 0.9621122 (274)\ttotal: 2m 35s\tremaining: 2m 7s\n",
      "275:\tlearn: 0.9388951\ttest: 0.9620606\tbest: 0.9620606 (275)\ttotal: 2m 36s\tremaining: 2m 6s\n",
      "276:\tlearn: 0.9387583\ttest: 0.9620116\tbest: 0.9620116 (276)\ttotal: 2m 36s\tremaining: 2m 6s\n",
      "277:\tlearn: 0.9386087\ttest: 0.9619663\tbest: 0.9619663 (277)\ttotal: 2m 37s\tremaining: 2m 5s\n",
      "278:\tlearn: 0.9384739\ttest: 0.9619034\tbest: 0.9619034 (278)\ttotal: 2m 37s\tremaining: 2m 5s\n",
      "279:\tlearn: 0.9382367\ttest: 0.9617280\tbest: 0.9617280 (279)\ttotal: 2m 38s\tremaining: 2m 4s\n",
      "280:\tlearn: 0.9380093\ttest: 0.9615882\tbest: 0.9615882 (280)\ttotal: 2m 39s\tremaining: 2m 4s\n",
      "281:\tlearn: 0.9377706\ttest: 0.9613620\tbest: 0.9613620 (281)\ttotal: 2m 39s\tremaining: 2m 3s\n",
      "282:\tlearn: 0.9376388\ttest: 0.9612848\tbest: 0.9612848 (282)\ttotal: 2m 40s\tremaining: 2m 2s\n",
      "283:\tlearn: 0.9374288\ttest: 0.9611025\tbest: 0.9611025 (283)\ttotal: 2m 40s\tremaining: 2m 2s\n",
      "284:\tlearn: 0.9372995\ttest: 0.9610639\tbest: 0.9610639 (284)\ttotal: 2m 41s\tremaining: 2m 1s\n",
      "285:\tlearn: 0.9371711\ttest: 0.9610309\tbest: 0.9610309 (285)\ttotal: 2m 42s\tremaining: 2m 1s\n",
      "286:\tlearn: 0.9370292\ttest: 0.9609241\tbest: 0.9609241 (286)\ttotal: 2m 42s\tremaining: 2m\n",
      "287:\tlearn: 0.9368043\ttest: 0.9607081\tbest: 0.9607081 (287)\ttotal: 2m 43s\tremaining: 2m\n",
      "288:\tlearn: 0.9365927\ttest: 0.9605810\tbest: 0.9605810 (288)\ttotal: 2m 43s\tremaining: 1m 59s\n",
      "289:\tlearn: 0.9364706\ttest: 0.9605033\tbest: 0.9605033 (289)\ttotal: 2m 44s\tremaining: 1m 59s\n",
      "290:\tlearn: 0.9362475\ttest: 0.9603620\tbest: 0.9603620 (290)\ttotal: 2m 45s\tremaining: 1m 58s\n",
      "291:\tlearn: 0.9361130\ttest: 0.9603241\tbest: 0.9603241 (291)\ttotal: 2m 45s\tremaining: 1m 58s\n",
      "292:\tlearn: 0.9359750\ttest: 0.9602182\tbest: 0.9602182 (292)\ttotal: 2m 46s\tremaining: 1m 57s\n",
      "293:\tlearn: 0.9358466\ttest: 0.9601842\tbest: 0.9601842 (293)\ttotal: 2m 46s\tremaining: 1m 56s\n",
      "294:\tlearn: 0.9357083\ttest: 0.9601345\tbest: 0.9601345 (294)\ttotal: 2m 47s\tremaining: 1m 56s\n",
      "295:\tlearn: 0.9355890\ttest: 0.9600946\tbest: 0.9600946 (295)\ttotal: 2m 48s\tremaining: 1m 55s\n",
      "296:\tlearn: 0.9354719\ttest: 0.9600554\tbest: 0.9600554 (296)\ttotal: 2m 48s\tremaining: 1m 55s\n",
      "297:\tlearn: 0.9352760\ttest: 0.9599450\tbest: 0.9599450 (297)\ttotal: 2m 49s\tremaining: 1m 54s\n",
      "298:\tlearn: 0.9351415\ttest: 0.9598711\tbest: 0.9598711 (298)\ttotal: 2m 49s\tremaining: 1m 54s\n",
      "299:\tlearn: 0.9349371\ttest: 0.9596804\tbest: 0.9596804 (299)\ttotal: 2m 50s\tremaining: 1m 53s\n",
      "300:\tlearn: 0.9348060\ttest: 0.9596362\tbest: 0.9596362 (300)\ttotal: 2m 51s\tremaining: 1m 53s\n",
      "301:\tlearn: 0.9346161\ttest: 0.9595265\tbest: 0.9595265 (301)\ttotal: 2m 51s\tremaining: 1m 52s\n",
      "302:\tlearn: 0.9344970\ttest: 0.9595100\tbest: 0.9595100 (302)\ttotal: 2m 52s\tremaining: 1m 51s\n",
      "303:\tlearn: 0.9343698\ttest: 0.9594707\tbest: 0.9594707 (303)\ttotal: 2m 52s\tremaining: 1m 51s\n",
      "304:\tlearn: 0.9341825\ttest: 0.9593249\tbest: 0.9593249 (304)\ttotal: 2m 53s\tremaining: 1m 50s\n",
      "305:\tlearn: 0.9340598\ttest: 0.9592476\tbest: 0.9592476 (305)\ttotal: 2m 54s\tremaining: 1m 50s\n",
      "306:\tlearn: 0.9339498\ttest: 0.9591743\tbest: 0.9591743 (306)\ttotal: 2m 54s\tremaining: 1m 49s\n",
      "307:\tlearn: 0.9338418\ttest: 0.9591404\tbest: 0.9591404 (307)\ttotal: 2m 55s\tremaining: 1m 49s\n",
      "308:\tlearn: 0.9337329\ttest: 0.9590530\tbest: 0.9590530 (308)\ttotal: 2m 55s\tremaining: 1m 48s\n",
      "309:\tlearn: 0.9336308\ttest: 0.9590103\tbest: 0.9590103 (309)\ttotal: 2m 56s\tremaining: 1m 47s\n",
      "310:\tlearn: 0.9335122\ttest: 0.9589210\tbest: 0.9589210 (310)\ttotal: 2m 56s\tremaining: 1m 47s\n",
      "311:\tlearn: 0.9334065\ttest: 0.9588828\tbest: 0.9588828 (311)\ttotal: 2m 57s\tremaining: 1m 46s\n",
      "312:\tlearn: 0.9332989\ttest: 0.9588161\tbest: 0.9588161 (312)\ttotal: 2m 57s\tremaining: 1m 46s\n",
      "313:\tlearn: 0.9331222\ttest: 0.9587178\tbest: 0.9587178 (313)\ttotal: 2m 58s\tremaining: 1m 45s\n",
      "314:\tlearn: 0.9330038\ttest: 0.9586445\tbest: 0.9586445 (314)\ttotal: 2m 59s\tremaining: 1m 45s\n",
      "315:\tlearn: 0.9328914\ttest: 0.9586249\tbest: 0.9586249 (315)\ttotal: 2m 59s\tremaining: 1m 44s\n",
      "316:\tlearn: 0.9327804\ttest: 0.9585555\tbest: 0.9585555 (316)\ttotal: 3m\tremaining: 1m 43s\n",
      "317:\tlearn: 0.9325868\ttest: 0.9584227\tbest: 0.9584227 (317)\ttotal: 3m\tremaining: 1m 43s\n",
      "318:\tlearn: 0.9324163\ttest: 0.9582937\tbest: 0.9582937 (318)\ttotal: 3m 1s\tremaining: 1m 42s\n",
      "319:\tlearn: 0.9323098\ttest: 0.9582715\tbest: 0.9582715 (319)\ttotal: 3m 1s\tremaining: 1m 42s\n",
      "320:\tlearn: 0.9322090\ttest: 0.9582441\tbest: 0.9582441 (320)\ttotal: 3m 2s\tremaining: 1m 41s\n",
      "321:\tlearn: 0.9320360\ttest: 0.9581182\tbest: 0.9581182 (321)\ttotal: 3m 3s\tremaining: 1m 41s\n",
      "322:\tlearn: 0.9319306\ttest: 0.9580396\tbest: 0.9580396 (322)\ttotal: 3m 3s\tremaining: 1m 40s\n",
      "323:\tlearn: 0.9318343\ttest: 0.9579829\tbest: 0.9579829 (323)\ttotal: 3m 4s\tremaining: 1m 40s\n",
      "324:\tlearn: 0.9317322\ttest: 0.9579748\tbest: 0.9579748 (324)\ttotal: 3m 4s\tremaining: 1m 39s\n",
      "325:\tlearn: 0.9315716\ttest: 0.9578389\tbest: 0.9578389 (325)\ttotal: 3m 5s\tremaining: 1m 38s\n",
      "326:\tlearn: 0.9314702\ttest: 0.9578261\tbest: 0.9578261 (326)\ttotal: 3m 5s\tremaining: 1m 38s\n",
      "327:\tlearn: 0.9313131\ttest: 0.9577058\tbest: 0.9577058 (327)\ttotal: 3m 6s\tremaining: 1m 37s\n",
      "328:\tlearn: 0.9312183\ttest: 0.9576804\tbest: 0.9576804 (328)\ttotal: 3m 6s\tremaining: 1m 37s\n",
      "329:\tlearn: 0.9310636\ttest: 0.9575514\tbest: 0.9575514 (329)\ttotal: 3m 7s\tremaining: 1m 36s\n",
      "330:\tlearn: 0.9309629\ttest: 0.9575442\tbest: 0.9575442 (330)\ttotal: 3m 8s\tremaining: 1m 36s\n",
      "331:\tlearn: 0.9307950\ttest: 0.9573984\tbest: 0.9573984 (331)\ttotal: 3m 8s\tremaining: 1m 35s\n",
      "332:\tlearn: 0.9307065\ttest: 0.9573622\tbest: 0.9573622 (332)\ttotal: 3m 9s\tremaining: 1m 34s\n",
      "333:\tlearn: 0.9305577\ttest: 0.9572510\tbest: 0.9572510 (333)\ttotal: 3m 9s\tremaining: 1m 34s\n",
      "334:\tlearn: 0.9304707\ttest: 0.9572297\tbest: 0.9572297 (334)\ttotal: 3m 10s\tremaining: 1m 33s\n",
      "335:\tlearn: 0.9303779\ttest: 0.9572173\tbest: 0.9572173 (335)\ttotal: 3m 10s\tremaining: 1m 33s\n",
      "336:\tlearn: 0.9302341\ttest: 0.9570937\tbest: 0.9570937 (336)\ttotal: 3m 11s\tremaining: 1m 32s\n",
      "337:\tlearn: 0.9300836\ttest: 0.9570132\tbest: 0.9570132 (337)\ttotal: 3m 12s\tremaining: 1m 32s\n",
      "338:\tlearn: 0.9299978\ttest: 0.9569841\tbest: 0.9569841 (338)\ttotal: 3m 12s\tremaining: 1m 31s\n",
      "339:\tlearn: 0.9299024\ttest: 0.9569653\tbest: 0.9569653 (339)\ttotal: 3m 13s\tremaining: 1m 30s\n",
      "340:\tlearn: 0.9297521\ttest: 0.9568568\tbest: 0.9568568 (340)\ttotal: 3m 13s\tremaining: 1m 30s\n",
      "341:\tlearn: 0.9296638\ttest: 0.9568034\tbest: 0.9568034 (341)\ttotal: 3m 14s\tremaining: 1m 29s\n",
      "342:\tlearn: 0.9295813\ttest: 0.9567346\tbest: 0.9567346 (342)\ttotal: 3m 15s\tremaining: 1m 29s\n",
      "343:\tlearn: 0.9294591\ttest: 0.9566305\tbest: 0.9566305 (343)\ttotal: 3m 15s\tremaining: 1m 28s\n",
      "344:\tlearn: 0.9293706\ttest: 0.9565802\tbest: 0.9565802 (344)\ttotal: 3m 16s\tremaining: 1m 28s\n",
      "345:\tlearn: 0.9292797\ttest: 0.9565680\tbest: 0.9565680 (345)\ttotal: 3m 16s\tremaining: 1m 27s\n",
      "346:\tlearn: 0.9291611\ttest: 0.9564669\tbest: 0.9564669 (346)\ttotal: 3m 17s\tremaining: 1m 27s\n",
      "347:\tlearn: 0.9290791\ttest: 0.9564400\tbest: 0.9564400 (347)\ttotal: 3m 17s\tremaining: 1m 26s\n",
      "348:\tlearn: 0.9290076\ttest: 0.9564109\tbest: 0.9564109 (348)\ttotal: 3m 18s\tremaining: 1m 25s\n",
      "349:\tlearn: 0.9288749\ttest: 0.9563014\tbest: 0.9563014 (349)\ttotal: 3m 18s\tremaining: 1m 25s\n",
      "350:\tlearn: 0.9287841\ttest: 0.9563059\tbest: 0.9563014 (349)\ttotal: 3m 19s\tremaining: 1m 24s\n",
      "351:\tlearn: 0.9285257\ttest: 0.9560335\tbest: 0.9560335 (351)\ttotal: 3m 20s\tremaining: 1m 24s\n",
      "352:\tlearn: 0.9283873\ttest: 0.9559649\tbest: 0.9559649 (352)\ttotal: 3m 20s\tremaining: 1m 23s\n",
      "353:\tlearn: 0.9283120\ttest: 0.9559509\tbest: 0.9559509 (353)\ttotal: 3m 21s\tremaining: 1m 23s\n",
      "354:\tlearn: 0.9281711\ttest: 0.9558715\tbest: 0.9558715 (354)\ttotal: 3m 21s\tremaining: 1m 22s\n",
      "355:\tlearn: 0.9280912\ttest: 0.9558658\tbest: 0.9558658 (355)\ttotal: 3m 22s\tremaining: 1m 21s\n",
      "356:\tlearn: 0.9280076\ttest: 0.9558157\tbest: 0.9558157 (356)\ttotal: 3m 23s\tremaining: 1m 21s\n",
      "357:\tlearn: 0.9279109\ttest: 0.9557379\tbest: 0.9557379 (357)\ttotal: 3m 23s\tremaining: 1m 20s\n",
      "358:\tlearn: 0.9278319\ttest: 0.9557061\tbest: 0.9557061 (358)\ttotal: 3m 24s\tremaining: 1m 20s\n",
      "359:\tlearn: 0.9277532\ttest: 0.9556965\tbest: 0.9556965 (359)\ttotal: 3m 24s\tremaining: 1m 19s\n",
      "360:\tlearn: 0.9276821\ttest: 0.9556905\tbest: 0.9556905 (360)\ttotal: 3m 25s\tremaining: 1m 19s\n",
      "361:\tlearn: 0.9276028\ttest: 0.9556497\tbest: 0.9556497 (361)\ttotal: 3m 25s\tremaining: 1m 18s\n",
      "362:\tlearn: 0.9273552\ttest: 0.9553878\tbest: 0.9553878 (362)\ttotal: 3m 26s\tremaining: 1m 17s\n"
     ]
    },
    {
     "name": "stdout",
     "output_type": "stream",
     "text": [
      "363:\tlearn: 0.9272766\ttest: 0.9553195\tbest: 0.9553195 (363)\ttotal: 3m 27s\tremaining: 1m 17s\n",
      "364:\tlearn: 0.9271985\ttest: 0.9552749\tbest: 0.9552749 (364)\ttotal: 3m 27s\tremaining: 1m 16s\n",
      "365:\tlearn: 0.9269569\ttest: 0.9550193\tbest: 0.9550193 (365)\ttotal: 3m 28s\tremaining: 1m 16s\n",
      "366:\tlearn: 0.9268498\ttest: 0.9549287\tbest: 0.9549287 (366)\ttotal: 3m 29s\tremaining: 1m 15s\n",
      "367:\tlearn: 0.9267767\ttest: 0.9549134\tbest: 0.9549134 (367)\ttotal: 3m 29s\tremaining: 1m 15s\n",
      "368:\tlearn: 0.9266630\ttest: 0.9548044\tbest: 0.9548044 (368)\ttotal: 3m 30s\tremaining: 1m 14s\n",
      "369:\tlearn: 0.9265890\ttest: 0.9547754\tbest: 0.9547754 (369)\ttotal: 3m 30s\tremaining: 1m 14s\n",
      "370:\tlearn: 0.9265173\ttest: 0.9547334\tbest: 0.9547334 (370)\ttotal: 3m 31s\tremaining: 1m 13s\n",
      "371:\tlearn: 0.9264435\ttest: 0.9546732\tbest: 0.9546732 (371)\ttotal: 3m 31s\tremaining: 1m 12s\n",
      "372:\tlearn: 0.9263671\ttest: 0.9546784\tbest: 0.9546732 (371)\ttotal: 3m 32s\tremaining: 1m 12s\n",
      "373:\tlearn: 0.9262934\ttest: 0.9546714\tbest: 0.9546714 (373)\ttotal: 3m 33s\tremaining: 1m 11s\n",
      "374:\tlearn: 0.9262229\ttest: 0.9546438\tbest: 0.9546438 (374)\ttotal: 3m 33s\tremaining: 1m 11s\n",
      "375:\tlearn: 0.9261534\ttest: 0.9546395\tbest: 0.9546395 (375)\ttotal: 3m 34s\tremaining: 1m 10s\n",
      "376:\tlearn: 0.9260408\ttest: 0.9545476\tbest: 0.9545476 (376)\ttotal: 3m 34s\tremaining: 1m 10s\n",
      "377:\tlearn: 0.9259655\ttest: 0.9545480\tbest: 0.9545476 (376)\ttotal: 3m 35s\tremaining: 1m 9s\n",
      "378:\tlearn: 0.9258921\ttest: 0.9545433\tbest: 0.9545433 (378)\ttotal: 3m 35s\tremaining: 1m 8s\n",
      "379:\tlearn: 0.9257938\ttest: 0.9545022\tbest: 0.9545022 (379)\ttotal: 3m 36s\tremaining: 1m 8s\n",
      "380:\tlearn: 0.9257342\ttest: 0.9544484\tbest: 0.9544484 (380)\ttotal: 3m 37s\tremaining: 1m 7s\n",
      "381:\tlearn: 0.9256589\ttest: 0.9544366\tbest: 0.9544366 (381)\ttotal: 3m 37s\tremaining: 1m 7s\n",
      "382:\tlearn: 0.9255918\ttest: 0.9543993\tbest: 0.9543993 (382)\ttotal: 3m 38s\tremaining: 1m 6s\n",
      "383:\tlearn: 0.9255234\ttest: 0.9543378\tbest: 0.9543378 (383)\ttotal: 3m 38s\tremaining: 1m 6s\n",
      "384:\tlearn: 0.9252943\ttest: 0.9540944\tbest: 0.9540944 (384)\ttotal: 3m 39s\tremaining: 1m 5s\n",
      "385:\tlearn: 0.9252271\ttest: 0.9540533\tbest: 0.9540533 (385)\ttotal: 3m 39s\tremaining: 1m 4s\n",
      "386:\tlearn: 0.9250030\ttest: 0.9538152\tbest: 0.9538152 (386)\ttotal: 3m 40s\tremaining: 1m 4s\n",
      "387:\tlearn: 0.9249312\ttest: 0.9537603\tbest: 0.9537603 (387)\ttotal: 3m 41s\tremaining: 1m 3s\n",
      "388:\tlearn: 0.9248353\ttest: 0.9536795\tbest: 0.9536795 (388)\ttotal: 3m 41s\tremaining: 1m 3s\n",
      "389:\tlearn: 0.9247735\ttest: 0.9536661\tbest: 0.9536661 (389)\ttotal: 3m 42s\tremaining: 1m 2s\n",
      "390:\tlearn: 0.9247089\ttest: 0.9536470\tbest: 0.9536470 (390)\ttotal: 3m 42s\tremaining: 1m 2s\n",
      "391:\tlearn: 0.9246375\ttest: 0.9536391\tbest: 0.9536391 (391)\ttotal: 3m 43s\tremaining: 1m 1s\n",
      "392:\tlearn: 0.9245771\ttest: 0.9535856\tbest: 0.9535856 (392)\ttotal: 3m 43s\tremaining: 1m\n",
      "393:\tlearn: 0.9245190\ttest: 0.9535700\tbest: 0.9535700 (393)\ttotal: 3m 44s\tremaining: 1m\n",
      "394:\tlearn: 0.9243016\ttest: 0.9533389\tbest: 0.9533389 (394)\ttotal: 3m 44s\tremaining: 59.8s\n",
      "395:\tlearn: 0.9242380\ttest: 0.9533376\tbest: 0.9533376 (395)\ttotal: 3m 45s\tremaining: 59.2s\n",
      "396:\tlearn: 0.9241771\ttest: 0.9533008\tbest: 0.9533008 (396)\ttotal: 3m 46s\tremaining: 58.6s\n",
      "397:\tlearn: 0.9241088\ttest: 0.9533108\tbest: 0.9533008 (396)\ttotal: 3m 46s\tremaining: 58.1s\n",
      "398:\tlearn: 0.9240478\ttest: 0.9532939\tbest: 0.9532939 (398)\ttotal: 3m 47s\tremaining: 57.5s\n",
      "399:\tlearn: 0.9239870\ttest: 0.9532993\tbest: 0.9532939 (398)\ttotal: 3m 47s\tremaining: 56.9s\n",
      "400:\tlearn: 0.9239275\ttest: 0.9532643\tbest: 0.9532643 (400)\ttotal: 3m 48s\tremaining: 56.4s\n",
      "401:\tlearn: 0.9238670\ttest: 0.9532205\tbest: 0.9532205 (401)\ttotal: 3m 48s\tremaining: 55.8s\n",
      "402:\tlearn: 0.9236557\ttest: 0.9529954\tbest: 0.9529954 (402)\ttotal: 3m 49s\tremaining: 55.2s\n",
      "403:\tlearn: 0.9235384\ttest: 0.9529170\tbest: 0.9529170 (403)\ttotal: 3m 50s\tremaining: 54.7s\n",
      "404:\tlearn: 0.9234790\ttest: 0.9529262\tbest: 0.9529170 (403)\ttotal: 3m 50s\tremaining: 54.2s\n",
      "405:\tlearn: 0.9234159\ttest: 0.9529544\tbest: 0.9529170 (403)\ttotal: 3m 51s\tremaining: 53.6s\n",
      "406:\tlearn: 0.9233559\ttest: 0.9529220\tbest: 0.9529170 (403)\ttotal: 3m 52s\tremaining: 53s\n",
      "407:\tlearn: 0.9232494\ttest: 0.9528167\tbest: 0.9528167 (407)\ttotal: 3m 52s\tremaining: 52.5s\n",
      "408:\tlearn: 0.9231794\ttest: 0.9527622\tbest: 0.9527622 (408)\ttotal: 3m 53s\tremaining: 51.9s\n",
      "409:\tlearn: 0.9231148\ttest: 0.9527882\tbest: 0.9527622 (408)\ttotal: 3m 53s\tremaining: 51.3s\n",
      "410:\tlearn: 0.9230274\ttest: 0.9527120\tbest: 0.9527120 (410)\ttotal: 3m 54s\tremaining: 50.8s\n",
      "411:\tlearn: 0.9229340\ttest: 0.9526767\tbest: 0.9526767 (411)\ttotal: 3m 54s\tremaining: 50.2s\n",
      "412:\tlearn: 0.9228811\ttest: 0.9526676\tbest: 0.9526676 (412)\ttotal: 3m 55s\tremaining: 49.6s\n",
      "413:\tlearn: 0.9228080\ttest: 0.9526367\tbest: 0.9526367 (413)\ttotal: 3m 56s\tremaining: 49s\n",
      "414:\tlearn: 0.9227518\ttest: 0.9526057\tbest: 0.9526057 (414)\ttotal: 3m 56s\tremaining: 48.5s\n",
      "415:\tlearn: 0.9226952\ttest: 0.9525657\tbest: 0.9525657 (415)\ttotal: 3m 57s\tremaining: 47.9s\n",
      "416:\tlearn: 0.9226431\ttest: 0.9525593\tbest: 0.9525593 (416)\ttotal: 3m 57s\tremaining: 47.3s\n",
      "417:\tlearn: 0.9225342\ttest: 0.9524868\tbest: 0.9524868 (417)\ttotal: 3m 58s\tremaining: 46.8s\n",
      "418:\tlearn: 0.9224705\ttest: 0.9525090\tbest: 0.9524868 (417)\ttotal: 3m 59s\tremaining: 46.2s\n",
      "419:\tlearn: 0.9223868\ttest: 0.9524254\tbest: 0.9524254 (419)\ttotal: 3m 59s\tremaining: 45.7s\n",
      "420:\tlearn: 0.9223343\ttest: 0.9523749\tbest: 0.9523749 (420)\ttotal: 4m\tremaining: 45.1s\n",
      "421:\tlearn: 0.9221356\ttest: 0.9521618\tbest: 0.9521618 (421)\ttotal: 4m\tremaining: 44.5s\n",
      "422:\tlearn: 0.9220547\ttest: 0.9520777\tbest: 0.9520777 (422)\ttotal: 4m 1s\tremaining: 44s\n",
      "423:\tlearn: 0.9219774\ttest: 0.9519954\tbest: 0.9519954 (423)\ttotal: 4m 2s\tremaining: 43.4s\n",
      "424:\tlearn: 0.9219236\ttest: 0.9519783\tbest: 0.9519783 (424)\ttotal: 4m 2s\tremaining: 42.8s\n",
      "425:\tlearn: 0.9218726\ttest: 0.9519822\tbest: 0.9519783 (424)\ttotal: 4m 3s\tremaining: 42.3s\n",
      "426:\tlearn: 0.9218229\ttest: 0.9519649\tbest: 0.9519649 (426)\ttotal: 4m 3s\tremaining: 41.7s\n",
      "427:\tlearn: 0.9217189\ttest: 0.9518964\tbest: 0.9518964 (427)\ttotal: 4m 4s\tremaining: 41.1s\n",
      "428:\tlearn: 0.9216650\ttest: 0.9518887\tbest: 0.9518887 (428)\ttotal: 4m 5s\tremaining: 40.6s\n",
      "429:\tlearn: 0.9216122\ttest: 0.9518816\tbest: 0.9518816 (429)\ttotal: 4m 5s\tremaining: 40s\n",
      "430:\tlearn: 0.9215535\ttest: 0.9518868\tbest: 0.9518816 (429)\ttotal: 4m 6s\tremaining: 39.4s\n",
      "431:\tlearn: 0.9213615\ttest: 0.9516805\tbest: 0.9516805 (431)\ttotal: 4m 6s\tremaining: 38.9s\n",
      "432:\tlearn: 0.9212625\ttest: 0.9516148\tbest: 0.9516148 (432)\ttotal: 4m 7s\tremaining: 38.3s\n",
      "433:\tlearn: 0.9211207\ttest: 0.9515241\tbest: 0.9515241 (433)\ttotal: 4m 8s\tremaining: 37.7s\n",
      "434:\tlearn: 0.9210643\ttest: 0.9514946\tbest: 0.9514946 (434)\ttotal: 4m 8s\tremaining: 37.2s\n",
      "435:\tlearn: 0.9208784\ttest: 0.9512943\tbest: 0.9512943 (435)\ttotal: 4m 9s\tremaining: 36.6s\n",
      "436:\tlearn: 0.9208059\ttest: 0.9512558\tbest: 0.9512558 (436)\ttotal: 4m 9s\tremaining: 36s\n",
      "437:\tlearn: 0.9207499\ttest: 0.9512032\tbest: 0.9512032 (437)\ttotal: 4m 10s\tremaining: 35.4s\n",
      "438:\tlearn: 0.9206915\ttest: 0.9512075\tbest: 0.9512032 (437)\ttotal: 4m 10s\tremaining: 34.9s\n",
      "439:\tlearn: 0.9206344\ttest: 0.9512317\tbest: 0.9512032 (437)\ttotal: 4m 11s\tremaining: 34.3s\n",
      "440:\tlearn: 0.9205866\ttest: 0.9511973\tbest: 0.9511973 (440)\ttotal: 4m 12s\tremaining: 33.7s\n",
      "441:\tlearn: 0.9205383\ttest: 0.9511669\tbest: 0.9511669 (441)\ttotal: 4m 12s\tremaining: 33.2s\n",
      "442:\tlearn: 0.9204649\ttest: 0.9511022\tbest: 0.9511022 (442)\ttotal: 4m 13s\tremaining: 32.6s\n",
      "443:\tlearn: 0.9204206\ttest: 0.9510514\tbest: 0.9510514 (443)\ttotal: 4m 13s\tremaining: 32s\n",
      "444:\tlearn: 0.9203499\ttest: 0.9509940\tbest: 0.9509940 (444)\ttotal: 4m 14s\tremaining: 31.4s\n",
      "445:\tlearn: 0.9202962\ttest: 0.9509472\tbest: 0.9509472 (445)\ttotal: 4m 14s\tremaining: 30.9s\n",
      "446:\tlearn: 0.9202503\ttest: 0.9509507\tbest: 0.9509472 (445)\ttotal: 4m 15s\tremaining: 30.3s\n",
      "447:\tlearn: 0.9202034\ttest: 0.9509382\tbest: 0.9509382 (447)\ttotal: 4m 16s\tremaining: 29.7s\n",
      "448:\tlearn: 0.9201113\ttest: 0.9508762\tbest: 0.9508762 (448)\ttotal: 4m 16s\tremaining: 29.2s\n",
      "449:\tlearn: 0.9200190\ttest: 0.9508163\tbest: 0.9508163 (449)\ttotal: 4m 17s\tremaining: 28.6s\n",
      "450:\tlearn: 0.9199614\ttest: 0.9507947\tbest: 0.9507947 (450)\ttotal: 4m 18s\tremaining: 28s\n",
      "451:\tlearn: 0.9198979\ttest: 0.9507498\tbest: 0.9507498 (451)\ttotal: 4m 18s\tremaining: 27.5s\n",
      "452:\tlearn: 0.9198165\ttest: 0.9506733\tbest: 0.9506733 (452)\ttotal: 4m 19s\tremaining: 26.9s\n",
      "453:\tlearn: 0.9197729\ttest: 0.9506719\tbest: 0.9506719 (453)\ttotal: 4m 19s\tremaining: 26.3s\n"
     ]
    },
    {
     "name": "stdout",
     "output_type": "stream",
     "text": [
      "454:\tlearn: 0.9197261\ttest: 0.9506862\tbest: 0.9506719 (453)\ttotal: 4m 20s\tremaining: 25.7s\n",
      "455:\tlearn: 0.9196814\ttest: 0.9506756\tbest: 0.9506719 (453)\ttotal: 4m 20s\tremaining: 25.2s\n",
      "456:\tlearn: 0.9196388\ttest: 0.9506265\tbest: 0.9506265 (456)\ttotal: 4m 21s\tremaining: 24.6s\n",
      "457:\tlearn: 0.9196004\ttest: 0.9506356\tbest: 0.9506265 (456)\ttotal: 4m 21s\tremaining: 24s\n",
      "458:\tlearn: 0.9195556\ttest: 0.9506261\tbest: 0.9506261 (458)\ttotal: 4m 22s\tremaining: 23.4s\n",
      "459:\tlearn: 0.9195144\ttest: 0.9505933\tbest: 0.9505933 (459)\ttotal: 4m 22s\tremaining: 22.9s\n",
      "460:\tlearn: 0.9194681\ttest: 0.9505882\tbest: 0.9505882 (460)\ttotal: 4m 23s\tremaining: 22.3s\n",
      "461:\tlearn: 0.9193905\ttest: 0.9505585\tbest: 0.9505585 (461)\ttotal: 4m 24s\tremaining: 21.7s\n",
      "462:\tlearn: 0.9193447\ttest: 0.9505480\tbest: 0.9505480 (462)\ttotal: 4m 24s\tremaining: 21.1s\n",
      "463:\tlearn: 0.9193056\ttest: 0.9505395\tbest: 0.9505395 (463)\ttotal: 4m 25s\tremaining: 20.6s\n",
      "464:\tlearn: 0.9192627\ttest: 0.9505276\tbest: 0.9505276 (464)\ttotal: 4m 25s\tremaining: 20s\n",
      "465:\tlearn: 0.9192256\ttest: 0.9505189\tbest: 0.9505189 (465)\ttotal: 4m 26s\tremaining: 19.4s\n",
      "466:\tlearn: 0.9191843\ttest: 0.9504880\tbest: 0.9504880 (466)\ttotal: 4m 26s\tremaining: 18.9s\n",
      "467:\tlearn: 0.9191407\ttest: 0.9505015\tbest: 0.9504880 (466)\ttotal: 4m 27s\tremaining: 18.3s\n",
      "468:\tlearn: 0.9190995\ttest: 0.9504748\tbest: 0.9504748 (468)\ttotal: 4m 27s\tremaining: 17.7s\n",
      "469:\tlearn: 0.9190635\ttest: 0.9504486\tbest: 0.9504486 (469)\ttotal: 4m 28s\tremaining: 17.1s\n",
      "470:\tlearn: 0.9188869\ttest: 0.9502568\tbest: 0.9502568 (470)\ttotal: 4m 29s\tremaining: 16.6s\n",
      "471:\tlearn: 0.9188460\ttest: 0.9502478\tbest: 0.9502478 (471)\ttotal: 4m 29s\tremaining: 16s\n",
      "472:\tlearn: 0.9188076\ttest: 0.9502387\tbest: 0.9502387 (472)\ttotal: 4m 30s\tremaining: 15.4s\n",
      "473:\tlearn: 0.9187540\ttest: 0.9502189\tbest: 0.9502189 (473)\ttotal: 4m 30s\tremaining: 14.9s\n",
      "474:\tlearn: 0.9187040\ttest: 0.9502339\tbest: 0.9502189 (473)\ttotal: 4m 31s\tremaining: 14.3s\n",
      "475:\tlearn: 0.9184656\ttest: 0.9500364\tbest: 0.9500364 (475)\ttotal: 4m 31s\tremaining: 13.7s\n",
      "476:\tlearn: 0.9184196\ttest: 0.9500645\tbest: 0.9500364 (475)\ttotal: 4m 32s\tremaining: 13.1s\n",
      "477:\tlearn: 0.9183471\ttest: 0.9499364\tbest: 0.9499364 (477)\ttotal: 4m 33s\tremaining: 12.6s\n",
      "478:\tlearn: 0.9182701\ttest: 0.9498624\tbest: 0.9498624 (478)\ttotal: 4m 33s\tremaining: 12s\n",
      "479:\tlearn: 0.9182327\ttest: 0.9498185\tbest: 0.9498185 (479)\ttotal: 4m 34s\tremaining: 11.4s\n",
      "480:\tlearn: 0.9181346\ttest: 0.9497620\tbest: 0.9497620 (480)\ttotal: 4m 34s\tremaining: 10.9s\n",
      "481:\tlearn: 0.9180985\ttest: 0.9497412\tbest: 0.9497412 (481)\ttotal: 4m 35s\tremaining: 10.3s\n",
      "482:\tlearn: 0.9180564\ttest: 0.9497206\tbest: 0.9497206 (482)\ttotal: 4m 35s\tremaining: 9.71s\n",
      "483:\tlearn: 0.9178893\ttest: 0.9495370\tbest: 0.9495370 (483)\ttotal: 4m 36s\tremaining: 9.14s\n",
      "484:\tlearn: 0.9178509\ttest: 0.9495110\tbest: 0.9495110 (484)\ttotal: 4m 37s\tremaining: 8.57s\n",
      "485:\tlearn: 0.9178132\ttest: 0.9494881\tbest: 0.9494881 (485)\ttotal: 4m 37s\tremaining: 8s\n",
      "486:\tlearn: 0.9176811\ttest: 0.9494172\tbest: 0.9494172 (486)\ttotal: 4m 38s\tremaining: 7.43s\n",
      "487:\tlearn: 0.9176413\ttest: 0.9493969\tbest: 0.9493969 (487)\ttotal: 4m 38s\tremaining: 6.86s\n",
      "488:\tlearn: 0.9176062\ttest: 0.9494026\tbest: 0.9493969 (487)\ttotal: 4m 39s\tremaining: 6.29s\n",
      "489:\tlearn: 0.9175654\ttest: 0.9493989\tbest: 0.9493969 (487)\ttotal: 4m 40s\tremaining: 5.71s\n",
      "490:\tlearn: 0.9175250\ttest: 0.9494069\tbest: 0.9493969 (487)\ttotal: 4m 40s\tremaining: 5.14s\n",
      "491:\tlearn: 0.9174798\ttest: 0.9493964\tbest: 0.9493964 (491)\ttotal: 4m 41s\tremaining: 4.57s\n",
      "492:\tlearn: 0.9172536\ttest: 0.9492092\tbest: 0.9492092 (492)\ttotal: 4m 41s\tremaining: 4s\n",
      "493:\tlearn: 0.9172138\ttest: 0.9492256\tbest: 0.9492092 (492)\ttotal: 4m 42s\tremaining: 3.43s\n",
      "494:\tlearn: 0.9171678\ttest: 0.9492048\tbest: 0.9492048 (494)\ttotal: 4m 42s\tremaining: 2.86s\n",
      "495:\tlearn: 0.9170087\ttest: 0.9490287\tbest: 0.9490287 (495)\ttotal: 4m 43s\tremaining: 2.29s\n",
      "496:\tlearn: 0.9169643\ttest: 0.9490078\tbest: 0.9490078 (496)\ttotal: 4m 44s\tremaining: 1.72s\n",
      "497:\tlearn: 0.9169190\ttest: 0.9489975\tbest: 0.9489975 (497)\ttotal: 4m 44s\tremaining: 1.14s\n",
      "498:\tlearn: 0.9168441\ttest: 0.9489482\tbest: 0.9489482 (498)\ttotal: 4m 45s\tremaining: 572ms\n",
      "499:\tlearn: 0.9167177\ttest: 0.9488816\tbest: 0.9488816 (499)\ttotal: 4m 46s\tremaining: 0us\n",
      "\n",
      "bestTest = 0.9488815642\n",
      "bestIteration = 499\n",
      "\n"
     ]
    },
    {
     "data": {
      "text/plain": [
       "311.11573338508606"
      ]
     },
     "execution_count": 14,
     "metadata": {},
     "output_type": "execute_result"
    }
   ],
   "source": [
    "ts = time.time()\n",
    "\n",
    "catboost_model = CatBoostRegressor(\n",
    "    iterations=500,\n",
    "    max_ctr_complexity=4,\n",
    "    random_seed=0,\n",
    "    od_type='Iter',\n",
    "    od_wait=25,\n",
    "    verbose=50,\n",
    "    depth=4,\n",
    "    learning_rate=0.01,\n",
    "#     task_type=\"GPU\"\n",
    ")\n",
    "\n",
    "catboost_model.fit(\n",
    "    X_train, Y_train,\n",
    "    eval_set=(X_valid, Y_valid),\n",
    "    verbose=True,\n",
    "    early_stopping_rounds = 20\n",
    ")\n",
    "cat_pred = catboost_model.predict(X_valid).clip(0, 20)\n",
    "cat_test = catboost_model.predict(X_test).clip(0, 20)\n",
    "time.time() - ts"
   ]
  },
  {
   "cell_type": "code",
   "execution_count": 15,
   "metadata": {
    "ExecuteTime": {
     "end_time": "2020-08-28T03:10:13.671118Z",
     "start_time": "2020-08-28T03:10:13.666703Z"
    }
   },
   "outputs": [],
   "source": [
    "messages = 'earlystopping20'\n",
    "pickle.dump(cat_pred, open(reg_2_dir+'cat_pred_{}.pickle'.format(messages), 'wb'))\n",
    "pickle.dump(cat_test, open(reg_2_dir+'cat_test_{}.pickle'.format(messages), 'wb'))"
   ]
  },
  {
   "cell_type": "markdown",
   "metadata": {},
   "source": [
    "## catboost 포함해서 ensemble\n"
   ]
  },
  {
   "cell_type": "code",
   "execution_count": 23,
   "metadata": {
    "ExecuteTime": {
     "end_time": "2020-08-28T03:23:10.905356Z",
     "start_time": "2020-08-28T03:23:10.523715Z"
    }
   },
   "outputs": [
    {
     "name": "stdout",
     "output_type": "stream",
     "text": [
      "[0.03625984 0.09025607 0.18986244 ... 0.1683895  0.02767883 0.11056286]\n",
      "[0.55202235 0.44132098 0.89094201 ... 0.0569084  0.04194038 0.05826308]\n"
     ]
    }
   ],
   "source": [
    "messages = 'earlystopping20'\n",
    "# reg_2_dir = './practice_reg_2_results/'\n",
    "xgb_pred = pd.read_pickle(reg_2_dir+'xgb_pred_{}.pickle'.format(messages))\n",
    "xgb_test = pd.read_pickle(reg_2_dir+'xgb_test_{}.pickle'.format(messages))\n",
    "lgbm_pred = pd.read_pickle(reg_2_dir+'lgbm_pred_earlystopping20 .pickle')\n",
    "# lgbm_pred = pd.read_pickle(reg_2_dir+'lgbm_pred_{}.pickle'.format(messages))\n",
    "lgbm_test = pd.read_pickle(reg_2_dir+'lgbm_test_{}.pickle'.format(messages))\n",
    "cat_pred = pd.read_pickle(reg_2_dir+'cat_pred_{}.pickle'.format(messages))\n",
    "cat_test = pd.read_pickle(reg_2_dir+'cat_test_{}.pickle'.format(messages))\n",
    "\n",
    "preds = [xgb_pred,lgbm_pred,cat_pred]\n",
    "tests = [xgb_test,lgbm_test,cat_test]\n",
    "Y_pred = AveragingBlending(preds).clip(0, 20)\n",
    "Y_test = AveragingBlending(tests).clip(0, 20)\n",
    "print(Y_pred)\n",
    "print(Y_test)\n",
    "messages = 'average_earlystopping20'\n",
    "submission_for_ensemble('xgb,lgbm,cat',messages,Y_test)"
   ]
  },
  {
   "cell_type": "markdown",
   "metadata": {},
   "source": [
    "세 개 합치면 더 결과 안좋음   \n",
    "0.90565(public)"
   ]
  },
  {
   "cell_type": "markdown",
   "metadata": {},
   "source": [
    "## 가장 잘 나온 결과에 다른거 섞어보기"
   ]
  },
  {
   "cell_type": "code",
   "execution_count": 30,
   "metadata": {
    "ExecuteTime": {
     "end_time": "2020-08-28T04:44:43.371649Z",
     "start_time": "2020-08-28T04:44:43.336622Z"
    }
   },
   "outputs": [],
   "source": [
    "df_1 = pd.read_csv('../merona_finali_submission_except_lasso_catboost.csv')"
   ]
  },
  {
   "cell_type": "code",
   "execution_count": 31,
   "metadata": {
    "ExecuteTime": {
     "end_time": "2020-08-28T04:44:43.858798Z",
     "start_time": "2020-08-28T04:44:43.852594Z"
    }
   },
   "outputs": [
    {
     "data": {
      "text/html": [
       "<div>\n",
       "<style scoped>\n",
       "    .dataframe tbody tr th:only-of-type {\n",
       "        vertical-align: middle;\n",
       "    }\n",
       "\n",
       "    .dataframe tbody tr th {\n",
       "        vertical-align: top;\n",
       "    }\n",
       "\n",
       "    .dataframe thead th {\n",
       "        text-align: right;\n",
       "    }\n",
       "</style>\n",
       "<table border=\"1\" class=\"dataframe\">\n",
       "  <thead>\n",
       "    <tr style=\"text-align: right;\">\n",
       "      <th></th>\n",
       "      <th>ID</th>\n",
       "      <th>item_cnt_month</th>\n",
       "    </tr>\n",
       "  </thead>\n",
       "  <tbody>\n",
       "    <tr>\n",
       "      <th>0</th>\n",
       "      <td>0</td>\n",
       "      <td>0.432677</td>\n",
       "    </tr>\n",
       "    <tr>\n",
       "      <th>1</th>\n",
       "      <td>1</td>\n",
       "      <td>0.451283</td>\n",
       "    </tr>\n",
       "    <tr>\n",
       "      <th>2</th>\n",
       "      <td>2</td>\n",
       "      <td>0.948708</td>\n",
       "    </tr>\n",
       "    <tr>\n",
       "      <th>3</th>\n",
       "      <td>3</td>\n",
       "      <td>0.437356</td>\n",
       "    </tr>\n",
       "    <tr>\n",
       "      <th>4</th>\n",
       "      <td>4</td>\n",
       "      <td>3.416811</td>\n",
       "    </tr>\n",
       "  </tbody>\n",
       "</table>\n",
       "</div>"
      ],
      "text/plain": [
       "   ID  item_cnt_month\n",
       "0   0        0.432677\n",
       "1   1        0.451283\n",
       "2   2        0.948708\n",
       "3   3        0.437356\n",
       "4   4        3.416811"
      ]
     },
     "execution_count": 31,
     "metadata": {},
     "output_type": "execute_result"
    }
   ],
   "source": [
    "df_1.head(5)"
   ]
  },
  {
   "cell_type": "code",
   "execution_count": 32,
   "metadata": {
    "ExecuteTime": {
     "end_time": "2020-08-28T04:44:45.681472Z",
     "start_time": "2020-08-28T04:44:45.655648Z"
    }
   },
   "outputs": [],
   "source": [
    "# 성민님 결과\n",
    "df_2 = pd.read_csv(reg_2_dir+'xgb_submission_0.890757_0.1_20.csv')"
   ]
  },
  {
   "cell_type": "code",
   "execution_count": 33,
   "metadata": {
    "ExecuteTime": {
     "end_time": "2020-08-28T04:44:45.998421Z",
     "start_time": "2020-08-28T04:44:45.993964Z"
    }
   },
   "outputs": [
    {
     "data": {
      "text/html": [
       "<div>\n",
       "<style scoped>\n",
       "    .dataframe tbody tr th:only-of-type {\n",
       "        vertical-align: middle;\n",
       "    }\n",
       "\n",
       "    .dataframe tbody tr th {\n",
       "        vertical-align: top;\n",
       "    }\n",
       "\n",
       "    .dataframe thead th {\n",
       "        text-align: right;\n",
       "    }\n",
       "</style>\n",
       "<table border=\"1\" class=\"dataframe\">\n",
       "  <thead>\n",
       "    <tr style=\"text-align: right;\">\n",
       "      <th></th>\n",
       "      <th>ID</th>\n",
       "      <th>item_cnt_month</th>\n",
       "    </tr>\n",
       "  </thead>\n",
       "  <tbody>\n",
       "    <tr>\n",
       "      <th>0</th>\n",
       "      <td>0</td>\n",
       "      <td>0.114633</td>\n",
       "    </tr>\n",
       "    <tr>\n",
       "      <th>1</th>\n",
       "      <td>1</td>\n",
       "      <td>0.498889</td>\n",
       "    </tr>\n",
       "    <tr>\n",
       "      <th>2</th>\n",
       "      <td>2</td>\n",
       "      <td>0.832151</td>\n",
       "    </tr>\n",
       "    <tr>\n",
       "      <th>3</th>\n",
       "      <td>3</td>\n",
       "      <td>0.509971</td>\n",
       "    </tr>\n",
       "    <tr>\n",
       "      <th>4</th>\n",
       "      <td>4</td>\n",
       "      <td>5.447194</td>\n",
       "    </tr>\n",
       "  </tbody>\n",
       "</table>\n",
       "</div>"
      ],
      "text/plain": [
       "   ID  item_cnt_month\n",
       "0   0        0.114633\n",
       "1   1        0.498889\n",
       "2   2        0.832151\n",
       "3   3        0.509971\n",
       "4   4        5.447194"
      ]
     },
     "execution_count": 33,
     "metadata": {},
     "output_type": "execute_result"
    }
   ],
   "source": [
    "df_2.head(5)"
   ]
  },
  {
   "cell_type": "code",
   "execution_count": 29,
   "metadata": {
    "ExecuteTime": {
     "end_time": "2020-08-28T04:44:26.627741Z",
     "start_time": "2020-08-28T04:44:26.625821Z"
    }
   },
   "outputs": [],
   "source": [
    "x1=0.9;"
   ]
  },
  {
   "cell_type": "code",
   "execution_count": 39,
   "metadata": {
    "ExecuteTime": {
     "end_time": "2020-08-28T04:47:14.586248Z",
     "start_time": "2020-08-28T04:47:14.219389Z"
    }
   },
   "outputs": [],
   "source": [
    "dfX = df_1.copy()\n",
    "k = 'item_cnt_month'\n",
    "dfX[k] = x1*df_1[k] + (1.0-x1)*df_2[k]\n",
    "dfX.to_csv(reg_2_dir+'merona_finali_submission_except_lasso_catboost_with_sm_xgb.csv'.format(x1), index=False)"
   ]
  },
  {
   "cell_type": "code",
   "execution_count": 40,
   "metadata": {
    "ExecuteTime": {
     "end_time": "2020-08-28T04:47:17.320290Z",
     "start_time": "2020-08-28T04:47:17.286707Z"
    }
   },
   "outputs": [],
   "source": [
    "sub = pd.read_csv(reg_2_dir+'merona_finali_submission_except_lasso_catboost_with_sm_xgb.csv')"
   ]
  },
  {
   "cell_type": "code",
   "execution_count": 41,
   "metadata": {
    "ExecuteTime": {
     "end_time": "2020-08-28T04:47:17.796868Z",
     "start_time": "2020-08-28T04:47:17.790683Z"
    }
   },
   "outputs": [
    {
     "data": {
      "text/html": [
       "<div>\n",
       "<style scoped>\n",
       "    .dataframe tbody tr th:only-of-type {\n",
       "        vertical-align: middle;\n",
       "    }\n",
       "\n",
       "    .dataframe tbody tr th {\n",
       "        vertical-align: top;\n",
       "    }\n",
       "\n",
       "    .dataframe thead th {\n",
       "        text-align: right;\n",
       "    }\n",
       "</style>\n",
       "<table border=\"1\" class=\"dataframe\">\n",
       "  <thead>\n",
       "    <tr style=\"text-align: right;\">\n",
       "      <th></th>\n",
       "      <th>ID</th>\n",
       "      <th>item_cnt_month</th>\n",
       "    </tr>\n",
       "  </thead>\n",
       "  <tbody>\n",
       "    <tr>\n",
       "      <th>0</th>\n",
       "      <td>0</td>\n",
       "      <td>0.400872</td>\n",
       "    </tr>\n",
       "    <tr>\n",
       "      <th>1</th>\n",
       "      <td>1</td>\n",
       "      <td>0.456044</td>\n",
       "    </tr>\n",
       "    <tr>\n",
       "      <th>2</th>\n",
       "      <td>2</td>\n",
       "      <td>0.937052</td>\n",
       "    </tr>\n",
       "    <tr>\n",
       "      <th>3</th>\n",
       "      <td>3</td>\n",
       "      <td>0.444618</td>\n",
       "    </tr>\n",
       "    <tr>\n",
       "      <th>4</th>\n",
       "      <td>4</td>\n",
       "      <td>3.619849</td>\n",
       "    </tr>\n",
       "  </tbody>\n",
       "</table>\n",
       "</div>"
      ],
      "text/plain": [
       "   ID  item_cnt_month\n",
       "0   0        0.400872\n",
       "1   1        0.456044\n",
       "2   2        0.937052\n",
       "3   3        0.444618\n",
       "4   4        3.619849"
      ]
     },
     "execution_count": 41,
     "metadata": {},
     "output_type": "execute_result"
    }
   ],
   "source": [
    "sub.head(5)"
   ]
  },
  {
   "cell_type": "markdown",
   "metadata": {},
   "source": [
    "0.88140 제일 좋음"
   ]
  },
  {
   "cell_type": "code",
   "execution_count": 43,
   "metadata": {
    "ExecuteTime": {
     "end_time": "2020-08-28T04:52:24.076494Z",
     "start_time": "2020-08-28T04:52:24.071850Z"
    }
   },
   "outputs": [],
   "source": [
    "# 지원님 cnn\n",
    "# reg_2_dir = './practice_reg_2_results/'\n",
    "cnn_lstm_pred = pd.read_pickle(reg_2_dir+'cnn_lstm_pred.pickle')\n",
    "cnn_lstm_test = pd.read_pickle(reg_2_dir+'cnn_lstm_test.pickle')\n",
    "cnn_pred = pd.read_pickle(reg_2_dir+'cnn_pred.pickle')\n",
    "cnn_test = pd.read_pickle(reg_2_dir+'cnn_test.pickle')"
   ]
  },
  {
   "cell_type": "code",
   "execution_count": 44,
   "metadata": {
    "ExecuteTime": {
     "end_time": "2020-08-28T04:52:52.678733Z",
     "start_time": "2020-08-28T04:52:52.377997Z"
    }
   },
   "outputs": [
    {
     "name": "stdout",
     "output_type": "stream",
     "text": [
      "[0.07505305 0.10127961 0.20265827 ... 0.20329365 0.05089208 0.15695858]\n",
      "[0.65085363 0.72445685 1.0896826  ... 0.10518481 0.0703187  0.08585288]\n"
     ]
    }
   ],
   "source": [
    "preds = [cnn_lstm_pred,cnn_pred]\n",
    "tests = [cnn_lstm_test,cnn_test]\n",
    "Y_pred = AveragingBlending(preds).clip(0, 20)\n",
    "Y_test = AveragingBlending(tests).clip(0, 20)\n",
    "print(Y_pred)\n",
    "print(Y_test)\n",
    "submission_for_ensemble('cnn,cnn_lstm','',Y_test)"
   ]
  },
  {
   "cell_type": "code",
   "execution_count": 45,
   "metadata": {
    "ExecuteTime": {
     "end_time": "2020-08-28T04:54:11.047536Z",
     "start_time": "2020-08-28T04:54:11.024524Z"
    }
   },
   "outputs": [],
   "source": [
    "# 지원님 결과\n",
    "df_3 = pd.read_csv(reg_2_dir+'ensemble_reg_2_cnn,cnn_lstm__submission.csv')"
   ]
  },
  {
   "cell_type": "code",
   "execution_count": 46,
   "metadata": {
    "ExecuteTime": {
     "end_time": "2020-08-28T04:54:14.941496Z",
     "start_time": "2020-08-28T04:54:14.936491Z"
    }
   },
   "outputs": [
    {
     "data": {
      "text/html": [
       "<div>\n",
       "<style scoped>\n",
       "    .dataframe tbody tr th:only-of-type {\n",
       "        vertical-align: middle;\n",
       "    }\n",
       "\n",
       "    .dataframe tbody tr th {\n",
       "        vertical-align: top;\n",
       "    }\n",
       "\n",
       "    .dataframe thead th {\n",
       "        text-align: right;\n",
       "    }\n",
       "</style>\n",
       "<table border=\"1\" class=\"dataframe\">\n",
       "  <thead>\n",
       "    <tr style=\"text-align: right;\">\n",
       "      <th></th>\n",
       "      <th>ID</th>\n",
       "      <th>item_cnt_month</th>\n",
       "    </tr>\n",
       "  </thead>\n",
       "  <tbody>\n",
       "    <tr>\n",
       "      <th>0</th>\n",
       "      <td>0</td>\n",
       "      <td>0.650854</td>\n",
       "    </tr>\n",
       "    <tr>\n",
       "      <th>1</th>\n",
       "      <td>1</td>\n",
       "      <td>0.724457</td>\n",
       "    </tr>\n",
       "    <tr>\n",
       "      <th>2</th>\n",
       "      <td>2</td>\n",
       "      <td>1.089683</td>\n",
       "    </tr>\n",
       "    <tr>\n",
       "      <th>3</th>\n",
       "      <td>3</td>\n",
       "      <td>0.386725</td>\n",
       "    </tr>\n",
       "    <tr>\n",
       "      <th>4</th>\n",
       "      <td>4</td>\n",
       "      <td>1.339518</td>\n",
       "    </tr>\n",
       "  </tbody>\n",
       "</table>\n",
       "</div>"
      ],
      "text/plain": [
       "   ID  item_cnt_month\n",
       "0   0        0.650854\n",
       "1   1        0.724457\n",
       "2   2        1.089683\n",
       "3   3        0.386725\n",
       "4   4        1.339518"
      ]
     },
     "execution_count": 46,
     "metadata": {},
     "output_type": "execute_result"
    }
   ],
   "source": [
    "df_3.head(5)"
   ]
  },
  {
   "cell_type": "code",
   "execution_count": 48,
   "metadata": {
    "ExecuteTime": {
     "end_time": "2020-08-28T04:54:33.081702Z",
     "start_time": "2020-08-28T04:54:33.038260Z"
    }
   },
   "outputs": [],
   "source": [
    "sub = pd.read_csv(reg_2_dir+'merona_finali_submission_except_lasso_catboost_with_sm_xgb.csv')"
   ]
  },
  {
   "cell_type": "code",
   "execution_count": 49,
   "metadata": {
    "ExecuteTime": {
     "end_time": "2020-08-28T04:55:37.796628Z",
     "start_time": "2020-08-28T04:55:37.430143Z"
    }
   },
   "outputs": [],
   "source": [
    "dfX = sub.copy()\n",
    "k = 'item_cnt_month'\n",
    "dfX[k] = x1*sub[k] + (1.0-x1)*df_3[k]\n",
    "dfX.to_csv(reg_2_dir+'merona_finali_submission_except_lasso_catboost_with_sm_xgb,with_jw.csv'.format(x1), index=False)"
   ]
  },
  {
   "cell_type": "code",
   "execution_count": 50,
   "metadata": {
    "ExecuteTime": {
     "end_time": "2020-08-28T04:55:51.728053Z",
     "start_time": "2020-08-28T04:55:51.695354Z"
    }
   },
   "outputs": [],
   "source": [
    "sub_2 = pd.read_csv(reg_2_dir+'merona_finali_submission_except_lasso_catboost_with_sm_xgb,with_jw.csv')"
   ]
  },
  {
   "cell_type": "code",
   "execution_count": 51,
   "metadata": {
    "ExecuteTime": {
     "end_time": "2020-08-28T04:55:57.227266Z",
     "start_time": "2020-08-28T04:55:57.220745Z"
    }
   },
   "outputs": [
    {
     "data": {
      "text/html": [
       "<div>\n",
       "<style scoped>\n",
       "    .dataframe tbody tr th:only-of-type {\n",
       "        vertical-align: middle;\n",
       "    }\n",
       "\n",
       "    .dataframe tbody tr th {\n",
       "        vertical-align: top;\n",
       "    }\n",
       "\n",
       "    .dataframe thead th {\n",
       "        text-align: right;\n",
       "    }\n",
       "</style>\n",
       "<table border=\"1\" class=\"dataframe\">\n",
       "  <thead>\n",
       "    <tr style=\"text-align: right;\">\n",
       "      <th></th>\n",
       "      <th>ID</th>\n",
       "      <th>item_cnt_month</th>\n",
       "    </tr>\n",
       "  </thead>\n",
       "  <tbody>\n",
       "    <tr>\n",
       "      <th>0</th>\n",
       "      <td>0</td>\n",
       "      <td>0.425870</td>\n",
       "    </tr>\n",
       "    <tr>\n",
       "      <th>1</th>\n",
       "      <td>1</td>\n",
       "      <td>0.482885</td>\n",
       "    </tr>\n",
       "    <tr>\n",
       "      <th>2</th>\n",
       "      <td>2</td>\n",
       "      <td>0.952315</td>\n",
       "    </tr>\n",
       "    <tr>\n",
       "      <th>3</th>\n",
       "      <td>3</td>\n",
       "      <td>0.438828</td>\n",
       "    </tr>\n",
       "    <tr>\n",
       "      <th>4</th>\n",
       "      <td>4</td>\n",
       "      <td>3.391816</td>\n",
       "    </tr>\n",
       "  </tbody>\n",
       "</table>\n",
       "</div>"
      ],
      "text/plain": [
       "   ID  item_cnt_month\n",
       "0   0        0.425870\n",
       "1   1        0.482885\n",
       "2   2        0.952315\n",
       "3   3        0.438828\n",
       "4   4        3.391816"
      ]
     },
     "execution_count": 51,
     "metadata": {},
     "output_type": "execute_result"
    }
   ],
   "source": [
    "sub_2.head(5)"
   ]
  },
  {
   "cell_type": "markdown",
   "metadata": {},
   "source": [
    "결과 0.88427 더 낮음"
   ]
  },
  {
   "cell_type": "code",
   "execution_count": null,
   "metadata": {},
   "outputs": [],
   "source": []
  }
 ],
 "metadata": {
  "kernelspec": {
   "display_name": "aiffel",
   "language": "python",
   "name": "aiffel"
  },
  "language_info": {
   "codemirror_mode": {
    "name": "ipython",
    "version": 3
   },
   "file_extension": ".py",
   "mimetype": "text/x-python",
   "name": "python",
   "nbconvert_exporter": "python",
   "pygments_lexer": "ipython3",
   "version": "3.7.7"
  },
  "toc": {
   "base_numbering": 1,
   "nav_menu": {},
   "number_sections": true,
   "sideBar": true,
   "skip_h1_title": false,
   "title_cell": "Table of Contents",
   "title_sidebar": "Contents",
   "toc_cell": false,
   "toc_position": {},
   "toc_section_display": true,
   "toc_window_display": false
  }
 },
 "nbformat": 4,
 "nbformat_minor": 4
}
