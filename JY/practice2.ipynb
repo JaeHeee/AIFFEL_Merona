{
 "cells": [
  {
   "cell_type": "markdown",
   "metadata": {},
   "source": [
    "# 캐글 노트북 참조해보기\n",
    "[Feature engineering, xgboost](https://www.kaggle.com/dlarionov/feature-engineering-xgboost)"
   ]
  },
  {
   "cell_type": "markdown",
   "metadata": {},
   "source": [
    "# Features"
   ]
  },
  {
   "cell_type": "code",
   "execution_count": 1,
   "metadata": {
    "ExecuteTime": {
     "end_time": "2020-08-27T03:15:58.962451Z",
     "start_time": "2020-08-27T03:15:58.395255Z"
    }
   },
   "outputs": [
    {
     "data": {
      "text/plain": [
       "sys.version_info(major=3, minor=7, micro=7, releaselevel='final', serial=0)"
      ]
     },
     "execution_count": 1,
     "metadata": {},
     "output_type": "execute_result"
    }
   ],
   "source": [
    "import numpy as np\n",
    "import pandas as pd\n",
    "pd.set_option('display.max_rows', 500)\n",
    "pd.set_option('display.max_columns', 100)\n",
    "\n",
    "from itertools import product\n",
    "from sklearn.preprocessing import LabelEncoder\n",
    "\n",
    "import seaborn as sns\n",
    "import matplotlib.pyplot as plt\n",
    "%matplotlib inline\n",
    "\n",
    "from xgboost import XGBRegressor\n",
    "from xgboost import plot_importance\n",
    "\n",
    "def plot_features(booster, figsize):    \n",
    "    fig, ax = plt.subplots(1,1,figsize=figsize)\n",
    "    return plot_importance(booster=booster, ax=ax)\n",
    "\n",
    "import time\n",
    "import sys\n",
    "import gc\n",
    "import pickle\n",
    "sys.version_info"
   ]
  },
  {
   "cell_type": "code",
   "execution_count": 2,
   "metadata": {
    "ExecuteTime": {
     "end_time": "2020-08-27T03:15:59.717756Z",
     "start_time": "2020-08-27T03:15:58.963350Z"
    }
   },
   "outputs": [],
   "source": [
    "items = pd.read_csv('./data/items.csv')\n",
    "shops = pd.read_csv('./data/shops.csv')\n",
    "cats = pd.read_csv('./data/item_categories.csv')\n",
    "train = pd.read_csv('./data/sales_train.csv')\n",
    "# set index to ID to avoid droping it later\n",
    "test  = pd.read_csv('./data/test.csv').set_index('ID')"
   ]
  },
  {
   "cell_type": "code",
   "execution_count": 3,
   "metadata": {
    "ExecuteTime": {
     "end_time": "2020-08-27T03:15:59.723330Z",
     "start_time": "2020-08-27T03:15:59.718852Z"
    },
    "tags": []
   },
   "outputs": [
    {
     "name": "stdout",
     "output_type": "stream",
     "text": [
      "                                          shop_name  shop_id\n",
      "0                     !Якутск Орджоникидзе, 56 фран        0\n",
      "1                     !Якутск ТЦ \"Центральный\" фран        1\n",
      "2                                  Адыгея ТЦ \"Мега\"        2\n",
      "3                    Балашиха ТРК \"Октябрь-Киномир\"        3\n",
      "4                          Волжский ТЦ \"Волга Молл\"        4\n",
      "5                            Вологда ТРЦ \"Мармелад\"        5\n",
      "6                        Воронеж (Плехановская, 13)        6\n",
      "7                            Воронеж ТРЦ \"Максимир\"        7\n",
      "8                      Воронеж ТРЦ Сити-Парк \"Град\"        8\n",
      "9                                 Выездная Торговля        9\n",
      "10                       Жуковский ул. Чкалова 39м?       10\n",
      "11                       Жуковский ул. Чкалова 39м²       11\n",
      "12                              Интернет-магазин ЧС       12\n",
      "13                              Казань ТЦ \"Бехетле\"       13\n",
      "14                          Казань ТЦ \"ПаркХаус\" II       14\n",
      "15                             Калуга ТРЦ \"XXI век\"       15\n",
      "16                                 Коломна ТЦ \"Рио\"       16\n",
      "17                    Красноярск ТЦ \"Взлетка Плаза\"       17\n",
      "18                             Красноярск ТЦ \"Июнь\"       18\n",
      "19                            Курск ТЦ \"Пушкинский\"       19\n",
      "20                              Москва \"Распродажа\"       20\n",
      "21                           Москва МТРЦ \"Афи Молл\"       21\n",
      "22                               Москва Магазин С21       22\n",
      "23                 Москва ТК \"Буденовский\" (пав.А2)       23\n",
      "24                 Москва ТК \"Буденовский\" (пав.К7)       24\n",
      "25                              Москва ТРК \"Атриум\"       25\n",
      "26                      Москва ТЦ \"Ареал\" (Беляево)       26\n",
      "27                   Москва ТЦ \"МЕГА Белая Дача II\"       27\n",
      "28                  Москва ТЦ \"МЕГА Теплый Стан\" II       28\n",
      "29               Москва ТЦ \"Новый век\" (Новокосино)       29\n",
      "30                           Москва ТЦ \"Перловский\"       30\n",
      "31                          Москва ТЦ \"Семеновский\"       31\n",
      "32                       Москва ТЦ \"Серебряный Дом\"       32\n",
      "33                                Мытищи ТРК \"XL-3\"       33\n",
      "34                             Н.Новгород ТРЦ \"РИО\"       34\n",
      "35                      Н.Новгород ТРЦ \"Фантастика\"       35\n",
      "36            Новосибирск ТРЦ \"Галерея Новосибирск\"       36\n",
      "37                            Новосибирск ТЦ \"Мега\"       37\n",
      "38                                   Омск ТЦ \"Мега\"       38\n",
      "39            РостовНаДону ТРК \"Мегацентр Горизонт\"       39\n",
      "40  РостовНаДону ТРК \"Мегацентр Горизонт\" Островной       40\n",
      "41                           РостовНаДону ТЦ \"Мега\"       41\n",
      "42                           СПб ТК \"Невский Центр\"       42\n",
      "43                                  СПб ТК \"Сенная\"       43\n",
      "44                              Самара ТЦ \"Мелодия\"       44\n",
      "45                             Самара ТЦ \"ПаркХаус\"       45\n",
      "46                            Сергиев Посад ТЦ \"7Я\"       46\n",
      "47                           Сургут ТРЦ \"Сити Молл\"       47\n",
      "48                     Томск ТРЦ \"Изумрудный Город\"       48\n",
      "49                            Тюмень ТРЦ \"Кристалл\"       49\n",
      "50                               Тюмень ТЦ \"Гудвин\"       50\n",
      "51                        Тюмень ТЦ \"Зеленый Берег\"       51\n",
      "52                             Уфа ТК \"Центральный\"       52\n",
      "53                                 Уфа ТЦ \"Семья\" 2       53\n",
      "54                                  Химки ТЦ \"Мега\"       54\n",
      "55                         Цифровой склад 1С-Онлайн       55\n",
      "56                             Чехов ТРЦ \"Карнавал\"       56\n",
      "57                          Якутск Орджоникидзе, 56       57\n",
      "58                          Якутск ТЦ \"Центральный\"       58\n",
      "59                           Ярославль ТЦ \"Альтаир\"       59\n"
     ]
    }
   ],
   "source": [
    "print(shops)"
   ]
  },
  {
   "cell_type": "code",
   "execution_count": 4,
   "metadata": {
    "ExecuteTime": {
     "end_time": "2020-08-27T03:15:59.737353Z",
     "start_time": "2020-08-27T03:15:59.724600Z"
    },
    "tags": []
   },
   "outputs": [
    {
     "name": "stdout",
     "output_type": "stream",
     "text": [
      "                          item_category_name  item_category_id\n",
      "0                    PC - Гарнитуры/Наушники                 0\n",
      "1                           Аксессуары - PS2                 1\n",
      "2                           Аксессуары - PS3                 2\n",
      "3                           Аксессуары - PS4                 3\n",
      "4                           Аксессуары - PSP                 4\n",
      "5                        Аксессуары - PSVita                 5\n",
      "6                      Аксессуары - XBOX 360                 6\n",
      "7                      Аксессуары - XBOX ONE                 7\n",
      "8                             Билеты (Цифра)                 8\n",
      "9                            Доставка товара                 9\n",
      "10                     Игровые консоли - PS2                10\n",
      "11                     Игровые консоли - PS3                11\n",
      "12                     Игровые консоли - PS4                12\n",
      "13                     Игровые консоли - PSP                13\n",
      "14                  Игровые консоли - PSVita                14\n",
      "15                Игровые консоли - XBOX 360                15\n",
      "16                Игровые консоли - XBOX ONE                16\n",
      "17                  Игровые консоли - Прочие                17\n",
      "18                                Игры - PS2                18\n",
      "19                                Игры - PS3                19\n",
      "20                                Игры - PS4                20\n",
      "21                                Игры - PSP                21\n",
      "22                             Игры - PSVita                22\n",
      "23                           Игры - XBOX 360                23\n",
      "24                           Игры - XBOX ONE                24\n",
      "25                 Игры - Аксессуары для игр                25\n",
      "26                      Игры Android - Цифра                26\n",
      "27                          Игры MAC - Цифра                27\n",
      "28          Игры PC - Дополнительные издания                28\n",
      "29           Игры PC - Коллекционные издания                29\n",
      "30             Игры PC - Стандартные издания                30\n",
      "31                           Игры PC - Цифра                31\n",
      "32         Карты оплаты (Кино, Музыка, Игры)                32\n",
      "33                      Карты оплаты - Live!                33\n",
      "34              Карты оплаты - Live! (Цифра)                34\n",
      "35                        Карты оплаты - PSN                35\n",
      "36            Карты оплаты - Windows (Цифра)                36\n",
      "37                            Кино - Blu-Ray                37\n",
      "38                         Кино - Blu-Ray 3D                38\n",
      "39                         Кино - Blu-Ray 4K                39\n",
      "40                                Кино - DVD                40\n",
      "41                      Кино - Коллекционное                41\n",
      "42             Книги - Артбуки, энциклопедии                42\n",
      "43                        Книги - Аудиокниги                43\n",
      "44                Книги - Аудиокниги (Цифра)                44\n",
      "45                     Книги - Аудиокниги 1С                45\n",
      "46                 Книги - Бизнес литература                46\n",
      "47                    Книги - Комиксы, манга                47\n",
      "48           Книги - Компьютерная литература                48\n",
      "49         Книги - Методические материалы 1С                49\n",
      "50                          Книги - Открытки                50\n",
      "51         Книги - Познавательная литература                51\n",
      "52                      Книги - Путеводители                52\n",
      "53         Книги - Художественная литература                53\n",
      "54                             Книги - Цифра                54\n",
      "55       Музыка - CD локального производства                55\n",
      "56       Музыка - CD фирменного производства                56\n",
      "57                              Музыка - MP3                57\n",
      "58                            Музыка - Винил                58\n",
      "59                Музыка - Музыкальное видео                59\n",
      "60               Музыка - Подарочные издания                60\n",
      "61                      Подарки - Атрибутика                61\n",
      "62          Подарки - Гаджеты, роботы, спорт                62\n",
      "63                  Подарки - Мягкие игрушки                63\n",
      "64                 Подарки - Настольные игры                64\n",
      "65    Подарки - Настольные игры (компактные)                65\n",
      "66              Подарки - Открытки, наклейки                66\n",
      "67                        Подарки - Развитие                67\n",
      "68             Подарки - Сертификаты, услуги                68\n",
      "69                        Подарки - Сувениры                69\n",
      "70            Подарки - Сувениры (в навеску)                70\n",
      "71  Подарки - Сумки, Альбомы, Коврики д/мыши                71\n",
      "72                         Подарки - Фигурки                72\n",
      "73              Программы - 1С:Предприятие 8                73\n",
      "74                   Программы - MAC (Цифра)                74\n",
      "75              Программы - Для дома и офиса                75\n",
      "76      Программы - Для дома и офиса (Цифра)                76\n",
      "77                     Программы - Обучающие                77\n",
      "78             Программы - Обучающие (Цифра)                78\n",
      "79                                 Служебные                79\n",
      "80                        Служебные - Билеты                80\n",
      "81                   Чистые носители (шпиль)                81\n",
      "82                 Чистые носители (штучные)                82\n",
      "83                          Элементы питания                83\n"
     ]
    }
   ],
   "source": [
    "print(cats)"
   ]
  },
  {
   "cell_type": "markdown",
   "metadata": {},
   "source": [
    "## Outliers\n",
    "price > 100,000 and sales > 1001 인 아이템을 떨궈버리고 했다고 함.\n",
    "아래에 분포를 그려보니 이해가 됨."
   ]
  },
  {
   "cell_type": "code",
   "execution_count": 5,
   "metadata": {
    "ExecuteTime": {
     "end_time": "2020-08-27T03:16:00.776193Z",
     "start_time": "2020-08-27T03:15:59.738416Z"
    }
   },
   "outputs": [
    {
     "data": {
      "text/plain": [
       "<matplotlib.axes._subplots.AxesSubplot at 0x7fa93eb0a710>"
      ]
     },
     "execution_count": 5,
     "metadata": {},
     "output_type": "execute_result"
    },
    {
     "data": {
      "image/png": "[encoded data removed]",
      "text/plain": [
       "<Figure size 720x288 with 1 Axes>"
      ]
     },
     "metadata": {
      "needs_background": "light"
     },
     "output_type": "display_data"
    },
    {
     "data": {
      "image/png": "[encoded data removed]",
      "text/plain": [
       "<Figure size 720x288 with 1 Axes>"
      ]
     },
     "metadata": {
      "needs_background": "light"
     },
     "output_type": "display_data"
    }
   ],
   "source": [
    "plt.figure(figsize=(10,4))\n",
    "plt.xlim(-100, 3000)\n",
    "sns.boxplot(x=train.item_cnt_day)\n",
    "\n",
    "plt.figure(figsize=(10,4))\n",
    "plt.xlim(train.item_price.min(), train.item_price.max()*1.1)\n",
    "sns.boxplot(x=train.item_price)"
   ]
  },
  {
   "cell_type": "code",
   "execution_count": 6,
   "metadata": {
    "ExecuteTime": {
     "end_time": "2020-08-27T03:16:00.936927Z",
     "start_time": "2020-08-27T03:16:00.777316Z"
    }
   },
   "outputs": [],
   "source": [
    "# 떨궈내기\n",
    "ITEM_PRICE_LIM = 100000\n",
    "ITEM_CNT_LIM = 1001\n",
    "train = train[train.item_price<ITEM_PRICE_LIM]\n",
    "train = train[train.item_cnt_day<ITEM_CNT_LIM]"
   ]
  },
  {
   "cell_type": "markdown",
   "metadata": {},
   "source": [
    "가격이 0 미만인 아이템이 있어서 median으로 채웠다고함."
   ]
  },
  {
   "cell_type": "code",
   "execution_count": 7,
   "metadata": {
    "ExecuteTime": {
     "end_time": "2020-08-27T03:16:00.948411Z",
     "start_time": "2020-08-27T03:16:00.938011Z"
    }
   },
   "outputs": [
    {
     "data": {
      "text/html": [
       "<div>\n",
       "<style scoped>\n",
       "    .dataframe tbody tr th:only-of-type {\n",
       "        vertical-align: middle;\n",
       "    }\n",
       "\n",
       "    .dataframe tbody tr th {\n",
       "        vertical-align: top;\n",
       "    }\n",
       "\n",
       "    .dataframe thead th {\n",
       "        text-align: right;\n",
       "    }\n",
       "</style>\n",
       "<table border=\"1\" class=\"dataframe\">\n",
       "  <thead>\n",
       "    <tr style=\"text-align: right;\">\n",
       "      <th></th>\n",
       "      <th>date</th>\n",
       "      <th>date_block_num</th>\n",
       "      <th>shop_id</th>\n",
       "      <th>item_id</th>\n",
       "      <th>item_price</th>\n",
       "      <th>item_cnt_day</th>\n",
       "    </tr>\n",
       "  </thead>\n",
       "  <tbody>\n",
       "    <tr>\n",
       "      <th>484683</th>\n",
       "      <td>15.05.2013</td>\n",
       "      <td>4</td>\n",
       "      <td>32</td>\n",
       "      <td>2973</td>\n",
       "      <td>-1.0</td>\n",
       "      <td>1.0</td>\n",
       "    </tr>\n",
       "  </tbody>\n",
       "</table>\n",
       "</div>"
      ],
      "text/plain": [
       "              date  date_block_num  shop_id  item_id  item_price  item_cnt_day\n",
       "484683  15.05.2013               4       32     2973        -1.0           1.0"
      ]
     },
     "execution_count": 7,
     "metadata": {},
     "output_type": "execute_result"
    }
   ],
   "source": [
    "train.loc[train.item_price<0]"
   ]
  },
  {
   "cell_type": "code",
   "execution_count": 8,
   "metadata": {
    "ExecuteTime": {
     "end_time": "2020-08-27T03:16:00.985478Z",
     "start_time": "2020-08-27T03:16:00.950244Z"
    }
   },
   "outputs": [
    {
     "data": {
      "text/html": [
       "<div>\n",
       "<style scoped>\n",
       "    .dataframe tbody tr th:only-of-type {\n",
       "        vertical-align: middle;\n",
       "    }\n",
       "\n",
       "    .dataframe tbody tr th {\n",
       "        vertical-align: top;\n",
       "    }\n",
       "\n",
       "    .dataframe thead th {\n",
       "        text-align: right;\n",
       "    }\n",
       "</style>\n",
       "<table border=\"1\" class=\"dataframe\">\n",
       "  <thead>\n",
       "    <tr style=\"text-align: right;\">\n",
       "      <th></th>\n",
       "      <th>date</th>\n",
       "      <th>date_block_num</th>\n",
       "      <th>shop_id</th>\n",
       "      <th>item_id</th>\n",
       "      <th>item_price</th>\n",
       "      <th>item_cnt_day</th>\n",
       "    </tr>\n",
       "  </thead>\n",
       "  <tbody>\n",
       "  </tbody>\n",
       "</table>\n",
       "</div>"
      ],
      "text/plain": [
       "Empty DataFrame\n",
       "Columns: [date, date_block_num, shop_id, item_id, item_price, item_cnt_day]\n",
       "Index: []"
      ]
     },
     "execution_count": 8,
     "metadata": {},
     "output_type": "execute_result"
    }
   ],
   "source": [
    "median = train[(train.shop_id==32)&(train.item_id==2973)&(train.date_block_num==4)&(train.item_price>0)].item_price.median()\n",
    "train.loc[train.item_price<0, 'item_price'] = median\n",
    "train.loc[train.item_price<0]"
   ]
  },
  {
   "cell_type": "markdown",
   "metadata": {},
   "source": [
    "가게 이름 겹치는 경우 제거했다고 함. "
   ]
  },
  {
   "cell_type": "code",
   "execution_count": 9,
   "metadata": {
    "ExecuteTime": {
     "end_time": "2020-08-27T03:16:01.027300Z",
     "start_time": "2020-08-27T03:16:00.986569Z"
    }
   },
   "outputs": [],
   "source": [
    "# Якутск Орджоникидзе, 56 => shop_id 0, 57\n",
    "train.loc[train.shop_id == 0, 'shop_id'] = 57\n",
    "test.loc[test.shop_id == 0, 'shop_id'] = 57\n",
    "# Якутск ТЦ \"Центральный\" => shop_id 1,58\n",
    "train.loc[train.shop_id == 1, 'shop_id'] = 58\n",
    "test.loc[test.shop_id == 1, 'shop_id'] = 58\n",
    "# Жуковский ул. Чкалова 39м² => shop_id 10,11\n",
    "train.loc[train.shop_id == 10, 'shop_id'] = 11\n",
    "test.loc[test.shop_id == 10, 'shop_id'] = 11"
   ]
  },
  {
   "cell_type": "markdown",
   "metadata": {},
   "source": [
    "## Shops/Cats/Items preprocessing\n",
    "1. 각 가게 이름이 도시 이름으로 시작한다고 함\n",
    "2. 각 카테고리 이름 안에 type 과 sub_type이 있다고 함."
   ]
  },
  {
   "cell_type": "code",
   "execution_count": 10,
   "metadata": {
    "ExecuteTime": {
     "end_time": "2020-08-27T03:16:01.044258Z",
     "start_time": "2020-08-27T03:16:01.028474Z"
    }
   },
   "outputs": [],
   "source": [
    "shops.loc[shops.shop_name == 'Сергиев Посад ТЦ \"7Я\"', 'shop_name'] = 'СергиевПосад ТЦ \"7Я\"'\n",
    "shops['city'] = shops['shop_name'].str.split(' ').map(lambda x: x[0])\n",
    "shops.loc[shops.city == '!Якутск', 'city'] = 'Якутск'\n",
    "shops['city_code'] = LabelEncoder().fit_transform(shops['city'])\n",
    "shops = shops[['shop_id','city_code']]\n",
    "\n",
    "cats['split'] = cats['item_category_name'].str.split('-')\n",
    "# item_category_name 에서 type 꺼내서 따로\n",
    "cats['type'] = cats['split'].map(lambda x: x[0].strip())\n",
    "# 따로 꺼낸 type 을 type_code 컬럼에 인코딩한 값 넣기\n",
    "cats['type_code'] = LabelEncoder().fit_transform(cats['type'])\n",
    "# if subtype is nan then type\n",
    "cats['subtype'] = cats['split'].map(lambda x: x[1].strip() if len(x) > 1 else x[0].strip())\n",
    "cats['subtype_code'] = LabelEncoder().fit_transform(cats['subtype'])\n",
    "cats = cats[['item_category_id','type_code', 'subtype_code']]\n",
    "\n",
    "items.drop(['item_name'], axis=1, inplace=True)"
   ]
  },
  {
   "cell_type": "markdown",
   "metadata": {},
   "source": [
    "### Monthly Sales\n",
    "Test set is a product of some shops and some items within 34 month. There are 5100 items * 42 shops = 214200 pairs. 363 items are new compared to the train. Hence, for the most of the items in the test set target value should be zero. In the other hand train set contains only pairs which were sold or returned in the past.   \n",
    "\n",
    "**The main idea is to calculate monthly sales and extend it with zero sales for each unique pair within the month. This way train data will be similar to test data.**"
   ]
  },
  {
   "cell_type": "code",
   "execution_count": 11,
   "metadata": {
    "ExecuteTime": {
     "end_time": "2020-08-27T03:16:01.379426Z",
     "start_time": "2020-08-27T03:16:01.045296Z"
    },
    "tags": []
   },
   "outputs": [
    {
     "name": "stdout",
     "output_type": "stream",
     "text": [
      "363\n",
      "5100\n",
      "214200\n"
     ]
    }
   ],
   "source": [
    "# 363 items are new compared to the train.\n",
    "print(len(list(set(test.item_id) - set(test.item_id).intersection(set(train.item_id)))))\n",
    "# 5100 items\n",
    "print(len(list(set(test.item_id))))\n",
    "# 214200 pairs.\n",
    "print(len(test))"
   ]
  },
  {
   "cell_type": "code",
   "execution_count": 12,
   "metadata": {
    "ExecuteTime": {
     "end_time": "2020-08-27T03:16:12.969228Z",
     "start_time": "2020-08-27T03:16:01.380471Z"
    },
    "tags": []
   },
   "outputs": [
    {
     "name": "stdout",
     "output_type": "stream",
     "text": [
      "[array([[    0,    59, 22154],\n",
      "       [    0,    59,  2552],\n",
      "       [    0,    59,  2554],\n",
      "       ...,\n",
      "       [    0,    45,   628],\n",
      "       [    0,    45,   631],\n",
      "       [    0,    45,   621]], dtype=int16), array([[    1,    50,  3880],\n",
      "       [    1,    50,  4128],\n",
      "       [    1,    50,  4124],\n",
      "       ...,\n",
      "       [    1,    28, 12885],\n",
      "       [    1,    28, 12791],\n",
      "       [    1,    28, 13433]], dtype=int16), array([[    2,     5, 20175],\n",
      "       [    2,     5, 20083],\n",
      "       [    2,     5,    31],\n",
      "       ...,\n",
      "       [    2,     4, 12388],\n",
      "       [    2,     4, 12340],\n",
      "       [    2,     4, 10649]], dtype=int16), array([[    3,    25,  8092],\n",
      "       [    3,    25,  7850],\n",
      "       [    3,    25,  8051],\n",
      "       ...,\n",
      "       [    3,    41, 14063],\n",
      "       [    3,    41, 20690],\n",
      "       [    3,    41, 19235]], dtype=int16), array([[    4,    59, 22114],\n",
      "       [    4,    59, 20239],\n",
      "       [    4,    59, 20238],\n",
      "       ...,\n",
      "       [    4,     6,  1924],\n",
      "       [    4,     6,  1972],\n",
      "       [    4,     6,  1908]], dtype=int16), array([[    5,    30, 11496],\n",
      "       [    5,    30, 11244],\n",
      "       [    5,    30, 11388],\n",
      "       ...,\n",
      "       [    5,    52, 10182],\n",
      "       [    5,    52,  8945],\n",
      "       [    5,    52,  8160]], dtype=int16), array([[    6,    28,    51],\n",
      "       [    6,    28,    59],\n",
      "       [    6,    28,    53],\n",
      "       ...,\n",
      "       [    6,    47, 16428],\n",
      "       [    6,    47, 17944],\n",
      "       [    6,    47, 20297]], dtype=int16), array([[    7,    57, 21856],\n",
      "       [    7,    57, 21876],\n",
      "       [    7,    57, 21825],\n",
      "       ...,\n",
      "       [    7,    12, 11369],\n",
      "       [    7,    12, 11916],\n",
      "       [    7,    12, 11668]], dtype=int16), array([[   8,   51,  947],\n",
      "       [   8,   51,  716],\n",
      "       [   8,   51,  687],\n",
      "       ...,\n",
      "       [   8,   55, 3361],\n",
      "       [   8,   55, 3664],\n",
      "       [   8,   55, 3715]], dtype=int16), array([[    9,    44,  3624],\n",
      "       [    9,    44,  3620],\n",
      "       [    9,    44,  3734],\n",
      "       ...,\n",
      "       [    9,    26,  8066],\n",
      "       [    9,    26, 11781],\n",
      "       [    9,    26, 11503]], dtype=int16), array([[   10,    43,  4420],\n",
      "       [   10,    43, 10033],\n",
      "       [   10,    43, 10051],\n",
      "       ...,\n",
      "       [   10,    47,  1747],\n",
      "       [   10,    47,  4116],\n",
      "       [   10,    47,  4736]], dtype=int16), array([[   11,    25, 17769],\n",
      "       [   11,    25, 18016],\n",
      "       [   11,    25, 17763],\n",
      "       ...,\n",
      "       [   11,    46,  8390],\n",
      "       [   11,    46,  9484],\n",
      "       [   11,    46,  8845]], dtype=int16), array([[   12,    54, 10297],\n",
      "       [   12,    54, 10296],\n",
      "       [   12,    54, 10298],\n",
      "       ...,\n",
      "       [   12,    24,  5555],\n",
      "       [   12,    24,  8081],\n",
      "       [   12,    24,  4651]], dtype=int16), array([[   13,    27, 15242],\n",
      "       [   13,    27, 15200],\n",
      "       [   13,    27, 15279],\n",
      "       ...,\n",
      "       [   13,    55, 12683],\n",
      "       [   13,    55, 13430],\n",
      "       [   13,    55, 12681]], dtype=int16), array([[   14,    50, 19751],\n",
      "       [   14,    50, 19602],\n",
      "       [   14,    50, 19603],\n",
      "       ...,\n",
      "       [   14,     7,  6721],\n",
      "       [   14,     7, 10732],\n",
      "       [   14,     7, 11163]], dtype=int16), array([[   15,    54, 18394],\n",
      "       [   15,    54, 18555],\n",
      "       [   15,    54, 18411],\n",
      "       ...,\n",
      "       [   15,    38, 18508],\n",
      "       [   15,    38, 18648],\n",
      "       [   15,    38, 18643]], dtype=int16), array([[   16,    57,  2269],\n",
      "       [   16,    57, 22126],\n",
      "       [   16,    57, 20949],\n",
      "       ...,\n",
      "       [   16,    45,  2331],\n",
      "       [   16,    45,  1763],\n",
      "       [   16,    45,  2068]], dtype=int16), array([[  17,   26, 9532],\n",
      "       [  17,   26, 9507],\n",
      "       [  17,   26, 9509],\n",
      "       ...,\n",
      "       [  17,   45, 1049],\n",
      "       [  17,   45, 1050],\n",
      "       [  17,   45,  993]], dtype=int16), array([[   18,    16,  5486],\n",
      "       [   18,    16, 22092],\n",
      "       [   18,    16,  2416],\n",
      "       ...,\n",
      "       [   18,    24,  1326],\n",
      "       [   18,    24,  1243],\n",
      "       [   18,    24,   479]], dtype=int16), array([[  19,   42, 6117],\n",
      "       [  19,   42, 6111],\n",
      "       [  19,   42, 6108],\n",
      "       ...,\n",
      "       [  19,   26, 2146],\n",
      "       [  19,   26, 2797],\n",
      "       [  19,   26, 2750]], dtype=int16), array([[   20,     5,  1039],\n",
      "       [   20,     5,  1015],\n",
      "       [   20,     5,  1329],\n",
      "       ...,\n",
      "       [   20,    56, 14716],\n",
      "       [   20,    56, 14515],\n",
      "       [   20,    56, 12944]], dtype=int16), array([[   21,    26,  6183],\n",
      "       [   21,    26, 11391],\n",
      "       [   21,    26, 11389],\n",
      "       ...,\n",
      "       [   21,    46, 14272],\n",
      "       [   21,    46, 13109],\n",
      "       [   21,    46,  5520]], dtype=int16), array([[   22,    37,  3460],\n",
      "       [   22,    37,  4615],\n",
      "       [   22,    37,  4870],\n",
      "       ...,\n",
      "       [   22,    42, 13694],\n",
      "       [   22,    42,  1624],\n",
      "       [   22,    42,   817]], dtype=int16), array([[   23,    42, 17279],\n",
      "       [   23,    42, 17315],\n",
      "       [   23,    42, 17302],\n",
      "       ...,\n",
      "       [   23,    22,  5397],\n",
      "       [   23,    22,  5455],\n",
      "       [   23,    22,  5033]], dtype=int16), array([[   24,    27, 20463],\n",
      "       [   24,    27, 20462],\n",
      "       [   24,    27, 20448],\n",
      "       ...,\n",
      "       [   24,     2,  6902],\n",
      "       [   24,     2,  6564],\n",
      "       [   24,     2,  1398]], dtype=int16), array([[   25,    46, 21443],\n",
      "       [   25,    46, 20949],\n",
      "       [   25,    46, 21455],\n",
      "       ...,\n",
      "       [   25,    26, 19064],\n",
      "       [   25,    26, 14671],\n",
      "       [   25,    26, 16564]], dtype=int16), array([[   26,     3, 10079],\n",
      "       [   26,     3, 20949],\n",
      "       [   26,     3, 21364],\n",
      "       ...,\n",
      "       [   26,    26, 12049],\n",
      "       [   26,    26, 14099],\n",
      "       [   26,    26, 12980]], dtype=int16), array([[   27,    27, 12020],\n",
      "       [   27,    27,  2734],\n",
      "       [   27,    27,  2470],\n",
      "       ...,\n",
      "       [   27,    14, 19790],\n",
      "       [   27,    14, 19751],\n",
      "       [   27,    14, 19072]], dtype=int16), array([[   28,    19, 15710],\n",
      "       [   28,    19, 15702],\n",
      "       [   28,    19, 15698],\n",
      "       ...,\n",
      "       [   28,    47,  4701],\n",
      "       [   28,    47,  5076],\n",
      "       [   28,    47,  4350]], dtype=int16), array([[   29,    35,  1971],\n",
      "       [   29,    35,  1881],\n",
      "       [   29,    35,  1914],\n",
      "       ...,\n",
      "       [   29,    56, 22072],\n",
      "       [   29,    56, 22045],\n",
      "       [   29,    56,    76]], dtype=int16), array([[   30,     5,  5911],\n",
      "       [   30,     5,  5821],\n",
      "       [   30,     5,  5634],\n",
      "       ...,\n",
      "       [   30,    28, 16327],\n",
      "       [   30,    28, 16443],\n",
      "       [   30,    28, 18274]], dtype=int16), array([[   31,    42,  4261],\n",
      "       [   31,    42, 12752],\n",
      "       [   31,    42, 13556],\n",
      "       ...,\n",
      "       [   31,    21, 13184],\n",
      "       [   31,    21, 13196],\n",
      "       [   31,    21, 12664]], dtype=int16), array([[   32,    42, 11170],\n",
      "       [   32,    42, 11215],\n",
      "       [   32,    42, 11232],\n",
      "       ...,\n",
      "       [   32,    27, 21352],\n",
      "       [   32,    27, 21284],\n",
      "       [   32,    27, 21105]], dtype=int16), array([[   33,    45, 13315],\n",
      "       [   33,    45, 13880],\n",
      "       [   33,    45, 13881],\n",
      "       ...,\n",
      "       [   33,    21,  7640],\n",
      "       [   33,    21,  7632],\n",
      "       [   33,    21,  7440]], dtype=int16)]\n",
      "=====================================\n",
      "          date_block_num  shop_id  item_id\n",
      "0                      0       59    22154\n",
      "1                      0       59     2552\n",
      "2                      0       59     2554\n",
      "3                      0       59     2555\n",
      "4                      0       59     2564\n",
      "...                  ...      ...      ...\n",
      "10913799              33       21     7635\n",
      "10913800              33       21     7638\n",
      "10913801              33       21     7640\n",
      "10913802              33       21     7632\n",
      "10913803              33       21     7440\n",
      "\n",
      "[10913804 rows x 3 columns]\n"
     ]
    },
    {
     "data": {
      "text/plain": [
       "11.583051919937134"
      ]
     },
     "execution_count": 12,
     "metadata": {},
     "output_type": "execute_result"
    }
   ],
   "source": [
    "ts = time.time()\n",
    "matrix = []\n",
    "cols = ['date_block_num','shop_id','item_id']\n",
    "NUM_MONTHS = 34\n",
    "for i in range(NUM_MONTHS):\n",
    "    sales = train[train.date_block_num==i]\n",
    "    matrix.append(np.array(list(product([i], sales.shop_id.unique(), sales.item_id.unique())), dtype='int16'))\n",
    "print(matrix)    \n",
    "# matrix 행으로 쌓은 dataframe 만들기\n",
    "matrix = pd.DataFrame(np.vstack(matrix), columns=cols)\n",
    "matrix['date_block_num'] = matrix['date_block_num'].astype(np.int8)\n",
    "matrix['shop_id'] = matrix['shop_id'].astype(np.int8)\n",
    "matrix['item_id'] = matrix['item_id'].astype(np.int16)\n",
    "print('=====================================')\n",
    "print(matrix)\n",
    "matrix.sort_values(cols,inplace=True)\n",
    "time.time() - ts"
   ]
  },
  {
   "cell_type": "markdown",
   "metadata": {},
   "source": [
    "Aggregate train set by shop/item pairs to calculate target aggreagates, then **clip(0,20) target value.** This way train target will be similar to the test predictions.   \n",
    "\n",
    "I use floats instead of ints for item_cnt_month to avoid downcasting it after concatination with the test set later.** If it would be int16, after concatination with NaN values it becomes int64, but foat16 becomes float16 even with NaNs.**"
   ]
  },
  {
   "cell_type": "code",
   "execution_count": 13,
   "metadata": {
    "ExecuteTime": {
     "end_time": "2020-08-27T03:16:12.984810Z",
     "start_time": "2020-08-27T03:16:12.970127Z"
    }
   },
   "outputs": [],
   "source": [
    "train['revenue'] = train['item_price'] *  train['item_cnt_day']"
   ]
  },
  {
   "cell_type": "code",
   "execution_count": 14,
   "metadata": {
    "ExecuteTime": {
     "end_time": "2020-08-27T03:16:15.977446Z",
     "start_time": "2020-08-27T03:16:12.986089Z"
    }
   },
   "outputs": [
    {
     "data": {
      "text/plain": [
       "2.9839565753936768"
      ]
     },
     "execution_count": 14,
     "metadata": {},
     "output_type": "execute_result"
    }
   ],
   "source": [
    "ts = time.time()\n",
    "group = train.groupby(['date_block_num','shop_id','item_id']).agg({'item_cnt_day': ['sum']})\n",
    "group.columns = ['item_cnt_month']\n",
    "group.reset_index(inplace=True)\n",
    "\n",
    "matrix = pd.merge(matrix, group, on=cols, how='left')\n",
    "matrix['item_cnt_month'] = (matrix['item_cnt_month']\n",
    "                                .fillna(0)\n",
    "                                .clip(0,20) # NB clip target here\n",
    "                                .astype(np.float16))\n",
    "time.time() - ts\n"
   ]
  },
  {
   "cell_type": "markdown",
   "metadata": {},
   "source": [
    "### Test set\n",
    "To use time tricks append test pairs to the matrix."
   ]
  },
  {
   "cell_type": "code",
   "execution_count": 15,
   "metadata": {
    "ExecuteTime": {
     "end_time": "2020-08-27T03:16:15.987940Z",
     "start_time": "2020-08-27T03:16:15.978368Z"
    }
   },
   "outputs": [
    {
     "data": {
      "text/html": [
       "<div>\n",
       "<style scoped>\n",
       "    .dataframe tbody tr th:only-of-type {\n",
       "        vertical-align: middle;\n",
       "    }\n",
       "\n",
       "    .dataframe tbody tr th {\n",
       "        vertical-align: top;\n",
       "    }\n",
       "\n",
       "    .dataframe thead th {\n",
       "        text-align: right;\n",
       "    }\n",
       "</style>\n",
       "<table border=\"1\" class=\"dataframe\">\n",
       "  <thead>\n",
       "    <tr style=\"text-align: right;\">\n",
       "      <th></th>\n",
       "      <th>shop_id</th>\n",
       "      <th>item_id</th>\n",
       "      <th>date_block_num</th>\n",
       "    </tr>\n",
       "    <tr>\n",
       "      <th>ID</th>\n",
       "      <th></th>\n",
       "      <th></th>\n",
       "      <th></th>\n",
       "    </tr>\n",
       "  </thead>\n",
       "  <tbody>\n",
       "    <tr>\n",
       "      <th>0</th>\n",
       "      <td>5</td>\n",
       "      <td>5037</td>\n",
       "      <td>34</td>\n",
       "    </tr>\n",
       "    <tr>\n",
       "      <th>1</th>\n",
       "      <td>5</td>\n",
       "      <td>5320</td>\n",
       "      <td>34</td>\n",
       "    </tr>\n",
       "    <tr>\n",
       "      <th>2</th>\n",
       "      <td>5</td>\n",
       "      <td>5233</td>\n",
       "      <td>34</td>\n",
       "    </tr>\n",
       "    <tr>\n",
       "      <th>3</th>\n",
       "      <td>5</td>\n",
       "      <td>5232</td>\n",
       "      <td>34</td>\n",
       "    </tr>\n",
       "    <tr>\n",
       "      <th>4</th>\n",
       "      <td>5</td>\n",
       "      <td>5268</td>\n",
       "      <td>34</td>\n",
       "    </tr>\n",
       "  </tbody>\n",
       "</table>\n",
       "</div>"
      ],
      "text/plain": [
       "    shop_id  item_id  date_block_num\n",
       "ID                                  \n",
       "0         5     5037              34\n",
       "1         5     5320              34\n",
       "2         5     5233              34\n",
       "3         5     5232              34\n",
       "4         5     5268              34"
      ]
     },
     "execution_count": 15,
     "metadata": {},
     "output_type": "execute_result"
    }
   ],
   "source": [
    "test['date_block_num'] = 34\n",
    "test['date_block_num'] = test['date_block_num'].astype(np.int8)\n",
    "test['shop_id'] = test['shop_id'].astype(np.int8)\n",
    "test['item_id'] = test['item_id'].astype(np.int16)\n",
    "test.head(5)"
   ]
  },
  {
   "cell_type": "code",
   "execution_count": 16,
   "metadata": {
    "ExecuteTime": {
     "end_time": "2020-08-27T03:16:16.033666Z",
     "start_time": "2020-08-27T03:16:15.989059Z"
    }
   },
   "outputs": [
    {
     "data": {
      "text/plain": [
       "0.04074692726135254"
      ]
     },
     "execution_count": 16,
     "metadata": {},
     "output_type": "execute_result"
    }
   ],
   "source": [
    "ts = time.time()\n",
    "matrix = pd.concat([matrix, test], ignore_index=True, sort=False, keys=cols)\n",
    "matrix.fillna(0, inplace=True) # 34 month\n",
    "time.time() - ts"
   ]
  },
  {
   "cell_type": "markdown",
   "metadata": {},
   "source": [
    "### Shops/Items/Cats features"
   ]
  },
  {
   "cell_type": "code",
   "execution_count": 17,
   "metadata": {
    "ExecuteTime": {
     "end_time": "2020-08-27T03:16:18.465282Z",
     "start_time": "2020-08-27T03:16:16.035262Z"
    }
   },
   "outputs": [
    {
     "data": {
      "text/plain": [
       "2.4249141216278076"
      ]
     },
     "execution_count": 17,
     "metadata": {},
     "output_type": "execute_result"
    }
   ],
   "source": [
    "ts = time.time()\n",
    "matrix = pd.merge(matrix, shops, on=['shop_id'], how='left')\n",
    "matrix = pd.merge(matrix, items, on=['item_id'], how='left')\n",
    "matrix = pd.merge(matrix, cats, on=['item_category_id'], how='left')\n",
    "matrix['city_code'] = matrix['city_code'].astype(np.int8)\n",
    "matrix['item_category_id'] = matrix['item_category_id'].astype(np.int8)\n",
    "matrix['type_code'] = matrix['type_code'].astype(np.int8)\n",
    "matrix['subtype_code'] = matrix['subtype_code'].astype(np.int8)\n",
    "time.time() - ts"
   ]
  },
  {
   "cell_type": "markdown",
   "metadata": {},
   "source": [
    "### Target lags"
   ]
  },
  {
   "cell_type": "code",
   "execution_count": 18,
   "metadata": {
    "ExecuteTime": {
     "end_time": "2020-08-27T03:16:18.470066Z",
     "start_time": "2020-08-27T03:16:18.466391Z"
    }
   },
   "outputs": [],
   "source": [
    "def lag_feature(df, lags, col):\n",
    "    tmp = df[['date_block_num','shop_id','item_id',col]]\n",
    "    for i in lags:\n",
    "        shifted = tmp.copy()\n",
    "        shifted.columns = ['date_block_num','shop_id','item_id', col+'_lag_'+str(i)]\n",
    "        shifted['date_block_num'] += i\n",
    "        df = pd.merge(df, shifted, on=['date_block_num','shop_id','item_id'], how='left')\n",
    "    return df"
   ]
  },
  {
   "cell_type": "code",
   "execution_count": 19,
   "metadata": {
    "ExecuteTime": {
     "end_time": "2020-08-27T03:16:38.869690Z",
     "start_time": "2020-08-27T03:16:18.471311Z"
    }
   },
   "outputs": [
    {
     "data": {
      "text/plain": [
       "20.39374876022339"
      ]
     },
     "execution_count": 19,
     "metadata": {},
     "output_type": "execute_result"
    }
   ],
   "source": [
    "ts = time.time()\n",
    "matrix = lag_feature(matrix, [1,2,3,6,12], 'item_cnt_month')\n",
    "time.time() - ts"
   ]
  },
  {
   "cell_type": "markdown",
   "metadata": {},
   "source": [
    "### Mean encoded features"
   ]
  },
  {
   "cell_type": "code",
   "execution_count": 20,
   "metadata": {
    "ExecuteTime": {
     "end_time": "2020-08-27T03:16:45.081401Z",
     "start_time": "2020-08-27T03:16:38.870728Z"
    },
    "tags": []
   },
   "outputs": [
    {
     "name": "stdout",
     "output_type": "stream",
     "text": [
      "   date_block_num  shop_id  item_id  item_cnt_month  city_code  \\\n",
      "0               0        2       19             0.0          0   \n",
      "1               0        2       27             1.0          0   \n",
      "2               0        2       28             0.0          0   \n",
      "3               0        2       29             0.0          0   \n",
      "4               0        2       32             0.0          0   \n",
      "\n",
      "   item_category_id  type_code  subtype_code  item_cnt_month_lag_1  \\\n",
      "0                40         11             4                   NaN   \n",
      "1                19          5            10                   NaN   \n",
      "2                30          8            55                   NaN   \n",
      "3                23          5            16                   NaN   \n",
      "4                40         11             4                   NaN   \n",
      "\n",
      "   item_cnt_month_lag_2  item_cnt_month_lag_3  item_cnt_month_lag_6  \\\n",
      "0                   NaN                   NaN                   NaN   \n",
      "1                   NaN                   NaN                   NaN   \n",
      "2                   NaN                   NaN                   NaN   \n",
      "3                   NaN                   NaN                   NaN   \n",
      "4                   NaN                   NaN                   NaN   \n",
      "\n",
      "   item_cnt_month_lag_12  date_avg_item_cnt_lag_1  \n",
      "0                    NaN                      NaN  \n",
      "1                    NaN                      NaN  \n",
      "2                    NaN                      NaN  \n",
      "3                    NaN                      NaN  \n",
      "4                    NaN                      NaN  \n"
     ]
    },
    {
     "data": {
      "text/plain": [
       "26.604565382003784"
      ]
     },
     "execution_count": 20,
     "metadata": {},
     "output_type": "execute_result"
    }
   ],
   "source": [
    "group = matrix.groupby(['date_block_num']).agg({'item_cnt_month': ['mean']})\n",
    "group.columns = [ 'date_avg_item_cnt' ]\n",
    "group.reset_index(inplace=True)\n",
    "\n",
    "matrix = pd.merge(matrix, group, on=['date_block_num'], how='left')\n",
    "matrix['date_avg_item_cnt'] = matrix['date_avg_item_cnt'].astype(np.float16)\n",
    "matrix = lag_feature(matrix, [1], 'date_avg_item_cnt')\n",
    "matrix.drop(['date_avg_item_cnt'], axis=1, inplace=True)\n",
    "print(matrix.head(5))\n",
    "time.time() - ts"
   ]
  },
  {
   "cell_type": "code",
   "execution_count": 21,
   "metadata": {
    "ExecuteTime": {
     "end_time": "2020-08-27T03:17:08.261742Z",
     "start_time": "2020-08-27T03:16:45.082433Z"
    },
    "tags": []
   },
   "outputs": [
    {
     "name": "stdout",
     "output_type": "stream",
     "text": [
      "   date_block_num  shop_id  item_id  item_cnt_month  city_code  \\\n",
      "0               0        2       19             0.0          0   \n",
      "1               0        2       27             1.0          0   \n",
      "2               0        2       28             0.0          0   \n",
      "3               0        2       29             0.0          0   \n",
      "4               0        2       32             0.0          0   \n",
      "\n",
      "   item_category_id  type_code  subtype_code  item_cnt_month_lag_1  \\\n",
      "0                40         11             4                   NaN   \n",
      "1                19          5            10                   NaN   \n",
      "2                30          8            55                   NaN   \n",
      "3                23          5            16                   NaN   \n",
      "4                40         11             4                   NaN   \n",
      "\n",
      "   item_cnt_month_lag_2  item_cnt_month_lag_3  item_cnt_month_lag_6  \\\n",
      "0                   NaN                   NaN                   NaN   \n",
      "1                   NaN                   NaN                   NaN   \n",
      "2                   NaN                   NaN                   NaN   \n",
      "3                   NaN                   NaN                   NaN   \n",
      "4                   NaN                   NaN                   NaN   \n",
      "\n",
      "   item_cnt_month_lag_12  date_avg_item_cnt_lag_1  \\\n",
      "0                    NaN                      NaN   \n",
      "1                    NaN                      NaN   \n",
      "2                    NaN                      NaN   \n",
      "3                    NaN                      NaN   \n",
      "4                    NaN                      NaN   \n",
      "\n",
      "   date_item_avg_item_cnt_lag_1  date_item_avg_item_cnt_lag_2  \\\n",
      "0                           NaN                           NaN   \n",
      "1                           NaN                           NaN   \n",
      "2                           NaN                           NaN   \n",
      "3                           NaN                           NaN   \n",
      "4                           NaN                           NaN   \n",
      "\n",
      "   date_item_avg_item_cnt_lag_3  date_item_avg_item_cnt_lag_6  \\\n",
      "0                           NaN                           NaN   \n",
      "1                           NaN                           NaN   \n",
      "2                           NaN                           NaN   \n",
      "3                           NaN                           NaN   \n",
      "4                           NaN                           NaN   \n",
      "\n",
      "   date_item_avg_item_cnt_lag_12  \n",
      "0                            NaN  \n",
      "1                            NaN  \n",
      "2                            NaN  \n",
      "3                            NaN  \n",
      "4                            NaN  \n"
     ]
    },
    {
     "data": {
      "text/plain": [
       "23.174132108688354"
      ]
     },
     "execution_count": 21,
     "metadata": {},
     "output_type": "execute_result"
    }
   ],
   "source": [
    "ts = time.time()\n",
    "group = matrix.groupby(['date_block_num', 'item_id']).agg({'item_cnt_month': ['mean']})\n",
    "group.columns = [ 'date_item_avg_item_cnt' ]\n",
    "group.reset_index(inplace=True)\n",
    "\n",
    "matrix = pd.merge(matrix, group, on=['date_block_num','item_id'], how='left')\n",
    "matrix['date_item_avg_item_cnt'] = matrix['date_item_avg_item_cnt'].astype(np.float16)\n",
    "matrix = lag_feature(matrix, [1,2,3,6,12], 'date_item_avg_item_cnt')\n",
    "matrix.drop(['date_item_avg_item_cnt'], axis=1, inplace=True)\n",
    "print(matrix.head(5))\n",
    "time.time() - ts"
   ]
  },
  {
   "cell_type": "code",
   "execution_count": 22,
   "metadata": {
    "ExecuteTime": {
     "end_time": "2020-08-27T03:17:32.621038Z",
     "start_time": "2020-08-27T03:17:08.262683Z"
    },
    "tags": []
   },
   "outputs": [
    {
     "name": "stdout",
     "output_type": "stream",
     "text": [
      "   date_block_num  shop_id  item_id  item_cnt_month  city_code  \\\n",
      "0               0        2       19             0.0          0   \n",
      "1               0        2       27             1.0          0   \n",
      "2               0        2       28             0.0          0   \n",
      "3               0        2       29             0.0          0   \n",
      "4               0        2       32             0.0          0   \n",
      "\n",
      "   item_category_id  type_code  subtype_code  item_cnt_month_lag_1  \\\n",
      "0                40         11             4                   NaN   \n",
      "1                19          5            10                   NaN   \n",
      "2                30          8            55                   NaN   \n",
      "3                23          5            16                   NaN   \n",
      "4                40         11             4                   NaN   \n",
      "\n",
      "   item_cnt_month_lag_2  item_cnt_month_lag_3  item_cnt_month_lag_6  \\\n",
      "0                   NaN                   NaN                   NaN   \n",
      "1                   NaN                   NaN                   NaN   \n",
      "2                   NaN                   NaN                   NaN   \n",
      "3                   NaN                   NaN                   NaN   \n",
      "4                   NaN                   NaN                   NaN   \n",
      "\n",
      "   item_cnt_month_lag_12  date_avg_item_cnt_lag_1  \\\n",
      "0                    NaN                      NaN   \n",
      "1                    NaN                      NaN   \n",
      "2                    NaN                      NaN   \n",
      "3                    NaN                      NaN   \n",
      "4                    NaN                      NaN   \n",
      "\n",
      "   date_item_avg_item_cnt_lag_1  date_item_avg_item_cnt_lag_2  \\\n",
      "0                           NaN                           NaN   \n",
      "1                           NaN                           NaN   \n",
      "2                           NaN                           NaN   \n",
      "3                           NaN                           NaN   \n",
      "4                           NaN                           NaN   \n",
      "\n",
      "   date_item_avg_item_cnt_lag_3  date_item_avg_item_cnt_lag_6  \\\n",
      "0                           NaN                           NaN   \n",
      "1                           NaN                           NaN   \n",
      "2                           NaN                           NaN   \n",
      "3                           NaN                           NaN   \n",
      "4                           NaN                           NaN   \n",
      "\n",
      "   date_item_avg_item_cnt_lag_12  date_shop_avg_item_cnt_lag_1  \\\n",
      "0                            NaN                           NaN   \n",
      "1                            NaN                           NaN   \n",
      "2                            NaN                           NaN   \n",
      "3                            NaN                           NaN   \n",
      "4                            NaN                           NaN   \n",
      "\n",
      "   date_shop_avg_item_cnt_lag_2  date_shop_avg_item_cnt_lag_3  \\\n",
      "0                           NaN                           NaN   \n",
      "1                           NaN                           NaN   \n",
      "2                           NaN                           NaN   \n",
      "3                           NaN                           NaN   \n",
      "4                           NaN                           NaN   \n",
      "\n",
      "   date_shop_avg_item_cnt_lag_6  date_shop_avg_item_cnt_lag_12  \n",
      "0                           NaN                            NaN  \n",
      "1                           NaN                            NaN  \n",
      "2                           NaN                            NaN  \n",
      "3                           NaN                            NaN  \n",
      "4                           NaN                            NaN  \n"
     ]
    },
    {
     "data": {
      "text/plain": [
       "24.35334539413452"
      ]
     },
     "execution_count": 22,
     "metadata": {},
     "output_type": "execute_result"
    }
   ],
   "source": [
    "ts = time.time()\n",
    "group = matrix.groupby(['date_block_num', 'shop_id']).agg({'item_cnt_month': ['mean']})\n",
    "group.columns = [ 'date_shop_avg_item_cnt' ]\n",
    "group.reset_index(inplace=True)\n",
    "\n",
    "matrix = pd.merge(matrix, group, on=['date_block_num','shop_id'], how='left')\n",
    "matrix['date_shop_avg_item_cnt'] = matrix['date_shop_avg_item_cnt'].astype(np.float16)\n",
    "matrix = lag_feature(matrix, [1,2,3,6,12], 'date_shop_avg_item_cnt')\n",
    "matrix.drop(['date_shop_avg_item_cnt'], axis=1, inplace=True)\n",
    "print(matrix.head(5))\n",
    "time.time() - ts"
   ]
  },
  {
   "cell_type": "code",
   "execution_count": 23,
   "metadata": {
    "ExecuteTime": {
     "end_time": "2020-08-27T03:17:40.280815Z",
     "start_time": "2020-08-27T03:17:32.623382Z"
    },
    "tags": []
   },
   "outputs": [
    {
     "name": "stdout",
     "output_type": "stream",
     "text": [
      "   date_block_num  shop_id  item_id  item_cnt_month  city_code  \\\n",
      "0               0        2       19             0.0          0   \n",
      "1               0        2       27             1.0          0   \n",
      "2               0        2       28             0.0          0   \n",
      "3               0        2       29             0.0          0   \n",
      "4               0        2       32             0.0          0   \n",
      "\n",
      "   item_category_id  type_code  subtype_code  item_cnt_month_lag_1  \\\n",
      "0                40         11             4                   NaN   \n",
      "1                19          5            10                   NaN   \n",
      "2                30          8            55                   NaN   \n",
      "3                23          5            16                   NaN   \n",
      "4                40         11             4                   NaN   \n",
      "\n",
      "   item_cnt_month_lag_2  item_cnt_month_lag_3  item_cnt_month_lag_6  \\\n",
      "0                   NaN                   NaN                   NaN   \n",
      "1                   NaN                   NaN                   NaN   \n",
      "2                   NaN                   NaN                   NaN   \n",
      "3                   NaN                   NaN                   NaN   \n",
      "4                   NaN                   NaN                   NaN   \n",
      "\n",
      "   item_cnt_month_lag_12  date_avg_item_cnt_lag_1  \\\n",
      "0                    NaN                      NaN   \n",
      "1                    NaN                      NaN   \n",
      "2                    NaN                      NaN   \n",
      "3                    NaN                      NaN   \n",
      "4                    NaN                      NaN   \n",
      "\n",
      "   date_item_avg_item_cnt_lag_1  date_item_avg_item_cnt_lag_2  \\\n",
      "0                           NaN                           NaN   \n",
      "1                           NaN                           NaN   \n",
      "2                           NaN                           NaN   \n",
      "3                           NaN                           NaN   \n",
      "4                           NaN                           NaN   \n",
      "\n",
      "   date_item_avg_item_cnt_lag_3  date_item_avg_item_cnt_lag_6  \\\n",
      "0                           NaN                           NaN   \n",
      "1                           NaN                           NaN   \n",
      "2                           NaN                           NaN   \n",
      "3                           NaN                           NaN   \n",
      "4                           NaN                           NaN   \n",
      "\n",
      "   date_item_avg_item_cnt_lag_12  date_shop_avg_item_cnt_lag_1  \\\n",
      "0                            NaN                           NaN   \n",
      "1                            NaN                           NaN   \n",
      "2                            NaN                           NaN   \n",
      "3                            NaN                           NaN   \n",
      "4                            NaN                           NaN   \n",
      "\n",
      "   date_shop_avg_item_cnt_lag_2  date_shop_avg_item_cnt_lag_3  \\\n",
      "0                           NaN                           NaN   \n",
      "1                           NaN                           NaN   \n",
      "2                           NaN                           NaN   \n",
      "3                           NaN                           NaN   \n",
      "4                           NaN                           NaN   \n",
      "\n",
      "   date_shop_avg_item_cnt_lag_6  date_shop_avg_item_cnt_lag_12  \\\n",
      "0                           NaN                            NaN   \n",
      "1                           NaN                            NaN   \n",
      "2                           NaN                            NaN   \n",
      "3                           NaN                            NaN   \n",
      "4                           NaN                            NaN   \n",
      "\n",
      "   date_cat_avg_item_cnt_lag_1  \n",
      "0                          NaN  \n",
      "1                          NaN  \n",
      "2                          NaN  \n",
      "3                          NaN  \n",
      "4                          NaN  \n"
     ]
    },
    {
     "data": {
      "text/plain": [
       "7.651514291763306"
      ]
     },
     "execution_count": 23,
     "metadata": {},
     "output_type": "execute_result"
    }
   ],
   "source": [
    "ts = time.time()\n",
    "group = matrix.groupby(['date_block_num', 'item_category_id']).agg({'item_cnt_month': ['mean']})\n",
    "group.columns = [ 'date_cat_avg_item_cnt' ]\n",
    "group.reset_index(inplace=True)\n",
    "\n",
    "matrix = pd.merge(matrix, group, on=['date_block_num','item_category_id'], how='left')\n",
    "matrix['date_cat_avg_item_cnt'] = matrix['date_cat_avg_item_cnt'].astype(np.float16)\n",
    "matrix = lag_feature(matrix, [1], 'date_cat_avg_item_cnt')\n",
    "matrix.drop(['date_cat_avg_item_cnt'], axis=1, inplace=True)\n",
    "print(matrix.head(5))\n",
    "time.time() - ts"
   ]
  },
  {
   "cell_type": "code",
   "execution_count": 24,
   "metadata": {
    "ExecuteTime": {
     "end_time": "2020-08-27T03:17:48.235548Z",
     "start_time": "2020-08-27T03:17:40.281960Z"
    },
    "tags": []
   },
   "outputs": [
    {
     "name": "stdout",
     "output_type": "stream",
     "text": [
      "   date_block_num  shop_id  item_id  item_cnt_month  city_code  \\\n",
      "0               0        2       19             0.0          0   \n",
      "1               0        2       27             1.0          0   \n",
      "2               0        2       28             0.0          0   \n",
      "3               0        2       29             0.0          0   \n",
      "4               0        2       32             0.0          0   \n",
      "\n",
      "   item_category_id  type_code  subtype_code  item_cnt_month_lag_1  \\\n",
      "0                40         11             4                   NaN   \n",
      "1                19          5            10                   NaN   \n",
      "2                30          8            55                   NaN   \n",
      "3                23          5            16                   NaN   \n",
      "4                40         11             4                   NaN   \n",
      "\n",
      "   item_cnt_month_lag_2  item_cnt_month_lag_3  item_cnt_month_lag_6  \\\n",
      "0                   NaN                   NaN                   NaN   \n",
      "1                   NaN                   NaN                   NaN   \n",
      "2                   NaN                   NaN                   NaN   \n",
      "3                   NaN                   NaN                   NaN   \n",
      "4                   NaN                   NaN                   NaN   \n",
      "\n",
      "   item_cnt_month_lag_12  date_avg_item_cnt_lag_1  \\\n",
      "0                    NaN                      NaN   \n",
      "1                    NaN                      NaN   \n",
      "2                    NaN                      NaN   \n",
      "3                    NaN                      NaN   \n",
      "4                    NaN                      NaN   \n",
      "\n",
      "   date_item_avg_item_cnt_lag_1  date_item_avg_item_cnt_lag_2  \\\n",
      "0                           NaN                           NaN   \n",
      "1                           NaN                           NaN   \n",
      "2                           NaN                           NaN   \n",
      "3                           NaN                           NaN   \n",
      "4                           NaN                           NaN   \n",
      "\n",
      "   date_item_avg_item_cnt_lag_3  date_item_avg_item_cnt_lag_6  \\\n",
      "0                           NaN                           NaN   \n",
      "1                           NaN                           NaN   \n",
      "2                           NaN                           NaN   \n",
      "3                           NaN                           NaN   \n",
      "4                           NaN                           NaN   \n",
      "\n",
      "   date_item_avg_item_cnt_lag_12  date_shop_avg_item_cnt_lag_1  \\\n",
      "0                            NaN                           NaN   \n",
      "1                            NaN                           NaN   \n",
      "2                            NaN                           NaN   \n",
      "3                            NaN                           NaN   \n",
      "4                            NaN                           NaN   \n",
      "\n",
      "   date_shop_avg_item_cnt_lag_2  date_shop_avg_item_cnt_lag_3  \\\n",
      "0                           NaN                           NaN   \n",
      "1                           NaN                           NaN   \n",
      "2                           NaN                           NaN   \n",
      "3                           NaN                           NaN   \n",
      "4                           NaN                           NaN   \n",
      "\n",
      "   date_shop_avg_item_cnt_lag_6  date_shop_avg_item_cnt_lag_12  \\\n",
      "0                           NaN                            NaN   \n",
      "1                           NaN                            NaN   \n",
      "2                           NaN                            NaN   \n",
      "3                           NaN                            NaN   \n",
      "4                           NaN                            NaN   \n",
      "\n",
      "   date_cat_avg_item_cnt_lag_1  date_shop_cat_avg_item_cnt_lag_1  \n",
      "0                          NaN                               NaN  \n",
      "1                          NaN                               NaN  \n",
      "2                          NaN                               NaN  \n",
      "3                          NaN                               NaN  \n",
      "4                          NaN                               NaN  \n"
     ]
    },
    {
     "data": {
      "text/plain": [
       "7.9485626220703125"
      ]
     },
     "execution_count": 24,
     "metadata": {},
     "output_type": "execute_result"
    }
   ],
   "source": [
    "ts = time.time()\n",
    "group = matrix.groupby(['date_block_num', 'shop_id', 'item_category_id']).agg({'item_cnt_month': ['mean']})\n",
    "group.columns = ['date_shop_cat_avg_item_cnt']\n",
    "group.reset_index(inplace=True)\n",
    "\n",
    "matrix = pd.merge(matrix, group, on=['date_block_num', 'shop_id', 'item_category_id'], how='left')\n",
    "matrix['date_shop_cat_avg_item_cnt'] = matrix['date_shop_cat_avg_item_cnt'].astype(np.float16)\n",
    "matrix = lag_feature(matrix, [1], 'date_shop_cat_avg_item_cnt')\n",
    "matrix.drop(['date_shop_cat_avg_item_cnt'], axis=1, inplace=True)\n",
    "print(matrix.head(5))\n",
    "time.time() - ts"
   ]
  },
  {
   "cell_type": "code",
   "execution_count": 25,
   "metadata": {
    "ExecuteTime": {
     "end_time": "2020-08-27T03:17:56.216120Z",
     "start_time": "2020-08-27T03:17:48.236471Z"
    },
    "tags": []
   },
   "outputs": [
    {
     "name": "stdout",
     "output_type": "stream",
     "text": [
      "   date_block_num  shop_id  item_id  item_cnt_month  city_code  \\\n",
      "0               0        2       19             0.0          0   \n",
      "1               0        2       27             1.0          0   \n",
      "2               0        2       28             0.0          0   \n",
      "3               0        2       29             0.0          0   \n",
      "4               0        2       32             0.0          0   \n",
      "\n",
      "   item_category_id  type_code  subtype_code  item_cnt_month_lag_1  \\\n",
      "0                40         11             4                   NaN   \n",
      "1                19          5            10                   NaN   \n",
      "2                30          8            55                   NaN   \n",
      "3                23          5            16                   NaN   \n",
      "4                40         11             4                   NaN   \n",
      "\n",
      "   item_cnt_month_lag_2  item_cnt_month_lag_3  item_cnt_month_lag_6  \\\n",
      "0                   NaN                   NaN                   NaN   \n",
      "1                   NaN                   NaN                   NaN   \n",
      "2                   NaN                   NaN                   NaN   \n",
      "3                   NaN                   NaN                   NaN   \n",
      "4                   NaN                   NaN                   NaN   \n",
      "\n",
      "   item_cnt_month_lag_12  date_avg_item_cnt_lag_1  \\\n",
      "0                    NaN                      NaN   \n",
      "1                    NaN                      NaN   \n",
      "2                    NaN                      NaN   \n",
      "3                    NaN                      NaN   \n",
      "4                    NaN                      NaN   \n",
      "\n",
      "   date_item_avg_item_cnt_lag_1  date_item_avg_item_cnt_lag_2  \\\n",
      "0                           NaN                           NaN   \n",
      "1                           NaN                           NaN   \n",
      "2                           NaN                           NaN   \n",
      "3                           NaN                           NaN   \n",
      "4                           NaN                           NaN   \n",
      "\n",
      "   date_item_avg_item_cnt_lag_3  date_item_avg_item_cnt_lag_6  \\\n",
      "0                           NaN                           NaN   \n",
      "1                           NaN                           NaN   \n",
      "2                           NaN                           NaN   \n",
      "3                           NaN                           NaN   \n",
      "4                           NaN                           NaN   \n",
      "\n",
      "   date_item_avg_item_cnt_lag_12  date_shop_avg_item_cnt_lag_1  \\\n",
      "0                            NaN                           NaN   \n",
      "1                            NaN                           NaN   \n",
      "2                            NaN                           NaN   \n",
      "3                            NaN                           NaN   \n",
      "4                            NaN                           NaN   \n",
      "\n",
      "   date_shop_avg_item_cnt_lag_2  date_shop_avg_item_cnt_lag_3  \\\n",
      "0                           NaN                           NaN   \n",
      "1                           NaN                           NaN   \n",
      "2                           NaN                           NaN   \n",
      "3                           NaN                           NaN   \n",
      "4                           NaN                           NaN   \n",
      "\n",
      "   date_shop_avg_item_cnt_lag_6  date_shop_avg_item_cnt_lag_12  \\\n",
      "0                           NaN                            NaN   \n",
      "1                           NaN                            NaN   \n",
      "2                           NaN                            NaN   \n",
      "3                           NaN                            NaN   \n",
      "4                           NaN                            NaN   \n",
      "\n",
      "   date_cat_avg_item_cnt_lag_1  date_shop_cat_avg_item_cnt_lag_1  \\\n",
      "0                          NaN                               NaN   \n",
      "1                          NaN                               NaN   \n",
      "2                          NaN                               NaN   \n",
      "3                          NaN                               NaN   \n",
      "4                          NaN                               NaN   \n",
      "\n",
      "   date_shop_type_avg_item_cnt_lag_1  \n",
      "0                                NaN  \n",
      "1                                NaN  \n",
      "2                                NaN  \n",
      "3                                NaN  \n",
      "4                                NaN  \n"
     ]
    },
    {
     "data": {
      "text/plain": [
       "7.974253177642822"
      ]
     },
     "execution_count": 25,
     "metadata": {},
     "output_type": "execute_result"
    }
   ],
   "source": [
    "ts = time.time()\n",
    "group = matrix.groupby(['date_block_num', 'shop_id', 'type_code']).agg({'item_cnt_month': ['mean']})\n",
    "group.columns = ['date_shop_type_avg_item_cnt']\n",
    "group.reset_index(inplace=True)\n",
    "\n",
    "matrix = pd.merge(matrix, group, on=['date_block_num', 'shop_id', 'type_code'], how='left')\n",
    "matrix['date_shop_type_avg_item_cnt'] = matrix['date_shop_type_avg_item_cnt'].astype(np.float16)\n",
    "matrix = lag_feature(matrix, [1], 'date_shop_type_avg_item_cnt')\n",
    "matrix.drop(['date_shop_type_avg_item_cnt'], axis=1, inplace=True)\n",
    "print(matrix.head(5))\n",
    "time.time() - ts"
   ]
  },
  {
   "cell_type": "code",
   "execution_count": 26,
   "metadata": {
    "ExecuteTime": {
     "end_time": "2020-08-27T03:18:04.341781Z",
     "start_time": "2020-08-27T03:17:56.217160Z"
    },
    "tags": []
   },
   "outputs": [
    {
     "name": "stdout",
     "output_type": "stream",
     "text": [
      "   date_block_num  shop_id  item_id  item_cnt_month  city_code  \\\n",
      "0               0        2       19             0.0          0   \n",
      "1               0        2       27             1.0          0   \n",
      "2               0        2       28             0.0          0   \n",
      "3               0        2       29             0.0          0   \n",
      "4               0        2       32             0.0          0   \n",
      "\n",
      "   item_category_id  type_code  subtype_code  item_cnt_month_lag_1  \\\n",
      "0                40         11             4                   NaN   \n",
      "1                19          5            10                   NaN   \n",
      "2                30          8            55                   NaN   \n",
      "3                23          5            16                   NaN   \n",
      "4                40         11             4                   NaN   \n",
      "\n",
      "   item_cnt_month_lag_2  item_cnt_month_lag_3  item_cnt_month_lag_6  \\\n",
      "0                   NaN                   NaN                   NaN   \n",
      "1                   NaN                   NaN                   NaN   \n",
      "2                   NaN                   NaN                   NaN   \n",
      "3                   NaN                   NaN                   NaN   \n",
      "4                   NaN                   NaN                   NaN   \n",
      "\n",
      "   item_cnt_month_lag_12  date_avg_item_cnt_lag_1  \\\n",
      "0                    NaN                      NaN   \n",
      "1                    NaN                      NaN   \n",
      "2                    NaN                      NaN   \n",
      "3                    NaN                      NaN   \n",
      "4                    NaN                      NaN   \n",
      "\n",
      "   date_item_avg_item_cnt_lag_1  date_item_avg_item_cnt_lag_2  \\\n",
      "0                           NaN                           NaN   \n",
      "1                           NaN                           NaN   \n",
      "2                           NaN                           NaN   \n",
      "3                           NaN                           NaN   \n",
      "4                           NaN                           NaN   \n",
      "\n",
      "   date_item_avg_item_cnt_lag_3  date_item_avg_item_cnt_lag_6  \\\n",
      "0                           NaN                           NaN   \n",
      "1                           NaN                           NaN   \n",
      "2                           NaN                           NaN   \n",
      "3                           NaN                           NaN   \n",
      "4                           NaN                           NaN   \n",
      "\n",
      "   date_item_avg_item_cnt_lag_12  date_shop_avg_item_cnt_lag_1  \\\n",
      "0                            NaN                           NaN   \n",
      "1                            NaN                           NaN   \n",
      "2                            NaN                           NaN   \n",
      "3                            NaN                           NaN   \n",
      "4                            NaN                           NaN   \n",
      "\n",
      "   date_shop_avg_item_cnt_lag_2  date_shop_avg_item_cnt_lag_3  \\\n",
      "0                           NaN                           NaN   \n",
      "1                           NaN                           NaN   \n",
      "2                           NaN                           NaN   \n",
      "3                           NaN                           NaN   \n",
      "4                           NaN                           NaN   \n",
      "\n",
      "   date_shop_avg_item_cnt_lag_6  date_shop_avg_item_cnt_lag_12  \\\n",
      "0                           NaN                            NaN   \n",
      "1                           NaN                            NaN   \n",
      "2                           NaN                            NaN   \n",
      "3                           NaN                            NaN   \n",
      "4                           NaN                            NaN   \n",
      "\n",
      "   date_cat_avg_item_cnt_lag_1  date_shop_cat_avg_item_cnt_lag_1  \\\n",
      "0                          NaN                               NaN   \n",
      "1                          NaN                               NaN   \n",
      "2                          NaN                               NaN   \n",
      "3                          NaN                               NaN   \n",
      "4                          NaN                               NaN   \n",
      "\n",
      "   date_shop_type_avg_item_cnt_lag_1  date_shop_subtype_avg_item_cnt_lag_1  \n",
      "0                                NaN                                   NaN  \n",
      "1                                NaN                                   NaN  \n",
      "2                                NaN                                   NaN  \n",
      "3                                NaN                                   NaN  \n",
      "4                                NaN                                   NaN  \n"
     ]
    },
    {
     "data": {
      "text/plain": [
       "8.119440078735352"
      ]
     },
     "execution_count": 26,
     "metadata": {},
     "output_type": "execute_result"
    }
   ],
   "source": [
    "ts = time.time()\n",
    "group = matrix.groupby(['date_block_num', 'shop_id', 'subtype_code']).agg({'item_cnt_month': ['mean']})\n",
    "group.columns = ['date_shop_subtype_avg_item_cnt']\n",
    "group.reset_index(inplace=True)\n",
    "\n",
    "matrix = pd.merge(matrix, group, on=['date_block_num', 'shop_id', 'subtype_code'], how='left')\n",
    "matrix['date_shop_subtype_avg_item_cnt'] = matrix['date_shop_subtype_avg_item_cnt'].astype(np.float16)\n",
    "matrix = lag_feature(matrix, [1], 'date_shop_subtype_avg_item_cnt')\n",
    "matrix.drop(['date_shop_subtype_avg_item_cnt'], axis=1, inplace=True)\n",
    "print(matrix.head(5))\n",
    "time.time() - ts"
   ]
  },
  {
   "cell_type": "code",
   "execution_count": 27,
   "metadata": {
    "ExecuteTime": {
     "end_time": "2020-08-27T03:18:12.566795Z",
     "start_time": "2020-08-27T03:18:04.342832Z"
    },
    "tags": []
   },
   "outputs": [
    {
     "name": "stdout",
     "output_type": "stream",
     "text": [
      "   date_block_num  shop_id  item_id  item_cnt_month  city_code  \\\n",
      "0               0        2       19             0.0          0   \n",
      "1               0        2       27             1.0          0   \n",
      "2               0        2       28             0.0          0   \n",
      "3               0        2       29             0.0          0   \n",
      "4               0        2       32             0.0          0   \n",
      "\n",
      "   item_category_id  type_code  subtype_code  item_cnt_month_lag_1  \\\n",
      "0                40         11             4                   NaN   \n",
      "1                19          5            10                   NaN   \n",
      "2                30          8            55                   NaN   \n",
      "3                23          5            16                   NaN   \n",
      "4                40         11             4                   NaN   \n",
      "\n",
      "   item_cnt_month_lag_2  item_cnt_month_lag_3  item_cnt_month_lag_6  \\\n",
      "0                   NaN                   NaN                   NaN   \n",
      "1                   NaN                   NaN                   NaN   \n",
      "2                   NaN                   NaN                   NaN   \n",
      "3                   NaN                   NaN                   NaN   \n",
      "4                   NaN                   NaN                   NaN   \n",
      "\n",
      "   item_cnt_month_lag_12  date_avg_item_cnt_lag_1  \\\n",
      "0                    NaN                      NaN   \n",
      "1                    NaN                      NaN   \n",
      "2                    NaN                      NaN   \n",
      "3                    NaN                      NaN   \n",
      "4                    NaN                      NaN   \n",
      "\n",
      "   date_item_avg_item_cnt_lag_1  date_item_avg_item_cnt_lag_2  \\\n",
      "0                           NaN                           NaN   \n",
      "1                           NaN                           NaN   \n",
      "2                           NaN                           NaN   \n",
      "3                           NaN                           NaN   \n",
      "4                           NaN                           NaN   \n",
      "\n",
      "   date_item_avg_item_cnt_lag_3  date_item_avg_item_cnt_lag_6  \\\n",
      "0                           NaN                           NaN   \n",
      "1                           NaN                           NaN   \n",
      "2                           NaN                           NaN   \n",
      "3                           NaN                           NaN   \n",
      "4                           NaN                           NaN   \n",
      "\n",
      "   date_item_avg_item_cnt_lag_12  date_shop_avg_item_cnt_lag_1  \\\n",
      "0                            NaN                           NaN   \n",
      "1                            NaN                           NaN   \n",
      "2                            NaN                           NaN   \n",
      "3                            NaN                           NaN   \n",
      "4                            NaN                           NaN   \n",
      "\n",
      "   date_shop_avg_item_cnt_lag_2  date_shop_avg_item_cnt_lag_3  \\\n",
      "0                           NaN                           NaN   \n",
      "1                           NaN                           NaN   \n",
      "2                           NaN                           NaN   \n",
      "3                           NaN                           NaN   \n",
      "4                           NaN                           NaN   \n",
      "\n",
      "   date_shop_avg_item_cnt_lag_6  date_shop_avg_item_cnt_lag_12  \\\n",
      "0                           NaN                            NaN   \n",
      "1                           NaN                            NaN   \n",
      "2                           NaN                            NaN   \n",
      "3                           NaN                            NaN   \n",
      "4                           NaN                            NaN   \n",
      "\n",
      "   date_cat_avg_item_cnt_lag_1  date_shop_cat_avg_item_cnt_lag_1  \\\n",
      "0                          NaN                               NaN   \n",
      "1                          NaN                               NaN   \n",
      "2                          NaN                               NaN   \n",
      "3                          NaN                               NaN   \n",
      "4                          NaN                               NaN   \n",
      "\n",
      "   date_shop_type_avg_item_cnt_lag_1  date_shop_subtype_avg_item_cnt_lag_1  \\\n",
      "0                                NaN                                   NaN   \n",
      "1                                NaN                                   NaN   \n",
      "2                                NaN                                   NaN   \n",
      "3                                NaN                                   NaN   \n",
      "4                                NaN                                   NaN   \n",
      "\n",
      "   date_city_avg_item_cnt_lag_1  \n",
      "0                           NaN  \n",
      "1                           NaN  \n",
      "2                           NaN  \n",
      "3                           NaN  \n",
      "4                           NaN  \n"
     ]
    },
    {
     "data": {
      "text/plain": [
       "8.219192028045654"
      ]
     },
     "execution_count": 27,
     "metadata": {},
     "output_type": "execute_result"
    }
   ],
   "source": [
    "ts = time.time()\n",
    "group = matrix.groupby(['date_block_num', 'city_code']).agg({'item_cnt_month': ['mean']})\n",
    "group.columns = [ 'date_city_avg_item_cnt' ]\n",
    "group.reset_index(inplace=True)\n",
    "\n",
    "matrix = pd.merge(matrix, group, on=['date_block_num', 'city_code'], how='left')\n",
    "matrix['date_city_avg_item_cnt'] = matrix['date_city_avg_item_cnt'].astype(np.float16)\n",
    "matrix = lag_feature(matrix, [1], 'date_city_avg_item_cnt')\n",
    "matrix.drop(['date_city_avg_item_cnt'], axis=1, inplace=True)\n",
    "print(matrix.head(5))\n",
    "time.time() - ts"
   ]
  },
  {
   "cell_type": "code",
   "execution_count": 28,
   "metadata": {
    "ExecuteTime": {
     "end_time": "2020-08-27T03:18:24.917828Z",
     "start_time": "2020-08-27T03:18:12.567729Z"
    },
    "tags": []
   },
   "outputs": [
    {
     "name": "stdout",
     "output_type": "stream",
     "text": [
      "   date_block_num  shop_id  item_id  item_cnt_month  city_code  \\\n",
      "0               0        2       19             0.0          0   \n",
      "1               0        2       27             1.0          0   \n",
      "2               0        2       28             0.0          0   \n",
      "3               0        2       29             0.0          0   \n",
      "4               0        2       32             0.0          0   \n",
      "\n",
      "   item_category_id  type_code  subtype_code  item_cnt_month_lag_1  \\\n",
      "0                40         11             4                   NaN   \n",
      "1                19          5            10                   NaN   \n",
      "2                30          8            55                   NaN   \n",
      "3                23          5            16                   NaN   \n",
      "4                40         11             4                   NaN   \n",
      "\n",
      "   item_cnt_month_lag_2  item_cnt_month_lag_3  item_cnt_month_lag_6  \\\n",
      "0                   NaN                   NaN                   NaN   \n",
      "1                   NaN                   NaN                   NaN   \n",
      "2                   NaN                   NaN                   NaN   \n",
      "3                   NaN                   NaN                   NaN   \n",
      "4                   NaN                   NaN                   NaN   \n",
      "\n",
      "   item_cnt_month_lag_12  date_avg_item_cnt_lag_1  \\\n",
      "0                    NaN                      NaN   \n",
      "1                    NaN                      NaN   \n",
      "2                    NaN                      NaN   \n",
      "3                    NaN                      NaN   \n",
      "4                    NaN                      NaN   \n",
      "\n",
      "   date_item_avg_item_cnt_lag_1  date_item_avg_item_cnt_lag_2  \\\n",
      "0                           NaN                           NaN   \n",
      "1                           NaN                           NaN   \n",
      "2                           NaN                           NaN   \n",
      "3                           NaN                           NaN   \n",
      "4                           NaN                           NaN   \n",
      "\n",
      "   date_item_avg_item_cnt_lag_3  date_item_avg_item_cnt_lag_6  \\\n",
      "0                           NaN                           NaN   \n",
      "1                           NaN                           NaN   \n",
      "2                           NaN                           NaN   \n",
      "3                           NaN                           NaN   \n",
      "4                           NaN                           NaN   \n",
      "\n",
      "   date_item_avg_item_cnt_lag_12  date_shop_avg_item_cnt_lag_1  \\\n",
      "0                            NaN                           NaN   \n",
      "1                            NaN                           NaN   \n",
      "2                            NaN                           NaN   \n",
      "3                            NaN                           NaN   \n",
      "4                            NaN                           NaN   \n",
      "\n",
      "   date_shop_avg_item_cnt_lag_2  date_shop_avg_item_cnt_lag_3  \\\n",
      "0                           NaN                           NaN   \n",
      "1                           NaN                           NaN   \n",
      "2                           NaN                           NaN   \n",
      "3                           NaN                           NaN   \n",
      "4                           NaN                           NaN   \n",
      "\n",
      "   date_shop_avg_item_cnt_lag_6  date_shop_avg_item_cnt_lag_12  \\\n",
      "0                           NaN                            NaN   \n",
      "1                           NaN                            NaN   \n",
      "2                           NaN                            NaN   \n",
      "3                           NaN                            NaN   \n",
      "4                           NaN                            NaN   \n",
      "\n",
      "   date_cat_avg_item_cnt_lag_1  date_shop_cat_avg_item_cnt_lag_1  \\\n",
      "0                          NaN                               NaN   \n",
      "1                          NaN                               NaN   \n",
      "2                          NaN                               NaN   \n",
      "3                          NaN                               NaN   \n",
      "4                          NaN                               NaN   \n",
      "\n",
      "   date_shop_type_avg_item_cnt_lag_1  date_shop_subtype_avg_item_cnt_lag_1  \\\n",
      "0                                NaN                                   NaN   \n",
      "1                                NaN                                   NaN   \n",
      "2                                NaN                                   NaN   \n",
      "3                                NaN                                   NaN   \n",
      "4                                NaN                                   NaN   \n",
      "\n",
      "   date_city_avg_item_cnt_lag_1  date_item_city_avg_item_cnt_lag_1  \n",
      "0                           NaN                                NaN  \n",
      "1                           NaN                                NaN  \n",
      "2                           NaN                                NaN  \n",
      "3                           NaN                                NaN  \n",
      "4                           NaN                                NaN  \n"
     ]
    },
    {
     "data": {
      "text/plain": [
       "12.344514608383179"
      ]
     },
     "execution_count": 28,
     "metadata": {},
     "output_type": "execute_result"
    }
   ],
   "source": [
    "ts = time.time()\n",
    "group = matrix.groupby(['date_block_num', 'item_id', 'city_code']).agg({'item_cnt_month': ['mean']})\n",
    "group.columns = [ 'date_item_city_avg_item_cnt' ]\n",
    "group.reset_index(inplace=True)\n",
    "\n",
    "matrix = pd.merge(matrix, group, on=['date_block_num', 'item_id', 'city_code'], how='left')\n",
    "matrix['date_item_city_avg_item_cnt'] = matrix['date_item_city_avg_item_cnt'].astype(np.float16)\n",
    "matrix = lag_feature(matrix, [1], 'date_item_city_avg_item_cnt')\n",
    "matrix.drop(['date_item_city_avg_item_cnt'], axis=1, inplace=True)\n",
    "print(matrix.head(5))\n",
    "time.time() - ts"
   ]
  },
  {
   "cell_type": "code",
   "execution_count": 29,
   "metadata": {
    "ExecuteTime": {
     "end_time": "2020-08-27T03:18:33.397034Z",
     "start_time": "2020-08-27T03:18:24.918919Z"
    },
    "tags": []
   },
   "outputs": [
    {
     "name": "stdout",
     "output_type": "stream",
     "text": [
      "   date_block_num  shop_id  item_id  item_cnt_month  city_code  \\\n",
      "0               0        2       19             0.0          0   \n",
      "1               0        2       27             1.0          0   \n",
      "2               0        2       28             0.0          0   \n",
      "3               0        2       29             0.0          0   \n",
      "4               0        2       32             0.0          0   \n",
      "\n",
      "   item_category_id  type_code  subtype_code  item_cnt_month_lag_1  \\\n",
      "0                40         11             4                   NaN   \n",
      "1                19          5            10                   NaN   \n",
      "2                30          8            55                   NaN   \n",
      "3                23          5            16                   NaN   \n",
      "4                40         11             4                   NaN   \n",
      "\n",
      "   item_cnt_month_lag_2  item_cnt_month_lag_3  item_cnt_month_lag_6  \\\n",
      "0                   NaN                   NaN                   NaN   \n",
      "1                   NaN                   NaN                   NaN   \n",
      "2                   NaN                   NaN                   NaN   \n",
      "3                   NaN                   NaN                   NaN   \n",
      "4                   NaN                   NaN                   NaN   \n",
      "\n",
      "   item_cnt_month_lag_12  date_avg_item_cnt_lag_1  \\\n",
      "0                    NaN                      NaN   \n",
      "1                    NaN                      NaN   \n",
      "2                    NaN                      NaN   \n",
      "3                    NaN                      NaN   \n",
      "4                    NaN                      NaN   \n",
      "\n",
      "   date_item_avg_item_cnt_lag_1  date_item_avg_item_cnt_lag_2  \\\n",
      "0                           NaN                           NaN   \n",
      "1                           NaN                           NaN   \n",
      "2                           NaN                           NaN   \n",
      "3                           NaN                           NaN   \n",
      "4                           NaN                           NaN   \n",
      "\n",
      "   date_item_avg_item_cnt_lag_3  date_item_avg_item_cnt_lag_6  \\\n",
      "0                           NaN                           NaN   \n",
      "1                           NaN                           NaN   \n",
      "2                           NaN                           NaN   \n",
      "3                           NaN                           NaN   \n",
      "4                           NaN                           NaN   \n",
      "\n",
      "   date_item_avg_item_cnt_lag_12  date_shop_avg_item_cnt_lag_1  \\\n",
      "0                            NaN                           NaN   \n",
      "1                            NaN                           NaN   \n",
      "2                            NaN                           NaN   \n",
      "3                            NaN                           NaN   \n",
      "4                            NaN                           NaN   \n",
      "\n",
      "   date_shop_avg_item_cnt_lag_2  date_shop_avg_item_cnt_lag_3  \\\n",
      "0                           NaN                           NaN   \n",
      "1                           NaN                           NaN   \n",
      "2                           NaN                           NaN   \n",
      "3                           NaN                           NaN   \n",
      "4                           NaN                           NaN   \n",
      "\n",
      "   date_shop_avg_item_cnt_lag_6  date_shop_avg_item_cnt_lag_12  \\\n",
      "0                           NaN                            NaN   \n",
      "1                           NaN                            NaN   \n",
      "2                           NaN                            NaN   \n",
      "3                           NaN                            NaN   \n",
      "4                           NaN                            NaN   \n",
      "\n",
      "   date_cat_avg_item_cnt_lag_1  date_shop_cat_avg_item_cnt_lag_1  \\\n",
      "0                          NaN                               NaN   \n",
      "1                          NaN                               NaN   \n",
      "2                          NaN                               NaN   \n",
      "3                          NaN                               NaN   \n",
      "4                          NaN                               NaN   \n",
      "\n",
      "   date_shop_type_avg_item_cnt_lag_1  date_shop_subtype_avg_item_cnt_lag_1  \\\n",
      "0                                NaN                                   NaN   \n",
      "1                                NaN                                   NaN   \n",
      "2                                NaN                                   NaN   \n",
      "3                                NaN                                   NaN   \n",
      "4                                NaN                                   NaN   \n",
      "\n",
      "   date_city_avg_item_cnt_lag_1  date_item_city_avg_item_cnt_lag_1  \\\n",
      "0                           NaN                                NaN   \n",
      "1                           NaN                                NaN   \n",
      "2                           NaN                                NaN   \n",
      "3                           NaN                                NaN   \n",
      "4                           NaN                                NaN   \n",
      "\n",
      "   date_type_avg_item_cnt_lag_1  \n",
      "0                           NaN  \n",
      "1                           NaN  \n",
      "2                           NaN  \n",
      "3                           NaN  \n",
      "4                           NaN  \n"
     ]
    },
    {
     "data": {
      "text/plain": [
       "8.472869873046875"
      ]
     },
     "execution_count": 29,
     "metadata": {},
     "output_type": "execute_result"
    }
   ],
   "source": [
    "ts = time.time()\n",
    "group = matrix.groupby(['date_block_num', 'type_code']).agg({'item_cnt_month': ['mean']})\n",
    "group.columns = [ 'date_type_avg_item_cnt' ]\n",
    "group.reset_index(inplace=True)\n",
    "\n",
    "matrix = pd.merge(matrix, group, on=['date_block_num', 'type_code'], how='left')\n",
    "matrix['date_type_avg_item_cnt'] = matrix['date_type_avg_item_cnt'].astype(np.float16)\n",
    "matrix = lag_feature(matrix, [1], 'date_type_avg_item_cnt')\n",
    "matrix.drop(['date_type_avg_item_cnt'], axis=1, inplace=True)\n",
    "print(matrix.head(5))\n",
    "time.time() - ts"
   ]
  },
  {
   "cell_type": "code",
   "execution_count": 30,
   "metadata": {
    "ExecuteTime": {
     "end_time": "2020-08-27T03:18:42.013215Z",
     "start_time": "2020-08-27T03:18:33.397990Z"
    },
    "tags": []
   },
   "outputs": [
    {
     "name": "stdout",
     "output_type": "stream",
     "text": [
      "   date_block_num  shop_id  item_id  item_cnt_month  city_code  \\\n",
      "0               0        2       19             0.0          0   \n",
      "1               0        2       27             1.0          0   \n",
      "2               0        2       28             0.0          0   \n",
      "3               0        2       29             0.0          0   \n",
      "4               0        2       32             0.0          0   \n",
      "\n",
      "   item_category_id  type_code  subtype_code  item_cnt_month_lag_1  \\\n",
      "0                40         11             4                   NaN   \n",
      "1                19          5            10                   NaN   \n",
      "2                30          8            55                   NaN   \n",
      "3                23          5            16                   NaN   \n",
      "4                40         11             4                   NaN   \n",
      "\n",
      "   item_cnt_month_lag_2  item_cnt_month_lag_3  item_cnt_month_lag_6  \\\n",
      "0                   NaN                   NaN                   NaN   \n",
      "1                   NaN                   NaN                   NaN   \n",
      "2                   NaN                   NaN                   NaN   \n",
      "3                   NaN                   NaN                   NaN   \n",
      "4                   NaN                   NaN                   NaN   \n",
      "\n",
      "   item_cnt_month_lag_12  date_avg_item_cnt_lag_1  \\\n",
      "0                    NaN                      NaN   \n",
      "1                    NaN                      NaN   \n",
      "2                    NaN                      NaN   \n",
      "3                    NaN                      NaN   \n",
      "4                    NaN                      NaN   \n",
      "\n",
      "   date_item_avg_item_cnt_lag_1  date_item_avg_item_cnt_lag_2  \\\n",
      "0                           NaN                           NaN   \n",
      "1                           NaN                           NaN   \n",
      "2                           NaN                           NaN   \n",
      "3                           NaN                           NaN   \n",
      "4                           NaN                           NaN   \n",
      "\n",
      "   date_item_avg_item_cnt_lag_3  date_item_avg_item_cnt_lag_6  \\\n",
      "0                           NaN                           NaN   \n",
      "1                           NaN                           NaN   \n",
      "2                           NaN                           NaN   \n",
      "3                           NaN                           NaN   \n",
      "4                           NaN                           NaN   \n",
      "\n",
      "   date_item_avg_item_cnt_lag_12  date_shop_avg_item_cnt_lag_1  \\\n",
      "0                            NaN                           NaN   \n",
      "1                            NaN                           NaN   \n",
      "2                            NaN                           NaN   \n",
      "3                            NaN                           NaN   \n",
      "4                            NaN                           NaN   \n",
      "\n",
      "   date_shop_avg_item_cnt_lag_2  date_shop_avg_item_cnt_lag_3  \\\n",
      "0                           NaN                           NaN   \n",
      "1                           NaN                           NaN   \n",
      "2                           NaN                           NaN   \n",
      "3                           NaN                           NaN   \n",
      "4                           NaN                           NaN   \n",
      "\n",
      "   date_shop_avg_item_cnt_lag_6  date_shop_avg_item_cnt_lag_12  \\\n",
      "0                           NaN                            NaN   \n",
      "1                           NaN                            NaN   \n",
      "2                           NaN                            NaN   \n",
      "3                           NaN                            NaN   \n",
      "4                           NaN                            NaN   \n",
      "\n",
      "   date_cat_avg_item_cnt_lag_1  date_shop_cat_avg_item_cnt_lag_1  \\\n",
      "0                          NaN                               NaN   \n",
      "1                          NaN                               NaN   \n",
      "2                          NaN                               NaN   \n",
      "3                          NaN                               NaN   \n",
      "4                          NaN                               NaN   \n",
      "\n",
      "   date_shop_type_avg_item_cnt_lag_1  date_shop_subtype_avg_item_cnt_lag_1  \\\n",
      "0                                NaN                                   NaN   \n",
      "1                                NaN                                   NaN   \n",
      "2                                NaN                                   NaN   \n",
      "3                                NaN                                   NaN   \n",
      "4                                NaN                                   NaN   \n",
      "\n",
      "   date_city_avg_item_cnt_lag_1  date_item_city_avg_item_cnt_lag_1  \\\n",
      "0                           NaN                                NaN   \n",
      "1                           NaN                                NaN   \n",
      "2                           NaN                                NaN   \n",
      "3                           NaN                                NaN   \n",
      "4                           NaN                                NaN   \n",
      "\n",
      "   date_type_avg_item_cnt_lag_1  date_subtype_avg_item_cnt_lag_1  \n",
      "0                           NaN                              NaN  \n",
      "1                           NaN                              NaN  \n",
      "2                           NaN                              NaN  \n",
      "3                           NaN                              NaN  \n",
      "4                           NaN                              NaN  \n"
     ]
    },
    {
     "data": {
      "text/plain": [
       "8.610391616821289"
      ]
     },
     "execution_count": 30,
     "metadata": {},
     "output_type": "execute_result"
    }
   ],
   "source": [
    "ts = time.time()\n",
    "group = matrix.groupby(['date_block_num', 'subtype_code']).agg({'item_cnt_month': ['mean']})\n",
    "group.columns = [ 'date_subtype_avg_item_cnt' ]\n",
    "group.reset_index(inplace=True)\n",
    "\n",
    "matrix = pd.merge(matrix, group, on=['date_block_num', 'subtype_code'], how='left')\n",
    "matrix['date_subtype_avg_item_cnt'] = matrix['date_subtype_avg_item_cnt'].astype(np.float16)\n",
    "matrix = lag_feature(matrix, [1], 'date_subtype_avg_item_cnt')\n",
    "matrix.drop(['date_subtype_avg_item_cnt'], axis=1, inplace=True)\n",
    "print(matrix.head(5))\n",
    "time.time() - ts"
   ]
  },
  {
   "cell_type": "markdown",
   "metadata": {},
   "source": [
    "### Trend features\n",
    "price trend for the last six months"
   ]
  },
  {
   "cell_type": "code",
   "execution_count": 31,
   "metadata": {
    "ExecuteTime": {
     "end_time": "2020-08-27T03:23:12.753627Z",
     "start_time": "2020-08-27T03:18:42.014386Z"
    }
   },
   "outputs": [
    {
     "name": "stdout",
     "output_type": "stream",
     "text": [
      "   date_block_num  shop_id  item_id  item_cnt_month  city_code  \\\n",
      "0               0        2       19             0.0          0   \n",
      "1               0        2       27             1.0          0   \n",
      "2               0        2       28             0.0          0   \n",
      "3               0        2       29             0.0          0   \n",
      "4               0        2       32             0.0          0   \n",
      "\n",
      "   item_category_id  type_code  subtype_code  item_cnt_month_lag_1  \\\n",
      "0                40         11             4                   NaN   \n",
      "1                19          5            10                   NaN   \n",
      "2                30          8            55                   NaN   \n",
      "3                23          5            16                   NaN   \n",
      "4                40         11             4                   NaN   \n",
      "\n",
      "   item_cnt_month_lag_2  item_cnt_month_lag_3  item_cnt_month_lag_6  \\\n",
      "0                   NaN                   NaN                   NaN   \n",
      "1                   NaN                   NaN                   NaN   \n",
      "2                   NaN                   NaN                   NaN   \n",
      "3                   NaN                   NaN                   NaN   \n",
      "4                   NaN                   NaN                   NaN   \n",
      "\n",
      "   item_cnt_month_lag_12  date_avg_item_cnt_lag_1  \\\n",
      "0                    NaN                      NaN   \n",
      "1                    NaN                      NaN   \n",
      "2                    NaN                      NaN   \n",
      "3                    NaN                      NaN   \n",
      "4                    NaN                      NaN   \n",
      "\n",
      "   date_item_avg_item_cnt_lag_1  date_item_avg_item_cnt_lag_2  \\\n",
      "0                           NaN                           NaN   \n",
      "1                           NaN                           NaN   \n",
      "2                           NaN                           NaN   \n",
      "3                           NaN                           NaN   \n",
      "4                           NaN                           NaN   \n",
      "\n",
      "   date_item_avg_item_cnt_lag_3  date_item_avg_item_cnt_lag_6  \\\n",
      "0                           NaN                           NaN   \n",
      "1                           NaN                           NaN   \n",
      "2                           NaN                           NaN   \n",
      "3                           NaN                           NaN   \n",
      "4                           NaN                           NaN   \n",
      "\n",
      "   date_item_avg_item_cnt_lag_12  date_shop_avg_item_cnt_lag_1  \\\n",
      "0                            NaN                           NaN   \n",
      "1                            NaN                           NaN   \n",
      "2                            NaN                           NaN   \n",
      "3                            NaN                           NaN   \n",
      "4                            NaN                           NaN   \n",
      "\n",
      "   date_shop_avg_item_cnt_lag_2  date_shop_avg_item_cnt_lag_3  \\\n",
      "0                           NaN                           NaN   \n",
      "1                           NaN                           NaN   \n",
      "2                           NaN                           NaN   \n",
      "3                           NaN                           NaN   \n",
      "4                           NaN                           NaN   \n",
      "\n",
      "   date_shop_avg_item_cnt_lag_6  date_shop_avg_item_cnt_lag_12  \\\n",
      "0                           NaN                            NaN   \n",
      "1                           NaN                            NaN   \n",
      "2                           NaN                            NaN   \n",
      "3                           NaN                            NaN   \n",
      "4                           NaN                            NaN   \n",
      "\n",
      "   date_cat_avg_item_cnt_lag_1  date_shop_cat_avg_item_cnt_lag_1  \\\n",
      "0                          NaN                               NaN   \n",
      "1                          NaN                               NaN   \n",
      "2                          NaN                               NaN   \n",
      "3                          NaN                               NaN   \n",
      "4                          NaN                               NaN   \n",
      "\n",
      "   date_shop_type_avg_item_cnt_lag_1  date_shop_subtype_avg_item_cnt_lag_1  \\\n",
      "0                                NaN                                   NaN   \n",
      "1                                NaN                                   NaN   \n",
      "2                                NaN                                   NaN   \n",
      "3                                NaN                                   NaN   \n",
      "4                                NaN                                   NaN   \n",
      "\n",
      "   date_city_avg_item_cnt_lag_1  date_item_city_avg_item_cnt_lag_1  \\\n",
      "0                           NaN                                NaN   \n",
      "1                           NaN                                NaN   \n",
      "2                           NaN                                NaN   \n",
      "3                           NaN                                NaN   \n",
      "4                           NaN                                NaN   \n",
      "\n",
      "   date_type_avg_item_cnt_lag_1  date_subtype_avg_item_cnt_lag_1  \\\n",
      "0                           NaN                              NaN   \n",
      "1                           NaN                              NaN   \n",
      "2                           NaN                              NaN   \n",
      "3                           NaN                              NaN   \n",
      "4                           NaN                              NaN   \n",
      "\n",
      "   delta_price_lag  \n",
      "0              0.0  \n",
      "1              0.0  \n",
      "2              0.0  \n",
      "3              0.0  \n",
      "4              0.0  \n"
     ]
    },
    {
     "data": {
      "text/plain": [
       "270.7301206588745"
      ]
     },
     "execution_count": 31,
     "metadata": {},
     "output_type": "execute_result"
    }
   ],
   "source": [
    "ts = time.time()\n",
    "group = train.groupby(['item_id']).agg({'item_price': ['mean']})\n",
    "group.columns = ['item_avg_item_price']\n",
    "group.reset_index(inplace=True)\n",
    "\n",
    "matrix = pd.merge(matrix, group, on=['item_id'], how='left')\n",
    "matrix['item_avg_item_price'] = matrix['item_avg_item_price'].astype(np.float16)\n",
    "\n",
    "group = train.groupby(['date_block_num','item_id']).agg({'item_price': ['mean']})\n",
    "group.columns = ['date_item_avg_item_price']\n",
    "group.reset_index(inplace=True)\n",
    "\n",
    "matrix = pd.merge(matrix, group, on=['date_block_num','item_id'], how='left')\n",
    "matrix['date_item_avg_item_price'] = matrix['date_item_avg_item_price'].astype(np.float16)\n",
    "\n",
    "lags = [1,2,3,4,5,6]\n",
    "matrix = lag_feature(matrix, lags, 'date_item_avg_item_price')\n",
    "for i in lags:\n",
    "    matrix['delta_price_lag_'+str(i)] = \\\n",
    "        (matrix['date_item_avg_item_price_lag_'+str(i)] - matrix['item_avg_item_price']) / matrix['item_avg_item_price']\n",
    "\n",
    "def select_trend(row):\n",
    "    for i in lags:\n",
    "        if row['delta_price_lag_'+str(i)]:\n",
    "            return row['delta_price_lag_'+str(i)]\n",
    "    return 0\n",
    "    \n",
    "matrix['delta_price_lag'] = matrix.apply(select_trend, axis=1)\n",
    "matrix['delta_price_lag'] = matrix['delta_price_lag'].astype(np.float16)\n",
    "matrix['delta_price_lag'].fillna(0, inplace=True)\n",
    "\n",
    "# https://stackoverflow.com/questions/31828240/first-non-null-value-per-row-from-a-list-of-pandas-columns/31828559\n",
    "# matrix['price_trend'] = matrix[['delta_price_lag_1','delta_price_lag_2','delta_price_lag_3']].bfill(axis=1).iloc[:, 0]\n",
    "# Invalid dtype for backfill_2d [float16]\n",
    "\n",
    "fetures_to_drop = ['item_avg_item_price', 'date_item_avg_item_price']\n",
    "for i in lags:\n",
    "    fetures_to_drop += ['date_item_avg_item_price_lag_'+str(i)]\n",
    "    fetures_to_drop += ['delta_price_lag_'+str(i)]\n",
    "\n",
    "matrix.drop(fetures_to_drop, axis=1, inplace=True)\n",
    "print(matrix.head(5))\n",
    "time.time() - ts"
   ]
  },
  {
   "cell_type": "markdown",
   "metadata": {},
   "source": [
    "Last month shop revenue trend"
   ]
  },
  {
   "cell_type": "code",
   "execution_count": 32,
   "metadata": {
    "ExecuteTime": {
     "end_time": "2020-08-27T03:23:22.732433Z",
     "start_time": "2020-08-27T03:23:12.754707Z"
    }
   },
   "outputs": [
    {
     "name": "stdout",
     "output_type": "stream",
     "text": [
      "   date_block_num  shop_id  item_id  item_cnt_month  city_code  \\\n",
      "0               0        2       19             0.0          0   \n",
      "1               0        2       27             1.0          0   \n",
      "2               0        2       28             0.0          0   \n",
      "3               0        2       29             0.0          0   \n",
      "4               0        2       32             0.0          0   \n",
      "\n",
      "   item_category_id  type_code  subtype_code  item_cnt_month_lag_1  \\\n",
      "0                40         11             4                   NaN   \n",
      "1                19          5            10                   NaN   \n",
      "2                30          8            55                   NaN   \n",
      "3                23          5            16                   NaN   \n",
      "4                40         11             4                   NaN   \n",
      "\n",
      "   item_cnt_month_lag_2  item_cnt_month_lag_3  item_cnt_month_lag_6  \\\n",
      "0                   NaN                   NaN                   NaN   \n",
      "1                   NaN                   NaN                   NaN   \n",
      "2                   NaN                   NaN                   NaN   \n",
      "3                   NaN                   NaN                   NaN   \n",
      "4                   NaN                   NaN                   NaN   \n",
      "\n",
      "   item_cnt_month_lag_12  date_avg_item_cnt_lag_1  \\\n",
      "0                    NaN                      NaN   \n",
      "1                    NaN                      NaN   \n",
      "2                    NaN                      NaN   \n",
      "3                    NaN                      NaN   \n",
      "4                    NaN                      NaN   \n",
      "\n",
      "   date_item_avg_item_cnt_lag_1  date_item_avg_item_cnt_lag_2  \\\n",
      "0                           NaN                           NaN   \n",
      "1                           NaN                           NaN   \n",
      "2                           NaN                           NaN   \n",
      "3                           NaN                           NaN   \n",
      "4                           NaN                           NaN   \n",
      "\n",
      "   date_item_avg_item_cnt_lag_3  date_item_avg_item_cnt_lag_6  \\\n",
      "0                           NaN                           NaN   \n",
      "1                           NaN                           NaN   \n",
      "2                           NaN                           NaN   \n",
      "3                           NaN                           NaN   \n",
      "4                           NaN                           NaN   \n",
      "\n",
      "   date_item_avg_item_cnt_lag_12  date_shop_avg_item_cnt_lag_1  \\\n",
      "0                            NaN                           NaN   \n",
      "1                            NaN                           NaN   \n",
      "2                            NaN                           NaN   \n",
      "3                            NaN                           NaN   \n",
      "4                            NaN                           NaN   \n",
      "\n",
      "   date_shop_avg_item_cnt_lag_2  date_shop_avg_item_cnt_lag_3  \\\n",
      "0                           NaN                           NaN   \n",
      "1                           NaN                           NaN   \n",
      "2                           NaN                           NaN   \n",
      "3                           NaN                           NaN   \n",
      "4                           NaN                           NaN   \n",
      "\n",
      "   date_shop_avg_item_cnt_lag_6  date_shop_avg_item_cnt_lag_12  \\\n",
      "0                           NaN                            NaN   \n",
      "1                           NaN                            NaN   \n",
      "2                           NaN                            NaN   \n",
      "3                           NaN                            NaN   \n",
      "4                           NaN                            NaN   \n",
      "\n",
      "   date_cat_avg_item_cnt_lag_1  date_shop_cat_avg_item_cnt_lag_1  \\\n",
      "0                          NaN                               NaN   \n",
      "1                          NaN                               NaN   \n",
      "2                          NaN                               NaN   \n",
      "3                          NaN                               NaN   \n",
      "4                          NaN                               NaN   \n",
      "\n",
      "   date_shop_type_avg_item_cnt_lag_1  date_shop_subtype_avg_item_cnt_lag_1  \\\n",
      "0                                NaN                                   NaN   \n",
      "1                                NaN                                   NaN   \n",
      "2                                NaN                                   NaN   \n",
      "3                                NaN                                   NaN   \n",
      "4                                NaN                                   NaN   \n",
      "\n",
      "   date_city_avg_item_cnt_lag_1  date_item_city_avg_item_cnt_lag_1  \\\n",
      "0                           NaN                                NaN   \n",
      "1                           NaN                                NaN   \n",
      "2                           NaN                                NaN   \n",
      "3                           NaN                                NaN   \n",
      "4                           NaN                                NaN   \n",
      "\n",
      "   date_type_avg_item_cnt_lag_1  date_subtype_avg_item_cnt_lag_1  \\\n",
      "0                           NaN                              NaN   \n",
      "1                           NaN                              NaN   \n",
      "2                           NaN                              NaN   \n",
      "3                           NaN                              NaN   \n",
      "4                           NaN                              NaN   \n",
      "\n",
      "   delta_price_lag  delta_revenue_lag_1  \n",
      "0              0.0                  NaN  \n",
      "1              0.0                  NaN  \n",
      "2              0.0                  NaN  \n",
      "3              0.0                  NaN  \n",
      "4              0.0                  NaN  \n"
     ]
    },
    {
     "data": {
      "text/plain": [
       "280.70893383026123"
      ]
     },
     "execution_count": 32,
     "metadata": {},
     "output_type": "execute_result"
    }
   ],
   "source": [
    "group = train.groupby(['date_block_num','shop_id']).agg({'revenue': ['sum']})\n",
    "group.columns = ['date_shop_revenue']\n",
    "group.reset_index(inplace=True)\n",
    "\n",
    "matrix = pd.merge(matrix, group, on=['date_block_num','shop_id'], how='left')\n",
    "matrix['date_shop_revenue'] = matrix['date_shop_revenue'].astype(np.float32)\n",
    "\n",
    "group = group.groupby(['shop_id']).agg({'date_shop_revenue': ['mean']})\n",
    "group.columns = ['shop_avg_revenue']\n",
    "group.reset_index(inplace=True)\n",
    "\n",
    "matrix = pd.merge(matrix, group, on=['shop_id'], how='left')\n",
    "matrix['shop_avg_revenue'] = matrix['shop_avg_revenue'].astype(np.float32)\n",
    "\n",
    "matrix['delta_revenue'] = (matrix['date_shop_revenue'] - matrix['shop_avg_revenue']) / matrix['shop_avg_revenue']\n",
    "matrix['delta_revenue'] = matrix['delta_revenue'].astype(np.float16)\n",
    "\n",
    "matrix = lag_feature(matrix, [1], 'delta_revenue')\n",
    "\n",
    "matrix.drop(['date_shop_revenue','shop_avg_revenue','delta_revenue'], axis=1, inplace=True)\n",
    "print(matrix.head(5))\n",
    "time.time() - ts"
   ]
  },
  {
   "cell_type": "markdown",
   "metadata": {},
   "source": [
    "### Special features"
   ]
  },
  {
   "cell_type": "code",
   "execution_count": 33,
   "metadata": {
    "ExecuteTime": {
     "end_time": "2020-08-27T03:23:22.766939Z",
     "start_time": "2020-08-27T03:23:22.733655Z"
    }
   },
   "outputs": [],
   "source": [
    "matrix['month'] = matrix['date_block_num'] % 12"
   ]
  },
  {
   "cell_type": "markdown",
   "metadata": {},
   "source": [
    "Number of days in a month. There are no leap years."
   ]
  },
  {
   "cell_type": "code",
   "execution_count": 34,
   "metadata": {
    "ExecuteTime": {
     "end_time": "2020-08-27T03:23:22.889869Z",
     "start_time": "2020-08-27T03:23:22.768071Z"
    }
   },
   "outputs": [],
   "source": [
    "days = pd.Series([31,28,31,30,31,30,31,31,30,31,30,31])\n",
    "matrix['days'] = matrix['month'].map(days).astype(np.int8)"
   ]
  },
  {
   "cell_type": "markdown",
   "metadata": {},
   "source": [
    "Months since the last sale for each shop/item pair and for item only. I use programing approach.\n",
    "\n",
    "Create HashTable with key equals to {shop_id,item_id} and value equals to date_block_num. Iterate data from the top. Foreach row if {row.shop_id,row.item_id} is not present in the table, then add it to the table and set its value to row.date_block_num. if HashTable contains key, then calculate the difference beteween cached value and row.date_block_num."
   ]
  },
  {
   "cell_type": "code",
   "execution_count": null,
   "metadata": {
    "ExecuteTime": {
     "start_time": "2020-08-27T03:15:58.474Z"
    }
   },
   "outputs": [],
   "source": [
    "ts = time.time()\n",
    "cache = {}\n",
    "matrix['item_shop_last_sale'] = -1\n",
    "matrix['item_shop_last_sale'] = matrix['item_shop_last_sale'].astype(np.int8)\n",
    "for idx, row in matrix.iterrows():    \n",
    "    key = str(row.item_id)+' '+str(row.shop_id)\n",
    "    if key not in cache:\n",
    "        if row.item_cnt_month!=0:\n",
    "            cache[key] = row.date_block_num\n",
    "    else:\n",
    "        last_date_block_num = cache[key]\n",
    "        matrix.at[idx, 'item_shop_last_sale'] = row.date_block_num - last_date_block_num\n",
    "        cache[key] = row.date_block_num         \n",
    "time.time() - ts"
   ]
  },
  {
   "cell_type": "code",
   "execution_count": null,
   "metadata": {
    "ExecuteTime": {
     "start_time": "2020-08-27T03:15:58.476Z"
    }
   },
   "outputs": [],
   "source": [
    "ts = time.time()\n",
    "cache = {}\n",
    "matrix['item_last_sale'] = -1\n",
    "matrix['item_last_sale'] = matrix['item_last_sale'].astype(np.int8)\n",
    "for idx, row in matrix.iterrows():    \n",
    "    key = row.item_id\n",
    "    if key not in cache:\n",
    "        if row.item_cnt_month!=0:\n",
    "            cache[key] = row.date_block_num\n",
    "    else:\n",
    "        last_date_block_num = cache[key]\n",
    "        if row.date_block_num>last_date_block_num:\n",
    "            matrix.at[idx, 'item_last_sale'] = row.date_block_num - last_date_block_num\n",
    "            cache[key] = row.date_block_num         \n",
    "time.time() - ts"
   ]
  },
  {
   "cell_type": "markdown",
   "metadata": {},
   "source": [
    "Months since the first sale for each shop/item pair and for item only."
   ]
  },
  {
   "cell_type": "code",
   "execution_count": null,
   "metadata": {
    "ExecuteTime": {
     "start_time": "2020-08-27T03:16:47.583Z"
    }
   },
   "outputs": [],
   "source": [
    "ts = time.time()\n",
    "matrix['item_shop_first_sale'] = matrix['date_block_num'] - matrix.groupby(['item_id','shop_id'])['date_block_num'].transform('min')\n",
    "matrix['item_first_sale'] = matrix['date_block_num'] - matrix.groupby('item_id')['date_block_num'].transform('min')\n",
    "time.time() - ts"
   ]
  },
  {
   "cell_type": "markdown",
   "metadata": {},
   "source": [
    "Because of the using 12 as lag value drop first 12 months. Also drop all the columns with this month calculated values (other words which can not be calcucated for the test set)."
   ]
  },
  {
   "cell_type": "code",
   "execution_count": null,
   "metadata": {
    "ExecuteTime": {
     "start_time": "2020-08-27T03:22:07.330Z"
    }
   },
   "outputs": [],
   "source": [
    "ts = time.time()\n",
    "matrix = matrix[matrix.date_block_num > 11]\n",
    "time.time() - ts"
   ]
  },
  {
   "cell_type": "markdown",
   "metadata": {},
   "source": [
    "Producing lags brings a lot of nulls."
   ]
  },
  {
   "cell_type": "code",
   "execution_count": null,
   "metadata": {
    "ExecuteTime": {
     "start_time": "2020-08-27T03:24:20.603Z"
    }
   },
   "outputs": [],
   "source": [
    "ts = time.time()\n",
    "def fill_na(df):\n",
    "    for col in df.columns:\n",
    "        if ('_lag_' in col) & (df[col].isnull().any()):\n",
    "            if ('item_cnt' in col):\n",
    "                df[col].fillna(0, inplace=True)         \n",
    "    return df\n",
    "\n",
    "matrix = fill_na(matrix)\n",
    "time.time() - ts"
   ]
  },
  {
   "cell_type": "code",
   "execution_count": null,
   "metadata": {
    "ExecuteTime": {
     "start_time": "2020-08-27T03:24:20.865Z"
    }
   },
   "outputs": [],
   "source": [
    "matrix.columns"
   ]
  },
  {
   "cell_type": "code",
   "execution_count": null,
   "metadata": {
    "ExecuteTime": {
     "start_time": "2020-08-27T03:24:21.134Z"
    }
   },
   "outputs": [],
   "source": [
    "matrix.info()"
   ]
  },
  {
   "cell_type": "code",
   "execution_count": null,
   "metadata": {
    "ExecuteTime": {
     "start_time": "2020-08-27T03:24:21.544Z"
    }
   },
   "outputs": [],
   "source": [
    "matrix.to_pickle('data.pkl')\n",
    "del matrix\n",
    "del cache\n",
    "del group\n",
    "del items\n",
    "del shops\n",
    "del cats\n",
    "del train\n",
    "# leave test for submission\n",
    "gc.collect();"
   ]
  },
  {
   "cell_type": "markdown",
   "metadata": {},
   "source": [
    "# xgboost"
   ]
  },
  {
   "cell_type": "code",
   "execution_count": null,
   "metadata": {
    "ExecuteTime": {
     "start_time": "2020-08-27T03:24:22.877Z"
    }
   },
   "outputs": [],
   "source": [
    "data = pd.read_pickle('data.pkl')"
   ]
  },
  {
   "cell_type": "markdown",
   "metadata": {},
   "source": [
    "위에서 만든 feature 들"
   ]
  },
  {
   "cell_type": "code",
   "execution_count": null,
   "metadata": {
    "ExecuteTime": {
     "start_time": "2020-08-27T03:24:23.578Z"
    }
   },
   "outputs": [],
   "source": [
    "data = data[[\n",
    "    'date_block_num',\n",
    "    'shop_id',\n",
    "    'item_id',\n",
    "    'item_cnt_month',\n",
    "    'city_code',\n",
    "    'item_category_id',\n",
    "    'type_code',\n",
    "    'subtype_code',\n",
    "    'item_cnt_month_lag_1',\n",
    "    'item_cnt_month_lag_2',\n",
    "    'item_cnt_month_lag_3',\n",
    "    'item_cnt_month_lag_6',\n",
    "    'item_cnt_month_lag_12',\n",
    "    'date_avg_item_cnt_lag_1',\n",
    "    'date_item_avg_item_cnt_lag_1',\n",
    "    'date_item_avg_item_cnt_lag_2',\n",
    "    'date_item_avg_item_cnt_lag_3',\n",
    "    'date_item_avg_item_cnt_lag_6',\n",
    "    'date_item_avg_item_cnt_lag_12',\n",
    "    'date_shop_avg_item_cnt_lag_1',\n",
    "    'date_shop_avg_item_cnt_lag_2',\n",
    "    'date_shop_avg_item_cnt_lag_3',\n",
    "    'date_shop_avg_item_cnt_lag_6',\n",
    "    'date_shop_avg_item_cnt_lag_12',\n",
    "    'date_cat_avg_item_cnt_lag_1',\n",
    "    'date_shop_cat_avg_item_cnt_lag_1',\n",
    "    #'date_shop_type_avg_item_cnt_lag_1',\n",
    "    #'date_shop_subtype_avg_item_cnt_lag_1',\n",
    "    'date_city_avg_item_cnt_lag_1',\n",
    "    'date_item_city_avg_item_cnt_lag_1',\n",
    "    #'date_type_avg_item_cnt_lag_1',\n",
    "    #'date_subtype_avg_item_cnt_lag_1',\n",
    "    'delta_price_lag',\n",
    "    'month',\n",
    "    'days',\n",
    "    'item_shop_last_sale',\n",
    "    'item_last_sale',\n",
    "    'item_shop_first_sale',\n",
    "    'item_first_sale',\n",
    "]]"
   ]
  },
  {
   "cell_type": "markdown",
   "metadata": {},
   "source": [
    "Validation strategy is 34 month for the test set,   \n",
    "33 month for the validation set and 13-33 months for the train."
   ]
  },
  {
   "cell_type": "code",
   "execution_count": null,
   "metadata": {
    "ExecuteTime": {
     "start_time": "2020-08-27T03:24:24.530Z"
    }
   },
   "outputs": [],
   "source": [
    "Y_train = data[data.date_block_num < 33]['item_cnt_month']\n",
    "X_valid = data[data.date_block_num == 33].drop(['item_cnt_month'], axis=1)\n",
    "Y_valid = data[data.date_block_num == 33]['item_cnt_month']\n",
    "X_test = data[data.date_block_num == 34].drop(['item_cnt_month'], axis=1)"
   ]
  },
  {
   "cell_type": "code",
   "execution_count": null,
   "metadata": {
    "ExecuteTime": {
     "start_time": "2020-08-27T03:24:34.056Z"
    }
   },
   "outputs": [],
   "source": [
    "del data\n",
    "gc.collect();"
   ]
  },
  {
   "cell_type": "code",
   "execution_count": null,
   "metadata": {
    "ExecuteTime": {
     "start_time": "2020-08-27T03:24:38.058Z"
    }
   },
   "outputs": [],
   "source": [
    "ts = time.time()\n",
    "\n",
    "model = XGBRegressor(\n",
    "    max_depth=8,\n",
    "    n_estimators=1000,\n",
    "    min_child_weight=300, \n",
    "    colsample_bytree=0.8, \n",
    "    subsample=0.8, \n",
    "    eta=0.3,    \n",
    "    seed=42)\n",
    "\n",
    "model.fit(\n",
    "    X_train, \n",
    "    Y_train, \n",
    "    eval_metric=\"rmse\", \n",
    "    eval_set=[(X_train, Y_train), (X_valid, Y_valid)], \n",
    "    verbose=True, \n",
    "    early_stopping_rounds = 10)\n",
    "\n",
    "time.time() - ts"
   ]
  },
  {
   "cell_type": "code",
   "execution_count": null,
   "metadata": {
    "ExecuteTime": {
     "start_time": "2020-08-27T03:24:44.745Z"
    }
   },
   "outputs": [],
   "source": [
    "Y_pred = model.predict(X_valid).clip(0, 20)\n",
    "Y_test = model.predict(X_test).clip(0, 20)\n",
    "\n",
    "submission = pd.DataFrame({\n",
    "    \"ID\": test.index, \n",
    "    \"item_cnt_month\": Y_test\n",
    "})\n",
    "submission.to_csv('xgb_submission.csv', index=False)\n",
    "\n",
    "# save predictions for an ensemble\n",
    "pickle.dump(Y_pred, open('xgb_train.pickle', 'wb'))\n",
    "pickle.dump(Y_test, open('xgb_test.pickle', 'wb'))"
   ]
  },
  {
   "cell_type": "code",
   "execution_count": null,
   "metadata": {
    "ExecuteTime": {
     "start_time": "2020-08-27T03:24:48.244Z"
    }
   },
   "outputs": [],
   "source": [
    "plot_features(model, (10,14))"
   ]
  },
  {
   "cell_type": "code",
   "execution_count": null,
   "metadata": {},
   "outputs": [],
   "source": []
  }
 ],
 "metadata": {
  "kernelspec": {
   "display_name": "aiffel",
   "language": "python",
   "name": "aiffel"
  },
  "language_info": {
   "codemirror_mode": {
    "name": "ipython",
    "version": 3
   },
   "file_extension": ".py",
   "mimetype": "text/x-python",
   "name": "python",
   "nbconvert_exporter": "python",
   "pygments_lexer": "ipython3",
   "version": "3.7.7"
  },
  "toc": {
   "base_numbering": 1,
   "nav_menu": {},
   "number_sections": true,
   "sideBar": true,
   "skip_h1_title": false,
   "title_cell": "Table of Contents",
   "title_sidebar": "Contents",
   "toc_cell": false,
   "toc_position": {},
   "toc_section_display": true,
   "toc_window_display": false
  }
 },
 "nbformat": 4,
 "nbformat_minor": 2
}
